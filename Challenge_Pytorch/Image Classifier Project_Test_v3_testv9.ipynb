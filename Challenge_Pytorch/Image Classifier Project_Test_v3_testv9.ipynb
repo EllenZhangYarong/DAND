{
 "cells": [
  {
   "cell_type": "code",
   "execution_count": 1,
   "metadata": {},
   "outputs": [],
   "source": [
    "# Imports here\n",
    "\n",
    "%matplotlib inline\n",
    "%config InlineBackend.figure_format = 'retina'\n",
    "\n",
    "import matplotlib.pyplot as plt\n",
    "\n",
    "import torch\n",
    "from torchvision import datasets, transforms, models\n",
    "from torch.utils.data.dataset import Dataset\n",
    "from torch.utils.data.sampler import SubsetRandomSampler\n",
    "import torch.nn as nn\n",
    "import torch.nn.functional as F\n",
    "\n",
    "import numpy as np\n",
    "import pandas as pd\n",
    "from PIL import Image\n",
    "import glob\n",
    "import os\n",
    "import time"
   ]
  },
  {
   "cell_type": "code",
   "execution_count": 2,
   "metadata": {},
   "outputs": [],
   "source": [
    "data_dir = 'flower_data'\n",
    "valid_dir = data_dir + '/test/'"
   ]
  },
  {
   "cell_type": "code",
   "execution_count": 3,
   "metadata": {},
   "outputs": [],
   "source": [
    "import json\n",
    "\n",
    "with open('cat_to_name.json', 'r') as f:\n",
    "    cat_to_name = json.load(f)"
   ]
  },
  {
   "cell_type": "code",
   "execution_count": 4,
   "metadata": {},
   "outputs": [
    {
     "name": "stdout",
     "output_type": "stream",
     "text": [
      "CUDA is available!  Training on GPU ...\n"
     ]
    }
   ],
   "source": [
    "# check if CUDA is available\n",
    "train_on_gpu = torch.cuda.is_available()\n",
    "\n",
    "if not train_on_gpu:\n",
    "    print('CUDA is not available.  Training on CPU ...')\n",
    "else:\n",
    "    print('CUDA is available!  Training on GPU ...')"
   ]
  },
  {
   "cell_type": "markdown",
   "metadata": {},
   "source": [
    "## Loading the checkpoint\n",
    "\n",
    "At this point it's good to write a function that can load a checkpoint and rebuild the model. That way you can come back to this project and keep working on it without having to retrain the network."
   ]
  },
  {
   "cell_type": "code",
   "execution_count": 5,
   "metadata": {},
   "outputs": [],
   "source": [
    "def load_checkpoint(model,filename):\n",
    "    if os.path.isfile(filename):\n",
    "        print(\"=> loading model '{}'\".format(filename))\n",
    "        model.load_state_dict(torch.load(filename))\n",
    "        print(\"=> loaded model from '{}'\".format(filename))\n",
    "    else:\n",
    "        print(\"=> no model found at '{}'\".format(filename))\n",
    "\n",
    "    return model"
   ]
  },
  {
   "cell_type": "code",
   "execution_count": null,
   "metadata": {},
   "outputs": [],
   "source": []
  },
  {
   "cell_type": "code",
   "execution_count": 6,
   "metadata": {},
   "outputs": [
    {
     "name": "stdout",
     "output_type": "stream",
     "text": [
      "Net(\n",
      "  (conv1): Conv2d(3, 32, kernel_size=(3, 3), stride=(1, 1), padding=(1, 1))\n",
      "  (conv2): Conv2d(32, 32, kernel_size=(3, 3), stride=(1, 1), padding=(1, 1))\n",
      "  (conv3): Conv2d(32, 64, kernel_size=(3, 3), stride=(1, 1), padding=(1, 1))\n",
      "  (conv4): Conv2d(64, 64, kernel_size=(3, 3), stride=(1, 1), padding=(1, 1))\n",
      "  (conv5): Conv2d(64, 128, kernel_size=(3, 3), stride=(1, 1), padding=(1, 1))\n",
      "  (conv6): Conv2d(128, 128, kernel_size=(3, 3), stride=(1, 1), padding=(1, 1))\n",
      "  (pool): MaxPool2d(kernel_size=2, stride=2, padding=0, dilation=1, ceil_mode=False)\n",
      "  (fc1): Linear(in_features=6272, out_features=512, bias=True)\n",
      "  (fc2): Linear(in_features=512, out_features=102, bias=True)\n",
      "  (dropout): Dropout(p=0.25)\n",
      ")\n"
     ]
    }
   ],
   "source": [
    "# define the CNN architecture\n",
    "class Net(nn.Module):\n",
    "    def __init__(self):\n",
    "        super(Net, self).__init__()\n",
    "\n",
    "        self.conv1 = nn.Conv2d(3, 32, 3, padding=1)\n",
    "        self.conv2 = nn.Conv2d(32, 32, 3, padding=1)\n",
    "        self.conv3 = nn.Conv2d(32, 64, 3, padding=1)\n",
    "        self.conv4 = nn.Conv2d(64, 64, 3, padding=1)\n",
    "        self.conv5 = nn.Conv2d(64, 128, 3, padding=1)\n",
    "        self.conv6 = nn.Conv2d(128, 128, 3, padding=1)\n",
    "\n",
    "\n",
    "        self.pool = nn.MaxPool2d(2, 2)\n",
    "\n",
    "        self.fc1 = nn.Linear(128 * 7 * 7, 512)\n",
    "        self.fc2 = nn.Linear(512, 102)\n",
    "\n",
    "        self.dropout = nn.Dropout(0.25)\n",
    "\n",
    "    def forward(self, x):\n",
    "\n",
    "        x = self.pool(F.relu(self.conv1(x)))\n",
    "        x = self.dropout(x)\n",
    "        x = self.pool(F.relu(self.conv2(x)))\n",
    "        x = self.dropout(x)        \n",
    "        x = self.pool(F.relu(self.conv3(x)))\n",
    "        x = self.dropout(x)\n",
    "        x = self.pool(F.relu(self.conv4(x)))\n",
    "        x = self.dropout(x)\n",
    "        x = self.pool(F.relu(self.conv5(x)))\n",
    "        x = self.dropout(x)\n",
    "        x = self.pool(F.relu(self.conv6(x)))\n",
    "        x = self.dropout(x)\n",
    "\n",
    "        x = x.view(-1, 128 * 7 * 7)\n",
    "\n",
    "        x = F.relu(self.fc1(x))\n",
    "        x = self.fc2(x)\n",
    "        \n",
    "        return x\n",
    "\n",
    "# create a complete CNN\n",
    "model = Net()\n",
    "print(model)\n",
    "\n",
    "# move tensors to GPU if CUDA is available\n"
   ]
  },
  {
   "cell_type": "code",
   "execution_count": 7,
   "metadata": {},
   "outputs": [
    {
     "name": "stdout",
     "output_type": "stream",
     "text": [
      "=> loading model 'models/model_flower_v9.pt'\n",
      "=> loaded model from 'models/model_flower_v9.pt'\n"
     ]
    }
   ],
   "source": [
    "model = load_checkpoint(model, 'models/model_flower_v9.pt')"
   ]
  },
  {
   "cell_type": "code",
   "execution_count": 8,
   "metadata": {},
   "outputs": [],
   "source": [
    "if train_on_gpu:\n",
    "    torch.cuda.empty_cache()\n",
    "    model.cuda()"
   ]
  },
  {
   "cell_type": "code",
   "execution_count": 9,
   "metadata": {},
   "outputs": [],
   "source": [
    "import torch.optim as optim\n",
    "\n",
    "criterion = nn.CrossEntropyLoss()\n",
    "optimizer = optim.Adam(model.parameters(), lr=0.0001, amsgrad=True, eps=1e-8, weight_decay=1e-5 )"
   ]
  },
  {
   "cell_type": "code",
   "execution_count": 10,
   "metadata": {},
   "outputs": [],
   "source": [
    "batch_size = 20\n",
    "num_workers=0\n",
    "\n",
    "data_transforms = transforms.Compose([transforms.Resize(500),\n",
    "                    transforms.CenterCrop(500),\n",
    "                    transforms.ToTensor(),\n",
    "                    transforms.Normalize((0.485, 0.456, 0.406), (0.229, 0.224, 0.225))\n",
    "                    ])\n",
    "\n",
    "test_data = datasets.ImageFolder(valid_dir, transform=data_transforms)\n",
    "test_loader = torch.utils.data.DataLoader(test_data, batch_size=batch_size, num_workers=num_workers)"
   ]
  },
  {
   "cell_type": "code",
   "execution_count": 11,
   "metadata": {
    "scrolled": true
   },
   "outputs": [
    {
     "name": "stdout",
     "output_type": "stream",
     "text": [
      "Test Loss: 2.045819\n",
      "\n",
      "Test Accuracy of pink primrose: 40.00% ( 2/ 5)\n",
      "Test Accuracy of hard-leaved pocket orchid: 100.00% ( 3/ 3)\n",
      "Test Accuracy of canterbury bells: 100.00% ( 8/ 8)\n",
      "Test Accuracy of sweet pea: 50.00% ( 2/ 4)\n",
      "Test Accuracy of english marigold: 0.00% ( 0/ 6)\n",
      "Test Accuracy of tiger lily: 11.11% ( 1/ 9)\n",
      "Test Accuracy of moon orchid: 66.67% ( 6/ 9)\n",
      "Test Accuracy of bird of paradise: 50.00% ( 3/ 6)\n",
      "Test Accuracy of monkshood: 100.00% ( 3/ 3)\n",
      "Test Accuracy of globe thistle: 25.00% ( 1/ 4)\n",
      "Test Accuracy of snapdragon: 33.33% ( 1/ 3)\n",
      "Test Accuracy of colt's foot: 66.67% ( 6/ 9)\n",
      "Test Accuracy of king protea: 16.67% ( 1/ 6)\n",
      "Test Accuracy of spear thistle: 14.29% ( 1/ 7)\n",
      "Test Accuracy of yellow iris: 80.00% ( 4/ 5)\n",
      "Test Accuracy of globe-flower: 66.67% ( 2/ 3)\n",
      "Test Accuracy of purple coneflower: 50.00% ( 1/ 2)\n",
      "Test Accuracy of peruvian lily: 25.00% ( 1/ 4)\n",
      "Test Accuracy of balloon flower: 42.86% ( 3/ 7)\n",
      "Test Accuracy of giant white arum lily: 50.00% ( 1/ 2)\n",
      "Test Accuracy of fire lily: 40.00% ( 2/ 5)\n",
      "Test Accuracy of pincushion flower: 40.00% ( 2/ 5)\n",
      "Test Accuracy of fritillary: 33.33% ( 1/ 3)\n",
      "Test Accuracy of red ginger: 50.00% ( 3/ 6)\n",
      "Test Accuracy of grape hyacinth: 66.67% ( 6/ 9)\n",
      "Test Accuracy of corn poppy: 0.00% ( 0/ 2)\n",
      "Test Accuracy of prince of wales feathers: 28.57% ( 4/14)\n",
      "Test Accuracy of stemless gentian: 50.00% ( 1/ 2)\n",
      "Test Accuracy of artichoke: 0.00% ( 0/ 6)\n",
      "Test Accuracy of sweet william: 50.00% ( 4/ 8)\n",
      "Test Accuracy of carnation: 0.00% ( 0/ 5)\n",
      "Test Accuracy of garden phlox: 66.67% ( 4/ 6)\n",
      "Test Accuracy of love in the mist: 71.43% ( 5/ 7)\n",
      "Test Accuracy of mexican aster: 75.00% ( 6/ 8)\n",
      "Test Accuracy of alpine sea holly: 37.50% ( 3/ 8)\n",
      "Test Accuracy of ruby-lipped cattleya: 20.00% ( 1/ 5)\n",
      "Test Accuracy of cape flower: 0.00% ( 0/ 6)\n",
      "Test Accuracy of great masterwort: 0.00% ( 0/ 8)\n",
      "Test Accuracy of siam tulip: 35.71% ( 5/14)\n",
      "Test Accuracy of lenten rose: 25.00% ( 1/ 4)\n",
      "Test Accuracy of barbeton daisy: 37.50% ( 6/16)\n",
      "Test Accuracy of daffodil: 63.64% ( 7/11)\n",
      "Test Accuracy of sword lily: 66.67% ( 2/ 3)\n",
      "Test Accuracy of poinsettia: 38.10% ( 8/21)\n",
      "Test Accuracy of bolero deep blue: 33.33% ( 1/ 3)\n",
      "Test Accuracy of wallflower: 0.00% ( 0/ 5)\n",
      "Test Accuracy of marigold: 66.67% ( 2/ 3)\n",
      "Test Accuracy of buttercup: 50.00% ( 2/ 4)\n",
      "Test Accuracy of oxeye daisy: 87.50% ( 7/ 8)\n",
      "Test Accuracy of common dandelion: 41.67% (10/24)\n",
      "Test Accuracy of petunia: 62.50% ( 5/ 8)\n",
      "Test Accuracy of wild pansy: 35.71% ( 5/14)\n",
      "Test Accuracy of primula: 100.00% ( 4/ 4)\n",
      "Test Accuracy of sunflower: 85.71% ( 6/ 7)\n",
      "Test Accuracy of pelargonium: 75.00% ( 6/ 8)\n",
      "Test Accuracy of bishop of llandaff: 72.73% ( 8/11)\n",
      "Test Accuracy of gaura: 71.43% (10/14)\n",
      "Test Accuracy of geranium: 100.00% ( 7/ 7)\n",
      "Test Accuracy of orange dahlia: 33.33% ( 3/ 9)\n",
      "Test Accuracy of pink-yellow dahlia: 90.00% ( 9/10)\n",
      "Test Accuracy of cautleya spicata: 100.00% ( 8/ 8)\n",
      "Test Accuracy of japanese anemone: 25.00% ( 1/ 4)\n",
      "Test Accuracy of black-eyed susan: 25.00% ( 1/ 4)\n",
      "Test Accuracy of silverbush: 40.00% ( 2/ 5)\n",
      "Test Accuracy of californian poppy: 85.71% ( 6/ 7)\n",
      "Test Accuracy of osteospermum: 50.00% ( 2/ 4)\n",
      "Test Accuracy of spring crocus: 0.00% ( 0/ 4)\n",
      "Test Accuracy of bearded iris: 33.33% ( 1/ 3)\n",
      "Test Accuracy of windflower: 100.00% ( 3/ 3)\n",
      "Test Accuracy of tree poppy: 33.33% ( 2/ 6)\n",
      "Test Accuracy of gazania: 75.00% ( 3/ 4)\n",
      "Test Accuracy of azalea: 22.22% ( 2/ 9)\n",
      "Test Accuracy of water lily: 9.09% ( 1/11)\n",
      "Test Accuracy of  rose: 64.29% (18/28)\n",
      "Test Accuracy of thorn apple: 28.57% ( 4/14)\n",
      "Test Accuracy of morning glory: 84.62% (11/13)\n",
      "Test Accuracy of passion flower: 25.00% ( 1/ 4)\n",
      "Test Accuracy of lotus lotus: 92.00% (23/25)\n",
      "Test Accuracy of toad lily: 78.57% (11/14)\n",
      "Test Accuracy of anthurium: 33.33% ( 1/ 3)\n",
      "Test Accuracy of frangipani: 70.00% ( 7/10)\n",
      "Test Accuracy of clematis: 0.00% ( 0/11)\n",
      "Test Accuracy of hibiscus: 61.54% ( 8/13)\n",
      "Test Accuracy of columbine: 17.65% ( 3/17)\n",
      "Test Accuracy of desert-rose: 42.86% ( 6/14)\n",
      "Test Accuracy of tree mallow: 20.00% ( 2/10)\n",
      "Test Accuracy of magnolia: 70.00% ( 7/10)\n",
      "Test Accuracy of cyclamen: 60.00% ( 3/ 5)\n",
      "Test Accuracy of watercress: 33.33% ( 2/ 6)\n",
      "Test Accuracy of canna lily: 30.77% ( 4/13)\n",
      "Test Accuracy of hippeastrum: 60.00% ( 9/15)\n",
      "Test Accuracy of bee balm: 0.00% ( 0/ 2)\n",
      "Test Accuracy of ball moss: 7.14% ( 1/14)\n",
      "Test Accuracy of foxglove: 50.00% ( 4/ 8)\n",
      "Test Accuracy of bougainvillea: 36.36% ( 4/11)\n",
      "Test Accuracy of camellia: 16.67% ( 1/ 6)\n",
      "Test Accuracy of mallow: 50.00% ( 8/16)\n",
      "Test Accuracy of mexican petunia: 0.00% ( 0/14)\n",
      "Test Accuracy of bromelia: 22.22% ( 2/ 9)\n",
      "Test Accuracy of blanket flower: 20.00% ( 1/ 5)\n",
      "Test Accuracy of trumpet creeper: 50.00% ( 2/ 4)\n",
      "Test Accuracy of blackberry lily: 0.00% ( 0/ 7)\n",
      "\n",
      "Test Accuracy (Overall): 46.52% (381/819)\n"
     ]
    }
   ],
   "source": [
    "# track test loss \n",
    "# over 5 flower classes\n",
    "test_loss = 0.0\n",
    "class_correct = list(0. for i in range(102))\n",
    "class_total = list(0. for i in range(102))\n",
    "\n",
    "model.eval() # eval mode\n",
    "\n",
    "# iterate over test data\n",
    "for data, target in test_loader:\n",
    "    # move tensors to GPU if CUDA is available\n",
    "    if train_on_gpu:\n",
    "        data, target = data.cuda(), target.cuda()\n",
    "    # forward pass: compute predicted outputs by passing inputs to the model\n",
    "    output = model(data)\n",
    "    # calculate the batch loss\n",
    "    loss = criterion(output, target)\n",
    "    # update  test loss \n",
    "    test_loss += loss.item()*data.size(0)\n",
    "    # convert output probabilities to predicted class\n",
    "    _, pred = torch.max(output, 1)    \n",
    "    # compare predictions to true label\n",
    "    correct_tensor = pred.eq(target.data.view_as(pred))\n",
    "    correct = np.squeeze(correct_tensor.numpy()) if not train_on_gpu else np.squeeze(correct_tensor.cpu().numpy())\n",
    "    # calculate test accuracy for each object class\n",
    "    for i in range(len(target.data)):\n",
    "        label = target.data[i]\n",
    "        class_correct[label] += correct[i].item()\n",
    "        class_total[label] += 1\n",
    "\n",
    "# calculate avg test loss\n",
    "test_loss = test_loss/len(test_loader.dataset)\n",
    "print('Test Loss: {:.6f}\\n'.format(test_loss))\n",
    "\n",
    "for i in range(len(class_total)):\n",
    "    if class_total[i] > 0:\n",
    "        print('Test Accuracy of %5s: %.2f%% (%2d/%2d)' % (\n",
    "            cat_to_name[str(i+1)], 100 * class_correct[i] / class_total[i],\n",
    "            np.sum(class_correct[i]), np.sum(class_total[i])))\n",
    "    else:\n",
    "        print('Test Accuracy of %5s: N/A (no training examples)' % (class_total[i]))\n",
    "\n",
    "print('\\nTest Accuracy (Overall): %.2f%% (%2d/%2d)' % (\n",
    "    100. * np.sum(class_correct) / np.sum(class_total),\n",
    "    np.sum(class_correct), np.sum(class_total)))"
   ]
  },
  {
   "cell_type": "code",
   "execution_count": null,
   "metadata": {},
   "outputs": [],
   "source": []
  }
 ],
 "metadata": {
  "kernelspec": {
   "display_name": "Python 3",
   "language": "python",
   "name": "python3"
  },
  "language_info": {
   "codemirror_mode": {
    "name": "ipython",
    "version": 3
   },
   "file_extension": ".py",
   "mimetype": "text/x-python",
   "name": "python",
   "nbconvert_exporter": "python",
   "pygments_lexer": "ipython3",
   "version": "3.6.1"
  }
 },
 "nbformat": 4,
 "nbformat_minor": 2
}
