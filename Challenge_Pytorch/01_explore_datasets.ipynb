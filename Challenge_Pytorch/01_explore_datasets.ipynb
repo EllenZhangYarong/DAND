{
 "cells": [
  {
   "cell_type": "code",
   "execution_count": 20,
   "metadata": {},
   "outputs": [],
   "source": [
    "import numpy as np\n",
    "import pandas as pd\n",
    "from PIL import Image\n",
    "import glob\n",
    "import os\n",
    "import time"
   ]
  },
  {
   "cell_type": "code",
   "execution_count": 21,
   "metadata": {},
   "outputs": [],
   "source": [
    "data_dir = 'flower_data'\n",
    "train_dir = data_dir + '/train/'\n",
    "valid_dir = data_dir + '/valid/'\n",
    "test_dir = data_dir + '/test/'"
   ]
  },
  {
   "cell_type": "code",
   "execution_count": 22,
   "metadata": {},
   "outputs": [
    {
     "name": "stdout",
     "output_type": "stream",
     "text": [
      "[27, 49, 36, 44, 54, 35, 33, 70, 41, 38, 68, 73, 38, 44, 38, 36, 60, 65, 38, 46, 34, 47, 72, 35, 34, 33, 36, 55, 62, 61, 48, 36, 31, 28, 33, 62, 92, 44, 33, 54, 97, 49, 100, 73, 33, 157, 61, 57, 38, 73, 206, 67, 70, 47, 56, 92, 50, 86, 56, 85, 36, 48, 42, 42, 88, 51, 36, 43, 46, 51, 64, 77, 147, 142, 95, 83, 205, 112, 34, 82, 135, 82, 104, 66, 48, 48, 51, 116, 153, 66, 59, 53, 34, 132, 101, 72, 54, 68, 50, 35, 49, 36]\n"
     ]
    }
   ],
   "source": [
    "training_set = []\n",
    "for i in range(1, 103, 1):\n",
    "    dir_train = train_dir + str(i) + '/'\n",
    "#     print(dir_train)\n",
    "    path, dirs, files = next(os.walk(dir_train))\n",
    "    file_count = len(files)\n",
    "    training_set.append(file_count)\n",
    "print(training_set)"
   ]
  },
  {
   "cell_type": "code",
   "execution_count": 23,
   "metadata": {},
   "outputs": [
    {
     "data": {
      "text/plain": [
       "64.23529411764706"
      ]
     },
     "execution_count": 23,
     "metadata": {},
     "output_type": "execute_result"
    }
   ],
   "source": [
    "np_training = np.asarray(training_set)\n",
    "\n",
    "np_training.mean()"
   ]
  },
  {
   "cell_type": "code",
   "execution_count": 24,
   "metadata": {},
   "outputs": [
    {
     "data": {
      "text/plain": [
       "6552"
      ]
     },
     "execution_count": 24,
     "metadata": {},
     "output_type": "execute_result"
    }
   ],
   "source": [
    "np_training.sum()"
   ]
  },
  {
   "cell_type": "code",
   "execution_count": 25,
   "metadata": {},
   "outputs": [
    {
     "name": "stdout",
     "output_type": "stream",
     "text": [
      "[8, 6, 2, 6, 7, 1, 1, 5, 3, 4, 10, 5, 5, 1, 7, 2, 16, 11, 4, 7, 4, 8, 12, 5, 2, 3, 1, 5, 7, 10, 2, 3, 7, 7, 4, 6, 8, 4, 3, 5, 16, 6, 14, 9, 4, 18, 3, 9, 8, 11, 28, 10, 9, 10, 8, 9, 6, 14, 4, 14, 6, 3, 8, 5, 7, 6, 2, 8, 5, 7, 5, 8, 19, 15, 12, 20, 21, 11, 4, 12, 18, 13, 13, 10, 5, 5, 6, 25, 16, 2, 9, 2, 6, 14, 13, 10, 7, 10, 6, 6, 5, 6]\n"
     ]
    }
   ],
   "source": [
    "valid_set = []\n",
    "for i in range(1, 103, 1):\n",
    "    dir_valid = valid_dir + str(i) + '/'\n",
    "#     print(dir_valid)\n",
    "    path, dirs, files = next(os.walk(dir_valid))\n",
    "    file_count = len(files)\n",
    "    valid_set.append(file_count)\n",
    "print(valid_set)\n"
   ]
  },
  {
   "cell_type": "code",
   "execution_count": 26,
   "metadata": {},
   "outputs": [
    {
     "data": {
      "text/plain": [
       "8.019607843137255"
      ]
     },
     "execution_count": 26,
     "metadata": {},
     "output_type": "execute_result"
    }
   ],
   "source": [
    "np_valid = np.asarray(valid_set)\n",
    "\n",
    "np_valid.mean()"
   ]
  },
  {
   "cell_type": "code",
   "execution_count": 27,
   "metadata": {},
   "outputs": [
    {
     "data": {
      "text/plain": [
       "818"
      ]
     },
     "execution_count": 27,
     "metadata": {},
     "output_type": "execute_result"
    }
   ],
   "source": [
    "np_valid.sum()"
   ]
  },
  {
   "cell_type": "code",
   "execution_count": 28,
   "metadata": {},
   "outputs": [
    {
     "name": "stdout",
     "output_type": "stream",
     "text": [
      "[5, 5, 2, 6, 4, 9, 6, 10, 2, 3, 9, 9, 6, 3, 4, 3, 9, 6, 7, 3, 2, 4, 7, 2, 5, 5, 3, 6, 9, 14, 2, 6, 8, 5, 6, 7, 8, 8, 5, 8, 14, 4, 16, 11, 3, 21, 3, 5, 3, 8, 24, 8, 14, 4, 7, 8, 11, 14, 7, 10, 8, 4, 4, 5, 7, 4, 4, 3, 3, 4, 9, 11, 28, 14, 13, 4, 25, 14, 3, 11, 13, 17, 14, 10, 10, 5, 6, 13, 15, 14, 8, 11, 6, 16, 14, 9, 5, 4, 7, 8, 4, 6]\n"
     ]
    }
   ],
   "source": [
    "test_set = []\n",
    "for i in range(1, 103, 1):\n",
    "    dir_test = test_dir + str(i) + '/'\n",
    "#     print(dir_valid)\n",
    "    path, dirs, files = next(os.walk(dir_test))\n",
    "    file_count = len(files)\n",
    "    test_set.append(file_count)\n",
    "print(test_set)"
   ]
  },
  {
   "cell_type": "code",
   "execution_count": 29,
   "metadata": {},
   "outputs": [
    {
     "data": {
      "text/plain": [
       "8.029411764705882"
      ]
     },
     "execution_count": 29,
     "metadata": {},
     "output_type": "execute_result"
    }
   ],
   "source": [
    "np_test = np.asarray(test_set)\n",
    "\n",
    "np_test.mean()"
   ]
  },
  {
   "cell_type": "code",
   "execution_count": 30,
   "metadata": {},
   "outputs": [
    {
     "data": {
      "text/plain": [
       "819"
      ]
     },
     "execution_count": 30,
     "metadata": {},
     "output_type": "execute_result"
    }
   ],
   "source": [
    "np_test.sum()"
   ]
  },
  {
   "cell_type": "code",
   "execution_count": null,
   "metadata": {},
   "outputs": [],
   "source": []
  }
 ],
 "metadata": {
  "kernelspec": {
   "display_name": "Python 3",
   "language": "python",
   "name": "python3"
  },
  "language_info": {
   "codemirror_mode": {
    "name": "ipython",
    "version": 3
   },
   "file_extension": ".py",
   "mimetype": "text/x-python",
   "name": "python",
   "nbconvert_exporter": "python",
   "pygments_lexer": "ipython3",
   "version": "3.6.1"
  }
 },
 "nbformat": 4,
 "nbformat_minor": 2
}
