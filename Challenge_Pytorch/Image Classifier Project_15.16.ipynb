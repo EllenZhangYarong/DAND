{
 "cells": [
  {
   "cell_type": "markdown",
   "metadata": {},
   "source": [
    "# Developing an AI application\n",
    "\n",
    "Going forward, AI algorithms will be incorporated into more and more everyday applications. For example, you might want to include an image classifier in a smart phone app. To do this, you'd use a deep learning model trained on hundreds of thousands of images as part of the overall application architecture. A large part of software development in the future will be using these types of models as common parts of applications. \n",
    "\n",
    "In this project, you'll train an image classifier to recognize different species of flowers. You can imagine using something like this in a phone app that tells you the name of the flower your camera is looking at. In practice you'd train this classifier, then export it for use in your application. We'll be using [this dataset](http://www.robots.ox.ac.uk/~vgg/data/flowers/102/index.html) of 102 flower categories, you can see a few examples below. \n",
    "\n",
    "<img src='assets/Flowers.png' width=500px>\n",
    "\n",
    "The project is broken down into multiple steps:\n",
    "\n",
    "* Load and preprocess the image dataset\n",
    "* Train the image classifier on your dataset\n",
    "* Use the trained classifier to predict image content\n",
    "\n",
    "We'll lead you through each part which you'll implement in Python.\n",
    "\n",
    "When you've completed this project, you'll have an application that can be trained on any set of labeled images. Here your network will be learning about flowers and end up as a command line application. But, what you do with your new skills depends on your imagination and effort in building a dataset. For example, imagine an app where you take a picture of a car, it tells you what the make and model is, then looks up information about it. Go build your own dataset and make something new.\n",
    "\n",
    "First up is importing the packages you'll need. It's good practice to keep all the imports at the beginning of your code. As you work through this notebook and find you need to import a package, make sure to add the import up here."
   ]
  },
  {
   "cell_type": "code",
   "execution_count": 1,
   "metadata": {},
   "outputs": [],
   "source": [
    "# Imports here\n",
    "\n",
    "%matplotlib inline\n",
    "%config InlineBackend.figure_format = 'retina'\n",
    "\n",
    "import matplotlib.pyplot as plt\n",
    "\n",
    "import torch\n",
    "from torchvision import datasets, transforms\n",
    "from torch.utils.data.dataset import Dataset\n",
    "from torch.utils.data.sampler import SubsetRandomSampler\n",
    "\n",
    "import numpy as np\n",
    "import pandas as pd\n",
    "from PIL import Image\n",
    "import glob\n",
    "import os"
   ]
  },
  {
   "cell_type": "markdown",
   "metadata": {},
   "source": [
    "## Load the data\n",
    "\n",
    "Here you'll use `torchvision` to load the data ([documentation](http://pytorch.org/docs/0.3.0/torchvision/index.html)). You can [download the data here](https://s3.amazonaws.com/content.udacity-data.com/courses/nd188/flower_data.zip). The dataset is split into two parts, training and validation. For the training, you'll want to apply transformations such as random scaling, cropping, and flipping. This will help the network generalize leading to better performance. If you use a pre-trained network, you'll also need to make sure the input data is resized to 224x224 pixels as required by the networks.\n",
    "\n",
    "The validation set is used to measure the model's performance on data it hasn't seen yet. For this you don't want any scaling or rotation transformations, but you'll need to resize then crop the images to the appropriate size.\n",
    "\n",
    "The pre-trained networks available from `torchvision` were trained on the ImageNet dataset where each color channel was normalized separately. For both sets you'll need to normalize the means and standard deviations of the images to what the network expects. For the means, it's `[0.485, 0.456, 0.406]` and for the standard deviations `[0.229, 0.224, 0.225]`, calculated from the ImageNet images.  These values will shift each color channel to be centered at 0 and range from -1 to 1."
   ]
  },
  {
   "cell_type": "code",
   "execution_count": 2,
   "metadata": {},
   "outputs": [],
   "source": [
    "data_dir = 'flower_data'\n",
    "train_dir = data_dir + '/train/'\n",
    "valid_dir = data_dir + '/valid/'"
   ]
  },
  {
   "cell_type": "code",
   "execution_count": 3,
   "metadata": {},
   "outputs": [
    {
     "name": "stdout",
     "output_type": "stream",
     "text": [
      "flower_data/train/\n"
     ]
    }
   ],
   "source": [
    "print(train_dir)"
   ]
  },
  {
   "cell_type": "code",
   "execution_count": 4,
   "metadata": {},
   "outputs": [
    {
     "name": "stdout",
     "output_type": "stream",
     "text": [
      "[27, 49, 36, 44, 54, 35, 33, 70, 41, 38, 68, 73, 38, 44, 38, 36, 60, 65, 38, 46, 34, 47, 72, 35, 34, 33, 36, 55, 62, 61, 48, 36, 31, 28, 33, 62, 92, 44, 33, 54, 97, 49, 100, 73, 33, 157, 61, 57, 38, 73, 206, 67, 70, 47, 56, 92, 50, 86, 56, 85, 36, 48, 42, 42, 88, 51, 36, 43, 46, 51, 64, 77, 147, 142, 95, 83, 205, 112, 34, 82, 135, 82, 104, 66, 48, 48, 51, 116, 153, 66, 59, 53, 34, 132, 101, 72, 54, 68, 50, 35, 49, 36]\n"
     ]
    }
   ],
   "source": [
    "training_set = []\n",
    "for i in range(1, 103, 1):\n",
    "    dir_train = train_dir + str(i) + '/'\n",
    "    path, dirs, files = next(os.walk(dir_train))\n",
    "    file_count = len(files)\n",
    "    training_set.append(file_count)\n",
    "print(training_set)"
   ]
  },
  {
   "cell_type": "code",
   "execution_count": 5,
   "metadata": {},
   "outputs": [
    {
     "name": "stdout",
     "output_type": "stream",
     "text": [
      "102\n"
     ]
    }
   ],
   "source": [
    "print(len(training_set))"
   ]
  },
  {
   "cell_type": "code",
   "execution_count": 6,
   "metadata": {},
   "outputs": [
    {
     "data": {
      "text/plain": [
       "array([ 27,  49,  36,  44,  54,  35,  33,  70,  41,  38,  68,  73,  38,\n",
       "        44,  38,  36,  60,  65,  38,  46,  34,  47,  72,  35,  34,  33,\n",
       "        36,  55,  62,  61,  48,  36,  31,  28,  33,  62,  92,  44,  33,\n",
       "        54,  97,  49, 100,  73,  33, 157,  61,  57,  38,  73, 206,  67,\n",
       "        70,  47,  56,  92,  50,  86,  56,  85,  36,  48,  42,  42,  88,\n",
       "        51,  36,  43,  46,  51,  64,  77, 147, 142,  95,  83, 205, 112,\n",
       "        34,  82, 135,  82, 104,  66,  48,  48,  51, 116, 153,  66,  59,\n",
       "        53,  34, 132, 101,  72,  54,  68,  50,  35,  49,  36])"
      ]
     },
     "execution_count": 6,
     "metadata": {},
     "output_type": "execute_result"
    }
   ],
   "source": [
    "np_training = np.asarray(training_set)\n",
    "np_training"
   ]
  },
  {
   "cell_type": "code",
   "execution_count": 7,
   "metadata": {},
   "outputs": [
    {
     "data": {
      "text/plain": [
       "6552"
      ]
     },
     "execution_count": 7,
     "metadata": {},
     "output_type": "execute_result"
    }
   ],
   "source": [
    "np_training.sum()"
   ]
  },
  {
   "cell_type": "code",
   "execution_count": 8,
   "metadata": {},
   "outputs": [
    {
     "data": {
      "text/plain": [
       "64.23529411764706"
      ]
     },
     "execution_count": 8,
     "metadata": {},
     "output_type": "execute_result"
    }
   ],
   "source": [
    "np_training.mean()"
   ]
  },
  {
   "cell_type": "code",
   "execution_count": 9,
   "metadata": {},
   "outputs": [
    {
     "data": {
      "text/plain": [
       "35.22593086499847"
      ]
     },
     "execution_count": 9,
     "metadata": {},
     "output_type": "execute_result"
    }
   ],
   "source": [
    "np_training.std()"
   ]
  },
  {
   "cell_type": "code",
   "execution_count": 10,
   "metadata": {},
   "outputs": [],
   "source": [
    "width_array = []\n",
    "height_array = []\n",
    "for i in range(len(training_set)):\n",
    "    dir_train = train_dir + str(i) + \"/*.jpg\"\n",
    "#     print(dir_train)\n",
    "    files = glob.glob(dir_train)\n",
    "    for file in files:\n",
    "        im = Image.open(file)\n",
    "#         print(im.size)\n",
    "        width, height = im.size\n",
    "        width_array.append(width)\n",
    "        height_array.append(height)\n",
    "        "
   ]
  },
  {
   "cell_type": "code",
   "execution_count": 11,
   "metadata": {},
   "outputs": [],
   "source": [
    "width_array = np.asarray(width_array)\n",
    "height_array = np.asarray(height_array)"
   ]
  },
  {
   "cell_type": "code",
   "execution_count": 12,
   "metadata": {},
   "outputs": [
    {
     "data": {
      "text/plain": [
       "630.5899324739104"
      ]
     },
     "execution_count": 12,
     "metadata": {},
     "output_type": "execute_result"
    }
   ],
   "source": [
    "width_array.mean()"
   ]
  },
  {
   "cell_type": "code",
   "execution_count": 13,
   "metadata": {},
   "outputs": [
    {
     "data": {
      "text/plain": [
       "500"
      ]
     },
     "execution_count": 13,
     "metadata": {},
     "output_type": "execute_result"
    }
   ],
   "source": [
    "width_array.min()"
   ]
  },
  {
   "cell_type": "code",
   "execution_count": 14,
   "metadata": {},
   "outputs": [
    {
     "data": {
      "text/plain": [
       "1024"
      ]
     },
     "execution_count": 14,
     "metadata": {},
     "output_type": "execute_result"
    }
   ],
   "source": [
    "width_array.max()"
   ]
  },
  {
   "cell_type": "code",
   "execution_count": 15,
   "metadata": {},
   "outputs": [
    {
     "data": {
      "text/plain": [
       "534.3057090239411"
      ]
     },
     "execution_count": 15,
     "metadata": {},
     "output_type": "execute_result"
    }
   ],
   "source": [
    "height_array.mean()"
   ]
  },
  {
   "cell_type": "code",
   "execution_count": 16,
   "metadata": {},
   "outputs": [
    {
     "data": {
      "text/plain": [
       "500"
      ]
     },
     "execution_count": 16,
     "metadata": {},
     "output_type": "execute_result"
    }
   ],
   "source": [
    "height_array.min()"
   ]
  },
  {
   "cell_type": "code",
   "execution_count": 17,
   "metadata": {},
   "outputs": [
    {
     "data": {
      "text/plain": [
       "1168"
      ]
     },
     "execution_count": 17,
     "metadata": {},
     "output_type": "execute_result"
    }
   ],
   "source": [
    "height_array.max()"
   ]
  },
  {
   "cell_type": "code",
   "execution_count": 18,
   "metadata": {},
   "outputs": [],
   "source": [
    "class CustomDatasetRandom(Dataset):\n",
    "    def __init__(self, N, nums_channel, image_width, image_height):\n",
    "        \"\"\"\n",
    "        Args:\n",
    "            csv_path (string): path to csv file\n",
    "            img_path (string): path to the folder where images are\n",
    "            transform: pytorch transforms for transforms and tensor conversion\n",
    "        \"\"\"\n",
    "        \n",
    "        # Transforms\n",
    "        self.to_tensor = transforms.ToTensor()\n",
    "        \n",
    "        images = np.random.rand(N, nums_channel, image_width, image_height)\n",
    "        labels = np.full((N), 105)\n",
    "        self.images = torch.from_numpy(images).float()\n",
    "        self.labels = labels\n",
    "\n",
    "    def __getitem__(self, index):\n",
    "        \n",
    "        img   = self.images[index]\n",
    "        label = self.labels[index]\n",
    "\n",
    "        return img, label\n",
    "    \n",
    "    def __len__(self):\n",
    "        return len( self.images)\n",
    "    \n",
    "if __name__ == '__main__':\n",
    "    # Call the dataset\n",
    "    custom_dataset = CustomDatasetRandom(65, 3, 500, 500)"
   ]
  },
  {
   "cell_type": "code",
   "execution_count": 19,
   "metadata": {},
   "outputs": [],
   "source": [
    "random_dataset = CustomDatasetRandom(6552,3,100,100)"
   ]
  },
  {
   "cell_type": "code",
   "execution_count": 20,
   "metadata": {},
   "outputs": [],
   "source": [
    "# random_dataset[0]"
   ]
  },
  {
   "cell_type": "code",
   "execution_count": 21,
   "metadata": {},
   "outputs": [],
   "source": [
    "# TODO: Define your transforms for the training and validation sets\n",
    "data_transforms = transforms.Compose([transforms.Resize(101),\n",
    "                    transforms.CenterCrop(100),\n",
    "#                     transforms.RandomHorizontalFlip(), # randomly flip and rotate\n",
    "#                     transforms.RandomRotation(10),\n",
    "                    transforms.ToTensor(),\n",
    "#                     transforms.RandomAffine(20, fillcolor=0),\n",
    "#                     transforms.Normalize((0.5, 0.5, 0.5), (0.5, 0.5, 0.5))\n",
    "                    ])\n",
    "\n",
    "# TODO: Load the datasets with ImageFolder\n",
    "train_image_datasets = datasets.ImageFolder(train_dir, transform=data_transforms)\n",
    "\n",
    "test_image_datasets = datasets.ImageFolder(valid_dir, transform=data_transforms)"
   ]
  },
  {
   "cell_type": "code",
   "execution_count": 22,
   "metadata": {},
   "outputs": [],
   "source": [
    "# train_image_datasets[0]"
   ]
  },
  {
   "cell_type": "code",
   "execution_count": 23,
   "metadata": {},
   "outputs": [
    {
     "data": {
      "text/plain": [
       "Dataset ImageFolder\n",
       "    Number of datapoints: 6552\n",
       "    Root Location: flower_data/train/\n",
       "    Transforms (if any): Compose(\n",
       "                             Resize(size=101, interpolation=PIL.Image.BILINEAR)\n",
       "                             CenterCrop(size=(100, 100))\n",
       "                             ToTensor()\n",
       "                         )\n",
       "    Target Transforms (if any): None"
      ]
     },
     "execution_count": 23,
     "metadata": {},
     "output_type": "execute_result"
    }
   ],
   "source": [
    "train_image_datasets"
   ]
  },
  {
   "cell_type": "code",
   "execution_count": 24,
   "metadata": {},
   "outputs": [],
   "source": [
    "train_x = torch.utils.data.ConcatDataset([train_image_datasets,random_dataset])\n"
   ]
  },
  {
   "cell_type": "code",
   "execution_count": 25,
   "metadata": {},
   "outputs": [
    {
     "data": {
      "text/plain": [
       "<torch.utils.data.dataset.ConcatDataset at 0x253b3fddeb8>"
      ]
     },
     "execution_count": 25,
     "metadata": {},
     "output_type": "execute_result"
    }
   ],
   "source": [
    "train_x"
   ]
  },
  {
   "cell_type": "code",
   "execution_count": 26,
   "metadata": {},
   "outputs": [],
   "source": [
    "# number of subprocesses to use for data loading\n",
    "num_workers = 0\n",
    "# how many samples per batch to load\n",
    "batch_size = 32\n",
    "# percentage of training set to use as validation\n",
    "valid_size = 0.2"
   ]
  },
  {
   "cell_type": "code",
   "execution_count": 27,
   "metadata": {},
   "outputs": [],
   "source": [
    "# obtain training indices that will be used for validation\n",
    "num_train = len(train_x)\n",
    "indices = list(range(num_train))\n",
    "np.random.shuffle(indices)\n",
    "split = int(np.floor(valid_size * num_train))\n",
    "train_idx, valid_idx = indices[split:], indices[:split]\n",
    "\n",
    "# define samplers for obtaining training and validation batches\n",
    "train_sampler = SubsetRandomSampler(train_idx)\n",
    "valid_sampler = SubsetRandomSampler(valid_idx)\n",
    "\n",
    "# prepare data loaders (combine dataset and sampler)\n",
    "train_loader = torch.utils.data.DataLoader(train_x, batch_size=batch_size,\n",
    "    sampler=train_sampler, num_workers=num_workers)\n",
    "valid_loader = torch.utils.data.DataLoader(train_x, batch_size=batch_size, \n",
    "    sampler=valid_sampler, num_workers=num_workers)\n",
    "\n",
    "test_loader = torch.utils.data.DataLoader(test_image_datasets, batch_size=batch_size, \n",
    "    num_workers=num_workers)\n"
   ]
  },
  {
   "cell_type": "code",
   "execution_count": 28,
   "metadata": {},
   "outputs": [
    {
     "data": {
      "text/plain": [
       "328"
      ]
     },
     "execution_count": 28,
     "metadata": {},
     "output_type": "execute_result"
    }
   ],
   "source": [
    "len(train_loader)"
   ]
  },
  {
   "cell_type": "code",
   "execution_count": 29,
   "metadata": {},
   "outputs": [
    {
     "name": "stdout",
     "output_type": "stream",
     "text": [
      "tensor([[[[0.7098, 0.8479, 0.0650,  ..., 0.6471, 0.1009, 0.6646],\n",
      "          [0.1385, 0.7809, 0.1518,  ..., 0.9219, 0.9620, 0.7728],\n",
      "          [0.5793, 0.7577, 0.3876,  ..., 0.1344, 0.6915, 0.7971],\n",
      "          ...,\n",
      "          [0.6892, 0.5214, 0.4092,  ..., 0.3561, 0.3478, 0.9094],\n",
      "          [0.3871, 0.2316, 0.3990,  ..., 0.9531, 0.9223, 0.2255],\n",
      "          [0.9723, 0.1834, 0.7146,  ..., 0.5092, 0.4044, 0.7926]],\n",
      "\n",
      "         [[0.9952, 0.8625, 0.4914,  ..., 0.3474, 0.9790, 0.6325],\n",
      "          [0.2501, 0.1085, 0.8526,  ..., 0.0557, 0.0012, 0.7099],\n",
      "          [0.7424, 0.7776, 0.2176,  ..., 0.9407, 0.1602, 0.6202],\n",
      "          ...,\n",
      "          [0.9193, 0.9967, 0.4201,  ..., 0.5550, 0.1255, 0.0511],\n",
      "          [0.9116, 0.7284, 0.6218,  ..., 0.0859, 0.6099, 0.2321],\n",
      "          [0.0313, 0.2277, 0.4417,  ..., 0.2180, 0.7771, 0.6196]],\n",
      "\n",
      "         [[0.3253, 0.0013, 0.3966,  ..., 0.6350, 0.8354, 0.5081],\n",
      "          [0.7036, 0.1520, 0.5442,  ..., 0.1355, 0.9271, 0.2359],\n",
      "          [0.9978, 0.7977, 0.1507,  ..., 0.4294, 0.4842, 0.5820],\n",
      "          ...,\n",
      "          [0.6273, 0.2508, 0.6650,  ..., 0.8261, 0.7447, 0.8463],\n",
      "          [0.1317, 0.9115, 0.6173,  ..., 0.3011, 0.0776, 0.5790],\n",
      "          [0.7341, 0.0852, 0.6042,  ..., 0.7604, 0.3286, 0.4840]]],\n",
      "\n",
      "\n",
      "        [[[0.5137, 0.5176, 0.5137,  ..., 0.1765, 0.1294, 0.1529],\n",
      "          [0.4980, 0.4980, 0.4902,  ..., 0.3725, 0.2941, 0.2510],\n",
      "          [0.4784, 0.4706, 0.4588,  ..., 0.4824, 0.3804, 0.2784],\n",
      "          ...,\n",
      "          [0.3882, 0.4000, 0.3882,  ..., 0.2667, 0.2627, 0.2627],\n",
      "          [0.4039, 0.4118, 0.4039,  ..., 0.2745, 0.2784, 0.2745],\n",
      "          [0.3882, 0.3882, 0.3922,  ..., 0.2824, 0.2824, 0.2824]],\n",
      "\n",
      "         [[0.4941, 0.4745, 0.4588,  ..., 0.2549, 0.1843, 0.1843],\n",
      "          [0.4706, 0.4549, 0.4353,  ..., 0.4000, 0.3137, 0.2549],\n",
      "          [0.4471, 0.4235, 0.4000,  ..., 0.4902, 0.3882, 0.2863],\n",
      "          ...,\n",
      "          [0.3412, 0.3529, 0.3412,  ..., 0.4196, 0.4157, 0.4157],\n",
      "          [0.3569, 0.3647, 0.3569,  ..., 0.4275, 0.4314, 0.4235],\n",
      "          [0.3412, 0.3412, 0.3451,  ..., 0.4314, 0.4314, 0.4314]],\n",
      "\n",
      "         [[0.4275, 0.4196, 0.4078,  ..., 0.1137, 0.0588, 0.0784],\n",
      "          [0.4157, 0.4000, 0.3843,  ..., 0.2824, 0.2078, 0.1647],\n",
      "          [0.3843, 0.3686, 0.3490,  ..., 0.3922, 0.2980, 0.2000],\n",
      "          ...,\n",
      "          [0.2980, 0.3059, 0.2941,  ..., 0.2039, 0.2039, 0.2039],\n",
      "          [0.3098, 0.3176, 0.3098,  ..., 0.2235, 0.2275, 0.2235],\n",
      "          [0.2941, 0.2980, 0.2980,  ..., 0.2392, 0.2392, 0.2392]]],\n",
      "\n",
      "\n",
      "        [[[0.2118, 0.2275, 0.2275,  ..., 0.0039, 0.0039, 0.0078],\n",
      "          [0.2667, 0.2824, 0.2392,  ..., 0.0039, 0.0039, 0.0078],\n",
      "          [0.2471, 0.2902, 0.3098,  ..., 0.0039, 0.0039, 0.0078],\n",
      "          ...,\n",
      "          [0.1843, 0.2157, 0.2627,  ..., 0.2039, 0.2000, 0.2157],\n",
      "          [0.2588, 0.2980, 0.2510,  ..., 0.2196, 0.2235, 0.2196],\n",
      "          [0.3020, 0.2118, 0.1294,  ..., 0.2196, 0.2196, 0.2196]],\n",
      "\n",
      "         [[0.2118, 0.2275, 0.2275,  ..., 0.0039, 0.0039, 0.0078],\n",
      "          [0.2667, 0.2784, 0.2353,  ..., 0.0039, 0.0039, 0.0078],\n",
      "          [0.2431, 0.2824, 0.2980,  ..., 0.0039, 0.0039, 0.0078],\n",
      "          ...,\n",
      "          [0.2157, 0.2706, 0.3333,  ..., 0.2157, 0.2078, 0.2235],\n",
      "          [0.3294, 0.3608, 0.2980,  ..., 0.2275, 0.2314, 0.2275],\n",
      "          [0.3569, 0.2392, 0.1412,  ..., 0.2275, 0.2275, 0.2275]],\n",
      "\n",
      "         [[0.1686, 0.2000, 0.2078,  ..., 0.0039, 0.0039, 0.0078],\n",
      "          [0.2353, 0.2549, 0.2157,  ..., 0.0039, 0.0039, 0.0078],\n",
      "          [0.2235, 0.2667, 0.2784,  ..., 0.0039, 0.0039, 0.0078],\n",
      "          ...,\n",
      "          [0.1098, 0.1176, 0.1490,  ..., 0.1922, 0.1961, 0.2118],\n",
      "          [0.1373, 0.1843, 0.1608,  ..., 0.2157, 0.2196, 0.2157],\n",
      "          [0.1961, 0.1529, 0.1020,  ..., 0.2235, 0.2157, 0.2157]]],\n",
      "\n",
      "\n",
      "        ...,\n",
      "\n",
      "\n",
      "        [[[0.6863, 0.6980, 0.6902,  ..., 0.1294, 0.1608, 0.1804],\n",
      "          [0.7176, 0.6980, 0.7020,  ..., 0.1765, 0.2157, 0.2314],\n",
      "          [0.7686, 0.7098, 0.6941,  ..., 0.2275, 0.2745, 0.2824],\n",
      "          ...,\n",
      "          [0.1608, 0.1608, 0.1608,  ..., 0.3882, 0.3922, 0.3765],\n",
      "          [0.1569, 0.1569, 0.1569,  ..., 0.4157, 0.4039, 0.3725],\n",
      "          [0.1529, 0.1529, 0.1569,  ..., 0.4078, 0.4039, 0.3843]],\n",
      "\n",
      "         [[0.7098, 0.7098, 0.6902,  ..., 0.1961, 0.2275, 0.2471],\n",
      "          [0.7373, 0.7098, 0.7020,  ..., 0.2549, 0.2980, 0.3137],\n",
      "          [0.7843, 0.7176, 0.6941,  ..., 0.3216, 0.3686, 0.3804],\n",
      "          ...,\n",
      "          [0.2196, 0.2196, 0.2196,  ..., 0.4510, 0.4549, 0.4353],\n",
      "          [0.2078, 0.2078, 0.2078,  ..., 0.4784, 0.4667, 0.4314],\n",
      "          [0.1961, 0.1922, 0.2000,  ..., 0.4706, 0.4667, 0.4431]],\n",
      "\n",
      "         [[0.4784, 0.4510, 0.4431,  ..., 0.0549, 0.0745, 0.0902],\n",
      "          [0.5176, 0.4588, 0.4588,  ..., 0.0902, 0.1216, 0.1294],\n",
      "          [0.5725, 0.4784, 0.4588,  ..., 0.1333, 0.1686, 0.1686],\n",
      "          ...,\n",
      "          [0.0784, 0.0784, 0.0784,  ..., 0.2667, 0.2667, 0.2392],\n",
      "          [0.0745, 0.0706, 0.0706,  ..., 0.2941, 0.2824, 0.2314],\n",
      "          [0.0627, 0.0627, 0.0627,  ..., 0.2863, 0.2824, 0.2392]]],\n",
      "\n",
      "\n",
      "        [[[0.8510, 0.8667, 0.8196,  ..., 0.9529, 0.9529, 0.9490],\n",
      "          [0.8392, 0.8627, 0.8588,  ..., 0.9451, 0.9490, 0.9451],\n",
      "          [0.8314, 0.8549, 0.8706,  ..., 0.9373, 0.9373, 0.9412],\n",
      "          ...,\n",
      "          [0.5373, 0.6000, 0.6314,  ..., 0.1490, 0.1529, 0.1686],\n",
      "          [0.6549, 0.6706, 0.6745,  ..., 0.1569, 0.1725, 0.1961],\n",
      "          [0.6941, 0.7059, 0.7059,  ..., 0.1725, 0.2000, 0.2157]],\n",
      "\n",
      "         [[0.7647, 0.7804, 0.7333,  ..., 0.8980, 0.8980, 0.8941],\n",
      "          [0.7529, 0.7765, 0.7725,  ..., 0.8902, 0.8941, 0.8902],\n",
      "          [0.7451, 0.7686, 0.7843,  ..., 0.8824, 0.8824, 0.8863],\n",
      "          ...,\n",
      "          [0.4706, 0.5216, 0.5529,  ..., 0.2196, 0.2196, 0.2353],\n",
      "          [0.5843, 0.5922, 0.6000,  ..., 0.2275, 0.2431, 0.2706],\n",
      "          [0.6275, 0.6275, 0.6275,  ..., 0.2471, 0.2784, 0.2941]],\n",
      "\n",
      "         [[0.8118, 0.8275, 0.7804,  ..., 0.9647, 0.9647, 0.9608],\n",
      "          [0.8039, 0.8235, 0.8196,  ..., 0.9569, 0.9608, 0.9569],\n",
      "          [0.7961, 0.8157, 0.8314,  ..., 0.9490, 0.9490, 0.9529],\n",
      "          ...,\n",
      "          [0.5961, 0.6588, 0.6824,  ..., 0.0706, 0.0824, 0.0824],\n",
      "          [0.7176, 0.7333, 0.7255,  ..., 0.0706, 0.0784, 0.0902],\n",
      "          [0.7608, 0.7686, 0.7569,  ..., 0.0784, 0.0784, 0.0902]]],\n",
      "\n",
      "\n",
      "        [[[0.0549, 0.0392, 0.0314,  ..., 0.0627, 0.0745, 0.0784],\n",
      "          [0.0549, 0.0392, 0.0275,  ..., 0.0549, 0.0667, 0.0824],\n",
      "          [0.0510, 0.0353, 0.0275,  ..., 0.0235, 0.0235, 0.0392],\n",
      "          ...,\n",
      "          [0.5176, 0.4863, 0.4392,  ..., 0.0314, 0.0471, 0.0627],\n",
      "          [0.3725, 0.3294, 0.2745,  ..., 0.0392, 0.0745, 0.1020],\n",
      "          [0.2000, 0.1647, 0.1216,  ..., 0.0353, 0.0588, 0.0745]],\n",
      "\n",
      "         [[0.0902, 0.0745, 0.0667,  ..., 0.1020, 0.1137, 0.1176],\n",
      "          [0.0902, 0.0745, 0.0627,  ..., 0.0902, 0.1098, 0.1333],\n",
      "          [0.0902, 0.0706, 0.0627,  ..., 0.1294, 0.1020, 0.1059],\n",
      "          ...,\n",
      "          [0.3333, 0.3020, 0.2588,  ..., 0.0784, 0.1059, 0.1373],\n",
      "          [0.2627, 0.2353, 0.2000,  ..., 0.0863, 0.1451, 0.2039],\n",
      "          [0.1843, 0.1647, 0.1333,  ..., 0.0902, 0.1412, 0.2000]],\n",
      "\n",
      "         [[0.0784, 0.0627, 0.0549,  ..., 0.0824, 0.0902, 0.0941],\n",
      "          [0.0784, 0.0627, 0.0510,  ..., 0.0314, 0.0627, 0.0941],\n",
      "          [0.0784, 0.0588, 0.0510,  ..., 0.0118, 0.0235, 0.0549],\n",
      "          ...,\n",
      "          [0.3608, 0.3294, 0.2824,  ..., 0.0627, 0.0667, 0.0745],\n",
      "          [0.2510, 0.2196, 0.1765,  ..., 0.0588, 0.0941, 0.1216],\n",
      "          [0.1529, 0.1294, 0.1020,  ..., 0.0510, 0.0863, 0.1059]]]])\n",
      "tensor([105,  89,  15,  23, 105, 105, 105, 105, 105, 105, 105,  70,  96, 105,\n",
      "        105,  96,  23, 105,  77, 105,  83, 105, 105,  71,  11, 105, 105,  41,\n",
      "        105,  53,  77,  87], dtype=torch.int32)\n"
     ]
    }
   ],
   "source": [
    "for data, target in train_loader:\n",
    "    print(data)\n",
    "    print(target)\n",
    "    break"
   ]
  },
  {
   "cell_type": "markdown",
   "metadata": {},
   "source": [
    "### Label mapping\n",
    "\n",
    "You'll also need to load in a mapping from category label to category name. You can find this in the file `cat_to_name.json`. It's a JSON object which you can read in with the [`json` module](https://docs.python.org/2/library/json.html). This will give you a dictionary mapping the integer encoded categories to the actual names of the flowers."
   ]
  },
  {
   "cell_type": "code",
   "execution_count": 30,
   "metadata": {},
   "outputs": [],
   "source": [
    "import json\n",
    "\n",
    "with open('cat_to_name.json', 'r') as f:\n",
    "    cat_to_name = json.load(f)"
   ]
  },
  {
   "cell_type": "code",
   "execution_count": 31,
   "metadata": {},
   "outputs": [],
   "source": [
    "cat_to_name['105'] = \"Noise\""
   ]
  },
  {
   "cell_type": "code",
   "execution_count": 32,
   "metadata": {},
   "outputs": [],
   "source": [
    "# helper function to un-normalize and display an image\n",
    "\n",
    "def imshow(img):\n",
    "    img = img / 2 + 0.5  # unnormalize\n",
    "    plt.imshow(np.transpose(img, (1, 2, 0)))  # convert from Tensor image"
   ]
  },
  {
   "cell_type": "code",
   "execution_count": 33,
   "metadata": {},
   "outputs": [
    {
     "data": {
      "image/png": "[encoded data removed]",
      "text/plain": [
       "<Figure size 1440x360 with 5 Axes>"
      ]
     },
     "metadata": {
      "image/png": {
       "height": 224,
       "width": 1133
      }
     },
     "output_type": "display_data"
    }
   ],
   "source": [
    "# obtain one batch of training images\n",
    "dataiter = iter(train_loader)\n",
    "images, labels = dataiter.next()\n",
    "images = images.numpy() # convert images to numpy for display\n",
    "\n",
    "# plot the images in the batch, along with the corresponding labels\n",
    "fig = plt.figure(figsize=(20, 5))\n",
    "# display 20 images\n",
    "for idx in np.arange(5):\n",
    "    \n",
    "#     change tensor type to string type\n",
    "#     print(labels[idx])\n",
    "#     scalar_lable = int(labels[idx])\n",
    "#     print(type(scalar_lable))\n",
    "#     print(scalar_lable)\n",
    "#     str_label = str(scalar_lable)\n",
    "#     print(cat_to_name[str_label])\n",
    "#     break\n",
    "\n",
    "    ax = fig.add_subplot(1, 5, idx+1, xticks=[], yticks=[])\n",
    "    imshow(images[idx])\n",
    "    ax.set_title(cat_to_name[str(int(labels[idx]))])"
   ]
  },
  {
   "cell_type": "code",
   "execution_count": null,
   "metadata": {},
   "outputs": [],
   "source": [
    "rgb_img = np.squeeze(images[3])\n",
    "channels = ['red channel', 'green channel', 'blue channel']\n",
    "\n",
    "fig = plt.figure(figsize = (36, 36)) \n",
    "for idx in np.arange(rgb_img.shape[0]):\n",
    "    ax = fig.add_subplot(1, 3, idx + 1)\n",
    "    img = rgb_img[idx]\n",
    "    ax.imshow(img, cmap='gray')\n",
    "    ax.set_title(channels[idx])\n",
    "    width, height = img.shape\n",
    "    thresh = img.max()/2.5\n",
    "    for x in range(width):\n",
    "        for y in range(height):\n",
    "            val = round(img[x][y],2) if img[x][y] !=0 else 0\n",
    "            ax.annotate(str(val), xy=(y,x),\n",
    "                    horizontalalignment='center',\n",
    "                    verticalalignment='center', size=8,\n",
    "                    color='white' if img[x][y]<thresh else 'black')"
   ]
  },
  {
   "cell_type": "markdown",
   "metadata": {},
   "source": [
    "# Building and training the classifier\n",
    "\n",
    "Now that the data is ready, it's time to build and train the classifier. As usual, you should use one of the pretrained models from `torchvision.models` to get the image features. Build and train a new feed-forward classifier using those features.\n",
    "\n",
    "We're going to leave this part up to you. If you want to talk through it with someone, chat with your fellow students! You can also ask questions on the forums or join the instructors in office hours.\n",
    "\n",
    "Refer to [the rubric](https://review.udacity.com/#!/rubrics/1663/view) for guidance on successfully completing this section. Things you'll need to do:\n",
    "\n",
    "* Load a [pre-trained network](http://pytorch.org/docs/master/torchvision/models.html) (If you need a starting point, the VGG networks work great and are straightforward to use)\n",
    "* Define a new, untrained feed-forward network as a classifier, using ReLU activations and dropout\n",
    "* Train the classifier layers using backpropagation using the pre-trained network to get the features\n",
    "* Track the loss and accuracy on the validation set to determine the best hyperparameters\n",
    "\n",
    "We've left a cell open for you below, but use as many as you need. Our advice is to break the problem up into smaller parts you can run separately. Check that each part is doing what you expect, then move on to the next. You'll likely find that as you work through each part, you'll need to go back and modify your previous code. This is totally normal!\n",
    "\n",
    "When training make sure you're updating only the weights of the feed-forward network. You should be able to get the validation accuracy above 70% if you build everything right. Make sure to try different hyperparameters (learning rate, units in the classifier, epochs, etc) to find the best model. Save those hyperparameters to use as default values in the next part of the project."
   ]
  },
  {
   "cell_type": "code",
   "execution_count": 34,
   "metadata": {},
   "outputs": [
    {
     "name": "stdout",
     "output_type": "stream",
     "text": [
      "CUDA is available!  Training on GPU ...\n"
     ]
    }
   ],
   "source": [
    "# check if CUDA is available\n",
    "train_on_gpu = torch.cuda.is_available()\n",
    "\n",
    "if not train_on_gpu:\n",
    "    print('CUDA is not available.  Training on CPU ...')\n",
    "else:\n",
    "    print('CUDA is available!  Training on GPU ...')"
   ]
  },
  {
   "cell_type": "code",
   "execution_count": 38,
   "metadata": {},
   "outputs": [
    {
     "name": "stdout",
     "output_type": "stream",
     "text": [
      "Net(\n",
      "  (conv1): Conv2d(3, 16, kernel_size=(3, 3), stride=(1, 1), padding=(1, 1))\n",
      "  (conv3): Conv2d(16, 32, kernel_size=(3, 3), stride=(1, 1), padding=(1, 1))\n",
      "  (conv5): Conv2d(32, 64, kernel_size=(3, 3), stride=(1, 1), padding=(1, 1))\n",
      "  (conv6): Conv2d(64, 64, kernel_size=(3, 3), stride=(1, 1), padding=(1, 1))\n",
      "  (pool): MaxPool2d(kernel_size=2, stride=2, padding=0, dilation=1, ceil_mode=False)\n",
      "  (fc1): Linear(in_features=2304, out_features=512, bias=True)\n",
      "  (fc2): Linear(in_features=512, out_features=103, bias=True)\n",
      "  (dropout): Dropout(p=0.25)\n",
      ")\n"
     ]
    }
   ],
   "source": [
    "# TODO: Build and train your network\n",
    "import torch.nn as nn\n",
    "import torch.nn.functional as F\n",
    "\n",
    "# define the CNN architecture\n",
    "class Net(nn.Module):\n",
    "    def __init__(self):\n",
    "        super(Net, self).__init__()\n",
    "        # convolutional layer (sees 630x530x3 image tensor)\n",
    "        self.conv1 = nn.Conv2d(3, 16, 3, padding=1 )\n",
    "        # convolutional layer (sees 16x315x265 tensor)\n",
    "#         self.conv2 = nn.Conv2d(16, 16, 3, padding=1, stride=2)\n",
    "        # convolutional layer (sees 32x157x132 tensor)\n",
    "        self.conv3 = nn.Conv2d(16, 32, 3, padding=1)\n",
    "        # convolutional layer (sees 64x78x66 tensor)\n",
    "#         self.conv4 = nn.Conv2d(32, 32, 3, padding=1)\n",
    "        # convolutional layer (sees 64x39x33 tensor)        \n",
    "        self.conv5 = nn.Conv2d(32, 64, 3, padding=1)\n",
    "        # convolutional layer (sees 128x19x16 tensor)\n",
    "\n",
    "        self.conv6 = nn.Conv2d(64, 64, 3, padding=1)\n",
    "\n",
    "        # max pooling layer\n",
    "        self.pool = nn.MaxPool2d(2, 2)\n",
    "        # linear layer (128 * 16 * 16 -> 500)\n",
    "        self.fc1 = nn.Linear(64 * 6 * 6, 512)\n",
    "        # linear layer (500 -> 10)\n",
    "        self.fc2 = nn.Linear(512, 103)\n",
    "        # dropout layer (p=0.25)\n",
    "        self.dropout = nn.Dropout(0.25)\n",
    "\n",
    "    def forward(self, x):\n",
    "        # add sequence of convolutional and max pooling layers\n",
    "        x = self.pool(F.relu(self.conv1(x)))\n",
    "        x = self.dropout(x)\n",
    "#         x = self.pool(F.relu(self.conv2(x)))\n",
    "#         x = self.dropout(x)        \n",
    "        x = self.pool(F.relu(self.conv3(x)))\n",
    "        x = self.dropout(x)\n",
    "#         x = self.pool(F.relu(self.conv4(x)))\n",
    "#         x = self.dropout(x)\n",
    "        x = self.pool(F.relu(self.conv5(x)))\n",
    "        x = self.dropout(x)\n",
    "        x = self.pool(F.relu(self.conv6(x)))\n",
    "        x = self.dropout(x)\n",
    "        \n",
    "        # flatten image input\n",
    "        x = x.view(-1, 64 * 6 * 6)\n",
    "        # add dropout layer\n",
    "#         x = self.dropout(x)\n",
    "        # add 1st hidden layer, with relu activation function\n",
    "        x = F.relu(self.fc1(x))\n",
    "        # add dropout layer\n",
    "        x = self.dropout(x)\n",
    "        # add 2nd hidden layer, with relu activation function\n",
    "        x = self.fc2(x)\n",
    "        return x\n",
    "\n",
    "# create a complete CNN\n",
    "model = Net()\n",
    "print(model)\n",
    "\n",
    "# move tensors to GPU if CUDA is available\n",
    "if train_on_gpu:\n",
    "    model.cuda()"
   ]
  },
  {
   "cell_type": "code",
   "execution_count": 39,
   "metadata": {},
   "outputs": [],
   "source": [
    "import torch.optim as optim\n",
    "from torch.optim import lr_scheduler\n",
    "# specify loss function (categorical cross-entropy)\n",
    "criterion = nn.CrossEntropyLoss()\n",
    "\n",
    "# specify optimizer\n",
    "optimizer = optim.Adam(model.parameters(), lr=0.001)\n",
    "\n",
    "# optimizer = optim.SGD(model.parameters(), lr=0.01)"
   ]
  },
  {
   "cell_type": "code",
   "execution_count": 41,
   "metadata": {},
   "outputs": [
    {
     "name": "stdout",
     "output_type": "stream",
     "text": [
      "Epoch: 1 \tTraining Loss: 1.223470 \tValidation Loss: 0.367011\n",
      "Validation loss decreased (inf --> 0.367011).  Saving model ...\n",
      "Epoch: 2 \tTraining Loss: 1.188733 \tValidation Loss: 0.321190\n",
      "Validation loss decreased (0.367011 --> 0.321190).  Saving model ...\n",
      "Epoch: 3 \tTraining Loss: 0.964939 \tValidation Loss: 0.322709\n",
      "Epoch: 4 \tTraining Loss: 0.916764 \tValidation Loss: 0.332792\n",
      "Epoch: 5 \tTraining Loss: 0.916200 \tValidation Loss: 0.321729\n",
      "Epoch: 6 \tTraining Loss: 0.896643 \tValidation Loss: 0.329879\n",
      "Epoch: 7 \tTraining Loss: 0.890531 \tValidation Loss: 0.324982\n",
      "Epoch: 8 \tTraining Loss: 0.873155 \tValidation Loss: 0.326625\n",
      "Epoch: 9 \tTraining Loss: 0.857306 \tValidation Loss: 0.346086\n",
      "Epoch: 10 \tTraining Loss: 0.854681 \tValidation Loss: 0.345988\n",
      "Epoch: 11 \tTraining Loss: 0.836866 \tValidation Loss: 0.983636\n",
      "Epoch: 12 \tTraining Loss: 3.447428 \tValidation Loss: 0.570528\n",
      "Epoch: 13 \tTraining Loss: 1.843664 \tValidation Loss: 0.534672\n",
      "Epoch: 14 \tTraining Loss: 1.626584 \tValidation Loss: 0.602540\n",
      "Epoch: 15 \tTraining Loss: 1.719467 \tValidation Loss: 0.569334\n",
      "Epoch: 16 \tTraining Loss: 1.670118 \tValidation Loss: 0.498219\n"
     ]
    }
   ],
   "source": [
    "# number of epochs to train the model\n",
    "n_epochs = 16\n",
    "\n",
    "valid_loss_min = np.Inf # track change in validation loss\n",
    "\n",
    "for epoch in range(1, n_epochs+1):\n",
    "\n",
    "    # keep track of training and validation loss\n",
    "    train_loss = 0.0\n",
    "    valid_loss = 0.0\n",
    "    \n",
    "    ###################\n",
    "    # train the model #\n",
    "    ###################\n",
    "    model.train()\n",
    "    \n",
    "    for data, target in train_loader:\n",
    "#         print(\"-------------------train---------------------\")\n",
    "#         print(data.size())\n",
    "#         print(target)\n",
    "        \n",
    "        # move tensors to GPU if CUDA is available\n",
    "        if train_on_gpu:\n",
    "            data, target = data.cuda(), target.cuda().type(torch.cuda.LongTensor)\n",
    "        # clear the gradients of all optimized variables\n",
    "        optimizer.zero_grad()\n",
    "        # (train)forward pass: compute predicted outputs by passing inputs to the model\n",
    "        \n",
    "        output = model(data)\n",
    "        \n",
    "#         print(output)\n",
    "        \n",
    "        # calculate the batch loss\n",
    "        loss = criterion(output, target)\n",
    "        # backward pass: compute gradient of the loss with respect to model parameters\n",
    "        loss.backward()\n",
    "        # perform a single optimization step (parameter update)\n",
    "        optimizer.step()\n",
    "        # update training loss\n",
    "        train_loss += loss.item()*data.size(0)\n",
    "        \n",
    "    ######################    \n",
    "    # validate the model #\n",
    "    ######################\n",
    "    model.eval()\n",
    "    for data, target in valid_loader:\n",
    "#         print(\"-------------------validate----------------------\")\n",
    "#         print(len(data))\n",
    "#         print(target)\n",
    "        # move tensors to GPU if CUDA is available\n",
    "        if train_on_gpu:\n",
    "            data, target = data.cuda(), target.cuda().type(torch.cuda.LongTensor)\n",
    "        # (validation)forward pass: compute predicted outputs by passing inputs to the model\n",
    "        output = model(data)\n",
    "        # calculate the batch loss\n",
    "        loss = criterion(output, target)\n",
    "        # update average validation loss \n",
    "        valid_loss += loss.item()*data.size(0)\n",
    "    \n",
    "    # calculate average losses\n",
    "    train_loss = train_loss/len(train_loader.dataset)\n",
    "    valid_loss = valid_loss/len(valid_loader.dataset)\n",
    "        \n",
    "    # print training/validation statistics \n",
    "    print('Epoch: {} \\tTraining Loss: {:.6f} \\tValidation Loss: {:.6f}'.format(\n",
    "        epoch, train_loss, valid_loss))\n",
    "    \n",
    "    # save model if validation loss has decreased\n",
    "    if valid_loss <= valid_loss_min:\n",
    "        print('Validation loss decreased ({:.6f} --> {:.6f}).  Saving model ...'.format(\n",
    "        valid_loss_min,\n",
    "        valid_loss))\n",
    "        torch.save(model.state_dict(), 'model_flower_v4.pt')\n",
    "        valid_loss_min = valid_loss"
   ]
  },
  {
   "cell_type": "markdown",
   "metadata": {},
   "source": [
    "## Save the checkpoint\n",
    "\n",
    "Now that your network is trained, save the model so you can load it later for making predictions. You probably want to save other things such as the mapping of classes to indices which you get from one of the image datasets: `image_datasets['train'].class_to_idx`. You can attach this to the model as an attribute which makes inference easier later on.\n",
    "\n",
    "```model.class_to_idx = image_datasets['train'].class_to_idx```\n",
    "\n",
    "Remember that you'll want to completely rebuild the model later so you can use it for inference. Make sure to include any information you need in the checkpoint. If you want to load the model and keep training, you'll want to save the number of epochs as well as the optimizer state, `optimizer.state_dict`. You'll likely want to use this trained model in the next part of the project, so best to save it now."
   ]
  },
  {
   "cell_type": "code",
   "execution_count": null,
   "metadata": {},
   "outputs": [],
   "source": [
    "# TODO: Save the checkpoint "
   ]
  },
  {
   "cell_type": "markdown",
   "metadata": {},
   "source": [
    "## Loading the checkpoint\n",
    "\n",
    "At this point it's good to write a function that can load a checkpoint and rebuild the model. That way you can come back to this project and keep working on it without having to retrain the network."
   ]
  },
  {
   "cell_type": "code",
   "execution_count": 42,
   "metadata": {},
   "outputs": [],
   "source": [
    "# TODO: Write a function that loads a checkpoint and rebuilds the model\n",
    "model.load_state_dict(torch.load('model_flower_v3.pt'))"
   ]
  },
  {
   "cell_type": "code",
   "execution_count": 43,
   "metadata": {},
   "outputs": [
    {
     "name": "stdout",
     "output_type": "stream",
     "text": [
      "-------------------Test result----------------------\n",
      "0 -->  [0 0 0 0 0 0 0 0 1 0 0 1 1 1 1 1 1 1 0 0 0 0 0 0 0 0 0 0 0 0 0 0]\n",
      "-------------------Test result----------------------\n",
      "1 -->  [0 0 0 0 0 0 0 0 0 0 0 0 0 0 0 0 0 1 0 0 0 0 0 0 1 0 0 0 0 1 0 0]\n",
      "-------------------Test result----------------------\n",
      "2 -->  [0 0 1 1 1 0 1 1 1 1 0 0 0 0 0 0 0 0 0 0 0 0 0 0 0 0 0 1 1 1 0 0]\n",
      "-------------------Test result----------------------\n",
      "3 -->  [0 0 0 0 0 0 0 0 0 0 0 0 0 0 0 0 0 0 0 0 0 0 0 0 0 0 0 0 0 0 0 0]\n",
      "-------------------Test result----------------------\n",
      "4 -->  [1 1 0 1 0 1 0 0 0 0 1 1 0 0 0 0 0 0 0 0 1 0 0 0 0 0 0 0 0 0 0 0]\n",
      "-------------------Test result----------------------\n",
      "5 -->  [0 1 0 0 0 0 0 0 0 0 0 0 0 0 0 0 0 0 0 0 1 0 0 0 0 0 0 0 0 0 0 0]\n",
      "-------------------Test result----------------------\n",
      "6 -->  [0 0 1 0 1 0 1 0 0 0 0 0 0 0 0 0 0 0 0 0 0 1 0 0 0 0 0 0 0 0 0 0]\n",
      "-------------------Test result----------------------\n",
      "7 -->  [0 0 0 0 0 0 0 0 0 0 0 0 0 0 0 0 0 0 0 0 0 0 0 0 0 0 0 0 0 0 0 1]\n",
      "-------------------Test result----------------------\n",
      "8 -->  [0 0 0 0 1 0 0 0 0 0 0 0 0 1 0 0 0 1 0 0 0 0 0 0 0 0 0 0 0 0 0 0]\n",
      "-------------------Test result----------------------\n",
      "9 -->  [0 0 0 0 0 0 0 0 0 0 0 1 0 0 0 0 0 1 0 0 0 0 0 1 0 1 0 1 1 1 0 1]\n",
      "-------------------Test result----------------------\n",
      "10 -->  [0 1 0 0 0 0 0 0 0 0 0 0 0 0 0 0 0 0 0 0 0 0 0 0 0 0 0 0 0 0 0 0]\n",
      "-------------------Test result----------------------\n",
      "11 -->  [0 1 0 1 0 0 0 0 0 0 1 0 0 0 0 0 0 0 0 0 0 1 0 0 0 0 0 0 0 0 0 0]\n",
      "-------------------Test result----------------------\n",
      "12 -->  [0 0 0 0 0 0 0 1 0 1 1 0 0 0 0 0 0 0 1 1 1 1 1 1 1 1 1 1 1 1 0 1]\n",
      "-------------------Test result----------------------\n",
      "13 -->  [0 0 1 0 0 1 1 1 1 1 1 1 0 1 1 1 1 1 0 0 0 0 0 0 0 1 0 0 0 0 1 0]\n",
      "-------------------Test result----------------------\n",
      "14 -->  [0 0 0 0 0 0 1 0 1 0 1 0 0 0 1 1 0 0 0 0 0 0 0 0 0 0 0 0 0 0 0 0]\n",
      "-------------------Test result----------------------\n",
      "15 -->  [0 0 0 0 0 0 0 0 0 0 1 1 0 0 0 0 0 0 0 0 0 0 0 0 0 0 1 0 0 0 0 0]\n",
      "-------------------Test result----------------------\n",
      "16 -->  [0 0 0 0 0 0 0 0 0 0 0 0 1 0 0 0 0 0 0 0 0 0 0 0 0 0 0 0 0 1 1 0]\n",
      "-------------------Test result----------------------\n",
      "17 -->  [0 0 0 1 1 1 0 0 0 0 0 0 0 0 0 0 0 0 0 0 0 0 0 0 0 0 0 0 0 0 1 1]\n",
      "-------------------Test result----------------------\n",
      "18 -->  [1 1 1 0 0 1 0 0 1 1 1 0 0 1 1 0 1 1 1 0 0 0 0 1 0 1 0 0 0 0 0 0]\n",
      "-------------------Test result----------------------\n",
      "19 -->  [1 0 1 0 1 0 0 0 0 0 0 0 0 0 0 0 0 0 1 0 0 1 1 0 0 0 1 0 0 1 0 0]\n",
      "-------------------Test result----------------------\n",
      "20 -->  [0 0 0 0 0 0 0 0 0 0 0 0 0 0 0 0 0 0 0 0 0 0 0 0 0 0 0 0 0 0 0 0]\n",
      "-------------------Test result----------------------\n",
      "21 -->  [0 0 0 0 0 0 0 0 0 0 0 0 0 0 0 0 0 0 0 0 0 0 0 0 0 0 0 0 0 0 0 0]\n",
      "-------------------Test result----------------------\n",
      "22 -->  [0 0 0 0 0 0 0 0 0 0 0 0 0 0 0 0 0 0 0 0 0 0 0 0 0 0 0 0 0 0 0 0]\n",
      "-------------------Test result----------------------\n",
      "23 -->  [0 0 0 0 0 0 0 0 0 0 0 0 0 0 0 0 0 0 0 0 0 0 0 0 1 1 0 0 0 1 0 0]\n",
      "-------------------Test result----------------------\n",
      "24 -->  [0 0 1 0 0 0 0 0 0 0 0 0 0 0 0 0 0 0 0 0 0 0 0 0 0 0 0 0 0 0 0 0]\n",
      "-------------------Test result----------------------\n",
      "25 -->  [0 0 0 0 0 0 0 0 0 0 0 0 0 0 0 0 0 0]\n",
      "Test Loss: 2.806584\n",
      "\n"
     ]
    }
   ],
   "source": [
    "# track test loss\n",
    "test_loss = 0.0\n",
    "class_correct = list(0. for i in range(102))\n",
    "class_total = list(0. for i in range(102))\n",
    "\n",
    "model.eval()\n",
    "\n",
    "# iterate over test data\n",
    "for batch_idx, (data, target) in enumerate(test_loader):\n",
    "    # move tensors to GPU if CUDA is available\n",
    "    if train_on_gpu:\n",
    "        data, target = data.cuda(), target.cuda().type(torch.cuda.LongTensor)\n",
    "    # forward pass: compute predicted outputs by passing inputs to the model\n",
    "    output = model(data)\n",
    "    # calculate the batch loss\n",
    "    loss = criterion(output, target)\n",
    "    # update test loss \n",
    "    test_loss += loss.item()*data.size(0)\n",
    "    # convert output probabilities to predicted class\n",
    "    _, pred = torch.max(output, 1)    \n",
    "    # compare predictions to true label\n",
    "    correct_tensor = pred.eq(target.data.view_as(pred))\n",
    "    correct = np.squeeze(correct_tensor.numpy()) if not train_on_gpu else np.squeeze(correct_tensor.cpu().numpy())\n",
    "    \n",
    "    print(\"-------------------Test result----------------------\")\n",
    "    print(batch_idx,\"--> \", correct)\n",
    "        \n",
    "    # calculate test accuracy for each object class\n",
    "    for i in range(len(target.data)):\n",
    "        label = target.data[i]\n",
    "        class_correct[label] += correct[i].item()\n",
    "        class_total[label] += 1\n",
    "        \n",
    "# average test loss\n",
    "test_loss = test_loss/len(test_loader.dataset)\n",
    "print('Test Loss: {:.6f}\\n'.format(test_loss))"
   ]
  },
  {
   "cell_type": "code",
   "execution_count": 44,
   "metadata": {},
   "outputs": [
    {
     "name": "stdout",
     "output_type": "stream",
     "text": [
      "Test Accuracy of pink primrose: 0.00% ( 0/ 8)\n",
      "Test Accuracy of hard-leaved pocket orchid: 50.00% ( 2/ 4)\n",
      "Test Accuracy of canterbury bells: 100.00% ( 6/ 6)\n",
      "Test Accuracy of sweet pea: 0.00% ( 0/ 5)\n",
      "Test Accuracy of english marigold: 0.00% ( 0/ 6)\n",
      "Test Accuracy of tiger lily: 0.00% ( 0/10)\n",
      "Test Accuracy of moon orchid: 0.00% ( 0/ 5)\n",
      "Test Accuracy of bird of paradise: 0.00% ( 0/ 5)\n",
      "Test Accuracy of monkshood: 100.00% ( 1/ 1)\n",
      "Test Accuracy of globe thistle: 14.29% ( 1/ 7)\n",
      "Test Accuracy of snapdragon: 0.00% ( 0/ 2)\n",
      "Test Accuracy of colt's foot: 50.00% ( 8/16)\n",
      "Test Accuracy of king protea: 0.00% ( 0/11)\n",
      "Test Accuracy of spear thistle: 0.00% ( 0/ 4)\n",
      "Test Accuracy of yellow iris: 50.00% ( 3/ 6)\n",
      "Test Accuracy of globe-flower: 0.00% ( 0/ 7)\n",
      "Test Accuracy of purple coneflower: 0.00% ( 0/ 4)\n",
      "Test Accuracy of peruvian lily: 0.00% ( 0/ 8)\n",
      "Test Accuracy of balloon flower: 0.00% ( 0/12)\n",
      "Test Accuracy of giant white arum lily: 60.00% ( 3/ 5)\n",
      "Test Accuracy of fire lily: 50.00% ( 1/ 2)\n",
      "Test Accuracy of pincushion flower: 0.00% ( 0/ 3)\n",
      "Test Accuracy of fritillary: 0.00% ( 0/ 1)\n",
      "Test Accuracy of red ginger: 40.00% ( 2/ 5)\n",
      "Test Accuracy of grape hyacinth: 14.29% ( 1/ 7)\n",
      "Test Accuracy of corn poppy: 0.00% ( 0/ 2)\n",
      "Test Accuracy of prince of wales feathers: 10.00% ( 1/10)\n",
      "Test Accuracy of stemless gentian: 0.00% ( 0/ 2)\n",
      "Test Accuracy of artichoke: 0.00% ( 0/ 3)\n",
      "Test Accuracy of sweet william: 0.00% ( 0/ 7)\n",
      "Test Accuracy of carnation: 14.29% ( 1/ 7)\n",
      "Test Accuracy of garden phlox: 0.00% ( 0/ 4)\n",
      "Test Accuracy of love in the mist: 0.00% ( 0/ 6)\n",
      "Test Accuracy of mexican aster: 37.50% ( 3/ 8)\n",
      "Test Accuracy of alpine sea holly: 0.00% ( 0/ 4)\n",
      "Test Accuracy of ruby-lipped cattleya: 0.00% ( 0/ 3)\n",
      "Test Accuracy of cape flower: 0.00% ( 0/ 6)\n",
      "Test Accuracy of great masterwort: 20.00% ( 1/ 5)\n",
      "Test Accuracy of siam tulip: 0.00% ( 0/16)\n",
      "Test Accuracy of lenten rose: 0.00% ( 0/ 6)\n",
      "Test Accuracy of barbeton daisy: 0.00% ( 0/14)\n",
      "Test Accuracy of daffodil: 22.22% ( 2/ 9)\n",
      "Test Accuracy of sword lily: 0.00% ( 0/ 4)\n",
      "Test Accuracy of poinsettia: 11.11% ( 2/18)\n",
      "Test Accuracy of bolero deep blue: 0.00% ( 0/ 3)\n",
      "Test Accuracy of wallflower: 0.00% ( 0/ 9)\n",
      "Test Accuracy of marigold: 12.50% ( 1/ 8)\n",
      "Test Accuracy of buttercup: 14.29% ( 1/ 7)\n",
      "Test Accuracy of oxeye daisy: 63.64% ( 7/11)\n",
      "Test Accuracy of common dandelion: 0.00% ( 0/28)\n",
      "Test Accuracy of petunia: 20.00% ( 2/10)\n",
      "Test Accuracy of wild pansy: 11.11% ( 1/ 9)\n",
      "Test Accuracy of primula: 10.00% ( 1/10)\n",
      "Test Accuracy of sunflower: 0.00% ( 0/ 8)\n",
      "Test Accuracy of pelargonium: 33.33% ( 3/ 9)\n",
      "Test Accuracy of bishop of llandaff: 0.00% ( 0/ 6)\n",
      "Test Accuracy of gaura: 92.86% (13/14)\n",
      "Test Accuracy of geranium: 25.00% ( 1/ 4)\n",
      "Test Accuracy of orange dahlia: 0.00% ( 0/ 1)\n",
      "Test Accuracy of pink-yellow dahlia: 85.71% (12/14)\n",
      "Test Accuracy of cautleya spicata: 0.00% ( 0/ 6)\n",
      "Test Accuracy of japanese anemone: 33.33% ( 1/ 3)\n",
      "Test Accuracy of black-eyed susan: 12.50% ( 1/ 8)\n",
      "Test Accuracy of silverbush: 40.00% ( 2/ 5)\n",
      "Test Accuracy of californian poppy: 42.86% ( 3/ 7)\n",
      "Test Accuracy of osteospermum: 0.00% ( 0/ 6)\n",
      "Test Accuracy of spring crocus: 0.00% ( 0/ 2)\n",
      "Test Accuracy of bearded iris: 0.00% ( 0/ 8)\n",
      "Test Accuracy of windflower: 0.00% ( 0/ 5)\n",
      "Test Accuracy of tree poppy: 0.00% ( 0/ 1)\n",
      "Test Accuracy of gazania: 28.57% ( 2/ 7)\n",
      "Test Accuracy of azalea: 0.00% ( 0/ 5)\n",
      "Test Accuracy of water lily: 0.00% ( 0/ 8)\n",
      "Test Accuracy of  rose: 10.53% ( 2/19)\n",
      "Test Accuracy of thorn apple: 0.00% ( 0/15)\n",
      "Test Accuracy of morning glory: 41.67% ( 5/12)\n",
      "Test Accuracy of passion flower: 0.00% ( 0/20)\n",
      "Test Accuracy of lotus lotus: 57.14% (12/21)\n",
      "Test Accuracy of toad lily: 36.36% ( 4/11)\n",
      "Test Accuracy of anthurium: 0.00% ( 0/ 4)\n",
      "Test Accuracy of frangipani: 60.00% ( 3/ 5)\n",
      "Test Accuracy of clematis: 0.00% ( 0/12)\n",
      "Test Accuracy of hibiscus: 27.78% ( 5/18)\n",
      "Test Accuracy of columbine: 0.00% ( 0/13)\n",
      "Test Accuracy of desert-rose: 0.00% ( 0/13)\n",
      "Test Accuracy of tree mallow: 0.00% ( 0/10)\n",
      "Test Accuracy of magnolia: 0.00% ( 0/ 5)\n",
      "Test Accuracy of cyclamen: 0.00% ( 0/ 5)\n",
      "Test Accuracy of watercress: 0.00% ( 0/ 6)\n",
      "Test Accuracy of canna lily: 0.00% ( 0/25)\n",
      "Test Accuracy of hippeastrum: 0.00% ( 0/16)\n",
      "Test Accuracy of bee balm: 0.00% ( 0/ 3)\n",
      "Test Accuracy of ball moss: 0.00% ( 0/ 2)\n",
      "Test Accuracy of foxglove: 0.00% ( 0/ 9)\n",
      "Test Accuracy of bougainvillea: 0.00% ( 0/ 2)\n",
      "Test Accuracy of camellia: 0.00% ( 0/ 6)\n",
      "Test Accuracy of mallow: 28.57% ( 4/14)\n",
      "Test Accuracy of mexican petunia: 0.00% ( 0/13)\n",
      "Test Accuracy of bromelia: 0.00% ( 0/10)\n",
      "Test Accuracy of blanket flower: 0.00% ( 0/ 7)\n",
      "Test Accuracy of trumpet creeper: 0.00% ( 0/10)\n",
      "Test Accuracy of blackberry lily: 0.00% ( 0/ 6)\n",
      "\n",
      "Test Accuracy (Overall): 15.16% (124/818)\n"
     ]
    }
   ],
   "source": [
    "for i in range(len(class_total)):\n",
    "    if class_total[i] > 0:\n",
    "        print('Test Accuracy of %5s: %.2f%% (%2d/%2d)' % (\n",
    "            cat_to_name[str(i+1)], 100 * class_correct[i] / class_total[i],\n",
    "            np.sum(class_correct[i]), np.sum(class_total[i])))\n",
    "    else:\n",
    "        print('Test Accuracy of %5s: N/A (no training examples)' % (classes[i]))\n",
    "\n",
    "print('\\nTest Accuracy (Overall): %.2f%% (%2d/%2d)' % (\n",
    "    100. * np.sum(class_correct) / np.sum(class_total),\n",
    "    np.sum(class_correct), np.sum(class_total)))"
   ]
  },
  {
   "cell_type": "markdown",
   "metadata": {},
   "source": [
    "# Inference for classification\n",
    "\n",
    "Now you'll write a function to use a trained network for inference. That is, you'll pass an image into the network and predict the class of the flower in the image. Write a function called `predict` that takes an image and a model, then returns the top $K$ most likely classes along with the probabilities. It should look like \n",
    "\n",
    "```python\n",
    "probs, classes = predict(image_path, model)\n",
    "print(probs)\n",
    "print(classes)\n",
    "> [ 0.01558163  0.01541934  0.01452626  0.01443549  0.01407339]\n",
    "> ['70', '3', '45', '62', '55']\n",
    "```\n",
    "\n",
    "First you'll need to handle processing the input image such that it can be used in your network. \n",
    "\n",
    "## Image Preprocessing\n",
    "\n",
    "You'll want to use `PIL` to load the image ([documentation](https://pillow.readthedocs.io/en/latest/reference/Image.html)). It's best to write a function that preprocesses the image so it can be used as input for the model. This function should process the images in the same manner used for training. \n",
    "\n",
    "First, resize the images where the shortest side is 256 pixels, keeping the aspect ratio. This can be done with the [`thumbnail`](http://pillow.readthedocs.io/en/3.1.x/reference/Image.html#PIL.Image.Image.thumbnail) or [`resize`](http://pillow.readthedocs.io/en/3.1.x/reference/Image.html#PIL.Image.Image.thumbnail) methods. Then you'll need to crop out the center 224x224 portion of the image.\n",
    "\n",
    "Color channels of images are typically encoded as integers 0-255, but the model expected floats 0-1. You'll need to convert the values. It's easiest with a Numpy array, which you can get from a PIL image like so `np_image = np.array(pil_image)`.\n",
    "\n",
    "As before, the network expects the images to be normalized in a specific way. For the means, it's `[0.485, 0.456, 0.406]` and for the standard deviations `[0.229, 0.224, 0.225]`. You'll want to subtract the means from each color channel, then divide by the standard deviation. \n",
    "\n",
    "And finally, PyTorch expects the color channel to be the first dimension but it's the third dimension in the PIL image and Numpy array. You can reorder dimensions using [`ndarray.transpose`](https://docs.scipy.org/doc/numpy-1.13.0/reference/generated/numpy.ndarray.transpose.html). The color channel needs to be first and retain the order of the other two dimensions."
   ]
  },
  {
   "cell_type": "code",
   "execution_count": null,
   "metadata": {},
   "outputs": [],
   "source": [
    "def process_image(image):\n",
    "    ''' Scales, crops, and normalizes a PIL image for a PyTorch model,\n",
    "        returns an Numpy array\n",
    "    '''\n",
    "    \n",
    "    # TODO: Process a PIL image for use in a PyTorch model"
   ]
  },
  {
   "cell_type": "markdown",
   "metadata": {},
   "source": [
    "To check your work, the function below converts a PyTorch tensor and displays it in the notebook. If your `process_image` function works, running the output through this function should return the original image (except for the cropped out portions)."
   ]
  },
  {
   "cell_type": "code",
   "execution_count": null,
   "metadata": {},
   "outputs": [],
   "source": [
    "def imshow(image, ax=None, title=None):\n",
    "    \"\"\"Imshow for Tensor.\"\"\"\n",
    "    if ax is None:\n",
    "        fig, ax = plt.subplots()\n",
    "    \n",
    "    # PyTorch tensors assume the color channel is the first dimension\n",
    "    # but matplotlib assumes is the third dimension\n",
    "    image = image.numpy().transpose((1, 2, 0))\n",
    "    \n",
    "    # Undo preprocessing\n",
    "    mean = np.array([0.485, 0.456, 0.406])\n",
    "    std = np.array([0.229, 0.224, 0.225])\n",
    "    image = std * image + mean\n",
    "    \n",
    "    # Image needs to be clipped between 0 and 1 or it looks like noise when displayed\n",
    "    image = np.clip(image, 0, 1)\n",
    "    \n",
    "    ax.imshow(image)\n",
    "    \n",
    "    return ax"
   ]
  },
  {
   "cell_type": "markdown",
   "metadata": {},
   "source": [
    "## Class Prediction\n",
    "\n",
    "Once you can get images in the correct format, it's time to write a function for making predictions with your model. A common practice is to predict the top 5 or so (usually called top-$K$) most probable classes. You'll want to calculate the class probabilities then find the $K$ largest values.\n",
    "\n",
    "To get the top $K$ largest values in a tensor use [`x.topk(k)`](http://pytorch.org/docs/master/torch.html#torch.topk). This method returns both the highest `k` probabilities and the indices of those probabilities corresponding to the classes. You need to convert from these indices to the actual class labels using `class_to_idx` which hopefully you added to the model or from an `ImageFolder` you used to load the data ([see here](#Save-the-checkpoint)). Make sure to invert the dictionary so you get a mapping from index to class as well.\n",
    "\n",
    "Again, this method should take a path to an image and a model checkpoint, then return the probabilities and classes.\n",
    "\n",
    "```python\n",
    "probs, classes = predict(image_path, model)\n",
    "print(probs)\n",
    "print(classes)\n",
    "> [ 0.01558163  0.01541934  0.01452626  0.01443549  0.01407339]\n",
    "> ['70', '3', '45', '62', '55']\n",
    "```"
   ]
  },
  {
   "cell_type": "code",
   "execution_count": null,
   "metadata": {},
   "outputs": [],
   "source": [
    "def predict(image_path, model, topk=5):\n",
    "    ''' Predict the class (or classes) of an image using a trained deep learning model.\n",
    "    '''\n",
    "    \n",
    "    # TODO: Implement the code to predict the class from an image file"
   ]
  },
  {
   "cell_type": "markdown",
   "metadata": {},
   "source": [
    "## Sanity Checking\n",
    "\n",
    "Now that you can use a trained model for predictions, check to make sure it makes sense. Even if the validation accuracy is high, it's always good to check that there aren't obvious bugs. Use `matplotlib` to plot the probabilities for the top 5 classes as a bar graph, along with the input image. It should look like this:\n",
    "\n",
    "<img src='assets/inference_example.png' width=300px>\n",
    "\n",
    "You can convert from the class integer encoding to actual flower names with the `cat_to_name.json` file (should have been loaded earlier in the notebook). To show a PyTorch tensor as an image, use the `imshow` function defined above."
   ]
  },
  {
   "cell_type": "code",
   "execution_count": null,
   "metadata": {},
   "outputs": [],
   "source": [
    "# TODO: Display an image along with the top 5 classes"
   ]
  }
 ],
 "metadata": {
  "kernelspec": {
   "display_name": "Python 3",
   "language": "python",
   "name": "python3"
  },
  "language_info": {
   "codemirror_mode": {
    "name": "ipython",
    "version": 3
   },
   "file_extension": ".py",
   "mimetype": "text/x-python",
   "name": "python",
   "nbconvert_exporter": "python",
   "pygments_lexer": "ipython3",
   "version": "3.6.1"
  }
 },
 "nbformat": 4,
 "nbformat_minor": 2
}
