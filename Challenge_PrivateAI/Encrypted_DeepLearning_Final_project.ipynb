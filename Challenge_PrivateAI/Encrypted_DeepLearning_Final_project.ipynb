{
 "cells": [
  {
   "cell_type": "code",
   "execution_count": 1,
   "metadata": {},
   "outputs": [],
   "source": [
    "import torch\n",
    "import torch.nn as nn\n",
    "import torch.nn.functional as F\n",
    "import torch.optim as optim\n",
    "from torchvision import datasets, transforms"
   ]
  },
  {
   "cell_type": "code",
   "execution_count": 2,
   "metadata": {},
   "outputs": [
    {
     "name": "stderr",
     "output_type": "stream",
     "text": [
      "WARNING: Logging before flag parsing goes to stderr.\n",
      "W0807 10:07:14.539326 12656 secure_random.py:26] Falling back to insecure randomness since the required custom op could not be found for the installed version of TensorFlow. Fix this by compiling custom ops. Missing file was 'd:\\ProgramData\\Miniconda3\\envs\\pysyft\\lib\\site-packages\\tf_encrypted/operations/secure_random/secure_random_module_tf_1.14.0.so'\n",
      "W0807 10:07:14.554315 12656 deprecation_wrapper.py:119] From d:\\ProgramData\\Miniconda3\\envs\\pysyft\\lib\\site-packages\\tf_encrypted\\session.py:26: The name tf.Session is deprecated. Please use tf.compat.v1.Session instead.\n",
      "\n"
     ]
    }
   ],
   "source": [
    "import syft as sy  \n",
    "hook = sy.TorchHook(torch) \n",
    "client = sy.VirtualWorker(hook, id=\"client\") \n",
    "bob = sy.VirtualWorker(hook, id=\"bob\")\n",
    "alice = sy.VirtualWorker(hook, id=\"alice\")\n",
    "crypto_provider = sy.VirtualWorker(hook, id=\"crypto_provider\")"
   ]
  },
  {
   "cell_type": "code",
   "execution_count": 3,
   "metadata": {},
   "outputs": [],
   "source": [
    "class Arguments():\n",
    "    def __init__(self):\n",
    "        self.batch_size = 64\n",
    "        self.test_batch_size = 200\n",
    "        self.epochs = 10\n",
    "        self.lr = 0.001 # learning rate\n",
    "        self.log_interval = 100\n",
    "\n",
    "args = Arguments()"
   ]
  },
  {
   "cell_type": "code",
   "execution_count": 4,
   "metadata": {},
   "outputs": [],
   "source": [
    "train_loader = torch.utils.data.DataLoader(\n",
    "    datasets.MNIST('./dataset', train=True, download=True,\n",
    "                   transform=transforms.Compose([\n",
    "                       transforms.ToTensor(),\n",
    "                       transforms.Normalize((0.1307,), (0.3081,))\n",
    "                   ])),\n",
    "    batch_size=args.batch_size, shuffle=True)"
   ]
  },
  {
   "cell_type": "code",
   "execution_count": 6,
   "metadata": {},
   "outputs": [],
   "source": [
    "test_loader = torch.utils.data.DataLoader(\n",
    "    datasets.MNIST('./dataset', train=False,\n",
    "                   transform=transforms.Compose([\n",
    "                       transforms.ToTensor(),\n",
    "                       transforms.Normalize((0.1307,), (0.3081,))\n",
    "                   ])),\n",
    "    batch_size=args.test_batch_size, shuffle=True)"
   ]
  },
  {
   "cell_type": "code",
   "execution_count": 8,
   "metadata": {},
   "outputs": [],
   "source": [
    "# Convert to integers and privately share the dataset\n",
    "private_test_loader = []\n",
    "for data, target in test_loader:\n",
    "    private_test_loader.append((\n",
    "        data.fix_prec().share(alice, bob, crypto_provider=crypto_provider),\n",
    "        target.fix_prec().share(alice, bob, crypto_provider=crypto_provider)\n",
    "    ))"
   ]
  },
  {
   "cell_type": "code",
   "execution_count": 9,
   "metadata": {},
   "outputs": [],
   "source": [
    "class Net(nn.Module):\n",
    "    def __init__(self):\n",
    "        super(Net, self).__init__()\n",
    "        self.fc1 = nn.Linear(784, 500)\n",
    "        self.fc2 = nn.Linear(500, 10)\n",
    "\n",
    "    def forward(self, x):\n",
    "        x = x.view(-1, 784)\n",
    "        x = self.fc1(x)\n",
    "        x = F.relu(x)\n",
    "        x = self.fc2(x)\n",
    "        return x"
   ]
  },
  {
   "cell_type": "code",
   "execution_count": 10,
   "metadata": {},
   "outputs": [],
   "source": [
    "def train(args, model, train_loader, optimizer, epoch):\n",
    "    model.train()\n",
    "    for batch_idx, (data, target) in enumerate(train_loader):\n",
    "        optimizer.zero_grad()\n",
    "        output = model(data)\n",
    "        output = F.log_softmax(output, dim=1)\n",
    "        loss = F.nll_loss(output, target)\n",
    "        loss.backward()\n",
    "        optimizer.step()\n",
    "        if batch_idx % args.log_interval == 0:\n",
    "            print('Train Epoch: {} [{}/{} ({:.0f}%)]'.format(\n",
    "                epoch, batch_idx * args.batch_size, len(train_loader) * args.batch_size,\n",
    "                100. * batch_idx / len(train_loader)))"
   ]
  },
  {
   "cell_type": "code",
   "execution_count": 11,
   "metadata": {},
   "outputs": [
    {
     "name": "stdout",
     "output_type": "stream",
     "text": [
      "Train Epoch: 1 [0/60032 (0%)]\n",
      "Train Epoch: 1 [6400/60032 (11%)]\n",
      "Train Epoch: 1 [12800/60032 (21%)]\n",
      "Train Epoch: 1 [19200/60032 (32%)]\n",
      "Train Epoch: 1 [25600/60032 (43%)]\n",
      "Train Epoch: 1 [32000/60032 (53%)]\n",
      "Train Epoch: 1 [38400/60032 (64%)]\n",
      "Train Epoch: 1 [44800/60032 (75%)]\n",
      "Train Epoch: 1 [51200/60032 (85%)]\n",
      "Train Epoch: 1 [57600/60032 (96%)]\n",
      "Train Epoch: 2 [0/60032 (0%)]\n",
      "Train Epoch: 2 [6400/60032 (11%)]\n",
      "Train Epoch: 2 [12800/60032 (21%)]\n",
      "Train Epoch: 2 [19200/60032 (32%)]\n",
      "Train Epoch: 2 [25600/60032 (43%)]\n",
      "Train Epoch: 2 [32000/60032 (53%)]\n",
      "Train Epoch: 2 [38400/60032 (64%)]\n",
      "Train Epoch: 2 [44800/60032 (75%)]\n",
      "Train Epoch: 2 [51200/60032 (85%)]\n",
      "Train Epoch: 2 [57600/60032 (96%)]\n",
      "Train Epoch: 3 [0/60032 (0%)]\n",
      "Train Epoch: 3 [6400/60032 (11%)]\n",
      "Train Epoch: 3 [12800/60032 (21%)]\n",
      "Train Epoch: 3 [19200/60032 (32%)]\n",
      "Train Epoch: 3 [25600/60032 (43%)]\n",
      "Train Epoch: 3 [32000/60032 (53%)]\n",
      "Train Epoch: 3 [38400/60032 (64%)]\n",
      "Train Epoch: 3 [44800/60032 (75%)]\n",
      "Train Epoch: 3 [51200/60032 (85%)]\n",
      "Train Epoch: 3 [57600/60032 (96%)]\n",
      "Train Epoch: 4 [0/60032 (0%)]\n",
      "Train Epoch: 4 [6400/60032 (11%)]\n",
      "Train Epoch: 4 [12800/60032 (21%)]\n",
      "Train Epoch: 4 [19200/60032 (32%)]\n",
      "Train Epoch: 4 [25600/60032 (43%)]\n",
      "Train Epoch: 4 [32000/60032 (53%)]\n",
      "Train Epoch: 4 [38400/60032 (64%)]\n",
      "Train Epoch: 4 [44800/60032 (75%)]\n",
      "Train Epoch: 4 [51200/60032 (85%)]\n",
      "Train Epoch: 4 [57600/60032 (96%)]\n",
      "Train Epoch: 5 [0/60032 (0%)]\n",
      "Train Epoch: 5 [6400/60032 (11%)]\n",
      "Train Epoch: 5 [12800/60032 (21%)]\n",
      "Train Epoch: 5 [19200/60032 (32%)]\n",
      "Train Epoch: 5 [25600/60032 (43%)]\n",
      "Train Epoch: 5 [32000/60032 (53%)]\n",
      "Train Epoch: 5 [38400/60032 (64%)]\n",
      "Train Epoch: 5 [44800/60032 (75%)]\n",
      "Train Epoch: 5 [51200/60032 (85%)]\n",
      "Train Epoch: 5 [57600/60032 (96%)]\n",
      "Train Epoch: 6 [0/60032 (0%)]\n",
      "Train Epoch: 6 [6400/60032 (11%)]\n",
      "Train Epoch: 6 [12800/60032 (21%)]\n",
      "Train Epoch: 6 [19200/60032 (32%)]\n",
      "Train Epoch: 6 [25600/60032 (43%)]\n",
      "Train Epoch: 6 [32000/60032 (53%)]\n",
      "Train Epoch: 6 [38400/60032 (64%)]\n",
      "Train Epoch: 6 [44800/60032 (75%)]\n",
      "Train Epoch: 6 [51200/60032 (85%)]\n",
      "Train Epoch: 6 [57600/60032 (96%)]\n",
      "Train Epoch: 7 [0/60032 (0%)]\n",
      "Train Epoch: 7 [6400/60032 (11%)]\n",
      "Train Epoch: 7 [12800/60032 (21%)]\n",
      "Train Epoch: 7 [19200/60032 (32%)]\n",
      "Train Epoch: 7 [25600/60032 (43%)]\n",
      "Train Epoch: 7 [32000/60032 (53%)]\n",
      "Train Epoch: 7 [38400/60032 (64%)]\n",
      "Train Epoch: 7 [44800/60032 (75%)]\n",
      "Train Epoch: 7 [51200/60032 (85%)]\n",
      "Train Epoch: 7 [57600/60032 (96%)]\n",
      "Train Epoch: 8 [0/60032 (0%)]\n",
      "Train Epoch: 8 [6400/60032 (11%)]\n",
      "Train Epoch: 8 [12800/60032 (21%)]\n",
      "Train Epoch: 8 [19200/60032 (32%)]\n",
      "Train Epoch: 8 [25600/60032 (43%)]\n",
      "Train Epoch: 8 [32000/60032 (53%)]\n",
      "Train Epoch: 8 [38400/60032 (64%)]\n",
      "Train Epoch: 8 [44800/60032 (75%)]\n",
      "Train Epoch: 8 [51200/60032 (85%)]\n",
      "Train Epoch: 8 [57600/60032 (96%)]\n",
      "Train Epoch: 9 [0/60032 (0%)]\n",
      "Train Epoch: 9 [6400/60032 (11%)]\n",
      "Train Epoch: 9 [12800/60032 (21%)]\n",
      "Train Epoch: 9 [19200/60032 (32%)]\n",
      "Train Epoch: 9 [25600/60032 (43%)]\n",
      "Train Epoch: 9 [32000/60032 (53%)]\n",
      "Train Epoch: 9 [38400/60032 (64%)]\n",
      "Train Epoch: 9 [44800/60032 (75%)]\n",
      "Train Epoch: 9 [51200/60032 (85%)]\n",
      "Train Epoch: 9 [57600/60032 (96%)]\n",
      "Train Epoch: 10 [0/60032 (0%)]\n",
      "Train Epoch: 10 [6400/60032 (11%)]\n",
      "Train Epoch: 10 [12800/60032 (21%)]\n",
      "Train Epoch: 10 [19200/60032 (32%)]\n",
      "Train Epoch: 10 [25600/60032 (43%)]\n",
      "Train Epoch: 10 [32000/60032 (53%)]\n",
      "Train Epoch: 10 [38400/60032 (64%)]\n",
      "Train Epoch: 10 [44800/60032 (75%)]\n",
      "Train Epoch: 10 [51200/60032 (85%)]\n",
      "Train Epoch: 10 [57600/60032 (96%)]\n"
     ]
    }
   ],
   "source": [
    "model = Net()\n",
    "optimizer = torch.optim.Adam(model.parameters(), lr=args.lr)\n",
    "\n",
    "for epoch in range(1, args.epochs + 1):\n",
    "    train(args, model, train_loader, optimizer, epoch)"
   ]
  },
  {
   "cell_type": "code",
   "execution_count": 12,
   "metadata": {},
   "outputs": [],
   "source": [
    "def test(args, model, test_loader):\n",
    "    model.eval()\n",
    "    n_correct_priv = 0\n",
    "    n_total = 0\n",
    "    with torch.no_grad():\n",
    "        for data, target in test_loader:\n",
    "            output = model(data)\n",
    "            pred = output.argmax(dim=1) \n",
    "            n_correct_priv += pred.eq(target.view_as(pred)).sum()\n",
    "            n_total += args.test_batch_size\n",
    "            \n",
    "            n_correct = n_correct_priv.copy().get().float_precision().long().item()\n",
    "    \n",
    "            print('Test set: Accuracy: {}/{} ({:.0f}%)'.format(\n",
    "                n_correct, n_total,\n",
    "                100. * n_correct / n_total))"
   ]
  },
  {
   "cell_type": "code",
   "execution_count": 15,
   "metadata": {},
   "outputs": [
    {
     "data": {
      "text/plain": [
       "Net(\n",
       "  (fc1): Linear(in_features=784, out_features=500, bias=True)\n",
       "  (fc2): Linear(in_features=500, out_features=10, bias=True)\n",
       ")"
      ]
     },
     "execution_count": 15,
     "metadata": {},
     "output_type": "execute_result"
    }
   ],
   "source": [
    "model.fix_precision().share(alice, bob, crypto_provider=crypto_provider)"
   ]
  },
  {
   "cell_type": "code",
   "execution_count": 16,
   "metadata": {},
   "outputs": [
    {
     "name": "stdout",
     "output_type": "stream",
     "text": [
      "Test set: Accuracy: 190/200 (95%)\n",
      "Test set: Accuracy: 387/400 (97%)\n",
      "Test set: Accuracy: 580/600 (97%)\n",
      "Test set: Accuracy: 777/800 (97%)\n",
      "Test set: Accuracy: 971/1000 (97%)\n",
      "Test set: Accuracy: 1164/1200 (97%)\n",
      "Test set: Accuracy: 1361/1400 (97%)\n",
      "Test set: Accuracy: 1558/1600 (97%)\n",
      "Test set: Accuracy: 1750/1800 (97%)\n",
      "Test set: Accuracy: 1944/2000 (97%)\n",
      "Test set: Accuracy: 2140/2200 (97%)\n",
      "Test set: Accuracy: 2335/2400 (97%)\n",
      "Test set: Accuracy: 2528/2600 (97%)\n",
      "Test set: Accuracy: 2723/2800 (97%)\n",
      "Test set: Accuracy: 2918/3000 (97%)\n",
      "Test set: Accuracy: 3113/3200 (97%)\n",
      "Test set: Accuracy: 3309/3400 (97%)\n",
      "Test set: Accuracy: 3507/3600 (97%)\n",
      "Test set: Accuracy: 3705/3800 (98%)\n",
      "Test set: Accuracy: 3898/4000 (97%)\n",
      "Test set: Accuracy: 4092/4200 (97%)\n",
      "Test set: Accuracy: 4286/4400 (97%)\n",
      "Test set: Accuracy: 4477/4600 (97%)\n",
      "Test set: Accuracy: 4673/4800 (97%)\n",
      "Test set: Accuracy: 4870/5000 (97%)\n",
      "Test set: Accuracy: 5067/5200 (97%)\n",
      "Test set: Accuracy: 5259/5400 (97%)\n",
      "Test set: Accuracy: 5453/5600 (97%)\n",
      "Test set: Accuracy: 5646/5800 (97%)\n",
      "Test set: Accuracy: 5842/6000 (97%)\n",
      "Test set: Accuracy: 6035/6200 (97%)\n",
      "Test set: Accuracy: 6224/6400 (97%)\n",
      "Test set: Accuracy: 6420/6600 (97%)\n",
      "Test set: Accuracy: 6617/6800 (97%)\n",
      "Test set: Accuracy: 6812/7000 (97%)\n",
      "Test set: Accuracy: 7006/7200 (97%)\n",
      "Test set: Accuracy: 7201/7400 (97%)\n",
      "Test set: Accuracy: 7397/7600 (97%)\n",
      "Test set: Accuracy: 7592/7800 (97%)\n",
      "Test set: Accuracy: 7790/8000 (97%)\n",
      "Test set: Accuracy: 7982/8200 (97%)\n",
      "Test set: Accuracy: 8180/8400 (97%)\n",
      "Test set: Accuracy: 8376/8600 (97%)\n",
      "Test set: Accuracy: 8571/8800 (97%)\n",
      "Test set: Accuracy: 8767/9000 (97%)\n",
      "Test set: Accuracy: 8955/9200 (97%)\n",
      "Test set: Accuracy: 9151/9400 (97%)\n",
      "Test set: Accuracy: 9348/9600 (97%)\n",
      "Test set: Accuracy: 9546/9800 (97%)\n",
      "Test set: Accuracy: 9738/10000 (97%)\n"
     ]
    }
   ],
   "source": [
    "test(args, model, private_test_loader)"
   ]
  },
  {
   "cell_type": "code",
   "execution_count": null,
   "metadata": {},
   "outputs": [],
   "source": []
  }
 ],
 "metadata": {
  "kernelspec": {
   "display_name": "Python 3",
   "language": "python",
   "name": "python3"
  },
  "language_info": {
   "codemirror_mode": {
    "name": "ipython",
    "version": 3
   },
   "file_extension": ".py",
   "mimetype": "text/x-python",
   "name": "python",
   "nbconvert_exporter": "python",
   "pygments_lexer": "ipython3",
   "version": "3.7.3"
  }
 },
 "nbformat": 4,
 "nbformat_minor": 2
}
