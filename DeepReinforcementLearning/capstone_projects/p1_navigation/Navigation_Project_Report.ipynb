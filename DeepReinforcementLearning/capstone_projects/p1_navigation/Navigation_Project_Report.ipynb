{
 "cells": [
  {
   "cell_type": "markdown",
   "metadata": {
    "slideshow": {
     "slide_type": "slide"
    }
   },
   "source": [
    "# Udacity Deep Reinforcement Learning Nano-degree\n",
    "\n",
    "## Navigation Project Report\n",
    "\n",
    "---\n",
    "\n",
    "Ellen Zhang (yarong.zhang@gmail.com)\n",
    "\n",
    "The goal of this project was to train an agent to navigate a simple world environment, collecting yellow bananas while avoiding blue bananas. \n",
    "\n",
    "The task is episodic, and in order to solve the environment, the agent must get `an average score of +13 over 100 consecutive episodes`."
   ]
  },
  {
   "cell_type": "markdown",
   "metadata": {
    "slideshow": {
     "slide_type": "slide"
    }
   },
   "source": [
    "### 1. Environment\n",
    "\n",
    "``` from unityagents import UnityEnvironment ```\n",
    "\n",
    "\n",
    "Unity Machine Learning Agents (ML-Agents) is an open-source Unity plugin that enables games and simulations to serve as environments for training intelligent agents.\n",
    "\n",
    "For game developers, these trained agents can be used for multiple purposes, including controlling NPC behavior (in a variety of settings such as multi-agent and adversarial), automated testing of game builds and evaluating different game design decisions pre-release.\n",
    "\n",
    "In this project, I use Unity's rich environments to design, train, and evaluate my deep reinforcement learning algorithms. Environments contain `brains` which are responsible for deciding the actions of their associated agents.\n",
    "\n",
    "I did this project in my 64-bits Win10 and in Udacity workspace seperately. In win10, whatever it is 32-bit or 64-bit Unity enviroments, they all work well. "
   ]
  },
  {
   "cell_type": "code",
   "execution_count": 4,
   "metadata": {
    "slideshow": {
     "slide_type": "slide"
    }
   },
   "outputs": [
    {
     "name": "stderr",
     "output_type": "stream",
     "text": [
      "INFO:unityagents:\n",
      "'Academy' started successfully!\n",
      "Unity Academy name: Academy\n",
      "        Number of Brains: 1\n",
      "        Number of External Brains : 1\n",
      "        Lesson number : 0\n",
      "        Reset Parameters :\n",
      "\t\t\n",
      "Unity brain name: BananaBrain\n",
      "        Number of Visual Observations (per agent): 0\n",
      "        Vector Observation space type: continuous\n",
      "        Vector Observation space size (per agent): 37\n",
      "        Number of stacked Vector Observation: 1\n",
      "        Vector Action space type: discrete\n",
      "        Vector Action space size (per agent): 4\n",
      "        Vector Action descriptions: , , , \n"
     ]
    }
   ],
   "source": [
    "env = UnityEnvironment(file_name=\"Banana_Windows_x86_64/Banana.exe\") #works in win10 64-bit\n",
    "# env = UnityEnvironment(file_name=\"Banana_Windows_x86/Banana.exe\")  #works in win10 64-bit\n",
    "\n",
    "# env = UnityEnvironment(file_name=\"/data/Banana_Linux_NoVis/Banana.x86_64\") #works in Udacity workspace"
   ]
  },
  {
   "cell_type": "markdown",
   "metadata": {
    "slideshow": {
     "slide_type": "slide"
    }
   },
   "source": [
    "### 2.The State and Action Spaces\n",
    "\n",
    "The simulation contains a single agent that navigates a large environment.  At each time step, it has four actions at its disposal:\n",
    "- `0` - walk forward \n",
    "- `1` - walk backward\n",
    "- `2` - turn left\n",
    "- `3` - turn right\n",
    "\n",
    "The state space has `37` dimensions and contains the agent's velocity, along with ray-based perception of objects around agent's forward direction.  A reward of `+1` is provided for collecting a yellow banana, and a reward of `-1` is provided for collecting a blue banana. "
   ]
  },
  {
   "cell_type": "markdown",
   "metadata": {
    "slideshow": {
     "slide_type": "slide"
    }
   },
   "source": [
    "### 3.Algorithm\n",
    "\n",
    "The solution implemented is a simple Deep Q-Learning (DQN) algorithm based on [ research paper ](https://storage.googleapis.com/deepmind-media/dqn/DQNNaturePaper.pdf). It included experience replay and fixed Q targets, both of which are considered standard in a DQN.\n",
    "\n",
    "\n",
    "To approximate the value function, a simple neural network with three fully connected layers with ReLU activation function is used. \n",
    "\n",
    "```\n",
    "QNetwork(\n",
    "  (fc1): Linear(in_features=37, out_features=64, bias=True)\n",
    "  (fc2): Linear(in_features=64, out_features=64, bias=True)\n",
    "  (fc3): Linear(in_features=64, out_features=4, bias=True)\n",
    ")\n",
    "\n",
    "```\n",
    "\n",
    "- the input layer which size depends of the state_size, which is given 37 states\n",
    "- 1 hidden fully connected layers of 64 cells each\n",
    "- the output layer which size depends of the action_size, which is 4 actions\n",
    "\n",
    "\n"
   ]
  },
  {
   "cell_type": "markdown",
   "metadata": {
    "slideshow": {
     "slide_type": "slide"
    }
   },
   "source": [
    "The naive Q-learning algorithm has found to be unstable when `neural networks` are used to represent the action values. So there are `two key features` introduced into it to prevent action values from oscillation.\n",
    "\n",
    "- Experience replay\n",
    "\n",
    "    When the agent interacts with the environment, the sequence of experience tuples can be highly correlated. The naive Q-learning algorithm that learns from each of these experience tuples in sequential order runs the risk of getting swayed by the effects of this correlation. By instead keeping track of a replay buffer and using experience replay to sample from the buffer at random, we can prevent action values from oscillating or diverging catastrophically.\n",
    "\n",
    "    The replay buffer contains a collection of experience tuples (S, A, R, S'). The tuples are gradually added to the buffer as we are interacting with the environment.\n",
    "\n",
    "    The act of sampling a small batch of tuples from the replay buffer in order to learn is known as experience replay. In addition to breaking harmful correlations, experience replay allows us to learn more from individual tuples multiple times, recall rare occurrences, and in general make better use of our experience.\n",
    "\n",
    "\n",
    "    We store the last 100,000 experience tuples (S, A, R, S′) into a data container called replay buffer from which we sample a mini-batch of 64 experiences. This batch ensures that the experiences are not highly correlated/independet and stable enough to train the network."
   ]
  },
  {
   "cell_type": "markdown",
   "metadata": {
    "slideshow": {
     "slide_type": "slide"
    }
   },
   "source": [
    "![Fixed Q-targets](./images/fixed_target.PNG)\n",
    "\n",
    "\n",
    "- Fixed Q-targets\n",
    "\n",
    "    In Q-Learning, we update a guess with a guess, and this can potentially lead to harmful correlations. To avoid this, we can use the above update rule to better approximate the action value corresponding to state S and action A.   "
   ]
  },
  {
   "cell_type": "markdown",
   "metadata": {
    "slideshow": {
     "slide_type": "slide"
    }
   },
   "source": [
    "![Algorithm](./images/dqn_algorithm.PNG)\n",
    "\n",
    "Algorithm screenshot comes from [Udacity video course](https://classroom.udacity.com/nanodegrees/nd893-ent/parts/b5175725-8f50-4cd9-8666-fd4c1375039c/modules/56dab924-27c9-43ab-b898-3bdab18f6fd2/lessons/4adf70aa-0c4c-4a48-8bbe-e3619874f234/concepts/637ff801-c1e1-4eb8-90cb-c9bcda92ca77) \n",
    "\n"
   ]
  },
  {
   "cell_type": "markdown",
   "metadata": {
    "slideshow": {
     "slide_type": "slide"
    }
   },
   "source": [
    "The DQN algorithm is implemented in dqn_agent.py file. It contains a DQN agent class and a Replay Buffer class.\n",
    "\n",
    "Agent class provides 5 methods：\n",
    "\n",
    "1. constructor:\n",
    "    - Initialize the memory buffer (Replay Buffer)\n",
    "    - Initialize 2 instance of the Neural Network : the target network and the local network\n",
    "2. step\n",
    "    - Allows to store a step taken by the agent in the Replay Buffer/Memory\n",
    "    - Every 4 steps to update the target network weights with the current weight values from the local network (That's part of the Fixed Q Targets technique)\n",
    "3. act\n",
    "    - returns actions for the given state as per current policy\n",
    "4. learn\n",
    "    - update the Neural Network value parameters using given batch of experiences from the Replay Buffer\n",
    "5. soft_update\n",
    "    - softly updates the value from the target Neural Network from the local network weights \n",
    "\n",
    "ReplayBuffer class provide 2 methods:\n",
    "1. add\n",
    "    - add an experience step to the memory\n",
    "2. sample\n",
    "    - randomly sample a batch of experience steps for the learning"
   ]
  },
  {
   "cell_type": "markdown",
   "metadata": {
    "slideshow": {
     "slide_type": "slide"
    }
   },
   "source": [
    "### 4. The result\n",
    "\n",
    "The simple model used successfully solved the problem after around 180 to 220 episodes based on the fixed hyper parameters and slightly changed epsilon value.\n",
    "\n",
    "- The hyper-parameters is fixed during the training and the testing.\n",
    "```\n",
    "BUFFER_SIZE = int(1e5)  # replay buffer size\n",
    "BATCH_SIZE = 64         # minibatch size\n",
    "GAMMA = 0.99            # discount factor\n",
    "TAU = 1e-3              # for soft update of target parameters\n",
    "LR = 5e-4               # learning rate \n",
    "UPDATE_EVERY = 4        # how often to update the network\n",
    "```\n"
   ]
  },
  {
   "cell_type": "markdown",
   "metadata": {
    "slideshow": {
     "slide_type": "slide"
    }
   },
   "source": [
    "- The training score dispicts as pic shows.\n",
    "\n",
    "![Training score](./images/training_scores.png)\n",
    "\n",
    "```scores, avgs_moving = dqn(n_episodes=1000, eps_start=1.0, eps_end=0.03, eps_decay=0.95)```\n",
    "```\n",
    "Episode 100\tAverage Score: 6.42\n",
    "Episode 200\tAverage Score: 10.82\n",
    "Episode 280\tAverage Score: 13.11\n",
    "Environment solved in 180 episodes!\tAverage Score: 13.11\n",
    "\n",
    "```\n",
    "\n",
    "```scores, avgs_moving = dqn(n_episodes=1000, eps_start=1.0, eps_end=0.02, eps_decay=0.95)```\n",
    "\n",
    "```\n",
    "Episode 100\tAverage Score: 4.96\n",
    "Episode 200\tAverage Score: 9.27\n",
    "Episode 287\tAverage Score: 13.14\n",
    "Environment solved in 187 episodes!\tAverage Score: 13.14\n",
    "```\n",
    "```\n",
    "Episode 100\tAverage Score: 6.41\n",
    "Episode 200\tAverage Score: 11.45\n",
    "Episode 300\tAverage Score: 12.67\n",
    "Episode 320\tAverage Score: 13.12\n",
    "Environment solved in 220 episodes!\tAverage Score: 13.12\n",
    "\n",
    "```"
   ]
  },
  {
   "cell_type": "markdown",
   "metadata": {
    "slideshow": {
     "slide_type": "slide"
    }
   },
   "source": [
    "- The testing result(10 episodes):\n",
    "All testing results are not over 13. May need more trainings.\n",
    "\n",
    "![Testing_score](./images/testing_score_13.png) \n",
    "\n",
    "After changing the training break condition, the test score shows as below:\n",
    "\n",
    "![Testing_score](./images/testing_score.png) \n"
   ]
  },
  {
   "cell_type": "markdown",
   "metadata": {
    "slideshow": {
     "slide_type": "slide"
    }
   },
   "source": [
    "### 5. DQN improvements and Future work\n",
    "\n",
    "Against some shortage of Basic DQN algorithm, there are three different improvements. For example\n",
    "\n",
    "- Double DQN\n",
    "\n",
    "Deep Q-Learning tends to overestimate action values. Double Q-Learning has been shown to work well in practice to help with this.\n",
    "\n",
    "- Prioritized Experience Replay\n",
    "\n",
    "Deep Q-Learning samples experience transitions uniformly from a replay memory. Prioritized Experience Replay is based on the idea that the agent can learn more effectively from some transitions than from others, and the more important transitions should be sampled with higher probability.\n",
    "\n",
    "- Duelling DQN\n",
    "\n",
    "Currently, in order to determine which states are (or are not) valuable, we have to estimate the corresponding action values for each action. However, by replacing the traditional Deep Q-Network (DQN) architecture with a duelling architecture, we can assess the value of each state, without having to learn the effect of each action.\n",
    "\n",
    "For future improvement, I believe Dueling DQN would be very efficient."
   ]
  },
  {
   "cell_type": "code",
   "execution_count": null,
   "metadata": {
    "slideshow": {
     "slide_type": "skip"
    }
   },
   "outputs": [],
   "source": []
  }
 ],
 "metadata": {
  "celltoolbar": "Slideshow",
  "kernelspec": {
   "display_name": "Python 3",
   "language": "python",
   "name": "python3"
  },
  "language_info": {
   "codemirror_mode": {
    "name": "ipython",
    "version": 3
   },
   "file_extension": ".py",
   "mimetype": "text/x-python",
   "name": "python",
   "nbconvert_exporter": "python",
   "pygments_lexer": "ipython3",
   "version": "3.6.9"
  }
 },
 "nbformat": 4,
 "nbformat_minor": 2
}
