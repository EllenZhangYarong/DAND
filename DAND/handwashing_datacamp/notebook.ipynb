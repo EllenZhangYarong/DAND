{
 "cells": [
  {
   "cell_type": "markdown",
   "metadata": {},
   "source": [
    "Datacamp project"
   ]
  },
  {
   "cell_type": "markdown",
   "metadata": {
    "dc": {
     "key": "13f090f9f0"
    },
    "deletable": false,
    "editable": false,
    "run_control": {
     "frozen": true
    },
    "tags": [
     "context"
    ]
   },
   "source": [
    "## 1. Meet Dr. Ignaz Semmelweis\n",
    "<p><img style=\"float: left;margin:5px 20px 5px 1px\" src=\"https://s3.amazonaws.com/assets.datacamp.com/production/project_20/img/ignaz_semmelweis_1860.jpeg\"></p>\n",
    "<!--\n",
    "<img style=\"float: left;margin:5px 20px 5px 1px\" src=\"https://s3.amazonaws.com/assets.datacamp.com/production/project_20/datasets/ignaz_semmelweis_1860.jpeg\">\n",
    "-->\n",
    "<p>This is Dr. Ignaz Semmelweis, a Hungarian physician born in 1818 and active at the Vienna General Hospital. If Dr. Semmelweis looks troubled it's probably because he's thinking about <em>childbed fever</em>: A deadly disease affecting women that just have given birth. He is thinking about it because in the early 1840s at the Vienna General Hospital as many as 10% of the women giving birth die from it. He is thinking about it because he knows the cause of childbed fever: It's the contaminated hands of the doctors delivering the babies. And they won't listen to him and <em>wash their hands</em>!</p>\n",
    "<p>In this notebook, we're going to reanalyze the data that made Semmelweis discover the importance of <em>handwashing</em>. Let's start by looking at the data that made Semmelweis realize that something was wrong with the procedures at Vienna General Hospital.</p>"
   ]
  },
  {
   "cell_type": "code",
   "execution_count": null,
   "metadata": {},
   "outputs": [],
   "source": []
  },
  {
   "cell_type": "code",
   "execution_count": 22,
   "metadata": {
    "dc": {
     "key": "13f090f9f0"
    },
    "tags": [
     "sample_code"
    ]
   },
   "outputs": [
    {
     "data": {
      "text/html": [
       "<div>\n",
       "<style scoped>\n",
       "    .dataframe tbody tr th:only-of-type {\n",
       "        vertical-align: middle;\n",
       "    }\n",
       "\n",
       "    .dataframe tbody tr th {\n",
       "        vertical-align: top;\n",
       "    }\n",
       "\n",
       "    .dataframe thead th {\n",
       "        text-align: right;\n",
       "    }\n",
       "</style>\n",
       "<table border=\"1\" class=\"dataframe\">\n",
       "  <thead>\n",
       "    <tr style=\"text-align: right;\">\n",
       "      <th></th>\n",
       "      <th>year</th>\n",
       "      <th>births</th>\n",
       "      <th>deaths</th>\n",
       "      <th>clinic</th>\n",
       "    </tr>\n",
       "  </thead>\n",
       "  <tbody>\n",
       "    <tr>\n",
       "      <th>0</th>\n",
       "      <td>1841</td>\n",
       "      <td>3036</td>\n",
       "      <td>237</td>\n",
       "      <td>clinic 1</td>\n",
       "    </tr>\n",
       "    <tr>\n",
       "      <th>1</th>\n",
       "      <td>1842</td>\n",
       "      <td>3287</td>\n",
       "      <td>518</td>\n",
       "      <td>clinic 1</td>\n",
       "    </tr>\n",
       "    <tr>\n",
       "      <th>2</th>\n",
       "      <td>1843</td>\n",
       "      <td>3060</td>\n",
       "      <td>274</td>\n",
       "      <td>clinic 1</td>\n",
       "    </tr>\n",
       "    <tr>\n",
       "      <th>3</th>\n",
       "      <td>1844</td>\n",
       "      <td>3157</td>\n",
       "      <td>260</td>\n",
       "      <td>clinic 1</td>\n",
       "    </tr>\n",
       "    <tr>\n",
       "      <th>4</th>\n",
       "      <td>1845</td>\n",
       "      <td>3492</td>\n",
       "      <td>241</td>\n",
       "      <td>clinic 1</td>\n",
       "    </tr>\n",
       "    <tr>\n",
       "      <th>5</th>\n",
       "      <td>1846</td>\n",
       "      <td>4010</td>\n",
       "      <td>459</td>\n",
       "      <td>clinic 1</td>\n",
       "    </tr>\n",
       "    <tr>\n",
       "      <th>6</th>\n",
       "      <td>1841</td>\n",
       "      <td>2442</td>\n",
       "      <td>86</td>\n",
       "      <td>clinic 2</td>\n",
       "    </tr>\n",
       "    <tr>\n",
       "      <th>7</th>\n",
       "      <td>1842</td>\n",
       "      <td>2659</td>\n",
       "      <td>202</td>\n",
       "      <td>clinic 2</td>\n",
       "    </tr>\n",
       "    <tr>\n",
       "      <th>8</th>\n",
       "      <td>1843</td>\n",
       "      <td>2739</td>\n",
       "      <td>164</td>\n",
       "      <td>clinic 2</td>\n",
       "    </tr>\n",
       "    <tr>\n",
       "      <th>9</th>\n",
       "      <td>1844</td>\n",
       "      <td>2956</td>\n",
       "      <td>68</td>\n",
       "      <td>clinic 2</td>\n",
       "    </tr>\n",
       "    <tr>\n",
       "      <th>10</th>\n",
       "      <td>1845</td>\n",
       "      <td>3241</td>\n",
       "      <td>66</td>\n",
       "      <td>clinic 2</td>\n",
       "    </tr>\n",
       "    <tr>\n",
       "      <th>11</th>\n",
       "      <td>1846</td>\n",
       "      <td>3754</td>\n",
       "      <td>105</td>\n",
       "      <td>clinic 2</td>\n",
       "    </tr>\n",
       "  </tbody>\n",
       "</table>\n",
       "</div>"
      ],
      "text/plain": [
       "    year  births  deaths    clinic\n",
       "0   1841    3036     237  clinic 1\n",
       "1   1842    3287     518  clinic 1\n",
       "2   1843    3060     274  clinic 1\n",
       "3   1844    3157     260  clinic 1\n",
       "4   1845    3492     241  clinic 1\n",
       "5   1846    4010     459  clinic 1\n",
       "6   1841    2442      86  clinic 2\n",
       "7   1842    2659     202  clinic 2\n",
       "8   1843    2739     164  clinic 2\n",
       "9   1844    2956      68  clinic 2\n",
       "10  1845    3241      66  clinic 2\n",
       "11  1846    3754     105  clinic 2"
      ]
     },
     "execution_count": 22,
     "metadata": {},
     "output_type": "execute_result"
    }
   ],
   "source": [
    "# importing modules\n",
    "import pandas as pd\n",
    "\n",
    "# Read datasets/yearly_deaths_by_clinic.csv into yearly\n",
    "yearly = pd.read_csv('dataset/yearly_deaths_by_clinic.csv')\n",
    "\n",
    "# Print out yearly\n",
    "\n",
    "yearly"
   ]
  },
  {
   "cell_type": "markdown",
   "metadata": {
    "dc": {
     "key": "45ea098e15"
    },
    "deletable": false,
    "editable": false,
    "run_control": {
     "frozen": true
    },
    "tags": [
     "context"
    ]
   },
   "source": [
    "## 2. The alarming number of deaths\n",
    "<p>The table above shows the number of women giving birth at the two clinics at the Vienna General Hospital for the years 1841 to 1846. You'll notice that giving birth was very dangerous; an <em>alarming</em> number of women died as the result of childbirth, most of them from childbed fever.</p>\n",
    "<p>We see this more clearly if we look at the <em>proportion of deaths</em> out of the number of women giving birth. Let's zoom in on the proportion of deaths at Clinic 1.</p>"
   ]
  },
  {
   "cell_type": "code",
   "execution_count": 23,
   "metadata": {
    "dc": {
     "key": "45ea098e15"
    },
    "tags": [
     "sample_code"
    ]
   },
   "outputs": [
    {
     "data": {
      "text/html": [
       "<div>\n",
       "<style scoped>\n",
       "    .dataframe tbody tr th:only-of-type {\n",
       "        vertical-align: middle;\n",
       "    }\n",
       "\n",
       "    .dataframe tbody tr th {\n",
       "        vertical-align: top;\n",
       "    }\n",
       "\n",
       "    .dataframe thead th {\n",
       "        text-align: right;\n",
       "    }\n",
       "</style>\n",
       "<table border=\"1\" class=\"dataframe\">\n",
       "  <thead>\n",
       "    <tr style=\"text-align: right;\">\n",
       "      <th></th>\n",
       "      <th>year</th>\n",
       "      <th>births</th>\n",
       "      <th>deaths</th>\n",
       "      <th>clinic</th>\n",
       "      <th>proportion_deaths</th>\n",
       "    </tr>\n",
       "  </thead>\n",
       "  <tbody>\n",
       "    <tr>\n",
       "      <th>0</th>\n",
       "      <td>1841</td>\n",
       "      <td>3036</td>\n",
       "      <td>237</td>\n",
       "      <td>clinic 1</td>\n",
       "      <td>0.078063</td>\n",
       "    </tr>\n",
       "    <tr>\n",
       "      <th>1</th>\n",
       "      <td>1842</td>\n",
       "      <td>3287</td>\n",
       "      <td>518</td>\n",
       "      <td>clinic 1</td>\n",
       "      <td>0.157591</td>\n",
       "    </tr>\n",
       "    <tr>\n",
       "      <th>2</th>\n",
       "      <td>1843</td>\n",
       "      <td>3060</td>\n",
       "      <td>274</td>\n",
       "      <td>clinic 1</td>\n",
       "      <td>0.089542</td>\n",
       "    </tr>\n",
       "    <tr>\n",
       "      <th>3</th>\n",
       "      <td>1844</td>\n",
       "      <td>3157</td>\n",
       "      <td>260</td>\n",
       "      <td>clinic 1</td>\n",
       "      <td>0.082357</td>\n",
       "    </tr>\n",
       "    <tr>\n",
       "      <th>4</th>\n",
       "      <td>1845</td>\n",
       "      <td>3492</td>\n",
       "      <td>241</td>\n",
       "      <td>clinic 1</td>\n",
       "      <td>0.069015</td>\n",
       "    </tr>\n",
       "    <tr>\n",
       "      <th>5</th>\n",
       "      <td>1846</td>\n",
       "      <td>4010</td>\n",
       "      <td>459</td>\n",
       "      <td>clinic 1</td>\n",
       "      <td>0.114464</td>\n",
       "    </tr>\n",
       "  </tbody>\n",
       "</table>\n",
       "</div>"
      ],
      "text/plain": [
       "   year  births  deaths    clinic  proportion_deaths\n",
       "0  1841    3036     237  clinic 1           0.078063\n",
       "1  1842    3287     518  clinic 1           0.157591\n",
       "2  1843    3060     274  clinic 1           0.089542\n",
       "3  1844    3157     260  clinic 1           0.082357\n",
       "4  1845    3492     241  clinic 1           0.069015\n",
       "5  1846    4010     459  clinic 1           0.114464"
      ]
     },
     "execution_count": 23,
     "metadata": {},
     "output_type": "execute_result"
    }
   ],
   "source": [
    "# Calculate proportion of deaths per no. births\n",
    "yearly['proportion_deaths'] = yearly['deaths'] / yearly['births']\n",
    "# Extract clinic 1 data into yearly1 and clinic 2 data into yearly2\n",
    "yearly1 = yearly[yearly['clinic']==\"clinic 1\"]\n",
    "yearly2 = yearly.query('clinic == \"clinic 2\"')\n",
    "\n",
    "# Print out yearly1\n",
    "yearly1"
   ]
  },
  {
   "cell_type": "code",
   "execution_count": 24,
   "metadata": {
    "dc": {
     "key": "45ea098e15"
    }
   },
   "outputs": [
    {
     "data": {
      "text/html": [
       "<div>\n",
       "<style scoped>\n",
       "    .dataframe tbody tr th:only-of-type {\n",
       "        vertical-align: middle;\n",
       "    }\n",
       "\n",
       "    .dataframe tbody tr th {\n",
       "        vertical-align: top;\n",
       "    }\n",
       "\n",
       "    .dataframe thead th {\n",
       "        text-align: right;\n",
       "    }\n",
       "</style>\n",
       "<table border=\"1\" class=\"dataframe\">\n",
       "  <thead>\n",
       "    <tr style=\"text-align: right;\">\n",
       "      <th></th>\n",
       "      <th>year</th>\n",
       "      <th>births</th>\n",
       "      <th>deaths</th>\n",
       "      <th>clinic</th>\n",
       "      <th>proportion_deaths</th>\n",
       "    </tr>\n",
       "  </thead>\n",
       "  <tbody>\n",
       "    <tr>\n",
       "      <th>6</th>\n",
       "      <td>1841</td>\n",
       "      <td>2442</td>\n",
       "      <td>86</td>\n",
       "      <td>clinic 2</td>\n",
       "      <td>0.035217</td>\n",
       "    </tr>\n",
       "    <tr>\n",
       "      <th>7</th>\n",
       "      <td>1842</td>\n",
       "      <td>2659</td>\n",
       "      <td>202</td>\n",
       "      <td>clinic 2</td>\n",
       "      <td>0.075968</td>\n",
       "    </tr>\n",
       "    <tr>\n",
       "      <th>8</th>\n",
       "      <td>1843</td>\n",
       "      <td>2739</td>\n",
       "      <td>164</td>\n",
       "      <td>clinic 2</td>\n",
       "      <td>0.059876</td>\n",
       "    </tr>\n",
       "    <tr>\n",
       "      <th>9</th>\n",
       "      <td>1844</td>\n",
       "      <td>2956</td>\n",
       "      <td>68</td>\n",
       "      <td>clinic 2</td>\n",
       "      <td>0.023004</td>\n",
       "    </tr>\n",
       "    <tr>\n",
       "      <th>10</th>\n",
       "      <td>1845</td>\n",
       "      <td>3241</td>\n",
       "      <td>66</td>\n",
       "      <td>clinic 2</td>\n",
       "      <td>0.020364</td>\n",
       "    </tr>\n",
       "    <tr>\n",
       "      <th>11</th>\n",
       "      <td>1846</td>\n",
       "      <td>3754</td>\n",
       "      <td>105</td>\n",
       "      <td>clinic 2</td>\n",
       "      <td>0.027970</td>\n",
       "    </tr>\n",
       "  </tbody>\n",
       "</table>\n",
       "</div>"
      ],
      "text/plain": [
       "    year  births  deaths    clinic  proportion_deaths\n",
       "6   1841    2442      86  clinic 2           0.035217\n",
       "7   1842    2659     202  clinic 2           0.075968\n",
       "8   1843    2739     164  clinic 2           0.059876\n",
       "9   1844    2956      68  clinic 2           0.023004\n",
       "10  1845    3241      66  clinic 2           0.020364\n",
       "11  1846    3754     105  clinic 2           0.027970"
      ]
     },
     "execution_count": 24,
     "metadata": {},
     "output_type": "execute_result"
    }
   ],
   "source": [
    "yearly2"
   ]
  },
  {
   "cell_type": "markdown",
   "metadata": {
    "dc": {
     "key": "2bc9206960"
    },
    "deletable": false,
    "editable": false,
    "run_control": {
     "frozen": true
    },
    "tags": [
     "context"
    ]
   },
   "source": [
    "## 3. Death at the clinics\n",
    "<p>If we now plot the proportion of deaths at both clinic 1 and clinic 2  we'll see a curious pattern...</p>"
   ]
  },
  {
   "cell_type": "code",
   "execution_count": 25,
   "metadata": {
    "dc": {
     "key": "2bc9206960"
    },
    "tags": [
     "sample_code"
    ]
   },
   "outputs": [
    {
     "data": {
      "image/png": "[encoded data removed]",
      "text/plain": [
       "<Figure size 1080x720 with 1 Axes>"
      ]
     },
     "metadata": {
      "needs_background": "light"
     },
     "output_type": "display_data"
    }
   ],
   "source": [
    "import matplotlib.pyplot as plt\n",
    "# This makes plots appear in the notebook\n",
    "%matplotlib inline\n",
    "\n",
    "# Plot yearly proportion of deaths at the two clinics\n",
    "plt.figure(figsize=(15,10))\n",
    "plt.grid(True)\n",
    "plt.plot(yearly1[\"year\"], yearly1[\"proportion_deaths\"], label='clinic 1')\n",
    "plt.plot(yearly2[\"year\"], yearly2[\"proportion_deaths\"], label='clinic 2')\n",
    "\n",
    "plt.xlabel('Year')\n",
    "\n",
    "plt.title('Death rate when giving birth in Vienna between 1841 and 1846. ')\n",
    "\n",
    "plt.legend(loc=2)\n",
    "\n",
    "plt.savefig('./pics/yearly_proportaion_death.png')"
   ]
  },
  {
   "cell_type": "code",
   "execution_count": null,
   "metadata": {
    "dc": {
     "key": "2bc9206960"
    }
   },
   "outputs": [],
   "source": []
  },
  {
   "cell_type": "markdown",
   "metadata": {
    "dc": {
     "key": "0c9fdbf550"
    },
    "deletable": false,
    "editable": false,
    "run_control": {
     "frozen": true
    },
    "tags": [
     "context"
    ]
   },
   "source": [
    "## 4. The handwashing begins\n",
    "<p>Why is the proportion of deaths constantly so much higher in Clinic 1? Semmelweis saw the same pattern and was puzzled and distressed. The only difference between the clinics was that many medical students served at Clinic 1, while mostly midwife students served at Clinic 2. While the midwives only tended to the women giving birth, the medical students also spent time in the autopsy rooms examining corpses. </p>\n",
    "<p>Semmelweis started to suspect that something on the corpses, spread from the hands of the medical students, caused childbed fever. So in a desperate attempt to stop the high mortality rates, he decreed: <em>Wash your hands!</em> This was an unorthodox and controversial request, nobody in Vienna knew about bacteria at this point in time. </p>\n",
    "<p>Let's load in monthly data from Clinic 1 to see if the handwashing had any effect.</p>"
   ]
  },
  {
   "cell_type": "code",
   "execution_count": 26,
   "metadata": {
    "dc": {
     "key": "0c9fdbf550"
    },
    "tags": [
     "sample_code"
    ]
   },
   "outputs": [
    {
     "data": {
      "text/html": [
       "<div>\n",
       "<style scoped>\n",
       "    .dataframe tbody tr th:only-of-type {\n",
       "        vertical-align: middle;\n",
       "    }\n",
       "\n",
       "    .dataframe tbody tr th {\n",
       "        vertical-align: top;\n",
       "    }\n",
       "\n",
       "    .dataframe thead th {\n",
       "        text-align: right;\n",
       "    }\n",
       "</style>\n",
       "<table border=\"1\" class=\"dataframe\">\n",
       "  <thead>\n",
       "    <tr style=\"text-align: right;\">\n",
       "      <th></th>\n",
       "      <th>date</th>\n",
       "      <th>births</th>\n",
       "      <th>deaths</th>\n",
       "    </tr>\n",
       "  </thead>\n",
       "  <tbody>\n",
       "    <tr>\n",
       "      <th>0</th>\n",
       "      <td>1841-01-01</td>\n",
       "      <td>254</td>\n",
       "      <td>37</td>\n",
       "    </tr>\n",
       "    <tr>\n",
       "      <th>1</th>\n",
       "      <td>1841-02-01</td>\n",
       "      <td>239</td>\n",
       "      <td>18</td>\n",
       "    </tr>\n",
       "    <tr>\n",
       "      <th>2</th>\n",
       "      <td>1841-03-01</td>\n",
       "      <td>277</td>\n",
       "      <td>12</td>\n",
       "    </tr>\n",
       "    <tr>\n",
       "      <th>3</th>\n",
       "      <td>1841-04-01</td>\n",
       "      <td>255</td>\n",
       "      <td>4</td>\n",
       "    </tr>\n",
       "    <tr>\n",
       "      <th>4</th>\n",
       "      <td>1841-05-01</td>\n",
       "      <td>255</td>\n",
       "      <td>2</td>\n",
       "    </tr>\n",
       "  </tbody>\n",
       "</table>\n",
       "</div>"
      ],
      "text/plain": [
       "         date  births  deaths\n",
       "0  1841-01-01     254      37\n",
       "1  1841-02-01     239      18\n",
       "2  1841-03-01     277      12\n",
       "3  1841-04-01     255       4\n",
       "4  1841-05-01     255       2"
      ]
     },
     "execution_count": 26,
     "metadata": {},
     "output_type": "execute_result"
    }
   ],
   "source": [
    "# Read datasets/monthly_deaths.csv into monthly\n",
    "monthly = pd.read_csv('dataset/monthly_deaths.csv')\n",
    "\n",
    "monthly.head()"
   ]
  },
  {
   "cell_type": "code",
   "execution_count": 27,
   "metadata": {
    "dc": {
     "key": "0c9fdbf550"
    }
   },
   "outputs": [
    {
     "data": {
      "text/html": [
       "<div>\n",
       "<style scoped>\n",
       "    .dataframe tbody tr th:only-of-type {\n",
       "        vertical-align: middle;\n",
       "    }\n",
       "\n",
       "    .dataframe tbody tr th {\n",
       "        vertical-align: top;\n",
       "    }\n",
       "\n",
       "    .dataframe thead th {\n",
       "        text-align: right;\n",
       "    }\n",
       "</style>\n",
       "<table border=\"1\" class=\"dataframe\">\n",
       "  <thead>\n",
       "    <tr style=\"text-align: right;\">\n",
       "      <th></th>\n",
       "      <th>date</th>\n",
       "      <th>births</th>\n",
       "      <th>deaths</th>\n",
       "      <th>proportion_death_in_month</th>\n",
       "    </tr>\n",
       "  </thead>\n",
       "  <tbody>\n",
       "    <tr>\n",
       "      <th>0</th>\n",
       "      <td>1841-01-01</td>\n",
       "      <td>254</td>\n",
       "      <td>37</td>\n",
       "      <td>0.145669</td>\n",
       "    </tr>\n",
       "  </tbody>\n",
       "</table>\n",
       "</div>"
      ],
      "text/plain": [
       "         date  births  deaths  proportion_death_in_month\n",
       "0  1841-01-01     254      37                   0.145669"
      ]
     },
     "execution_count": 27,
     "metadata": {},
     "output_type": "execute_result"
    }
   ],
   "source": [
    "# Calculate proportion of deaths per no. births\n",
    "monthly['proportion_death_in_month'] = monthly['deaths']/monthly['births']\n",
    "\n",
    "# Print out the first rows in monthly\n",
    "monthly.head(1)"
   ]
  },
  {
   "cell_type": "code",
   "execution_count": 28,
   "metadata": {
    "dc": {
     "key": "0c9fdbf550"
    }
   },
   "outputs": [
    {
     "data": {
      "text/html": [
       "<div>\n",
       "<style scoped>\n",
       "    .dataframe tbody tr th:only-of-type {\n",
       "        vertical-align: middle;\n",
       "    }\n",
       "\n",
       "    .dataframe tbody tr th {\n",
       "        vertical-align: top;\n",
       "    }\n",
       "\n",
       "    .dataframe thead th {\n",
       "        text-align: right;\n",
       "    }\n",
       "</style>\n",
       "<table border=\"1\" class=\"dataframe\">\n",
       "  <thead>\n",
       "    <tr style=\"text-align: right;\">\n",
       "      <th></th>\n",
       "      <th>date</th>\n",
       "      <th>births</th>\n",
       "      <th>deaths</th>\n",
       "      <th>proportion_death_in_month</th>\n",
       "    </tr>\n",
       "  </thead>\n",
       "  <tbody>\n",
       "    <tr>\n",
       "      <th>97</th>\n",
       "      <td>1849-03-01</td>\n",
       "      <td>406</td>\n",
       "      <td>20</td>\n",
       "      <td>0.049261</td>\n",
       "    </tr>\n",
       "  </tbody>\n",
       "</table>\n",
       "</div>"
      ],
      "text/plain": [
       "          date  births  deaths  proportion_death_in_month\n",
       "97  1849-03-01     406      20                   0.049261"
      ]
     },
     "execution_count": 28,
     "metadata": {},
     "output_type": "execute_result"
    }
   ],
   "source": [
    "monthly.tail(1)"
   ]
  },
  {
   "cell_type": "markdown",
   "metadata": {
    "dc": {
     "key": "2da2a84119"
    },
    "deletable": false,
    "editable": false,
    "run_control": {
     "frozen": true
    },
    "tags": [
     "context"
    ]
   },
   "source": [
    "## 5. The effect of handwashing\n",
    "<p>With the data loaded we can now look at the proportion of deaths over time. In the plot below we haven't marked where obligatory handwashing started, but it reduced the proportion of deaths to such a degree that you should be able to spot it!</p>"
   ]
  },
  {
   "cell_type": "code",
   "execution_count": 29,
   "metadata": {
    "dc": {
     "key": "2da2a84119"
    },
    "tags": [
     "sample_code"
    ]
   },
   "outputs": [
    {
     "data": {
      "image/png": "[encoded data removed]",
      "text/plain": [
       "<Figure size 1080x720 with 1 Axes>"
      ]
     },
     "metadata": {
      "needs_background": "light"
     },
     "output_type": "display_data"
    }
   ],
   "source": [
    "# Plot monthly proportion of deaths\n",
    "plt.figure(figsize=(15,10))\n",
    "plt.grid(True)\n",
    "plt.plot(monthly[\"proportion_death_in_month\"], label='Proportion deaths')\n",
    "# plt.ylabel('Proportion deaths')\n",
    "plt.xlabel('Month (1841.1 - 1849.3)')\n",
    "plt.legend(loc=2)\n",
    "\n",
    "plt.savefig('./pics/monthly_proportaion_death1.png', format=\"png\")"
   ]
  },
  {
   "cell_type": "markdown",
   "metadata": {
    "dc": {
     "key": "518e95acc5"
    },
    "deletable": false,
    "editable": false,
    "run_control": {
     "frozen": true
    },
    "tags": [
     "context"
    ]
   },
   "source": [
    "## 6. The effect of handwashing highlighted\n",
    "<p>Starting from the summer of 1847 the proportion of deaths is drastically reduced and, yes, this was when Semmelweis made handwashing obligatory. </p>\n",
    "<p>The effect of handwashing is made even more clear if we highlight this in the graph.</p>"
   ]
  },
  {
   "cell_type": "code",
   "execution_count": 30,
   "metadata": {
    "dc": {
     "key": "518e95acc5"
    },
    "tags": [
     "sample_code"
    ]
   },
   "outputs": [
    {
     "data": {
      "text/plain": [
       "Timestamp('1847-06-01 00:00:00')"
      ]
     },
     "execution_count": 30,
     "metadata": {},
     "output_type": "execute_result"
    }
   ],
   "source": [
    "# Date when handwashing was made mandatory\n",
    "import pandas as pd\n",
    "handwashing_start = pd.to_datetime('1847-06-01')\n",
    "\n",
    "handwashing_start"
   ]
  },
  {
   "cell_type": "code",
   "execution_count": 31,
   "metadata": {
    "dc": {
     "key": "518e95acc5"
    }
   },
   "outputs": [],
   "source": [
    "at_washing = monthly[\n",
    "  monthly[\"date\"] == handwashing_start]"
   ]
  },
  {
   "cell_type": "code",
   "execution_count": 32,
   "metadata": {
    "dc": {
     "key": "518e95acc5"
    }
   },
   "outputs": [
    {
     "data": {
      "text/html": [
       "<div>\n",
       "<style scoped>\n",
       "    .dataframe tbody tr th:only-of-type {\n",
       "        vertical-align: middle;\n",
       "    }\n",
       "\n",
       "    .dataframe tbody tr th {\n",
       "        vertical-align: top;\n",
       "    }\n",
       "\n",
       "    .dataframe thead th {\n",
       "        text-align: right;\n",
       "    }\n",
       "</style>\n",
       "<table border=\"1\" class=\"dataframe\">\n",
       "  <thead>\n",
       "    <tr style=\"text-align: right;\">\n",
       "      <th></th>\n",
       "      <th>date</th>\n",
       "      <th>births</th>\n",
       "      <th>deaths</th>\n",
       "      <th>proportion_death_in_month</th>\n",
       "    </tr>\n",
       "  </thead>\n",
       "  <tbody>\n",
       "  </tbody>\n",
       "</table>\n",
       "</div>"
      ],
      "text/plain": [
       "Empty DataFrame\n",
       "Columns: [date, births, deaths, proportion_death_in_month]\n",
       "Index: []"
      ]
     },
     "execution_count": 32,
     "metadata": {},
     "output_type": "execute_result"
    }
   ],
   "source": [
    "at_washing"
   ]
  },
  {
   "cell_type": "code",
   "execution_count": 33,
   "metadata": {
    "dc": {
     "key": "518e95acc5"
    }
   },
   "outputs": [],
   "source": [
    "at_washing = monthly[\n",
    "  monthly['date'] == handwashing_start]"
   ]
  },
  {
   "cell_type": "code",
   "execution_count": 34,
   "metadata": {
    "dc": {
     "key": "518e95acc5"
    }
   },
   "outputs": [
    {
     "data": {
      "text/html": [
       "<div>\n",
       "<style scoped>\n",
       "    .dataframe tbody tr th:only-of-type {\n",
       "        vertical-align: middle;\n",
       "    }\n",
       "\n",
       "    .dataframe tbody tr th {\n",
       "        vertical-align: top;\n",
       "    }\n",
       "\n",
       "    .dataframe thead th {\n",
       "        text-align: right;\n",
       "    }\n",
       "</style>\n",
       "<table border=\"1\" class=\"dataframe\">\n",
       "  <thead>\n",
       "    <tr style=\"text-align: right;\">\n",
       "      <th></th>\n",
       "      <th>date</th>\n",
       "      <th>births</th>\n",
       "      <th>deaths</th>\n",
       "      <th>proportion_death_in_month</th>\n",
       "    </tr>\n",
       "  </thead>\n",
       "  <tbody>\n",
       "  </tbody>\n",
       "</table>\n",
       "</div>"
      ],
      "text/plain": [
       "Empty DataFrame\n",
       "Columns: [date, births, deaths, proportion_death_in_month]\n",
       "Index: []"
      ]
     },
     "execution_count": 34,
     "metadata": {},
     "output_type": "execute_result"
    }
   ],
   "source": [
    "at_washing"
   ]
  },
  {
   "cell_type": "code",
   "execution_count": 35,
   "metadata": {
    "dc": {
     "key": "518e95acc5"
    }
   },
   "outputs": [
    {
     "data": {
      "text/html": [
       "<div>\n",
       "<style scoped>\n",
       "    .dataframe tbody tr th:only-of-type {\n",
       "        vertical-align: middle;\n",
       "    }\n",
       "\n",
       "    .dataframe tbody tr th {\n",
       "        vertical-align: top;\n",
       "    }\n",
       "\n",
       "    .dataframe thead th {\n",
       "        text-align: right;\n",
       "    }\n",
       "</style>\n",
       "<table border=\"1\" class=\"dataframe\">\n",
       "  <thead>\n",
       "    <tr style=\"text-align: right;\">\n",
       "      <th></th>\n",
       "      <th>date</th>\n",
       "      <th>births</th>\n",
       "      <th>deaths</th>\n",
       "      <th>proportion_death_in_month</th>\n",
       "    </tr>\n",
       "  </thead>\n",
       "  <tbody>\n",
       "    <tr>\n",
       "      <th>0</th>\n",
       "      <td>1841-01-01</td>\n",
       "      <td>254</td>\n",
       "      <td>37</td>\n",
       "      <td>0.145669</td>\n",
       "    </tr>\n",
       "    <tr>\n",
       "      <th>1</th>\n",
       "      <td>1841-02-01</td>\n",
       "      <td>239</td>\n",
       "      <td>18</td>\n",
       "      <td>0.075314</td>\n",
       "    </tr>\n",
       "    <tr>\n",
       "      <th>2</th>\n",
       "      <td>1841-03-01</td>\n",
       "      <td>277</td>\n",
       "      <td>12</td>\n",
       "      <td>0.043321</td>\n",
       "    </tr>\n",
       "    <tr>\n",
       "      <th>3</th>\n",
       "      <td>1841-04-01</td>\n",
       "      <td>255</td>\n",
       "      <td>4</td>\n",
       "      <td>0.015686</td>\n",
       "    </tr>\n",
       "    <tr>\n",
       "      <th>4</th>\n",
       "      <td>1841-05-01</td>\n",
       "      <td>255</td>\n",
       "      <td>2</td>\n",
       "      <td>0.007843</td>\n",
       "    </tr>\n",
       "  </tbody>\n",
       "</table>\n",
       "</div>"
      ],
      "text/plain": [
       "        date  births  deaths  proportion_death_in_month\n",
       "0 1841-01-01     254      37                   0.145669\n",
       "1 1841-02-01     239      18                   0.075314\n",
       "2 1841-03-01     277      12                   0.043321\n",
       "3 1841-04-01     255       4                   0.015686\n",
       "4 1841-05-01     255       2                   0.007843"
      ]
     },
     "execution_count": 35,
     "metadata": {},
     "output_type": "execute_result"
    }
   ],
   "source": [
    "monthly['date'] =  pd.to_datetime(monthly['date'], format='%Y-%m-%d')\n",
    "monthly.head()"
   ]
  },
  {
   "cell_type": "code",
   "execution_count": 36,
   "metadata": {
    "dc": {
     "key": "518e95acc5"
    }
   },
   "outputs": [
    {
     "data": {
      "text/html": [
       "<div>\n",
       "<style scoped>\n",
       "    .dataframe tbody tr th:only-of-type {\n",
       "        vertical-align: middle;\n",
       "    }\n",
       "\n",
       "    .dataframe tbody tr th {\n",
       "        vertical-align: top;\n",
       "    }\n",
       "\n",
       "    .dataframe thead th {\n",
       "        text-align: right;\n",
       "    }\n",
       "</style>\n",
       "<table border=\"1\" class=\"dataframe\">\n",
       "  <thead>\n",
       "    <tr style=\"text-align: right;\">\n",
       "      <th></th>\n",
       "      <th>date</th>\n",
       "      <th>births</th>\n",
       "      <th>deaths</th>\n",
       "      <th>proportion_death_in_month</th>\n",
       "    </tr>\n",
       "  </thead>\n",
       "  <tbody>\n",
       "    <tr>\n",
       "      <th>0</th>\n",
       "      <td>1841-01-01</td>\n",
       "      <td>254</td>\n",
       "      <td>37</td>\n",
       "      <td>0.145669</td>\n",
       "    </tr>\n",
       "    <tr>\n",
       "      <th>1</th>\n",
       "      <td>1841-02-01</td>\n",
       "      <td>239</td>\n",
       "      <td>18</td>\n",
       "      <td>0.075314</td>\n",
       "    </tr>\n",
       "    <tr>\n",
       "      <th>2</th>\n",
       "      <td>1841-03-01</td>\n",
       "      <td>277</td>\n",
       "      <td>12</td>\n",
       "      <td>0.043321</td>\n",
       "    </tr>\n",
       "    <tr>\n",
       "      <th>3</th>\n",
       "      <td>1841-04-01</td>\n",
       "      <td>255</td>\n",
       "      <td>4</td>\n",
       "      <td>0.015686</td>\n",
       "    </tr>\n",
       "    <tr>\n",
       "      <th>4</th>\n",
       "      <td>1841-05-01</td>\n",
       "      <td>255</td>\n",
       "      <td>2</td>\n",
       "      <td>0.007843</td>\n",
       "    </tr>\n",
       "  </tbody>\n",
       "</table>\n",
       "</div>"
      ],
      "text/plain": [
       "        date  births  deaths  proportion_death_in_month\n",
       "0 1841-01-01     254      37                   0.145669\n",
       "1 1841-02-01     239      18                   0.075314\n",
       "2 1841-03-01     277      12                   0.043321\n",
       "3 1841-04-01     255       4                   0.015686\n",
       "4 1841-05-01     255       2                   0.007843"
      ]
     },
     "execution_count": 36,
     "metadata": {},
     "output_type": "execute_result"
    }
   ],
   "source": [
    "before_washing = monthly[\n",
    "  monthly['date'] < handwashing_start]\n",
    "before_washing.head()"
   ]
  },
  {
   "cell_type": "code",
   "execution_count": 37,
   "metadata": {
    "dc": {
     "key": "518e95acc5"
    }
   },
   "outputs": [
    {
     "data": {
      "text/html": [
       "<div>\n",
       "<style scoped>\n",
       "    .dataframe tbody tr th:only-of-type {\n",
       "        vertical-align: middle;\n",
       "    }\n",
       "\n",
       "    .dataframe tbody tr th {\n",
       "        vertical-align: top;\n",
       "    }\n",
       "\n",
       "    .dataframe thead th {\n",
       "        text-align: right;\n",
       "    }\n",
       "</style>\n",
       "<table border=\"1\" class=\"dataframe\">\n",
       "  <thead>\n",
       "    <tr style=\"text-align: right;\">\n",
       "      <th></th>\n",
       "      <th>date</th>\n",
       "      <th>births</th>\n",
       "      <th>deaths</th>\n",
       "      <th>proportion_death_in_month</th>\n",
       "    </tr>\n",
       "  </thead>\n",
       "  <tbody>\n",
       "    <tr>\n",
       "      <th>76</th>\n",
       "      <td>1847-06-01</td>\n",
       "      <td>268</td>\n",
       "      <td>6</td>\n",
       "      <td>0.022388</td>\n",
       "    </tr>\n",
       "    <tr>\n",
       "      <th>77</th>\n",
       "      <td>1847-07-01</td>\n",
       "      <td>250</td>\n",
       "      <td>3</td>\n",
       "      <td>0.012000</td>\n",
       "    </tr>\n",
       "    <tr>\n",
       "      <th>78</th>\n",
       "      <td>1847-08-01</td>\n",
       "      <td>264</td>\n",
       "      <td>5</td>\n",
       "      <td>0.018939</td>\n",
       "    </tr>\n",
       "    <tr>\n",
       "      <th>79</th>\n",
       "      <td>1847-09-01</td>\n",
       "      <td>262</td>\n",
       "      <td>12</td>\n",
       "      <td>0.045802</td>\n",
       "    </tr>\n",
       "    <tr>\n",
       "      <th>80</th>\n",
       "      <td>1847-10-01</td>\n",
       "      <td>278</td>\n",
       "      <td>11</td>\n",
       "      <td>0.039568</td>\n",
       "    </tr>\n",
       "  </tbody>\n",
       "</table>\n",
       "</div>"
      ],
      "text/plain": [
       "         date  births  deaths  proportion_death_in_month\n",
       "76 1847-06-01     268       6                   0.022388\n",
       "77 1847-07-01     250       3                   0.012000\n",
       "78 1847-08-01     264       5                   0.018939\n",
       "79 1847-09-01     262      12                   0.045802\n",
       "80 1847-10-01     278      11                   0.039568"
      ]
     },
     "execution_count": 37,
     "metadata": {},
     "output_type": "execute_result"
    }
   ],
   "source": [
    "after_washing = monthly[\n",
    "  monthly['date'] >= handwashing_start]\n",
    "after_washing.head()"
   ]
  },
  {
   "cell_type": "code",
   "execution_count": 38,
   "metadata": {
    "dc": {
     "key": "518e95acc5"
    }
   },
   "outputs": [
    {
     "data": {
      "image/png": "[encoded data removed]",
      "text/plain": [
       "<Figure size 1080x720 with 1 Axes>"
      ]
     },
     "metadata": {
      "needs_background": "light"
     },
     "output_type": "display_data"
    }
   ],
   "source": [
    "# Plot monthly proportion of deaths before and after handwashing\n",
    "plt.figure(figsize=(15,10))\n",
    "plt.grid(True)\n",
    "plt.plot(before_washing['proportion_death_in_month'], label='before_washing')\n",
    "plt.plot(after_washing['proportion_death_in_month'], label='after_washing')\n",
    "\n",
    "plt.xlabel('Month')\n",
    "\n",
    "plt.title('Death rate when giving birth in Vienna between 1841 and 1846. ')\n",
    "\n",
    "plt.legend(loc=2)\n",
    "\n",
    "plt.savefig('./pics/monthly_proportaion_death_handwash2.png')"
   ]
  },
  {
   "cell_type": "markdown",
   "metadata": {
    "dc": {
     "key": "586a9f9803"
    },
    "deletable": false,
    "editable": false,
    "run_control": {
     "frozen": true
    },
    "tags": [
     "context"
    ]
   },
   "source": [
    "## 7. More handwashing, fewer deaths?\n",
    "<p>Again, the graph shows that handwashing had a huge effect. How much did it reduce the monthly proportion of deaths on average?</p>"
   ]
  },
  {
   "cell_type": "code",
   "execution_count": 39,
   "metadata": {
    "dc": {
     "key": "586a9f9803"
    },
    "tags": [
     "sample_code"
    ]
   },
   "outputs": [
    {
     "data": {
      "text/plain": [
       "0.08395660751183336"
      ]
     },
     "execution_count": 39,
     "metadata": {},
     "output_type": "execute_result"
    }
   ],
   "source": [
    "# Difference in mean monthly proportion of deaths due to handwashing\n",
    "before_proportion = before_washing['proportion_death_in_month'].mean()\n",
    "after_proportion = after_washing['proportion_death_in_month'].mean()\n",
    "mean_diff = abs(after_proportion - before_proportion)\n",
    "mean_diff"
   ]
  },
  {
   "cell_type": "markdown",
   "metadata": {
    "dc": {
     "key": "d8ff65292a"
    },
    "deletable": false,
    "editable": false,
    "run_control": {
     "frozen": true
    },
    "tags": [
     "context"
    ]
   },
   "source": [
    "## 8. A Bootstrap analysis of Semmelweis handwashing data\n",
    "<p>It reduced the proportion of deaths by around 8 percentage points! From 10% on average to just 2% (which is still a high number by modern standards). </p>\n",
    "<p>To get a feeling for the uncertainty around how much handwashing reduces mortalities we could look at a confidence interval (here calculated using the bootstrap method).</p>"
   ]
  },
  {
   "cell_type": "code",
   "execution_count": 40,
   "metadata": {
    "dc": {
     "key": "d8ff65292a"
    },
    "tags": [
     "sample_code"
    ]
   },
   "outputs": [
    {
     "name": "stdout",
     "output_type": "stream",
     "text": [
      "70    0.053691\n",
      "0     0.145669\n",
      "55    0.105485\n",
      "47    0.075908\n",
      "40    0.026786\n",
      "12    0.122186\n",
      "26    0.119298\n",
      "49    0.044521\n",
      "48    0.047445\n",
      "24    0.159696\n",
      "3     0.015686\n",
      "39    0.058333\n",
      "20    0.293388\n",
      "50    0.042308\n",
      "1     0.075314\n",
      "6     0.084211\n",
      "27    0.060976\n",
      "62    0.189723\n",
      "70    0.053691\n",
      "9     0.110169\n",
      "74    0.182692\n",
      "57    0.109434\n",
      "13    0.102273\n",
      "72    0.019231\n",
      "50    0.042308\n",
      "51    0.043919\n",
      "24    0.159696\n",
      "15    0.032258\n",
      "16    0.065934\n",
      "44    0.032258\n",
      "        ...   \n",
      "42    0.063197\n",
      "6     0.084211\n",
      "49    0.044521\n",
      "23    0.191176\n",
      "44    0.032258\n",
      "52    0.071429\n",
      "59    0.133929\n",
      "69    0.107744\n",
      "12    0.122186\n",
      "27    0.060976\n",
      "49    0.044521\n",
      "31    0.022624\n",
      "42    0.063197\n",
      "47    0.075908\n",
      "59    0.133929\n",
      "69    0.107744\n",
      "74    0.182692\n",
      "64    0.101504\n",
      "72    0.019231\n",
      "29    0.005236\n",
      "12    0.122186\n",
      "40    0.026786\n",
      "16    0.065934\n",
      "40    0.026786\n",
      "33    0.071429\n",
      "64    0.101504\n",
      "28    0.040816\n",
      "0     0.145669\n",
      "62    0.189723\n",
      "0     0.145669\n",
      "Name: proportion_death_in_month, Length: 76, dtype: float64\n",
      "85    0.000000\n",
      "78    0.018939\n",
      "76    0.022388\n",
      "82    0.029304\n",
      "88    0.011364\n",
      "90    0.000000\n",
      "94    0.013405\n",
      "96    0.030848\n",
      "80    0.039568\n",
      "90    0.000000\n",
      "92    0.023411\n",
      "89    0.003717\n",
      "96    0.030848\n",
      "84    0.006873\n",
      "81    0.044715\n",
      "90    0.000000\n",
      "90    0.000000\n",
      "96    0.030848\n",
      "94    0.013405\n",
      "83    0.035336\n",
      "84    0.006873\n",
      "77    0.012000\n",
      "Name: proportion_death_in_month, dtype: float64\n",
      "65    0.130952\n",
      "42    0.063197\n",
      "44    0.032258\n",
      "62    0.189723\n",
      "13    0.102273\n",
      "66    0.180556\n",
      "39    0.058333\n",
      "3     0.015686\n",
      "32    0.176000\n",
      "22    0.313808\n",
      "17    0.207792\n",
      "53    0.061224\n",
      "40    0.026786\n",
      "57    0.109434\n",
      "65    0.130952\n",
      "1     0.075314\n",
      "58    0.104869\n",
      "52    0.071429\n",
      "24    0.159696\n",
      "38    0.173077\n",
      "23    0.191176\n",
      "54    0.035857\n",
      "41    0.043689\n",
      "52    0.071429\n",
      "59    0.133929\n",
      "1     0.075314\n",
      "38    0.173077\n",
      "37    0.170290\n",
      "27    0.060976\n",
      "45    0.110204\n",
      "        ...   \n",
      "66    0.180556\n",
      "47    0.075908\n",
      "69    0.107744\n",
      "74    0.182692\n",
      "36    0.112840\n",
      "25    0.124060\n",
      "37    0.170290\n",
      "68    0.149606\n",
      "20    0.293388\n",
      "66    0.180556\n",
      "48    0.047445\n",
      "43    0.012245\n",
      "73    0.036066\n",
      "24    0.159696\n",
      "48    0.047445\n",
      "14    0.107438\n",
      "0     0.145669\n",
      "74    0.182692\n",
      "29    0.005236\n",
      "42    0.063197\n",
      "46    0.105469\n",
      "18    0.254630\n",
      "53    0.061224\n",
      "3     0.015686\n",
      "3     0.015686\n",
      "16    0.065934\n",
      "58    0.104869\n",
      "24    0.159696\n",
      "63    0.134426\n",
      "32    0.176000\n",
      "Name: proportion_death_in_month, Length: 76, dtype: float64\n",
      "93    0.029032\n",
      "80    0.039568\n",
      "76    0.022388\n",
      "92    0.023411\n",
      "79    0.045802\n",
      "88    0.011364\n",
      "91    0.009615\n",
      "84    0.006873\n",
      "78    0.018939\n",
      "89    0.003717\n",
      "84    0.006873\n",
      "84    0.006873\n",
      "76    0.022388\n",
      "87    0.009585\n",
      "88    0.011364\n",
      "96    0.030848\n",
      "87    0.009585\n",
      "80    0.039568\n",
      "86    0.006557\n",
      "86    0.006557\n",
      "90    0.000000\n",
      "92    0.023411\n",
      "Name: proportion_death_in_month, dtype: float64\n",
      "17    0.207792\n",
      "53    0.061224\n",
      "56    0.148410\n",
      "21    0.229665\n",
      "56    0.148410\n",
      "58    0.104869\n",
      "46    0.105469\n",
      "58    0.104869\n",
      "68    0.149606\n",
      "34    0.080508\n",
      "21    0.229665\n",
      "42    0.063197\n",
      "29    0.005236\n",
      "3     0.015686\n",
      "13    0.102273\n",
      "65    0.130952\n",
      "61    0.154341\n",
      "16    0.065934\n",
      "51    0.043919\n",
      "56    0.148410\n",
      "12    0.122186\n",
      "8     0.018779\n",
      "69    0.107744\n",
      "31    0.022624\n",
      "50    0.042308\n",
      "33    0.071429\n",
      "27    0.060976\n",
      "1     0.075314\n",
      "7     0.013514\n",
      "3     0.015686\n",
      "        ...   \n",
      "27    0.060976\n",
      "5     0.050000\n",
      "9     0.110169\n",
      "17    0.207792\n",
      "72    0.019231\n",
      "62    0.189723\n",
      "23    0.191176\n",
      "45    0.110204\n",
      "47    0.075908\n",
      "24    0.159696\n",
      "3     0.015686\n",
      "8     0.018779\n",
      "45    0.110204\n",
      "72    0.019231\n",
      "74    0.182692\n",
      "66    0.180556\n",
      "56    0.148410\n",
      "25    0.124060\n",
      "16    0.065934\n",
      "11    0.208469\n",
      "45    0.110204\n",
      "35    0.151639\n",
      "30    0.015544\n",
      "54    0.035857\n",
      "20    0.293388\n",
      "35    0.151639\n",
      "72    0.019231\n",
      "13    0.102273\n",
      "28    0.040816\n",
      "10    0.225532\n",
      "Name: proportion_death_in_month, Length: 76, dtype: float64\n",
      "92    0.023411\n",
      "97    0.049261\n",
      "80    0.039568\n",
      "96    0.030848\n",
      "88    0.011364\n",
      "95    0.022333\n",
      "79    0.045802\n",
      "86    0.006557\n",
      "95    0.022333\n",
      "95    0.022333\n",
      "94    0.013405\n",
      "77    0.012000\n",
      "88    0.011364\n",
      "91    0.009615\n",
      "90    0.000000\n",
      "93    0.029032\n",
      "92    0.023411\n",
      "86    0.006557\n",
      "88    0.011364\n",
      "92    0.023411\n",
      "92    0.023411\n",
      "76    0.022388\n",
      "Name: proportion_death_in_month, dtype: float64\n",
      "14    0.107438\n",
      "23    0.191176\n",
      "22    0.313808\n",
      "55    0.105485\n",
      "72    0.019231\n",
      "17    0.207792\n",
      "27    0.060976\n",
      "14    0.107438\n",
      "15    0.032258\n",
      "51    0.043919\n",
      "51    0.043919\n",
      "20    0.293388\n",
      "33    0.071429\n",
      "2     0.043321\n",
      "75    0.122449\n",
      "5     0.050000\n",
      "64    0.101504\n",
      "57    0.109434\n",
      "35    0.151639\n",
      "26    0.119298\n",
      "19    0.183857\n",
      "49    0.044521\n",
      "48    0.047445\n",
      "16    0.065934\n",
      "45    0.110204\n",
      "19    0.183857\n",
      "56    0.148410\n",
      "0     0.145669\n",
      "15    0.032258\n",
      "45    0.110204\n",
      "        ...   \n",
      "53    0.061224\n",
      "40    0.026786\n",
      "16    0.065934\n",
      "73    0.036066\n",
      "48    0.047445\n",
      "14    0.107438\n",
      "29    0.005236\n",
      "72    0.019231\n",
      "39    0.058333\n",
      "57    0.109434\n",
      "4     0.007843\n",
      "40    0.026786\n",
      "0     0.145669\n",
      "16    0.065934\n",
      "31    0.022624\n",
      "0     0.145669\n",
      "44    0.032258\n",
      "68    0.149606\n",
      "53    0.061224\n",
      "51    0.043919\n",
      "60    0.180887\n",
      "47    0.075908\n",
      "8     0.018779\n",
      "49    0.044521\n",
      "27    0.060976\n",
      "53    0.061224\n",
      "41    0.043689\n",
      "18    0.254630\n",
      "12    0.122186\n",
      "70    0.053691\n",
      "Name: proportion_death_in_month, Length: 76, dtype: float64\n",
      "96    0.030848\n",
      "96    0.030848\n",
      "88    0.011364\n",
      "83    0.035336\n",
      "81    0.044715\n",
      "77    0.012000\n",
      "88    0.011364\n",
      "97    0.049261\n",
      "95    0.022333\n",
      "95    0.022333\n",
      "78    0.018939\n",
      "78    0.018939\n",
      "95    0.022333\n",
      "84    0.006873\n",
      "88    0.011364\n",
      "83    0.035336\n",
      "92    0.023411\n",
      "90    0.000000\n",
      "92    0.023411\n",
      "91    0.009615\n",
      "88    0.011364\n",
      "92    0.023411\n",
      "Name: proportion_death_in_month, dtype: float64\n",
      "75    0.122449\n",
      "22    0.313808\n",
      "12    0.122186\n",
      "12    0.122186\n",
      "34    0.080508\n",
      "64    0.101504\n",
      "20    0.293388\n",
      "36    0.112840\n",
      "42    0.063197\n",
      "67    0.143911\n",
      "26    0.119298\n",
      "10    0.225532\n",
      "56    0.148410\n",
      "19    0.183857\n",
      "38    0.173077\n",
      "2     0.043321\n",
      "3     0.015686\n",
      "26    0.119298\n",
      "57    0.109434\n",
      "15    0.032258\n",
      "27    0.060976\n",
      "43    0.012245\n",
      "14    0.107438\n",
      "10    0.225532\n",
      "47    0.075908\n",
      "12    0.122186\n",
      "41    0.043689\n",
      "28    0.040816\n",
      "11    0.208469\n",
      "22    0.313808\n",
      "        ...   \n",
      "53    0.061224\n",
      "20    0.293388\n",
      "23    0.191176\n",
      "32    0.176000\n",
      "72    0.019231\n",
      "49    0.044521\n",
      "1     0.075314\n",
      "24    0.159696\n",
      "74    0.182692\n",
      "14    0.107438\n",
      "32    0.176000\n",
      "54    0.035857\n",
      "55    0.105485\n",
      "56    0.148410\n",
      "10    0.225532\n",
      "29    0.005236\n",
      "72    0.019231\n",
      "30    0.015544\n",
      "70    0.053691\n",
      "45    0.110204\n",
      "53    0.061224\n",
      "55    0.105485\n",
      "40    0.026786\n",
      "62    0.189723\n",
      "1     0.075314\n",
      "13    0.102273\n",
      "73    0.036066\n",
      "72    0.019231\n",
      "70    0.053691\n",
      "11    0.208469\n",
      "Name: proportion_death_in_month, Length: 76, dtype: float64\n",
      "85    0.000000\n",
      "89    0.003717\n",
      "96    0.030848\n",
      "89    0.003717\n",
      "91    0.009615\n",
      "77    0.012000\n",
      "86    0.006557\n",
      "76    0.022388\n",
      "96    0.030848\n",
      "81    0.044715\n",
      "80    0.039568\n",
      "91    0.009615\n",
      "76    0.022388\n",
      "76    0.022388\n",
      "94    0.013405\n",
      "80    0.039568\n",
      "81    0.044715\n",
      "80    0.039568\n",
      "92    0.023411\n",
      "83    0.035336\n",
      "89    0.003717\n",
      "76    0.022388\n",
      "Name: proportion_death_in_month, dtype: float64\n",
      "33    0.071429\n",
      "51    0.043919\n",
      "3     0.015686\n",
      "17    0.207792\n",
      "48    0.047445\n",
      "14    0.107438\n",
      "51    0.043919\n",
      "7     0.013514\n",
      "37    0.170290\n",
      "6     0.084211\n",
      "56    0.148410\n",
      "57    0.109434\n",
      "17    0.207792\n",
      "27    0.060976\n",
      "14    0.107438\n",
      "12    0.122186\n",
      "56    0.148410\n",
      "47    0.075908\n",
      "7     0.013514\n",
      "15    0.032258\n",
      "3     0.015686\n",
      "46    0.105469\n",
      "25    0.124060\n",
      "3     0.015686\n",
      "4     0.007843\n",
      "54    0.035857\n",
      "45    0.110204\n",
      "52    0.071429\n",
      "8     0.018779\n",
      "26    0.119298\n",
      "        ...   \n",
      "47    0.075908\n",
      "11    0.208469\n",
      "32    0.176000\n",
      "57    0.109434\n",
      "24    0.159696\n",
      "4     0.007843\n",
      "59    0.133929\n",
      "31    0.022624\n",
      "75    0.122449\n",
      "16    0.065934\n",
      "25    0.124060\n",
      "35    0.151639\n",
      "52    0.071429\n",
      "23    0.191176\n",
      "31    0.022624\n",
      "24    0.159696\n",
      "46    0.105469\n",
      "32    0.176000\n",
      "50    0.042308\n",
      "11    0.208469\n",
      "50    0.042308\n",
      "57    0.109434\n",
      "24    0.159696\n",
      "20    0.293388\n",
      "63    0.134426\n",
      "47    0.075908\n",
      "14    0.107438\n",
      "21    0.229665\n",
      "6     0.084211\n",
      "22    0.313808\n",
      "Name: proportion_death_in_month, Length: 76, dtype: float64\n",
      "95    0.022333\n",
      "81    0.044715\n",
      "79    0.045802\n",
      "97    0.049261\n",
      "86    0.006557\n",
      "76    0.022388\n",
      "90    0.000000\n",
      "83    0.035336\n",
      "80    0.039568\n",
      "95    0.022333\n",
      "78    0.018939\n",
      "86    0.006557\n",
      "94    0.013405\n",
      "93    0.029032\n",
      "76    0.022388\n",
      "81    0.044715\n",
      "94    0.013405\n",
      "81    0.044715\n",
      "83    0.035336\n",
      "86    0.006557\n",
      "76    0.022388\n",
      "88    0.011364\n",
      "Name: proportion_death_in_month, dtype: float64\n",
      "10    0.225532\n",
      "8     0.018779\n",
      "29    0.005236\n",
      "10    0.225532\n",
      "14    0.107438\n",
      "2     0.043321\n",
      "27    0.060976\n",
      "18    0.254630\n",
      "37    0.170290\n",
      "7     0.013514\n",
      "8     0.018779\n",
      "33    0.071429\n",
      "5     0.050000\n",
      "18    0.254630\n",
      "67    0.143911\n",
      "45    0.110204\n",
      "73    0.036066\n",
      "63    0.134426\n",
      "74    0.182692\n",
      "53    0.061224\n",
      "43    0.012245\n",
      "71    0.032154\n",
      "1     0.075314\n",
      "33    0.071429\n",
      "30    0.015544\n",
      "0     0.145669\n",
      "10    0.225532\n",
      "2     0.043321\n",
      "61    0.154341\n",
      "69    0.107744\n",
      "        ...   \n",
      "55    0.105485\n",
      "33    0.071429\n",
      "33    0.071429\n",
      "6     0.084211\n",
      "42    0.063197\n",
      "34    0.080508\n",
      "47    0.075908\n",
      "53    0.061224\n",
      "29    0.005236\n",
      "60    0.180887\n",
      "21    0.229665\n",
      "24    0.159696\n",
      "26    0.119298\n",
      "35    0.151639\n",
      "50    0.042308\n",
      "11    0.208469\n",
      "36    0.112840\n",
      "5     0.050000\n",
      "26    0.119298\n",
      "31    0.022624\n",
      "51    0.043919\n",
      "66    0.180556\n",
      "53    0.061224\n",
      "14    0.107438\n",
      "73    0.036066\n",
      "39    0.058333\n",
      "50    0.042308\n",
      "17    0.207792\n",
      "46    0.105469\n",
      "17    0.207792\n",
      "Name: proportion_death_in_month, Length: 76, dtype: float64\n",
      "87    0.009585\n",
      "90    0.000000\n",
      "84    0.006873\n",
      "94    0.013405\n",
      "79    0.045802\n",
      "94    0.013405\n",
      "96    0.030848\n",
      "85    0.000000\n",
      "88    0.011364\n",
      "76    0.022388\n",
      "85    0.000000\n",
      "78    0.018939\n",
      "89    0.003717\n",
      "94    0.013405\n",
      "79    0.045802\n",
      "79    0.045802\n",
      "96    0.030848\n",
      "84    0.006873\n",
      "94    0.013405\n",
      "76    0.022388\n",
      "89    0.003717\n",
      "89    0.003717\n",
      "Name: proportion_death_in_month, dtype: float64\n",
      "42    0.063197\n",
      "9     0.110169\n",
      "57    0.109434\n",
      "19    0.183857\n",
      "18    0.254630\n",
      "47    0.075908\n",
      "0     0.145669\n",
      "47    0.075908\n",
      "64    0.101504\n",
      "19    0.183857\n",
      "20    0.293388\n",
      "25    0.124060\n",
      "75    0.122449\n",
      "23    0.191176\n",
      "62    0.189723\n",
      "7     0.013514\n",
      "58    0.104869\n",
      "14    0.107438\n",
      "19    0.183857\n",
      "54    0.035857\n",
      "70    0.053691\n",
      "37    0.170290\n",
      "57    0.109434\n",
      "8     0.018779\n",
      "53    0.061224\n",
      "12    0.122186\n",
      "45    0.110204\n",
      "71    0.032154\n",
      "14    0.107438\n",
      "3     0.015686\n",
      "        ...   \n",
      "13    0.102273\n",
      "34    0.080508\n",
      "64    0.101504\n",
      "8     0.018779\n",
      "49    0.044521\n",
      "46    0.105469\n",
      "68    0.149606\n",
      "36    0.112840\n",
      "73    0.036066\n",
      "12    0.122186\n",
      "52    0.071429\n",
      "30    0.015544\n",
      "44    0.032258\n",
      "63    0.134426\n",
      "22    0.313808\n",
      "54    0.035857\n",
      "6     0.084211\n",
      "17    0.207792\n",
      "54    0.035857\n",
      "16    0.065934\n",
      "29    0.005236\n",
      "1     0.075314\n",
      "69    0.107744\n",
      "2     0.043321\n",
      "2     0.043321\n",
      "56    0.148410\n",
      "65    0.130952\n",
      "57    0.109434\n",
      "54    0.035857\n",
      "23    0.191176\n",
      "Name: proportion_death_in_month, Length: 76, dtype: float64\n",
      "85    0.000000\n",
      "92    0.023411\n",
      "84    0.006873\n",
      "84    0.006873\n",
      "83    0.035336\n",
      "77    0.012000\n",
      "97    0.049261\n",
      "83    0.035336\n",
      "83    0.035336\n",
      "82    0.029304\n",
      "76    0.022388\n",
      "87    0.009585\n",
      "87    0.009585\n",
      "90    0.000000\n",
      "88    0.011364\n",
      "83    0.035336\n",
      "91    0.009615\n",
      "95    0.022333\n",
      "85    0.000000\n",
      "89    0.003717\n",
      "91    0.009615\n",
      "91    0.009615\n",
      "Name: proportion_death_in_month, dtype: float64\n",
      "20    0.293388\n",
      "67    0.143911\n",
      "53    0.061224\n",
      "51    0.043919\n",
      "3     0.015686\n",
      "9     0.110169\n",
      "39    0.058333\n",
      "34    0.080508\n",
      "9     0.110169\n",
      "39    0.058333\n",
      "45    0.110204\n",
      "6     0.084211\n",
      "27    0.060976\n",
      "58    0.104869\n",
      "39    0.058333\n",
      "31    0.022624\n",
      "8     0.018779\n",
      "18    0.254630\n",
      "9     0.110169\n",
      "44    0.032258\n",
      "23    0.191176\n",
      "16    0.065934\n",
      "5     0.050000\n",
      "67    0.143911\n",
      "27    0.060976\n",
      "72    0.019231\n",
      "36    0.112840\n",
      "61    0.154341\n",
      "39    0.058333\n",
      "9     0.110169\n",
      "        ...   \n",
      "25    0.124060\n",
      "36    0.112840\n",
      "21    0.229665\n",
      "20    0.293388\n",
      "40    0.026786\n",
      "37    0.170290\n",
      "57    0.109434\n",
      "51    0.043919\n",
      "57    0.109434\n",
      "33    0.071429\n",
      "20    0.293388\n",
      "55    0.105485\n",
      "68    0.149606\n",
      "34    0.080508\n",
      "20    0.293388\n",
      "56    0.148410\n",
      "65    0.130952\n",
      "31    0.022624\n",
      "13    0.102273\n",
      "65    0.130952\n",
      "8     0.018779\n",
      "8     0.018779\n",
      "66    0.180556\n",
      "46    0.105469\n",
      "5     0.050000\n",
      "8     0.018779\n",
      "10    0.225532\n",
      "27    0.060976\n",
      "1     0.075314\n",
      "8     0.018779\n",
      "Name: proportion_death_in_month, Length: 76, dtype: float64\n",
      "90    0.000000\n",
      "87    0.009585\n",
      "79    0.045802\n",
      "87    0.009585\n",
      "97    0.049261\n",
      "92    0.023411\n",
      "96    0.030848\n",
      "85    0.000000\n",
      "91    0.009615\n",
      "94    0.013405\n",
      "83    0.035336\n",
      "93    0.029032\n",
      "87    0.009585\n",
      "81    0.044715\n",
      "86    0.006557\n",
      "78    0.018939\n",
      "91    0.009615\n",
      "82    0.029304\n",
      "84    0.006873\n",
      "95    0.022333\n",
      "76    0.022388\n",
      "78    0.018939\n",
      "Name: proportion_death_in_month, dtype: float64\n",
      "26    0.119298\n",
      "49    0.044521\n",
      "73    0.036066\n",
      "66    0.180556\n",
      "62    0.189723\n",
      "6     0.084211\n",
      "4     0.007843\n",
      "40    0.026786\n",
      "48    0.047445\n",
      "54    0.035857\n",
      "60    0.180887\n",
      "31    0.022624\n",
      "28    0.040816\n",
      "74    0.182692\n",
      "67    0.143911\n",
      "41    0.043689\n",
      "60    0.180887\n",
      "4     0.007843\n",
      "49    0.044521\n",
      "59    0.133929\n",
      "49    0.044521\n",
      "49    0.044521\n",
      "10    0.225532\n",
      "35    0.151639\n",
      "0     0.145669\n",
      "10    0.225532\n",
      "23    0.191176\n",
      "75    0.122449\n",
      "6     0.084211\n",
      "59    0.133929\n",
      "        ...   \n",
      "35    0.151639\n",
      "51    0.043919\n",
      "54    0.035857\n",
      "62    0.189723\n",
      "17    0.207792\n",
      "27    0.060976\n",
      "36    0.112840\n",
      "21    0.229665\n",
      "4     0.007843\n",
      "21    0.229665\n",
      "5     0.050000\n",
      "64    0.101504\n",
      "74    0.182692\n",
      "25    0.124060\n",
      "38    0.173077\n",
      "25    0.124060\n",
      "54    0.035857\n",
      "68    0.149606\n",
      "7     0.013514\n",
      "44    0.032258\n",
      "51    0.043919\n",
      "44    0.032258\n",
      "44    0.032258\n",
      "2     0.043321\n",
      "61    0.154341\n",
      "71    0.032154\n",
      "25    0.124060\n",
      "62    0.189723\n",
      "37    0.170290\n",
      "16    0.065934\n",
      "Name: proportion_death_in_month, Length: 76, dtype: float64\n",
      "87    0.009585\n",
      "88    0.011364\n",
      "88    0.011364\n",
      "97    0.049261\n",
      "80    0.039568\n",
      "90    0.000000\n",
      "88    0.011364\n",
      "91    0.009615\n",
      "93    0.029032\n",
      "79    0.045802\n",
      "81    0.044715\n",
      "96    0.030848\n",
      "91    0.009615\n",
      "90    0.000000\n",
      "76    0.022388\n",
      "77    0.012000\n",
      "80    0.039568\n",
      "90    0.000000\n",
      "93    0.029032\n",
      "84    0.006873\n",
      "85    0.000000\n",
      "84    0.006873\n",
      "Name: proportion_death_in_month, dtype: float64\n"
     ]
    },
    {
     "data": {
      "text/plain": [
       "[-0.0729113334816414,\n",
       " -0.09398235822743106,\n",
       " -0.07806358505974566,\n",
       " -0.07306767860611289,\n",
       " -0.08766142017399,\n",
       " -0.07979158641704484,\n",
       " -0.08470402445302863,\n",
       " -0.08255564840217051,\n",
       " -0.08554747448205641,\n",
       " -0.08578045291896576]"
      ]
     },
     "execution_count": 40,
     "metadata": {},
     "output_type": "execute_result"
    }
   ],
   "source": [
    "# A bootstrap analysis of the reduction of deaths due to handwashing\n",
    "boot_mean_diff = []\n",
    "for i in range(10):\n",
    "    boot_before = before_washing['proportion_death_in_month'].sample(frac=1, replace=True)\n",
    "    boot_after = after_washing['proportion_death_in_month'].sample(frac=1, replace=True)\n",
    "    print(boot_before)\n",
    "    print(boot_after)\n",
    "    boot_mean_diff.append(boot_after.mean() - boot_before.mean())\n",
    "\n",
    "boot_mean_diff\n"
   ]
  },
  {
   "cell_type": "code",
   "execution_count": 41,
   "metadata": {
    "dc": {
     "key": "d8ff65292a"
    }
   },
   "outputs": [
    {
     "data": {
      "text/plain": [
       "0.025   -0.092560\n",
       "0.975   -0.072947\n",
       "dtype: float64"
      ]
     },
     "execution_count": 41,
     "metadata": {},
     "output_type": "execute_result"
    }
   ],
   "source": [
    "# Calculating a 95% confidence interval from boot_mean_diff \n",
    "confidence_interval = pd.Series(boot_mean_diff).quantile([0.025, 0.975])\n",
    "confidence_interval\n"
   ]
  },
  {
   "cell_type": "markdown",
   "metadata": {
    "dc": {
     "key": "0645423069"
    },
    "deletable": false,
    "editable": false,
    "run_control": {
     "frozen": true
    },
    "tags": [
     "context"
    ]
   },
   "source": [
    "## 9. The fate of Dr. Semmelweis\n",
    "<p>So handwashing reduced the proportion of deaths by between 6.7 and 10 percentage points, according to a 95% confidence interval. All in all, it would seem that Semmelweis had solid evidence that handwashing was a simple but highly effective procedure that could save many lives.</p>\n",
    "<p>The tragedy is that, despite the evidence, Semmelweis' theory — that childbed fever was caused by some \"substance\" (what we today know as <em>bacteria</em>) from autopsy room corpses — was ridiculed by contemporary scientists. The medical community largely rejected his discovery and in 1849 he was forced to leave the Vienna General Hospital for good.</p>\n",
    "<p>One reason for this was that statistics and statistical arguments were uncommon in medical science in the 1800s. Semmelweis only published his data as long tables of raw data, but he didn't show any graphs nor confidence intervals. If he would have had access to the analysis we've just put together he might have been more successful in getting the Viennese doctors to wash their hands.</p>"
   ]
  },
  {
   "cell_type": "code",
   "execution_count": 42,
   "metadata": {
    "dc": {
     "key": "0645423069"
    },
    "tags": [
     "sample_code"
    ]
   },
   "outputs": [],
   "source": [
    "# The data Semmelweis collected points to that:\n",
    "doctors_should_wash_their_hands = True"
   ]
  },
  {
   "cell_type": "code",
   "execution_count": null,
   "metadata": {},
   "outputs": [],
   "source": []
  }
 ],
 "metadata": {
  "kernelspec": {
   "display_name": "Python 3",
   "language": "python",
   "name": "python3"
  },
  "language_info": {
   "codemirror_mode": {
    "name": "ipython",
    "version": 3
   },
   "file_extension": ".py",
   "mimetype": "text/x-python",
   "name": "python",
   "nbconvert_exporter": "python",
   "pygments_lexer": "ipython3",
   "version": "3.6.6"
  }
 },
 "nbformat": 4,
 "nbformat_minor": 2
}
