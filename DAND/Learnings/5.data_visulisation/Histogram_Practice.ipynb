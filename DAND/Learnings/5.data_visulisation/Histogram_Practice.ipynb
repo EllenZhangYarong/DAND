{
 "cells": [
  {
   "cell_type": "code",
   "execution_count": 17,
   "metadata": {},
   "outputs": [],
   "source": [
    "# prerequisite package imports\n",
    "import numpy as np\n",
    "import pandas as pd\n",
    "import matplotlib.pyplot as plt\n",
    "import seaborn as sb\n",
    "\n",
    "%matplotlib inline\n",
    "\n",
    "from solutions_univ import histogram_solution_1"
   ]
  },
  {
   "cell_type": "markdown",
   "metadata": {},
   "source": [
    "We'll continue working with the Pokémon dataset in this workspace."
   ]
  },
  {
   "cell_type": "code",
   "execution_count": 9,
   "metadata": {},
   "outputs": [
    {
     "data": {
      "text/html": [
       "<div>\n",
       "<style scoped>\n",
       "    .dataframe tbody tr th:only-of-type {\n",
       "        vertical-align: middle;\n",
       "    }\n",
       "\n",
       "    .dataframe tbody tr th {\n",
       "        vertical-align: top;\n",
       "    }\n",
       "\n",
       "    .dataframe thead th {\n",
       "        text-align: right;\n",
       "    }\n",
       "</style>\n",
       "<table border=\"1\" class=\"dataframe\">\n",
       "  <thead>\n",
       "    <tr style=\"text-align: right;\">\n",
       "      <th></th>\n",
       "      <th>id</th>\n",
       "      <th>species</th>\n",
       "      <th>generation_id</th>\n",
       "      <th>height</th>\n",
       "      <th>weight</th>\n",
       "      <th>base_experience</th>\n",
       "      <th>type_1</th>\n",
       "      <th>type_2</th>\n",
       "      <th>hp</th>\n",
       "      <th>attack</th>\n",
       "      <th>defense</th>\n",
       "      <th>speed</th>\n",
       "      <th>special-attack</th>\n",
       "      <th>special-defense</th>\n",
       "    </tr>\n",
       "  </thead>\n",
       "  <tbody>\n",
       "    <tr>\n",
       "      <th>0</th>\n",
       "      <td>1</td>\n",
       "      <td>bulbasaur</td>\n",
       "      <td>1</td>\n",
       "      <td>0.7</td>\n",
       "      <td>6.9</td>\n",
       "      <td>64</td>\n",
       "      <td>grass</td>\n",
       "      <td>poison</td>\n",
       "      <td>45</td>\n",
       "      <td>49</td>\n",
       "      <td>49</td>\n",
       "      <td>45</td>\n",
       "      <td>65</td>\n",
       "      <td>65</td>\n",
       "    </tr>\n",
       "    <tr>\n",
       "      <th>1</th>\n",
       "      <td>2</td>\n",
       "      <td>ivysaur</td>\n",
       "      <td>1</td>\n",
       "      <td>1.0</td>\n",
       "      <td>13.0</td>\n",
       "      <td>142</td>\n",
       "      <td>grass</td>\n",
       "      <td>poison</td>\n",
       "      <td>60</td>\n",
       "      <td>62</td>\n",
       "      <td>63</td>\n",
       "      <td>60</td>\n",
       "      <td>80</td>\n",
       "      <td>80</td>\n",
       "    </tr>\n",
       "    <tr>\n",
       "      <th>2</th>\n",
       "      <td>3</td>\n",
       "      <td>venusaur</td>\n",
       "      <td>1</td>\n",
       "      <td>2.0</td>\n",
       "      <td>100.0</td>\n",
       "      <td>236</td>\n",
       "      <td>grass</td>\n",
       "      <td>poison</td>\n",
       "      <td>80</td>\n",
       "      <td>82</td>\n",
       "      <td>83</td>\n",
       "      <td>80</td>\n",
       "      <td>100</td>\n",
       "      <td>100</td>\n",
       "    </tr>\n",
       "    <tr>\n",
       "      <th>3</th>\n",
       "      <td>4</td>\n",
       "      <td>charmander</td>\n",
       "      <td>1</td>\n",
       "      <td>0.6</td>\n",
       "      <td>8.5</td>\n",
       "      <td>62</td>\n",
       "      <td>fire</td>\n",
       "      <td>NaN</td>\n",
       "      <td>39</td>\n",
       "      <td>52</td>\n",
       "      <td>43</td>\n",
       "      <td>65</td>\n",
       "      <td>60</td>\n",
       "      <td>50</td>\n",
       "    </tr>\n",
       "    <tr>\n",
       "      <th>4</th>\n",
       "      <td>5</td>\n",
       "      <td>charmeleon</td>\n",
       "      <td>1</td>\n",
       "      <td>1.1</td>\n",
       "      <td>19.0</td>\n",
       "      <td>142</td>\n",
       "      <td>fire</td>\n",
       "      <td>NaN</td>\n",
       "      <td>58</td>\n",
       "      <td>64</td>\n",
       "      <td>58</td>\n",
       "      <td>80</td>\n",
       "      <td>80</td>\n",
       "      <td>65</td>\n",
       "    </tr>\n",
       "  </tbody>\n",
       "</table>\n",
       "</div>"
      ],
      "text/plain": [
       "   id     species  generation_id  height  weight  base_experience type_1  \\\n",
       "0   1   bulbasaur              1     0.7     6.9               64  grass   \n",
       "1   2     ivysaur              1     1.0    13.0              142  grass   \n",
       "2   3    venusaur              1     2.0   100.0              236  grass   \n",
       "3   4  charmander              1     0.6     8.5               62   fire   \n",
       "4   5  charmeleon              1     1.1    19.0              142   fire   \n",
       "\n",
       "   type_2  hp  attack  defense  speed  special-attack  special-defense  \n",
       "0  poison  45      49       49     45              65               65  \n",
       "1  poison  60      62       63     60              80               80  \n",
       "2  poison  80      82       83     80             100              100  \n",
       "3     NaN  39      52       43     65              60               50  \n",
       "4     NaN  58      64       58     80              80               65  "
      ]
     },
     "execution_count": 9,
     "metadata": {},
     "output_type": "execute_result"
    }
   ],
   "source": [
    "pokemon = pd.read_csv('./dataset/pokemon.csv')\n",
    "pokemon.head()"
   ]
  },
  {
   "cell_type": "markdown",
   "metadata": {},
   "source": [
    "**Task**: Pokémon have a number of different statistics that describe their combat capabilities. Here, create a _histogram_ that depicts the distribution of 'special-defense' values taken. **Hint**: Try playing around with different bin width sizes to see what best depicts the data."
   ]
  },
  {
   "cell_type": "code",
   "execution_count": 10,
   "metadata": {},
   "outputs": [
    {
     "data": {
      "text/html": [
       "<div>\n",
       "<style scoped>\n",
       "    .dataframe tbody tr th:only-of-type {\n",
       "        vertical-align: middle;\n",
       "    }\n",
       "\n",
       "    .dataframe tbody tr th {\n",
       "        vertical-align: top;\n",
       "    }\n",
       "\n",
       "    .dataframe thead th {\n",
       "        text-align: right;\n",
       "    }\n",
       "</style>\n",
       "<table border=\"1\" class=\"dataframe\">\n",
       "  <thead>\n",
       "    <tr style=\"text-align: right;\">\n",
       "      <th></th>\n",
       "      <th>id</th>\n",
       "      <th>generation_id</th>\n",
       "      <th>height</th>\n",
       "      <th>weight</th>\n",
       "      <th>base_experience</th>\n",
       "      <th>hp</th>\n",
       "      <th>attack</th>\n",
       "      <th>defense</th>\n",
       "      <th>speed</th>\n",
       "      <th>special-attack</th>\n",
       "      <th>special-defense</th>\n",
       "    </tr>\n",
       "  </thead>\n",
       "  <tbody>\n",
       "    <tr>\n",
       "      <th>count</th>\n",
       "      <td>807.000000</td>\n",
       "      <td>807.000000</td>\n",
       "      <td>807.000000</td>\n",
       "      <td>807.000000</td>\n",
       "      <td>807.000000</td>\n",
       "      <td>807.000000</td>\n",
       "      <td>807.000000</td>\n",
       "      <td>807.000000</td>\n",
       "      <td>807.000000</td>\n",
       "      <td>807.000000</td>\n",
       "      <td>807.000000</td>\n",
       "    </tr>\n",
       "    <tr>\n",
       "      <th>mean</th>\n",
       "      <td>404.000000</td>\n",
       "      <td>3.714994</td>\n",
       "      <td>1.162454</td>\n",
       "      <td>61.771128</td>\n",
       "      <td>144.848823</td>\n",
       "      <td>68.748451</td>\n",
       "      <td>76.086741</td>\n",
       "      <td>71.726146</td>\n",
       "      <td>65.830235</td>\n",
       "      <td>69.486989</td>\n",
       "      <td>70.013631</td>\n",
       "    </tr>\n",
       "    <tr>\n",
       "      <th>std</th>\n",
       "      <td>233.105126</td>\n",
       "      <td>1.944148</td>\n",
       "      <td>1.081030</td>\n",
       "      <td>111.519355</td>\n",
       "      <td>74.953116</td>\n",
       "      <td>26.032808</td>\n",
       "      <td>29.544598</td>\n",
       "      <td>29.730228</td>\n",
       "      <td>27.736838</td>\n",
       "      <td>29.439715</td>\n",
       "      <td>27.292344</td>\n",
       "    </tr>\n",
       "    <tr>\n",
       "      <th>min</th>\n",
       "      <td>1.000000</td>\n",
       "      <td>1.000000</td>\n",
       "      <td>0.100000</td>\n",
       "      <td>0.100000</td>\n",
       "      <td>36.000000</td>\n",
       "      <td>1.000000</td>\n",
       "      <td>5.000000</td>\n",
       "      <td>5.000000</td>\n",
       "      <td>5.000000</td>\n",
       "      <td>10.000000</td>\n",
       "      <td>20.000000</td>\n",
       "    </tr>\n",
       "    <tr>\n",
       "      <th>25%</th>\n",
       "      <td>202.500000</td>\n",
       "      <td>2.000000</td>\n",
       "      <td>0.600000</td>\n",
       "      <td>9.000000</td>\n",
       "      <td>66.000000</td>\n",
       "      <td>50.000000</td>\n",
       "      <td>55.000000</td>\n",
       "      <td>50.000000</td>\n",
       "      <td>45.000000</td>\n",
       "      <td>45.000000</td>\n",
       "      <td>50.000000</td>\n",
       "    </tr>\n",
       "    <tr>\n",
       "      <th>50%</th>\n",
       "      <td>404.000000</td>\n",
       "      <td>4.000000</td>\n",
       "      <td>1.000000</td>\n",
       "      <td>27.000000</td>\n",
       "      <td>151.000000</td>\n",
       "      <td>65.000000</td>\n",
       "      <td>75.000000</td>\n",
       "      <td>67.000000</td>\n",
       "      <td>65.000000</td>\n",
       "      <td>65.000000</td>\n",
       "      <td>65.000000</td>\n",
       "    </tr>\n",
       "    <tr>\n",
       "      <th>75%</th>\n",
       "      <td>605.500000</td>\n",
       "      <td>5.000000</td>\n",
       "      <td>1.500000</td>\n",
       "      <td>63.000000</td>\n",
       "      <td>179.500000</td>\n",
       "      <td>80.000000</td>\n",
       "      <td>95.000000</td>\n",
       "      <td>89.000000</td>\n",
       "      <td>85.000000</td>\n",
       "      <td>90.000000</td>\n",
       "      <td>85.000000</td>\n",
       "    </tr>\n",
       "    <tr>\n",
       "      <th>max</th>\n",
       "      <td>807.000000</td>\n",
       "      <td>7.000000</td>\n",
       "      <td>14.500000</td>\n",
       "      <td>999.900000</td>\n",
       "      <td>608.000000</td>\n",
       "      <td>255.000000</td>\n",
       "      <td>181.000000</td>\n",
       "      <td>230.000000</td>\n",
       "      <td>160.000000</td>\n",
       "      <td>173.000000</td>\n",
       "      <td>230.000000</td>\n",
       "    </tr>\n",
       "  </tbody>\n",
       "</table>\n",
       "</div>"
      ],
      "text/plain": [
       "               id  generation_id      height      weight  base_experience  \\\n",
       "count  807.000000     807.000000  807.000000  807.000000       807.000000   \n",
       "mean   404.000000       3.714994    1.162454   61.771128       144.848823   \n",
       "std    233.105126       1.944148    1.081030  111.519355        74.953116   \n",
       "min      1.000000       1.000000    0.100000    0.100000        36.000000   \n",
       "25%    202.500000       2.000000    0.600000    9.000000        66.000000   \n",
       "50%    404.000000       4.000000    1.000000   27.000000       151.000000   \n",
       "75%    605.500000       5.000000    1.500000   63.000000       179.500000   \n",
       "max    807.000000       7.000000   14.500000  999.900000       608.000000   \n",
       "\n",
       "               hp      attack     defense       speed  special-attack  \\\n",
       "count  807.000000  807.000000  807.000000  807.000000      807.000000   \n",
       "mean    68.748451   76.086741   71.726146   65.830235       69.486989   \n",
       "std     26.032808   29.544598   29.730228   27.736838       29.439715   \n",
       "min      1.000000    5.000000    5.000000    5.000000       10.000000   \n",
       "25%     50.000000   55.000000   50.000000   45.000000       45.000000   \n",
       "50%     65.000000   75.000000   67.000000   65.000000       65.000000   \n",
       "75%     80.000000   95.000000   89.000000   85.000000       90.000000   \n",
       "max    255.000000  181.000000  230.000000  160.000000      173.000000   \n",
       "\n",
       "       special-defense  \n",
       "count       807.000000  \n",
       "mean         70.013631  \n",
       "std          27.292344  \n",
       "min          20.000000  \n",
       "25%          50.000000  \n",
       "50%          65.000000  \n",
       "75%          85.000000  \n",
       "max         230.000000  "
      ]
     },
     "execution_count": 10,
     "metadata": {},
     "output_type": "execute_result"
    }
   ],
   "source": [
    "pokemon.describe()"
   ]
  },
  {
   "cell_type": "code",
   "execution_count": 24,
   "metadata": {},
   "outputs": [
    {
     "data": {
      "text/plain": [
       "(array([ 18.,  57., 102., 125., 116., 108.,  94.,  71.,  47.,  25.,  14.,\n",
       "         16.,   3.,   9.,   0.,   0.,   0.,   0.,   1.,   0.,   1.]),\n",
       " array([ 20,  30,  40,  50,  60,  70,  80,  90, 100, 110, 120, 130, 140,\n",
       "        150, 160, 170, 180, 190, 200, 210, 220, 230], dtype=int64),\n",
       " <a list of 21 Patch objects>)"
      ]
     },
     "execution_count": 24,
     "metadata": {},
     "output_type": "execute_result"
    },
    {
     "data": {
      "image/png": "[encoded data removed]",
      "text/plain": [
       "<Figure size 432x288 with 1 Axes>"
      ]
     },
     "metadata": {
      "needs_background": "light"
     },
     "output_type": "display_data"
    }
   ],
   "source": [
    "# YOUR CODE HERE\n",
    "bin_edges = np.arange(20, pokemon['special-defense'].max()+ 10, 10)\n",
    "plt.hist(data = pokemon, x = 'special-defense', bins = bin_edges)"
   ]
  },
  {
   "cell_type": "code",
   "execution_count": 12,
   "metadata": {},
   "outputs": [
    {
     "data": {
      "text/plain": [
       "(array([ 6., 12., 29., 28., 49., 53., 66., 59., 63., 53., 57., 51., 52.,\n",
       "        42., 37., 34., 29., 18., 14., 11., 10.,  4., 12.,  4.,  3.,  0.,\n",
       "         9.,  0.,  0.,  0.,  0.,  0.,  0.,  0.,  0.,  0.,  1.,  0.,  0.,\n",
       "         0.,  0.,  1.]),\n",
       " array([ 20,  25,  30,  35,  40,  45,  50,  55,  60,  65,  70,  75,  80,\n",
       "         85,  90,  95, 100, 105, 110, 115, 120, 125, 130, 135, 140, 145,\n",
       "        150, 155, 160, 165, 170, 175, 180, 185, 190, 195, 200, 205, 210,\n",
       "        215, 220, 225, 230], dtype=int64),\n",
       " <a list of 42 Patch objects>)"
      ]
     },
     "execution_count": 12,
     "metadata": {},
     "output_type": "execute_result"
    },
    {
     "data": {
      "image/png": "[encoded data removed]",
      "text/plain": [
       "<Figure size 432x288 with 1 Axes>"
      ]
     },
     "metadata": {
      "needs_background": "light"
     },
     "output_type": "display_data"
    }
   ],
   "source": [
    "bins = np.arange(20, pokemon['special-defense'].max()+5, 5)\n",
    "plt.hist(pokemon['special-defense'], bins = bins)"
   ]
  },
  {
   "cell_type": "code",
   "execution_count": 28,
   "metadata": {},
   "outputs": [
    {
     "data": {
      "text/plain": [
       "(array([ 18.,  57., 102., 125., 116., 108.,  94.,  71.,  47.,  25.,  14.,\n",
       "         16.,   3.,   9.,   0.,   0.,   0.,   0.,   1.,   0.,   1.]),\n",
       " array([ 20,  30,  40,  50,  60,  70,  80,  90, 100, 110, 120, 130, 140,\n",
       "        150, 160, 170, 180, 190, 200, 210, 220, 230], dtype=int64),\n",
       " <a list of 21 Patch objects>)"
      ]
     },
     "execution_count": 28,
     "metadata": {},
     "output_type": "execute_result"
    },
    {
     "data": {
      "image/png": "[encoded data removed]",
      "text/plain": [
       "<Figure size 1440x360 with 2 Axes>"
      ]
     },
     "metadata": {
      "needs_background": "light"
     },
     "output_type": "display_data"
    }
   ],
   "source": [
    "plt.figure(figsize=[20,5])\n",
    "plt.subplot(1,2,1)\n",
    "bins = np.arange(20, pokemon['special-defense'].max()+5, 5)\n",
    "plt.hist(pokemon['special-defense'], bins = bins)\n",
    "\n",
    "plt.subplot(1,2,2)\n",
    "bins = np.arange(20, pokemon['special-defense'].max()+ 10, 10)\n",
    "plt.hist(pokemon['special-defense'], bins = bins)\n"
   ]
  },
  {
   "cell_type": "code",
   "execution_count": 30,
   "metadata": {},
   "outputs": [
    {
     "data": {
      "image/png": "[encoded data removed]",
      "text/plain": [
       "<Figure size 432x288 with 12 Axes>"
      ]
     },
     "metadata": {
      "needs_background": "light"
     },
     "output_type": "display_data"
    }
   ],
   "source": []
  }
 ],
 "metadata": {
  "kernelspec": {
   "display_name": "Python 3",
   "language": "python",
   "name": "python3"
  },
  "language_info": {
   "codemirror_mode": {
    "name": "ipython",
    "version": 3
   },
   "file_extension": ".py",
   "mimetype": "text/x-python",
   "name": "python",
   "nbconvert_exporter": "python",
   "pygments_lexer": "ipython3",
   "version": "3.6.6"
  }
 },
 "nbformat": 4,
 "nbformat_minor": 2
}
