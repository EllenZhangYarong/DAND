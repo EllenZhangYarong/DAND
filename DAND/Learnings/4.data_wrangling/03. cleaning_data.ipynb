{
 "cells": [
  {
   "cell_type": "markdown",
   "metadata": {},
   "source": [
    "## Quality issues:\n",
    "\n",
    "#### `patients` table\n",
    "\n",
    "- zip code is a float not a string\n",
    "- zip code has four digits sometimes\n",
    "- Tim Neudorf height is 27 in instead of 72 in\n",
    "- full state names sometimes, abbreviations the other times\n",
    "- Dsvid Gustafsson \n",
    "- Missing demographic information ( address - contact columns)\n",
    "- Erroneous datatypes (assigned sex, state, zip_code, birthdate)\n",
    "- Multiple phone number formats\n",
    "- Default John Doe data\n",
    "- Multiple records for Jakobsen, Generosa Cabán, Taylor\n",
    "\n",
    "\n",
    "#### `treatments` table\n",
    "\n",
    "- missing HbA1c changes\n",
    "- The letter u in starting and ending doses for auralin and novovrda\n",
    "- lowercase given names and surnames\n",
    "- missing records (280 instead of 350)\n",
    "- Erroneous datatypes (auralin and novodra columns)\n",
    "- Inaccurate HbA1c changes (4s mistaken as 9s)\n",
    "- Nulls represented as dashes (-) in auralin and novodra columns\n",
    "\n",
    "\n",
    "#### `adverse_reactions` table\n",
    "\n",
    "- lowercase given names and surnames\n"
   ]
  },
  {
   "cell_type": "markdown",
   "metadata": {},
   "source": [
    "# Tidiness\n",
    "- contact column in `patients` table should be split into phone number and email (violates #1. )\n",
    "- auralin and novodra columns in `treatments`, should be seperated into three variables: treatment, start_dose, end_dose (violates #1)\n",
    "- It only need two tables, patients and treatments"
   ]
  },
  {
   "cell_type": "markdown",
   "metadata": {},
   "source": [
    "# the data cleaning process: defining, coding, and testing\n",
    "\n",
    "- Step1 : address the missing data first\n",
    "- Step2 : tackle the tidiness issues next\n",
    "- Step3 : clean up the quality issues"
   ]
  },
  {
   "cell_type": "code",
   "execution_count": 1,
   "metadata": {},
   "outputs": [],
   "source": [
    "import pandas as pd\n",
    "patients = pd.read_csv('./dataset/patients.csv')\n",
    "treatments = pd.read_csv('./dataset/treatments.csv')\n",
    "adverse_reactions = pd.read_csv('./dataset/adverse_reactions.csv')"
   ]
  },
  {
   "cell_type": "markdown",
   "metadata": {},
   "source": [
    "##### The very first thing to do before any cleaning occurs is to make a copy of each piece of data."
   ]
  },
  {
   "cell_type": "code",
   "execution_count": 11,
   "metadata": {},
   "outputs": [],
   "source": [
    "df_clean_patients = patients.copy()\n",
    "df_clean_treatments = treatments.copy()\n",
    "df_clean_adverse_reactions = adverse_reactions.copy()"
   ]
  },
  {
   "cell_type": "markdown",
   "metadata": {},
   "source": [
    "# Clean"
   ]
  },
  {
   "cell_type": "markdown",
   "metadata": {},
   "source": [
    "## Define\n",
    "- Convert the zip code column's data type from a float to a string using astype,\n",
    "- Remove the '.0' using string slicing, and pad four digit zip codes with a leading 0"
   ]
  },
  {
   "cell_type": "code",
   "execution_count": 12,
   "metadata": {},
   "outputs": [
    {
     "data": {
      "text/plain": [
       "0    92390.0\n",
       "1    61812.0\n",
       "2    68467.0\n",
       "3     7095.0\n",
       "4    36303.0\n",
       "Name: zip_code, dtype: float64"
      ]
     },
     "execution_count": 12,
     "metadata": {},
     "output_type": "execute_result"
    }
   ],
   "source": [
    "patients.zip_code.head()"
   ]
  },
  {
   "cell_type": "markdown",
   "metadata": {},
   "source": [
    "## Code"
   ]
  },
  {
   "cell_type": "code",
   "execution_count": 13,
   "metadata": {},
   "outputs": [
    {
     "data": {
      "text/plain": [
       "0    92390.0\n",
       "1    61812.0\n",
       "2    68467.0\n",
       "3     7095.0\n",
       "4    36303.0\n",
       "Name: zip_code, dtype: object"
      ]
     },
     "execution_count": 13,
     "metadata": {},
     "output_type": "execute_result"
    }
   ],
   "source": [
    "# Convert type\n",
    "df_clean_patients.zip_code = df_clean_patients.zip_code.astype(str)\n",
    "df_clean_patients.zip_code.head()"
   ]
  },
  {
   "cell_type": "code",
   "execution_count": 14,
   "metadata": {},
   "outputs": [
    {
     "data": {
      "text/plain": [
       "0    92390\n",
       "1    61812\n",
       "2    68467\n",
       "3     7095\n",
       "4    36303\n",
       "Name: zip_code, dtype: object"
      ]
     },
     "execution_count": 14,
     "metadata": {},
     "output_type": "execute_result"
    }
   ],
   "source": [
    "# Remove the '.'\n",
    "df_clean_patients.zip_code = df_clean_patients.zip_code.str[:-2]\n",
    "df_clean_patients.zip_code.head()"
   ]
  },
  {
   "cell_type": "code",
   "execution_count": 15,
   "metadata": {},
   "outputs": [
    {
     "data": {
      "text/plain": [
       "0    92390\n",
       "1    61812\n",
       "2    68467\n",
       "3    07095\n",
       "4    36303\n",
       "Name: zip_code, dtype: object"
      ]
     },
     "execution_count": 15,
     "metadata": {},
     "output_type": "execute_result"
    }
   ],
   "source": [
    "# fill the 0 before\n",
    "df_clean_patients.zip_code = df_clean_patients.zip_code.str.pad(5, fillchar='0')\n",
    "df_clean_patients.zip_code.head()"
   ]
  },
  {
   "cell_type": "code",
   "execution_count": 16,
   "metadata": {},
   "outputs": [],
   "source": [
    "# One line to implement above three\n",
    "df_clean_patients.zip_code = df_clean_patients.zip_code.astype(str).str[:-2].str.pad(5, fillchar='0')"
   ]
  },
  {
   "cell_type": "markdown",
   "metadata": {},
   "source": [
    "## Test"
   ]
  },
  {
   "cell_type": "code",
   "execution_count": 10,
   "metadata": {},
   "outputs": [
    {
     "data": {
      "text/plain": [
       "0    92390\n",
       "1    61812\n",
       "2    68467\n",
       "3    07095\n",
       "4    36303\n",
       "Name: zip_code, dtype: object"
      ]
     },
     "execution_count": 10,
     "metadata": {},
     "output_type": "execute_result"
    }
   ],
   "source": [
    "df_clean_patients.zip_code.head()"
   ]
  },
  {
   "cell_type": "markdown",
   "metadata": {},
   "source": [
    "_______"
   ]
  },
  {
   "cell_type": "markdown",
   "metadata": {},
   "source": [
    "-----"
   ]
  }
 ],
 "metadata": {
  "kernelspec": {
   "display_name": "Python 3",
   "language": "python",
   "name": "python3"
  },
  "language_info": {
   "codemirror_mode": {
    "name": "ipython",
    "version": 3
   },
   "file_extension": ".py",
   "mimetype": "text/x-python",
   "name": "python",
   "nbconvert_exporter": "python",
   "pygments_lexer": "ipython3",
   "version": "3.6.6"
  }
 },
 "nbformat": 4,
 "nbformat_minor": 2
}
