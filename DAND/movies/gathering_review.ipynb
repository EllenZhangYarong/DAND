{
 "cells": [
  {
   "cell_type": "code",
   "execution_count": 10,
   "metadata": {},
   "outputs": [],
   "source": [
    "import requests\n",
    "import os\n",
    "\n",
    "import pandas as pd\n",
    "import numpy as np\n",
    "import matplotlib.pyplot as plt\n",
    "%matplotlib inline"
   ]
  },
  {
   "cell_type": "code",
   "execution_count": 11,
   "metadata": {},
   "outputs": [],
   "source": [
    "folder_name = './dataset/reviews'\n",
    "if not os.path.exists(folder_name):\n",
    "    os.makedirs(folder_name)"
   ]
  },
  {
   "cell_type": "code",
   "execution_count": 12,
   "metadata": {},
   "outputs": [],
   "source": [
    "url = 'https://d17h27t6h515a5.cloudfront.net/topher/2017/September/59ad9900_1-the-wizard-of-oz-1939-film/1-the-wizard-of-oz-1939-film.txt'\n",
    "response = requests.get(url)"
   ]
  },
  {
   "cell_type": "code",
   "execution_count": 15,
   "metadata": {
    "scrolled": true
   },
   "outputs": [
    {
     "data": {
      "text/plain": [
       "'The Wizard of Oz (1939)\\nhttp://www.rogerebert.com/reviews/great-movie-the-wizard-of-oz-1939\\nAs a child I simply did not notice whether a movie was in color or not. The movies themselves were such an overwhelming mystery that if they wanted to be in black and white, that was their business. It was not until I saw \"The Wizard of Oz\" for the first time that I consciously noticed B&W versus color, as Dorothy was blown out of Kansas and into Oz. What did I think? It made good sense to me.\\n\\nThe switch from black and white to color would have had a special resonance in 1939, when the movie was made. Almost all films were still being made in black and white, and the cumbersome new color cameras came with a “Technicolor consultant” from the factory, who stood next to the cinematographer and officiously suggested higher light levels. Shooting in color might have been indicated because the film was MGM\\'s response to the huge success of Disney\\'s pioneering color animated feature, \"Snow White and the Seven Dwarfs\" (1937).\\n\\nIf “Wizard” began in one way and continued in another, that was also the history of the production. Richard Thorpe, the original director, was fired after 12 days. George Cukor filled in for three days, long enough to tell Judy Garland to lose the wig and the makeup, and then Victor Fleming took over. When Fleming went to “Gone With the Wind,” King Vidor did some of the Munchkin sequences, and the Kansas scenes.\\n\\nThere were cast changes, too; after Buddy Ebsen, as the Tin Man, had an allergic reaction to the silvery makeup, he was replaced by Jack Haley. Musical numbers were recorded and never used. Margaret Hamilton (the Wicked Witch of the West) was seriously burned when she went up in a puff of smoke. Even Toto was out of commission for two weeks after being stepped on by a crewmember.\\n\\nWe study all of these details, I think, because “The Wizard of Oz” fills such a large space in our imagination. It somehow seems real and important in a way most movies don\\'t. Is that because we see it first when we’re young? Or simply because it is a wonderful movie? Or because it sounds some buried universal note, some archetype or deeply felt myth?\\n\\nI lean toward the third possibility, that the elements in “The Wizard of Oz” powerfully fill a void that exists inside many children. For kids of a certain age, home is everything, the center of the world. But over the rainbow, dimly guessed at, is the wide earth, fascinating and terrifying. There is a deep fundamental fear that events might conspire to transport the child from the safety of home and strand him far away in a strange land. And what would he hope to find there? Why, new friends, to advise and protect him. And Toto, of course, because children have such a strong symbiotic relationship with their pets that they assume they would get lost together.\\n\\nThis deep universal appeal explains why so many different people from many backgrounds have a compartment of their memory reserved for “The Wizard of Oz.” Salman Rushdie, growing up in Bombay, remembers that seeing the film at 10 “made a writer of me.” Terry McMillan, as an African-American child in northern Michigan, “completely identified when no one had time to listen to Dorothy.” Rushdie wrote that the film\\'s “driving force is the inadequacy of adults, even of good adults, and how the weakness of grownups forces children to take control of their own destinies.” McMillan learned about courage, about “being afraid but doing whatever it was you set out to do anyway.”\\n\\nThey\\'re touching on the key lesson of childhood, which is that someday the child will not be a child, that home will no longer exist, that adults will be no help because now the child is an adult and must face the challenges of life alone. But that you can ask friends to help you. And that even the Wizard of Oz is only human, and has problems of his own.\\n\\n“The Wizard of Oz” has a wonderful surface of comedy and music, special effects and excitement, but we still watch it six decades later because its underlying story penetrates straight to the deepest insecurities of childhood, stirs them and then reassures them. As adults, we love it because it reminds us of a journey we have taken. That is why any adult in control of a child is sooner or later going to suggest a viewing of “The Wizard of Oz.”\\n\\nJudy Garland had, I gather, an unhappy childhood (there are those stories about MGM quacks shooting her full of speed in the morning and tranquilizers at day\\'s end), but she was a luminous performer, already almost17 when she played young Dorothy. She was important to the movie because she projected vulnerability and a certain sadness in every tone of her voice. A brassy young child star (a young Ethel Merman, say) would have been fatal to the material because she would have approached it with too much bravado. Garland’s whole persona projected a tremulous uncertainty, a wistfulness. When she hoped that troubles would melt like lemon drops, you believed she had troubles.\\n\\nHer friends on the Yellow Brick Road (the Tin Man, the Scarecrow, the Cowardly Lion) were projections of every child\\'s secret fears. Are we real? Are we ugly and silly? Are we brave enough? In helping them, Dorothy was helping herself, just as an older child will overcome fears by acting brave before a younger one.\\n\\nThe actors (Jack Haley, Ray Bolger, Bert Lahr) had all come up through a tradition of vaudeville and revue comedy, and played the characters with a sublime unself-consciousness. Maybe it helped that none of them knew they were making a great movie. They seem relaxed and loose in many scenes, as if the roles were a lark. L. Frank Baum\\'s book had been filmed before (Oliver Hardy played the Tin Man in 1925), and this version, while ambitious, was overshadowed by the studio\\'s simultaneous preparation of “Gone With the Wind.” Garland was already a star when she made “Wizard,” but not a great star--that came in the 1940s, inspired by “Wizard.”\\n\\nThe special effects are glorious in that old Hollywood way, in which you don\\'t even have to look closely to see where the set ends and the backdrop begins. Modern special effects show *exactly* how imaginary scenes might look; effects then showed how we *thought* about them. A bigger Yellow Brick Road would not have been a better one.\\n\\nThe movie\\'s storytelling device of a dream is just precisely obvious enough to appeal to younger viewers. Dorothy, faced with a crisis (the loss of Toto), meets the intriguing Professor Marvel (Frank Morgan) on the road. She is befriended by three farm hands (Bolger, Haley and Lahr). Soon comes the fearsome tornado. (What frightened me was that you could see individual things floating by--for months I dreamed circling around and around while seated at the little desk in my bedroom, looking at classmates being swept mutely past me.) Then, after the magical transition to color, Dorothy meets the same characters again, so we know it\\'s all a dream, but not really.\\n\\nThere are good and bad adult figures in Oz--the Wicked Witches of the East and West, the Good Witch Glinda. Dorothy would like help from her friends but needs to help them instead (“If I Only Had a Brain,” or a heart, or nerve, they sing). Arriving at last at the Emerald City, they have another dreamlike experience; almost everyone they meet seems vaguely similar (because they’re all played by Morgan). The Wizard sends them on a mission to get the Wicked Witch\\'s broom, and it is not insignificant that the key to Dorothy’s return to Kansas is the pair of ruby slippers. Grownup shoes.\\n\\nThe ending has always seemed poignant to me. Dorothy is back in Kansas, but the color has drained from the film, and her magical friends are mundane once again. “The land of Oz wasn\\'t such a bad place to be stuck in,” decided young Terry McMillan, discontented with her life in Michigan. “It beat the farm in Kansas.”'"
      ]
     },
     "execution_count": 15,
     "metadata": {},
     "output_type": "execute_result"
    }
   ],
   "source": [
    "response.content.decode('utf-8')"
   ]
  },
  {
   "cell_type": "code",
   "execution_count": 7,
   "metadata": {},
   "outputs": [],
   "source": [
    "with open(os.path.join(folder_name, \n",
    "                      url.split('/')[-1]), mode='wb') as file:\n",
    "    file.write(response.content)"
   ]
  },
  {
   "cell_type": "code",
   "execution_count": 8,
   "metadata": {
    "scrolled": true
   },
   "outputs": [
    {
     "data": {
      "text/plain": [
       "['1-the-wizard-of-oz-1939-film.txt']"
      ]
     },
     "execution_count": 8,
     "metadata": {},
     "output_type": "execute_result"
    }
   ],
   "source": [
    "os.listdir(folder_name)"
   ]
  },
  {
   "cell_type": "code",
   "execution_count": null,
   "metadata": {},
   "outputs": [],
   "source": []
  },
  {
   "cell_type": "markdown",
   "metadata": {},
   "source": [
    "[Request](http://docs.python-requests.org/en/latest/user/quickstart/#binary-response-content)\n",
    "[urllib](https://docs.python.org/3/howto/urllib2.html)"
   ]
  },
  {
   "cell_type": "code",
   "execution_count": 26,
   "metadata": {},
   "outputs": [
    {
     "ename": "TypeError",
     "evalue": "parser_f() got an unexpected keyword argument 'name'",
     "output_type": "error",
     "traceback": [
      "\u001b[1;31m---------------------------------------------------------------------------\u001b[0m",
      "\u001b[1;31mTypeError\u001b[0m                                 Traceback (most recent call last)",
      "\u001b[1;32m<ipython-input-26-1cf1a072a3b2>\u001b[0m in \u001b[0;36m<module>\u001b[1;34m\u001b[0m\n\u001b[1;32m----> 1\u001b[1;33m \u001b[0mdf\u001b[0m \u001b[1;33m=\u001b[0m \u001b[0mpd\u001b[0m\u001b[1;33m.\u001b[0m\u001b[0mread_csv\u001b[0m\u001b[1;33m(\u001b[0m\u001b[1;34m'./dataset/reviews/urls.txt'\u001b[0m\u001b[1;33m,\u001b[0m\u001b[0mheader\u001b[0m\u001b[1;33m=\u001b[0m\u001b[1;32mNone\u001b[0m\u001b[1;33m,\u001b[0m \u001b[0mname\u001b[0m\u001b[1;33m=\u001b[0m\u001b[1;33m[\u001b[0m \u001b[1;34m'url'\u001b[0m\u001b[1;33m]\u001b[0m\u001b[1;33m)\u001b[0m\u001b[1;33m\u001b[0m\u001b[0m\n\u001b[0m\u001b[0;32m      2\u001b[0m \u001b[0mdf\u001b[0m\u001b[1;33m.\u001b[0m\u001b[0mhead\u001b[0m\u001b[1;33m(\u001b[0m\u001b[1;33m)\u001b[0m\u001b[1;33m\u001b[0m\u001b[0m\n",
      "\u001b[1;31mTypeError\u001b[0m: parser_f() got an unexpected keyword argument 'name'"
     ]
    }
   ],
   "source": [
    "df = pd.read_csv('./dataset/reviews/urls.txt',header=None, name=[ 'url'])\n",
    "df.head()"
   ]
  },
  {
   "cell_type": "code",
   "execution_count": 22,
   "metadata": {},
   "outputs": [],
   "source": [
    "for url in df[0]:\n",
    "    response = requests.get(url)\n",
    "    with open(os.path.join(folder_name, \n",
    "                      url.split('/')[-1]), mode='wb') as file:\n",
    "        file.write(response.content)\n",
    "        \n",
    "# write files"
   ]
  },
  {
   "cell_type": "code",
   "execution_count": 27,
   "metadata": {},
   "outputs": [],
   "source": [
    "# read files\n",
    "\n",
    "import glob"
   ]
  },
  {
   "cell_type": "code",
   "execution_count": 34,
   "metadata": {},
   "outputs": [
    {
     "name": "stdout",
     "output_type": "stream",
     "text": [
      "The Wizard of Oz (1939)\n"
     ]
    }
   ],
   "source": [
    "for review in glob.glob('./dataset/reviews/*.txt'):\n",
    "#     print(review)\n",
    "    with open(review,encoding='utf-8') as file:\n",
    "        print(file.readline()[:-1]) \n",
    "#         print(file.read())\n",
    "        \n",
    "        break\n",
    "        \n",
    "# [:-1] delete the space"
   ]
  },
  {
   "cell_type": "code",
   "execution_count": 37,
   "metadata": {},
   "outputs": [],
   "source": [
    "# List of dictionaries to build file by file and later convert to a DataFrame\n",
    "df_list = []\n",
    "for ebert_review in glob.glob('./dataset/reviews/*.txt'):\n",
    "    with open(ebert_review, encoding='utf-8') as file:\n",
    "        title = file.readline()[:-1]\n",
    "        review_url = file.readline()[:-1]\n",
    "        review_text = file.read()\n",
    "        # Append to list of dictionaries\n",
    "        df_list.append({'title': title,\n",
    "                        'review_url': review_url,\n",
    "                        'review_text': review_text})\n",
    "df = pd.DataFrame(df_list, columns = ['title', 'review_url', 'review_text'])"
   ]
  },
  {
   "cell_type": "code",
   "execution_count": 38,
   "metadata": {},
   "outputs": [
    {
     "data": {
      "text/html": [
       "<div>\n",
       "<style scoped>\n",
       "    .dataframe tbody tr th:only-of-type {\n",
       "        vertical-align: middle;\n",
       "    }\n",
       "\n",
       "    .dataframe tbody tr th {\n",
       "        vertical-align: top;\n",
       "    }\n",
       "\n",
       "    .dataframe thead th {\n",
       "        text-align: right;\n",
       "    }\n",
       "</style>\n",
       "<table border=\"1\" class=\"dataframe\">\n",
       "  <thead>\n",
       "    <tr style=\"text-align: right;\">\n",
       "      <th></th>\n",
       "      <th>title</th>\n",
       "      <th>review_url</th>\n",
       "      <th>review_text</th>\n",
       "    </tr>\n",
       "  </thead>\n",
       "  <tbody>\n",
       "    <tr>\n",
       "      <th>0</th>\n",
       "      <td>The Wizard of Oz (1939)</td>\n",
       "      <td>http://www.rogerebert.com/reviews/great-movie-...</td>\n",
       "      <td>As a child I simply did not notice whether a m...</td>\n",
       "    </tr>\n",
       "    <tr>\n",
       "      <th>1</th>\n",
       "      <td>Metropolis (1927)</td>\n",
       "      <td>http://www.rogerebert.com/reviews/great-movie-...</td>\n",
       "      <td>The opening shots of the restored “Metropolis”...</td>\n",
       "    </tr>\n",
       "    <tr>\n",
       "      <th>2</th>\n",
       "      <td>Battleship Potemkin (1925)</td>\n",
       "      <td>http://www.rogerebert.com/reviews/great-movie-...</td>\n",
       "      <td>\"The Battleship Potemkin” has been so famous f...</td>\n",
       "    </tr>\n",
       "    <tr>\n",
       "      <th>3</th>\n",
       "      <td>E.T. The Extra-Terrestrial (1982)</td>\n",
       "      <td>http://www.rogerebert.com/reviews/great-movie-...</td>\n",
       "      <td>Dear Raven and Emil:\\n\\nSunday we sat on the b...</td>\n",
       "    </tr>\n",
       "    <tr>\n",
       "      <th>4</th>\n",
       "      <td>Modern Times (1936)</td>\n",
       "      <td>http://www.rogerebert.com/reviews/modern-times...</td>\n",
       "      <td>A lot of movies are said to be timeless, but s...</td>\n",
       "    </tr>\n",
       "  </tbody>\n",
       "</table>\n",
       "</div>"
      ],
      "text/plain": [
       "                               title  \\\n",
       "0            The Wizard of Oz (1939)   \n",
       "1                  Metropolis (1927)   \n",
       "2         Battleship Potemkin (1925)   \n",
       "3  E.T. The Extra-Terrestrial (1982)   \n",
       "4                Modern Times (1936)   \n",
       "\n",
       "                                          review_url  \\\n",
       "0  http://www.rogerebert.com/reviews/great-movie-...   \n",
       "1  http://www.rogerebert.com/reviews/great-movie-...   \n",
       "2  http://www.rogerebert.com/reviews/great-movie-...   \n",
       "3  http://www.rogerebert.com/reviews/great-movie-...   \n",
       "4  http://www.rogerebert.com/reviews/modern-times...   \n",
       "\n",
       "                                         review_text  \n",
       "0  As a child I simply did not notice whether a m...  \n",
       "1  The opening shots of the restored “Metropolis”...  \n",
       "2  \"The Battleship Potemkin” has been so famous f...  \n",
       "3  Dear Raven and Emil:\\n\\nSunday we sat on the b...  \n",
       "4  A lot of movies are said to be timeless, but s...  "
      ]
     },
     "execution_count": 38,
     "metadata": {},
     "output_type": "execute_result"
    }
   ],
   "source": [
    "df.head()"
   ]
  }
 ],
 "metadata": {
  "kernelspec": {
   "display_name": "Python 3",
   "language": "python",
   "name": "python3"
  },
  "language_info": {
   "codemirror_mode": {
    "name": "ipython",
    "version": 3
   },
   "file_extension": ".py",
   "mimetype": "text/x-python",
   "name": "python",
   "nbconvert_exporter": "python",
   "pygments_lexer": "ipython3",
   "version": "3.6.6"
  }
 },
 "nbformat": 4,
 "nbformat_minor": 2
}
