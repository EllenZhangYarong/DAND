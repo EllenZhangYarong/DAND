{
 "cells": [
  {
   "cell_type": "markdown",
   "metadata": {},
   "source": [
    "\n",
    "# Wrangel Report"
   ]
  },
  {
   "cell_type": "markdown",
   "metadata": {},
   "source": [
    "In order to complete this data wrangling project, I repeatedly watched the teacher's video and carefully recorded how the teacher did each step. I really like the working framework that the teacher designed in the video to do data wrangling. Every step is very clear.\n",
    "\n",
    "According to the courses instructions, my data wrangling project divided into three steps."
   ]
  },
  {
   "cell_type": "markdown",
   "metadata": {},
   "source": [
    "## Step 1: Gathering Data"
   ]
  },
  {
   "cell_type": "markdown",
   "metadata": {},
   "source": [
    "In this project, we need to gather three parts of data. \n",
    "1. Enhanced Twitter Archive. Udacity offered this part of the data as a CSV file. So I just need to load the data using pandas read_csv method.\n",
    "2. Additional Data via the Twitter API. I registered the Twitter account and applied for the consumer_key etc. So I could download this part of data and save it into a CSV file to use later.\n",
    "3. Image Predictions File. Import `requests` library and use `get` method to get the data from Http link and save the data into CSV file to use later."
   ]
  },
  {
   "cell_type": "markdown",
   "metadata": {},
   "source": [
    "## Step 2: Accessing Data"
   ]
  },
  {
   "cell_type": "markdown",
   "metadata": {},
   "source": [
    "There are two ways of accessing data. Visulization and programmatically.\n",
    "\n",
    "Firstly, I opened the three CSV files using excel. Find two quality issues in the `twitter-archive-enhanced` table according to the 4 aspects of Data Quality Dimensions.\n",
    "\n",
    "Then, I used pandas offered methods like head, sample, info, describe etc to programmatically found data type problem, unreasonable values, mixed format data value etc quality problems.\n",
    "\n",
    "Finally, I found 2 tidiness issus according to the defination of Tidy Data."
   ]
  },
  {
   "cell_type": "markdown",
   "metadata": {},
   "source": [
    "## Step 3: Cleaning Data\n",
    "\n",
    "The structure in the courses for cleaning data is very clear, so I use `Define`, `Code` and `Test` three step to fix the problems one by one. "
   ]
  },
  {
   "cell_type": "code",
   "execution_count": null,
   "metadata": {},
   "outputs": [],
   "source": []
  }
 ],
 "metadata": {
  "kernelspec": {
   "display_name": "Python 3",
   "language": "python",
   "name": "python3"
  },
  "language_info": {
   "codemirror_mode": {
    "name": "ipython",
    "version": 3
   },
   "file_extension": ".py",
   "mimetype": "text/x-python",
   "name": "python",
   "nbconvert_exporter": "python",
   "pygments_lexer": "ipython3",
   "version": "3.6.6"
  }
 },
 "nbformat": 4,
 "nbformat_minor": 2
}
