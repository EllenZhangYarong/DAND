{
 "cells": [
  {
   "cell_type": "markdown",
   "metadata": {},
   "source": [
    "# Act Report"
   ]
  },
  {
   "cell_type": "markdown",
   "metadata": {},
   "source": [
    "**My analysis based on the WeRateDogs twitter data and the dog's image prediction result file offered by Udacity. My analysis mainly studies what is the golden time for dogs and their owners.**"
   ]
  },
  {
   "cell_type": "markdown",
   "metadata": {},
   "source": [
    "***The first question we want to know, what is the most common ratings that the owners give to their dogs?***"
   ]
  },
  {
   "cell_type": "markdown",
   "metadata": {},
   "source": [
    "<img src=\"ratings_ratio.PNG\">"
   ]
  },
  {
   "cell_type": "markdown",
   "metadata": {},
   "source": [
    "<img src=\"top5ratings.PNG\">"
   ]
  },
  {
   "cell_type": "markdown",
   "metadata": {},
   "source": [
    "<img src=\"above_under.PNG\">"
   ]
  },
  {
   "cell_type": "markdown",
   "metadata": {},
   "source": [
    "**From the Fig1 to Fig3, we can see that the Top 5 most common ratings given by dog owners are 9-13 (After we converted all the rating_denominator to 10). There are 61.7% dogs get above 10 ratings, and there are still 18.6% dogs get under 10 ratings.**"
   ]
  },
  {
   "cell_type": "markdown",
   "metadata": {},
   "source": [
    "**Even most of the owners are satisfied with their dogs by giving the dog ratings above 10, but there are still 18.6% ratings below 10. So we are curious about which dog stage does make the owners happier?**"
   ]
  },
  {
   "cell_type": "markdown",
   "metadata": {},
   "source": [
    "![](rating_stage.PNG)  ![](retweet_stage.PNG)  ![](favorite_stage.PNG)"
   ]
  },
  {
   "cell_type": "markdown",
   "metadata": {},
   "source": [
    "![](dogtionary-combined.png)\n",
    "\n",
    "*The Dogtionary explains the various stages of dog: doggo, pupper, puppo, and floof(er) (via the #WeRateDogs book on Amazon)*"
   ]
  },
  {
   "cell_type": "markdown",
   "metadata": {},
   "source": [
    "**The above pictures(Fig4, Fig5 and Fig6) indicate that people including the owners and these tweeter watchers they love dogs in doggo and puppo stage more than in other periods. The dogs in these two stages get higher and more stable ratings, more retweets and favorites. The pupper is the least favorite dog stage. (Maybe they are too young to know the rules around people :P ) The floofer is the second least favorite dog stage, maybe because they have excess fur that would make cleaning very hard.**"
   ]
  },
  {
   "cell_type": "code",
   "execution_count": null,
   "metadata": {},
   "outputs": [],
   "source": []
  },
  {
   "cell_type": "code",
   "execution_count": null,
   "metadata": {},
   "outputs": [],
   "source": []
  }
 ],
 "metadata": {
  "kernelspec": {
   "display_name": "Python 3",
   "language": "python",
   "name": "python3"
  },
  "language_info": {
   "codemirror_mode": {
    "name": "ipython",
    "version": 3
   },
   "file_extension": ".py",
   "mimetype": "text/x-python",
   "name": "python",
   "nbconvert_exporter": "python",
   "pygments_lexer": "ipython3",
   "version": "3.6.6"
  }
 },
 "nbformat": 4,
 "nbformat_minor": 2
}
