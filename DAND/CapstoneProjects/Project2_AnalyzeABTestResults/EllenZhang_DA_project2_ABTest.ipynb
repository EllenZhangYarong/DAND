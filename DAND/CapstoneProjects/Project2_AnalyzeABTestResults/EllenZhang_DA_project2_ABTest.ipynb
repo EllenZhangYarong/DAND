{
 "cells": [
  {
   "cell_type": "markdown",
   "metadata": {},
   "source": [
    "## Analyze A/B Test Results\n",
    "\n",
    "You may either submit your notebook through the workspace here, or you may work from your local machine and submit through the next page.  Either way assure that your code passes the project [RUBRIC](https://review.udacity.com/#!/projects/37e27304-ad47-4eb0-a1ab-8c12f60e43d0/rubric).  **Please save regularly\n",
    "\n",
    "This project will assure you have mastered the subjects covered in the statistics lessons.  The hope is to have this project be as comprehensive of these topics as possible.  Good luck!\n",
    "\n",
    "## Table of Contents\n",
    "- [Introduction](#intro)\n",
    "- [Part I - Probability](#probability)\n",
    "- [Part II - A/B Test](#ab_test)\n",
    "- [Part III - Regression](#regression)\n",
    "\n",
    "\n",
    "<a id='intro'></a>\n",
    "### Introduction\n",
    "\n",
    "A/B tests are very commonly performed by data analysts and data scientists.  It is important that you get some practice working with the difficulties of these \n",
    "\n",
    "For this project, you will be working to understand the results of an A/B test run by an e-commerce website.  Your goal is to work through this notebook to help the company understand if they should implement the new page, keep the old page, or perhaps run the experiment longer to make their decision.\n",
    "\n",
    "**As you work through this notebook, follow along in the classroom and answer the corresponding quiz questions associated with each question.** The labels for each classroom concept are provided for each question.  This will assure you are on the right track as you work through the project, and you can feel more confident in your final submission meeting the criteria.  As a final check, assure you meet all the criteria on the [RUBRIC](https://review.udacity.com/#!/projects/37e27304-ad47-4eb0-a1ab-8c12f60e43d0/rubric).\n",
    "\n",
    "<a id='probability'></a>\n",
    "#### Part I - Probability\n",
    "\n",
    "To get started, let's import our libraries."
   ]
  },
  {
   "cell_type": "code",
   "execution_count": 1,
   "metadata": {},
   "outputs": [],
   "source": [
    "import pandas as pd\n",
    "import numpy as np\n",
    "import random\n",
    "import matplotlib.pyplot as plt\n",
    "%matplotlib inline\n",
    "#We are setting the seed to assure you get the same answers on quizzes as we set up\n",
    "random.seed(42)"
   ]
  },
  {
   "cell_type": "markdown",
   "metadata": {},
   "source": [
    "`1.` Now, read in the `ab_data.csv` data. Store it in `df`.  **Use your dataframe to answer the questions in Quiz 1 of the classroom.**\n",
    "\n",
    "a. Read in the dataset and take a look at the top few rows here:"
   ]
  },
  {
   "cell_type": "code",
   "execution_count": 2,
   "metadata": {},
   "outputs": [
    {
     "data": {
      "text/html": [
       "<div>\n",
       "<style>\n",
       "    .dataframe thead tr:only-child th {\n",
       "        text-align: right;\n",
       "    }\n",
       "\n",
       "    .dataframe thead th {\n",
       "        text-align: left;\n",
       "    }\n",
       "\n",
       "    .dataframe tbody tr th {\n",
       "        vertical-align: top;\n",
       "    }\n",
       "</style>\n",
       "<table border=\"1\" class=\"dataframe\">\n",
       "  <thead>\n",
       "    <tr style=\"text-align: right;\">\n",
       "      <th></th>\n",
       "      <th>user_id</th>\n",
       "      <th>timestamp</th>\n",
       "      <th>group</th>\n",
       "      <th>landing_page</th>\n",
       "      <th>converted</th>\n",
       "    </tr>\n",
       "  </thead>\n",
       "  <tbody>\n",
       "    <tr>\n",
       "      <th>0</th>\n",
       "      <td>851104</td>\n",
       "      <td>2017-01-21 22:11:48.556739</td>\n",
       "      <td>control</td>\n",
       "      <td>old_page</td>\n",
       "      <td>0</td>\n",
       "    </tr>\n",
       "    <tr>\n",
       "      <th>1</th>\n",
       "      <td>804228</td>\n",
       "      <td>2017-01-12 08:01:45.159739</td>\n",
       "      <td>control</td>\n",
       "      <td>old_page</td>\n",
       "      <td>0</td>\n",
       "    </tr>\n",
       "    <tr>\n",
       "      <th>2</th>\n",
       "      <td>661590</td>\n",
       "      <td>2017-01-11 16:55:06.154213</td>\n",
       "      <td>treatment</td>\n",
       "      <td>new_page</td>\n",
       "      <td>0</td>\n",
       "    </tr>\n",
       "    <tr>\n",
       "      <th>3</th>\n",
       "      <td>853541</td>\n",
       "      <td>2017-01-08 18:28:03.143765</td>\n",
       "      <td>treatment</td>\n",
       "      <td>new_page</td>\n",
       "      <td>0</td>\n",
       "    </tr>\n",
       "    <tr>\n",
       "      <th>4</th>\n",
       "      <td>864975</td>\n",
       "      <td>2017-01-21 01:52:26.210827</td>\n",
       "      <td>control</td>\n",
       "      <td>old_page</td>\n",
       "      <td>1</td>\n",
       "    </tr>\n",
       "  </tbody>\n",
       "</table>\n",
       "</div>"
      ],
      "text/plain": [
       "   user_id                   timestamp      group landing_page  converted\n",
       "0   851104  2017-01-21 22:11:48.556739    control     old_page          0\n",
       "1   804228  2017-01-12 08:01:45.159739    control     old_page          0\n",
       "2   661590  2017-01-11 16:55:06.154213  treatment     new_page          0\n",
       "3   853541  2017-01-08 18:28:03.143765  treatment     new_page          0\n",
       "4   864975  2017-01-21 01:52:26.210827    control     old_page          1"
      ]
     },
     "execution_count": 2,
     "metadata": {},
     "output_type": "execute_result"
    }
   ],
   "source": [
    "df = pd.read_csv('ab_data.csv')\n",
    "df.head()"
   ]
  },
  {
   "cell_type": "markdown",
   "metadata": {},
   "source": [
    "b. Use the below cell to find the number of rows in the dataset."
   ]
  },
  {
   "cell_type": "code",
   "execution_count": 3,
   "metadata": {},
   "outputs": [
    {
     "data": {
      "text/plain": [
       "(294478, 5)"
      ]
     },
     "execution_count": 3,
     "metadata": {},
     "output_type": "execute_result"
    }
   ],
   "source": [
    "df.shape"
   ]
  },
  {
   "cell_type": "markdown",
   "metadata": {},
   "source": [
    "c. The number of unique users in the dataset."
   ]
  },
  {
   "cell_type": "code",
   "execution_count": 4,
   "metadata": {},
   "outputs": [
    {
     "data": {
      "text/plain": [
       "290584"
      ]
     },
     "execution_count": 4,
     "metadata": {},
     "output_type": "execute_result"
    }
   ],
   "source": [
    "df['user_id'].nunique()"
   ]
  },
  {
   "cell_type": "markdown",
   "metadata": {
    "collapsed": true
   },
   "source": [
    "d. The proportion of users converted."
   ]
  },
  {
   "cell_type": "code",
   "execution_count": 5,
   "metadata": {},
   "outputs": [
    {
     "data": {
      "text/plain": [
       "user_id         35237\n",
       "timestamp       35237\n",
       "group           35237\n",
       "landing_page    35237\n",
       "converted       35237\n",
       "dtype: int64"
      ]
     },
     "execution_count": 5,
     "metadata": {},
     "output_type": "execute_result"
    }
   ],
   "source": [
    "df_convert = df.query('converted==\"1\"')\n",
    "df_convert.count()"
   ]
  },
  {
   "cell_type": "code",
   "execution_count": 6,
   "metadata": {},
   "outputs": [
    {
     "data": {
      "text/plain": [
       "12.126269856564711"
      ]
     },
     "execution_count": 6,
     "metadata": {},
     "output_type": "execute_result"
    }
   ],
   "source": [
    "ratio_convert = (35237 / 290584)*100\n",
    "ratio_convert"
   ]
  },
  {
   "cell_type": "markdown",
   "metadata": {
    "collapsed": true
   },
   "source": [
    "e. The number of times the `new_page` and `treatment` don't line up."
   ]
  },
  {
   "cell_type": "code",
   "execution_count": 7,
   "metadata": {},
   "outputs": [
    {
     "data": {
      "text/plain": [
       "(3893, 5)"
      ]
     },
     "execution_count": 7,
     "metadata": {},
     "output_type": "execute_result"
    }
   ],
   "source": [
    "df_notlineup = df[((df['group'] == 'treatment') & (df['landing_page'] != 'new_page')) | ((df['group'] != 'treatment') & (df['landing_page'] == 'new_page'))]\n",
    "df_notlineup.shape"
   ]
  },
  {
   "cell_type": "markdown",
   "metadata": {},
   "source": [
    "f. Do any of the rows have missing values?"
   ]
  },
  {
   "cell_type": "code",
   "execution_count": 8,
   "metadata": {},
   "outputs": [
    {
     "name": "stdout",
     "output_type": "stream",
     "text": [
      "<class 'pandas.core.frame.DataFrame'>\n",
      "RangeIndex: 294478 entries, 0 to 294477\n",
      "Data columns (total 5 columns):\n",
      "user_id         294478 non-null int64\n",
      "timestamp       294478 non-null object\n",
      "group           294478 non-null object\n",
      "landing_page    294478 non-null object\n",
      "converted       294478 non-null int64\n",
      "dtypes: int64(2), object(3)\n",
      "memory usage: 11.2+ MB\n"
     ]
    }
   ],
   "source": [
    "df.info()"
   ]
  },
  {
   "cell_type": "code",
   "execution_count": 9,
   "metadata": {},
   "outputs": [],
   "source": [
    "# no value missing"
   ]
  },
  {
   "cell_type": "markdown",
   "metadata": {},
   "source": [
    "`2.` For the rows where **treatment** is not aligned with **new_page** or **control** is not aligned with **old_page**, we cannot be sure if this row truly received the new or old page.  Use **Quiz 2** in the classroom to provide how we should handle these rows.  \n",
    "\n",
    "a. Now use the answer to the quiz to create a new dataset that meets the specifications from the quiz.  Store your new dataframe in **df2**."
   ]
  },
  {
   "cell_type": "code",
   "execution_count": 10,
   "metadata": {},
   "outputs": [
    {
     "data": {
      "text/plain": [
       "(290585, 5)"
      ]
     },
     "execution_count": 10,
     "metadata": {},
     "output_type": "execute_result"
    }
   ],
   "source": [
    "df2 = df.drop(df.query(\"group == 'control' and landing_page == 'new_page'\").index)\\\n",
    "        .drop(df.query(\"group == 'treatment' and landing_page == 'old_page'\").index)\n",
    "df2.shape"
   ]
  },
  {
   "cell_type": "code",
   "execution_count": 11,
   "metadata": {},
   "outputs": [
    {
     "data": {
      "text/plain": [
       "0"
      ]
     },
     "execution_count": 11,
     "metadata": {},
     "output_type": "execute_result"
    }
   ],
   "source": [
    "# Double Check all of the correct rows were removed - this should be 0\n",
    "df2[((df2['group'] == 'treatment') == (df2['landing_page'] == 'new_page')) == False].shape[0]"
   ]
  },
  {
   "cell_type": "code",
   "execution_count": 12,
   "metadata": {},
   "outputs": [
    {
     "data": {
      "text/plain": [
       "0"
      ]
     },
     "execution_count": 12,
     "metadata": {},
     "output_type": "execute_result"
    }
   ],
   "source": [
    "len(df2[((df2['group'] == 'treatment') == (df2['landing_page'] == 'new_page')) == False])"
   ]
  },
  {
   "cell_type": "markdown",
   "metadata": {},
   "source": [
    "`3.` Use **df2** and the cells below to answer questions for **Quiz3** in the classroom."
   ]
  },
  {
   "cell_type": "markdown",
   "metadata": {},
   "source": [
    "a. How many unique **user_id**s are in **df2**?"
   ]
  },
  {
   "cell_type": "code",
   "execution_count": 13,
   "metadata": {},
   "outputs": [
    {
     "data": {
      "text/plain": [
       "290584"
      ]
     },
     "execution_count": 13,
     "metadata": {},
     "output_type": "execute_result"
    }
   ],
   "source": [
    "df2.user_id.nunique()"
   ]
  },
  {
   "cell_type": "markdown",
   "metadata": {
    "collapsed": true
   },
   "source": [
    "b. There is one **user_id** repeated in **df2**.  What is it?"
   ]
  },
  {
   "cell_type": "code",
   "execution_count": 14,
   "metadata": {},
   "outputs": [
    {
     "data": {
      "text/plain": [
       "773192"
      ]
     },
     "execution_count": 14,
     "metadata": {},
     "output_type": "execute_result"
    }
   ],
   "source": [
    "df2.user_id.value_counts().index[0]"
   ]
  },
  {
   "cell_type": "markdown",
   "metadata": {},
   "source": [
    "c. What is the row information for the repeat **user_id**? "
   ]
  },
  {
   "cell_type": "code",
   "execution_count": 15,
   "metadata": {},
   "outputs": [
    {
     "data": {
      "text/html": [
       "<div>\n",
       "<style>\n",
       "    .dataframe thead tr:only-child th {\n",
       "        text-align: right;\n",
       "    }\n",
       "\n",
       "    .dataframe thead th {\n",
       "        text-align: left;\n",
       "    }\n",
       "\n",
       "    .dataframe tbody tr th {\n",
       "        vertical-align: top;\n",
       "    }\n",
       "</style>\n",
       "<table border=\"1\" class=\"dataframe\">\n",
       "  <thead>\n",
       "    <tr style=\"text-align: right;\">\n",
       "      <th></th>\n",
       "      <th>user_id</th>\n",
       "      <th>timestamp</th>\n",
       "      <th>group</th>\n",
       "      <th>landing_page</th>\n",
       "      <th>converted</th>\n",
       "    </tr>\n",
       "  </thead>\n",
       "  <tbody>\n",
       "    <tr>\n",
       "      <th>1899</th>\n",
       "      <td>773192</td>\n",
       "      <td>2017-01-09 05:37:58.781806</td>\n",
       "      <td>treatment</td>\n",
       "      <td>new_page</td>\n",
       "      <td>0</td>\n",
       "    </tr>\n",
       "    <tr>\n",
       "      <th>2893</th>\n",
       "      <td>773192</td>\n",
       "      <td>2017-01-14 02:55:59.590927</td>\n",
       "      <td>treatment</td>\n",
       "      <td>new_page</td>\n",
       "      <td>0</td>\n",
       "    </tr>\n",
       "  </tbody>\n",
       "</table>\n",
       "</div>"
      ],
      "text/plain": [
       "      user_id                   timestamp      group landing_page  converted\n",
       "1899   773192  2017-01-09 05:37:58.781806  treatment     new_page          0\n",
       "2893   773192  2017-01-14 02:55:59.590927  treatment     new_page          0"
      ]
     },
     "execution_count": 15,
     "metadata": {},
     "output_type": "execute_result"
    }
   ],
   "source": [
    "df2[df2.user_id==773192]"
   ]
  },
  {
   "cell_type": "markdown",
   "metadata": {},
   "source": [
    "d. Remove **one** of the rows with a duplicate **user_id**, but keep your dataframe as **df2**."
   ]
  },
  {
   "cell_type": "code",
   "execution_count": 16,
   "metadata": {},
   "outputs": [],
   "source": [
    "df2 = df2.drop_duplicates('user_id')\n",
    "\n",
    "# df2.drop(df.index[2893], axis=0, inplace=True)"
   ]
  },
  {
   "cell_type": "code",
   "execution_count": 17,
   "metadata": {},
   "outputs": [
    {
     "data": {
      "text/plain": [
       "(290584, 5)"
      ]
     },
     "execution_count": 17,
     "metadata": {},
     "output_type": "execute_result"
    }
   ],
   "source": [
    "df2.shape"
   ]
  },
  {
   "cell_type": "markdown",
   "metadata": {},
   "source": [
    "`4.` Use **df2** in the below cells to answer the quiz questions related to **Quiz 4** in the classroom.\n",
    "\n",
    "a. What is the probability of an individual converting regardless of the page they receive?"
   ]
  },
  {
   "cell_type": "code",
   "execution_count": 18,
   "metadata": {},
   "outputs": [
    {
     "data": {
      "text/plain": [
       "0.11959708724499628"
      ]
     },
     "execution_count": 18,
     "metadata": {},
     "output_type": "execute_result"
    }
   ],
   "source": [
    "df2.converted.mean()"
   ]
  },
  {
   "cell_type": "markdown",
   "metadata": {},
   "source": [
    "b. Given that an individual was in the `control` group, what is the probability they converted?"
   ]
  },
  {
   "cell_type": "code",
   "execution_count": 19,
   "metadata": {},
   "outputs": [],
   "source": [
    "pro_convert_control = df2.query(\"group == 'control'\").converted.mean()"
   ]
  },
  {
   "cell_type": "code",
   "execution_count": 20,
   "metadata": {},
   "outputs": [
    {
     "data": {
      "text/plain": [
       "0.1203863045004612"
      ]
     },
     "execution_count": 20,
     "metadata": {},
     "output_type": "execute_result"
    }
   ],
   "source": [
    "pro_convert_control"
   ]
  },
  {
   "cell_type": "markdown",
   "metadata": {},
   "source": [
    "c. Given that an individual was in the `treatment` group, what is the probability they converted?"
   ]
  },
  {
   "cell_type": "code",
   "execution_count": 21,
   "metadata": {},
   "outputs": [
    {
     "data": {
      "text/plain": [
       "0.11880806551510564"
      ]
     },
     "execution_count": 21,
     "metadata": {},
     "output_type": "execute_result"
    }
   ],
   "source": [
    "pro_convert_treatment = df2.query(\"group == 'treatment'\").converted.mean()\n",
    "pro_convert_treatment"
   ]
  },
  {
   "cell_type": "code",
   "execution_count": 22,
   "metadata": {},
   "outputs": [
    {
     "data": {
      "text/plain": [
       "-0.0015782389853555567"
      ]
     },
     "execution_count": 22,
     "metadata": {},
     "output_type": "execute_result"
    }
   ],
   "source": [
    "observed_value = pro_convert_treatment - pro_convert_control\n",
    "observed_value"
   ]
  },
  {
   "cell_type": "markdown",
   "metadata": {},
   "source": [
    "d. What is the probability that an individual received the new page?"
   ]
  },
  {
   "cell_type": "code",
   "execution_count": 23,
   "metadata": {},
   "outputs": [
    {
     "data": {
      "text/plain": [
       "0.5000619442226688"
      ]
     },
     "execution_count": 23,
     "metadata": {},
     "output_type": "execute_result"
    }
   ],
   "source": [
    "pro_newpage = len(df2.query(\"landing_page == 'new_page'\")) / len(df2)\n",
    "\n",
    "pro_newpage"
   ]
  },
  {
   "cell_type": "markdown",
   "metadata": {},
   "source": [
    "e. Use the results in the previous two portions of this question to suggest if you think there is evidence that one page leads to more conversions?  Write your response below."
   ]
  },
  {
   "cell_type": "markdown",
   "metadata": {},
   "source": [
    "**_based on the calculated conversion probabilities, we tend to say that there is not enough evidence to suggest that the new web design increases the conversion rate in any way. Moreover, looking at the size of the difference, it seems clear that this result has no practical meaning._**\n",
    "\n",
    "**_We need to do some statistical analysis to get more evidence to show whether the new design can improve the conversion rate._**"
   ]
  },
  {
   "cell_type": "markdown",
   "metadata": {},
   "source": [
    "<a id='ab_test'></a>\n",
    "### Part II - A/B Test\n",
    "\n",
    "Notice that because of the time stamp associated with each event, you could technically run a hypothesis test continuously as each observation was observed.  \n",
    "\n",
    "However, then the hard question is do you stop as soon as one page is considered significantly better than another or does it need to happen consistently for a certain amount of time?  How long do you run to render a decision that neither page is better than another?  \n",
    "\n",
    "These questions are the difficult parts associated with A/B tests in general.  \n",
    "\n",
    "\n",
    "`1.` For now, consider you need to make the decision just based on all the data provided.  If you want to assume that the old page is better unless the new page proves to be definitely better at a Type I error rate of 5%, what should your null and alternative hypotheses be?  You can state your hypothesis in terms of words or in terms of **$p_{old}$** and **$p_{new}$**, which are the converted rates for the old and new pages."
   ]
  },
  {
   "cell_type": "markdown",
   "metadata": {},
   "source": [
    "**The null and alternative hypotheses will be:**\n",
    "\n",
    "$$ H_0: p_{new} \\leq p_{old} \\Leftrightarrow H_0: p_{new} - p_{old} \\leq 0 $$\n",
    "$$ H_1: p_{new} > p_{old} \\Leftrightarrow H_1: p_{new} - p_{old} > 0 $$"
   ]
  },
  {
   "cell_type": "markdown",
   "metadata": {},
   "source": [
    "`2.` Assume under the null hypothesis, $p_{new}$ and $p_{old}$ both have \"true\" success rates equal to the **converted** success rate regardless of page - that is $p_{new}$ and $p_{old}$ are equal. Furthermore, assume they are equal to the **converted** rate in **ab_data.csv** regardless of the page. <br><br>\n",
    "\n",
    "Use a sample size for each page equal to the ones in **ab_data.csv**.  <br><br>\n",
    "\n",
    "Perform the sampling distribution for the difference in **converted** between the two pages over 10,000 iterations of calculating an estimate from the null.  <br><br>\n",
    "\n",
    "Use the cells below to provide the necessary parts of this simulation.  If this doesn't make complete sense right now, don't worry - you are going to work through the problems below to complete this problem.  You can use **Quiz 5** in the classroom to make sure you are on the right track.<br><br>"
   ]
  },
  {
   "cell_type": "markdown",
   "metadata": {},
   "source": [
    "a. What is the **convert rate** for $p_{new}$ under the null? "
   ]
  },
  {
   "cell_type": "code",
   "execution_count": 24,
   "metadata": {},
   "outputs": [
    {
     "data": {
      "text/plain": [
       "0.11959708724499628"
      ]
     },
     "execution_count": 24,
     "metadata": {},
     "output_type": "execute_result"
    }
   ],
   "source": [
    "p_new = df2.converted.mean()\n",
    "p_new"
   ]
  },
  {
   "cell_type": "markdown",
   "metadata": {},
   "source": [
    "b. What is the **convert rate** for $p_{old}$ under the null? <br><br>"
   ]
  },
  {
   "cell_type": "code",
   "execution_count": 25,
   "metadata": {},
   "outputs": [
    {
     "data": {
      "text/plain": [
       "0.11959708724499628"
      ]
     },
     "execution_count": 25,
     "metadata": {},
     "output_type": "execute_result"
    }
   ],
   "source": [
    "p_old = df2.converted.mean()\n",
    "p_old"
   ]
  },
  {
   "cell_type": "markdown",
   "metadata": {},
   "source": [
    "c. What is $n_{new}$?"
   ]
  },
  {
   "cell_type": "code",
   "execution_count": 26,
   "metadata": {},
   "outputs": [
    {
     "data": {
      "text/plain": [
       "145310"
      ]
     },
     "execution_count": 26,
     "metadata": {},
     "output_type": "execute_result"
    }
   ],
   "source": [
    "n_new = len(df2[df2.landing_page == 'new_page'])\n",
    "n_new"
   ]
  },
  {
   "cell_type": "markdown",
   "metadata": {},
   "source": [
    "d. What is $n_{old}$?"
   ]
  },
  {
   "cell_type": "code",
   "execution_count": 27,
   "metadata": {},
   "outputs": [
    {
     "data": {
      "text/plain": [
       "145274"
      ]
     },
     "execution_count": 27,
     "metadata": {},
     "output_type": "execute_result"
    }
   ],
   "source": [
    "n_old = len(df2[df2.landing_page == 'old_page'])\n",
    "n_old"
   ]
  },
  {
   "cell_type": "markdown",
   "metadata": {},
   "source": [
    "e. Simulate $n_{new}$ transactions with a convert rate of $p_{new}$ under the null.  Store these $n_{new}$ 1's and 0's in **new_page_converted**."
   ]
  },
  {
   "cell_type": "code",
   "execution_count": 28,
   "metadata": {},
   "outputs": [
    {
     "data": {
      "text/plain": [
       "17183"
      ]
     },
     "execution_count": 28,
     "metadata": {},
     "output_type": "execute_result"
    }
   ],
   "source": [
    "new_page_converted = np.random.binomial(n_new, p_new)\n",
    "new_page_converted"
   ]
  },
  {
   "cell_type": "markdown",
   "metadata": {},
   "source": [
    "f. Simulate $n_{old}$ transactions with a convert rate of $p_{old}$ under the null.  Store these $n_{old}$ 1's and 0's in **old_page_converted**."
   ]
  },
  {
   "cell_type": "code",
   "execution_count": 29,
   "metadata": {},
   "outputs": [
    {
     "data": {
      "text/plain": [
       "17257"
      ]
     },
     "execution_count": 29,
     "metadata": {},
     "output_type": "execute_result"
    }
   ],
   "source": [
    "old_page_converted = np.random.binomial(n_old, p_old)\n",
    "old_page_converted"
   ]
  },
  {
   "cell_type": "markdown",
   "metadata": {},
   "source": [
    "g. Find $p_{new}$ - $p_{old}$ for your simulated values from part (e) and (f)."
   ]
  },
  {
   "cell_type": "code",
   "execution_count": 30,
   "metadata": {},
   "outputs": [
    {
     "data": {
      "text/plain": [
       "0.0"
      ]
     },
     "execution_count": 30,
     "metadata": {},
     "output_type": "execute_result"
    }
   ],
   "source": [
    "p_new - p_old"
   ]
  },
  {
   "cell_type": "markdown",
   "metadata": {},
   "source": [
    "h. Simulate 10,000 $p_{new}$ - $p_{old}$ values using this same process similarly to the one you calculated in parts **a. through g.** above.  Store all 10,000 values in **p_diffs**."
   ]
  },
  {
   "cell_type": "code",
   "execution_count": 31,
   "metadata": {},
   "outputs": [
    {
     "data": {
      "text/plain": [
       "[-2.2593809137883003e-05,\n",
       " -0.0007591262169686641,\n",
       " 0.0006858484706556839,\n",
       " 0.00043171328652416574,\n",
       " 0.0013605398298670024,\n",
       " 0.0016499522424336388,\n",
       " -0.00033242492372347054,\n",
       " -0.0016333465625032184,\n",
       " 0.001498316446909717,\n",
       " 0.002503071737188181,\n",
       " -0.0021977699008902396,\n",
       " 0.0009062600201553972,\n",
       " -0.0006421844126891507,\n",
       " 0.001278152176335895,\n",
       " 0.001133386282035978,\n",
       " 0.0006449940128987613,\n",
       " 0.000548354945348814,\n",
       " -0.001488693222748888,\n",
       " -0.002596650514858828,\n",
       " 0.00014247652726349924,\n",
       " 0.00017004992761419924,\n",
       " -0.002356221025737293,\n",
       " -0.00016708343318957986,\n",
       " 0.0014779761919982842,\n",
       " 0.00226217668153722,\n",
       " 0.0014776163585268204,\n",
       " -0.0001191510188364997,\n",
       " -0.0017365400374751844,\n",
       " 0.0009686212072051587,\n",
       " 0.0005141725656751805,\n",
       " 0.001464045387897156,\n",
       " 0.0009617444844935291,\n",
       " 0.0018837045373561595,\n",
       " 0.0008239763943103384,\n",
       " -0.0010755918914557155,\n",
       " -0.001034406591549672,\n",
       " -0.0006078093259905409,\n",
       " -0.0012892563265083923,\n",
       " -0.0016403392505042191,\n",
       " -0.00020866949549273872,\n",
       " 0.0006451014513286085,\n",
       " 0.0016429544383169264,\n",
       " 0.0009201771812813037,\n",
       " 0.0006516695017258767,\n",
       " 0.0015396910430969524,\n",
       " -0.0014817875087149157,\n",
       " -0.0009931854788336747,\n",
       " 0.00016283895200966403,\n",
       " 0.002496297336790715,\n",
       " 8.044618236284495e-05,\n",
       " 0.001285100524667418,\n",
       " 0.00011507878021875528,\n",
       " 0.0008374859715515187,\n",
       " 0.0018079036933132259,\n",
       " -0.00013970615060766856,\n",
       " 9.418257406706987e-05,\n",
       " -0.00020162394096273628,\n",
       " 0.0006100970823979257,\n",
       " 0.0018355589515152704,\n",
       " -0.0013717053734279977,\n",
       " -0.00086971314233876,\n",
       " 0.00065173260048626,\n",
       " -0.00031867147830022535,\n",
       " 0.0005763598047908852,\n",
       " -0.0014684194773416648,\n",
       " -0.00033225438653321226,\n",
       " 0.0004934503074575658,\n",
       " 0.00039028582380794263,\n",
       " -0.0011447138359277215,\n",
       " 0.0007481908986145258,\n",
       " 0.002489417203335287,\n",
       " 0.00022522230889417127,\n",
       " 0.001037125807048428,\n",
       " -0.0013168467805781264,\n",
       " -0.00042875190821523024,\n",
       " 0.0022554687906439497,\n",
       " -0.0009451064024969674,\n",
       " 0.0019800025305255764,\n",
       " -0.0005938341822199489,\n",
       " 0.0014087331661211816,\n",
       " -0.00016757969641323367,\n",
       " 0.0003971796002386063,\n",
       " -0.0010002225065041392,\n",
       " 0.0012916873341556057,\n",
       " 0.0031501862853049872,\n",
       " 0.0005210868065686769,\n",
       " -0.0028380640035682025,\n",
       " -0.0009108063521620635,\n",
       " -0.00047687873496519984,\n",
       " 0.00019758069366734854,\n",
       " 0.0013056812370171311,\n",
       " -0.001295827787649445,\n",
       " -0.0006491753953182661,\n",
       " 0.00028029577860376464,\n",
       " -0.0018811933772295286,\n",
       " 0.000211190887850779,\n",
       " 0.0019524086657120299,\n",
       " 0.0004657558257017691,\n",
       " -0.0006559753762942766,\n",
       " 0.00038327608208790775,\n",
       " 0.0005621356767225028,\n",
       " -0.0013787458118422746,\n",
       " 1.8371497792712965e-05,\n",
       " 0.0006244337650118809,\n",
       " 0.0010027217290274476,\n",
       " -0.001007046362686781,\n",
       " 0.0004726172000662776,\n",
       " 0.003108948118869956,\n",
       " -0.0017504213857911372,\n",
       " -0.00181268707201436,\n",
       " -0.0007592472983737608,\n",
       " -0.00021546947646874925,\n",
       " -0.001950134552279853,\n",
       " 3.231423949716372e-05,\n",
       " -0.001564734524230102,\n",
       " -0.0025692493570702857,\n",
       " -0.002445548500740441,\n",
       " -0.00036679489430639645,\n",
       " 0.0001907193193028539,\n",
       " -0.0007178130141699268,\n",
       " -0.0018193182211720116,\n",
       " 0.00021105445809857515,\n",
       " -0.0008419044006654913,\n",
       " -0.0022805361469837443,\n",
       " 0.00043832908733468234,\n",
       " 0.0013196734345067435,\n",
       " -0.0006074631354942989,\n",
       " 0.00027316666085056007,\n",
       " -0.002445234712310354,\n",
       " -0.0011034586157736698,\n",
       " 0.0022210510696477614,\n",
       " -0.0011516007908707604,\n",
       " 5.296998821058274e-05,\n",
       " -0.0007385676744536968,\n",
       " -0.0026036858371574073,\n",
       " 0.0006518298066847256,\n",
       " 0.0011475114985340096,\n",
       " 2.4849163479126468e-05,\n",
       " 0.0006171136456055715,\n",
       " 2.5606348603907092e-05,\n",
       " 0.001147330729112328,\n",
       " 0.0013814667327129437,\n",
       " -0.0020465075818129896,\n",
       " -0.0006766396518671919,\n",
       " -0.0005664500781504267,\n",
       " 0.0014705895630877652,\n",
       " -0.0003806097331181396,\n",
       " -0.0017708571415291086,\n",
       " 0.001298400341164574,\n",
       " -0.0009175705203281065,\n",
       " 0.0007137817044778616,\n",
       " -0.00027061627717014924,\n",
       " 0.001367409731091021,\n",
       " 5.319339192982886e-05,\n",
       " -0.0008074304023965029,\n",
       " 0.000472688825686185,\n",
       " -0.00021554451283245513,\n",
       " 0.001718485833599237,\n",
       " -0.0002773736238486091,\n",
       " -0.0021357327345019606,\n",
       " -0.00047683610066763527,\n",
       " -5.035650576978856e-05,\n",
       " -0.0003805176430353996,\n",
       " 5.289154110305061e-05,\n",
       " -5.70541644316358e-05,\n",
       " -0.0005868943607479082,\n",
       " -0.0006904527853070497,\n",
       " -0.0011788774565104215,\n",
       " 0.0009959234534233502,\n",
       " -0.0008830351286706478,\n",
       " 0.0016222577606778421,\n",
       " 0.0017802740156897257,\n",
       " 0.0005208241792956786,\n",
       " -0.0021082428973744904,\n",
       " -2.113713730433897e-06,\n",
       " 0.00031461458802960196,\n",
       " 0.002420670440681838,\n",
       " -0.0008347565238213395,\n",
       " -0.0002841173275518194,\n",
       " 0.00039695790189125946,\n",
       " 0.001959411585944454,\n",
       " -0.0010688515984962899,\n",
       " 0.00029360582733234386,\n",
       " -0.000125887901052113,\n",
       " 0.0008858873631778091,\n",
       " 0.00029401852733278167,\n",
       " -0.0008213015184810463,\n",
       " 8.729902986784333e-05,\n",
       " -0.003271306061260193,\n",
       " 0.0006450758707500781,\n",
       " 2.553813372779823e-05,\n",
       " -0.0007248994976255807,\n",
       " 4.6487490637237006e-06,\n",
       " -0.0016815995867739825,\n",
       " 0.0010580015487372807,\n",
       " -0.0005044282601092825,\n",
       " -0.0019016257222237015,\n",
       " 0.0001079274926308188,\n",
       " -0.0002911867572884391,\n",
       " -0.0017981952005572538,\n",
       " -0.0013922980233810195,\n",
       " -0.0006766481787267159,\n",
       " 0.0002871162240426217,\n",
       " -0.0013443690197717517,\n",
       " 0.0026543596368439754,\n",
       " 0.000975320571238919,\n",
       " 0.0010507905731327316,\n",
       " 0.0008447532244288403,\n",
       " 0.0011403533894584345,\n",
       " -0.00017427735507509479,\n",
       " 0.0019798712168890703,\n",
       " 8.76042914384062e-05,\n",
       " 0.0012712959180870842,\n",
       " -0.0009248787021311072,\n",
       " 0.0009338504742251175,\n",
       " 0.0007966877910673686,\n",
       " 0.00010102689471254422,\n",
       " -0.0017985618555163285,\n",
       " 0.00017000388257283616,\n",
       " 0.0002730404633297656,\n",
       " 0.0015188954538875171,\n",
       " -0.0003324573257896257,\n",
       " -0.00021537738638600923,\n",
       " -0.0010547536679487018,\n",
       " 0.00025264904726124415,\n",
       " -0.0014613705120678638,\n",
       " 0.0008101001621100973,\n",
       " -0.003057815574141587,\n",
       " 9.422861910843294e-05,\n",
       " 0.0018012145615108888,\n",
       " -0.0018191050496841887,\n",
       " -0.00048386801222240206,\n",
       " -0.0014196446092686749,\n",
       " 0.0003970363489987777,\n",
       " 0.0007135924081966699,\n",
       " 0.0008719395053576606,\n",
       " 0.0013465646860963965,\n",
       " 0.002634084186064839,\n",
       " -0.0018261130860323105,\n",
       " -0.0008076640383471723,\n",
       " -0.000690239613819213,\n",
       " -0.002968389187568088,\n",
       " -0.001867259162384588,\n",
       " -0.0012206340560038526,\n",
       " 0.0023101960698573287,\n",
       " 0.0009889461137694705,\n",
       " -0.00023602631361180348,\n",
       " -0.0020530176495655444,\n",
       " -0.0014405578691394083,\n",
       " 0.0012367588210577124,\n",
       " 0.0007482045415897476,\n",
       " -0.00015336409520437522,\n",
       " -0.000236268476421983,\n",
       " -2.9426192180034838e-05,\n",
       " -0.001378756044073698,\n",
       " 0.0017253301542447114,\n",
       " -0.0010760847439355709,\n",
       " 0.0004521780335844938,\n",
       " -0.0003392146724680578,\n",
       " -0.0007592251285390289,\n",
       " -0.0002705497676659535,\n",
       " 0.0010645525454155008,\n",
       " -0.00014645326505469125,\n",
       " -0.0013307161912907567,\n",
       " 0.0016018049512208365,\n",
       " -0.00060771041442019,\n",
       " -0.0021428123964700035,\n",
       " -0.0012684436835799368,\n",
       " -0.0012066043403323734,\n",
       " 8.742693276053703e-05,\n",
       " -0.0010689044650252777,\n",
       " -0.0012479021947839897,\n",
       " 0.0020351953762683533,\n",
       " 0.001456912859400139,\n",
       " -0.0009655899086482289,\n",
       " 0.001821887363943342,\n",
       " -0.0018462845091253705,\n",
       " -0.0017915265332177494,\n",
       " 0.0008098886959941598,\n",
       " 0.0019665014801439062,\n",
       " -0.0010826476782171135,\n",
       " 0.001037257120684934,\n",
       " -0.0010412833142613015,\n",
       " -0.0021218036357727454,\n",
       " 0.0002385903402674222,\n",
       " 0.0015946110293353216,\n",
       " -0.0007250256951463752,\n",
       " -0.0014338602104775472,\n",
       " -0.0004632770676412934,\n",
       " -0.0010139333176298199,\n",
       " -0.0007452772707188665,\n",
       " -0.0007866160540961481,\n",
       " 0.0009891473476539847,\n",
       " 0.0008102519402094222,\n",
       " 0.0008789901760033608,\n",
       " 0.00023874552911057334,\n",
       " -0.0012550176695619725,\n",
       " 0.0015190694018215878,\n",
       " 0.0013675598038184467,\n",
       " -0.00015378191132051078,\n",
       " -0.00022248092356068339,\n",
       " -0.00196402442745533,\n",
       " -1.5853516178471194e-05,\n",
       " -0.00043540522720761365,\n",
       " -0.0007936206797004852,\n",
       " -0.0019914102368967374,\n",
       " -0.001323622886347492,\n",
       " -0.0010136758064725332,\n",
       " 0.0008652469628115111,\n",
       " 0.0005485834651837718,\n",
       " 0.0002113631304129504,\n",
       " 0.0003351441392222404,\n",
       " 0.0002458320125662272,\n",
       " -0.001832873843454555,\n",
       " 0.0005003185033096852,\n",
       " 0.0007894256543057449,\n",
       " 0.0010165604430458497,\n",
       " -0.0015437649870865822,\n",
       " -0.000566322175257733,\n",
       " 0.0009546750547569094,\n",
       " 0.000754987468846724,\n",
       " -0.0013990860667537075,\n",
       " 0.0010511350582570744,\n",
       " 9.424908357127948e-05,\n",
       " 0.0010649123788869647,\n",
       " 0.00023871824316011592,\n",
       " -0.001502690536354212,\n",
       " -5.738500658075685e-05,\n",
       " 0.0013606250984621315,\n",
       " 0.0011128857221656963,\n",
       " 0.0007894580563719,\n",
       " 0.0006586025017102787,\n",
       " -2.2586703421617615e-06,\n",
       " -0.0014337578881633978,\n",
       " -0.001282128914127073,\n",
       " -0.0010412389745918238,\n",
       " 0.001229905973552728,\n",
       " -0.0011722173160304272,\n",
       " 0.0009064748970151193,\n",
       " 1.1718178800343426e-05,\n",
       " -0.002404190958272226,\n",
       " -0.00032558230844989544,\n",
       " 0.0007272332990743424,\n",
       " 0.0007137731776183376,\n",
       " 0.0016085145474860063,\n",
       " -1.9499980277865037e-06,\n",
       " 0.0004933019401020394,\n",
       " -0.0005940285946168383,\n",
       " 0.0008511370946606145,\n",
       " -0.0007179647922692656,\n",
       " 0.0004178370543239246,\n",
       " 0.000555548867234329,\n",
       " 0.00034880208381894706,\n",
       " 0.000307466711185464,\n",
       " 0.0008649229421500149,\n",
       " 0.0003764829225995081,\n",
       " 0.00047945299385222795,\n",
       " 2.5220934553898955e-05,\n",
       " -0.0010893265777880412,\n",
       " 0.0015876780293508919,\n",
       " 0.0011198443027286425,\n",
       " 0.0011540778435593507,\n",
       " 0.0011682047654292815,\n",
       " 0.00017670665735039504,\n",
       " -0.0004909340312152233,\n",
       " 0.0026409148637350915,\n",
       " -0.0001810142372907081,\n",
       " -0.000284398713915765,\n",
       " -7.102760283034248e-05,\n",
       " 0.0006174257286637452,\n",
       " -0.0012341078204350653,\n",
       " -0.001213319052713241,\n",
       " -0.0008075992342148758,\n",
       " 9.417745795135823e-05,\n",
       " -0.0005182959654499997,\n",
       " -0.0017021666561484738,\n",
       " -0.0007591108686215431,\n",
       " -0.00021549164630348117,\n",
       " 0.00034202768342146694,\n",
       " -0.00038054151824203075,\n",
       " -0.0009384445566450739,\n",
       " -0.0005805070797723355,\n",
       " -0.0012064355085140005,\n",
       " 0.0015397524364854503,\n",
       " -0.0006145632619251745,\n",
       " 0.00021811195023188623,\n",
       " 0.0003831618221704358,\n",
       " 0.0005278032243214575,\n",
       " -0.0010346385221284143,\n",
       " -0.0010759466088114539,\n",
       " 0.0009544482402938648,\n",
       " -0.00210808600315944,\n",
       " -0.000125964642787732,\n",
       " -0.0002292143950324843,\n",
       " -2.9722926891101453e-05,\n",
       " 0.0004726154946943645,\n",
       " 0.0005004702814090101,\n",
       " -0.0009379841062313599,\n",
       " 0.0013811648818861794,\n",
       " 0.0018427358196817512,\n",
       " -0.00029788441595030024,\n",
       " -0.0007797461528721294,\n",
       " 0.00017698804371432675,\n",
       " 0.002448197795991189,\n",
       " -0.00016735629269400143,\n",
       " 1.1505007312506699e-05,\n",
       " 0.0006656514669840796,\n",
       " -0.00020860980747614,\n",
       " 0.0004519665674685702,\n",
       " 0.0007687102175757271,\n",
       " -0.002225164237191171,\n",
       " 0.0008580888537359499,\n",
       " 0.0005209623144197817,\n",
       " -0.00036709333438934844,\n",
       " -0.0023148447241781583,\n",
       " -0.00012579751634127223,\n",
       " 0.0021795741511463768,\n",
       " 0.0008994344586008424,\n",
       " -0.0013651594928654892,\n",
       " 0.00208354390136567,\n",
       " 0.00028697467817469235,\n",
       " -0.0010414674944267677,\n",
       " 0.002888548506973579,\n",
       " 0.000927389862257752,\n",
       " 0.0028199057720062065,\n",
       " -0.0008622020212793596,\n",
       " 0.00012844510622012084,\n",
       " 0.0017872820520378474,\n",
       " -0.0005457721596022619,\n",
       " -0.0009792751391953652,\n",
       " -0.0018121328261460068,\n",
       " 0.001512313760515041,\n",
       " 0.0007481687287797939,\n",
       " -0.0009793842829971394,\n",
       " -0.000552614774875837,\n",
       " -0.000387469402110735,\n",
       " -0.0018535773425812502,\n",
       " 0.001257665259440835,\n",
       " -0.001757299813874666,\n",
       " 0.000651870735610377,\n",
       " -2.222857532208078e-06,\n",
       " -0.0007384602360238218,\n",
       " 0.001346776152212334,\n",
       " -0.0013028972173860648,\n",
       " -0.00013949297911983183,\n",
       " 0.0008100694654158413,\n",
       " -0.000353206869957684,\n",
       " 0.0001422855256104083,\n",
       " 0.0015878587987725873,\n",
       " -0.0007591859049852628,\n",
       " -0.0009038187802767605,\n",
       " -0.0002497934020102843,\n",
       " 0.000121834421525302,\n",
       " 0.0009957887290430456,\n",
       " 0.0015534854174458629,\n",
       " -0.0014545381290256981,\n",
       " -0.0004562912011278897,\n",
       " 0.00221405156015915,\n",
       " -0.00024984626853927216,\n",
       " -0.0004772931403375369,\n",
       " -0.00013975560639283013,\n",
       " 0.00036250777882891605,\n",
       " 0.00042475811670501795,\n",
       " -0.0009449716781166628,\n",
       " -0.0012408549348821019,\n",
       " 0.001470855601104576,\n",
       " -0.0010345651911366077,\n",
       " -0.001867412645855826,\n",
       " 0.002551744282946994,\n",
       " 0.0004659707025615051,\n",
       " -0.0006352633503080574,\n",
       " 0.0005276719106849515,\n",
       " -0.0001605222042799226,\n",
       " -0.0006284326726378048,\n",
       " 0.00022521037129084875,\n",
       " 0.000775759182849528,\n",
       " 0.0005556528949203915,\n",
       " -0.00029094800522208586,\n",
       " 0.00014247652726349924,\n",
       " 0.0011682132922887917,\n",
       " -0.0015368251656145693,\n",
       " 0.0010649174950026624,\n",
       " 0.0001836788808885631,\n",
       " 4.5878388639231105e-05,\n",
       " -0.0005458011509246047,\n",
       " -0.0009862354251302247,\n",
       " 0.000245913870417544,\n",
       " -5.743105162211992e-05,\n",
       " 0.00010806562775493578,\n",
       " -0.0011445484148531748,\n",
       " -0.0004633384610297775,\n",
       " 3.916538163024896e-05,\n",
       " 0.00041763752581130964,\n",
       " -0.001419699181169562,\n",
       " 0.0002731018567182636,\n",
       " -0.0021702732422751447,\n",
       " 0.00027315472324725143,\n",
       " 0.0003971932432138281,\n",
       " 0.0017049302113166936,\n",
       " -0.0005597404818852569,\n",
       " -0.0005527955442975185,\n",
       " -5.025247808373989e-05,\n",
       " 0.0012642623011604182,\n",
       " -9.050124458662157e-06,\n",
       " -0.00038068818022565787,\n",
       " -0.0008971228269868126,\n",
       " -0.0021426827882054106,\n",
       " -0.0006009070227003671,\n",
       " -0.0005181203121440298,\n",
       " 0.0011472335229138764,\n",
       " 0.0018564074072536796,\n",
       " -0.0013165398136356504,\n",
       " 0.0013197348278952414,\n",
       " -0.00038757342979679754,\n",
       " -0.0003599215823385654,\n",
       " -0.0017157461536376484,\n",
       " 0.0005967614530908161,\n",
       " -2.961378308934115e-05,\n",
       " -0.0009932536937097697,\n",
       " 0.0008722157756058946,\n",
       " 0.00030737462110272395,\n",
       " 0.00044531836459188456,\n",
       " 0.0007413158812748094,\n",
       " -0.0008487725965176107,\n",
       " -0.0009654091392265335,\n",
       " 0.00018343160196268582,\n",
       " 0.0006860019541269219,\n",
       " 0.001209059223186218,\n",
       " -0.00015335897908866358,\n",
       " 0.0028268848170319855,\n",
       " 0.0010164308347812429,\n",
       " 0.0006862441169371014,\n",
       " -0.0008966589658292862,\n",
       " -0.0015645776300150516,\n",
       " -0.001832965933537295,\n",
       " 0.0009546699386411978,\n",
       " 0.0005762694200800444,\n",
       " 0.0007273629073389493,\n",
       " 0.0016496367486316527,\n",
       " -0.0007452704492312556,\n",
       " -0.00038728522194525494,\n",
       " -0.0011379735429683097,\n",
       " -0.0011928611271405237,\n",
       " 0.00019084722219554762,\n",
       " 0.000679207089266623,\n",
       " -0.000903837539367694,\n",
       " -0.0002841207382956318,\n",
       " -0.0006696469638661912,\n",
       " 0.0002252308357536814,\n",
       " -0.0011238056921727135,\n",
       " -0.0008141758114716263,\n",
       " -0.0009518671599192119,\n",
       " -0.001172439014377774,\n",
       " 4.853393692036412e-06,\n",
       " 0.0005004259417395462,\n",
       " 0.0005759385779309373,\n",
       " -0.0010826527943328113,\n",
       " -0.0018602067863670024,\n",
       " 0.001154241559262012,\n",
       " 0.001222834838444195,\n",
       " -0.00030508857006722456,\n",
       " -0.0019982784327488567,\n",
       " 0.0011680529873299428,\n",
       " -8.951212888311244e-06,\n",
       " 0.00039702270602355594,\n",
       " 0.0019737363309550865,\n",
       " 0.0014430263949684746,\n",
       " 1.1626088717589522e-05,\n",
       " 0.0026682443959037266,\n",
       " -0.00027754757178267975,\n",
       " 0.0011952443843744748,\n",
       " 0.0015187300328129566,\n",
       " 0.0015880003446405028,\n",
       " -0.0010481566262291186,\n",
       " 0.00032812757601458076,\n",
       " -0.00025701972596194056,\n",
       " -0.0010481310456505744,\n",
       " -0.002438528526788983,\n",
       " -0.0008418532395084166,\n",
       " -0.0005251624559302198,\n",
       " -0.0013509762937227582,\n",
       " -0.001405978137812458,\n",
       " 0.0009956659422660497,\n",
       " -0.0003806489566719057,\n",
       " 0.0022208685948541806,\n",
       " 0.000713623104890912,\n",
       " 0.0002045392742303087,\n",
       " 0.0025926311427700716,\n",
       " 0.00035564640446440754,\n",
       " 0.0003695413957555821,\n",
       " -0.0004836582514783777,\n",
       " -0.0008347974527470048,\n",
       " 0.00039746439734633654,\n",
       " 0.0010992516527756208,\n",
       " 0.0018494096031369672,\n",
       " -0.0009794218011790062,\n",
       " 0.00036956527096222713,\n",
       " 0.0011886081191011116,\n",
       " 0.00034880378919083244,\n",
       " -0.0004423416379358419,\n",
       " 0.0011401419233425109,\n",
       " -0.002562471545929021,\n",
       " 0.0008512053095367234,\n",
       " -0.002651974674238139,\n",
       " 0.001415783836766868,\n",
       " 0.0004246984286884331,\n",
       " -0.00024968425820851015,\n",
       " 0.0018152510986699788,\n",
       " -0.000504278187381843,\n",
       " 0.0014364583445712203,\n",
       " -0.0010757283212079194,\n",
       " -0.001977479432795609,\n",
       " -0.0011995553750585725,\n",
       " -0.0018534511450604557,\n",
       " -9.0620620619708e-06,\n",
       " 0.003115800966374954,\n",
       " 0.0003627107180853295,\n",
       " -0.0008623452725191744,\n",
       " 0.0007408963597867468,\n",
       " 0.0017944094644191666,\n",
       " 0.0016634345337243756,\n",
       " 0.0015257551228801125,\n",
       " 0.00040382780311526423,\n",
       " 0.0014297555697936615,\n",
       " -0.00029793557710737495,\n",
       " -2.1955715817645327e-06,\n",
       " 0.001587701904557537,\n",
       " -0.0005870120314091926,\n",
       " 0.00043855249105394234,\n",
       " 0.0018077911387676393,\n",
       " 0.0010233621293937456,\n",
       " -0.0008833182204064927,\n",
       " -0.0013853121568676297,\n",
       " -0.0004701981300223729,\n",
       " 4.610520310227573e-05,\n",
       " 0.0009270726630838527,\n",
       " -0.0009520257595061615,\n",
       " 6.662111131967852e-05,\n",
       " -0.0009795872222535529,\n",
       " 0.001071548644160314,\n",
       " 0.0012093934760791375,\n",
       " -0.0019498889787258888,\n",
       " -0.0013235427338680744,\n",
       " 0.0006243177997225097,\n",
       " -0.0006903265877862413,\n",
       " -0.0014682182434571367,\n",
       " -0.0014543113145626535,\n",
       " -0.0008486873279224677,\n",
       " 7.358821874214883e-05,\n",
       " -0.00029084056679221093,\n",
       " -0.000635314511465146,\n",
       " -0.0012409879538904933,\n",
       " 0.0005759402833028504,\n",
       " -0.0012754653629032803,\n",
       " 0.00037643687755814503,\n",
       " -0.0015646304965440255,\n",
       " 0.00023867560886256523,\n",
       " 0.0016359549288283148,\n",
       " 0.00016998853422571514,\n",
       " -0.0012275073679716697,\n",
       " -0.0003187720952424755,\n",
       " 0.0008995214325678846,\n",
       " 0.0006105473005802303,\n",
       " -7.792308463289155e-05,\n",
       " 0.0002593552327826154,\n",
       " -0.0020048209025675667,\n",
       " -0.0009176489674356386,\n",
       " 0.0017530451004633546,\n",
       " -0.0007246914422534556,\n",
       " 0.002296829743855977,\n",
       " -0.000993272452800703,\n",
       " 0.0002456341894255115,\n",
       " -0.0008552809588982524,\n",
       " 0.0006791201152995946,\n",
       " 0.0017528046430250743,\n",
       " -0.001399266836175389,\n",
       " 7.364449601493517e-05,\n",
       " 0.001807820130089996,\n",
       " 8.758382697557354e-05,\n",
       " 0.001181845656306968,\n",
       " 0.0018355418977962362,\n",
       " 0.0006583415798091657,\n",
       " 0.0016703402477583479,\n",
       " 0.00031450032811213,\n",
       " -0.0022185075074549893,\n",
       " -0.001096319265789042,\n",
       " 0.0027373373490534036,\n",
       " 0.0008170843232515879,\n",
       " 0.0013195148349198077,\n",
       " 0.0003008781963253909,\n",
       " -0.00022258154050293355,\n",
       " 0.0003694936453423059,\n",
       " -0.001612702751393122,\n",
       " -0.0016262805435103972,\n",
       " -2.227973647919712e-06,\n",
       " -0.0007111426414585231,\n",
       " -0.0018879439024203498,\n",
       " -0.0004837025911478554,\n",
       " -9.151622509728785e-05,\n",
       " -0.0004563099602188231,\n",
       " -0.00028432026680823286,\n",
       " -0.0006350825808863758,\n",
       " 0.0004522309001134678,\n",
       " 0.0008787002627799051,\n",
       " 0.0006243672555076712,\n",
       " 0.0009133567358424605,\n",
       " -0.000566337523604854,\n",
       " -0.0005873104714921445,\n",
       " 9.439404018300734e-05,\n",
       " -0.00030472020973626446,\n",
       " -0.00018113190795197853,\n",
       " 0.0031638322922983714,\n",
       " -0.0007384056641229486,\n",
       " -0.0007590221892826016,\n",
       " 0.00103042985375848,\n",
       " 0.0007136094619156763,\n",
       " -0.0005320852236832124,\n",
       " 0.0005900041064123701,\n",
       " -0.0016128937530462129,\n",
       " 3.229036429053256e-05,\n",
       " 0.00020403618951903013,\n",
       " 0.0012644720619044564,\n",
       " 0.000830853117021968,\n",
       " -0.0007661581285234309,\n",
       " 0.0020764318373314994,\n",
       " 0.0006174172018042351,\n",
       " 1.8542034982985123e-05,\n",
       " -0.002376341287673292,\n",
       " -0.00159201801135736,\n",
       " -0.0012138221374245195,\n",
       " -0.0012616454079758255,\n",
       " 0.0015327273464182944,\n",
       " 0.0007686130113772893,\n",
       " 0.0006515603579241025,\n",
       " -0.0006423259585570801,\n",
       " -0.00031201133782023105,\n",
       " 0.0024068521911262825,\n",
       " -0.0017436009403523078,\n",
       " 0.0011404079613593215,\n",
       " -0.0007038020575893672,\n",
       " 0.0002666327178913602,\n",
       " -0.0004356081664640271,\n",
       " -0.00024298148343096515,\n",
       " -0.00038728181120144256,\n",
       " -0.001467959026927937,\n",
       " 2.562340232292737e-05,\n",
       " 0.0031226538138799387,\n",
       " 0.00012886462770815565,\n",
       " 0.001092458493287235,\n",
       " -0.00041500528427959593,\n",
       " 0.0004728388984136245,\n",
       " -0.0010827943402007406,\n",
       " -0.00022941392354509926,\n",
       " 0.00039036768165927327,\n",
       " -0.0011168812190478078,\n",
       " 4.5953425002936976e-05,\n",
       " -0.0019086491069189443,\n",
       " -0.002156460108835301,\n",
       " -0.0014059679055810348,\n",
       " -0.0001605051505609023,\n",
       " 0.0009341062800105326,\n",
       " 0.0006173302278372067,\n",
       " 0.0009959166319357393,\n",
       " -0.0015298921656301534,\n",
       " 0.00043825405097097647,\n",
       " -9.060356690085425e-06,\n",
       " -0.0015437070044418966,\n",
       " 0.0003557401999190607,\n",
       " 0.0010370831727508634,\n",
       " -0.002087537692875896,\n",
       " 0.000259421742286825,\n",
       " -0.0017985311588220865,\n",
       " 0.00013544461570873245,\n",
       " -0.0027896728441733215,\n",
       " 0.00030754174754916985,\n",
       " 0.00028664213065368593,\n",
       " 0.0022758619120843704,\n",
       " -0.0002635980085906042,\n",
       " -0.0019501260254203567,\n",
       " 0.0005143021739397874,\n",
       " 0.0003351799520321941,\n",
       " -0.0003668409393477595,\n",
       " 0.0007207658656193383,\n",
       " 0.0018560492791541289,\n",
       " 0.0033567898174805544,\n",
       " 0.0015188988646313156,\n",
       " -0.002190831784790112,\n",
       " 0.0007820731328332803,\n",
       " -0.00019495356825134647,\n",
       " 0.0005966113803633766,\n",
       " -0.0020185726426189265,\n",
       " -0.0009381665810249407,\n",
       " 0.0010024983253082154,\n",
       " 0.0007135224879486479,\n",
       " -0.000511250410920025,\n",
       " -0.0008898163505557249,\n",
       " -0.0005872576049631706,\n",
       " -0.000353130128222065,\n",
       " -0.0006559651440628533,\n",
       " 0.0006862901619784645,\n",
       " 0.002771550425421279,\n",
       " -0.0011240427388671814,\n",
       " 0.00020443695191614542,\n",
       " 0.001973432774756409,\n",
       " -2.9489290940445945e-05,\n",
       " 0.0006239426179039248,\n",
       " -0.00088289017205892,\n",
       " -0.0003321691179380831,\n",
       " 0.0025858362779097865,\n",
       " -0.0006212199916613564,\n",
       " -0.0010894459538212248,\n",
       " 0.0005555590994657522,\n",
       " 3.226307834008901e-05,\n",
       " 0.0002595786365018615,\n",
       " 0.0010372861120072768,\n",
       " -2.9844008296184277e-05,\n",
       " -3.6435933900083595e-05,\n",
       " -0.0010825487666467626,\n",
       " -0.0012687165430843583,\n",
       " -0.0015643542262958055,\n",
       " -0.0010205883419941164,\n",
       " 0.0005209350284693381,\n",
       " 0.0010648083512009021,\n",
       " 0.0008858873631778091,\n",
       " -0.0022115830343300835,\n",
       " -0.002142624805560725,\n",
       " -0.00036690403810815675,\n",
       " 0.0009545539733518266,\n",
       " 0.0018975176707960034,\n",
       " -0.00016031926502350913,\n",
       " -0.0005391103137503683,\n",
       " -0.0017087449387771375,\n",
       " -0.000593689225608221,\n",
       " 0.00012191969012043113,\n",
       " 0.001642804365589487,\n",
       " -0.0016056964204168855,\n",
       " -0.001970706737770056,\n",
       " 0.00022522742500986903,\n",
       " -0.0007385011649494871,\n",
       " 0.000816886500110886,\n",
       " 0.00017011984786222123,\n",
       " 0.0015808933967220301,\n",
       " 0.0006792190268699455,\n",
       " -0.0012686790249024915,\n",
       " 0.0006380371377077004,\n",
       " -0.0001327697398794403,\n",
       " 0.0009685905105109166,\n",
       " -0.0015506076023601711,\n",
       " 0.0021796099639563304,\n",
       " 0.0006791388743905141,\n",
       " 0.0016913217225051763,\n",
       " -0.00040819507107216213,\n",
       " -0.0012547635691484982,\n",
       " -0.0028103302982586398,\n",
       " -0.0006834396328432024,\n",
       " 4.931840799540788e-06,\n",
       " 0.00024563930554122315,\n",
       " 0.0007343658275713594,\n",
       " 0.00017629566272185648,\n",
       " -0.0021080757709280307,\n",
       " -0.0006214553329839112,\n",
       " -0.00020871383516220254,\n",
       " 0.0009753001067760864,\n",
       " 0.0011886200567044342,\n",
       " 0.001374281337686939,\n",
       " 0.0008238177947233888,\n",
       " -0.001764370948983185,\n",
       " -0.0011444171012166687,\n",
       " 0.0022073163833154497,\n",
       " 0.00047295486370299566,\n",
       " 0.0006586587789830789,\n",
       " -0.000594233239245151,\n",
       " -3.64393446438821e-05,\n",
       " 0.0003969493750317493,\n",
       " -0.0002361883239425655,\n",
       " 0.00023203934358920209,\n",
       " 0.0007410498432579987,\n",
       " 0.0017461888422145438,\n",
       " -0.0006215354854633426,\n",
       " 0.00014949820658685664,\n",
       " 0.00033484228839546215,\n",
       " 0.00046583086206548885,\n",
       " -0.0012407833092621806,\n",
       " 0.0005482406854313282,\n",
       " -0.00031871922871350156,\n",
       " 0.00016282871977825464,\n",
       " 0.001339849973715529,\n",
       " 0.0018905079290759824,\n",
       " -0.001096358489342808,\n",
       " -0.0003189579807798687,\n",
       " 0.0005827692556012037,\n",
       " 0.0005208565813618199,\n",
       " 0.0014225326565858037,\n",
       " -0.0017159252176874307,\n",
       " 0.000555502822192952,\n",
       " -0.0013784166750650806,\n",
       " 0.0021108001025424983,\n",
       " 0.0023929247977689666,\n",
       " 0.000211260808098801,\n",
       " -0.00012611983163086926,\n",
       " 0.0003970738671806445,\n",
       " 0.002420800048946445,\n",
       " -0.0017571599733786497,\n",
       " -0.001351220161904837,\n",
       " 0.0007685482072449928,\n",
       " 0.0007070362954027382,\n",
       " -0.001357933168913819,\n",
       " -0.0016469908641247172,\n",
       " -0.00022248092356068339,\n",
       " -0.0018603994933919926,\n",
       " 0.00012187023433525568,\n",
       " 0.0014225684693957574,\n",
       " -0.00154399350692154,\n",
       " 0.0013608791988756336,\n",
       " 0.0013812262752746635,\n",
       " 0.0005277674115115039,\n",
       " -0.0014336026993202466,\n",
       " 0.00045206206829510875,\n",
       " 0.001615316233833916,\n",
       " 0.0013676177864631461,\n",
       " -0.00022914959090018783,\n",
       " 0.0006034130667113002,\n",
       " 0.0006448644046341545,\n",
       " -0.0025763068492035968,\n",
       " -7.803222843465185e-05,\n",
       " 0.0006654110095458132,\n",
       " -0.0027070566708072563,\n",
       " -0.0010691244580007114,\n",
       " 0.0008444496682301766,\n",
       " 0.0019113444472110691,\n",
       " 0.00113381603575545,\n",
       " -0.0009241948479981471,\n",
       " 0.0018013663396102136,\n",
       " -0.0016814785053688996,\n",
       " -0.0016197227253445662,\n",
       " 0.0016977414055468903,\n",
       " 0.0011816870567200183,\n",
       " 3.2329587844284746e-05,\n",
       " -0.0008210661771584776,\n",
       " -0.0009245154579158449,\n",
       " 0.0015189687848793237,\n",
       " 0.0006242427633587899,\n",
       " 0.001945692247959263,\n",
       " -0.0006488769552353002,\n",
       " 0.00014937883055367307,\n",
       " -0.0004976947886374677,\n",
       " -0.0002360825908846037,\n",
       " -0.00011903675891901389,\n",
       " 0.0018355265494491152,\n",
       " -0.0009796059813444724,\n",
       " 0.00043191452040867995,\n",
       " -0.001846941077307901,\n",
       " -0.001516036397892745,\n",
       " -0.00047704415603976036,\n",
       " 0.0005004685760371108,\n",
       " -0.0017296871899701999,\n",
       " 0.00028006896414072,\n",
       " 0.0003009873401271512,\n",
       " -0.0013715962296262374,\n",
       " -0.002410955126438283,\n",
       " 0.0005416214738770131,\n",
       " -0.00044964129287931864,\n",
       " -0.0024522785614684434,\n",
       " 0.0006999481065751711,\n",
       " 0.0007067105693693287,\n",
       " 0.0012162377967246119,\n",
       " -0.0009794013367161597,\n",
       " -0.0008623384510315635,\n",
       " -0.0009794013367161597,\n",
       " 0.00043152399024297405,\n",
       " -0.000952022348762363,\n",
       " 0.0009684387324115779,\n",
       " -0.0008626317749988177,\n",
       " 0.00018379143543413579,\n",
       " 0.0033429374604869444,\n",
       " -0.0003946616186243507,\n",
       " 0.001766892341341253,\n",
       " -9.082526524817336e-06,\n",
       " 0.001161090996023184,\n",
       " -0.0008556714890639583,\n",
       " -0.0014268675224765465,\n",
       " -0.0009308413455029196,\n",
       " 0.0002524938584181208,\n",
       " 0.0008580496301821977,\n",
       " -0.0017022399871402805,\n",
       " 0.0018975705373249913,\n",
       " 0.0009131947255117123,\n",
       " -0.0015713008692554292,\n",
       " -0.0004014940016665025,\n",
       " 0.0010925301189071424,\n",
       " 0.0018905488580016339,\n",
       " 0.0004176682225055517,\n",
       " -0.00020854500334384352,\n",
       " -0.00044277991851481013,\n",
       " 0.000541474811893386,\n",
       " 0.0008236609005083523,\n",
       " -0.0003393732720550213,\n",
       " 0.00034207202309094464,\n",
       " 0.00038333918084831886,\n",
       " 0.00031466915993048905,\n",
       " ...]"
      ]
     },
     "execution_count": 31,
     "metadata": {},
     "output_type": "execute_result"
    }
   ],
   "source": [
    "p_diffs = []\n",
    "for i in range(1, 10000):\n",
    "    new_page_converted = np.random.binomial(n_new, p_new) / n_new\n",
    "    old_page_converted = np.random.binomial(n_old, p_old) / n_old\n",
    "\n",
    "    p_diff = new_page_converted - old_page_converted\n",
    "    p_diffs.append(p_diff)\n",
    "p_diffs"
   ]
  },
  {
   "cell_type": "markdown",
   "metadata": {},
   "source": [
    "i. Plot a histogram of the **p_diffs**.  Does this plot look like what you expected?  Use the matching problem in the classroom to assure you fully understand what was computed here."
   ]
  },
  {
   "cell_type": "code",
   "execution_count": 32,
   "metadata": {},
   "outputs": [
    {
     "data": {
      "text/plain": [
       "<matplotlib.lines.Line2D at 0x7f1ad97bb208>"
      ]
     },
     "execution_count": 32,
     "metadata": {},
     "output_type": "execute_result"
    },
    {
     "data": {
      "image/png": "[encoded data removed]",
      "text/plain": [
       "<matplotlib.figure.Figure at 0x7f1ad97bb240>"
      ]
     },
     "metadata": {
      "needs_background": "light"
     },
     "output_type": "display_data"
    }
   ],
   "source": [
    "plt.hist(p_diffs)\n",
    "plt.axvline(observed_value, color = \"r\")"
   ]
  },
  {
   "cell_type": "markdown",
   "metadata": {},
   "source": [
    "j. What proportion of the **p_diffs** are greater than the actual difference observed in **ab_data.csv**?"
   ]
  },
  {
   "cell_type": "code",
   "execution_count": 33,
   "metadata": {},
   "outputs": [
    {
     "data": {
      "text/plain": [
       "0.90509050905090505"
      ]
     },
     "execution_count": 33,
     "metadata": {},
     "output_type": "execute_result"
    }
   ],
   "source": [
    "p_value = (p_diffs > observed_value).mean()\n",
    "p_value"
   ]
  },
  {
   "cell_type": "markdown",
   "metadata": {},
   "source": [
    "k. In words, explain what you just computed in part **j.**.  What is this value called in scientific studies?  What does this value mean in terms of whether or not there is a difference between the new and old pages?"
   ]
  },
  {
   "cell_type": "markdown",
   "metadata": {},
   "source": [
    "**we calculate the statistical probability under the null hypothesis. We set the significance level of this hypothesis test to α = 0.05. Therefore, any p_value above 0.05 (5%) does not reject the null hypothesis.**\n",
    "\n",
    "**The p_value is 0.9074, close to 90%. This indicates that the behavior of our test values (the difference in conversion ratio between old and new pages) is based on the null hypothesis, meaning that the old page is converted better than the new page at a very high probability, or at least equal to the new page. So we failed to reject null hypothesis**"
   ]
  },
  {
   "cell_type": "markdown",
   "metadata": {},
   "source": [
    "l. We could also use a built-in to achieve similar results.  Though using the built-in might be easier to code, the above portions are a walkthrough of the ideas that are critical to correctly thinking about statistical significance. Fill in the below to calculate the number of conversions for each page, as well as the number of individuals who received each page. Let `n_old` and `n_new` refer the the number of rows associated with the old page and new pages, respectively."
   ]
  },
  {
   "cell_type": "code",
   "execution_count": 34,
   "metadata": {},
   "outputs": [
    {
     "name": "stderr",
     "output_type": "stream",
     "text": [
      "/opt/conda/lib/python3.6/site-packages/statsmodels/compat/pandas.py:56: FutureWarning: The pandas.core.datetools module is deprecated and will be removed in a future version. Please use the pandas.tseries module instead.\n",
      "  from pandas.core import datetools\n"
     ]
    }
   ],
   "source": [
    "import statsmodels.api as sm\n",
    "\n",
    "convert_old = df2[(df2['landing_page'] == \"old_page\") & (df2['converted'] == 1)].shape[0]\n",
    "convert_new = df2[(df2['landing_page'] == \"new_page\") & (df2['converted'] == 1)].shape[0]\n",
    "\n",
    "n_old = df2[df2['landing_page'] == \"old_page\"].shape[0]\n",
    "n_new = df2[df2['landing_page'] == \"new_page\"].shape[0]"
   ]
  },
  {
   "cell_type": "markdown",
   "metadata": {},
   "source": [
    "m. Now use `stats.proportions_ztest` to compute your test statistic and p-value.  [Here](http://knowledgetack.com/python/statsmodels/proportions_ztest/) is a helpful link on using the built in."
   ]
  },
  {
   "cell_type": "code",
   "execution_count": 35,
   "metadata": {},
   "outputs": [
    {
     "data": {
      "text/plain": [
       "(-1.3109241984234394, 0.90505831275902449)"
      ]
     },
     "execution_count": 35,
     "metadata": {},
     "output_type": "execute_result"
    }
   ],
   "source": [
    "import statsmodels.api as sm\n",
    "\n",
    "z_score, p_value = sm.stats.proportions_ztest([convert_new, convert_old], [n_new, n_old], alternative= 'larger')\n",
    "z_score, p_value"
   ]
  },
  {
   "cell_type": "markdown",
   "metadata": {},
   "source": [
    "n. What do the z-score and p-value you computed in the previous question mean for the conversion rates of the old and new pages?  Do they agree with the findings in parts **j.** and **k.**?"
   ]
  },
  {
   "cell_type": "markdown",
   "metadata": {},
   "source": [
    "**The z-score falls inside the critical value of -1.96 - 1.96, and the p-value is 0.9050, almost same as manully computed p_value, all close to 90%. This\n",
    "means the z-score and p-value agree with the findings in parts j and k - there is no significant statistical difference in the conversions of new page and old page, therefore we cannot reject the null hypothesis.**"
   ]
  },
  {
   "cell_type": "markdown",
   "metadata": {},
   "source": [
    "<a id='regression'></a>\n",
    "### Part III - A regression approach\n",
    "\n",
    "`1.` In this final part, you will see that the result you acheived in the previous A/B test can also be acheived by performing regression.<br><br>\n",
    "\n",
    "a. Since each row is either a conversion or no conversion, what type of regression should you be performing in this case?"
   ]
  },
  {
   "cell_type": "markdown",
   "metadata": {},
   "source": [
    "**Logistic Regression is a better option. Because the outcome (dependent variable) has only a limited number of possible values, in our test, it is either a conversion or no conversion. So we choose the logistic regression.**"
   ]
  },
  {
   "cell_type": "markdown",
   "metadata": {},
   "source": [
    "b. The goal is to use **statsmodels** to fit the regression model you specified in part **a.** to see if there is a significant difference in conversion based on which page a customer receives.  However, you first need to create a colun for the intercept, and create a dummy variable column for which page each user received.  Add an **intercept** column, as well as an **ab_page** column, which is 1 when an individual receives the **treatment** and 0 if **control**."
   ]
  },
  {
   "cell_type": "code",
   "execution_count": 36,
   "metadata": {},
   "outputs": [],
   "source": [
    "df2['intercept'] = 1"
   ]
  },
  {
   "cell_type": "code",
   "execution_count": 37,
   "metadata": {},
   "outputs": [],
   "source": [
    "df2 = df2.join(pd.get_dummies(df['landing_page']))\n",
    "df2 = df2.drop('old_page', axis = 1)\n",
    "\n",
    "# df2 = df2.rename({'new_page' : 'ab_page'}, axis = 'columns')\n"
   ]
  },
  {
   "cell_type": "code",
   "execution_count": 38,
   "metadata": {},
   "outputs": [
    {
     "data": {
      "text/plain": [
       "Index(['user_id', 'timestamp', 'group', 'landing_page', 'converted',\n",
       "       'intercept', 'new_page'],\n",
       "      dtype='object')"
      ]
     },
     "execution_count": 38,
     "metadata": {},
     "output_type": "execute_result"
    }
   ],
   "source": [
    "df2.columns"
   ]
  },
  {
   "cell_type": "code",
   "execution_count": 39,
   "metadata": {},
   "outputs": [],
   "source": [
    "df2.rename(columns = {'new_page':'ab_page'}, inplace = True)"
   ]
  },
  {
   "cell_type": "code",
   "execution_count": 40,
   "metadata": {},
   "outputs": [
    {
     "data": {
      "text/plain": [
       "Index(['user_id', 'timestamp', 'group', 'landing_page', 'converted',\n",
       "       'intercept', 'ab_page'],\n",
       "      dtype='object')"
      ]
     },
     "execution_count": 40,
     "metadata": {},
     "output_type": "execute_result"
    }
   ],
   "source": [
    "df2.columns"
   ]
  },
  {
   "cell_type": "code",
   "execution_count": 41,
   "metadata": {},
   "outputs": [
    {
     "data": {
      "text/plain": [
       "'0.20.3'"
      ]
     },
     "execution_count": 41,
     "metadata": {},
     "output_type": "execute_result"
    }
   ],
   "source": [
    "pd.__version__"
   ]
  },
  {
   "cell_type": "markdown",
   "metadata": {},
   "source": [
    "c. Use **statsmodels** to import your regression model.  Instantiate the model, and fit the model using the two columns you created in part **b.** to predict whether or not an individual converts."
   ]
  },
  {
   "cell_type": "code",
   "execution_count": 42,
   "metadata": {},
   "outputs": [
    {
     "name": "stdout",
     "output_type": "stream",
     "text": [
      "Optimization terminated successfully.\n",
      "         Current function value: 0.366118\n",
      "         Iterations 6\n"
     ]
    }
   ],
   "source": [
    "model = sm.Logit(endog = df2['converted'], exog = df2[['intercept', 'ab_page']])\n",
    "res = model.fit()"
   ]
  },
  {
   "cell_type": "markdown",
   "metadata": {},
   "source": [
    "d. Provide the summary of your model below, and use it as necessary to answer the following questions."
   ]
  },
  {
   "cell_type": "code",
   "execution_count": 43,
   "metadata": {},
   "outputs": [
    {
     "name": "stdout",
     "output_type": "stream",
     "text": [
      "                           Logit Regression Results                           \n",
      "==============================================================================\n",
      "Dep. Variable:              converted   No. Observations:               290584\n",
      "Model:                          Logit   Df Residuals:                   290582\n",
      "Method:                           MLE   Df Model:                            1\n",
      "Date:                Fri, 15 Feb 2019   Pseudo R-squ.:               8.077e-06\n",
      "Time:                        18:56:58   Log-Likelihood:            -1.0639e+05\n",
      "converged:                       True   LL-Null:                   -1.0639e+05\n",
      "                                        LLR p-value:                    0.1899\n",
      "==============================================================================\n",
      "                 coef    std err          z      P>|z|      [0.025      0.975]\n",
      "------------------------------------------------------------------------------\n",
      "intercept     -1.9888      0.008   -246.669      0.000      -2.005      -1.973\n",
      "ab_page       -0.0150      0.011     -1.311      0.190      -0.037       0.007\n",
      "==============================================================================\n"
     ]
    }
   ],
   "source": [
    "print(res.summary())"
   ]
  },
  {
   "cell_type": "markdown",
   "metadata": {},
   "source": [
    "e. What is the p-value associated with **ab_page**? Why does it differ from the value you found in the **Part II**?<br><br>  **Hint**: What are the null and alternative hypotheses associated with your regression model, and how do they compare to the null and alternative hypotheses in the **Part II**?"
   ]
  },
  {
   "cell_type": "markdown",
   "metadata": {},
   "source": [
    "**The p-value associated with ab_page is 0.19. This value is still larger than the Type 1 error rate of 0.05. It means that the landing page is not statistically significant in the prediction of converts.**\n",
    "\n",
    "**This p_value is different from the value in Part II. Because the null and alternative hypotheses in two part are different. In the regression model are**\n",
    "\n",
    "$$H0:  p_{new} = p_{old}$$   $$H1: p_{new} != p_{old} $$,\n",
    "**It is a two-tailed test, which just predicts a difference in the two values.**\n",
    "\n",
    "**In the part two, the null and alternative hypotheses is**\n",
    "\n",
    "$$ H_0: p_{new} \\leq p_{old}$$  $$ H_1: p_{new} > p_{old}$$\n",
    "\n",
    "\n",
    "**This is a one-tailed test. We just want to predict which page gets more conversions.**\n",
    "\n",
    "[Reference](https://stats.idre.ucla.edu/other/mult-pkg/faq/general/faq-what-are-the-differences-between-one-tailed-and-two-tailed-tests/)"
   ]
  },
  {
   "cell_type": "markdown",
   "metadata": {},
   "source": [
    "f. Now, you are considering other things that might influence whether or not an individual converts.  Discuss why it is a good idea to consider other factors to add into your regression model.  Are there any disadvantages to adding additional terms into your regression model?"
   ]
  },
  {
   "cell_type": "markdown",
   "metadata": {},
   "source": [
    "**In general, for regression testing, we want to use as many linear independent predictors as possible with our response variables (conversions), as this will increase the chances that the model will correctly determine which predictors are more likely to convert, and we will be able to find out Which predictors are important in increasing conversion rates.**"
   ]
  },
  {
   "cell_type": "markdown",
   "metadata": {},
   "source": [
    "g. Now along with testing if the conversion rate changes for different pages, also add an effect based on which country a user lives. You will need to read in the **countries.csv** dataset and merge together your datasets on the approporiate rows.  [Here](https://pandas.pydata.org/pandas-docs/stable/generated/pandas.DataFrame.join.html) are the docs for joining tables. \n",
    "\n",
    "Does it appear that country had an impact on conversion?  Don't forget to create dummy variables for these country columns - **Hint: You will need two columns for the three dummy varaibles.** Provide the statistical output as well as a written response to answer this question."
   ]
  },
  {
   "cell_type": "code",
   "execution_count": 44,
   "metadata": {},
   "outputs": [],
   "source": [
    "df_countries = pd.read_csv('./countries.csv')\n",
    "df_new = df_countries.set_index('user_id').join(df2.set_index('user_id'), how='inner')"
   ]
  },
  {
   "cell_type": "code",
   "execution_count": 45,
   "metadata": {},
   "outputs": [
    {
     "data": {
      "text/html": [
       "<div>\n",
       "<style>\n",
       "    .dataframe thead tr:only-child th {\n",
       "        text-align: right;\n",
       "    }\n",
       "\n",
       "    .dataframe thead th {\n",
       "        text-align: left;\n",
       "    }\n",
       "\n",
       "    .dataframe tbody tr th {\n",
       "        vertical-align: top;\n",
       "    }\n",
       "</style>\n",
       "<table border=\"1\" class=\"dataframe\">\n",
       "  <thead>\n",
       "    <tr style=\"text-align: right;\">\n",
       "      <th></th>\n",
       "      <th>user_id</th>\n",
       "      <th>country</th>\n",
       "    </tr>\n",
       "  </thead>\n",
       "  <tbody>\n",
       "    <tr>\n",
       "      <th>0</th>\n",
       "      <td>834778</td>\n",
       "      <td>UK</td>\n",
       "    </tr>\n",
       "    <tr>\n",
       "      <th>1</th>\n",
       "      <td>928468</td>\n",
       "      <td>US</td>\n",
       "    </tr>\n",
       "    <tr>\n",
       "      <th>2</th>\n",
       "      <td>822059</td>\n",
       "      <td>UK</td>\n",
       "    </tr>\n",
       "    <tr>\n",
       "      <th>3</th>\n",
       "      <td>711597</td>\n",
       "      <td>UK</td>\n",
       "    </tr>\n",
       "    <tr>\n",
       "      <th>4</th>\n",
       "      <td>710616</td>\n",
       "      <td>UK</td>\n",
       "    </tr>\n",
       "  </tbody>\n",
       "</table>\n",
       "</div>"
      ],
      "text/plain": [
       "   user_id country\n",
       "0   834778      UK\n",
       "1   928468      US\n",
       "2   822059      UK\n",
       "3   711597      UK\n",
       "4   710616      UK"
      ]
     },
     "execution_count": 45,
     "metadata": {},
     "output_type": "execute_result"
    }
   ],
   "source": [
    "df_countries.head()"
   ]
  },
  {
   "cell_type": "code",
   "execution_count": 46,
   "metadata": {},
   "outputs": [],
   "source": [
    "df_new = df_new.join(pd.get_dummies(df_new['country']))"
   ]
  },
  {
   "cell_type": "code",
   "execution_count": 47,
   "metadata": {},
   "outputs": [
    {
     "data": {
      "text/html": [
       "<div>\n",
       "<style>\n",
       "    .dataframe thead tr:only-child th {\n",
       "        text-align: right;\n",
       "    }\n",
       "\n",
       "    .dataframe thead th {\n",
       "        text-align: left;\n",
       "    }\n",
       "\n",
       "    .dataframe tbody tr th {\n",
       "        vertical-align: top;\n",
       "    }\n",
       "</style>\n",
       "<table border=\"1\" class=\"dataframe\">\n",
       "  <thead>\n",
       "    <tr style=\"text-align: right;\">\n",
       "      <th></th>\n",
       "      <th>country</th>\n",
       "      <th>timestamp</th>\n",
       "      <th>group</th>\n",
       "      <th>landing_page</th>\n",
       "      <th>converted</th>\n",
       "      <th>intercept</th>\n",
       "      <th>ab_page</th>\n",
       "      <th>CA</th>\n",
       "      <th>UK</th>\n",
       "      <th>US</th>\n",
       "    </tr>\n",
       "    <tr>\n",
       "      <th>user_id</th>\n",
       "      <th></th>\n",
       "      <th></th>\n",
       "      <th></th>\n",
       "      <th></th>\n",
       "      <th></th>\n",
       "      <th></th>\n",
       "      <th></th>\n",
       "      <th></th>\n",
       "      <th></th>\n",
       "      <th></th>\n",
       "    </tr>\n",
       "  </thead>\n",
       "  <tbody>\n",
       "    <tr>\n",
       "      <th>834778</th>\n",
       "      <td>UK</td>\n",
       "      <td>2017-01-14 23:08:43.304998</td>\n",
       "      <td>control</td>\n",
       "      <td>old_page</td>\n",
       "      <td>0</td>\n",
       "      <td>1</td>\n",
       "      <td>0</td>\n",
       "      <td>0</td>\n",
       "      <td>1</td>\n",
       "      <td>0</td>\n",
       "    </tr>\n",
       "    <tr>\n",
       "      <th>928468</th>\n",
       "      <td>US</td>\n",
       "      <td>2017-01-23 14:44:16.387854</td>\n",
       "      <td>treatment</td>\n",
       "      <td>new_page</td>\n",
       "      <td>0</td>\n",
       "      <td>1</td>\n",
       "      <td>1</td>\n",
       "      <td>0</td>\n",
       "      <td>0</td>\n",
       "      <td>1</td>\n",
       "    </tr>\n",
       "    <tr>\n",
       "      <th>822059</th>\n",
       "      <td>UK</td>\n",
       "      <td>2017-01-16 14:04:14.719771</td>\n",
       "      <td>treatment</td>\n",
       "      <td>new_page</td>\n",
       "      <td>1</td>\n",
       "      <td>1</td>\n",
       "      <td>1</td>\n",
       "      <td>0</td>\n",
       "      <td>1</td>\n",
       "      <td>0</td>\n",
       "    </tr>\n",
       "    <tr>\n",
       "      <th>711597</th>\n",
       "      <td>UK</td>\n",
       "      <td>2017-01-22 03:14:24.763511</td>\n",
       "      <td>control</td>\n",
       "      <td>old_page</td>\n",
       "      <td>0</td>\n",
       "      <td>1</td>\n",
       "      <td>0</td>\n",
       "      <td>0</td>\n",
       "      <td>1</td>\n",
       "      <td>0</td>\n",
       "    </tr>\n",
       "    <tr>\n",
       "      <th>710616</th>\n",
       "      <td>UK</td>\n",
       "      <td>2017-01-16 13:14:44.000513</td>\n",
       "      <td>treatment</td>\n",
       "      <td>new_page</td>\n",
       "      <td>0</td>\n",
       "      <td>1</td>\n",
       "      <td>1</td>\n",
       "      <td>0</td>\n",
       "      <td>1</td>\n",
       "      <td>0</td>\n",
       "    </tr>\n",
       "  </tbody>\n",
       "</table>\n",
       "</div>"
      ],
      "text/plain": [
       "        country                   timestamp      group landing_page  \\\n",
       "user_id                                                               \n",
       "834778       UK  2017-01-14 23:08:43.304998    control     old_page   \n",
       "928468       US  2017-01-23 14:44:16.387854  treatment     new_page   \n",
       "822059       UK  2017-01-16 14:04:14.719771  treatment     new_page   \n",
       "711597       UK  2017-01-22 03:14:24.763511    control     old_page   \n",
       "710616       UK  2017-01-16 13:14:44.000513  treatment     new_page   \n",
       "\n",
       "         converted  intercept  ab_page  CA  UK  US  \n",
       "user_id                                             \n",
       "834778           0          1        0   0   1   0  \n",
       "928468           0          1        1   0   0   1  \n",
       "822059           1          1        1   0   1   0  \n",
       "711597           0          1        0   0   1   0  \n",
       "710616           0          1        1   0   1   0  "
      ]
     },
     "execution_count": 47,
     "metadata": {},
     "output_type": "execute_result"
    }
   ],
   "source": [
    "df_new.head()"
   ]
  },
  {
   "cell_type": "code",
   "execution_count": 48,
   "metadata": {},
   "outputs": [
    {
     "name": "stdout",
     "output_type": "stream",
     "text": [
      "Optimization terminated successfully.\n",
      "         Current function value: 0.366113\n",
      "         Iterations 6\n"
     ]
    }
   ],
   "source": [
    "model = sm.Logit(endog = df_new['converted'], exog = df_new[['intercept', 'ab_page', 'CA', 'UK']])\n",
    "res = model.fit()"
   ]
  },
  {
   "cell_type": "markdown",
   "metadata": {},
   "source": [
    "h. Though you have now looked at the individual factors of country and page on conversion, we would now like to look at an interaction between page and country to see if there significant effects on conversion.  Create the necessary additional columns, and fit the new model.  \n",
    "\n",
    "Provide the summary results, and your conclusions based on the results."
   ]
  },
  {
   "cell_type": "code",
   "execution_count": 49,
   "metadata": {},
   "outputs": [
    {
     "name": "stdout",
     "output_type": "stream",
     "text": [
      "                           Logit Regression Results                           \n",
      "==============================================================================\n",
      "Dep. Variable:              converted   No. Observations:               290584\n",
      "Model:                          Logit   Df Residuals:                   290580\n",
      "Method:                           MLE   Df Model:                            3\n",
      "Date:                Fri, 15 Feb 2019   Pseudo R-squ.:               2.323e-05\n",
      "Time:                        18:57:09   Log-Likelihood:            -1.0639e+05\n",
      "converged:                       True   LL-Null:                   -1.0639e+05\n",
      "                                        LLR p-value:                    0.1760\n",
      "==============================================================================\n",
      "                 coef    std err          z      P>|z|      [0.025      0.975]\n",
      "------------------------------------------------------------------------------\n",
      "intercept     -1.9893      0.009   -223.763      0.000      -2.007      -1.972\n",
      "ab_page       -0.0149      0.011     -1.307      0.191      -0.037       0.007\n",
      "CA            -0.0408      0.027     -1.516      0.130      -0.093       0.012\n",
      "UK             0.0099      0.013      0.743      0.457      -0.016       0.036\n",
      "==============================================================================\n"
     ]
    }
   ],
   "source": [
    "print(res.summary())"
   ]
  },
  {
   "cell_type": "markdown",
   "metadata": {},
   "source": [
    "**By adding the catergorical predictor “country”, we are trying to figure out whether it is statistically significant difference when our users come from the US, UK or Canada.**\n",
    "\n",
    "**Base on the large p-values of 0.13(for CA) and 0.457(for the UK), we can suggest that, from the statistic aspect, there is no significant difference between the users come from any country. In practical, regardless of whichever country our users come from, the conversion rate for these users will not have a big difference between each other. There is no need to provide different landing page policies for different countries.**"
   ]
  },
  {
   "cell_type": "markdown",
   "metadata": {},
   "source": [
    "<a id='conclusions'></a>\n",
    "## Finishing Up\n",
    "\n",
    "> Congratulations!  You have reached the end of the A/B Test Results project!  This is the final project in Term 1.  You should be very proud of all you have accomplished!\n",
    "\n",
    "> **Tip**: Once you are satisfied with your work here, check over your report to make sure that it is satisfies all the areas of the rubric (found on the project submission page at the end of the lesson). You should also probably remove all of the \"Tips\" like this one so that the presentation is as polished as possible.\n",
    "\n",
    "\n",
    "## Directions to Submit\n",
    "\n",
    "> Before you submit your project, you need to create a .html or .pdf version of this notebook in the workspace here. To do that, run the code cell below. If it worked correctly, you should get a return code of 0, and you should see the generated .html file in the workspace directory (click on the orange Jupyter icon in the upper left).\n",
    "\n",
    "> Alternatively, you can download this report as .html via the **File** > **Download as** submenu, and then manually upload it into the workspace directory by clicking on the orange Jupyter icon in the upper left, then using the Upload button.\n",
    "\n",
    "> Once you've done this, you can submit your project by clicking on the \"Submit Project\" button in the lower right here. This will create and submit a zip file with this .ipynb doc and the .html or .pdf version you created. Congratulations!"
   ]
  },
  {
   "cell_type": "code",
   "execution_count": 50,
   "metadata": {},
   "outputs": [
    {
     "data": {
      "text/plain": [
       "0"
      ]
     },
     "execution_count": 50,
     "metadata": {},
     "output_type": "execute_result"
    }
   ],
   "source": [
    "from subprocess import call\n",
    "call(['python', '-m', 'nbconvert', 'Analyze_ab_test_results_notebook.ipynb'])"
   ]
  },
  {
   "cell_type": "markdown",
   "metadata": {},
   "source": [
    "[**one tailed p_value  ---> two tailed p_value**](https://stats.idre.ucla.edu/other/mult-pkg/faq/general/faq-what-are-the-differences-between-one-tailed-and-two-tailed-tests/)\n",
    "\n",
    "- depending on the direction of the one-tailed hypothesis, its p-value is either 0.5*(two-tailed p-value) or 1-0.5*(two-tailed p-value) if the test statistic symmetrically distributed about zero.\n",
    "\n",
    "two_tailed_p_value = 0.905\n",
    "\n",
    "one_tailed_p_value = 1 - 0.5 * 0.905 = 0.4525\n"
   ]
  },
  {
   "cell_type": "code",
   "execution_count": null,
   "metadata": {},
   "outputs": [],
   "source": []
  }
 ],
 "metadata": {
  "kernelspec": {
   "display_name": "Python 3",
   "language": "python",
   "name": "python3"
  },
  "language_info": {
   "codemirror_mode": {
    "name": "ipython",
    "version": 3
   },
   "file_extension": ".py",
   "mimetype": "text/x-python",
   "name": "python",
   "nbconvert_exporter": "python",
   "pygments_lexer": "ipython3",
   "version": "3.6.6"
  }
 },
 "nbformat": 4,
 "nbformat_minor": 2
}
