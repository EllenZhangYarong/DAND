{
 "cells": [
  {
   "cell_type": "markdown",
   "metadata": {},
   "source": [
    "\n",
    "\n",
    "# Project: Europe Soccer Team\n",
    "\n",
    "## Table of Contents\n",
    "<ul>\n",
    "<li><a href=\"#intro\">Introduction</a></li>\n",
    "<li><a href=\"#wrangling\">Data Wrangling</a></li>\n",
    "<li><a href=\"#eda\">Exploratory Data Analysis</a></li>\n",
    "<li><a href=\"#conclusions\">Conclusions</a></li>\n",
    "</ul>"
   ]
  },
  {
   "cell_type": "markdown",
   "metadata": {},
   "source": [
    "<a id='intro'></a>\n",
    "## Introduction\n",
    "\n",
    "> [European Soccer Database](https://www.kaggle.com/hugomathien/soccer) This dataset was downloaded from kaggle. It contains 11 European Countries with their lead championship between seasons 2008 to 2016. The dataset is an SQLite database.\n",
    "\n",
    "> I have **two** questions as below to plan on exploring over the course of the report\n",
    "> 1. What teams improved the most over the time period?\n",
    "> 2. Which players got the most penalties? \n"
   ]
  },
  {
   "cell_type": "code",
   "execution_count": 1,
   "metadata": {},
   "outputs": [],
   "source": [
    "import numpy as np\n",
    "import pandas as pd\n",
    "import matplotlib.pyplot as plt\n",
    "\n",
    "%matplotlib inline"
   ]
  },
  {
   "cell_type": "markdown",
   "metadata": {},
   "source": [
    "The dataset is an SQLite database, so generally, there are two ways to get the interested data:\n",
    "\n",
    "- Using DB browser to explore the data and extract data into CVS files.\n",
    "- Directly using python extract the needed data from the database programmatically.\n",
    "\n",
    "At the first stage, I used DB brower to study the dataset tables, data formats, and so on. Then I used python to extract the interesting data out programmatically, it's more flexible than extracting data into CSV files using DB browser."
   ]
  },
  {
   "cell_type": "code",
   "execution_count": 2,
   "metadata": {},
   "outputs": [
    {
     "data": {
      "text/html": [
       "<div>\n",
       "<style scoped>\n",
       "    .dataframe tbody tr th:only-of-type {\n",
       "        vertical-align: middle;\n",
       "    }\n",
       "\n",
       "    .dataframe tbody tr th {\n",
       "        vertical-align: top;\n",
       "    }\n",
       "\n",
       "    .dataframe thead th {\n",
       "        text-align: right;\n",
       "    }\n",
       "</style>\n",
       "<table border=\"1\" class=\"dataframe\">\n",
       "  <thead>\n",
       "    <tr style=\"text-align: right;\">\n",
       "      <th></th>\n",
       "      <th>type</th>\n",
       "      <th>name</th>\n",
       "      <th>tbl_name</th>\n",
       "      <th>rootpage</th>\n",
       "      <th>sql</th>\n",
       "    </tr>\n",
       "  </thead>\n",
       "  <tbody>\n",
       "    <tr>\n",
       "      <th>0</th>\n",
       "      <td>table</td>\n",
       "      <td>sqlite_sequence</td>\n",
       "      <td>sqlite_sequence</td>\n",
       "      <td>4</td>\n",
       "      <td>CREATE TABLE sqlite_sequence(name,seq)</td>\n",
       "    </tr>\n",
       "    <tr>\n",
       "      <th>1</th>\n",
       "      <td>table</td>\n",
       "      <td>Player_Attributes</td>\n",
       "      <td>Player_Attributes</td>\n",
       "      <td>11</td>\n",
       "      <td>CREATE TABLE \"Player_Attributes\" (\\n\\t`id`\\tIN...</td>\n",
       "    </tr>\n",
       "    <tr>\n",
       "      <th>2</th>\n",
       "      <td>table</td>\n",
       "      <td>Player</td>\n",
       "      <td>Player</td>\n",
       "      <td>14</td>\n",
       "      <td>CREATE TABLE `Player` (\\n\\t`id`\\tINTEGER PRIMA...</td>\n",
       "    </tr>\n",
       "    <tr>\n",
       "      <th>3</th>\n",
       "      <td>table</td>\n",
       "      <td>Match</td>\n",
       "      <td>Match</td>\n",
       "      <td>18</td>\n",
       "      <td>CREATE TABLE `Match` (\\n\\t`id`\\tINTEGER PRIMAR...</td>\n",
       "    </tr>\n",
       "    <tr>\n",
       "      <th>4</th>\n",
       "      <td>table</td>\n",
       "      <td>League</td>\n",
       "      <td>League</td>\n",
       "      <td>24</td>\n",
       "      <td>CREATE TABLE `League` (\\n\\t`id`\\tINTEGER PRIMA...</td>\n",
       "    </tr>\n",
       "    <tr>\n",
       "      <th>5</th>\n",
       "      <td>table</td>\n",
       "      <td>Country</td>\n",
       "      <td>Country</td>\n",
       "      <td>26</td>\n",
       "      <td>CREATE TABLE `Country` (\\n\\t`id`\\tINTEGER PRIM...</td>\n",
       "    </tr>\n",
       "    <tr>\n",
       "      <th>6</th>\n",
       "      <td>table</td>\n",
       "      <td>Team</td>\n",
       "      <td>Team</td>\n",
       "      <td>29</td>\n",
       "      <td>CREATE TABLE \"Team\" (\\n\\t`id`\\tINTEGER PRIMARY...</td>\n",
       "    </tr>\n",
       "    <tr>\n",
       "      <th>7</th>\n",
       "      <td>table</td>\n",
       "      <td>Team_Attributes</td>\n",
       "      <td>Team_Attributes</td>\n",
       "      <td>2</td>\n",
       "      <td>CREATE TABLE `Team_Attributes` (\\n\\t`id`\\tINTE...</td>\n",
       "    </tr>\n",
       "  </tbody>\n",
       "</table>\n",
       "</div>"
      ],
      "text/plain": [
       "    type               name           tbl_name  rootpage  \\\n",
       "0  table    sqlite_sequence    sqlite_sequence         4   \n",
       "1  table  Player_Attributes  Player_Attributes        11   \n",
       "2  table             Player             Player        14   \n",
       "3  table              Match              Match        18   \n",
       "4  table             League             League        24   \n",
       "5  table            Country            Country        26   \n",
       "6  table               Team               Team        29   \n",
       "7  table    Team_Attributes    Team_Attributes         2   \n",
       "\n",
       "                                                 sql  \n",
       "0             CREATE TABLE sqlite_sequence(name,seq)  \n",
       "1  CREATE TABLE \"Player_Attributes\" (\\n\\t`id`\\tIN...  \n",
       "2  CREATE TABLE `Player` (\\n\\t`id`\\tINTEGER PRIMA...  \n",
       "3  CREATE TABLE `Match` (\\n\\t`id`\\tINTEGER PRIMAR...  \n",
       "4  CREATE TABLE `League` (\\n\\t`id`\\tINTEGER PRIMA...  \n",
       "5  CREATE TABLE `Country` (\\n\\t`id`\\tINTEGER PRIM...  \n",
       "6  CREATE TABLE \"Team\" (\\n\\t`id`\\tINTEGER PRIMARY...  \n",
       "7  CREATE TABLE `Team_Attributes` (\\n\\t`id`\\tINTE...  "
      ]
     },
     "execution_count": 2,
     "metadata": {},
     "output_type": "execute_result"
    }
   ],
   "source": [
    "# get tables from the sqlite database to test the connect is good.\n",
    "\n",
    "import sqlite3\n",
    "path = \"./dataset/\" \n",
    "database = path + 'database.sqlite'\n",
    "\n",
    "conn = sqlite3.connect(database)\n",
    "tables = pd.read_sql(\"\"\"SELECT *\n",
    "                        FROM sqlite_master\n",
    "                        WHERE type='table';\"\"\", conn)\n",
    "\n",
    "tables"
   ]
  },
  {
   "cell_type": "markdown",
   "metadata": {},
   "source": [
    "<a id='wrangling'></a>\n",
    "## Data Wrangling\n",
    "\n",
    "> **Tip**: In this section of the report, you will load in the data, check for cleanliness, and then trim and clean your dataset for analysis. Make sure that you document your steps carefully and justify your cleaning decisions.\n",
    "\n",
    "### General Properties"
   ]
  },
  {
   "cell_type": "code",
   "execution_count": 3,
   "metadata": {},
   "outputs": [
    {
     "data": {
      "text/html": [
       "<div>\n",
       "<style scoped>\n",
       "    .dataframe tbody tr th:only-of-type {\n",
       "        vertical-align: middle;\n",
       "    }\n",
       "\n",
       "    .dataframe tbody tr th {\n",
       "        vertical-align: top;\n",
       "    }\n",
       "\n",
       "    .dataframe thead th {\n",
       "        text-align: right;\n",
       "    }\n",
       "</style>\n",
       "<table border=\"1\" class=\"dataframe\">\n",
       "  <thead>\n",
       "    <tr style=\"text-align: right;\">\n",
       "      <th></th>\n",
       "      <th>season</th>\n",
       "      <th>home_team</th>\n",
       "      <th>away_team</th>\n",
       "      <th>home_team_goal</th>\n",
       "      <th>away_team_goal</th>\n",
       "    </tr>\n",
       "  </thead>\n",
       "  <tbody>\n",
       "    <tr>\n",
       "      <th>0</th>\n",
       "      <td>2008/2009</td>\n",
       "      <td>BSC Young Boys</td>\n",
       "      <td>FC Basel</td>\n",
       "      <td>1</td>\n",
       "      <td>2</td>\n",
       "    </tr>\n",
       "    <tr>\n",
       "      <th>1</th>\n",
       "      <td>2008/2009</td>\n",
       "      <td>FC Aarau</td>\n",
       "      <td>FC Sion</td>\n",
       "      <td>3</td>\n",
       "      <td>1</td>\n",
       "    </tr>\n",
       "    <tr>\n",
       "      <th>2</th>\n",
       "      <td>2008/2009</td>\n",
       "      <td>FC Luzern</td>\n",
       "      <td>FC Vaduz</td>\n",
       "      <td>1</td>\n",
       "      <td>2</td>\n",
       "    </tr>\n",
       "    <tr>\n",
       "      <th>3</th>\n",
       "      <td>2008/2009</td>\n",
       "      <td>Neuchâtel Xamax</td>\n",
       "      <td>FC Zürich</td>\n",
       "      <td>1</td>\n",
       "      <td>2</td>\n",
       "    </tr>\n",
       "    <tr>\n",
       "      <th>4</th>\n",
       "      <td>2008/2009</td>\n",
       "      <td>FC Basel</td>\n",
       "      <td>Grasshopper Club Zürich</td>\n",
       "      <td>1</td>\n",
       "      <td>0</td>\n",
       "    </tr>\n",
       "  </tbody>\n",
       "</table>\n",
       "</div>"
      ],
      "text/plain": [
       "      season        home_team                away_team  home_team_goal  \\\n",
       "0  2008/2009   BSC Young Boys                 FC Basel               1   \n",
       "1  2008/2009         FC Aarau                  FC Sion               3   \n",
       "2  2008/2009        FC Luzern                 FC Vaduz               1   \n",
       "3  2008/2009  Neuchâtel Xamax                FC Zürich               1   \n",
       "4  2008/2009         FC Basel  Grasshopper Club Zürich               1   \n",
       "\n",
       "   away_team_goal  \n",
       "0               2  \n",
       "1               1  \n",
       "2               2  \n",
       "3               2  \n",
       "4               0  "
      ]
     },
     "execution_count": 3,
     "metadata": {},
     "output_type": "execute_result"
    }
   ],
   "source": [
    "# query data from database according the question 1 : which team improve the most over the time period?\n",
    "# \n",
    "\n",
    "df_team_goals = pd.read_sql(\"\"\"SELECT season,\n",
    " HT.team_long_name AS  home_team,\n",
    " AT.team_long_name AS away_team,\n",
    " home_team_goal, \n",
    " away_team_goal\n",
    " FROM Match\n",
    " JOIN Country on Country.id = Match.country_id\n",
    " JOIN League on League.id = Match.league_id\n",
    " LEFT JOIN Team AS HT on HT.team_api_id = Match.home_team_api_id\n",
    " LEFT JOIN Team AS AT on AT.team_api_id = Match.away_team_api_id\n",
    " ORDER by date;\"\"\", conn)\n",
    "\n",
    "df_team_goals.head()"
   ]
  },
  {
   "cell_type": "code",
   "execution_count": 4,
   "metadata": {},
   "outputs": [],
   "source": [
    "df_team_goals.to_csv('./dataset/team_goals.csv')"
   ]
  },
  {
   "cell_type": "code",
   "execution_count": 5,
   "metadata": {},
   "outputs": [
    {
     "data": {
      "text/html": [
       "<div>\n",
       "<style scoped>\n",
       "    .dataframe tbody tr th:only-of-type {\n",
       "        vertical-align: middle;\n",
       "    }\n",
       "\n",
       "    .dataframe tbody tr th {\n",
       "        vertical-align: top;\n",
       "    }\n",
       "\n",
       "    .dataframe thead th {\n",
       "        text-align: right;\n",
       "    }\n",
       "</style>\n",
       "<table border=\"1\" class=\"dataframe\">\n",
       "  <thead>\n",
       "    <tr style=\"text-align: right;\">\n",
       "      <th></th>\n",
       "      <th>player_name</th>\n",
       "      <th>penalties</th>\n",
       "    </tr>\n",
       "  </thead>\n",
       "  <tbody>\n",
       "    <tr>\n",
       "      <th>0</th>\n",
       "      <td>Aaron Appindangoye</td>\n",
       "      <td>48.0</td>\n",
       "    </tr>\n",
       "    <tr>\n",
       "      <th>1</th>\n",
       "      <td>Aaron Appindangoye</td>\n",
       "      <td>48.0</td>\n",
       "    </tr>\n",
       "    <tr>\n",
       "      <th>2</th>\n",
       "      <td>Aaron Appindangoye</td>\n",
       "      <td>48.0</td>\n",
       "    </tr>\n",
       "    <tr>\n",
       "      <th>3</th>\n",
       "      <td>Aaron Appindangoye</td>\n",
       "      <td>47.0</td>\n",
       "    </tr>\n",
       "    <tr>\n",
       "      <th>4</th>\n",
       "      <td>Aaron Appindangoye</td>\n",
       "      <td>47.0</td>\n",
       "    </tr>\n",
       "    <tr>\n",
       "      <th>5</th>\n",
       "      <td>Aaron Cresswell</td>\n",
       "      <td>59.0</td>\n",
       "    </tr>\n",
       "    <tr>\n",
       "      <th>6</th>\n",
       "      <td>Aaron Cresswell</td>\n",
       "      <td>59.0</td>\n",
       "    </tr>\n",
       "    <tr>\n",
       "      <th>7</th>\n",
       "      <td>Aaron Cresswell</td>\n",
       "      <td>59.0</td>\n",
       "    </tr>\n",
       "    <tr>\n",
       "      <th>8</th>\n",
       "      <td>Aaron Cresswell</td>\n",
       "      <td>59.0</td>\n",
       "    </tr>\n",
       "    <tr>\n",
       "      <th>9</th>\n",
       "      <td>Aaron Cresswell</td>\n",
       "      <td>59.0</td>\n",
       "    </tr>\n",
       "  </tbody>\n",
       "</table>\n",
       "</div>"
      ],
      "text/plain": [
       "          player_name  penalties\n",
       "0  Aaron Appindangoye       48.0\n",
       "1  Aaron Appindangoye       48.0\n",
       "2  Aaron Appindangoye       48.0\n",
       "3  Aaron Appindangoye       47.0\n",
       "4  Aaron Appindangoye       47.0\n",
       "5     Aaron Cresswell       59.0\n",
       "6     Aaron Cresswell       59.0\n",
       "7     Aaron Cresswell       59.0\n",
       "8     Aaron Cresswell       59.0\n",
       "9     Aaron Cresswell       59.0"
      ]
     },
     "execution_count": 5,
     "metadata": {},
     "output_type": "execute_result"
    }
   ],
   "source": [
    "# get data for question 2: which players had the most penalties?\n",
    "\n",
    "df_player_penaltities = pd.read_sql(\"\"\"select player.player_name, Player_Attributes.penalties\n",
    "from Player\n",
    "join Player_Attributes\n",
    "on Player.player_api_id = Player_Attributes.player_api_id and Player.player_fifa_api_id = Player_Attributes.player_fifa_api_id;\"\"\", conn)\n",
    "\n",
    "\n",
    "\n",
    "df_player_penaltities.head(10)\n"
   ]
  },
  {
   "cell_type": "code",
   "execution_count": 6,
   "metadata": {},
   "outputs": [],
   "source": [
    "df_player_penaltities.to_csv('./dataset/player_penaltities.csv', index=False)"
   ]
  },
  {
   "cell_type": "markdown",
   "metadata": {},
   "source": [
    "\n",
    "\n",
    "### Data Cleaning "
   ]
  },
  {
   "cell_type": "code",
   "execution_count": 7,
   "metadata": {},
   "outputs": [
    {
     "data": {
      "text/html": [
       "<div>\n",
       "<style scoped>\n",
       "    .dataframe tbody tr th:only-of-type {\n",
       "        vertical-align: middle;\n",
       "    }\n",
       "\n",
       "    .dataframe tbody tr th {\n",
       "        vertical-align: top;\n",
       "    }\n",
       "\n",
       "    .dataframe thead th {\n",
       "        text-align: right;\n",
       "    }\n",
       "</style>\n",
       "<table border=\"1\" class=\"dataframe\">\n",
       "  <thead>\n",
       "    <tr style=\"text-align: right;\">\n",
       "      <th></th>\n",
       "      <th>home_team_goal</th>\n",
       "      <th>away_team_goal</th>\n",
       "    </tr>\n",
       "  </thead>\n",
       "  <tbody>\n",
       "    <tr>\n",
       "      <th>count</th>\n",
       "      <td>25979.000000</td>\n",
       "      <td>25979.000000</td>\n",
       "    </tr>\n",
       "    <tr>\n",
       "      <th>mean</th>\n",
       "      <td>1.544594</td>\n",
       "      <td>1.160938</td>\n",
       "    </tr>\n",
       "    <tr>\n",
       "      <th>std</th>\n",
       "      <td>1.297158</td>\n",
       "      <td>1.142110</td>\n",
       "    </tr>\n",
       "    <tr>\n",
       "      <th>min</th>\n",
       "      <td>0.000000</td>\n",
       "      <td>0.000000</td>\n",
       "    </tr>\n",
       "    <tr>\n",
       "      <th>25%</th>\n",
       "      <td>1.000000</td>\n",
       "      <td>0.000000</td>\n",
       "    </tr>\n",
       "    <tr>\n",
       "      <th>50%</th>\n",
       "      <td>1.000000</td>\n",
       "      <td>1.000000</td>\n",
       "    </tr>\n",
       "    <tr>\n",
       "      <th>75%</th>\n",
       "      <td>2.000000</td>\n",
       "      <td>2.000000</td>\n",
       "    </tr>\n",
       "    <tr>\n",
       "      <th>max</th>\n",
       "      <td>10.000000</td>\n",
       "      <td>9.000000</td>\n",
       "    </tr>\n",
       "  </tbody>\n",
       "</table>\n",
       "</div>"
      ],
      "text/plain": [
       "       home_team_goal  away_team_goal\n",
       "count    25979.000000    25979.000000\n",
       "mean         1.544594        1.160938\n",
       "std          1.297158        1.142110\n",
       "min          0.000000        0.000000\n",
       "25%          1.000000        0.000000\n",
       "50%          1.000000        1.000000\n",
       "75%          2.000000        2.000000\n",
       "max         10.000000        9.000000"
      ]
     },
     "execution_count": 7,
     "metadata": {},
     "output_type": "execute_result"
    }
   ],
   "source": [
    "# Generates descriptive statistics that summarize the central tendency, dispersion and shape of a dataset’s distribution\n",
    "\n",
    "df_team_goals.describe()"
   ]
  },
  {
   "cell_type": "code",
   "execution_count": 8,
   "metadata": {},
   "outputs": [
    {
     "data": {
      "text/plain": [
       "season            object\n",
       "home_team         object\n",
       "away_team         object\n",
       "home_team_goal     int64\n",
       "away_team_goal     int64\n",
       "dtype: object"
      ]
     },
     "execution_count": 8,
     "metadata": {},
     "output_type": "execute_result"
    }
   ],
   "source": [
    "# check data dtype\n",
    "\n",
    "df_team_goals.dtypes"
   ]
  },
  {
   "cell_type": "code",
   "execution_count": 9,
   "metadata": {},
   "outputs": [
    {
     "data": {
      "text/plain": [
       "str"
      ]
     },
     "execution_count": 9,
     "metadata": {},
     "output_type": "execute_result"
    }
   ],
   "source": [
    "# check the data type behind object dtype\n",
    "\n",
    "type(df_team_goals['season'][0])"
   ]
  },
  {
   "cell_type": "code",
   "execution_count": 10,
   "metadata": {},
   "outputs": [
    {
     "data": {
      "text/plain": [
       "(25979, 5)"
      ]
     },
     "execution_count": 10,
     "metadata": {},
     "output_type": "execute_result"
    }
   ],
   "source": [
    "# check how many rows and columns\n",
    "\n",
    "df_team_goals.shape"
   ]
  },
  {
   "cell_type": "code",
   "execution_count": 11,
   "metadata": {},
   "outputs": [
    {
     "data": {
      "text/plain": [
       "Index(['season', 'home_team', 'away_team', 'home_team_goal', 'away_team_goal'], dtype='object')"
      ]
     },
     "execution_count": 11,
     "metadata": {},
     "output_type": "execute_result"
    }
   ],
   "source": [
    "# check the columns name of data\n",
    "df_team_goals.columns"
   ]
  },
  {
   "cell_type": "code",
   "execution_count": 12,
   "metadata": {},
   "outputs": [
    {
     "name": "stdout",
     "output_type": "stream",
     "text": [
      "<class 'pandas.core.frame.DataFrame'>\n",
      "RangeIndex: 25979 entries, 0 to 25978\n",
      "Data columns (total 5 columns):\n",
      "season            25979 non-null object\n",
      "home_team         25979 non-null object\n",
      "away_team         25979 non-null object\n",
      "home_team_goal    25979 non-null int64\n",
      "away_team_goal    25979 non-null int64\n",
      "dtypes: int64(2), object(3)\n",
      "memory usage: 1014.9+ KB\n"
     ]
    }
   ],
   "source": [
    "# check the index dtype and column dtypes, non-null values and memory usage.\n",
    "# As seen from the printed result, there is no NULL values\n",
    "\n",
    "df_team_goals.info()"
   ]
  },
  {
   "cell_type": "code",
   "execution_count": 13,
   "metadata": {},
   "outputs": [
    {
     "data": {
      "text/plain": [
       "117"
      ]
     },
     "execution_count": 13,
     "metadata": {},
     "output_type": "execute_result"
    }
   ],
   "source": [
    "# check if there is some duplicated records\n",
    "# As seen from the result, there are 117 duplicated records we need to drop\n",
    "\n",
    "sum(df_team_goals.duplicated())\n"
   ]
  },
  {
   "cell_type": "code",
   "execution_count": 14,
   "metadata": {},
   "outputs": [],
   "source": [
    "# delete the duplicated records\n",
    "\n",
    "df_team_goals = df_team_goals.drop_duplicates(keep='first', inplace=False)"
   ]
  },
  {
   "cell_type": "code",
   "execution_count": 15,
   "metadata": {},
   "outputs": [
    {
     "data": {
      "text/plain": [
       "(25862, 5)"
      ]
     },
     "execution_count": 15,
     "metadata": {},
     "output_type": "execute_result"
    }
   ],
   "source": [
    "df_team_goals.shape"
   ]
  },
  {
   "cell_type": "markdown",
   "metadata": {},
   "source": [
    "How many unique teams?"
   ]
  },
  {
   "cell_type": "code",
   "execution_count": 16,
   "metadata": {},
   "outputs": [],
   "source": [
    "total_teams = set(df_team_goals['home_team'].append(df_team_goals['away_team']))"
   ]
  },
  {
   "cell_type": "code",
   "execution_count": 17,
   "metadata": {},
   "outputs": [
    {
     "data": {
      "text/plain": [
       "296"
      ]
     },
     "execution_count": 17,
     "metadata": {},
     "output_type": "execute_result"
    }
   ],
   "source": [
    "len(total_teams)"
   ]
  },
  {
   "cell_type": "markdown",
   "metadata": {},
   "source": [
    "<a id='eda'></a>\n",
    "## Exploratory Data Analysis\n",
    "\n",
    "> ### Question 1: What teams improved the most over the time period?"
   ]
  },
  {
   "cell_type": "markdown",
   "metadata": {},
   "source": [
    "##### split the dataframe into two individual dataframe : away team and goals, home team and goals"
   ]
  },
  {
   "cell_type": "code",
   "execution_count": 18,
   "metadata": {},
   "outputs": [
    {
     "data": {
      "text/html": [
       "<div>\n",
       "<style scoped>\n",
       "    .dataframe tbody tr th:only-of-type {\n",
       "        vertical-align: middle;\n",
       "    }\n",
       "\n",
       "    .dataframe tbody tr th {\n",
       "        vertical-align: top;\n",
       "    }\n",
       "\n",
       "    .dataframe thead th {\n",
       "        text-align: right;\n",
       "    }\n",
       "</style>\n",
       "<table border=\"1\" class=\"dataframe\">\n",
       "  <thead>\n",
       "    <tr style=\"text-align: right;\">\n",
       "      <th></th>\n",
       "      <th>season</th>\n",
       "      <th>home_team</th>\n",
       "      <th>home_team_goal</th>\n",
       "    </tr>\n",
       "  </thead>\n",
       "  <tbody>\n",
       "    <tr>\n",
       "      <th>0</th>\n",
       "      <td>2008/2009</td>\n",
       "      <td>BSC Young Boys</td>\n",
       "      <td>1</td>\n",
       "    </tr>\n",
       "    <tr>\n",
       "      <th>1</th>\n",
       "      <td>2008/2009</td>\n",
       "      <td>FC Aarau</td>\n",
       "      <td>3</td>\n",
       "    </tr>\n",
       "    <tr>\n",
       "      <th>2</th>\n",
       "      <td>2008/2009</td>\n",
       "      <td>FC Luzern</td>\n",
       "      <td>1</td>\n",
       "    </tr>\n",
       "    <tr>\n",
       "      <th>3</th>\n",
       "      <td>2008/2009</td>\n",
       "      <td>Neuchâtel Xamax</td>\n",
       "      <td>1</td>\n",
       "    </tr>\n",
       "    <tr>\n",
       "      <th>4</th>\n",
       "      <td>2008/2009</td>\n",
       "      <td>FC Basel</td>\n",
       "      <td>1</td>\n",
       "    </tr>\n",
       "  </tbody>\n",
       "</table>\n",
       "</div>"
      ],
      "text/plain": [
       "      season        home_team  home_team_goal\n",
       "0  2008/2009   BSC Young Boys               1\n",
       "1  2008/2009         FC Aarau               3\n",
       "2  2008/2009        FC Luzern               1\n",
       "3  2008/2009  Neuchâtel Xamax               1\n",
       "4  2008/2009         FC Basel               1"
      ]
     },
     "execution_count": 18,
     "metadata": {},
     "output_type": "execute_result"
    }
   ],
   "source": [
    "df_home_team_goals = df_team_goals[[ 'season', 'home_team', 'home_team_goal' ]]\n",
    "df_home_team_goals.head()"
   ]
  },
  {
   "cell_type": "code",
   "execution_count": 19,
   "metadata": {},
   "outputs": [
    {
     "data": {
      "text/html": [
       "<div>\n",
       "<style scoped>\n",
       "    .dataframe tbody tr th:only-of-type {\n",
       "        vertical-align: middle;\n",
       "    }\n",
       "\n",
       "    .dataframe tbody tr th {\n",
       "        vertical-align: top;\n",
       "    }\n",
       "\n",
       "    .dataframe thead th {\n",
       "        text-align: right;\n",
       "    }\n",
       "</style>\n",
       "<table border=\"1\" class=\"dataframe\">\n",
       "  <thead>\n",
       "    <tr style=\"text-align: right;\">\n",
       "      <th></th>\n",
       "      <th>season</th>\n",
       "      <th>away_team</th>\n",
       "      <th>away_team_goal</th>\n",
       "    </tr>\n",
       "  </thead>\n",
       "  <tbody>\n",
       "    <tr>\n",
       "      <th>0</th>\n",
       "      <td>2008/2009</td>\n",
       "      <td>FC Basel</td>\n",
       "      <td>2</td>\n",
       "    </tr>\n",
       "  </tbody>\n",
       "</table>\n",
       "</div>"
      ],
      "text/plain": [
       "      season away_team  away_team_goal\n",
       "0  2008/2009  FC Basel               2"
      ]
     },
     "execution_count": 19,
     "metadata": {},
     "output_type": "execute_result"
    }
   ],
   "source": [
    "df_away_team_goals = df_team_goals[[ 'season', 'away_team', 'away_team_goal']]\n",
    "df_away_team_goals.head(1)"
   ]
  },
  {
   "cell_type": "markdown",
   "metadata": {},
   "source": [
    "##### change the columns name of the two dataframe in oder to compute the total score later"
   ]
  },
  {
   "cell_type": "code",
   "execution_count": 20,
   "metadata": {},
   "outputs": [
    {
     "name": "stderr",
     "output_type": "stream",
     "text": [
      "d:\\Anaconda3\\envs\\evforpytorch\\lib\\site-packages\\pandas\\core\\frame.py:3781: SettingWithCopyWarning: \n",
      "A value is trying to be set on a copy of a slice from a DataFrame\n",
      "\n",
      "See the caveats in the documentation: http://pandas.pydata.org/pandas-docs/stable/indexing.html#indexing-view-versus-copy\n",
      "  return super(DataFrame, self).rename(**kwargs)\n"
     ]
    }
   ],
   "source": [
    "df_away_team_goals.rename(columns={'away_team':'team_name','away_team_goal': 'goal'},inplace=True)\n",
    "df_home_team_goals.rename(columns={'home_team':'team_name','home_team_goal': 'goal'},inplace=True)"
   ]
  },
  {
   "cell_type": "code",
   "execution_count": 21,
   "metadata": {},
   "outputs": [
    {
     "data": {
      "text/html": [
       "<div>\n",
       "<style scoped>\n",
       "    .dataframe tbody tr th:only-of-type {\n",
       "        vertical-align: middle;\n",
       "    }\n",
       "\n",
       "    .dataframe tbody tr th {\n",
       "        vertical-align: top;\n",
       "    }\n",
       "\n",
       "    .dataframe thead th {\n",
       "        text-align: right;\n",
       "    }\n",
       "</style>\n",
       "<table border=\"1\" class=\"dataframe\">\n",
       "  <thead>\n",
       "    <tr style=\"text-align: right;\">\n",
       "      <th></th>\n",
       "      <th>season</th>\n",
       "      <th>team_name</th>\n",
       "      <th>goal</th>\n",
       "    </tr>\n",
       "  </thead>\n",
       "  <tbody>\n",
       "    <tr>\n",
       "      <th>0</th>\n",
       "      <td>2008/2009</td>\n",
       "      <td>FC Basel</td>\n",
       "      <td>2</td>\n",
       "    </tr>\n",
       "  </tbody>\n",
       "</table>\n",
       "</div>"
      ],
      "text/plain": [
       "      season team_name  goal\n",
       "0  2008/2009  FC Basel     2"
      ]
     },
     "execution_count": 21,
     "metadata": {},
     "output_type": "execute_result"
    }
   ],
   "source": [
    "df_away_team_goals.head(1)"
   ]
  },
  {
   "cell_type": "code",
   "execution_count": 22,
   "metadata": {},
   "outputs": [
    {
     "data": {
      "text/html": [
       "<div>\n",
       "<style scoped>\n",
       "    .dataframe tbody tr th:only-of-type {\n",
       "        vertical-align: middle;\n",
       "    }\n",
       "\n",
       "    .dataframe tbody tr th {\n",
       "        vertical-align: top;\n",
       "    }\n",
       "\n",
       "    .dataframe thead th {\n",
       "        text-align: right;\n",
       "    }\n",
       "</style>\n",
       "<table border=\"1\" class=\"dataframe\">\n",
       "  <thead>\n",
       "    <tr style=\"text-align: right;\">\n",
       "      <th></th>\n",
       "      <th>season</th>\n",
       "      <th>team_name</th>\n",
       "      <th>goal</th>\n",
       "    </tr>\n",
       "  </thead>\n",
       "  <tbody>\n",
       "    <tr>\n",
       "      <th>25975</th>\n",
       "      <td>2015/2016</td>\n",
       "      <td>Lugano</td>\n",
       "      <td>3</td>\n",
       "    </tr>\n",
       "    <tr>\n",
       "      <th>25977</th>\n",
       "      <td>2015/2016</td>\n",
       "      <td>FC Thun</td>\n",
       "      <td>0</td>\n",
       "    </tr>\n",
       "    <tr>\n",
       "      <th>25978</th>\n",
       "      <td>2015/2016</td>\n",
       "      <td>FC Zürich</td>\n",
       "      <td>3</td>\n",
       "    </tr>\n",
       "  </tbody>\n",
       "</table>\n",
       "</div>"
      ],
      "text/plain": [
       "          season  team_name  goal\n",
       "25975  2015/2016     Lugano     3\n",
       "25977  2015/2016    FC Thun     0\n",
       "25978  2015/2016  FC Zürich     3"
      ]
     },
     "execution_count": 22,
     "metadata": {},
     "output_type": "execute_result"
    }
   ],
   "source": [
    "df_home_team_goals.tail(3)"
   ]
  },
  {
   "cell_type": "markdown",
   "metadata": {},
   "source": [
    "Check out how many teams in home team dataframe and away team dataframe"
   ]
  },
  {
   "cell_type": "code",
   "execution_count": 23,
   "metadata": {},
   "outputs": [
    {
     "data": {
      "text/plain": [
       "296"
      ]
     },
     "execution_count": 23,
     "metadata": {},
     "output_type": "execute_result"
    }
   ],
   "source": [
    "df_home_team_goals['team_name'].nunique()"
   ]
  },
  {
   "cell_type": "code",
   "execution_count": 24,
   "metadata": {},
   "outputs": [
    {
     "data": {
      "text/plain": [
       "296"
      ]
     },
     "execution_count": 24,
     "metadata": {},
     "output_type": "execute_result"
    }
   ],
   "source": [
    "df_away_team_goals['team_name'].nunique()"
   ]
  },
  {
   "cell_type": "markdown",
   "metadata": {},
   "source": [
    "Check the number of records of the two dataframe are equal."
   ]
  },
  {
   "cell_type": "code",
   "execution_count": 25,
   "metadata": {},
   "outputs": [],
   "source": [
    "assert(df_home_team_goals.shape[0] == df_away_team_goals.shape[0])"
   ]
  },
  {
   "cell_type": "markdown",
   "metadata": {},
   "source": [
    "?: how many seasons are there in dataset?"
   ]
  },
  {
   "cell_type": "code",
   "execution_count": 26,
   "metadata": {},
   "outputs": [
    {
     "data": {
      "text/plain": [
       "8"
      ]
     },
     "execution_count": 26,
     "metadata": {},
     "output_type": "execute_result"
    }
   ],
   "source": [
    "df_away_team_goals['season'].nunique()"
   ]
  },
  {
   "cell_type": "markdown",
   "metadata": {},
   "source": [
    "The time period of the seasons"
   ]
  },
  {
   "cell_type": "code",
   "execution_count": 27,
   "metadata": {},
   "outputs": [],
   "source": [
    "seasons = df_away_team_goals['season'].unique()"
   ]
  },
  {
   "cell_type": "code",
   "execution_count": 28,
   "metadata": {},
   "outputs": [
    {
     "data": {
      "text/plain": [
       "array(['2008/2009', '2009/2010', '2010/2011', '2011/2012', '2012/2013',\n",
       "       '2013/2014', '2014/2015', '2015/2016'], dtype=object)"
      ]
     },
     "execution_count": 28,
     "metadata": {},
     "output_type": "execute_result"
    }
   ],
   "source": [
    "seasons"
   ]
  },
  {
   "cell_type": "markdown",
   "metadata": {},
   "source": [
    "#### Splite data by seasons "
   ]
  },
  {
   "cell_type": "code",
   "execution_count": 29,
   "metadata": {},
   "outputs": [],
   "source": [
    "# Function for getting team goal by season, sum the goals by team\n",
    "# input : dataframe\n",
    "# output: data by season\n",
    "\n",
    "def get_season_goal(df):\n",
    "    df_seasons_goals = []\n",
    "    for season_goal in df['season'].unique():\n",
    "#     print(season_goal)\n",
    "        df_season_goal = df.query('season==@season_goal')[['team_name','goal']]\n",
    "        df_season_goal = df_season_goal.groupby('team_name').sum()\n",
    "    \n",
    "        df_seasons_goals.append(df_season_goal)\n",
    "    return df_seasons_goals"
   ]
  },
  {
   "cell_type": "code",
   "execution_count": 30,
   "metadata": {},
   "outputs": [
    {
     "data": {
      "text/html": [
       "<div>\n",
       "<style scoped>\n",
       "    .dataframe tbody tr th:only-of-type {\n",
       "        vertical-align: middle;\n",
       "    }\n",
       "\n",
       "    .dataframe tbody tr th {\n",
       "        vertical-align: top;\n",
       "    }\n",
       "\n",
       "    .dataframe thead th {\n",
       "        text-align: right;\n",
       "    }\n",
       "</style>\n",
       "<table border=\"1\" class=\"dataframe\">\n",
       "  <thead>\n",
       "    <tr style=\"text-align: right;\">\n",
       "      <th></th>\n",
       "      <th>goal</th>\n",
       "    </tr>\n",
       "    <tr>\n",
       "      <th>team_name</th>\n",
       "      <th></th>\n",
       "    </tr>\n",
       "  </thead>\n",
       "  <tbody>\n",
       "    <tr>\n",
       "      <th>1. FC Köln</th>\n",
       "      <td>14</td>\n",
       "    </tr>\n",
       "    <tr>\n",
       "      <th>AC Bellinzona</th>\n",
       "      <td>29</td>\n",
       "    </tr>\n",
       "    <tr>\n",
       "      <th>ADO Den Haag</th>\n",
       "      <td>21</td>\n",
       "    </tr>\n",
       "    <tr>\n",
       "      <th>AJ Auxerre</th>\n",
       "      <td>18</td>\n",
       "    </tr>\n",
       "    <tr>\n",
       "      <th>AS Monaco</th>\n",
       "      <td>26</td>\n",
       "    </tr>\n",
       "  </tbody>\n",
       "</table>\n",
       "</div>"
      ],
      "text/plain": [
       "               goal\n",
       "team_name          \n",
       "1. FC Köln       14\n",
       "AC Bellinzona    29\n",
       "ADO Den Haag     21\n",
       "AJ Auxerre       18\n",
       "AS Monaco        26"
      ]
     },
     "execution_count": 30,
     "metadata": {},
     "output_type": "execute_result"
    }
   ],
   "source": [
    "df_hometeam_seasons_goals = get_season_goal(df_home_team_goals)\n",
    "df_hometeam_seasons_goals[0].head()"
   ]
  },
  {
   "cell_type": "code",
   "execution_count": 31,
   "metadata": {},
   "outputs": [
    {
     "data": {
      "text/html": [
       "<div>\n",
       "<style scoped>\n",
       "    .dataframe tbody tr th:only-of-type {\n",
       "        vertical-align: middle;\n",
       "    }\n",
       "\n",
       "    .dataframe tbody tr th {\n",
       "        vertical-align: top;\n",
       "    }\n",
       "\n",
       "    .dataframe thead th {\n",
       "        text-align: right;\n",
       "    }\n",
       "</style>\n",
       "<table border=\"1\" class=\"dataframe\">\n",
       "  <thead>\n",
       "    <tr style=\"text-align: right;\">\n",
       "      <th></th>\n",
       "      <th>goal</th>\n",
       "    </tr>\n",
       "    <tr>\n",
       "      <th>team_name</th>\n",
       "      <th></th>\n",
       "    </tr>\n",
       "  </thead>\n",
       "  <tbody>\n",
       "    <tr>\n",
       "      <th>1. FC Köln</th>\n",
       "      <td>21</td>\n",
       "    </tr>\n",
       "    <tr>\n",
       "      <th>AC Bellinzona</th>\n",
       "      <td>15</td>\n",
       "    </tr>\n",
       "    <tr>\n",
       "      <th>ADO Den Haag</th>\n",
       "      <td>20</td>\n",
       "    </tr>\n",
       "    <tr>\n",
       "      <th>AJ Auxerre</th>\n",
       "      <td>17</td>\n",
       "    </tr>\n",
       "    <tr>\n",
       "      <th>AS Monaco</th>\n",
       "      <td>15</td>\n",
       "    </tr>\n",
       "  </tbody>\n",
       "</table>\n",
       "</div>"
      ],
      "text/plain": [
       "               goal\n",
       "team_name          \n",
       "1. FC Köln       21\n",
       "AC Bellinzona    15\n",
       "ADO Den Haag     20\n",
       "AJ Auxerre       17\n",
       "AS Monaco        15"
      ]
     },
     "execution_count": 31,
     "metadata": {},
     "output_type": "execute_result"
    }
   ],
   "source": [
    "df_awayteam_seasons_goals = get_season_goal(df_away_team_goals)\n",
    "df_awayteam_seasons_goals[0].head()"
   ]
  },
  {
   "cell_type": "markdown",
   "metadata": {},
   "source": [
    "##### sum of goals by team, whatever the team is home team or away team, sum of their goals by season"
   ]
  },
  {
   "cell_type": "code",
   "execution_count": 32,
   "metadata": {},
   "outputs": [],
   "source": [
    "# combine the two dataframe by team\n",
    "# input: df1, df2 \n",
    "# output: new dataframe\n",
    "\n",
    "def get_season_team_goals(df1, df2):\n",
    "    df_season_team_goals = []\n",
    "    for i in range(len(df1)):\n",
    "        df_season_team_goals.append(df1[i].append(df2[i],sort=False))\n",
    "        \n",
    "    \n",
    "    return df_season_team_goals"
   ]
  },
  {
   "cell_type": "code",
   "execution_count": 33,
   "metadata": {},
   "outputs": [],
   "source": [
    "df_season_goal = get_season_team_goals(df_awayteam_seasons_goals, df_hometeam_seasons_goals)"
   ]
  },
  {
   "cell_type": "code",
   "execution_count": 34,
   "metadata": {},
   "outputs": [
    {
     "data": {
      "text/html": [
       "<div>\n",
       "<style scoped>\n",
       "    .dataframe tbody tr th:only-of-type {\n",
       "        vertical-align: middle;\n",
       "    }\n",
       "\n",
       "    .dataframe tbody tr th {\n",
       "        vertical-align: top;\n",
       "    }\n",
       "\n",
       "    .dataframe thead th {\n",
       "        text-align: right;\n",
       "    }\n",
       "</style>\n",
       "<table border=\"1\" class=\"dataframe\">\n",
       "  <thead>\n",
       "    <tr style=\"text-align: right;\">\n",
       "      <th></th>\n",
       "      <th>goal</th>\n",
       "    </tr>\n",
       "    <tr>\n",
       "      <th>team_name</th>\n",
       "      <th></th>\n",
       "    </tr>\n",
       "  </thead>\n",
       "  <tbody>\n",
       "    <tr>\n",
       "      <th>1. FC Kaiserslautern</th>\n",
       "      <td>12</td>\n",
       "    </tr>\n",
       "    <tr>\n",
       "      <th>1. FC Köln</th>\n",
       "      <td>19</td>\n",
       "    </tr>\n",
       "    <tr>\n",
       "      <th>1. FC Nürnberg</th>\n",
       "      <td>16</td>\n",
       "    </tr>\n",
       "    <tr>\n",
       "      <th>1. FSV Mainz 05</th>\n",
       "      <td>20</td>\n",
       "    </tr>\n",
       "    <tr>\n",
       "      <th>AC Ajaccio</th>\n",
       "      <td>18</td>\n",
       "    </tr>\n",
       "  </tbody>\n",
       "</table>\n",
       "</div>"
      ],
      "text/plain": [
       "                      goal\n",
       "team_name                 \n",
       "1. FC Kaiserslautern    12\n",
       "1. FC Köln              19\n",
       "1. FC Nürnberg          16\n",
       "1. FSV Mainz 05         20\n",
       "AC Ajaccio              18"
      ]
     },
     "execution_count": 34,
     "metadata": {},
     "output_type": "execute_result"
    }
   ],
   "source": [
    "df_season_goal[3].head()"
   ]
  },
  {
   "cell_type": "markdown",
   "metadata": {},
   "source": [
    "check the dataframe if there are two teams in the new dataframe"
   ]
  },
  {
   "cell_type": "code",
   "execution_count": 35,
   "metadata": {},
   "outputs": [
    {
     "data": {
      "text/html": [
       "<div>\n",
       "<style scoped>\n",
       "    .dataframe tbody tr th:only-of-type {\n",
       "        vertical-align: middle;\n",
       "    }\n",
       "\n",
       "    .dataframe tbody tr th {\n",
       "        vertical-align: top;\n",
       "    }\n",
       "\n",
       "    .dataframe thead th {\n",
       "        text-align: right;\n",
       "    }\n",
       "</style>\n",
       "<table border=\"1\" class=\"dataframe\">\n",
       "  <thead>\n",
       "    <tr style=\"text-align: right;\">\n",
       "      <th></th>\n",
       "      <th>goal</th>\n",
       "    </tr>\n",
       "    <tr>\n",
       "      <th>team_name</th>\n",
       "      <th></th>\n",
       "    </tr>\n",
       "  </thead>\n",
       "  <tbody>\n",
       "    <tr>\n",
       "      <th>AC Ajaccio</th>\n",
       "      <td>18</td>\n",
       "    </tr>\n",
       "    <tr>\n",
       "      <th>AC Ajaccio</th>\n",
       "      <td>22</td>\n",
       "    </tr>\n",
       "  </tbody>\n",
       "</table>\n",
       "</div>"
      ],
      "text/plain": [
       "            goal\n",
       "team_name       \n",
       "AC Ajaccio    18\n",
       "AC Ajaccio    22"
      ]
     },
     "execution_count": 35,
     "metadata": {},
     "output_type": "execute_result"
    }
   ],
   "source": [
    "df_season_goal[3].query('team_name==\"AC Ajaccio\"')"
   ]
  },
  {
   "cell_type": "code",
   "execution_count": 36,
   "metadata": {},
   "outputs": [],
   "source": [
    "# sum the goals by team\n",
    "def sum_goals_by_team(df):\n",
    "    for i in range(len(df)):\n",
    "        df[i] = df[i].groupby('team_name').sum()\n",
    "    return df"
   ]
  },
  {
   "cell_type": "code",
   "execution_count": 37,
   "metadata": {},
   "outputs": [],
   "source": [
    "df_season_total_goals = sum_goals_by_team(df_season_goal)\n"
   ]
  },
  {
   "cell_type": "markdown",
   "metadata": {},
   "source": [
    "Check if the sum of goals is right or wrong"
   ]
  },
  {
   "cell_type": "code",
   "execution_count": 38,
   "metadata": {},
   "outputs": [],
   "source": [
    "assert(df_season_goal[3].query('team_name==\"AC Ajaccio\"').goal[0] == 40)"
   ]
  },
  {
   "cell_type": "code",
   "execution_count": 39,
   "metadata": {},
   "outputs": [
    {
     "data": {
      "text/html": [
       "<div>\n",
       "<style scoped>\n",
       "    .dataframe tbody tr th:only-of-type {\n",
       "        vertical-align: middle;\n",
       "    }\n",
       "\n",
       "    .dataframe tbody tr th {\n",
       "        vertical-align: top;\n",
       "    }\n",
       "\n",
       "    .dataframe thead th {\n",
       "        text-align: right;\n",
       "    }\n",
       "</style>\n",
       "<table border=\"1\" class=\"dataframe\">\n",
       "  <thead>\n",
       "    <tr style=\"text-align: right;\">\n",
       "      <th></th>\n",
       "      <th>goal</th>\n",
       "    </tr>\n",
       "    <tr>\n",
       "      <th>team_name</th>\n",
       "      <th></th>\n",
       "    </tr>\n",
       "  </thead>\n",
       "  <tbody>\n",
       "    <tr>\n",
       "      <th>FC Barcelona</th>\n",
       "      <td>105</td>\n",
       "    </tr>\n",
       "    <tr>\n",
       "      <th>Real Madrid CF</th>\n",
       "      <td>83</td>\n",
       "    </tr>\n",
       "    <tr>\n",
       "      <th>Atlético Madrid</th>\n",
       "      <td>80</td>\n",
       "    </tr>\n",
       "    <tr>\n",
       "      <th>VfL Wolfsburg</th>\n",
       "      <td>80</td>\n",
       "    </tr>\n",
       "    <tr>\n",
       "      <th>BSC Young Boys</th>\n",
       "      <td>79</td>\n",
       "    </tr>\n",
       "  </tbody>\n",
       "</table>\n",
       "</div>"
      ],
      "text/plain": [
       "                 goal\n",
       "team_name            \n",
       "FC Barcelona      105\n",
       "Real Madrid CF     83\n",
       "Atlético Madrid    80\n",
       "VfL Wolfsburg      80\n",
       "BSC Young Boys     79"
      ]
     },
     "execution_count": 39,
     "metadata": {},
     "output_type": "execute_result"
    }
   ],
   "source": [
    "df_season_total_goals[0].sort_values(by='goal',ascending=False).head()"
   ]
  },
  {
   "cell_type": "code",
   "execution_count": 40,
   "metadata": {},
   "outputs": [
    {
     "data": {
      "text/html": [
       "<div>\n",
       "<style scoped>\n",
       "    .dataframe tbody tr th:only-of-type {\n",
       "        vertical-align: middle;\n",
       "    }\n",
       "\n",
       "    .dataframe tbody tr th {\n",
       "        vertical-align: top;\n",
       "    }\n",
       "\n",
       "    .dataframe thead th {\n",
       "        text-align: right;\n",
       "    }\n",
       "</style>\n",
       "<table border=\"1\" class=\"dataframe\">\n",
       "  <thead>\n",
       "    <tr style=\"text-align: right;\">\n",
       "      <th></th>\n",
       "      <th>goal</th>\n",
       "    </tr>\n",
       "    <tr>\n",
       "      <th>team_name</th>\n",
       "      <th></th>\n",
       "    </tr>\n",
       "  </thead>\n",
       "  <tbody>\n",
       "    <tr>\n",
       "      <th>FC Barcelona</th>\n",
       "      <td>112</td>\n",
       "    </tr>\n",
       "    <tr>\n",
       "      <th>Real Madrid CF</th>\n",
       "      <td>110</td>\n",
       "    </tr>\n",
       "    <tr>\n",
       "      <th>Paris Saint-Germain</th>\n",
       "      <td>102</td>\n",
       "    </tr>\n",
       "    <tr>\n",
       "      <th>PSV</th>\n",
       "      <td>88</td>\n",
       "    </tr>\n",
       "    <tr>\n",
       "      <th>SL Benfica</th>\n",
       "      <td>88</td>\n",
       "    </tr>\n",
       "  </tbody>\n",
       "</table>\n",
       "</div>"
      ],
      "text/plain": [
       "                     goal\n",
       "team_name                \n",
       "FC Barcelona          112\n",
       "Real Madrid CF        110\n",
       "Paris Saint-Germain   102\n",
       "PSV                    88\n",
       "SL Benfica             88"
      ]
     },
     "execution_count": 40,
     "metadata": {},
     "output_type": "execute_result"
    }
   ],
   "source": [
    "df_season_total_goals[7].sort_values(by='goal',ascending=False).head()"
   ]
  },
  {
   "cell_type": "markdown",
   "metadata": {},
   "source": [
    "In order to check if the team improved, we should know if the team attended the two seasons. "
   ]
  },
  {
   "cell_type": "code",
   "execution_count": 41,
   "metadata": {},
   "outputs": [
    {
     "data": {
      "text/plain": [
       "False"
      ]
     },
     "execution_count": 41,
     "metadata": {},
     "output_type": "execute_result"
    }
   ],
   "source": [
    "df_season_total_goals[0].equals(df_season_total_goals[1])"
   ]
  },
  {
   "cell_type": "markdown",
   "metadata": {},
   "source": [
    "Did all the teams attend all the two seasons?"
   ]
  },
  {
   "cell_type": "code",
   "execution_count": 42,
   "metadata": {},
   "outputs": [
    {
     "name": "stdout",
     "output_type": "stream",
     "text": [
      "There are 187 teams attended the season 1 match.\n",
      "----------------------------------------------\n",
      "There are 185 teams attended the season 2 match.\n",
      "----------------------------------------------\n",
      "There are 185 teams attended the season 3 match.\n",
      "----------------------------------------------\n",
      "There are 185 teams attended the season 4 match.\n",
      "----------------------------------------------\n",
      "There are 186 teams attended the season 5 match.\n",
      "----------------------------------------------\n",
      "There are 174 teams attended the season 6 match.\n",
      "----------------------------------------------\n",
      "There are 188 teams attended the season 7 match.\n",
      "----------------------------------------------\n",
      "There are 188 teams attended the season 8 match.\n",
      "----------------------------------------------\n"
     ]
    }
   ],
   "source": [
    "# reset index for the dataset\n",
    "for i in range(8):\n",
    "    print('There are %d teams attended the season %d match.'%(df_season_total_goals[i].shape[0], i+1 ))\n",
    "    print('----------------------------------------------')\n",
    "    \n",
    "    df_season_total_goals[i].reset_index(level=0, inplace=True)\n",
    "#     print(df_season_total_goals[i].head(1))\n",
    "    "
   ]
  },
  {
   "cell_type": "markdown",
   "metadata": {},
   "source": [
    "From above results we can see, not all the teams attended all the seasons. So we need to find out which teams attend both the seasons, Thus we can compute the difference between the two adjancent seasons by team. "
   ]
  },
  {
   "cell_type": "markdown",
   "metadata": {},
   "source": [
    "Computer the teams improvement"
   ]
  },
  {
   "cell_type": "code",
   "execution_count": 43,
   "metadata": {},
   "outputs": [],
   "source": [
    "df_season_improve = []\n",
    "for i in range(7):\n",
    "\n",
    "    teams_in_two_seasons = set(df_season_total_goals[i].team_name).intersection(set(df_season_total_goals[i+1].team_name))\n",
    "\n",
    "    df_season_former = df_season_total_goals[i][df_season_total_goals[i].team_name.isin(teams_in_two_seasons)]\n",
    "    df_season_later = df_season_total_goals[i+1][df_season_total_goals[i+1].team_name.isin(teams_in_two_seasons)]\n",
    "\n",
    "    df_season_former.reset_index(level=0, inplace=True)\n",
    "    df_season_later.reset_index(level=0, inplace=True)\n",
    "    \n",
    "    df = pd.merge(df_season_former,df_season_later, on=['team_name'])\n",
    "\n",
    "    df_improvement = df_season_later['goal']- df_season_former['goal']\n",
    "    df['improvement'] = df_season_later['goal']- df_season_former['goal']\n",
    "    df['former_season'] = seasons[i]\n",
    "    df['later_season'] = seasons[i+1]\n",
    "    df.drop(['index_x','index_y'], axis=1,inplace=True)\n",
    "    \n",
    "    df_season_improve.append(df)"
   ]
  },
  {
   "cell_type": "code",
   "execution_count": 44,
   "metadata": {},
   "outputs": [],
   "source": [
    "# df_season_improve"
   ]
  },
  {
   "cell_type": "code",
   "execution_count": 45,
   "metadata": {},
   "outputs": [],
   "source": [
    "for i in range(7):\n",
    "    df_season_improve[i] = df_season_improve[i].sort_values(by='improvement', ascending=False)\n",
    "    df_season_improve[i].rename(columns={'goal_x':'goals_former_season','goal_y':'goals_later_season'},inplace=True)\n",
    "#     print(df_season_improve[i].head(3))\n"
   ]
  },
  {
   "cell_type": "code",
   "execution_count": 46,
   "metadata": {},
   "outputs": [
    {
     "data": {
      "text/html": [
       "<div>\n",
       "<style scoped>\n",
       "    .dataframe tbody tr th:only-of-type {\n",
       "        vertical-align: middle;\n",
       "    }\n",
       "\n",
       "    .dataframe tbody tr th {\n",
       "        vertical-align: top;\n",
       "    }\n",
       "\n",
       "    .dataframe thead th {\n",
       "        text-align: right;\n",
       "    }\n",
       "</style>\n",
       "<table border=\"1\" class=\"dataframe\">\n",
       "  <thead>\n",
       "    <tr style=\"text-align: right;\">\n",
       "      <th></th>\n",
       "      <th>team_name</th>\n",
       "      <th>goals_former_season</th>\n",
       "      <th>goals_later_season</th>\n",
       "      <th>improvement</th>\n",
       "      <th>former_season</th>\n",
       "      <th>later_season</th>\n",
       "    </tr>\n",
       "  </thead>\n",
       "  <tbody>\n",
       "    <tr>\n",
       "      <th>32</th>\n",
       "      <td>Chelsea</td>\n",
       "      <td>68</td>\n",
       "      <td>103</td>\n",
       "      <td>35</td>\n",
       "      <td>2008/2009</td>\n",
       "      <td>2009/2010</td>\n",
       "    </tr>\n",
       "    <tr>\n",
       "      <th>10</th>\n",
       "      <td>Ajax</td>\n",
       "      <td>74</td>\n",
       "      <td>106</td>\n",
       "      <td>32</td>\n",
       "      <td>2008/2009</td>\n",
       "      <td>2009/2010</td>\n",
       "    </tr>\n",
       "    <tr>\n",
       "      <th>127</th>\n",
       "      <td>SL Benfica</td>\n",
       "      <td>54</td>\n",
       "      <td>78</td>\n",
       "      <td>24</td>\n",
       "      <td>2008/2009</td>\n",
       "      <td>2009/2010</td>\n",
       "    </tr>\n",
       "    <tr>\n",
       "      <th>143</th>\n",
       "      <td>Tottenham Hotspur</td>\n",
       "      <td>45</td>\n",
       "      <td>67</td>\n",
       "      <td>22</td>\n",
       "      <td>2008/2009</td>\n",
       "      <td>2009/2010</td>\n",
       "    </tr>\n",
       "    <tr>\n",
       "      <th>41</th>\n",
       "      <td>FC Basel</td>\n",
       "      <td>67</td>\n",
       "      <td>88</td>\n",
       "      <td>21</td>\n",
       "      <td>2008/2009</td>\n",
       "      <td>2009/2010</td>\n",
       "    </tr>\n",
       "  </tbody>\n",
       "</table>\n",
       "</div>"
      ],
      "text/plain": [
       "             team_name  goals_former_season  goals_later_season  improvement  \\\n",
       "32             Chelsea                   68                 103           35   \n",
       "10                Ajax                   74                 106           32   \n",
       "127         SL Benfica                   54                  78           24   \n",
       "143  Tottenham Hotspur                   45                  67           22   \n",
       "41            FC Basel                   67                  88           21   \n",
       "\n",
       "    former_season later_season  \n",
       "32      2008/2009    2009/2010  \n",
       "10      2008/2009    2009/2010  \n",
       "127     2008/2009    2009/2010  \n",
       "143     2008/2009    2009/2010  \n",
       "41      2008/2009    2009/2010  "
      ]
     },
     "execution_count": 46,
     "metadata": {},
     "output_type": "execute_result"
    }
   ],
   "source": [
    "df_season_improve[0].head()"
   ]
  },
  {
   "cell_type": "code",
   "execution_count": 47,
   "metadata": {},
   "outputs": [
    {
     "data": {
      "text/html": [
       "<div>\n",
       "<style scoped>\n",
       "    .dataframe tbody tr th:only-of-type {\n",
       "        vertical-align: middle;\n",
       "    }\n",
       "\n",
       "    .dataframe tbody tr th {\n",
       "        vertical-align: top;\n",
       "    }\n",
       "\n",
       "    .dataframe thead th {\n",
       "        text-align: right;\n",
       "    }\n",
       "</style>\n",
       "<table border=\"1\" class=\"dataframe\">\n",
       "  <thead>\n",
       "    <tr style=\"text-align: right;\">\n",
       "      <th></th>\n",
       "      <th>team_name</th>\n",
       "      <th>goals_former_season</th>\n",
       "      <th>goals_later_season</th>\n",
       "      <th>improvement</th>\n",
       "      <th>former_season</th>\n",
       "      <th>later_season</th>\n",
       "    </tr>\n",
       "  </thead>\n",
       "  <tbody>\n",
       "    <tr>\n",
       "      <th>106</th>\n",
       "      <td>Polonia Bytom</td>\n",
       "      <td>29</td>\n",
       "      <td>64</td>\n",
       "      <td>35</td>\n",
       "      <td>2009/2010</td>\n",
       "      <td>2010/2011</td>\n",
       "    </tr>\n",
       "    <tr>\n",
       "      <th>51</th>\n",
       "      <td>FC Sochaux-Montbéliard</td>\n",
       "      <td>28</td>\n",
       "      <td>60</td>\n",
       "      <td>32</td>\n",
       "      <td>2009/2010</td>\n",
       "      <td>2010/2011</td>\n",
       "    </tr>\n",
       "    <tr>\n",
       "      <th>74</th>\n",
       "      <td>KRC Genk</td>\n",
       "      <td>33</td>\n",
       "      <td>64</td>\n",
       "      <td>31</td>\n",
       "      <td>2009/2010</td>\n",
       "      <td>2010/2011</td>\n",
       "    </tr>\n",
       "    <tr>\n",
       "      <th>4</th>\n",
       "      <td>ADO Den Haag</td>\n",
       "      <td>38</td>\n",
       "      <td>63</td>\n",
       "      <td>25</td>\n",
       "      <td>2009/2010</td>\n",
       "      <td>2010/2011</td>\n",
       "    </tr>\n",
       "    <tr>\n",
       "      <th>79</th>\n",
       "      <td>Kilmarnock</td>\n",
       "      <td>29</td>\n",
       "      <td>51</td>\n",
       "      <td>22</td>\n",
       "      <td>2009/2010</td>\n",
       "      <td>2010/2011</td>\n",
       "    </tr>\n",
       "  </tbody>\n",
       "</table>\n",
       "</div>"
      ],
      "text/plain": [
       "                  team_name  goals_former_season  goals_later_season  \\\n",
       "106           Polonia Bytom                   29                  64   \n",
       "51   FC Sochaux-Montbéliard                   28                  60   \n",
       "74                 KRC Genk                   33                  64   \n",
       "4              ADO Den Haag                   38                  63   \n",
       "79               Kilmarnock                   29                  51   \n",
       "\n",
       "     improvement former_season later_season  \n",
       "106           35     2009/2010    2010/2011  \n",
       "51            32     2009/2010    2010/2011  \n",
       "74            31     2009/2010    2010/2011  \n",
       "4             25     2009/2010    2010/2011  \n",
       "79            22     2009/2010    2010/2011  "
      ]
     },
     "execution_count": 47,
     "metadata": {},
     "output_type": "execute_result"
    }
   ],
   "source": [
    "df_season_improve[1].head()"
   ]
  },
  {
   "cell_type": "code",
   "execution_count": 48,
   "metadata": {},
   "outputs": [
    {
     "data": {
      "text/html": [
       "<div>\n",
       "<style scoped>\n",
       "    .dataframe tbody tr th:only-of-type {\n",
       "        vertical-align: middle;\n",
       "    }\n",
       "\n",
       "    .dataframe tbody tr th {\n",
       "        vertical-align: top;\n",
       "    }\n",
       "\n",
       "    .dataframe thead th {\n",
       "        text-align: right;\n",
       "    }\n",
       "</style>\n",
       "<table border=\"1\" class=\"dataframe\">\n",
       "  <thead>\n",
       "    <tr style=\"text-align: right;\">\n",
       "      <th></th>\n",
       "      <th>team_name</th>\n",
       "      <th>goals_former_season</th>\n",
       "      <th>goals_later_season</th>\n",
       "      <th>improvement</th>\n",
       "      <th>former_season</th>\n",
       "      <th>later_season</th>\n",
       "    </tr>\n",
       "  </thead>\n",
       "  <tbody>\n",
       "    <tr>\n",
       "      <th>91</th>\n",
       "      <td>Montpellier Hérault SC</td>\n",
       "      <td>32</td>\n",
       "      <td>68</td>\n",
       "      <td>36</td>\n",
       "      <td>2010/2011</td>\n",
       "      <td>2011/2012</td>\n",
       "    </tr>\n",
       "    <tr>\n",
       "      <th>47</th>\n",
       "      <td>FC Schalke 04</td>\n",
       "      <td>38</td>\n",
       "      <td>74</td>\n",
       "      <td>36</td>\n",
       "      <td>2010/2011</td>\n",
       "      <td>2011/2012</td>\n",
       "    </tr>\n",
       "    <tr>\n",
       "      <th>88</th>\n",
       "      <td>Manchester City</td>\n",
       "      <td>60</td>\n",
       "      <td>93</td>\n",
       "      <td>33</td>\n",
       "      <td>2010/2011</td>\n",
       "      <td>2011/2012</td>\n",
       "    </tr>\n",
       "    <tr>\n",
       "      <th>11</th>\n",
       "      <td>Ajax</td>\n",
       "      <td>72</td>\n",
       "      <td>93</td>\n",
       "      <td>21</td>\n",
       "      <td>2010/2011</td>\n",
       "      <td>2011/2012</td>\n",
       "    </tr>\n",
       "    <tr>\n",
       "      <th>18</th>\n",
       "      <td>Beerschot AC</td>\n",
       "      <td>24</td>\n",
       "      <td>45</td>\n",
       "      <td>21</td>\n",
       "      <td>2010/2011</td>\n",
       "      <td>2011/2012</td>\n",
       "    </tr>\n",
       "  </tbody>\n",
       "</table>\n",
       "</div>"
      ],
      "text/plain": [
       "                 team_name  goals_former_season  goals_later_season  \\\n",
       "91  Montpellier Hérault SC                   32                  68   \n",
       "47           FC Schalke 04                   38                  74   \n",
       "88         Manchester City                   60                  93   \n",
       "11                    Ajax                   72                  93   \n",
       "18            Beerschot AC                   24                  45   \n",
       "\n",
       "    improvement former_season later_season  \n",
       "91           36     2010/2011    2011/2012  \n",
       "47           36     2010/2011    2011/2012  \n",
       "88           33     2010/2011    2011/2012  \n",
       "11           21     2010/2011    2011/2012  \n",
       "18           21     2010/2011    2011/2012  "
      ]
     },
     "execution_count": 48,
     "metadata": {},
     "output_type": "execute_result"
    }
   ],
   "source": [
    "df_season_improve[2].head()"
   ]
  },
  {
   "cell_type": "code",
   "execution_count": 49,
   "metadata": {},
   "outputs": [
    {
     "data": {
      "text/html": [
       "<div>\n",
       "<style scoped>\n",
       "    .dataframe tbody tr th:only-of-type {\n",
       "        vertical-align: middle;\n",
       "    }\n",
       "\n",
       "    .dataframe tbody tr th {\n",
       "        vertical-align: top;\n",
       "    }\n",
       "\n",
       "    .dataframe thead th {\n",
       "        text-align: right;\n",
       "    }\n",
       "</style>\n",
       "<table border=\"1\" class=\"dataframe\">\n",
       "  <thead>\n",
       "    <tr style=\"text-align: right;\">\n",
       "      <th></th>\n",
       "      <th>team_name</th>\n",
       "      <th>goals_former_season</th>\n",
       "      <th>goals_later_season</th>\n",
       "      <th>improvement</th>\n",
       "      <th>former_season</th>\n",
       "      <th>later_season</th>\n",
       "    </tr>\n",
       "  </thead>\n",
       "  <tbody>\n",
       "    <tr>\n",
       "      <th>50</th>\n",
       "      <td>Fiorentina</td>\n",
       "      <td>32</td>\n",
       "      <td>72</td>\n",
       "      <td>40</td>\n",
       "      <td>2011/2012</td>\n",
       "      <td>2012/2013</td>\n",
       "    </tr>\n",
       "    <tr>\n",
       "      <th>82</th>\n",
       "      <td>Liverpool</td>\n",
       "      <td>47</td>\n",
       "      <td>71</td>\n",
       "      <td>24</td>\n",
       "      <td>2011/2012</td>\n",
       "      <td>2012/2013</td>\n",
       "    </tr>\n",
       "    <tr>\n",
       "      <th>114</th>\n",
       "      <td>Real Sociedad</td>\n",
       "      <td>46</td>\n",
       "      <td>70</td>\n",
       "      <td>24</td>\n",
       "      <td>2011/2012</td>\n",
       "      <td>2012/2013</td>\n",
       "    </tr>\n",
       "    <tr>\n",
       "      <th>38</th>\n",
       "      <td>FC Lorient</td>\n",
       "      <td>35</td>\n",
       "      <td>57</td>\n",
       "      <td>22</td>\n",
       "      <td>2011/2012</td>\n",
       "      <td>2012/2013</td>\n",
       "    </tr>\n",
       "    <tr>\n",
       "      <th>78</th>\n",
       "      <td>Lechia Gdańsk</td>\n",
       "      <td>21</td>\n",
       "      <td>42</td>\n",
       "      <td>21</td>\n",
       "      <td>2011/2012</td>\n",
       "      <td>2012/2013</td>\n",
       "    </tr>\n",
       "  </tbody>\n",
       "</table>\n",
       "</div>"
      ],
      "text/plain": [
       "         team_name  goals_former_season  goals_later_season  improvement  \\\n",
       "50      Fiorentina                   32                  72           40   \n",
       "82       Liverpool                   47                  71           24   \n",
       "114  Real Sociedad                   46                  70           24   \n",
       "38      FC Lorient                   35                  57           22   \n",
       "78   Lechia Gdańsk                   21                  42           21   \n",
       "\n",
       "    former_season later_season  \n",
       "50      2011/2012    2012/2013  \n",
       "82      2011/2012    2012/2013  \n",
       "114     2011/2012    2012/2013  \n",
       "38      2011/2012    2012/2013  \n",
       "78      2011/2012    2012/2013  "
      ]
     },
     "execution_count": 49,
     "metadata": {},
     "output_type": "execute_result"
    }
   ],
   "source": [
    "df_season_improve[3].head()"
   ]
  },
  {
   "cell_type": "code",
   "execution_count": 50,
   "metadata": {},
   "outputs": [
    {
     "data": {
      "text/html": [
       "<div>\n",
       "<style scoped>\n",
       "    .dataframe tbody tr th:only-of-type {\n",
       "        vertical-align: middle;\n",
       "    }\n",
       "\n",
       "    .dataframe tbody tr th {\n",
       "        vertical-align: top;\n",
       "    }\n",
       "\n",
       "    .dataframe thead th {\n",
       "        text-align: right;\n",
       "    }\n",
       "</style>\n",
       "<table border=\"1\" class=\"dataframe\">\n",
       "  <thead>\n",
       "    <tr style=\"text-align: right;\">\n",
       "      <th></th>\n",
       "      <th>team_name</th>\n",
       "      <th>goals_former_season</th>\n",
       "      <th>goals_later_season</th>\n",
       "      <th>improvement</th>\n",
       "      <th>former_season</th>\n",
       "      <th>later_season</th>\n",
       "    </tr>\n",
       "  </thead>\n",
       "  <tbody>\n",
       "    <tr>\n",
       "      <th>78</th>\n",
       "      <td>Manchester City</td>\n",
       "      <td>66</td>\n",
       "      <td>102</td>\n",
       "      <td>36</td>\n",
       "      <td>2012/2013</td>\n",
       "      <td>2013/2014</td>\n",
       "    </tr>\n",
       "    <tr>\n",
       "      <th>131</th>\n",
       "      <td>TSG 1899 Hoffenheim</td>\n",
       "      <td>42</td>\n",
       "      <td>72</td>\n",
       "      <td>30</td>\n",
       "      <td>2012/2013</td>\n",
       "      <td>2013/2014</td>\n",
       "    </tr>\n",
       "    <tr>\n",
       "      <th>77</th>\n",
       "      <td>Liverpool</td>\n",
       "      <td>71</td>\n",
       "      <td>101</td>\n",
       "      <td>30</td>\n",
       "      <td>2012/2013</td>\n",
       "      <td>2013/2014</td>\n",
       "    </tr>\n",
       "    <tr>\n",
       "      <th>117</th>\n",
       "      <td>SC Heerenveen</td>\n",
       "      <td>50</td>\n",
       "      <td>72</td>\n",
       "      <td>22</td>\n",
       "      <td>2012/2013</td>\n",
       "      <td>2013/2014</td>\n",
       "    </tr>\n",
       "    <tr>\n",
       "      <th>12</th>\n",
       "      <td>Athletic Club de Bilbao</td>\n",
       "      <td>44</td>\n",
       "      <td>66</td>\n",
       "      <td>22</td>\n",
       "      <td>2012/2013</td>\n",
       "      <td>2013/2014</td>\n",
       "    </tr>\n",
       "  </tbody>\n",
       "</table>\n",
       "</div>"
      ],
      "text/plain": [
       "                   team_name  goals_former_season  goals_later_season  \\\n",
       "78           Manchester City                   66                 102   \n",
       "131      TSG 1899 Hoffenheim                   42                  72   \n",
       "77                 Liverpool                   71                 101   \n",
       "117            SC Heerenveen                   50                  72   \n",
       "12   Athletic Club de Bilbao                   44                  66   \n",
       "\n",
       "     improvement former_season later_season  \n",
       "78            36     2012/2013    2013/2014  \n",
       "131           30     2012/2013    2013/2014  \n",
       "77            30     2012/2013    2013/2014  \n",
       "117           22     2012/2013    2013/2014  \n",
       "12            22     2012/2013    2013/2014  "
      ]
     },
     "execution_count": 50,
     "metadata": {},
     "output_type": "execute_result"
    }
   ],
   "source": [
    "df_season_improve[4].head()"
   ]
  },
  {
   "cell_type": "code",
   "execution_count": 51,
   "metadata": {},
   "outputs": [
    {
     "data": {
      "text/html": [
       "<div>\n",
       "<style scoped>\n",
       "    .dataframe tbody tr th:only-of-type {\n",
       "        vertical-align: middle;\n",
       "    }\n",
       "\n",
       "    .dataframe tbody tr th {\n",
       "        vertical-align: top;\n",
       "    }\n",
       "\n",
       "    .dataframe thead th {\n",
       "        text-align: right;\n",
       "    }\n",
       "</style>\n",
       "<table border=\"1\" class=\"dataframe\">\n",
       "  <thead>\n",
       "    <tr style=\"text-align: right;\">\n",
       "      <th></th>\n",
       "      <th>team_name</th>\n",
       "      <th>goals_former_season</th>\n",
       "      <th>goals_later_season</th>\n",
       "      <th>improvement</th>\n",
       "      <th>former_season</th>\n",
       "      <th>later_season</th>\n",
       "    </tr>\n",
       "  </thead>\n",
       "  <tbody>\n",
       "    <tr>\n",
       "      <th>70</th>\n",
       "      <td>KAA Gent</td>\n",
       "      <td>11</td>\n",
       "      <td>52</td>\n",
       "      <td>41</td>\n",
       "      <td>2013/2014</td>\n",
       "      <td>2014/2015</td>\n",
       "    </tr>\n",
       "    <tr>\n",
       "      <th>71</th>\n",
       "      <td>KV Oostende</td>\n",
       "      <td>7</td>\n",
       "      <td>40</td>\n",
       "      <td>33</td>\n",
       "      <td>2013/2014</td>\n",
       "      <td>2014/2015</td>\n",
       "    </tr>\n",
       "    <tr>\n",
       "      <th>95</th>\n",
       "      <td>PSV</td>\n",
       "      <td>60</td>\n",
       "      <td>92</td>\n",
       "      <td>32</td>\n",
       "      <td>2013/2014</td>\n",
       "      <td>2014/2015</td>\n",
       "    </tr>\n",
       "    <tr>\n",
       "      <th>117</th>\n",
       "      <td>SL Benfica</td>\n",
       "      <td>58</td>\n",
       "      <td>86</td>\n",
       "      <td>28</td>\n",
       "      <td>2013/2014</td>\n",
       "      <td>2014/2015</td>\n",
       "    </tr>\n",
       "    <tr>\n",
       "      <th>80</th>\n",
       "      <td>Lierse SK</td>\n",
       "      <td>5</td>\n",
       "      <td>30</td>\n",
       "      <td>25</td>\n",
       "      <td>2013/2014</td>\n",
       "      <td>2014/2015</td>\n",
       "    </tr>\n",
       "  </tbody>\n",
       "</table>\n",
       "</div>"
      ],
      "text/plain": [
       "       team_name  goals_former_season  goals_later_season  improvement  \\\n",
       "70      KAA Gent                   11                  52           41   \n",
       "71   KV Oostende                    7                  40           33   \n",
       "95           PSV                   60                  92           32   \n",
       "117   SL Benfica                   58                  86           28   \n",
       "80     Lierse SK                    5                  30           25   \n",
       "\n",
       "    former_season later_season  \n",
       "70      2013/2014    2014/2015  \n",
       "71      2013/2014    2014/2015  \n",
       "95      2013/2014    2014/2015  \n",
       "117     2013/2014    2014/2015  \n",
       "80      2013/2014    2014/2015  "
      ]
     },
     "execution_count": 51,
     "metadata": {},
     "output_type": "execute_result"
    }
   ],
   "source": [
    "df_season_improve[5].head()"
   ]
  },
  {
   "cell_type": "code",
   "execution_count": 52,
   "metadata": {},
   "outputs": [
    {
     "data": {
      "text/html": [
       "<div>\n",
       "<style scoped>\n",
       "    .dataframe tbody tr th:only-of-type {\n",
       "        vertical-align: middle;\n",
       "    }\n",
       "\n",
       "    .dataframe tbody tr th {\n",
       "        vertical-align: top;\n",
       "    }\n",
       "\n",
       "    .dataframe thead th {\n",
       "        text-align: right;\n",
       "    }\n",
       "</style>\n",
       "<table border=\"1\" class=\"dataframe\">\n",
       "  <thead>\n",
       "    <tr style=\"text-align: right;\">\n",
       "      <th></th>\n",
       "      <th>team_name</th>\n",
       "      <th>goals_former_season</th>\n",
       "      <th>goals_later_season</th>\n",
       "      <th>improvement</th>\n",
       "      <th>former_season</th>\n",
       "      <th>later_season</th>\n",
       "    </tr>\n",
       "  </thead>\n",
       "  <tbody>\n",
       "    <tr>\n",
       "      <th>17</th>\n",
       "      <td>Borussia Dortmund</td>\n",
       "      <td>47</td>\n",
       "      <td>82</td>\n",
       "      <td>35</td>\n",
       "      <td>2014/2015</td>\n",
       "      <td>2015/2016</td>\n",
       "    </tr>\n",
       "    <tr>\n",
       "      <th>118</th>\n",
       "      <td>Roma</td>\n",
       "      <td>54</td>\n",
       "      <td>83</td>\n",
       "      <td>29</td>\n",
       "      <td>2014/2015</td>\n",
       "      <td>2015/2016</td>\n",
       "    </tr>\n",
       "    <tr>\n",
       "      <th>26</th>\n",
       "      <td>Cracovia</td>\n",
       "      <td>35</td>\n",
       "      <td>57</td>\n",
       "      <td>22</td>\n",
       "      <td>2014/2015</td>\n",
       "      <td>2015/2016</td>\n",
       "    </tr>\n",
       "    <tr>\n",
       "      <th>86</th>\n",
       "      <td>Leicester City</td>\n",
       "      <td>46</td>\n",
       "      <td>68</td>\n",
       "      <td>22</td>\n",
       "      <td>2014/2015</td>\n",
       "      <td>2015/2016</td>\n",
       "    </tr>\n",
       "    <tr>\n",
       "      <th>36</th>\n",
       "      <td>FC Arouca</td>\n",
       "      <td>26</td>\n",
       "      <td>47</td>\n",
       "      <td>21</td>\n",
       "      <td>2014/2015</td>\n",
       "      <td>2015/2016</td>\n",
       "    </tr>\n",
       "  </tbody>\n",
       "</table>\n",
       "</div>"
      ],
      "text/plain": [
       "             team_name  goals_former_season  goals_later_season  improvement  \\\n",
       "17   Borussia Dortmund                   47                  82           35   \n",
       "118               Roma                   54                  83           29   \n",
       "26            Cracovia                   35                  57           22   \n",
       "86      Leicester City                   46                  68           22   \n",
       "36           FC Arouca                   26                  47           21   \n",
       "\n",
       "    former_season later_season  \n",
       "17      2014/2015    2015/2016  \n",
       "118     2014/2015    2015/2016  \n",
       "26      2014/2015    2015/2016  \n",
       "86      2014/2015    2015/2016  \n",
       "36      2014/2015    2015/2016  "
      ]
     },
     "execution_count": 52,
     "metadata": {},
     "output_type": "execute_result"
    }
   ],
   "source": [
    "df_season_improve[6].head()"
   ]
  },
  {
   "cell_type": "code",
   "execution_count": null,
   "metadata": {},
   "outputs": [],
   "source": []
  },
  {
   "cell_type": "markdown",
   "metadata": {},
   "source": [
    "### Question 2: Which players had the most penalties?"
   ]
  },
  {
   "cell_type": "code",
   "execution_count": 53,
   "metadata": {},
   "outputs": [
    {
     "data": {
      "text/html": [
       "<div>\n",
       "<style scoped>\n",
       "    .dataframe tbody tr th:only-of-type {\n",
       "        vertical-align: middle;\n",
       "    }\n",
       "\n",
       "    .dataframe tbody tr th {\n",
       "        vertical-align: top;\n",
       "    }\n",
       "\n",
       "    .dataframe thead th {\n",
       "        text-align: right;\n",
       "    }\n",
       "</style>\n",
       "<table border=\"1\" class=\"dataframe\">\n",
       "  <thead>\n",
       "    <tr style=\"text-align: right;\">\n",
       "      <th></th>\n",
       "      <th>player_name</th>\n",
       "      <th>penalties</th>\n",
       "    </tr>\n",
       "  </thead>\n",
       "  <tbody>\n",
       "    <tr>\n",
       "      <th>0</th>\n",
       "      <td>Aaron Appindangoye</td>\n",
       "      <td>48.0</td>\n",
       "    </tr>\n",
       "    <tr>\n",
       "      <th>1</th>\n",
       "      <td>Aaron Appindangoye</td>\n",
       "      <td>48.0</td>\n",
       "    </tr>\n",
       "  </tbody>\n",
       "</table>\n",
       "</div>"
      ],
      "text/plain": [
       "          player_name  penalties\n",
       "0  Aaron Appindangoye       48.0\n",
       "1  Aaron Appindangoye       48.0"
      ]
     },
     "execution_count": 53,
     "metadata": {},
     "output_type": "execute_result"
    }
   ],
   "source": [
    "df_players=pd.read_csv('./dataset/player_penaltities.csv')\n",
    "df_players.head(2)"
   ]
  },
  {
   "cell_type": "code",
   "execution_count": 54,
   "metadata": {},
   "outputs": [],
   "source": [
    "df_player_total_penalties = df_players.groupby('player_name').sum()"
   ]
  },
  {
   "cell_type": "code",
   "execution_count": 55,
   "metadata": {},
   "outputs": [
    {
     "data": {
      "text/html": [
       "<div>\n",
       "<style scoped>\n",
       "    .dataframe tbody tr th:only-of-type {\n",
       "        vertical-align: middle;\n",
       "    }\n",
       "\n",
       "    .dataframe tbody tr th {\n",
       "        vertical-align: top;\n",
       "    }\n",
       "\n",
       "    .dataframe thead th {\n",
       "        text-align: right;\n",
       "    }\n",
       "</style>\n",
       "<table border=\"1\" class=\"dataframe\">\n",
       "  <thead>\n",
       "    <tr style=\"text-align: right;\">\n",
       "      <th></th>\n",
       "      <th>penalties</th>\n",
       "    </tr>\n",
       "    <tr>\n",
       "      <th>player_name</th>\n",
       "      <th></th>\n",
       "    </tr>\n",
       "  </thead>\n",
       "  <tbody>\n",
       "    <tr>\n",
       "      <th>Danilo</th>\n",
       "      <td>6358.0</td>\n",
       "    </tr>\n",
       "    <tr>\n",
       "      <th>Fernando</th>\n",
       "      <td>4764.0</td>\n",
       "    </tr>\n",
       "    <tr>\n",
       "      <th>Douglas</th>\n",
       "      <td>4687.0</td>\n",
       "    </tr>\n",
       "    <tr>\n",
       "      <th>Josue</th>\n",
       "      <td>4671.0</td>\n",
       "    </tr>\n",
       "    <tr>\n",
       "      <th>Rafinha</th>\n",
       "      <td>4633.0</td>\n",
       "    </tr>\n",
       "    <tr>\n",
       "      <th>Alessio Cerci</th>\n",
       "      <td>4314.0</td>\n",
       "    </tr>\n",
       "    <tr>\n",
       "      <th>Carlos Eduardo</th>\n",
       "      <td>4306.0</td>\n",
       "    </tr>\n",
       "    <tr>\n",
       "      <th>Maicon</th>\n",
       "      <td>4263.0</td>\n",
       "    </tr>\n",
       "    <tr>\n",
       "      <th>Diego</th>\n",
       "      <td>4259.0</td>\n",
       "    </tr>\n",
       "    <tr>\n",
       "      <th>Mario Balotelli</th>\n",
       "      <td>4120.0</td>\n",
       "    </tr>\n",
       "  </tbody>\n",
       "</table>\n",
       "</div>"
      ],
      "text/plain": [
       "                 penalties\n",
       "player_name               \n",
       "Danilo              6358.0\n",
       "Fernando            4764.0\n",
       "Douglas             4687.0\n",
       "Josue               4671.0\n",
       "Rafinha             4633.0\n",
       "Alessio Cerci       4314.0\n",
       "Carlos Eduardo      4306.0\n",
       "Maicon              4263.0\n",
       "Diego               4259.0\n",
       "Mario Balotelli     4120.0"
      ]
     },
     "execution_count": 55,
     "metadata": {},
     "output_type": "execute_result"
    }
   ],
   "source": [
    "df_player_total_penalties.sort_values(by='penalties',ascending=False).head(10)"
   ]
  },
  {
   "cell_type": "markdown",
   "metadata": {},
   "source": [
    "<a id='conclusions'></a>\n",
    "## Conclusions\n",
    "\n",
    "> **Findings in question 1**: From above results we can see, between the two adjacent match season, the teams made the most improvements as below table shows.\n",
    "\n",
    "<table>\n",
    "    <tr>\n",
    "        <td>2008/2009</td><td>2009/2010</td><td>Chelsea</td><td>68</td><td>103</td><td>35</td>\n",
    "    </tr>\n",
    "    <tr>\n",
    "        <td>2009/2010</td><td>2010/2011</td><td>Polonia Bytom</td><td>29</td><td>64</td><td>35</td>\n",
    "    </tr>\n",
    "    <tr>\t\t\t\t\t\n",
    "        <td>2010/2011</td><td>2011/2012</td><td>Montpellier Hérault SC</td><td>32</td><td>68</td><td>36</td>\n",
    "    </tr>\n",
    "    <tr>\t\t\t\t\t\n",
    "        <td>2011/2012</td><td>2012/2013</td><td>Fiorentina</td><td>32</td><td>72</td><td>40</td>\n",
    "    </tr>\n",
    "    <tr>\n",
    "        <td>2012/2013</td><td>2013/2014</td><td>Manchester City</td><td>66</td><td>102</td><td>36</td>\n",
    "    </tr>\n",
    "    <tr>\n",
    "        <td>2013/2014</td><td>2014/2015</td><td>KAA Gent</td><td>11</td><td>52</td><td>41</td>\n",
    "    </tr>\n",
    "    <tr>\n",
    "        <td>2014/2015</td><td>2015/2016</td><td>Borussia Dortmund</td><td>47</td><td>82</td><td>35</td>\n",
    "    </tr>\t\t\t\t\t\n",
    "</table>\n",
    "\n",
    "\n",
    "> **Findings in question 2**: Danilo got the most penaltities which is 6358.0."
   ]
  },
  {
   "cell_type": "code",
   "execution_count": null,
   "metadata": {},
   "outputs": [],
   "source": []
  }
 ],
 "metadata": {
  "kernelspec": {
   "display_name": "Python 3",
   "language": "python",
   "name": "python3"
  },
  "language_info": {
   "codemirror_mode": {
    "name": "ipython",
    "version": 3
   },
   "file_extension": ".py",
   "mimetype": "text/x-python",
   "name": "python",
   "nbconvert_exporter": "python",
   "pygments_lexer": "ipython3",
   "version": "3.6.1"
  }
 },
 "nbformat": 4,
 "nbformat_minor": 2
}
