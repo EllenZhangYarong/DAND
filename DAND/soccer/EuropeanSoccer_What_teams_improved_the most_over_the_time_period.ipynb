{
 "cells": [
  {
   "cell_type": "markdown",
   "metadata": {},
   "source": [
    "> **Tip**: Welcome to the Investigate a Dataset project! You will find tips in quoted sections like this to help organize your approach to your investigation. Before submitting your project, it will be a good idea to go back through your report and remove these sections to make the presentation of your work as tidy as possible. First things first, you might want to double-click this Markdown cell and change the title so that it reflects your dataset and investigation.\n",
    "\n",
    "# Project: Investigate a Dataset (Replace this with something more specific!)\n",
    "\n",
    "## Table of Contents\n",
    "<ul>\n",
    "<li><a href=\"#intro\">Introduction</a></li>\n",
    "<li><a href=\"#wrangling\">Data Wrangling</a></li>\n",
    "<li><a href=\"#eda\">Exploratory Data Analysis</a></li>\n",
    "<li><a href=\"#conclusions\">Conclusions</a></li>\n",
    "</ul>"
   ]
  },
  {
   "cell_type": "markdown",
   "metadata": {},
   "source": [
    "<a id='intro'></a>\n",
    "## Introduction\n",
    "\n",
    "> **Tip**: In this section of the report, provide a brief introduction to the dataset you've selected for analysis. At the end of this section, describe the questions that you plan on exploring over the course of the report. Try to build your report around the analysis of at least one dependent variable and three independent variables.\n",
    ">\n",
    "> If you haven't yet selected and downloaded your data, make sure you do that first before coming back here. If you're not sure what questions to ask right now, then make sure you familiarize yourself with the variables and the dataset context for ideas of what to explore."
   ]
  },
  {
   "cell_type": "code",
   "execution_count": 2,
   "metadata": {},
   "outputs": [],
   "source": [
    "import numpy as np\n",
    "import pandas as pd\n",
    "import matplotlib.pyplot as plt\n",
    "import seaborn as sbs\n",
    "\n",
    "%matplotlib inline\n"
   ]
  },
  {
   "cell_type": "code",
   "execution_count": 3,
   "metadata": {},
   "outputs": [
    {
     "data": {
      "text/html": [
       "<div>\n",
       "<style scoped>\n",
       "    .dataframe tbody tr th:only-of-type {\n",
       "        vertical-align: middle;\n",
       "    }\n",
       "\n",
       "    .dataframe tbody tr th {\n",
       "        vertical-align: top;\n",
       "    }\n",
       "\n",
       "    .dataframe thead th {\n",
       "        text-align: right;\n",
       "    }\n",
       "</style>\n",
       "<table border=\"1\" class=\"dataframe\">\n",
       "  <thead>\n",
       "    <tr style=\"text-align: right;\">\n",
       "      <th></th>\n",
       "      <th>type</th>\n",
       "      <th>name</th>\n",
       "      <th>tbl_name</th>\n",
       "      <th>rootpage</th>\n",
       "      <th>sql</th>\n",
       "    </tr>\n",
       "  </thead>\n",
       "  <tbody>\n",
       "    <tr>\n",
       "      <th>0</th>\n",
       "      <td>table</td>\n",
       "      <td>sqlite_sequence</td>\n",
       "      <td>sqlite_sequence</td>\n",
       "      <td>4</td>\n",
       "      <td>CREATE TABLE sqlite_sequence(name,seq)</td>\n",
       "    </tr>\n",
       "    <tr>\n",
       "      <th>1</th>\n",
       "      <td>table</td>\n",
       "      <td>Player_Attributes</td>\n",
       "      <td>Player_Attributes</td>\n",
       "      <td>11</td>\n",
       "      <td>CREATE TABLE \"Player_Attributes\" (\\n\\t`id`\\tIN...</td>\n",
       "    </tr>\n",
       "    <tr>\n",
       "      <th>2</th>\n",
       "      <td>table</td>\n",
       "      <td>Player</td>\n",
       "      <td>Player</td>\n",
       "      <td>14</td>\n",
       "      <td>CREATE TABLE `Player` (\\n\\t`id`\\tINTEGER PRIMA...</td>\n",
       "    </tr>\n",
       "    <tr>\n",
       "      <th>3</th>\n",
       "      <td>table</td>\n",
       "      <td>Match</td>\n",
       "      <td>Match</td>\n",
       "      <td>18</td>\n",
       "      <td>CREATE TABLE `Match` (\\n\\t`id`\\tINTEGER PRIMAR...</td>\n",
       "    </tr>\n",
       "    <tr>\n",
       "      <th>4</th>\n",
       "      <td>table</td>\n",
       "      <td>League</td>\n",
       "      <td>League</td>\n",
       "      <td>24</td>\n",
       "      <td>CREATE TABLE `League` (\\n\\t`id`\\tINTEGER PRIMA...</td>\n",
       "    </tr>\n",
       "    <tr>\n",
       "      <th>5</th>\n",
       "      <td>table</td>\n",
       "      <td>Country</td>\n",
       "      <td>Country</td>\n",
       "      <td>26</td>\n",
       "      <td>CREATE TABLE `Country` (\\n\\t`id`\\tINTEGER PRIM...</td>\n",
       "    </tr>\n",
       "    <tr>\n",
       "      <th>6</th>\n",
       "      <td>table</td>\n",
       "      <td>Team</td>\n",
       "      <td>Team</td>\n",
       "      <td>29</td>\n",
       "      <td>CREATE TABLE \"Team\" (\\n\\t`id`\\tINTEGER PRIMARY...</td>\n",
       "    </tr>\n",
       "    <tr>\n",
       "      <th>7</th>\n",
       "      <td>table</td>\n",
       "      <td>Team_Attributes</td>\n",
       "      <td>Team_Attributes</td>\n",
       "      <td>2</td>\n",
       "      <td>CREATE TABLE `Team_Attributes` (\\n\\t`id`\\tINTE...</td>\n",
       "    </tr>\n",
       "  </tbody>\n",
       "</table>\n",
       "</div>"
      ],
      "text/plain": [
       "    type               name           tbl_name  rootpage  \\\n",
       "0  table    sqlite_sequence    sqlite_sequence         4   \n",
       "1  table  Player_Attributes  Player_Attributes        11   \n",
       "2  table             Player             Player        14   \n",
       "3  table              Match              Match        18   \n",
       "4  table             League             League        24   \n",
       "5  table            Country            Country        26   \n",
       "6  table               Team               Team        29   \n",
       "7  table    Team_Attributes    Team_Attributes         2   \n",
       "\n",
       "                                                 sql  \n",
       "0             CREATE TABLE sqlite_sequence(name,seq)  \n",
       "1  CREATE TABLE \"Player_Attributes\" (\\n\\t`id`\\tIN...  \n",
       "2  CREATE TABLE `Player` (\\n\\t`id`\\tINTEGER PRIMA...  \n",
       "3  CREATE TABLE `Match` (\\n\\t`id`\\tINTEGER PRIMAR...  \n",
       "4  CREATE TABLE `League` (\\n\\t`id`\\tINTEGER PRIMA...  \n",
       "5  CREATE TABLE `Country` (\\n\\t`id`\\tINTEGER PRIM...  \n",
       "6  CREATE TABLE \"Team\" (\\n\\t`id`\\tINTEGER PRIMARY...  \n",
       "7  CREATE TABLE `Team_Attributes` (\\n\\t`id`\\tINTE...  "
      ]
     },
     "execution_count": 3,
     "metadata": {},
     "output_type": "execute_result"
    }
   ],
   "source": [
    "import sqlite3\n",
    "path = \"./dataset/\" \n",
    "database = path + 'database.sqlite'\n",
    "\n",
    "conn = sqlite3.connect(database)\n",
    "tables = pd.read_sql(\"\"\"SELECT *\n",
    "                        FROM sqlite_master\n",
    "                        WHERE type='table';\"\"\", conn)\n",
    "\n",
    "tables"
   ]
  },
  {
   "cell_type": "markdown",
   "metadata": {},
   "source": [
    "<a id='wrangling'></a>\n",
    "## Data Wrangling\n",
    "\n",
    "> **Tip**: In this section of the report, you will load in the data, check for cleanliness, and then trim and clean your dataset for analysis. Make sure that you document your steps carefully and justify your cleaning decisions.\n",
    "\n",
    "### General Properties"
   ]
  },
  {
   "cell_type": "code",
   "execution_count": 94,
   "metadata": {},
   "outputs": [
    {
     "data": {
      "text/html": [
       "<div>\n",
       "<style scoped>\n",
       "    .dataframe tbody tr th:only-of-type {\n",
       "        vertical-align: middle;\n",
       "    }\n",
       "\n",
       "    .dataframe tbody tr th {\n",
       "        vertical-align: top;\n",
       "    }\n",
       "\n",
       "    .dataframe thead th {\n",
       "        text-align: right;\n",
       "    }\n",
       "</style>\n",
       "<table border=\"1\" class=\"dataframe\">\n",
       "  <thead>\n",
       "    <tr style=\"text-align: right;\">\n",
       "      <th></th>\n",
       "      <th>season</th>\n",
       "      <th>home_team</th>\n",
       "      <th>away_team</th>\n",
       "      <th>home_team_goal</th>\n",
       "      <th>away_team_goal</th>\n",
       "    </tr>\n",
       "  </thead>\n",
       "  <tbody>\n",
       "    <tr>\n",
       "      <th>0</th>\n",
       "      <td>2008/2009</td>\n",
       "      <td>BSC Young Boys</td>\n",
       "      <td>FC Basel</td>\n",
       "      <td>1</td>\n",
       "      <td>2</td>\n",
       "    </tr>\n",
       "    <tr>\n",
       "      <th>1</th>\n",
       "      <td>2008/2009</td>\n",
       "      <td>FC Aarau</td>\n",
       "      <td>FC Sion</td>\n",
       "      <td>3</td>\n",
       "      <td>1</td>\n",
       "    </tr>\n",
       "    <tr>\n",
       "      <th>2</th>\n",
       "      <td>2008/2009</td>\n",
       "      <td>FC Luzern</td>\n",
       "      <td>FC Vaduz</td>\n",
       "      <td>1</td>\n",
       "      <td>2</td>\n",
       "    </tr>\n",
       "    <tr>\n",
       "      <th>3</th>\n",
       "      <td>2008/2009</td>\n",
       "      <td>Neuchâtel Xamax</td>\n",
       "      <td>FC Zürich</td>\n",
       "      <td>1</td>\n",
       "      <td>2</td>\n",
       "    </tr>\n",
       "    <tr>\n",
       "      <th>4</th>\n",
       "      <td>2008/2009</td>\n",
       "      <td>FC Basel</td>\n",
       "      <td>Grasshopper Club Zürich</td>\n",
       "      <td>1</td>\n",
       "      <td>0</td>\n",
       "    </tr>\n",
       "  </tbody>\n",
       "</table>\n",
       "</div>"
      ],
      "text/plain": [
       "      season        home_team                away_team  home_team_goal  \\\n",
       "0  2008/2009   BSC Young Boys                 FC Basel               1   \n",
       "1  2008/2009         FC Aarau                  FC Sion               3   \n",
       "2  2008/2009        FC Luzern                 FC Vaduz               1   \n",
       "3  2008/2009  Neuchâtel Xamax                FC Zürich               1   \n",
       "4  2008/2009         FC Basel  Grasshopper Club Zürich               1   \n",
       "\n",
       "   away_team_goal  \n",
       "0               2  \n",
       "1               1  \n",
       "2               2  \n",
       "3               2  \n",
       "4               0  "
      ]
     },
     "execution_count": 94,
     "metadata": {},
     "output_type": "execute_result"
    }
   ],
   "source": [
    "# query data from database according the question 1 : which team improve the most over the time period\n",
    "\n",
    "df_team_goals = pd.read_sql(\"\"\"SELECT season,\n",
    " HT.team_long_name AS  home_team,\n",
    " AT.team_long_name AS away_team,\n",
    " home_team_goal, \n",
    " away_team_goal\n",
    " FROM Match\n",
    " JOIN Country on Country.id = Match.country_id\n",
    " JOIN League on League.id = Match.league_id\n",
    " LEFT JOIN Team AS HT on HT.team_api_id = Match.home_team_api_id\n",
    " LEFT JOIN Team AS AT on AT.team_api_id = Match.away_team_api_id\n",
    " ORDER by date;\"\"\", conn)\n",
    "df_team_goals.head()"
   ]
  },
  {
   "cell_type": "code",
   "execution_count": 189,
   "metadata": {},
   "outputs": [],
   "source": [
    "df_team_goals.to_csv('./dataset/team_goals.csv')"
   ]
  },
  {
   "cell_type": "code",
   "execution_count": 192,
   "metadata": {},
   "outputs": [
    {
     "data": {
      "text/html": [
       "<div>\n",
       "<style scoped>\n",
       "    .dataframe tbody tr th:only-of-type {\n",
       "        vertical-align: middle;\n",
       "    }\n",
       "\n",
       "    .dataframe tbody tr th {\n",
       "        vertical-align: top;\n",
       "    }\n",
       "\n",
       "    .dataframe thead th {\n",
       "        text-align: right;\n",
       "    }\n",
       "</style>\n",
       "<table border=\"1\" class=\"dataframe\">\n",
       "  <thead>\n",
       "    <tr style=\"text-align: right;\">\n",
       "      <th></th>\n",
       "      <th>player_name</th>\n",
       "      <th>penalties</th>\n",
       "    </tr>\n",
       "  </thead>\n",
       "  <tbody>\n",
       "    <tr>\n",
       "      <th>0</th>\n",
       "      <td>Aaron Appindangoye</td>\n",
       "      <td>48.0</td>\n",
       "    </tr>\n",
       "    <tr>\n",
       "      <th>1</th>\n",
       "      <td>Aaron Appindangoye</td>\n",
       "      <td>48.0</td>\n",
       "    </tr>\n",
       "    <tr>\n",
       "      <th>2</th>\n",
       "      <td>Aaron Appindangoye</td>\n",
       "      <td>48.0</td>\n",
       "    </tr>\n",
       "    <tr>\n",
       "      <th>3</th>\n",
       "      <td>Aaron Appindangoye</td>\n",
       "      <td>47.0</td>\n",
       "    </tr>\n",
       "    <tr>\n",
       "      <th>4</th>\n",
       "      <td>Aaron Appindangoye</td>\n",
       "      <td>47.0</td>\n",
       "    </tr>\n",
       "    <tr>\n",
       "      <th>5</th>\n",
       "      <td>Aaron Cresswell</td>\n",
       "      <td>59.0</td>\n",
       "    </tr>\n",
       "    <tr>\n",
       "      <th>6</th>\n",
       "      <td>Aaron Cresswell</td>\n",
       "      <td>59.0</td>\n",
       "    </tr>\n",
       "    <tr>\n",
       "      <th>7</th>\n",
       "      <td>Aaron Cresswell</td>\n",
       "      <td>59.0</td>\n",
       "    </tr>\n",
       "    <tr>\n",
       "      <th>8</th>\n",
       "      <td>Aaron Cresswell</td>\n",
       "      <td>59.0</td>\n",
       "    </tr>\n",
       "    <tr>\n",
       "      <th>9</th>\n",
       "      <td>Aaron Cresswell</td>\n",
       "      <td>59.0</td>\n",
       "    </tr>\n",
       "  </tbody>\n",
       "</table>\n",
       "</div>"
      ],
      "text/plain": [
       "          player_name  penalties\n",
       "0  Aaron Appindangoye       48.0\n",
       "1  Aaron Appindangoye       48.0\n",
       "2  Aaron Appindangoye       48.0\n",
       "3  Aaron Appindangoye       47.0\n",
       "4  Aaron Appindangoye       47.0\n",
       "5     Aaron Cresswell       59.0\n",
       "6     Aaron Cresswell       59.0\n",
       "7     Aaron Cresswell       59.0\n",
       "8     Aaron Cresswell       59.0\n",
       "9     Aaron Cresswell       59.0"
      ]
     },
     "execution_count": 192,
     "metadata": {},
     "output_type": "execute_result"
    }
   ],
   "source": [
    "\n",
    "df_player_penaltities = pd.read_sql(\"\"\"select player.player_name, Player_Attributes.penalties\n",
    "from Player\n",
    "join Player_Attributes\n",
    "on Player.player_api_id = Player_Attributes.player_api_id and Player.player_fifa_api_id = Player_Attributes.player_fifa_api_id;\"\"\", conn)\n",
    "df_player_penaltities.head(10)\n"
   ]
  },
  {
   "cell_type": "code",
   "execution_count": 196,
   "metadata": {},
   "outputs": [],
   "source": [
    "df_player_penaltities.to_csv('./dataset/player_penaltities.csv', index=False)"
   ]
  },
  {
   "cell_type": "code",
   "execution_count": 95,
   "metadata": {},
   "outputs": [
    {
     "name": "stdout",
     "output_type": "stream",
     "text": [
      "<class 'pandas.core.frame.DataFrame'>\n",
      "RangeIndex: 25979 entries, 0 to 25978\n",
      "Data columns (total 5 columns):\n",
      "season            25979 non-null object\n",
      "home_team         25979 non-null object\n",
      "away_team         25979 non-null object\n",
      "home_team_goal    25979 non-null int64\n",
      "away_team_goal    25979 non-null int64\n",
      "dtypes: int64(2), object(3)\n",
      "memory usage: 1014.9+ KB\n"
     ]
    }
   ],
   "source": [
    "df_team_goals.info()"
   ]
  },
  {
   "cell_type": "code",
   "execution_count": 96,
   "metadata": {},
   "outputs": [
    {
     "data": {
      "text/html": [
       "<div>\n",
       "<style scoped>\n",
       "    .dataframe tbody tr th:only-of-type {\n",
       "        vertical-align: middle;\n",
       "    }\n",
       "\n",
       "    .dataframe tbody tr th {\n",
       "        vertical-align: top;\n",
       "    }\n",
       "\n",
       "    .dataframe thead th {\n",
       "        text-align: right;\n",
       "    }\n",
       "</style>\n",
       "<table border=\"1\" class=\"dataframe\">\n",
       "  <thead>\n",
       "    <tr style=\"text-align: right;\">\n",
       "      <th></th>\n",
       "      <th>home_team_goal</th>\n",
       "      <th>away_team_goal</th>\n",
       "    </tr>\n",
       "  </thead>\n",
       "  <tbody>\n",
       "    <tr>\n",
       "      <th>count</th>\n",
       "      <td>25979.000000</td>\n",
       "      <td>25979.000000</td>\n",
       "    </tr>\n",
       "    <tr>\n",
       "      <th>mean</th>\n",
       "      <td>1.544594</td>\n",
       "      <td>1.160938</td>\n",
       "    </tr>\n",
       "    <tr>\n",
       "      <th>std</th>\n",
       "      <td>1.297158</td>\n",
       "      <td>1.142110</td>\n",
       "    </tr>\n",
       "    <tr>\n",
       "      <th>min</th>\n",
       "      <td>0.000000</td>\n",
       "      <td>0.000000</td>\n",
       "    </tr>\n",
       "    <tr>\n",
       "      <th>25%</th>\n",
       "      <td>1.000000</td>\n",
       "      <td>0.000000</td>\n",
       "    </tr>\n",
       "    <tr>\n",
       "      <th>50%</th>\n",
       "      <td>1.000000</td>\n",
       "      <td>1.000000</td>\n",
       "    </tr>\n",
       "    <tr>\n",
       "      <th>75%</th>\n",
       "      <td>2.000000</td>\n",
       "      <td>2.000000</td>\n",
       "    </tr>\n",
       "    <tr>\n",
       "      <th>max</th>\n",
       "      <td>10.000000</td>\n",
       "      <td>9.000000</td>\n",
       "    </tr>\n",
       "  </tbody>\n",
       "</table>\n",
       "</div>"
      ],
      "text/plain": [
       "       home_team_goal  away_team_goal\n",
       "count    25979.000000    25979.000000\n",
       "mean         1.544594        1.160938\n",
       "std          1.297158        1.142110\n",
       "min          0.000000        0.000000\n",
       "25%          1.000000        0.000000\n",
       "50%          1.000000        1.000000\n",
       "75%          2.000000        2.000000\n",
       "max         10.000000        9.000000"
      ]
     },
     "execution_count": 96,
     "metadata": {},
     "output_type": "execute_result"
    }
   ],
   "source": [
    "df_team_goals.describe()"
   ]
  },
  {
   "cell_type": "code",
   "execution_count": 97,
   "metadata": {},
   "outputs": [
    {
     "data": {
      "text/plain": [
       "season            object\n",
       "home_team         object\n",
       "away_team         object\n",
       "home_team_goal     int64\n",
       "away_team_goal     int64\n",
       "dtype: object"
      ]
     },
     "execution_count": 97,
     "metadata": {},
     "output_type": "execute_result"
    }
   ],
   "source": [
    "df_team_goals.dtypes"
   ]
  },
  {
   "cell_type": "code",
   "execution_count": 98,
   "metadata": {},
   "outputs": [
    {
     "data": {
      "text/plain": [
       "str"
      ]
     },
     "execution_count": 98,
     "metadata": {},
     "output_type": "execute_result"
    }
   ],
   "source": [
    "type(df_team_goals['season'][0])"
   ]
  },
  {
   "cell_type": "code",
   "execution_count": 99,
   "metadata": {},
   "outputs": [
    {
     "data": {
      "text/plain": [
       "(25979, 5)"
      ]
     },
     "execution_count": 99,
     "metadata": {},
     "output_type": "execute_result"
    }
   ],
   "source": [
    "df_team_goals.shape"
   ]
  },
  {
   "cell_type": "code",
   "execution_count": 100,
   "metadata": {},
   "outputs": [
    {
     "data": {
      "text/plain": [
       "Index(['season', 'home_team', 'away_team', 'home_team_goal', 'away_team_goal'], dtype='object')"
      ]
     },
     "execution_count": 100,
     "metadata": {},
     "output_type": "execute_result"
    }
   ],
   "source": [
    "df_team_goals.columns"
   ]
  },
  {
   "cell_type": "markdown",
   "metadata": {},
   "source": [
    "> **Tip**: You should _not_ perform too many operations in each cell. Create cells freely to explore your data. One option that you can take with this project is to do a lot of explorations in an initial notebook. These don't have to be organized, but make sure you use enough comments to understand the purpose of each code cell. Then, after you're done with your analysis, create a duplicate notebook where you will trim the excess and organize your steps so that you have a flowing, cohesive report.\n",
    "\n",
    "> **Tip**: Make sure that you keep your reader informed on the steps that you are taking in your investigation. Follow every code cell, or every set of related code cells, with a markdown cell to describe to the reader what was found in the preceding cell(s). Try to make it so that the reader can then understand what they will be seeing in the following cell(s).\n",
    "\n",
    "### Data Cleaning (Replace this with more specific notes!)"
   ]
  },
  {
   "cell_type": "code",
   "execution_count": 101,
   "metadata": {},
   "outputs": [],
   "source": [
    "# After discussing the structure of the data and any problems that need to be\n",
    "#   cleaned, perform those cleaning steps in the second part of this section.\n"
   ]
  },
  {
   "cell_type": "code",
   "execution_count": 102,
   "metadata": {},
   "outputs": [
    {
     "data": {
      "text/plain": [
       "117"
      ]
     },
     "execution_count": 102,
     "metadata": {},
     "output_type": "execute_result"
    }
   ],
   "source": [
    "# check if there is some duplicated records\n",
    "\n",
    "sum(df_team_goals.duplicated())\n"
   ]
  },
  {
   "cell_type": "code",
   "execution_count": 103,
   "metadata": {},
   "outputs": [],
   "source": [
    "# delete the duplicated records\n",
    "\n",
    "df_team_goals = df_team_goals.drop_duplicates(keep='first', inplace=False)"
   ]
  },
  {
   "cell_type": "code",
   "execution_count": 104,
   "metadata": {},
   "outputs": [
    {
     "data": {
      "text/plain": [
       "(25862, 5)"
      ]
     },
     "execution_count": 104,
     "metadata": {},
     "output_type": "execute_result"
    }
   ],
   "source": [
    "df_team_goals.shape"
   ]
  },
  {
   "cell_type": "code",
   "execution_count": null,
   "metadata": {},
   "outputs": [],
   "source": []
  },
  {
   "cell_type": "markdown",
   "metadata": {},
   "source": [
    "<a id='eda'></a>\n",
    "## Exploratory Data Analysis\n",
    "\n",
    "> **Tip**: Now that you've trimmed and cleaned your data, you're ready to move on to exploration. Compute statistics and create visualizations with the goal of addressing the research questions that you posed in the Introduction section. It is recommended that you be systematic with your approach. Look at one variable at a time, and then follow it up by looking at relationships between variables.\n",
    "\n",
    "### Question 1: What teams improved the most over the time period?"
   ]
  },
  {
   "cell_type": "markdown",
   "metadata": {},
   "source": [
    "##### split the dataframe into two individual dataframe"
   ]
  },
  {
   "cell_type": "code",
   "execution_count": 105,
   "metadata": {},
   "outputs": [
    {
     "data": {
      "text/html": [
       "<div>\n",
       "<style scoped>\n",
       "    .dataframe tbody tr th:only-of-type {\n",
       "        vertical-align: middle;\n",
       "    }\n",
       "\n",
       "    .dataframe tbody tr th {\n",
       "        vertical-align: top;\n",
       "    }\n",
       "\n",
       "    .dataframe thead th {\n",
       "        text-align: right;\n",
       "    }\n",
       "</style>\n",
       "<table border=\"1\" class=\"dataframe\">\n",
       "  <thead>\n",
       "    <tr style=\"text-align: right;\">\n",
       "      <th></th>\n",
       "      <th>season</th>\n",
       "      <th>home_team</th>\n",
       "      <th>home_team_goal</th>\n",
       "    </tr>\n",
       "  </thead>\n",
       "  <tbody>\n",
       "    <tr>\n",
       "      <th>0</th>\n",
       "      <td>2008/2009</td>\n",
       "      <td>BSC Young Boys</td>\n",
       "      <td>1</td>\n",
       "    </tr>\n",
       "    <tr>\n",
       "      <th>1</th>\n",
       "      <td>2008/2009</td>\n",
       "      <td>FC Aarau</td>\n",
       "      <td>3</td>\n",
       "    </tr>\n",
       "    <tr>\n",
       "      <th>2</th>\n",
       "      <td>2008/2009</td>\n",
       "      <td>FC Luzern</td>\n",
       "      <td>1</td>\n",
       "    </tr>\n",
       "    <tr>\n",
       "      <th>3</th>\n",
       "      <td>2008/2009</td>\n",
       "      <td>Neuchâtel Xamax</td>\n",
       "      <td>1</td>\n",
       "    </tr>\n",
       "    <tr>\n",
       "      <th>4</th>\n",
       "      <td>2008/2009</td>\n",
       "      <td>FC Basel</td>\n",
       "      <td>1</td>\n",
       "    </tr>\n",
       "  </tbody>\n",
       "</table>\n",
       "</div>"
      ],
      "text/plain": [
       "      season        home_team  home_team_goal\n",
       "0  2008/2009   BSC Young Boys               1\n",
       "1  2008/2009         FC Aarau               3\n",
       "2  2008/2009        FC Luzern               1\n",
       "3  2008/2009  Neuchâtel Xamax               1\n",
       "4  2008/2009         FC Basel               1"
      ]
     },
     "execution_count": 105,
     "metadata": {},
     "output_type": "execute_result"
    }
   ],
   "source": [
    "df_home_team_goals = df_team_goals[[ 'season', 'home_team', 'home_team_goal' ]]\n",
    "df_home_team_goals.head()"
   ]
  },
  {
   "cell_type": "code",
   "execution_count": 110,
   "metadata": {},
   "outputs": [
    {
     "data": {
      "text/html": [
       "<div>\n",
       "<style scoped>\n",
       "    .dataframe tbody tr th:only-of-type {\n",
       "        vertical-align: middle;\n",
       "    }\n",
       "\n",
       "    .dataframe tbody tr th {\n",
       "        vertical-align: top;\n",
       "    }\n",
       "\n",
       "    .dataframe thead th {\n",
       "        text-align: right;\n",
       "    }\n",
       "</style>\n",
       "<table border=\"1\" class=\"dataframe\">\n",
       "  <thead>\n",
       "    <tr style=\"text-align: right;\">\n",
       "      <th></th>\n",
       "      <th>season</th>\n",
       "      <th>away_team</th>\n",
       "      <th>away_team_goal</th>\n",
       "    </tr>\n",
       "  </thead>\n",
       "  <tbody>\n",
       "    <tr>\n",
       "      <th>0</th>\n",
       "      <td>2008/2009</td>\n",
       "      <td>FC Basel</td>\n",
       "      <td>2</td>\n",
       "    </tr>\n",
       "  </tbody>\n",
       "</table>\n",
       "</div>"
      ],
      "text/plain": [
       "      season away_team  away_team_goal\n",
       "0  2008/2009  FC Basel               2"
      ]
     },
     "execution_count": 110,
     "metadata": {},
     "output_type": "execute_result"
    }
   ],
   "source": [
    "df_away_team_goals = df_team_goals[[ 'season', 'away_team', 'away_team_goal']]\n",
    "df_away_team_goals.head(1)"
   ]
  },
  {
   "cell_type": "markdown",
   "metadata": {},
   "source": [
    "##### change the columns name of the two dataframe in oder to compute the total score later"
   ]
  },
  {
   "cell_type": "code",
   "execution_count": 111,
   "metadata": {},
   "outputs": [],
   "source": [
    "df_away_team_goals.rename(columns={'away_team':'team_name','away_team_goal': 'goal'},inplace=True)\n",
    "df_home_team_goals.rename(columns={'home_team':'team_name','home_team_goal': 'goal'},inplace=True)"
   ]
  },
  {
   "cell_type": "code",
   "execution_count": 119,
   "metadata": {},
   "outputs": [
    {
     "data": {
      "text/html": [
       "<div>\n",
       "<style scoped>\n",
       "    .dataframe tbody tr th:only-of-type {\n",
       "        vertical-align: middle;\n",
       "    }\n",
       "\n",
       "    .dataframe tbody tr th {\n",
       "        vertical-align: top;\n",
       "    }\n",
       "\n",
       "    .dataframe thead th {\n",
       "        text-align: right;\n",
       "    }\n",
       "</style>\n",
       "<table border=\"1\" class=\"dataframe\">\n",
       "  <thead>\n",
       "    <tr style=\"text-align: right;\">\n",
       "      <th></th>\n",
       "      <th>season</th>\n",
       "      <th>team_name</th>\n",
       "      <th>goal</th>\n",
       "    </tr>\n",
       "  </thead>\n",
       "  <tbody>\n",
       "    <tr>\n",
       "      <th>0</th>\n",
       "      <td>2008/2009</td>\n",
       "      <td>FC Basel</td>\n",
       "      <td>2</td>\n",
       "    </tr>\n",
       "    <tr>\n",
       "      <th>1</th>\n",
       "      <td>2008/2009</td>\n",
       "      <td>FC Sion</td>\n",
       "      <td>1</td>\n",
       "    </tr>\n",
       "    <tr>\n",
       "      <th>2</th>\n",
       "      <td>2008/2009</td>\n",
       "      <td>FC Vaduz</td>\n",
       "      <td>2</td>\n",
       "    </tr>\n",
       "    <tr>\n",
       "      <th>3</th>\n",
       "      <td>2008/2009</td>\n",
       "      <td>FC Zürich</td>\n",
       "      <td>2</td>\n",
       "    </tr>\n",
       "    <tr>\n",
       "      <th>4</th>\n",
       "      <td>2008/2009</td>\n",
       "      <td>Grasshopper Club Zürich</td>\n",
       "      <td>0</td>\n",
       "    </tr>\n",
       "  </tbody>\n",
       "</table>\n",
       "</div>"
      ],
      "text/plain": [
       "      season                team_name  goal\n",
       "0  2008/2009                 FC Basel     2\n",
       "1  2008/2009                  FC Sion     1\n",
       "2  2008/2009                 FC Vaduz     2\n",
       "3  2008/2009                FC Zürich     2\n",
       "4  2008/2009  Grasshopper Club Zürich     0"
      ]
     },
     "execution_count": 119,
     "metadata": {},
     "output_type": "execute_result"
    }
   ],
   "source": [
    "df_away_team_goals.head()"
   ]
  },
  {
   "cell_type": "code",
   "execution_count": 120,
   "metadata": {},
   "outputs": [
    {
     "data": {
      "text/html": [
       "<div>\n",
       "<style scoped>\n",
       "    .dataframe tbody tr th:only-of-type {\n",
       "        vertical-align: middle;\n",
       "    }\n",
       "\n",
       "    .dataframe tbody tr th {\n",
       "        vertical-align: top;\n",
       "    }\n",
       "\n",
       "    .dataframe thead th {\n",
       "        text-align: right;\n",
       "    }\n",
       "</style>\n",
       "<table border=\"1\" class=\"dataframe\">\n",
       "  <thead>\n",
       "    <tr style=\"text-align: right;\">\n",
       "      <th></th>\n",
       "      <th>season</th>\n",
       "      <th>team_name</th>\n",
       "      <th>goal</th>\n",
       "    </tr>\n",
       "  </thead>\n",
       "  <tbody>\n",
       "    <tr>\n",
       "      <th>25973</th>\n",
       "      <td>2015/2016</td>\n",
       "      <td>FC St. Gallen</td>\n",
       "      <td>1</td>\n",
       "    </tr>\n",
       "    <tr>\n",
       "      <th>25974</th>\n",
       "      <td>2015/2016</td>\n",
       "      <td>FC Basel</td>\n",
       "      <td>0</td>\n",
       "    </tr>\n",
       "    <tr>\n",
       "      <th>25975</th>\n",
       "      <td>2015/2016</td>\n",
       "      <td>Lugano</td>\n",
       "      <td>3</td>\n",
       "    </tr>\n",
       "    <tr>\n",
       "      <th>25977</th>\n",
       "      <td>2015/2016</td>\n",
       "      <td>FC Thun</td>\n",
       "      <td>0</td>\n",
       "    </tr>\n",
       "    <tr>\n",
       "      <th>25978</th>\n",
       "      <td>2015/2016</td>\n",
       "      <td>FC Zürich</td>\n",
       "      <td>3</td>\n",
       "    </tr>\n",
       "  </tbody>\n",
       "</table>\n",
       "</div>"
      ],
      "text/plain": [
       "          season      team_name  goal\n",
       "25973  2015/2016  FC St. Gallen     1\n",
       "25974  2015/2016       FC Basel     0\n",
       "25975  2015/2016         Lugano     3\n",
       "25977  2015/2016        FC Thun     0\n",
       "25978  2015/2016      FC Zürich     3"
      ]
     },
     "execution_count": 120,
     "metadata": {},
     "output_type": "execute_result"
    }
   ],
   "source": [
    "df_home_team_goals.tail()"
   ]
  },
  {
   "cell_type": "code",
   "execution_count": 116,
   "metadata": {},
   "outputs": [
    {
     "data": {
      "text/plain": [
       "296"
      ]
     },
     "execution_count": 116,
     "metadata": {},
     "output_type": "execute_result"
    }
   ],
   "source": [
    "df_home_team_goals['team_name'].nunique()"
   ]
  },
  {
   "cell_type": "markdown",
   "metadata": {},
   "source": [
    "?: how many seasons are there in dataset?"
   ]
  },
  {
   "cell_type": "code",
   "execution_count": 117,
   "metadata": {},
   "outputs": [
    {
     "data": {
      "text/plain": [
       "8"
      ]
     },
     "execution_count": 117,
     "metadata": {},
     "output_type": "execute_result"
    }
   ],
   "source": [
    "df_away_team_goals['season'].nunique()"
   ]
  },
  {
   "cell_type": "code",
   "execution_count": 118,
   "metadata": {},
   "outputs": [
    {
     "data": {
      "text/plain": [
       "array(['2008/2009', '2009/2010', '2010/2011', '2011/2012', '2012/2013',\n",
       "       '2013/2014', '2014/2015', '2015/2016'], dtype=object)"
      ]
     },
     "execution_count": 118,
     "metadata": {},
     "output_type": "execute_result"
    }
   ],
   "source": [
    "df_away_team_goals['season'].unique()"
   ]
  },
  {
   "cell_type": "markdown",
   "metadata": {},
   "source": [
    "#### Splite data according to seasons and teams "
   ]
  },
  {
   "cell_type": "code",
   "execution_count": 122,
   "metadata": {},
   "outputs": [],
   "source": [
    "# Get team goal by season\n",
    "def get_season_goal(df):\n",
    "    df_seasons_goals = []\n",
    "    for season_goal in df['season'].unique():\n",
    "#     print(season_goal)\n",
    "        df_season_goal = df.query('season==@season_goal')[['team_name','goal']]\n",
    "        df_season_goal = df_season_goal.groupby('team_name').sum()\n",
    "    \n",
    "        df_seasons_goals.append(df_season_goal)\n",
    "    return df_seasons_goals"
   ]
  },
  {
   "cell_type": "code",
   "execution_count": 123,
   "metadata": {},
   "outputs": [
    {
     "data": {
      "text/html": [
       "<div>\n",
       "<style scoped>\n",
       "    .dataframe tbody tr th:only-of-type {\n",
       "        vertical-align: middle;\n",
       "    }\n",
       "\n",
       "    .dataframe tbody tr th {\n",
       "        vertical-align: top;\n",
       "    }\n",
       "\n",
       "    .dataframe thead th {\n",
       "        text-align: right;\n",
       "    }\n",
       "</style>\n",
       "<table border=\"1\" class=\"dataframe\">\n",
       "  <thead>\n",
       "    <tr style=\"text-align: right;\">\n",
       "      <th></th>\n",
       "      <th>goal</th>\n",
       "    </tr>\n",
       "    <tr>\n",
       "      <th>team_name</th>\n",
       "      <th></th>\n",
       "    </tr>\n",
       "  </thead>\n",
       "  <tbody>\n",
       "    <tr>\n",
       "      <th>1. FC Köln</th>\n",
       "      <td>14</td>\n",
       "    </tr>\n",
       "    <tr>\n",
       "      <th>AC Bellinzona</th>\n",
       "      <td>29</td>\n",
       "    </tr>\n",
       "    <tr>\n",
       "      <th>ADO Den Haag</th>\n",
       "      <td>21</td>\n",
       "    </tr>\n",
       "    <tr>\n",
       "      <th>AJ Auxerre</th>\n",
       "      <td>18</td>\n",
       "    </tr>\n",
       "    <tr>\n",
       "      <th>AS Monaco</th>\n",
       "      <td>26</td>\n",
       "    </tr>\n",
       "  </tbody>\n",
       "</table>\n",
       "</div>"
      ],
      "text/plain": [
       "               goal\n",
       "team_name          \n",
       "1. FC Köln       14\n",
       "AC Bellinzona    29\n",
       "ADO Den Haag     21\n",
       "AJ Auxerre       18\n",
       "AS Monaco        26"
      ]
     },
     "execution_count": 123,
     "metadata": {},
     "output_type": "execute_result"
    }
   ],
   "source": [
    "df_hometeam_seasons_goals = get_season_goals(df_home_team_goals)\n",
    "df_hometeam_seasons_goals[0].head()"
   ]
  },
  {
   "cell_type": "code",
   "execution_count": 124,
   "metadata": {},
   "outputs": [
    {
     "data": {
      "text/html": [
       "<div>\n",
       "<style scoped>\n",
       "    .dataframe tbody tr th:only-of-type {\n",
       "        vertical-align: middle;\n",
       "    }\n",
       "\n",
       "    .dataframe tbody tr th {\n",
       "        vertical-align: top;\n",
       "    }\n",
       "\n",
       "    .dataframe thead th {\n",
       "        text-align: right;\n",
       "    }\n",
       "</style>\n",
       "<table border=\"1\" class=\"dataframe\">\n",
       "  <thead>\n",
       "    <tr style=\"text-align: right;\">\n",
       "      <th></th>\n",
       "      <th>goal</th>\n",
       "    </tr>\n",
       "    <tr>\n",
       "      <th>team_name</th>\n",
       "      <th></th>\n",
       "    </tr>\n",
       "  </thead>\n",
       "  <tbody>\n",
       "    <tr>\n",
       "      <th>1. FC Köln</th>\n",
       "      <td>21</td>\n",
       "    </tr>\n",
       "    <tr>\n",
       "      <th>AC Bellinzona</th>\n",
       "      <td>15</td>\n",
       "    </tr>\n",
       "    <tr>\n",
       "      <th>ADO Den Haag</th>\n",
       "      <td>20</td>\n",
       "    </tr>\n",
       "    <tr>\n",
       "      <th>AJ Auxerre</th>\n",
       "      <td>17</td>\n",
       "    </tr>\n",
       "    <tr>\n",
       "      <th>AS Monaco</th>\n",
       "      <td>15</td>\n",
       "    </tr>\n",
       "  </tbody>\n",
       "</table>\n",
       "</div>"
      ],
      "text/plain": [
       "               goal\n",
       "team_name          \n",
       "1. FC Köln       21\n",
       "AC Bellinzona    15\n",
       "ADO Den Haag     20\n",
       "AJ Auxerre       17\n",
       "AS Monaco        15"
      ]
     },
     "execution_count": 124,
     "metadata": {},
     "output_type": "execute_result"
    }
   ],
   "source": [
    "df_awayteam_seasons_goals = get_season_goals(df_away_team_goals)\n",
    "df_awayteam_seasons_goals[0].head()"
   ]
  },
  {
   "cell_type": "markdown",
   "metadata": {},
   "source": [
    "##### sum of goals by team"
   ]
  },
  {
   "cell_type": "code",
   "execution_count": 138,
   "metadata": {},
   "outputs": [],
   "source": [
    "# combine the two dataframe\n",
    "\n",
    "def get_season_team_goal(df1, df2):\n",
    "    df_season_team_goals = []\n",
    "    for i in range(len(df1)):\n",
    "        df_season_total_goals.append(df1[i].append(df2[i],sort=False))\n",
    "        \n",
    "    \n",
    "    return df_season_total_goals"
   ]
  },
  {
   "cell_type": "code",
   "execution_count": 146,
   "metadata": {},
   "outputs": [],
   "source": [
    "df_season_goal = get_season_goals(df_awayteam_seasons_goals, df_hometeam_seasons_goals)"
   ]
  },
  {
   "cell_type": "code",
   "execution_count": 147,
   "metadata": {},
   "outputs": [
    {
     "data": {
      "text/html": [
       "<div>\n",
       "<style scoped>\n",
       "    .dataframe tbody tr th:only-of-type {\n",
       "        vertical-align: middle;\n",
       "    }\n",
       "\n",
       "    .dataframe tbody tr th {\n",
       "        vertical-align: top;\n",
       "    }\n",
       "\n",
       "    .dataframe thead th {\n",
       "        text-align: right;\n",
       "    }\n",
       "</style>\n",
       "<table border=\"1\" class=\"dataframe\">\n",
       "  <thead>\n",
       "    <tr style=\"text-align: right;\">\n",
       "      <th></th>\n",
       "      <th>goal</th>\n",
       "    </tr>\n",
       "    <tr>\n",
       "      <th>team_name</th>\n",
       "      <th></th>\n",
       "    </tr>\n",
       "  </thead>\n",
       "  <tbody>\n",
       "    <tr>\n",
       "      <th>1. FC Kaiserslautern</th>\n",
       "      <td>12</td>\n",
       "    </tr>\n",
       "    <tr>\n",
       "      <th>1. FC Köln</th>\n",
       "      <td>19</td>\n",
       "    </tr>\n",
       "    <tr>\n",
       "      <th>1. FC Nürnberg</th>\n",
       "      <td>16</td>\n",
       "    </tr>\n",
       "    <tr>\n",
       "      <th>1. FSV Mainz 05</th>\n",
       "      <td>20</td>\n",
       "    </tr>\n",
       "    <tr>\n",
       "      <th>AC Ajaccio</th>\n",
       "      <td>18</td>\n",
       "    </tr>\n",
       "  </tbody>\n",
       "</table>\n",
       "</div>"
      ],
      "text/plain": [
       "                      goal\n",
       "team_name                 \n",
       "1. FC Kaiserslautern    12\n",
       "1. FC Köln              19\n",
       "1. FC Nürnberg          16\n",
       "1. FSV Mainz 05         20\n",
       "AC Ajaccio              18"
      ]
     },
     "execution_count": 147,
     "metadata": {},
     "output_type": "execute_result"
    }
   ],
   "source": [
    "df_season_goal[3].head()"
   ]
  },
  {
   "cell_type": "code",
   "execution_count": 145,
   "metadata": {},
   "outputs": [],
   "source": [
    "# sum the goals by team\n",
    "def add_goals_by_team(df):\n",
    "    for i in range(len(df)):\n",
    "        df[i] = df[i].groupby('team_name').sum()\n",
    "    return df"
   ]
  },
  {
   "cell_type": "code",
   "execution_count": 151,
   "metadata": {},
   "outputs": [
    {
     "data": {
      "text/html": [
       "<div>\n",
       "<style scoped>\n",
       "    .dataframe tbody tr th:only-of-type {\n",
       "        vertical-align: middle;\n",
       "    }\n",
       "\n",
       "    .dataframe tbody tr th {\n",
       "        vertical-align: top;\n",
       "    }\n",
       "\n",
       "    .dataframe thead th {\n",
       "        text-align: right;\n",
       "    }\n",
       "</style>\n",
       "<table border=\"1\" class=\"dataframe\">\n",
       "  <thead>\n",
       "    <tr style=\"text-align: right;\">\n",
       "      <th></th>\n",
       "      <th>goal</th>\n",
       "    </tr>\n",
       "    <tr>\n",
       "      <th>team_name</th>\n",
       "      <th></th>\n",
       "    </tr>\n",
       "  </thead>\n",
       "  <tbody>\n",
       "    <tr>\n",
       "      <th>1. FC Kaiserslautern</th>\n",
       "      <td>48</td>\n",
       "    </tr>\n",
       "    <tr>\n",
       "      <th>1. FC Köln</th>\n",
       "      <td>47</td>\n",
       "    </tr>\n",
       "    <tr>\n",
       "      <th>1. FC Nürnberg</th>\n",
       "      <td>47</td>\n",
       "    </tr>\n",
       "    <tr>\n",
       "      <th>1. FSV Mainz 05</th>\n",
       "      <td>52</td>\n",
       "    </tr>\n",
       "    <tr>\n",
       "      <th>AC Arles-Avignon</th>\n",
       "      <td>21</td>\n",
       "    </tr>\n",
       "  </tbody>\n",
       "</table>\n",
       "</div>"
      ],
      "text/plain": [
       "                      goal\n",
       "team_name                 \n",
       "1. FC Kaiserslautern    48\n",
       "1. FC Köln              47\n",
       "1. FC Nürnberg          47\n",
       "1. FSV Mainz 05         52\n",
       "AC Arles-Avignon        21"
      ]
     },
     "execution_count": 151,
     "metadata": {},
     "output_type": "execute_result"
    }
   ],
   "source": [
    "df_season_total_goals = add_goals_by_team(df_season_goal)\n",
    "df_season_total_goals[2].head()"
   ]
  },
  {
   "cell_type": "code",
   "execution_count": 153,
   "metadata": {},
   "outputs": [
    {
     "data": {
      "text/html": [
       "<div>\n",
       "<style scoped>\n",
       "    .dataframe tbody tr th:only-of-type {\n",
       "        vertical-align: middle;\n",
       "    }\n",
       "\n",
       "    .dataframe tbody tr th {\n",
       "        vertical-align: top;\n",
       "    }\n",
       "\n",
       "    .dataframe thead th {\n",
       "        text-align: right;\n",
       "    }\n",
       "</style>\n",
       "<table border=\"1\" class=\"dataframe\">\n",
       "  <thead>\n",
       "    <tr style=\"text-align: right;\">\n",
       "      <th></th>\n",
       "      <th>goal</th>\n",
       "    </tr>\n",
       "    <tr>\n",
       "      <th>team_name</th>\n",
       "      <th></th>\n",
       "    </tr>\n",
       "  </thead>\n",
       "  <tbody>\n",
       "    <tr>\n",
       "      <th>FC Barcelona</th>\n",
       "      <td>105</td>\n",
       "    </tr>\n",
       "    <tr>\n",
       "      <th>Real Madrid CF</th>\n",
       "      <td>83</td>\n",
       "    </tr>\n",
       "    <tr>\n",
       "      <th>Atlético Madrid</th>\n",
       "      <td>80</td>\n",
       "    </tr>\n",
       "    <tr>\n",
       "      <th>VfL Wolfsburg</th>\n",
       "      <td>80</td>\n",
       "    </tr>\n",
       "    <tr>\n",
       "      <th>BSC Young Boys</th>\n",
       "      <td>79</td>\n",
       "    </tr>\n",
       "  </tbody>\n",
       "</table>\n",
       "</div>"
      ],
      "text/plain": [
       "                 goal\n",
       "team_name            \n",
       "FC Barcelona      105\n",
       "Real Madrid CF     83\n",
       "Atlético Madrid    80\n",
       "VfL Wolfsburg      80\n",
       "BSC Young Boys     79"
      ]
     },
     "execution_count": 153,
     "metadata": {},
     "output_type": "execute_result"
    }
   ],
   "source": [
    "df_season_total_goals[0].sort_values(by='goal',ascending=False).head()"
   ]
  },
  {
   "cell_type": "code",
   "execution_count": 156,
   "metadata": {},
   "outputs": [
    {
     "data": {
      "text/html": [
       "<div>\n",
       "<style scoped>\n",
       "    .dataframe tbody tr th:only-of-type {\n",
       "        vertical-align: middle;\n",
       "    }\n",
       "\n",
       "    .dataframe tbody tr th {\n",
       "        vertical-align: top;\n",
       "    }\n",
       "\n",
       "    .dataframe thead th {\n",
       "        text-align: right;\n",
       "    }\n",
       "</style>\n",
       "<table border=\"1\" class=\"dataframe\">\n",
       "  <thead>\n",
       "    <tr style=\"text-align: right;\">\n",
       "      <th></th>\n",
       "      <th>goal</th>\n",
       "    </tr>\n",
       "    <tr>\n",
       "      <th>team_name</th>\n",
       "      <th></th>\n",
       "    </tr>\n",
       "  </thead>\n",
       "  <tbody>\n",
       "    <tr>\n",
       "      <th>FC Barcelona</th>\n",
       "      <td>112</td>\n",
       "    </tr>\n",
       "    <tr>\n",
       "      <th>Real Madrid CF</th>\n",
       "      <td>110</td>\n",
       "    </tr>\n",
       "    <tr>\n",
       "      <th>Paris Saint-Germain</th>\n",
       "      <td>102</td>\n",
       "    </tr>\n",
       "    <tr>\n",
       "      <th>PSV</th>\n",
       "      <td>88</td>\n",
       "    </tr>\n",
       "    <tr>\n",
       "      <th>SL Benfica</th>\n",
       "      <td>88</td>\n",
       "    </tr>\n",
       "  </tbody>\n",
       "</table>\n",
       "</div>"
      ],
      "text/plain": [
       "                     goal\n",
       "team_name                \n",
       "FC Barcelona          112\n",
       "Real Madrid CF        110\n",
       "Paris Saint-Germain   102\n",
       "PSV                    88\n",
       "SL Benfica             88"
      ]
     },
     "execution_count": 156,
     "metadata": {},
     "output_type": "execute_result"
    }
   ],
   "source": [
    "df_season_total_goals[7].sort_values(by='goal',ascending=False).head()"
   ]
  },
  {
   "cell_type": "code",
   "execution_count": 185,
   "metadata": {},
   "outputs": [],
   "source": [
    "df_season_improve = []\n",
    "for i in range(7):\n",
    "    df_improve = []\n",
    "    df_improve = df_season_total_goals[i+1].sub(df_season_total_goals[i],fill_value=0)\n",
    "    df_improve.rename(columns={'goal': 'improvement'},inplace=True)\n",
    "    df_season_improve.append(df_improve)\n"
   ]
  },
  {
   "cell_type": "code",
   "execution_count": 186,
   "metadata": {},
   "outputs": [
    {
     "data": {
      "text/html": [
       "<div>\n",
       "<style scoped>\n",
       "    .dataframe tbody tr th:only-of-type {\n",
       "        vertical-align: middle;\n",
       "    }\n",
       "\n",
       "    .dataframe tbody tr th {\n",
       "        vertical-align: top;\n",
       "    }\n",
       "\n",
       "    .dataframe thead th {\n",
       "        text-align: right;\n",
       "    }\n",
       "</style>\n",
       "<table border=\"1\" class=\"dataframe\">\n",
       "  <thead>\n",
       "    <tr style=\"text-align: right;\">\n",
       "      <th></th>\n",
       "      <th>improvement</th>\n",
       "    </tr>\n",
       "    <tr>\n",
       "      <th>team_name</th>\n",
       "      <th></th>\n",
       "    </tr>\n",
       "  </thead>\n",
       "  <tbody>\n",
       "    <tr>\n",
       "      <th>1. FC Kaiserslautern</th>\n",
       "      <td>-24.0</td>\n",
       "    </tr>\n",
       "    <tr>\n",
       "      <th>1. FC Köln</th>\n",
       "      <td>-39.0</td>\n",
       "    </tr>\n",
       "    <tr>\n",
       "      <th>1. FC Nürnberg</th>\n",
       "      <td>1.0</td>\n",
       "    </tr>\n",
       "    <tr>\n",
       "      <th>1. FSV Mainz 05</th>\n",
       "      <td>-5.0</td>\n",
       "    </tr>\n",
       "    <tr>\n",
       "      <th>AC Ajaccio</th>\n",
       "      <td>-1.0</td>\n",
       "    </tr>\n",
       "  </tbody>\n",
       "</table>\n",
       "</div>"
      ],
      "text/plain": [
       "                      improvement\n",
       "team_name                        \n",
       "1. FC Kaiserslautern        -24.0\n",
       "1. FC Köln                  -39.0\n",
       "1. FC Nürnberg                1.0\n",
       "1. FSV Mainz 05              -5.0\n",
       "AC Ajaccio                   -1.0"
      ]
     },
     "execution_count": 186,
     "metadata": {},
     "output_type": "execute_result"
    }
   ],
   "source": [
    "df_season_improve[3].head()"
   ]
  },
  {
   "cell_type": "code",
   "execution_count": 206,
   "metadata": {},
   "outputs": [
    {
     "name": "stdout",
     "output_type": "stream",
     "text": [
      "['FC Aarau' 'AC Bellinzona' 'FC St. Gallen' 'FC Zürich' 'Neuchâtel Xamax'\n",
      " 'BSC Young Boys' 'FC Basel' 'Grasshopper Club Zürich' 'FC Sion'\n",
      " 'FC Luzern' 'Standard de Liège' 'SC Heerenveen' 'Lechia Gdańsk'\n",
      " 'Polonia Bytom' 'Sporting Lokeren' 'KV Kortrijk' 'KV Mechelen'\n",
      " 'KSV Roeselare' 'Willem II' 'RKC Waalwijk' 'Sparta Rotterdam'\n",
      " 'Heracles Almelo' 'Wisła Kraków' 'Jagiellonia Białystok' 'Śląsk Wrocław'\n",
      " 'Sporting Charleroi' 'KSV Cercle Brugge' 'PSV' 'Feyenoord' 'ADO Den Haag'\n",
      " 'FC Groningen' 'Korona Kielce' 'Legia Warszawa' 'Piast Gliwice'\n",
      " 'Beerschot AC' 'VfL Wolfsburg' 'N.E.C.' 'AZ' 'Zagłębie Lubin' 'Cracovia'\n",
      " 'RSC Anderlecht' 'Sint-Truidense VV' 'SV Zulte-Waregem' 'KVC Westerlo'\n",
      " 'AJ Auxerre' 'Grenoble Foot 38' 'Le Mans FC' 'AS Monaco'\n",
      " 'Montpellier Hérault SC' 'Stade Rennais FC' 'AS Saint-Étienne'\n",
      " 'Valenciennes FC' 'Borussia Dortmund' 'SV Werder Bremen'\n",
      " 'Hertha BSC Berlin' '1. FC Nürnberg' '1. FSV Mainz 05'\n",
      " 'TSG 1899 Hoffenheim' 'Ajax' 'Roda JC Kerkrade' 'GKS Bełchatów'\n",
      " 'Odra Wodzisław' 'Ruch Chorzów' 'Club Brugge KV' 'KAA Gent'\n",
      " 'Girondins de Bordeaux' 'LOSC Lille' 'SC Freiburg' 'VfL Bochum' 'Vitesse'\n",
      " 'FC Twente' 'FC Utrecht' 'NAC Breda' 'VVV-Venlo' 'Arka Gdynia'\n",
      " 'P. Warszawa' 'Leixões SC' 'KRC Genk' 'Aston Villa' 'Everton'\n",
      " 'Wolverhampton Wanderers' 'Blackburn Rovers' 'Bolton Wanderers'\n",
      " 'Portsmouth' 'Stoke City' 'Chelsea' 'RC Lens' 'FC Lorient'\n",
      " 'Olympique Lyonnais' 'AS Nancy-Lorraine' 'Paris Saint-Germain'\n",
      " 'FC Sochaux-Montbéliard' 'Toulouse FC' 'FC Bayern Munich'\n",
      " 'Bayer 04 Leverkusen' 'Hamburger SV' 'VfB Stuttgart'\n",
      " 'Eintracht Frankfurt' '1. FC Köln' 'Hannover 96' 'SC Braga' 'CD Nacional'\n",
      " 'Rangers' 'Aberdeen' 'Kilmarnock' 'Hibernian' 'St. Johnstone FC'\n",
      " 'Manchester United' 'Tottenham Hotspur' \"US Boulogne Cote D'Opale\"\n",
      " 'Olympique de Marseille' 'OGC Nice' 'FC Schalke 04'\n",
      " 'Borussia Mönchengladbach' 'Lech Poznań' 'SL Benfica'\n",
      " 'União de Leiria, SAD' 'Naval 1° de Maio' 'FC Paços de Ferreira'\n",
      " 'Vitória Setúbal' 'Dundee United' 'Sunderland' 'Wigan Athletic'\n",
      " 'Birmingham City' 'Hull City' 'Burnley' 'Liverpool' 'S.C. Olhanense'\n",
      " 'Arsenal' 'Manchester City' 'Bologna' 'Siena' 'Académica de Coimbra'\n",
      " 'Sporting CP' 'Falkirk' 'Celtic' 'St. Mirren' 'Hamilton Academical FC'\n",
      " 'Motherwell' 'West Ham United' 'Fulham' 'Catania' 'Genoa' 'Inter'\n",
      " 'Juventus' 'Lazio' 'Livorno' 'Palermo' 'Udinese' 'Vitória Guimarães'\n",
      " 'FC Porto' 'CS Marítimo' 'Rio Ave FC' 'Heart of Midlothian'\n",
      " 'CF Os Belenenses' 'Bari' 'Milan' 'Real Madrid CF' 'Real Zaragoza'\n",
      " 'Atalanta' 'Cagliari' 'Chievo Verona' 'Fiorentina' 'Napoli' 'Parma'\n",
      " 'Roma' 'Sampdoria' 'Athletic Club de Bilbao' 'RCD Mallorca' 'CA Osasuna'\n",
      " 'Valencia CF' 'UD Almería' 'Racing Santander' 'Málaga CF' 'FC Barcelona'\n",
      " 'RCD Espanyol' 'Sevilla FC' 'Getafe CF' 'Atlético Madrid'\n",
      " 'RC Deportivo de La Coruña' 'Xerez Club Deportivo' 'Villarreal CF'\n",
      " 'CD Tenerife' 'Real Valladolid' 'Real Sporting de Gijón']\n",
      "185\n"
     ]
    }
   ],
   "source": [
    "home_team_name = df_team_goals.query('season==\"2009/2010\"').home_team.unique()\n",
    "print(home_team_name)\n",
    "print(len(home_team_name))"
   ]
  },
  {
   "cell_type": "code",
   "execution_count": 205,
   "metadata": {},
   "outputs": [
    {
     "name": "stdout",
     "output_type": "stream",
     "text": [
      "['BSC Young Boys' 'FC Aarau' 'FC Luzern' 'Neuchâtel Xamax' 'FC Basel'\n",
      " 'AC Bellinzona' 'FC Zürich' 'FC Sion' 'FC Vaduz'\n",
      " 'Grasshopper Club Zürich' 'Legia Warszawa' 'Lech Poznań' 'AJ Auxerre'\n",
      " 'Girondins de Bordeaux' 'Le Havre AC' 'Le Mans FC' 'AS Monaco'\n",
      " 'AS Nancy-Lorraine' 'Stade Rennais FC' 'FC Sochaux-Montbéliard'\n",
      " 'Valenciennes FC' 'Wisła Kraków' 'Śląsk Wrocław' 'Widzew Łódź'\n",
      " 'Piast Gliwice' 'Falkirk' 'Heart of Midlothian' 'Kilmarnock' 'Aberdeen'\n",
      " 'Olympique Lyonnais' 'Polonia Bytom' 'Arka Gdynia' 'Celtic'\n",
      " 'Hamilton Academical FC' 'FC Bayern Munich' 'Cracovia' 'SV Zulte-Waregem'\n",
      " 'KSV Cercle Brugge' 'FCV Dender EH' 'KSV Roeselare' 'Tubize'\n",
      " 'KVC Westerlo' 'Arsenal' 'Sunderland' 'West Ham United' 'Everton'\n",
      " 'Middlesbrough' 'Bolton Wanderers' 'Hull City' 'SM Caen' 'LOSC Lille'\n",
      " 'FC Nantes' 'OGC Nice' 'Paris Saint-Germain' 'AS Saint-Étienne'\n",
      " 'Toulouse FC' 'Bayer 04 Leverkusen' 'FC Schalke 04' 'VfL Wolfsburg'\n",
      " 'DSC Arminia Bielefeld' 'FC Energie Cottbus' 'Karlsruher SC'\n",
      " 'Ruch Chorzów' 'P. Warszawa' 'GKS Bełchatów' 'Rangers' 'Motherwell'\n",
      " 'Hibernian' 'Inverness Caledonian Thistle' 'St. Mirren' 'KRC Genk'\n",
      " 'KAA Gent' 'Manchester United' 'Aston Villa' 'Chelsea' 'Grenoble Foot 38'\n",
      " 'FC Lorient' 'Olympique de Marseille' 'Eintracht Frankfurt'\n",
      " 'Borussia Mönchengladbach' 'Odra Wodzisław' 'Jagiellonia Białystok'\n",
      " 'Dundee United' 'Hannover 96' 'Vitória Guimarães' 'RSC Anderlecht'\n",
      " 'Standard de Liège' 'Sporting Charleroi' 'Sporting Lokeren'\n",
      " 'Royal Excel Mouscron' 'KV Kortrijk' 'Beerschot AC' 'Liverpool'\n",
      " 'Tottenham Hotspur' 'Newcastle United' 'Blackburn Rovers' 'Fulham'\n",
      " 'West Bromwich Albion' 'Stoke City' 'Hamburger SV' 'Borussia Dortmund'\n",
      " 'VfB Stuttgart' 'SV Werder Bremen' 'Hertha BSC Berlin'\n",
      " 'TSG 1899 Hoffenheim' 'Sporting CP' 'FC Paços de Ferreira' 'RAEC Mons'\n",
      " 'Manchester City' 'Wigan Athletic' '1. FC Köln' 'VfL Bochum'\n",
      " 'Lechia Gdańsk' 'FC Porto' 'Amadora' 'Rio Ave FC' 'Leixões SC'\n",
      " 'Naval 1° de Maio' 'Portsmouth' 'Vitesse' 'CF Os Belenenses'\n",
      " 'KV Mechelen' 'Sampdoria' 'Udinese' 'Roda JC Kerkrade' 'Willem II'\n",
      " 'N.E.C.' 'FC Utrecht' 'SL Benfica' 'Valencia CF' 'RCD Espanyol'\n",
      " 'Atalanta' 'Cagliari' 'Catania' 'Chievo Verona' 'Fiorentina' 'Milan'\n",
      " 'Roma' 'Torino' 'Heracles Almelo' 'Sparta Rotterdam' 'FC Volendam' 'AZ'\n",
      " 'Vitória Setúbal' 'CD Nacional' 'Académica de Coimbra' 'Trofense'\n",
      " 'CA Osasuna' 'RC Deportivo de La Coruña' 'CD Numancia' 'Racing Santander'\n",
      " 'Real Sporting de Gijón' 'Real Betis Balompié' 'Athletic Club de Bilbao'\n",
      " 'Atlético Madrid' 'CS Marítimo' 'SC Braga' 'SC Heerenveen'\n",
      " 'Club Brugge KV' 'Palermo' 'Inter' 'PSV' 'ADO Den Haag' 'FC Twente'\n",
      " 'Feyenoord' 'FC Barcelona' 'Sevilla FC' 'Real Valladolid' 'Bologna'\n",
      " 'Siena' 'Reggio Calabria' 'Napoli' 'Lecce' 'Lazio' 'Juventus' 'Genoa'\n",
      " 'De Graafschap' 'NAC Breda' 'FC Groningen' 'Ajax' 'Villarreal CF'\n",
      " 'Real Madrid CF' 'Getafe CF' 'RC Recreativo' 'Málaga CF' 'UD Almería'\n",
      " 'RCD Mallorca']\n",
      "187\n"
     ]
    }
   ],
   "source": [
    "home_team_name = df_team_goals.query('season==\"2008/2009\"').home_team.unique()\n",
    "print(home_team_name)\n",
    "print(len(home_team_name))"
   ]
  },
  {
   "cell_type": "code",
   "execution_count": 187,
   "metadata": {},
   "outputs": [
    {
     "name": "stdout",
     "output_type": "stream",
     "text": [
      "                team_name  improvement\n",
      "0        St. Johnstone FC         56.0\n",
      "1           FC St. Gallen         53.0\n",
      "2  Montpellier Hérault SC         50.0\n",
      "--------------------------------------------------------------------------\n",
      "              team_name  improvement\n",
      "0  West Bromwich Albion         56.0\n",
      "1      Newcastle United         56.0\n",
      "2             Blackpool         55.0\n",
      "--------------------------------------------------------------------------\n",
      "                  team_name  improvement\n",
      "0  Évian Thonon Gaillard FC         54.0\n",
      "1            Rayo Vallecano         53.0\n",
      "2              Norwich City         52.0\n",
      "--------------------------------------------------------------------------\n",
      "         team_name  improvement\n",
      "0    FC St. Gallen         54.0\n",
      "1        SC Bastia         50.0\n",
      "2  Real Valladolid         49.0\n",
      "--------------------------------------------------------------------------\n",
      "       team_name  improvement\n",
      "0      AS Monaco         63.0\n",
      "1  Hellas Verona         62.0\n",
      "2  Villarreal CF         60.0\n",
      "--------------------------------------------------------------------------\n",
      "        team_name  improvement\n",
      "0  Club Brugge KV         69.0\n",
      "1         SM Caen         54.0\n",
      "2     KV Kortrijk         54.0\n",
      "--------------------------------------------------------------------------\n",
      "             team_name  improvement\n",
      "0  Heart of Midlothian         59.0\n",
      "1               Lugano         45.0\n",
      "2        UD Las Palmas         45.0\n",
      "--------------------------------------------------------------------------\n"
     ]
    }
   ],
   "source": [
    "for i in range(7):\n",
    "    \n",
    "    df_season_improve[i] = df_season_improve[i].sort_values(by='improvement', ascending=False)\n",
    "    df_season_improve[i].reset_index(level=0, inplace=True)\n",
    "    print(df_season_improve[i].head(3))\n",
    "    print('--------------------------------------------------------------------------')"
   ]
  },
  {
   "cell_type": "markdown",
   "metadata": {},
   "source": [
    "### Question 2: Which players had the most penalties?"
   ]
  },
  {
   "cell_type": "code",
   "execution_count": 197,
   "metadata": {},
   "outputs": [
    {
     "data": {
      "text/html": [
       "<div>\n",
       "<style scoped>\n",
       "    .dataframe tbody tr th:only-of-type {\n",
       "        vertical-align: middle;\n",
       "    }\n",
       "\n",
       "    .dataframe tbody tr th {\n",
       "        vertical-align: top;\n",
       "    }\n",
       "\n",
       "    .dataframe thead th {\n",
       "        text-align: right;\n",
       "    }\n",
       "</style>\n",
       "<table border=\"1\" class=\"dataframe\">\n",
       "  <thead>\n",
       "    <tr style=\"text-align: right;\">\n",
       "      <th></th>\n",
       "      <th>player_name</th>\n",
       "      <th>penalties</th>\n",
       "    </tr>\n",
       "  </thead>\n",
       "  <tbody>\n",
       "    <tr>\n",
       "      <th>0</th>\n",
       "      <td>Aaron Appindangoye</td>\n",
       "      <td>48.0</td>\n",
       "    </tr>\n",
       "    <tr>\n",
       "      <th>1</th>\n",
       "      <td>Aaron Appindangoye</td>\n",
       "      <td>48.0</td>\n",
       "    </tr>\n",
       "  </tbody>\n",
       "</table>\n",
       "</div>"
      ],
      "text/plain": [
       "          player_name  penalties\n",
       "0  Aaron Appindangoye       48.0\n",
       "1  Aaron Appindangoye       48.0"
      ]
     },
     "execution_count": 197,
     "metadata": {},
     "output_type": "execute_result"
    }
   ],
   "source": [
    "df_players=pd.read_csv('./dataset/player_penaltities.csv')\n",
    "df_players.head(2)"
   ]
  },
  {
   "cell_type": "code",
   "execution_count": 198,
   "metadata": {},
   "outputs": [],
   "source": [
    "df_player_total_penalties = df_players.groupby('player_name').sum()"
   ]
  },
  {
   "cell_type": "code",
   "execution_count": 204,
   "metadata": {},
   "outputs": [
    {
     "data": {
      "text/html": [
       "<div>\n",
       "<style scoped>\n",
       "    .dataframe tbody tr th:only-of-type {\n",
       "        vertical-align: middle;\n",
       "    }\n",
       "\n",
       "    .dataframe tbody tr th {\n",
       "        vertical-align: top;\n",
       "    }\n",
       "\n",
       "    .dataframe thead th {\n",
       "        text-align: right;\n",
       "    }\n",
       "</style>\n",
       "<table border=\"1\" class=\"dataframe\">\n",
       "  <thead>\n",
       "    <tr style=\"text-align: right;\">\n",
       "      <th></th>\n",
       "      <th>penalties</th>\n",
       "    </tr>\n",
       "    <tr>\n",
       "      <th>player_name</th>\n",
       "      <th></th>\n",
       "    </tr>\n",
       "  </thead>\n",
       "  <tbody>\n",
       "    <tr>\n",
       "      <th>Danilo</th>\n",
       "      <td>6358.0</td>\n",
       "    </tr>\n",
       "    <tr>\n",
       "      <th>Fernando</th>\n",
       "      <td>4764.0</td>\n",
       "    </tr>\n",
       "    <tr>\n",
       "      <th>Douglas</th>\n",
       "      <td>4687.0</td>\n",
       "    </tr>\n",
       "    <tr>\n",
       "      <th>Josue</th>\n",
       "      <td>4671.0</td>\n",
       "    </tr>\n",
       "    <tr>\n",
       "      <th>Rafinha</th>\n",
       "      <td>4633.0</td>\n",
       "    </tr>\n",
       "    <tr>\n",
       "      <th>Alessio Cerci</th>\n",
       "      <td>4314.0</td>\n",
       "    </tr>\n",
       "    <tr>\n",
       "      <th>Carlos Eduardo</th>\n",
       "      <td>4306.0</td>\n",
       "    </tr>\n",
       "    <tr>\n",
       "      <th>Maicon</th>\n",
       "      <td>4263.0</td>\n",
       "    </tr>\n",
       "    <tr>\n",
       "      <th>Diego</th>\n",
       "      <td>4259.0</td>\n",
       "    </tr>\n",
       "    <tr>\n",
       "      <th>Mario Balotelli</th>\n",
       "      <td>4120.0</td>\n",
       "    </tr>\n",
       "  </tbody>\n",
       "</table>\n",
       "</div>"
      ],
      "text/plain": [
       "                 penalties\n",
       "player_name               \n",
       "Danilo              6358.0\n",
       "Fernando            4764.0\n",
       "Douglas             4687.0\n",
       "Josue               4671.0\n",
       "Rafinha             4633.0\n",
       "Alessio Cerci       4314.0\n",
       "Carlos Eduardo      4306.0\n",
       "Maicon              4263.0\n",
       "Diego               4259.0\n",
       "Mario Balotelli     4120.0"
      ]
     },
     "execution_count": 204,
     "metadata": {},
     "output_type": "execute_result"
    }
   ],
   "source": [
    "df_player_total_penalties.sort_values(by='penalties',ascending=False).head(10)"
   ]
  },
  {
   "cell_type": "markdown",
   "metadata": {},
   "source": [
    "<a id='conclusions'></a>\n",
    "## Conclusions\n",
    "\n",
    "> **Tip**: Finally, summarize your findings and the results that have been performed. Make sure that you are clear with regards to the limitations of your exploration. If you haven't done any statistical tests, do not imply any statistical conclusions. And make sure you avoid implying causation from correlation!\n",
    "\n",
    "> **Tip**: Once you are satisfied with your work, you should save a copy of the report in HTML or PDF form via the **File** > **Download as** submenu. Before exporting your report, check over it to make sure that the flow of the report is complete. You should probably remove all of the \"Tip\" quotes like this one so that the presentation is as tidy as possible. Congratulations!"
   ]
  },
  {
   "cell_type": "code",
   "execution_count": null,
   "metadata": {},
   "outputs": [],
   "source": []
  }
 ],
 "metadata": {
  "kernelspec": {
   "display_name": "Python 3",
   "language": "python",
   "name": "python3"
  },
  "language_info": {
   "codemirror_mode": {
    "name": "ipython",
    "version": 3
   },
   "file_extension": ".py",
   "mimetype": "text/x-python",
   "name": "python",
   "nbconvert_exporter": "python",
   "pygments_lexer": "ipython3",
   "version": "3.6.6"
  }
 },
 "nbformat": 4,
 "nbformat_minor": 2
}
