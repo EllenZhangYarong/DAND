{
 "cells": [
  {
   "cell_type": "markdown",
   "metadata": {},
   "source": [
    "# Univariate Visualizations"
   ]
  },
  {
   "cell_type": "markdown",
   "metadata": {},
   "source": [
    "## Bar Charts"
   ]
  },
  {
   "cell_type": "code",
   "execution_count": 2,
   "metadata": {},
   "outputs": [],
   "source": [
    "import numpy as np\n",
    "import pandas as pd\n",
    "import matplotlib.pyplot as plt\n",
    "import seaborn as sns\n",
    "%matplotlib inline"
   ]
  },
  {
   "cell_type": "markdown",
   "metadata": {},
   "source": [
    "```sb.countplot(data = df, x = 'cat_var')```\n",
    "\n",
    "\n",
    "```base_color = sb.color_palette()[0]\n",
    "sns.countplot(data = df, x = 'cat_var', color = base_color)```\n",
    "\n",
    "```base_color = sb.color_palette()[0]\n",
    "cat_order = df['cat_var'].value_counts().index\n",
    "sns.countplot(data = df, x = 'cat_var', color = base_color, order = cat_order)```\n",
    "\n",
    "\n",
    "\n",
    "- this method requires pandas v0.21 or later\n",
    "\n",
    "```level_order = ['Alpha', 'Beta', 'Gamma', 'Delta']\n",
    "ordered_cat = pd.api.types.CategoricalDtype(ordered = True, categories = level_order)\n",
    "df['cat_var'] = df['cat_var'].astype(ordered_cat)```\n",
    "\n",
    "\n",
    "- horizontal bar chart\n",
    "\n",
    "```base_color = sb.color_palette()[0]\n",
    "sb.countplot(data = df, y = 'cat_var', color = base_color)```\n",
    "\n",
    "- horizontal labels\n",
    "\n",
    "```base_color = sb.color_palette()[0]\n",
    "sb.countplot(data = df, x = 'cat_var', color = base_color)\n",
    "plt.xticks(rotation = 90)```"
   ]
  },
  {
   "cell_type": "markdown",
   "metadata": {},
   "source": [
    "### Absolute vs. Relative Frequency\n",
    "\n",
    "- Relative Frequency : The proportion of the data that falls in each category"
   ]
  },
  {
   "cell_type": "markdown",
   "metadata": {},
   "source": [
    "\n",
    "- get proportion taken by most common group for derivation\n",
    "- of tick marks\n",
    "\n",
    "```n_points = df.shape[0]\n",
    "max_count = df['cat_var'].value_counts().max()\n",
    "max_prop = max_count / n_points```\n",
    "\n",
    "- generate tick mark locations and names\n",
    "\n",
    "```tick_props = np.arange(0, max_prop, 0.05)\n",
    "tick_names = ['{:0.2f}'.format(v) for v in tick_props]```\n",
    "\n",
    "- create the plot\n",
    "\n",
    "```base_color = sb.color_palette()[0]\n",
    "sb.countplot(data = df, x = 'cat_var', color = base_color)\n",
    "plt.yticks(tick_props * n_points, tick_names)\n",
    "plt.ylabel('proportion')```"
   ]
  },
  {
   "cell_type": "markdown",
   "metadata": {},
   "source": [
    "### use text annotations to label the frequencies on bars\n",
    "\n",
    "```python\n",
    "# create the plot\n",
    "base_color = sb.color_palette()[0]\n",
    "sb.countplot(data = df, x = 'cat_var', color = base_color)\n",
    "\n",
    "# add annotations\n",
    "n_points = df.shape[0]\n",
    "cat_counts = df['cat_var'].value_counts()\n",
    "locs, labels = plt.xticks() # get the current tick locations and labels\n",
    "\n",
    "# loop through each pair of locations and labels\n",
    "\n",
    "\n",
    "for loc, label in zip(locs, labels):\n",
    "\n",
    "    # get the text property for the label to get the correct count\n",
    "    count = cat_counts[label.get_text()]\n",
    "    pct_string = '{:0.1f}%'.format(100*count/n_points)\n",
    "\n",
    "    # print the annotation just below the top of the bar\n",
    "    plt.text(loc, count-8, pct_string, ha = 'center', color = 'w')\n",
    "    \n",
    "```"
   ]
  },
  {
   "cell_type": "markdown",
   "metadata": {},
   "source": [
    "### Counting Missing Data\n",
    "\n",
    "```python\n",
    "na_counts = df.isna().sum()\n",
    "base_color = sns.color_palette()[0]\n",
    "sns.barplot(na_counts.index.values, na_counts, color = base_color)\n",
    "```"
   ]
  },
  {
   "cell_type": "markdown",
   "metadata": {},
   "source": [
    "## Pie Charts - Relative Frequency\n",
    "\n",
    "### When to use pie or donut charts\n",
    "1. Showing how the data is broken down into parts\n",
    "2. Plotting a small number of slices (two or three)\n"
   ]
  },
  {
   "cell_type": "markdown",
   "metadata": {},
   "source": [
    "```python\n",
    "# code for the pie chart seen above\n",
    "sorted_counts = df['cat_var'].value_counts()\n",
    "plt.pie(sorted_counts, labels = sorted_counts.index, startangle = 90,\n",
    "        counterclock = False);\n",
    "plt.axis('square')\n",
    "```"
   ]
  },
  {
   "cell_type": "markdown",
   "metadata": {},
   "source": [
    "### Donut chart\n",
    "```python\n",
    "sorted_counts = df['cat_var'].value_counts()\n",
    "plt.pie(sorted_counts, labels = sorted_counts.index, startangle = 90,\n",
    "        counterclock = False, wedgeprops = {'width' : 0.4});\n",
    "plt.axis('square')\n",
    "```"
   ]
  },
  {
   "cell_type": "markdown",
   "metadata": {},
   "source": [
    "## Histograms\n",
    "\n",
    "- A histogram is used to plot the distribution of a numeric variable. It's the quantitative version of the bar chart. However, rather than plot one bar for each unique numeric value, values are grouped into continuous bins, and one bar for each bin is plotted depicting the number. For instance, using the default settings for matplotlib's hist function:\n",
    "\n",
    "```python \n",
    "\n",
    "plt.hist(data = df, x = 'num_var')\n",
    "\n",
    "bin_edges = np.arange(0, df['num_var'].max()+1, 1)\n",
    "plt.hist(data = df, x = 'num_var', bins = bin_edges)\n",
    "\n",
    "sb.distplot(df['num_var'])\n",
    "\n",
    "bin_edges = np.arange(0, df['num_var'].max()+1, 1)\n",
    "sb.distplot(df['num_var'], bins = bin_edges, kde = False,\n",
    "            hist_kws = {'alpha' : 1}) \n",
    "```"
   ]
  },
  {
   "cell_type": "markdown",
   "metadata": {},
   "source": [
    "```python\n",
    "fig = plt.figure()\n",
    "ax = fig.add_axes([.125, .125, .775, .755])\n",
    "ax.hist(data = df, x = 'num_var')\n",
    "```"
   ]
  },
  {
   "cell_type": "markdown",
   "metadata": {},
   "source": [
    "```python\n",
    "fig = plt.figure()\n",
    "ax = fig.add_axes([.125, .125, .775, .755])\n",
    "base_color = sb.color_palette()[0]\n",
    "sb.countplot(data = df, x = 'cat_var', color = base_color, ax = ax)\n",
    "```"
   ]
  },
  {
   "cell_type": "markdown",
   "metadata": {},
   "source": [
    "```python\n",
    "plt.figure(figsize = [10, 5]) # larger figure size for subplots\n",
    "\n",
    "# example of somewhat too-large bin size\n",
    "plt.subplot(1, 2, 1) # 1 row, 2 cols, subplot 1\n",
    "bin_edges = np.arange(0, df['num_var'].max()+4, 4)\n",
    "plt.hist(data = df, x = 'num_var', bins = bin_edges)\n",
    "\n",
    "# example of somewhat too-small bin size\n",
    "plt.subplot(1, 2, 2) # 1 row, 2 cols, subplot 2\n",
    "bin_edges = np.arange(0, df['num_var'].max()+1/4, 1/4)\n",
    "plt.hist(data = df, x = 'num_var', bins = bin_edges)\n",
    "```"
   ]
  },
  {
   "cell_type": "code",
   "execution_count": 3,
   "metadata": {},
   "outputs": [
    {
     "data": {
      "image/png": "[encoded data removed]",
      "text/plain": [
       "<Figure size 432x288 with 12 Axes>"
      ]
     },
     "metadata": {
      "needs_background": "light"
     },
     "output_type": "display_data"
    }
   ],
   "source": [
    "fig, axes = plt.subplots(3, 4) # grid of 3x4 subplots\n",
    "axes = axes.flatten() # reshape from 3x4 array into 12-element vector\n",
    "for i in range(12):\n",
    "    plt.sca(axes[i]) # set the current Axes\n",
    "    plt.text(0.5, 0.5, i+1, ha='center',color='r') # print conventional subplot index number to middle of Axes"
   ]
  },
  {
   "cell_type": "markdown",
   "metadata": {},
   "source": [
    "### adding gaps between bars: rwidth (discrete data)\n",
    "```python \n",
    "bin_edges = np.arange(1.5, 12.5+1, 1)\n",
    "plt.hist(die_rolls, bins = bin_edges, rwidth = 0.7)\n",
    "plt.xticks(np.arange(2, 12+1, 1))\n",
    "```"
   ]
  },
  {
   "cell_type": "markdown",
   "metadata": {},
   "source": [
    "### change a histogram's axis limits\n",
    "\n",
    "```python\n",
    "plt.figure(figsize = [10, 5])\n",
    "\n",
    "# histogram on left: full data\n",
    "plt.subplot(1, 2, 1)\n",
    "bin_edges = np.arange(0, df['skew_var'].max()+2.5, 2.5)\n",
    "plt.hist(data = df, x = 'skew_var', bins = bin_edges)\n",
    "\n",
    "# histogram on right: focus in on bulk of data < 35\n",
    "plt.subplot(1, 2, 2)\n",
    "bin_edges = np.arange(0, 35+1, 1)\n",
    "plt.hist(data = df, x = 'skew_var', bins = bin_edges)\n",
    "plt.xlim(0, 35) # could also be called as plt.xlim((0, 35))\n",
    "```"
   ]
  },
  {
   "cell_type": "markdown",
   "metadata": {},
   "source": [
    "## Scales and Transformations\n",
    "\n",
    "Certain data distributions will find themselves amenable to scale transformations. The most common example of this is data that follows an approximately log-normal distribution. This is data that, in their natural units, can look highly skewed: lots of points with low values, with a very long tail of data points with large values. However, after applying a logarithmic transform to the data, the data will follow a normal distribution. (If you need a refresher on the logarithm function, check out this lesson on Khan Academy.)"
   ]
  },
  {
   "cell_type": "markdown",
   "metadata": {},
   "source": [
    "```python\n",
    "plt.figure(figsize = [10, 5])\n",
    "\n",
    "# left histogram: data plotted in natural units\n",
    "plt.subplot(1, 2, 1)\n",
    "bin_edges = np.arange(0, data.max()+100, 100)\n",
    "plt.hist(data, bins = bin_edges)\n",
    "plt.xlabel('values')\n",
    "\n",
    "# right histogram: data plotted after direct log transformation\n",
    "plt.subplot(1, 2, 2)\n",
    "log_data = np.log10(data) # direct data transform\n",
    "log_bin_edges = np.arange(0.8, log_data.max()+0.1, 0.1)\n",
    "plt.hist(log_data, bins = log_bin_edges)\n",
    "plt.xlabel('log(values)')\n",
    "```"
   ]
  },
  {
   "cell_type": "markdown",
   "metadata": {},
   "source": [
    "```python\n",
    "bin_edges = 10 ** np.arange(0.8, np.log10(data.max())+0.1, 0.1)\n",
    "plt.hist(data, bins = bin_edges)\n",
    "plt.xscale('log')\n",
    "tick_locs = [10, 30, 100, 300, 1000, 3000]\n",
    "plt.xticks(tick_locs, tick_locs)\n",
    "```\n",
    "\n",
    "``` It is important that the xticks are specified after xscale since that function has its own built-in tick settings.```"
   ]
  },
  {
   "cell_type": "markdown",
   "metadata": {},
   "source": [
    "```python\n",
    "def sqrt_trans(x, inverse = False):\n",
    "    \"\"\" transformation helper function \"\"\"\n",
    "    if not inverse:\n",
    "        return np.sqrt(x)\n",
    "    else:\n",
    "        return x ** 2\n",
    "\n",
    "bin_edges = np.arange(0, sqrt_trans(data.max())+1, 1)\n",
    "plt.hist(data.apply(sqrt_trans), bins = bin_edges)\n",
    "tick_locs = np.arange(0, sqrt_trans(data.max())+10, 10)\n",
    "plt.xticks(tick_locs, sqrt_trans(tick_locs, inverse = True).astype(int))\n",
    "```"
   ]
  },
  {
   "cell_type": "markdown",
   "metadata": {},
   "source": [
    "# Bivariate Visualizations\n",
    "[Introduction](https://www.youtube.com/watch?v=JzvJIWG8Rk4&feature=youtu.be)"
   ]
  },
  {
   "cell_type": "markdown",
   "metadata": {},
   "source": [
    "1. Scatterplots for quantitative variable vs. quantitative variable\n",
    "2. Violin plots for quantitative variable vs. qualitative variable\n",
    "3. Clustered bar charts for qualitative variable vs. qualitative variable"
   ]
  },
  {
   "cell_type": "markdown",
   "metadata": {},
   "source": [
    "- 01 [Pearson correlation coefficient](https://youtu.be/wqMwTDVT9_Y) [code](https://youtu.be/wBDC5AmYgyg)\n",
    "- 02 [Overpoltting, Tansparency and Jitter](https://youtu.be/BGqR-nxgMtg) [code](https://youtu.be/0F6ldBC6Nbs)\n",
    "- 03 [Heat Maps](https://youtu.be/RyCdvsmBjtE) [code](https://youtu.be/O6ElT4IFXc0)\n",
    "\n",
    "##### Heat maps for quantitative variable vs. quantitative variable\n",
    "- Good for discrete variable vs. discrete variable\n",
    "- Good alternativate to transparency for a lot of data\n",
    "- Bin sizes are important\n",
    "\n",
    "\n",
    "\n",
    "- 04 [Violin Plots](https://youtu.be/0hr61L-LZyM) [code](https://youtu.be/f8Kh4PByiEA)\n",
    "###### Violin plots for quantitative variable vs. qualitative variable\n",
    "\n",
    "\n",
    "\n",
    "- 05 [Box Plots](https://youtu.be/3gxJag12T0g) [code](https://youtu.be/f6v3L3IDo24)\n",
    "  IQR = Q3-Q1\n",
    "  1.5*IQR = the most common upper bound on the length of the whiskers\n",
    "  \n",
    "```python\n",
    "\n",
    "plt.figure(figsize = [10, 5])\n",
    "base_color = sb.color_palette()[0]\n",
    "\n",
    "# left plot: violin plot\n",
    "plt.subplot(1, 2, 1)\n",
    "ax1 = sb.violinplot(data = df, x = 'cat_var', y = 'num_var', color = base_color)\n",
    "\n",
    "# right plot: box plot\n",
    "plt.subplot(1, 2, 2)\n",
    "sb.boxplot(data = df, x = 'cat_var', y = 'num_var', color = base_color)\n",
    "plt.ylim(ax1.get_ylim()) # set y-axis limits to be same as left plot\n",
    "\n",
    "```\n",
    "\n",
    "```python\n",
    "\n",
    "base_color = sb.color_palette()[0]\n",
    "sb.violinplot(data = df, x = 'cat_var', y = 'num_var', color = base_color,\n",
    "              inner = 'quartile')\n",
    "\n",
    "```\n",
    "\n",
    "- 06 [Clustered Bar Charts](https://youtu.be/0rFp55TtEJM) [code](https://youtu.be/OnzWhpgM9Vs)\n",
    "\n",
    "```python\n",
    "sb.countplot(data = df, x = 'cat_var1', hue = 'cat_var2')\n",
    "\n",
    "ax = sb.countplot(data = df, x = 'cat_var1', hue = 'cat_var2')\n",
    "ax.legend(loc = 8, ncol = 3, framealpha = 1, title = 'cat_var2')\n",
    "\n",
    "ct_counts = df.groupby(['cat_var1', 'cat_var2']).size()\n",
    "ct_counts = ct_counts.reset_index(name = 'count')\n",
    "ct_counts = ct_counts.pivot(index = 'cat_var2', columns = 'cat_var1', values = 'count')\n",
    "\n",
    "sb.heatmap(ct_counts, annot = True, fmt = 'd')\n",
    "\n",
    "```\n",
    "\n",
    "- 07 [Faceting](https://youtu.be/oUYRqI6wFGw) [code](https://youtu.be/3Ls6w8Cd8n4)\n",
    "\n",
    "- multiple copies of the same type of plot visualized on different subsets of the data\n",
    "- quantitative variable against the qualitative subsets of the data\n",
    "\n",
    "```python\n",
    "g = sb.FacetGrid(data = df, col = 'cat_var')\n",
    "g.map(plt.hist, \"num_var\")\n",
    "\n",
    "bin_edges = np.arange(-3, df['num_var'].max()+1/3, 1/3)\n",
    "g = sb.FacetGrid(data = df, col = 'cat_var')\n",
    "g.map(plt.hist, \"num_var\", bins = bin_edges)\n",
    "\n",
    "group_means = df.groupby(['many_cat_var']).mean()\n",
    "group_order = group_means.sort_values(['num_var'], ascending = False).index\n",
    "\n",
    "g = sb.FacetGrid(data = df, col = 'many_cat_var', col_wrap = 5, size = 2,\n",
    "                 col_order = group_order)\n",
    "g.map(plt.hist, 'num_var', bins = np.arange(5, 15+1, 1))\n",
    "g.set_titles('{col_name}')\n",
    "\n",
    "```\n",
    "\n",
    "- 08 [Adaptation of Univariate Plots](https://youtu.be/MXcqplnUB0o) [code](https://youtu.be/aJncRqqJUYI)\n",
    "\n",
    "\n",
    "- 09 [Lesson Summary](https://youtu.be/5igqM44KEmw) "
   ]
  },
  {
   "cell_type": "markdown",
   "metadata": {},
   "source": [
    "### Summary \n",
    "\n",
    "1. Scatterplots: two quantitative variables\n",
    "2. Clustered bar charts: two qnalitative variables\n",
    "3. Heat maps:2d histograms and bar charts\n",
    "4. Violin and box plots: one quantitative and one qualitative variable\n",
    "5. adapt univariate plots to bivariate data(adaptation of Univariate plots)\n",
    "6. Faceting: multiple univariate plots acrossing the subsets of a second variable as well as using a second variables mean instead of count.\n",
    "7. Line plots: changes in value across time"
   ]
  },
  {
   "cell_type": "markdown",
   "metadata": {},
   "source": [
    "# Multivariate Exploration of Data"
   ]
  },
  {
   "cell_type": "markdown",
   "metadata": {},
   "source": [
    "- [Non-Positional Encodings for Third Variables](https://youtu.be/D91mm-qaDkk)     [code](https://youtu.be/bgDNMfG9Gfs)\n",
    "   - three numeric variables\n",
    "   - two numeric variables and one categorical variable\n",
    "   - one numeric variable and two categorical variables\n",
    "   - three categorical variables\n",
    "   <hr />\n",
    "     \n",
    "     \n",
    "      - shape - qualititative variable\n",
    "      - size - quantitative variable\n",
    "      - color - both"
   ]
  },
  {
   "cell_type": "markdown",
   "metadata": {},
   "source": [
    "- [Color Pallete](https://youtu.be/nirOTWkuiSM)     [code](https://youtu.be/iokI7HrxeNc)\n",
    "\n",
    "    - Color can be used for both qualitative and quantitative values\n",
    "    - three major palette types: qualitative, sequential and divergent\n",
    "    - Qualitative Palette, no ordering is implied, no individual levels are important than others.\n",
    "    - Sequential Palette should be used for ordianl and numeric data.\n",
    "    - Divergent Palette: ordinal or numeric data have a meaning ful center point.\n",
    "    \n",
    "\n",
    "    "
   ]
  },
  {
   "cell_type": "markdown",
   "metadata": {},
   "source": [
    "- [Faceting in Two Directions](https://youtu.be/lz5dcoTcV2o)     [code](https://youtu.be/v19gCP4TvwE)\n",
    "- [Other Adaptations of Bivariate Plots](https://youtu.be/qanSZttNzFM)     [code](https://youtu.be/BzzTlWHMyV0)\n",
    "- [Plot Matrices](https://youtu.be/2wY-euTIE5g)     [code](https://youtu.be/fq-hakwfpZw)\n",
    "- [Feature Engineering](https://youtu.be/jpMOSFMMga4)     [code](https://youtu.be/xlZ9AMV6VUE)\n",
    "- [Lesson Summary](https://youtu.be/SOBCduyymkQ)"
   ]
  },
  {
   "cell_type": "markdown",
   "metadata": {},
   "source": [
    "# Explanatory Visulizations"
   ]
  },
  {
   "cell_type": "code",
   "execution_count": null,
   "metadata": {},
   "outputs": [],
   "source": [
    "- [Introduction](https://youtu.be/gLy8qpursJI)\n"
   ]
  }
 ],
 "metadata": {
  "kernelspec": {
   "display_name": "Python 3",
   "language": "python",
   "name": "python3"
  },
  "language_info": {
   "codemirror_mode": {
    "name": "ipython",
    "version": 3
   },
   "file_extension": ".py",
   "mimetype": "text/x-python",
   "name": "python",
   "nbconvert_exporter": "python",
   "pygments_lexer": "ipython3",
   "version": "3.6.6"
  }
 },
 "nbformat": 4,
 "nbformat_minor": 2
}
