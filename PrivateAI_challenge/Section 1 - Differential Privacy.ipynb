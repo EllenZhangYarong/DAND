{
 "cells": [
  {
   "cell_type": "markdown",
   "metadata": {},
   "source": [
    "## Lesson: Toy Differential Privacy - Simple Database Queries"
   ]
  },
  {
   "cell_type": "markdown",
   "metadata": {},
   "source": [
    "In this section we're going to play around with Differential Privacy in the context of a database query. The database is going to be a VERY simple database with only one boolean column. Each row corresponds to a person. Each value corresponds to whether or not that person has a certain private attribute (such as whether they have a certain disease, or whether they are above/below a certain age). We are then going to learn how to know whether a database query over such a small database is differentially private or not - and more importantly - what techniques are at our disposal to ensure various levels of privacy\n",
    "\n",
    "\n",
    "### First We Create a Simple Database\n",
    "\n",
    "Step one is to create our database - we're going to do this by initializing a random list of 1s and 0s (which are the entries in our database). Note - the number of entries directly corresponds to the number of people in our database."
   ]
  },
  {
   "cell_type": "code",
   "execution_count": 1,
   "metadata": {},
   "outputs": [
    {
     "data": {
      "text/plain": [
       "tensor([0, 0, 0,  ..., 1, 0, 1], dtype=torch.uint8)"
      ]
     },
     "execution_count": 1,
     "metadata": {},
     "output_type": "execute_result"
    }
   ],
   "source": [
    "import torch\n",
    "\n",
    "# the number of entries in our database\n",
    "num_entries = 5000\n",
    "\n",
    "db = torch.rand(num_entries) > 0.5\n",
    "db"
   ]
  },
  {
   "cell_type": "markdown",
   "metadata": {},
   "source": [
    "## Project: Generate Parallel Databases\n",
    "\n",
    "Key to the definition of differenital privacy is the ability to ask the question \"When querying a database, if I removed someone from the database, would the output of the query be any different?\". Thus, in order to check this, we must construct what we term \"parallel databases\" which are simply databases with one entry removed. \n",
    "\n",
    "In this first project, I want you to create a list of every parallel database to the one currently contained in the \"db\" variable. Then, I want you to create a function which both:\n",
    "\n",
    "- creates the initial database (db)\n",
    "- creates all parallel databases"
   ]
  },
  {
   "cell_type": "code",
   "execution_count": 2,
   "metadata": {},
   "outputs": [
    {
     "data": {
      "text/plain": [
       "tensor([0, 0, 0,  ..., 1, 1, 0], dtype=torch.uint8)"
      ]
     },
     "execution_count": 2,
     "metadata": {},
     "output_type": "execute_result"
    }
   ],
   "source": [
    "db = torch.rand(num_entries) > 0.5\n",
    "db"
   ]
  },
  {
   "cell_type": "code",
   "execution_count": 3,
   "metadata": {},
   "outputs": [],
   "source": [
    "def get_parallel_db(db, remove_index):\n",
    "\n",
    "    return torch.cat((db[0:remove_index], \n",
    "                      db[remove_index+1:]))"
   ]
  },
  {
   "cell_type": "code",
   "execution_count": 4,
   "metadata": {},
   "outputs": [
    {
     "data": {
      "text/plain": [
       "tensor([0, 0, 0,  ..., 1, 1, 0], dtype=torch.uint8)"
      ]
     },
     "execution_count": 4,
     "metadata": {},
     "output_type": "execute_result"
    }
   ],
   "source": [
    "get_parallel_db(db, 52352)"
   ]
  },
  {
   "cell_type": "code",
   "execution_count": 5,
   "metadata": {},
   "outputs": [],
   "source": [
    "def get_parallel_dbs(db):\n",
    "\n",
    "    parallel_dbs = list()\n",
    "\n",
    "    for i in range(len(db)):\n",
    "        pdb = get_parallel_db(db, i)\n",
    "        parallel_dbs.append(pdb)\n",
    "    \n",
    "    return parallel_dbs"
   ]
  },
  {
   "cell_type": "code",
   "execution_count": 6,
   "metadata": {},
   "outputs": [],
   "source": [
    "pdbs = get_parallel_dbs(db)"
   ]
  },
  {
   "cell_type": "code",
   "execution_count": 7,
   "metadata": {},
   "outputs": [],
   "source": [
    "def create_db_and_parallels(num_entries):\n",
    "    \n",
    "    db = torch.rand(num_entries) > 0.5\n",
    "    pdbs = get_parallel_dbs(db)\n",
    "    \n",
    "    return db, pdbs"
   ]
  },
  {
   "cell_type": "code",
   "execution_count": 8,
   "metadata": {},
   "outputs": [],
   "source": [
    "db, pdbs = create_db_and_parallels(20)"
   ]
  },
  {
   "cell_type": "code",
   "execution_count": 9,
   "metadata": {},
   "outputs": [
    {
     "data": {
      "text/plain": [
       "tensor([0, 1, 0, 1, 1, 1, 1, 1, 1, 1, 1, 0, 0, 1, 0, 1, 1, 1, 1, 0],\n",
       "       dtype=torch.uint8)"
      ]
     },
     "execution_count": 9,
     "metadata": {},
     "output_type": "execute_result"
    }
   ],
   "source": [
    "db"
   ]
  },
  {
   "cell_type": "code",
   "execution_count": 10,
   "metadata": {},
   "outputs": [
    {
     "data": {
      "text/plain": [
       "[tensor([1, 0, 1, 1, 1, 1, 1, 1, 1, 1, 0, 0, 1, 0, 1, 1, 1, 1, 0],\n",
       "        dtype=torch.uint8),\n",
       " tensor([0, 0, 1, 1, 1, 1, 1, 1, 1, 1, 0, 0, 1, 0, 1, 1, 1, 1, 0],\n",
       "        dtype=torch.uint8),\n",
       " tensor([0, 1, 1, 1, 1, 1, 1, 1, 1, 1, 0, 0, 1, 0, 1, 1, 1, 1, 0],\n",
       "        dtype=torch.uint8),\n",
       " tensor([0, 1, 0, 1, 1, 1, 1, 1, 1, 1, 0, 0, 1, 0, 1, 1, 1, 1, 0],\n",
       "        dtype=torch.uint8),\n",
       " tensor([0, 1, 0, 1, 1, 1, 1, 1, 1, 1, 0, 0, 1, 0, 1, 1, 1, 1, 0],\n",
       "        dtype=torch.uint8),\n",
       " tensor([0, 1, 0, 1, 1, 1, 1, 1, 1, 1, 0, 0, 1, 0, 1, 1, 1, 1, 0],\n",
       "        dtype=torch.uint8),\n",
       " tensor([0, 1, 0, 1, 1, 1, 1, 1, 1, 1, 0, 0, 1, 0, 1, 1, 1, 1, 0],\n",
       "        dtype=torch.uint8),\n",
       " tensor([0, 1, 0, 1, 1, 1, 1, 1, 1, 1, 0, 0, 1, 0, 1, 1, 1, 1, 0],\n",
       "        dtype=torch.uint8),\n",
       " tensor([0, 1, 0, 1, 1, 1, 1, 1, 1, 1, 0, 0, 1, 0, 1, 1, 1, 1, 0],\n",
       "        dtype=torch.uint8),\n",
       " tensor([0, 1, 0, 1, 1, 1, 1, 1, 1, 1, 0, 0, 1, 0, 1, 1, 1, 1, 0],\n",
       "        dtype=torch.uint8),\n",
       " tensor([0, 1, 0, 1, 1, 1, 1, 1, 1, 1, 0, 0, 1, 0, 1, 1, 1, 1, 0],\n",
       "        dtype=torch.uint8),\n",
       " tensor([0, 1, 0, 1, 1, 1, 1, 1, 1, 1, 1, 0, 1, 0, 1, 1, 1, 1, 0],\n",
       "        dtype=torch.uint8),\n",
       " tensor([0, 1, 0, 1, 1, 1, 1, 1, 1, 1, 1, 0, 1, 0, 1, 1, 1, 1, 0],\n",
       "        dtype=torch.uint8),\n",
       " tensor([0, 1, 0, 1, 1, 1, 1, 1, 1, 1, 1, 0, 0, 0, 1, 1, 1, 1, 0],\n",
       "        dtype=torch.uint8),\n",
       " tensor([0, 1, 0, 1, 1, 1, 1, 1, 1, 1, 1, 0, 0, 1, 1, 1, 1, 1, 0],\n",
       "        dtype=torch.uint8),\n",
       " tensor([0, 1, 0, 1, 1, 1, 1, 1, 1, 1, 1, 0, 0, 1, 0, 1, 1, 1, 0],\n",
       "        dtype=torch.uint8),\n",
       " tensor([0, 1, 0, 1, 1, 1, 1, 1, 1, 1, 1, 0, 0, 1, 0, 1, 1, 1, 0],\n",
       "        dtype=torch.uint8),\n",
       " tensor([0, 1, 0, 1, 1, 1, 1, 1, 1, 1, 1, 0, 0, 1, 0, 1, 1, 1, 0],\n",
       "        dtype=torch.uint8),\n",
       " tensor([0, 1, 0, 1, 1, 1, 1, 1, 1, 1, 1, 0, 0, 1, 0, 1, 1, 1, 0],\n",
       "        dtype=torch.uint8),\n",
       " tensor([0, 1, 0, 1, 1, 1, 1, 1, 1, 1, 1, 0, 0, 1, 0, 1, 1, 1, 1],\n",
       "        dtype=torch.uint8)]"
      ]
     },
     "execution_count": 10,
     "metadata": {},
     "output_type": "execute_result"
    }
   ],
   "source": [
    "pdbs"
   ]
  },
  {
   "cell_type": "markdown",
   "metadata": {},
   "source": [
    "# Lesson: Towards Evaluating The Differential Privacy of a Function\n",
    "\n",
    "Intuitively, we want to be able to query our database and evaluate whether or not the result of the query is leaking \"private\" information. As mentioned previously, this is about evaluating whether the output of a query changes when we remove someone from the database. Specifically, we want to evaluate the *maximum* amount the query changes when someone is removed (maximum over all possible people who could be removed). So, in order to evaluate how much privacy is leaked, we're going to iterate over each person in the database and measure the difference in the output of the query relative to when we query the entire database. \n",
    "\n",
    "Just for the sake of argument, let's make our first \"database query\" a simple sum. Aka, we're going to count the number of 1s in the database."
   ]
  },
  {
   "cell_type": "code",
   "execution_count": 17,
   "metadata": {},
   "outputs": [],
   "source": [
    "db, pdbs = create_db_and_parallels(5000)"
   ]
  },
  {
   "cell_type": "code",
   "execution_count": 12,
   "metadata": {},
   "outputs": [],
   "source": [
    "def query(db):\n",
    "    return db.sum()"
   ]
  },
  {
   "cell_type": "code",
   "execution_count": 18,
   "metadata": {},
   "outputs": [],
   "source": [
    "full_db_result = query(db)"
   ]
  },
  {
   "cell_type": "code",
   "execution_count": 19,
   "metadata": {},
   "outputs": [
    {
     "data": {
      "text/plain": [
       "tensor(2565)"
      ]
     },
     "execution_count": 19,
     "metadata": {},
     "output_type": "execute_result"
    }
   ],
   "source": [
    "full_db_result"
   ]
  },
  {
   "cell_type": "code",
   "execution_count": 20,
   "metadata": {},
   "outputs": [],
   "source": [
    "sensitivity = 0\n",
    "\n",
    "for pdb in pdbs:\n",
    "    pdb_result = query(pdb)\n",
    "    \n",
    "    db_distance = torch.abs(pdb_result - full_db_result)\n",
    "    \n",
    "    if(db_distance > sensitivity):\n",
    "        sensitivity = db_distance"
   ]
  },
  {
   "cell_type": "code",
   "execution_count": 21,
   "metadata": {},
   "outputs": [
    {
     "data": {
      "text/plain": [
       "tensor(1)"
      ]
     },
     "execution_count": 21,
     "metadata": {},
     "output_type": "execute_result"
    }
   ],
   "source": [
    "sensitivity"
   ]
  },
  {
   "cell_type": "markdown",
   "metadata": {},
   "source": [
    "# Project - Evaluating the Privacy of a Function\n",
    "\n",
    "In the last section, we measured the difference between each parallel db's query result and the query result for the entire database and then calculated the max value (which was 1). This value is called \"sensitivity\", and it corresponds to the function we chose for the query. Namely, the \"sum\" query will always have a sensitivity of exactly 1. However, we can also calculate sensitivity for other functions as well.\n",
    "\n",
    "Let's try to calculate sensitivity for the \"mean\" function."
   ]
  },
  {
   "cell_type": "code",
   "execution_count": 1,
   "metadata": {},
   "outputs": [],
   "source": [
    "# try this project here!"
   ]
  },
  {
   "cell_type": "code",
   "execution_count": 30,
   "metadata": {},
   "outputs": [],
   "source": [
    "import torch"
   ]
  },
  {
   "cell_type": "code",
   "execution_count": 31,
   "metadata": {},
   "outputs": [],
   "source": [
    "def get_parallel_db(db, remove_index):\n",
    "\n",
    "    return torch.cat((db[0:remove_index], \n",
    "                      db[remove_index+1:]))"
   ]
  },
  {
   "cell_type": "code",
   "execution_count": 32,
   "metadata": {},
   "outputs": [],
   "source": [
    "def get_parallel_dbs(db):\n",
    "\n",
    "    parallel_dbs = list()\n",
    "\n",
    "    for i in range(len(db)):\n",
    "        pdb = get_parallel_db(db, i)\n",
    "        parallel_dbs.append(pdb)\n",
    "    \n",
    "    return parallel_dbs\n"
   ]
  },
  {
   "cell_type": "code",
   "execution_count": 33,
   "metadata": {},
   "outputs": [],
   "source": [
    "def create_db_and_parallels(num_entries):\n",
    "    \n",
    "    db = torch.rand(num_entries) > 0.5\n",
    "    pdbs = get_parallel_dbs(db)\n",
    "    \n",
    "    return db, pdbs"
   ]
  },
  {
   "cell_type": "code",
   "execution_count": 114,
   "metadata": {},
   "outputs": [],
   "source": [
    "def query_sum(db):\n",
    "#     return db.float().mean()\n",
    "    return db.sum()"
   ]
  },
  {
   "cell_type": "code",
   "execution_count": 115,
   "metadata": {},
   "outputs": [],
   "source": [
    "def query_mean(db):\n",
    "    return db.float().mean()\n",
    "#     return db.sum()"
   ]
  },
  {
   "cell_type": "code",
   "execution_count": 181,
   "metadata": {},
   "outputs": [],
   "source": [
    "def sensitivity(query, n_entries=5000):\n",
    "    \n",
    "    db, pdbs = create_db_and_parallels(n_entries)\n",
    "    \n",
    "    full_db_result = query(db)\n",
    "#     print('full_db_result-->' + str(full_db_result))\n",
    "#     print('full_db_result/n_entries-->'+str(full_db_result/n_entries) )\n",
    "    \n",
    "    max_distance = 0\n",
    " \n",
    "    for pdb in pdbs:\n",
    "        pdb_result = query(pdb)\n",
    "        \n",
    "        db_distance = torch.abs(pdb_result - full_db_result)\n",
    "        \n",
    "        if(db_distance > max_distance):\n",
    "            max_distance = db_distance\n",
    "            \n",
    "    return max_distance"
   ]
  },
  {
   "cell_type": "code",
   "execution_count": 130,
   "metadata": {},
   "outputs": [
    {
     "name": "stdout",
     "output_type": "stream",
     "text": [
      "full_db_result-->tensor(0.4920)\n"
     ]
    },
    {
     "data": {
      "text/plain": [
       "tensor(0.0002)"
      ]
     },
     "execution_count": 130,
     "metadata": {},
     "output_type": "execute_result"
    }
   ],
   "source": [
    "sensitivity(query_mean, 3000)"
   ]
  },
  {
   "cell_type": "code",
   "execution_count": 132,
   "metadata": {},
   "outputs": [
    {
     "name": "stdout",
     "output_type": "stream",
     "text": [
      "full_db_result-->tensor(2466)\n"
     ]
    },
    {
     "data": {
      "text/plain": [
       "tensor(1)"
      ]
     },
     "execution_count": 132,
     "metadata": {},
     "output_type": "execute_result"
    }
   ],
   "source": [
    "sensitivity(query_sum)"
   ]
  },
  {
   "cell_type": "code",
   "execution_count": 136,
   "metadata": {},
   "outputs": [
    {
     "name": "stdout",
     "output_type": "stream",
     "text": [
      "full_db_result-->tensor(0.5190)\n"
     ]
    },
    {
     "data": {
      "text/plain": [
       "tensor(0.0005)"
      ]
     },
     "execution_count": 136,
     "metadata": {},
     "output_type": "execute_result"
    }
   ],
   "source": [
    "sensitivity(query_mean, 1000)"
   ]
  },
  {
   "cell_type": "code",
   "execution_count": 127,
   "metadata": {},
   "outputs": [
    {
     "name": "stdout",
     "output_type": "stream",
     "text": [
      "full_db_result-->tensor(998)\n",
      "full_db_result/n_entries-->tensor(0)\n"
     ]
    },
    {
     "data": {
      "text/plain": [
       "tensor(1)"
      ]
     },
     "execution_count": 127,
     "metadata": {},
     "output_type": "execute_result"
    }
   ],
   "source": [
    "sensitivity(query_sum, 2000)"
   ]
  },
  {
   "cell_type": "code",
   "execution_count": 137,
   "metadata": {},
   "outputs": [
    {
     "name": "stdout",
     "output_type": "stream",
     "text": [
      "0\n",
      "full_db_result-->tensor(0.4787)\n",
      "tensor(0.0002)\n",
      "1\n",
      "full_db_result-->tensor(0.5103)\n",
      "tensor(0.0002)\n",
      "2\n",
      "full_db_result-->tensor(0.4987)\n",
      "tensor(0.0002)\n",
      "3\n",
      "full_db_result-->tensor(0.4993)\n",
      "tensor(0.0002)\n",
      "4\n",
      "full_db_result-->tensor(0.4937)\n",
      "tensor(0.0002)\n",
      "5\n",
      "full_db_result-->tensor(0.5053)\n",
      "tensor(0.0002)\n",
      "6\n",
      "full_db_result-->tensor(0.5163)\n",
      "tensor(0.0002)\n",
      "7\n",
      "full_db_result-->tensor(0.4930)\n",
      "tensor(0.0002)\n",
      "8\n",
      "full_db_result-->tensor(0.5090)\n",
      "tensor(0.0002)\n",
      "9\n",
      "full_db_result-->tensor(0.5053)\n",
      "tensor(0.0002)\n"
     ]
    }
   ],
   "source": [
    "for i in range(10):\n",
    "    print(i)\n",
    "    sen=sensitivity(query_mean, 3000)\n",
    "    print(sen)"
   ]
  },
  {
   "cell_type": "code",
   "execution_count": 139,
   "metadata": {},
   "outputs": [
    {
     "name": "stdout",
     "output_type": "stream",
     "text": [
      "0\n",
      "full_db_result-->tensor(1520)\n",
      "tensor(1)\n",
      "1\n",
      "full_db_result-->tensor(1530)\n",
      "tensor(1)\n",
      "2\n",
      "full_db_result-->tensor(1496)\n",
      "tensor(1)\n",
      "3\n",
      "full_db_result-->tensor(1486)\n",
      "tensor(1)\n",
      "4\n",
      "full_db_result-->tensor(1477)\n",
      "tensor(1)\n",
      "5\n",
      "full_db_result-->tensor(1517)\n",
      "tensor(1)\n",
      "6\n",
      "full_db_result-->tensor(1504)\n",
      "tensor(1)\n",
      "7\n",
      "full_db_result-->tensor(1508)\n",
      "tensor(1)\n",
      "8\n",
      "full_db_result-->tensor(1501)\n",
      "tensor(1)\n",
      "9\n",
      "full_db_result-->tensor(1486)\n",
      "tensor(1)\n"
     ]
    }
   ],
   "source": [
    "for i in range(10):\n",
    "    print(i)\n",
    "    sen=sensitivity(query_sum, 3000)\n",
    "    print(sen)"
   ]
  },
  {
   "cell_type": "markdown",
   "metadata": {},
   "source": [
    "Wow! That sensitivity is WAY lower. Note the intuition here. \"Sensitivity\" is measuring how sensitive the output of the query is to a person being removed from the database. For a simple sum, this is always 1, but for the mean, removing a person is going to change the result of the query by rougly 1 divided by the size of the database (which is much smaller). Thus, \"mean\" is a VASTLY less \"sensitive\" function (query) than SUM."
   ]
  },
  {
   "cell_type": "markdown",
   "metadata": {},
   "source": [
    "# Project: Calculate L1 Sensitivity For Threshold\n",
    "\n",
    "In this first project, I want you to calculate the sensitivty for the \"threshold\" function. \n",
    "\n",
    "- First compute the sum over the database (i.e. sum(db)) and return whether that sum is greater than a certain threshold.\n",
    "- Then, I want you to create databases of size 10 and threshold of 5 and calculate the sensitivity of the function. \n",
    "- Finally, re-initialize the database 10 times and calculate the sensitivity each time."
   ]
  },
  {
   "cell_type": "code",
   "execution_count": null,
   "metadata": {},
   "outputs": [],
   "source": [
    "# try this project here!"
   ]
  },
  {
   "cell_type": "code",
   "execution_count": 140,
   "metadata": {},
   "outputs": [],
   "source": [
    "def query_thresh(db, threshold=5):\n",
    "    return (db.sum() > threshold).float()"
   ]
  },
  {
   "cell_type": "code",
   "execution_count": 167,
   "metadata": {},
   "outputs": [
    {
     "name": "stdout",
     "output_type": "stream",
     "text": [
      "tensor([1, 1, 1, 1, 0, 0, 1, 0, 0, 1], dtype=torch.uint8)\n",
      "tensor(6)\n"
     ]
    },
    {
     "data": {
      "text/plain": [
       "tensor(1.)"
      ]
     },
     "execution_count": 167,
     "metadata": {},
     "output_type": "execute_result"
    }
   ],
   "source": [
    "db, pdbs = create_db_and_parallels(10)\n",
    "print(db)\n",
    "print(db.sum())\n",
    "query_thresh(db)"
   ]
  },
  {
   "cell_type": "code",
   "execution_count": 189,
   "metadata": {},
   "outputs": [
    {
     "name": "stdout",
     "output_type": "stream",
     "text": [
      "tensor(1.)\n",
      "0\n",
      "0\n",
      "0\n",
      "0\n",
      "0\n",
      "tensor(1.)\n",
      "0\n",
      "0\n",
      "0\n"
     ]
    }
   ],
   "source": [
    "for i in range(10):\n",
    "    sen = sensitivity(query_thresh, 10)\n",
    "    print(sen)"
   ]
  },
  {
   "cell_type": "markdown",
   "metadata": {},
   "source": [
    "# Lesson: A Basic Differencing Attack\n",
    "\n",
    "Sadly none of the functions we've looked at so far are differentially private (despite them having varying levels of sensitivity). The most basic type of attack can be done as follows.\n",
    "\n",
    "Let's say we wanted to figure out a specific person's value in the database. All we would have to do is query for the sum of the entire database and then the sum of the entire database without that person!\n",
    "\n",
    "# Project: Perform a Differencing Attack on Row 10\n",
    "\n",
    "In this project, I want you to construct a database and then demonstrate how you can use two different sum queries to explose the value of the person represented by row 10 in the database (note, you'll need to use a database with at least 10 rows)"
   ]
  },
  {
   "cell_type": "code",
   "execution_count": 1,
   "metadata": {},
   "outputs": [],
   "source": [
    "import torch"
   ]
  },
  {
   "cell_type": "code",
   "execution_count": 2,
   "metadata": {},
   "outputs": [],
   "source": [
    "def get_parallel_db(db, remove_index):\n",
    "\n",
    "    return torch.cat((db[0:remove_index], \n",
    "                      db[remove_index+1:]))"
   ]
  },
  {
   "cell_type": "code",
   "execution_count": 3,
   "metadata": {},
   "outputs": [],
   "source": [
    "def get_parallel_dbs(db):\n",
    "\n",
    "    parallel_dbs = list()\n",
    "\n",
    "    for i in range(len(db)):\n",
    "        pdb = get_parallel_db(db, i)\n",
    "        parallel_dbs.append(pdb)\n",
    "    \n",
    "    return parallel_dbs\n"
   ]
  },
  {
   "cell_type": "code",
   "execution_count": 4,
   "metadata": {},
   "outputs": [],
   "source": [
    "def create_db_and_parallels(num_entries):\n",
    "    \n",
    "    db = torch.rand(num_entries) > 0.5\n",
    "    pdbs = get_parallel_dbs(db)\n",
    "    \n",
    "    return db, pdbs"
   ]
  },
  {
   "cell_type": "code",
   "execution_count": 109,
   "metadata": {},
   "outputs": [],
   "source": [
    "db, _ = create_db_and_parallels(100)"
   ]
  },
  {
   "cell_type": "code",
   "execution_count": 110,
   "metadata": {},
   "outputs": [
    {
     "data": {
      "text/plain": [
       "tensor([1, 1, 0, 0, 0, 1, 0, 1, 1, 1, 1, 0, 1, 0, 0, 1, 1, 0, 0, 0, 0, 0, 0, 1,\n",
       "        1, 1, 0, 1, 0, 1, 0, 0, 0, 1, 1, 1, 1, 1, 0, 1, 0, 1, 1, 1, 0, 1, 1, 0,\n",
       "        0, 1, 0, 0, 0, 0, 0, 1, 1, 0, 1, 1, 1, 1, 1, 0, 0, 1, 0, 1, 0, 1, 0, 0,\n",
       "        0, 1, 1, 1, 1, 0, 0, 0, 0, 0, 1, 0, 0, 0, 1, 1, 0, 1, 0, 0, 1, 1, 1, 0,\n",
       "        1, 1, 1, 0], dtype=torch.uint8)"
      ]
     },
     "execution_count": 110,
     "metadata": {},
     "output_type": "execute_result"
    }
   ],
   "source": [
    "db"
   ]
  },
  {
   "cell_type": "code",
   "execution_count": 111,
   "metadata": {},
   "outputs": [
    {
     "data": {
      "text/plain": [
       "tensor(51, dtype=torch.uint8)"
      ]
     },
     "execution_count": 111,
     "metadata": {},
     "output_type": "execute_result"
    }
   ],
   "source": [
    "sum(db)"
   ]
  },
  {
   "cell_type": "code",
   "execution_count": 112,
   "metadata": {},
   "outputs": [],
   "source": [
    "pdb = get_parallel_db(db, remove_index=10)"
   ]
  },
  {
   "cell_type": "code",
   "execution_count": 113,
   "metadata": {},
   "outputs": [
    {
     "data": {
      "text/plain": [
       "tensor([1, 1, 0, 0, 0, 1, 0, 1, 1, 1, 0, 1, 0, 0, 1, 1, 0, 0, 0, 0, 0, 0, 1, 1,\n",
       "        1, 0, 1, 0, 1, 0, 0, 0, 1, 1, 1, 1, 1, 0, 1, 0, 1, 1, 1, 0, 1, 1, 0, 0,\n",
       "        1, 0, 0, 0, 0, 0, 1, 1, 0, 1, 1, 1, 1, 1, 0, 0, 1, 0, 1, 0, 1, 0, 0, 0,\n",
       "        1, 1, 1, 1, 0, 0, 0, 0, 0, 1, 0, 0, 0, 1, 1, 0, 1, 0, 0, 1, 1, 1, 0, 1,\n",
       "        1, 1, 0], dtype=torch.uint8)"
      ]
     },
     "execution_count": 113,
     "metadata": {},
     "output_type": "execute_result"
    }
   ],
   "source": [
    "pdb"
   ]
  },
  {
   "cell_type": "code",
   "execution_count": 114,
   "metadata": {},
   "outputs": [
    {
     "data": {
      "text/plain": [
       "tensor(1, dtype=torch.uint8)"
      ]
     },
     "execution_count": 114,
     "metadata": {},
     "output_type": "execute_result"
    }
   ],
   "source": [
    "# Differecing attack using sum query\n",
    "sum(db) - sum(pdb)"
   ]
  },
  {
   "cell_type": "code",
   "execution_count": 115,
   "metadata": {},
   "outputs": [
    {
     "data": {
      "text/plain": [
       "tensor(0.0049)"
      ]
     },
     "execution_count": 115,
     "metadata": {},
     "output_type": "execute_result"
    }
   ],
   "source": [
    "# Differencing attack using mean query\n",
    "db.float().mean()-pdb.float().mean()"
   ]
  },
  {
   "cell_type": "code",
   "execution_count": 116,
   "metadata": {},
   "outputs": [
    {
     "data": {
      "text/plain": [
       "tensor(0.0049)"
      ]
     },
     "execution_count": 116,
     "metadata": {},
     "output_type": "execute_result"
    }
   ],
   "source": [
    "sum(db).float()/len(db)-sum(pdb).float()/len(pdb)"
   ]
  },
  {
   "cell_type": "code",
   "execution_count": 117,
   "metadata": {},
   "outputs": [
    {
     "data": {
      "text/plain": [
       "tensor(1, dtype=torch.uint8)"
      ]
     },
     "execution_count": 117,
     "metadata": {},
     "output_type": "execute_result"
    }
   ],
   "source": [
    "# Differencing attack using threshold query\n",
    "(sum(db)>50)-(sum(pdb)>50)"
   ]
  },
  {
   "cell_type": "code",
   "execution_count": null,
   "metadata": {},
   "outputs": [],
   "source": []
  },
  {
   "cell_type": "code",
   "execution_count": null,
   "metadata": {},
   "outputs": [],
   "source": []
  },
  {
   "cell_type": "markdown",
   "metadata": {},
   "source": [
    "# Project: Local Differential Privacy\n",
    "\n",
    "As you can see, the basic sum query is not differentially private at all! In truth, differential privacy always requires a form of randomness added to the query. Let me show you what I mean.\n",
    "\n",
    "### Randomized Response (Local Differential Privacy)\n",
    "\n",
    "Let's say I have a group of people I wish to survey about a very taboo behavior which I think they will lie about (say, I want to know if they have ever committed a certain kind of crime). I'm not a policeman, I'm just trying to collect statistics to understand the higher level trend in society. So, how do we do this? One technique is to add randomness to each person's response by giving each person the following instructions (assuming I'm asking a simple yes/no question):\n",
    "\n",
    "- Flip a coin 2 times.\n",
    "- If the first coin flip is heads, answer honestly\n",
    "- If the first coin flip is tails, answer according to the second coin flip (heads for yes, tails for no)!\n",
    "\n",
    "Thus, each person is now protected with \"plausible deniability\". If they answer \"Yes\" to the question \"have you committed X crime?\", then it might becasue they actually did, or it might be becasue they are answering according to a random coin flip. Each person has a high degree of protection. Furthermore, we can recover the underlying statistics with some accuracy, as the \"true statistics\" are simply averaged with a 50% probability. Thus, if we collect a bunch of samples and it turns out that 60% of people answer yes, then we know that the TRUE distribution is actually centered around 70%, because 70% averaged wtih 50% (a coin flip) is 60% which is the result we obtained. \n",
    "\n",
    "However, it should be noted that, especially when we only have a few samples, the this comes at the cost of accuracy. This tradeoff exists across all of Differential Privacy. The greater the privacy protection (plausible deniability) the less accurate the results. \n",
    "\n",
    "Let's implement this local DP for our database before!"
   ]
  },
  {
   "cell_type": "code",
   "execution_count": 1,
   "metadata": {},
   "outputs": [],
   "source": [
    "import torch"
   ]
  },
  {
   "cell_type": "code",
   "execution_count": 2,
   "metadata": {},
   "outputs": [],
   "source": [
    "def get_parallel_db(db, remove_index):\n",
    "\n",
    "    return torch.cat((db[0:remove_index], \n",
    "                      db[remove_index+1:]))"
   ]
  },
  {
   "cell_type": "code",
   "execution_count": 3,
   "metadata": {},
   "outputs": [],
   "source": [
    "def get_parallel_dbs(db):\n",
    "\n",
    "    parallel_dbs = list()\n",
    "\n",
    "    for i in range(len(db)):\n",
    "        pdb = get_parallel_db(db, i)\n",
    "        parallel_dbs.append(pdb)\n",
    "    \n",
    "    return parallel_dbs\n"
   ]
  },
  {
   "cell_type": "code",
   "execution_count": 4,
   "metadata": {},
   "outputs": [],
   "source": [
    "def create_db_and_parallels(num_entries):\n",
    "    \n",
    "    db = torch.rand(num_entries) > 0.5\n",
    "    pdbs = get_parallel_dbs(db)\n",
    "    \n",
    "    return db, pdbs"
   ]
  },
  {
   "cell_type": "code",
   "execution_count": 58,
   "metadata": {},
   "outputs": [],
   "source": [
    "db, _ = create_db_and_parallels(100)"
   ]
  },
  {
   "cell_type": "code",
   "execution_count": 59,
   "metadata": {},
   "outputs": [
    {
     "data": {
      "text/plain": [
       "tensor([0, 1, 0, 1, 1, 1, 0, 0, 1, 0, 1, 0, 1, 1, 0, 1, 1, 1, 0, 1, 0, 0, 0, 0,\n",
       "        0, 1, 0, 1, 1, 1, 1, 0, 1, 1, 0, 0, 0, 0, 1, 1, 1, 0, 1, 1, 0, 1, 1, 0,\n",
       "        0, 0, 0, 0, 1, 0, 1, 1, 1, 1, 0, 1, 0, 1, 1, 1, 1, 1, 1, 0, 0, 1, 1, 1,\n",
       "        0, 1, 0, 1, 1, 1, 1, 1, 0, 0, 0, 1, 1, 0, 1, 0, 1, 1, 0, 0, 1, 0, 1, 0,\n",
       "        0, 1, 0, 1], dtype=torch.uint8)"
      ]
     },
     "execution_count": 59,
     "metadata": {},
     "output_type": "execute_result"
    }
   ],
   "source": [
    "db"
   ]
  },
  {
   "cell_type": "code",
   "execution_count": 60,
   "metadata": {},
   "outputs": [
    {
     "data": {
      "text/plain": [
       "tensor(0.5600)"
      ]
     },
     "execution_count": 60,
     "metadata": {},
     "output_type": "execute_result"
    }
   ],
   "source": [
    "true_result = torch.mean(db.float())\n",
    "true_result"
   ]
  },
  {
   "cell_type": "code",
   "execution_count": 61,
   "metadata": {},
   "outputs": [
    {
     "data": {
      "text/plain": [
       "tensor([1., 1., 1., 0., 1., 0., 1., 0., 1., 1., 1., 0., 1., 1., 1., 1., 1., 0.,\n",
       "        1., 1., 1., 1., 1., 1., 1., 0., 0., 1., 1., 1., 1., 1., 1., 0., 1., 0.,\n",
       "        0., 1., 1., 1., 1., 0., 1., 1., 1., 0., 0., 0., 0., 0., 1., 1., 1., 1.,\n",
       "        0., 0., 0., 1., 0., 0., 0., 0., 1., 0., 1., 1., 1., 1., 1., 1., 0., 0.,\n",
       "        1., 0., 0., 0., 0., 1., 0., 1., 0., 1., 0., 0., 1., 0., 0., 0., 0., 0.,\n",
       "        1., 1., 0., 1., 1., 0., 0., 1., 1., 0.])"
      ]
     },
     "execution_count": 61,
     "metadata": {},
     "output_type": "execute_result"
    }
   ],
   "source": [
    "# Add noise\n",
    "first_coin_flip = (torch.rand(len(db))>0.5).float()\n",
    "first_coin_flip"
   ]
  },
  {
   "cell_type": "code",
   "execution_count": 62,
   "metadata": {},
   "outputs": [
    {
     "data": {
      "text/plain": [
       "tensor([1., 1., 0., 1., 1., 0., 0., 0., 1., 0., 0., 1., 0., 1., 0., 1., 1., 1.,\n",
       "        1., 0., 1., 0., 1., 1., 1., 0., 0., 0., 0., 0., 0., 1., 0., 1., 1., 0.,\n",
       "        0., 1., 0., 0., 1., 1., 0., 0., 0., 1., 0., 0., 1., 1., 1., 0., 0., 0.,\n",
       "        0., 0., 0., 0., 1., 1., 0., 1., 1., 0., 1., 1., 0., 1., 1., 1., 0., 0.,\n",
       "        0., 0., 0., 1., 0., 1., 1., 0., 0., 0., 0., 1., 0., 0., 1., 0., 0., 1.,\n",
       "        1., 1., 0., 0., 0., 1., 1., 0., 1., 1.])"
      ]
     },
     "execution_count": 62,
     "metadata": {},
     "output_type": "execute_result"
    }
   ],
   "source": [
    "second_coin_flip = (torch.rand(len(db))>0.5).float()\n",
    "second_coin_flip"
   ]
  },
  {
   "cell_type": "code",
   "execution_count": 63,
   "metadata": {},
   "outputs": [
    {
     "data": {
      "text/plain": [
       "tensor([0., 1., 0., 0., 1., 0., 0., 0., 1., 0., 1., 0., 1., 1., 0., 1., 1., 0.,\n",
       "        0., 1., 0., 0., 0., 0., 0., 0., 0., 1., 1., 1., 1., 0., 1., 0., 0., 0.,\n",
       "        0., 0., 1., 1., 1., 0., 1., 1., 0., 0., 0., 0., 0., 0., 0., 0., 1., 0.,\n",
       "        0., 0., 0., 1., 0., 0., 0., 0., 1., 0., 1., 1., 1., 0., 0., 1., 0., 0.,\n",
       "        0., 0., 0., 0., 0., 1., 0., 1., 0., 0., 0., 0., 1., 0., 0., 0., 0., 0.,\n",
       "        0., 0., 0., 0., 1., 0., 0., 1., 0., 0.])"
      ]
     },
     "execution_count": 63,
     "metadata": {},
     "output_type": "execute_result"
    }
   ],
   "source": [
    "# If first_coin_flip == 1, keep db original value\n",
    "db.float()*first_coin_flip"
   ]
  },
  {
   "cell_type": "code",
   "execution_count": 64,
   "metadata": {},
   "outputs": [
    {
     "data": {
      "text/plain": [
       "tensor([0., 0., 0., 1., 0., 0., 0., 0., 0., 0., 0., 1., 0., 0., 0., 0., 0., 1.,\n",
       "        0., 0., 0., 0., 0., 0., 0., 0., 0., 0., 0., 0., 0., 0., 0., 1., 0., 0.,\n",
       "        0., 0., 0., 0., 0., 1., 0., 0., 0., 1., 0., 0., 1., 1., 0., 0., 0., 0.,\n",
       "        0., 0., 0., 0., 1., 1., 0., 1., 0., 0., 0., 0., 0., 0., 0., 0., 0., 0.,\n",
       "        0., 0., 0., 1., 0., 0., 1., 0., 0., 0., 0., 1., 0., 0., 1., 0., 0., 1.,\n",
       "        0., 0., 0., 0., 0., 1., 1., 0., 0., 1.])"
      ]
     },
     "execution_count": 64,
     "metadata": {},
     "output_type": "execute_result"
    }
   ],
   "source": [
    "# If the first_coin_flip == 0, \n",
    "# then change the value according to the second_coin_flip\n",
    "(1 - first_coin_flip)*second_coin_flip"
   ]
  },
  {
   "cell_type": "code",
   "execution_count": 65,
   "metadata": {},
   "outputs": [],
   "source": [
    "augment_db = db.float()*first_coin_flip + (1 - first_coin_flip)*second_coin_flip"
   ]
  },
  {
   "cell_type": "code",
   "execution_count": 66,
   "metadata": {},
   "outputs": [
    {
     "data": {
      "text/plain": [
       "tensor([0., 1., 0., 1., 1., 0., 0., 0., 1., 0., 1., 1., 1., 1., 0., 1., 1., 1.,\n",
       "        0., 1., 0., 0., 0., 0., 0., 0., 0., 1., 1., 1., 1., 0., 1., 1., 0., 0.,\n",
       "        0., 0., 1., 1., 1., 1., 1., 1., 0., 1., 0., 0., 1., 1., 0., 0., 1., 0.,\n",
       "        0., 0., 0., 1., 1., 1., 0., 1., 1., 0., 1., 1., 1., 0., 0., 1., 0., 0.,\n",
       "        0., 0., 0., 1., 0., 1., 1., 1., 0., 0., 0., 1., 1., 0., 1., 0., 0., 1.,\n",
       "        0., 0., 0., 0., 1., 1., 1., 1., 0., 1.])"
      ]
     },
     "execution_count": 66,
     "metadata": {},
     "output_type": "execute_result"
    }
   ],
   "source": [
    "augment_db"
   ]
  },
  {
   "cell_type": "code",
   "execution_count": 71,
   "metadata": {},
   "outputs": [
    {
     "data": {
      "text/plain": [
       "tensor(0.5000)"
      ]
     },
     "execution_count": 71,
     "metadata": {},
     "output_type": "execute_result"
    }
   ],
   "source": [
    "torch.mean(augment_db)"
   ]
  },
  {
   "cell_type": "code",
   "execution_count": 70,
   "metadata": {},
   "outputs": [
    {
     "data": {
      "text/plain": [
       "tensor(0.5000)"
      ]
     },
     "execution_count": 70,
     "metadata": {},
     "output_type": "execute_result"
    }
   ],
   "source": [
    "db_result = torch.mean(augment_db.float())*2-0.5\n",
    "db_result"
   ]
  },
  {
   "cell_type": "code",
   "execution_count": 78,
   "metadata": {},
   "outputs": [],
   "source": [
    "def query(db):\n",
    "    \n",
    "    true_result = torch.mean(db.float())\n",
    "    \n",
    "    first_coin_flip = (torch.rand(len(db))>0.5).float()\n",
    "    second_coin_flip = (torch.rand(len(db))>0.5).float()\n",
    "\n",
    "    augment_db = db.float()*first_coin_flip+(1.0-first_coin_flip)*second_coin_flip\n",
    "    \n",
    "    db_result = torch.mean(augment_db)*2-0.5\n",
    "    \n",
    "    return db_result, true_result"
   ]
  },
  {
   "cell_type": "code",
   "execution_count": 106,
   "metadata": {},
   "outputs": [
    {
     "name": "stdout",
     "output_type": "stream",
     "text": [
      "With noise: tensor(0.6200)\n",
      "Without noise: tensor(0.5100)\n"
     ]
    }
   ],
   "source": [
    "db, _ = create_db_and_parallels(100)\n",
    "db_noise, true_db = query(db)\n",
    "print(\"With noise: \" + str(db_noise))\n",
    "print(\"Without noise: \" + str(true_db))\n"
   ]
  },
  {
   "cell_type": "code",
   "execution_count": 118,
   "metadata": {},
   "outputs": [
    {
     "name": "stdout",
     "output_type": "stream",
     "text": [
      "With noise: tensor(0.5480)\n",
      "Without noise: tensor(0.5210)\n"
     ]
    }
   ],
   "source": [
    "db, _ = create_db_and_parallels(1000)\n",
    "db_noise, true_db = query(db)\n",
    "print(\"With noise: \" + str(db_noise))\n",
    "print(\"Without noise: \" + str(true_db))"
   ]
  },
  {
   "cell_type": "code",
   "execution_count": 132,
   "metadata": {},
   "outputs": [
    {
     "name": "stdout",
     "output_type": "stream",
     "text": [
      "With noise: tensor(0.5170)\n",
      "Without noise: tensor(0.5002)\n"
     ]
    }
   ],
   "source": [
    "db, _ = create_db_and_parallels(10000)\n",
    "db_noise, true_db = query(db)\n",
    "print(\"With noise: \" + str(db_noise))\n",
    "print(\"Without noise: \" + str(true_db))"
   ]
  },
  {
   "cell_type": "code",
   "execution_count": 134,
   "metadata": {},
   "outputs": [
    {
     "name": "stdout",
     "output_type": "stream",
     "text": [
      "-----------0------------\n",
      "With noise: tensor(0.5540)\n",
      "Without noise: tensor(0.4970)\n",
      "-----------1------------\n",
      "With noise: tensor(0.5400)\n",
      "Without noise: tensor(0.4890)\n",
      "-----------2------------\n",
      "With noise: tensor(0.5260)\n",
      "Without noise: tensor(0.4980)\n",
      "-----------3------------\n",
      "With noise: tensor(0.5100)\n",
      "Without noise: tensor(0.4990)\n",
      "-----------4------------\n",
      "With noise: tensor(0.4580)\n",
      "Without noise: tensor(0.4700)\n",
      "-----------5------------\n",
      "With noise: tensor(0.4900)\n",
      "Without noise: tensor(0.5040)\n",
      "-----------6------------\n",
      "With noise: tensor(0.5160)\n",
      "Without noise: tensor(0.5000)\n",
      "-----------7------------\n",
      "With noise: tensor(0.4920)\n",
      "Without noise: tensor(0.4990)\n",
      "-----------8------------\n",
      "With noise: tensor(0.4160)\n",
      "Without noise: tensor(0.4720)\n",
      "-----------9------------\n",
      "With noise: tensor(0.4440)\n",
      "Without noise: tensor(0.5220)\n"
     ]
    }
   ],
   "source": [
    "for i in range(10):\n",
    "    db, _ = create_db_and_parallels(1000)\n",
    "    db_noise, true_db = query(db)\n",
    "    print('-----------'+str(i)+'------------')\n",
    "    print(\"With noise: \" + str(db_noise))\n",
    "    print(\"Without noise: \" + str(true_db))"
   ]
  },
  {
   "cell_type": "code",
   "execution_count": 133,
   "metadata": {},
   "outputs": [
    {
     "name": "stdout",
     "output_type": "stream",
     "text": [
      "-----------0------------\n",
      "With noise: tensor(0.5046)\n",
      "Without noise: tensor(0.4965)\n",
      "-----------1------------\n",
      "With noise: tensor(0.5108)\n",
      "Without noise: tensor(0.5030)\n",
      "-----------2------------\n",
      "With noise: tensor(0.5062)\n",
      "Without noise: tensor(0.5063)\n",
      "-----------3------------\n",
      "With noise: tensor(0.5096)\n",
      "Without noise: tensor(0.5017)\n",
      "-----------4------------\n",
      "With noise: tensor(0.5202)\n",
      "Without noise: tensor(0.5008)\n",
      "-----------5------------\n",
      "With noise: tensor(0.4820)\n",
      "Without noise: tensor(0.4986)\n",
      "-----------6------------\n",
      "With noise: tensor(0.5006)\n",
      "Without noise: tensor(0.4953)\n",
      "-----------7------------\n",
      "With noise: tensor(0.5010)\n",
      "Without noise: tensor(0.5058)\n",
      "-----------8------------\n",
      "With noise: tensor(0.5106)\n",
      "Without noise: tensor(0.5089)\n",
      "-----------9------------\n",
      "With noise: tensor(0.4868)\n",
      "Without noise: tensor(0.4947)\n"
     ]
    }
   ],
   "source": [
    "for i in range(10):\n",
    "    db, _ = create_db_and_parallels(10000)\n",
    "    db_noise, true_db = query(db)\n",
    "    print('-----------'+str(i)+'------------')\n",
    "    print(\"With noise: \" + str(db_noise))\n",
    "    print(\"Without noise: \" + str(true_db))"
   ]
  },
  {
   "cell_type": "code",
   "execution_count": 135,
   "metadata": {},
   "outputs": [
    {
     "name": "stdout",
     "output_type": "stream",
     "text": [
      "-----------0------------\n",
      "With noise: tensor(0.4976)\n",
      "Without noise: tensor(0.5001)\n",
      "-----------1------------\n",
      "With noise: tensor(0.4982)\n",
      "Without noise: tensor(0.4996)\n",
      "-----------2------------\n",
      "With noise: tensor(0.5042)\n",
      "Without noise: tensor(0.5004)\n",
      "-----------3------------\n",
      "With noise: tensor(0.5015)\n",
      "Without noise: tensor(0.5026)\n",
      "-----------4------------\n",
      "With noise: tensor(0.4960)\n",
      "Without noise: tensor(0.4990)\n",
      "-----------5------------\n",
      "With noise: tensor(0.4973)\n",
      "Without noise: tensor(0.4989)\n",
      "-----------6------------\n",
      "With noise: tensor(0.4996)\n",
      "Without noise: tensor(0.5015)\n",
      "-----------7------------\n",
      "With noise: tensor(0.5042)\n",
      "Without noise: tensor(0.5013)\n",
      "-----------8------------\n",
      "With noise: tensor(0.4959)\n",
      "Without noise: tensor(0.4989)\n",
      "-----------9------------\n",
      "With noise: tensor(0.5027)\n",
      "Without noise: tensor(0.5033)\n"
     ]
    }
   ],
   "source": [
    "for i in range(10):\n",
    "    db, _ = create_db_and_parallels(100000)\n",
    "    db_noise, true_db = query(db)\n",
    "    print('-----------'+str(i)+'------------')\n",
    "    print(\"With noise: \" + str(db_noise))\n",
    "    print(\"Without noise: \" + str(true_db))"
   ]
  },
  {
   "cell_type": "markdown",
   "metadata": {},
   "source": [
    "# Project 5: Varying Amounts of Noise\n",
    "\n",
    "In this project, I want you to augment the randomized response query (the one we just wrote) to allow for varying amounts of randomness to be added. Specifically, I want you to bias the coin flip to be higher or lower and then run the same experiment. \n",
    "\n",
    "Note - this one is a bit tricker than you might expect. You need to both adjust the likelihood of the first coin flip AND the de-skewing at the end (where we create the \"augmented_result\" variable)."
   ]
  },
  {
   "cell_type": "code",
   "execution_count": null,
   "metadata": {},
   "outputs": [],
   "source": []
  },
  {
   "cell_type": "code",
   "execution_count": 1,
   "metadata": {},
   "outputs": [],
   "source": [
    "import torch"
   ]
  },
  {
   "cell_type": "code",
   "execution_count": 2,
   "metadata": {},
   "outputs": [],
   "source": [
    "def get_parallel_db(db, remove_index):\n",
    "\n",
    "    return torch.cat((db[0:remove_index], \n",
    "                      db[remove_index+1:]))"
   ]
  },
  {
   "cell_type": "code",
   "execution_count": 3,
   "metadata": {},
   "outputs": [],
   "source": [
    "def get_parallel_dbs(db):\n",
    "\n",
    "    parallel_dbs = list()\n",
    "\n",
    "    for i in range(len(db)):\n",
    "        pdb = get_parallel_db(db, i)\n",
    "        parallel_dbs.append(pdb)\n",
    "    \n",
    "    return parallel_dbs\n"
   ]
  },
  {
   "cell_type": "code",
   "execution_count": 4,
   "metadata": {},
   "outputs": [],
   "source": [
    "def create_db_and_parallels(num_entries):\n",
    "    \n",
    "    db = torch.rand(num_entries) > 0.5\n",
    "    pdbs = get_parallel_dbs(db)\n",
    "    \n",
    "    return db, pdbs"
   ]
  },
  {
   "cell_type": "code",
   "execution_count": 5,
   "metadata": {},
   "outputs": [],
   "source": [
    "db, _ = create_db_and_parallels(100)"
   ]
  },
  {
   "cell_type": "code",
   "execution_count": null,
   "metadata": {},
   "outputs": [],
   "source": []
  },
  {
   "cell_type": "code",
   "execution_count": 6,
   "metadata": {},
   "outputs": [],
   "source": [
    "def query(db, noise=0.2):\n",
    "    \n",
    "    true_result = torch.mean(db.float())\n",
    "    \n",
    "    first_coin_flip = (torch.rand(len(db))>noise).float()\n",
    "    second_coin_flip = (torch.rand(len(db))>0.5).float()\n",
    "\n",
    "    augment_db = db.float()*first_coin_flip+(1.0-first_coin_flip)*second_coin_flip\n",
    "    \n",
    "    db_result = torch.mean(augment_db)*2-0.5\n",
    "    \n",
    "    return db_result, true_result"
   ]
  },
  {
   "cell_type": "code",
   "execution_count": 7,
   "metadata": {},
   "outputs": [],
   "source": [
    "true_dist_mean = 0.7 # 70% of people said YES\n",
    "noise_dist_mean = 0.5 # 50/50 coin flip"
   ]
  },
  {
   "cell_type": "code",
   "execution_count": 8,
   "metadata": {},
   "outputs": [
    {
     "data": {
      "text/plain": [
       "0.175"
      ]
     },
     "execution_count": 8,
     "metadata": {},
     "output_type": "execute_result"
    }
   ],
   "source": [
    "augmented_db_mean = (true_dist_mean*noise_dist_mean)/2\n",
    "augmented_db_mean"
   ]
  },
  {
   "cell_type": "code",
   "execution_count": 9,
   "metadata": {},
   "outputs": [
    {
     "data": {
      "text/plain": [
       "0.6"
      ]
     },
     "execution_count": 9,
     "metadata": {},
     "output_type": "execute_result"
    }
   ],
   "source": [
    "augmented_db_mean = (true_dist_mean+noise_dist_mean)/2\n",
    "augmented_db_mean"
   ]
  },
  {
   "cell_type": "code",
   "execution_count": 10,
   "metadata": {},
   "outputs": [],
   "source": [
    "noise = 0.2\n",
    "\n",
    "true_result = torch.mean(db.float())\n",
    "\n",
    "first_coin_flip = (torch.rand(len(db))>noise).float()\n",
    "second_coin_flip = (torch.rand(len(db))>0.5).float()\n",
    "\n",
    "augment_db = db.float()*first_coin_flip+(1.0-first_coin_flip)*second_coin_flip\n",
    "\n",
    "sk_result = augment_db.mean()\n",
    " "
   ]
  },
  {
   "cell_type": "code",
   "execution_count": 11,
   "metadata": {},
   "outputs": [
    {
     "data": {
      "text/plain": [
       "tensor(0.4800)"
      ]
     },
     "execution_count": 11,
     "metadata": {},
     "output_type": "execute_result"
    }
   ],
   "source": [
    "sk_result"
   ]
  },
  {
   "cell_type": "code",
   "execution_count": 12,
   "metadata": {},
   "outputs": [
    {
     "data": {
      "text/plain": [
       "0.54"
      ]
     },
     "execution_count": 12,
     "metadata": {},
     "output_type": "execute_result"
    }
   ],
   "source": [
    "noise = 0.2\n",
    "\n",
    "true_dist_mean = 0.7 # 70% of people said YES\n",
    "noise_dist_mean = 0.5 # 50/50 coin flip\n",
    "\n",
    "augmented_db_mean = (true_dist_mean*noise)+(noise_dist_mean*(1-noise))\n",
    "augmented_db_mean"
   ]
  },
  {
   "cell_type": "code",
   "execution_count": 16,
   "metadata": {},
   "outputs": [
    {
     "data": {
      "text/plain": [
       "tensor(0.4750)"
      ]
     },
     "execution_count": 16,
     "metadata": {},
     "output_type": "execute_result"
    }
   ],
   "source": [
    "private_result = ((sk_result/noise)-0.5)*noise/(1-noise)\n",
    "private_result"
   ]
  },
  {
   "cell_type": "code",
   "execution_count": null,
   "metadata": {},
   "outputs": [],
   "source": []
  },
  {
   "cell_type": "code",
   "execution_count": 5,
   "metadata": {},
   "outputs": [],
   "source": [
    "def query(db, noise=0.2):\n",
    "    \n",
    "    true_result = torch.mean(db.float())\n",
    "    \n",
    "    first_coin_flip = (torch.rand(len(db))>noise).float()\n",
    "    second_coin_flip = (torch.rand(len(db))>0.5).float()\n",
    "\n",
    "    augment_db = db.float()*first_coin_flip+(1.0-first_coin_flip)*second_coin_flip\n",
    "    \n",
    "    sk_result = augment_db.mean()\n",
    "    private_result = ((sk_result/noise)-0.5)*noise/(1-noise)\n",
    "\n",
    "    \n",
    "    return private_result, true_result"
   ]
  },
  {
   "cell_type": "code",
   "execution_count": 51,
   "metadata": {},
   "outputs": [
    {
     "name": "stdout",
     "output_type": "stream",
     "text": [
      "With noise: tensor(0.5125)\n",
      "Without noise: tensor(0.5700)\n"
     ]
    }
   ],
   "source": [
    "db, _ = create_db_and_parallels(100)\n",
    "private_result, true_result = query(db, 0.2)\n",
    "print(\"With noise: \" + str(private_result))\n",
    "print(\"Without noise: \" + str(true_result))"
   ]
  },
  {
   "cell_type": "code",
   "execution_count": 74,
   "metadata": {},
   "outputs": [
    {
     "name": "stdout",
     "output_type": "stream",
     "text": [
      "With noise: tensor(0.5200)\n",
      "Without noise: tensor(0.5800)\n"
     ]
    }
   ],
   "source": [
    "db, _ = create_db_and_parallels(100)\n",
    "private_result, true_result = query(db, noise=0.5)\n",
    "print(\"With noise: \" + str(private_result))\n",
    "print(\"Without noise: \" + str(true_result))"
   ]
  },
  {
   "cell_type": "code",
   "execution_count": 45,
   "metadata": {},
   "outputs": [
    {
     "name": "stdout",
     "output_type": "stream",
     "text": [
      "With noise: tensor(0.7667)\n",
      "Without noise: tensor(0.5200)\n"
     ]
    }
   ],
   "source": [
    "db, _ = create_db_and_parallels(100)\n",
    "private_result, true_result = query(db, 0.7)\n",
    "print(\"With noise: \" + str(private_result))\n",
    "print(\"Without noise: \" + str(true_result))"
   ]
  },
  {
   "cell_type": "code",
   "execution_count": 76,
   "metadata": {},
   "outputs": [
    {
     "name": "stdout",
     "output_type": "stream",
     "text": [
      "With noise: tensor(0.4810)\n",
      "Without noise: tensor(0.4975)\n",
      "differece: tensor(0.0165)\n",
      "------------\n",
      "With noise: tensor(0.4940)\n",
      "Without noise: tensor(0.5023)\n",
      "differece: tensor(0.0083)\n",
      "------------\n",
      "With noise: tensor(0.4830)\n",
      "Without noise: tensor(0.4945)\n",
      "differece: tensor(0.0115)\n",
      "------------\n",
      "With noise: tensor(0.4925)\n",
      "Without noise: tensor(0.5007)\n",
      "differece: tensor(0.0082)\n",
      "------------\n",
      "With noise: tensor(0.4930)\n",
      "Without noise: tensor(0.5000)\n",
      "differece: tensor(0.0070)\n",
      "------------\n",
      "With noise: tensor(0.4815)\n",
      "Without noise: tensor(0.5116)\n",
      "differece: tensor(0.0301)\n",
      "------------\n",
      "With noise: tensor(0.5120)\n",
      "Without noise: tensor(0.4955)\n",
      "differece: tensor(0.0165)\n",
      "------------\n",
      "With noise: tensor(0.5105)\n",
      "Without noise: tensor(0.5042)\n",
      "differece: tensor(0.0063)\n",
      "------------\n",
      "With noise: tensor(0.5235)\n",
      "Without noise: tensor(0.5011)\n",
      "differece: tensor(0.0224)\n",
      "------------\n",
      "With noise: tensor(0.4935)\n",
      "Without noise: tensor(0.4976)\n",
      "differece: tensor(0.0041)\n",
      "------------\n"
     ]
    }
   ],
   "source": [
    "for i in range(10):\n",
    "    db, _ = create_db_and_parallels(10000)\n",
    "    private_result, true_result = query(db, noise=0.8)\n",
    "    print(\"With noise: \" + str(private_result))\n",
    "    print(\"Without noise: \" + str(true_result))\n",
    "    print('differece: ' + str(abs(private_result-true_result)))\n",
    "    print('------------')"
   ]
  },
  {
   "cell_type": "code",
   "execution_count": 79,
   "metadata": {},
   "outputs": [
    {
     "name": "stdout",
     "output_type": "stream",
     "text": [
      "With noise: tensor(0.4998)\n",
      "Without noise: tensor(0.5007)\n",
      "differece: tensor(0.0009)\n",
      "------------\n",
      "With noise: tensor(0.4987)\n",
      "Without noise: tensor(0.5022)\n",
      "differece: tensor(0.0035)\n",
      "------------\n",
      "With noise: tensor(0.5008)\n",
      "Without noise: tensor(0.4971)\n",
      "differece: tensor(0.0037)\n",
      "------------\n",
      "With noise: tensor(0.5052)\n",
      "Without noise: tensor(0.4981)\n",
      "differece: tensor(0.0072)\n",
      "------------\n",
      "With noise: tensor(0.5027)\n",
      "Without noise: tensor(0.4975)\n",
      "differece: tensor(0.0053)\n",
      "------------\n",
      "With noise: tensor(0.5063)\n",
      "Without noise: tensor(0.5005)\n",
      "differece: tensor(0.0058)\n",
      "------------\n",
      "With noise: tensor(0.5062)\n",
      "Without noise: tensor(0.4993)\n",
      "differece: tensor(0.0068)\n",
      "------------\n",
      "With noise: tensor(0.5010)\n",
      "Without noise: tensor(0.5011)\n",
      "differece: tensor(0.0001)\n",
      "------------\n",
      "With noise: tensor(0.5047)\n",
      "Without noise: tensor(0.5015)\n",
      "differece: tensor(0.0032)\n",
      "------------\n",
      "With noise: tensor(0.5061)\n",
      "Without noise: tensor(0.5006)\n",
      "differece: tensor(0.0055)\n",
      "------------\n"
     ]
    }
   ],
   "source": [
    "for i in range(10):\n",
    "    db, _ = create_db_and_parallels(100000)\n",
    "    private_result, true_result = query(db, noise=0.8)\n",
    "    print(\"With noise: \" + str(private_result))\n",
    "    print(\"Without noise: \" + str(true_result))\n",
    "    print('differece: ' + str(abs(private_result-true_result)))    \n",
    "    print('------------')"
   ]
  },
  {
   "cell_type": "code",
   "execution_count": 78,
   "metadata": {},
   "outputs": [
    {
     "name": "stdout",
     "output_type": "stream",
     "text": [
      "With noise: tensor(0.5072)\n",
      "Without noise: tensor(0.5086)\n",
      "differece: tensor(0.0014)\n",
      "--------------\n",
      "With noise: tensor(0.5079)\n",
      "Without noise: tensor(0.5084)\n",
      "differece: tensor(0.0005)\n",
      "--------------\n",
      "With noise: tensor(0.4902)\n",
      "Without noise: tensor(0.4922)\n",
      "differece: tensor(0.0020)\n",
      "--------------\n",
      "With noise: tensor(0.5009)\n",
      "Without noise: tensor(0.5011)\n",
      "differece: tensor(0.0002)\n",
      "--------------\n",
      "With noise: tensor(0.5048)\n",
      "Without noise: tensor(0.5031)\n",
      "differece: tensor(0.0017)\n",
      "--------------\n",
      "With noise: tensor(0.5051)\n",
      "Without noise: tensor(0.5064)\n",
      "differece: tensor(0.0013)\n",
      "--------------\n",
      "With noise: tensor(0.4983)\n",
      "Without noise: tensor(0.4975)\n",
      "differece: tensor(0.0008)\n",
      "--------------\n",
      "With noise: tensor(0.5037)\n",
      "Without noise: tensor(0.5029)\n",
      "differece: tensor(0.0008)\n",
      "--------------\n",
      "With noise: tensor(0.4863)\n",
      "Without noise: tensor(0.4837)\n",
      "differece: tensor(0.0026)\n",
      "--------------\n",
      "With noise: tensor(0.5011)\n",
      "Without noise: tensor(0.4986)\n",
      "differece: tensor(0.0025)\n",
      "--------------\n"
     ]
    }
   ],
   "source": [
    "for i in range(10):\n",
    "    db, _ = create_db_and_parallels(10000)\n",
    "    private_result, true_result = query(db, 0.1)\n",
    "    print(\"With noise: \" + str(private_result))\n",
    "    print(\"Without noise: \" + str(true_result))\n",
    "    print('differece: ' + str(abs(private_result-true_result)))    \n",
    "    print('--------------')"
   ]
  },
  {
   "cell_type": "code",
   "execution_count": 112,
   "metadata": {},
   "outputs": [
    {
     "name": "stdout",
     "output_type": "stream",
     "text": [
      "With noise: tensor(0.5016)\n",
      "Without noise: tensor(0.5009)\n",
      "differece: tensor(0.0007)\n",
      "---------------\n",
      "With noise: tensor(0.4902)\n",
      "Without noise: tensor(0.4958)\n",
      "differece: tensor(0.0056)\n",
      "---------------\n",
      "With noise: tensor(0.5104)\n",
      "Without noise: tensor(0.5079)\n",
      "differece: tensor(0.0025)\n",
      "---------------\n",
      "With noise: tensor(0.4730)\n",
      "Without noise: tensor(0.4928)\n",
      "differece: tensor(0.0198)\n",
      "---------------\n",
      "With noise: tensor(0.5076)\n",
      "Without noise: tensor(0.4958)\n",
      "differece: tensor(0.0118)\n",
      "---------------\n",
      "With noise: tensor(0.4952)\n",
      "Without noise: tensor(0.4937)\n",
      "differece: tensor(0.0015)\n",
      "---------------\n",
      "With noise: tensor(0.5244)\n",
      "Without noise: tensor(0.4980)\n",
      "differece: tensor(0.0264)\n",
      "---------------\n",
      "With noise: tensor(0.5056)\n",
      "Without noise: tensor(0.5019)\n",
      "differece: tensor(0.0037)\n",
      "---------------\n",
      "With noise: tensor(0.5036)\n",
      "Without noise: tensor(0.4981)\n",
      "differece: tensor(0.0055)\n",
      "---------------\n",
      "With noise: tensor(0.5046)\n",
      "Without noise: tensor(0.4941)\n",
      "differece: tensor(0.0105)\n",
      "---------------\n"
     ]
    }
   ],
   "source": [
    "for i in range(10):\n",
    "    db, _ = create_db_and_parallels(10000)\n",
    "    private_result, true_result = query(db, 0.5)\n",
    "    print(\"With noise: \" + str(private_result))\n",
    "    print(\"Without noise: \" + str(true_result))\n",
    "    print('differece: ' + str(abs(private_result-true_result)))\n",
    "    print('---------------')"
   ]
  },
  {
   "cell_type": "markdown",
   "metadata": {},
   "source": [
    "### Test 14/07/2019"
   ]
  },
  {
   "cell_type": "code",
   "execution_count": 113,
   "metadata": {},
   "outputs": [],
   "source": [
    "import matplotlib.pyplot as plt\n",
    "x = [0.1, 0.2, 0.3, 0.4, 0.5, 0.6, 0.7, 0.8, 0.9]"
   ]
  },
  {
   "cell_type": "code",
   "execution_count": 114,
   "metadata": {},
   "outputs": [],
   "source": [
    "db, _ = create_db_and_parallels(10000)"
   ]
  },
  {
   "cell_type": "code",
   "execution_count": 115,
   "metadata": {},
   "outputs": [
    {
     "name": "stdout",
     "output_type": "stream",
     "text": [
      "With noise = 0.1: tensor(0.5001)\n",
      "Without noise: tensor(0.4974)\n",
      "differece: tensor(0.0027)\n",
      "----------------------------------------------------\n",
      "With noise = 0.2: tensor(0.4850)\n",
      "Without noise: tensor(0.4974)\n",
      "differece: tensor(0.0124)\n",
      "----------------------------------------------------\n",
      "With noise = 0.30000000000000004: tensor(0.4997)\n",
      "Without noise: tensor(0.4974)\n",
      "differece: tensor(0.0023)\n",
      "----------------------------------------------------\n",
      "With noise = 0.4: tensor(0.4910)\n",
      "Without noise: tensor(0.4974)\n",
      "differece: tensor(0.0064)\n",
      "----------------------------------------------------\n",
      "With noise = 0.5: tensor(0.4874)\n",
      "Without noise: tensor(0.4974)\n",
      "differece: tensor(0.0100)\n",
      "----------------------------------------------------\n",
      "With noise = 0.6: tensor(0.5142)\n",
      "Without noise: tensor(0.4974)\n",
      "differece: tensor(0.0168)\n",
      "----------------------------------------------------\n",
      "With noise = 0.7: tensor(0.5113)\n",
      "Without noise: tensor(0.4974)\n",
      "differece: tensor(0.0139)\n",
      "----------------------------------------------------\n",
      "With noise = 0.7999999999999999: tensor(0.4990)\n",
      "Without noise: tensor(0.4974)\n",
      "differece: tensor(0.0016)\n",
      "----------------------------------------------------\n",
      "With noise = 0.8999999999999999: tensor(0.4170)\n",
      "Without noise: tensor(0.4974)\n",
      "differece: tensor(0.0804)\n",
      "----------------------------------------------------\n",
      "With noise = 0.1: tensor(0.5013)\n",
      "Without noise: tensor(0.4974)\n",
      "differece: tensor(0.0039)\n",
      "----------------------------------------------------\n",
      "With noise = 0.2: tensor(0.4910)\n",
      "Without noise: tensor(0.4974)\n",
      "differece: tensor(0.0064)\n",
      "----------------------------------------------------\n",
      "With noise = 0.30000000000000004: tensor(0.4966)\n",
      "Without noise: tensor(0.4974)\n",
      "differece: tensor(0.0008)\n",
      "----------------------------------------------------\n",
      "With noise = 0.4: tensor(0.5072)\n",
      "Without noise: tensor(0.4974)\n",
      "differece: tensor(0.0098)\n",
      "----------------------------------------------------\n",
      "With noise = 0.5: tensor(0.4972)\n",
      "Without noise: tensor(0.4974)\n",
      "differece: tensor(0.0002)\n",
      "----------------------------------------------------\n",
      "With noise = 0.6: tensor(0.4888)\n",
      "Without noise: tensor(0.4974)\n",
      "differece: tensor(0.0086)\n",
      "----------------------------------------------------\n",
      "With noise = 0.7: tensor(0.5000)\n",
      "Without noise: tensor(0.4974)\n",
      "differece: tensor(0.0026)\n",
      "----------------------------------------------------\n",
      "With noise = 0.7999999999999999: tensor(0.4620)\n",
      "Without noise: tensor(0.4974)\n",
      "differece: tensor(0.0354)\n",
      "----------------------------------------------------\n",
      "With noise = 0.8999999999999999: tensor(0.5590)\n",
      "Without noise: tensor(0.4974)\n",
      "differece: tensor(0.0616)\n",
      "----------------------------------------------------\n",
      "With noise = 0.1: tensor(0.5002)\n",
      "Without noise: tensor(0.4974)\n",
      "differece: tensor(0.0028)\n",
      "----------------------------------------------------\n",
      "With noise = 0.2: tensor(0.5002)\n",
      "Without noise: tensor(0.4974)\n",
      "differece: tensor(0.0028)\n",
      "----------------------------------------------------\n",
      "With noise = 0.30000000000000004: tensor(0.5009)\n",
      "Without noise: tensor(0.4974)\n",
      "differece: tensor(0.0035)\n",
      "----------------------------------------------------\n",
      "With noise = 0.4: tensor(0.4873)\n",
      "Without noise: tensor(0.4974)\n",
      "differece: tensor(0.0101)\n",
      "----------------------------------------------------\n",
      "With noise = 0.5: tensor(0.5022)\n",
      "Without noise: tensor(0.4974)\n",
      "differece: tensor(0.0048)\n",
      "----------------------------------------------------\n",
      "With noise = 0.6: tensor(0.5030)\n",
      "Without noise: tensor(0.4974)\n",
      "differece: tensor(0.0056)\n",
      "----------------------------------------------------\n",
      "With noise = 0.7: tensor(0.4727)\n",
      "Without noise: tensor(0.4974)\n",
      "differece: tensor(0.0247)\n",
      "----------------------------------------------------\n",
      "With noise = 0.7999999999999999: tensor(0.5500)\n",
      "Without noise: tensor(0.4974)\n",
      "differece: tensor(0.0526)\n",
      "----------------------------------------------------\n",
      "With noise = 0.8999999999999999: tensor(0.5030)\n",
      "Without noise: tensor(0.4974)\n",
      "differece: tensor(0.0056)\n",
      "----------------------------------------------------\n",
      "With noise = 0.1: tensor(0.4950)\n",
      "Without noise: tensor(0.4974)\n",
      "differece: tensor(0.0024)\n",
      "----------------------------------------------------\n",
      "With noise = 0.2: tensor(0.4929)\n",
      "Without noise: tensor(0.4974)\n",
      "differece: tensor(0.0045)\n",
      "----------------------------------------------------\n",
      "With noise = 0.30000000000000004: tensor(0.4923)\n",
      "Without noise: tensor(0.4974)\n",
      "differece: tensor(0.0051)\n",
      "----------------------------------------------------\n",
      "With noise = 0.4: tensor(0.4910)\n",
      "Without noise: tensor(0.4974)\n",
      "differece: tensor(0.0064)\n",
      "----------------------------------------------------\n",
      "With noise = 0.5: tensor(0.5052)\n",
      "Without noise: tensor(0.4974)\n",
      "differece: tensor(0.0078)\n",
      "----------------------------------------------------\n",
      "With noise = 0.6: tensor(0.4945)\n",
      "Without noise: tensor(0.4974)\n",
      "differece: tensor(0.0029)\n",
      "----------------------------------------------------\n",
      "With noise = 0.7: tensor(0.5010)\n",
      "Without noise: tensor(0.4974)\n",
      "differece: tensor(0.0036)\n",
      "----------------------------------------------------\n",
      "With noise = 0.7999999999999999: tensor(0.4800)\n",
      "Without noise: tensor(0.4974)\n",
      "differece: tensor(0.0174)\n",
      "----------------------------------------------------\n",
      "With noise = 0.8999999999999999: tensor(0.5700)\n",
      "Without noise: tensor(0.4974)\n",
      "differece: tensor(0.0726)\n",
      "----------------------------------------------------\n",
      "With noise = 0.1: tensor(0.4950)\n",
      "Without noise: tensor(0.4974)\n",
      "differece: tensor(0.0024)\n",
      "----------------------------------------------------\n",
      "With noise = 0.2: tensor(0.4986)\n",
      "Without noise: tensor(0.4974)\n",
      "differece: tensor(0.0012)\n",
      "----------------------------------------------------\n",
      "With noise = 0.30000000000000004: tensor(0.4964)\n",
      "Without noise: tensor(0.4974)\n",
      "differece: tensor(0.0010)\n",
      "----------------------------------------------------\n",
      "With noise = 0.4: tensor(0.4908)\n",
      "Without noise: tensor(0.4974)\n",
      "differece: tensor(0.0066)\n",
      "----------------------------------------------------\n",
      "With noise = 0.5: tensor(0.5014)\n",
      "Without noise: tensor(0.4974)\n",
      "differece: tensor(0.0040)\n",
      "----------------------------------------------------\n",
      "With noise = 0.6: tensor(0.4745)\n",
      "Without noise: tensor(0.4974)\n",
      "differece: tensor(0.0229)\n",
      "----------------------------------------------------\n",
      "With noise = 0.7: tensor(0.4587)\n",
      "Without noise: tensor(0.4974)\n",
      "differece: tensor(0.0387)\n",
      "----------------------------------------------------\n",
      "With noise = 0.7999999999999999: tensor(0.4840)\n",
      "Without noise: tensor(0.4974)\n",
      "differece: tensor(0.0134)\n",
      "----------------------------------------------------\n",
      "With noise = 0.8999999999999999: tensor(0.4640)\n",
      "Without noise: tensor(0.4974)\n",
      "differece: tensor(0.0334)\n",
      "----------------------------------------------------\n",
      "With noise = 0.1: tensor(0.4998)\n",
      "Without noise: tensor(0.4974)\n",
      "differece: tensor(0.0024)\n",
      "----------------------------------------------------\n",
      "With noise = 0.2: tensor(0.4958)\n",
      "Without noise: tensor(0.4974)\n",
      "differece: tensor(0.0016)\n",
      "----------------------------------------------------\n",
      "With noise = 0.30000000000000004: tensor(0.5006)\n",
      "Without noise: tensor(0.4974)\n",
      "differece: tensor(0.0032)\n",
      "----------------------------------------------------\n",
      "With noise = 0.4: tensor(0.4987)\n",
      "Without noise: tensor(0.4974)\n",
      "differece: tensor(0.0013)\n",
      "----------------------------------------------------\n",
      "With noise = 0.5: tensor(0.5022)\n",
      "Without noise: tensor(0.4974)\n",
      "differece: tensor(0.0048)\n",
      "----------------------------------------------------\n",
      "With noise = 0.6: tensor(0.4965)\n",
      "Without noise: tensor(0.4974)\n",
      "differece: tensor(0.0009)\n",
      "----------------------------------------------------\n",
      "With noise = 0.7: tensor(0.4860)\n",
      "Without noise: tensor(0.4974)\n",
      "differece: tensor(0.0114)\n",
      "----------------------------------------------------\n",
      "With noise = 0.7999999999999999: tensor(0.4990)\n",
      "Without noise: tensor(0.4974)\n",
      "differece: tensor(0.0016)\n",
      "----------------------------------------------------\n",
      "With noise = 0.8999999999999999: tensor(0.4960)\n",
      "Without noise: tensor(0.4974)\n",
      "differece: tensor(0.0014)\n",
      "----------------------------------------------------\n",
      "With noise = 0.1: tensor(0.4971)\n",
      "Without noise: tensor(0.4974)\n",
      "differece: tensor(0.0003)\n",
      "----------------------------------------------------\n",
      "With noise = 0.2: tensor(0.4943)\n",
      "Without noise: tensor(0.4974)\n",
      "differece: tensor(0.0031)\n",
      "----------------------------------------------------\n",
      "With noise = 0.30000000000000004: tensor(0.5063)\n",
      "Without noise: tensor(0.4974)\n",
      "differece: tensor(0.0089)\n",
      "----------------------------------------------------\n",
      "With noise = 0.4: tensor(0.4890)\n",
      "Without noise: tensor(0.4974)\n",
      "differece: tensor(0.0084)\n",
      "----------------------------------------------------\n",
      "With noise = 0.5: tensor(0.5042)\n",
      "Without noise: tensor(0.4974)\n",
      "differece: tensor(0.0068)\n",
      "----------------------------------------------------\n",
      "With noise = 0.6: tensor(0.5000)\n",
      "Without noise: tensor(0.4974)\n",
      "differece: tensor(0.0026)\n",
      "----------------------------------------------------\n",
      "With noise = 0.7: tensor(0.5187)\n",
      "Without noise: tensor(0.4974)\n",
      "differece: tensor(0.0213)\n",
      "----------------------------------------------------\n",
      "With noise = 0.7999999999999999: tensor(0.4600)\n",
      "Without noise: tensor(0.4974)\n",
      "differece: tensor(0.0374)\n",
      "----------------------------------------------------\n",
      "With noise = 0.8999999999999999: tensor(0.4740)\n",
      "Without noise: tensor(0.4974)\n",
      "differece: tensor(0.0234)\n",
      "----------------------------------------------------\n",
      "With noise = 0.1: tensor(0.4978)\n",
      "Without noise: tensor(0.4974)\n",
      "differece: tensor(0.0004)\n",
      "----------------------------------------------------\n",
      "With noise = 0.2: tensor(0.4960)\n",
      "Without noise: tensor(0.4974)\n",
      "differece: tensor(0.0014)\n",
      "----------------------------------------------------\n",
      "With noise = 0.30000000000000004: tensor(0.4914)\n",
      "Without noise: tensor(0.4974)\n",
      "differece: tensor(0.0060)\n",
      "----------------------------------------------------\n",
      "With noise = 0.4: tensor(0.4962)\n",
      "Without noise: tensor(0.4974)\n",
      "differece: tensor(0.0012)\n",
      "----------------------------------------------------\n",
      "With noise = 0.5: tensor(0.5054)\n",
      "Without noise: tensor(0.4974)\n",
      "differece: tensor(0.0080)\n",
      "----------------------------------------------------\n",
      "With noise = 0.6: tensor(0.4932)\n",
      "Without noise: tensor(0.4974)\n",
      "differece: tensor(0.0042)\n",
      "----------------------------------------------------\n",
      "With noise = 0.7: tensor(0.4870)\n",
      "Without noise: tensor(0.4974)\n",
      "differece: tensor(0.0104)\n",
      "----------------------------------------------------\n",
      "With noise = 0.7999999999999999: tensor(0.4845)\n",
      "Without noise: tensor(0.4974)\n",
      "differece: tensor(0.0129)\n",
      "----------------------------------------------------\n",
      "With noise = 0.8999999999999999: tensor(0.4380)\n",
      "Without noise: tensor(0.4974)\n",
      "differece: tensor(0.0594)\n",
      "----------------------------------------------------\n",
      "With noise = 0.1: tensor(0.5010)\n",
      "Without noise: tensor(0.4974)\n",
      "differece: tensor(0.0036)\n",
      "----------------------------------------------------\n",
      "With noise = 0.2: tensor(0.4989)\n",
      "Without noise: tensor(0.4974)\n",
      "differece: tensor(0.0015)\n",
      "----------------------------------------------------\n",
      "With noise = 0.30000000000000004: tensor(0.4956)\n",
      "Without noise: tensor(0.4974)\n",
      "differece: tensor(0.0018)\n",
      "----------------------------------------------------\n",
      "With noise = 0.4: tensor(0.5028)\n",
      "Without noise: tensor(0.4974)\n",
      "differece: tensor(0.0054)\n",
      "----------------------------------------------------\n",
      "With noise = 0.5: tensor(0.4960)\n",
      "Without noise: tensor(0.4974)\n",
      "differece: tensor(0.0014)\n",
      "----------------------------------------------------\n",
      "With noise = 0.6: tensor(0.5132)\n",
      "Without noise: tensor(0.4974)\n",
      "differece: tensor(0.0158)\n",
      "----------------------------------------------------\n",
      "With noise = 0.7: tensor(0.5027)\n",
      "Without noise: tensor(0.4974)\n",
      "differece: tensor(0.0053)\n",
      "----------------------------------------------------\n",
      "With noise = 0.7999999999999999: tensor(0.5155)\n",
      "Without noise: tensor(0.4974)\n",
      "differece: tensor(0.0181)\n",
      "----------------------------------------------------\n",
      "With noise = 0.8999999999999999: tensor(0.4820)\n",
      "Without noise: tensor(0.4974)\n",
      "differece: tensor(0.0154)\n",
      "----------------------------------------------------\n",
      "With noise = 0.1: tensor(0.4954)\n",
      "Without noise: tensor(0.4974)\n",
      "differece: tensor(0.0020)\n",
      "----------------------------------------------------\n",
      "With noise = 0.2: tensor(0.4981)\n",
      "Without noise: tensor(0.4974)\n",
      "differece: tensor(0.0007)\n",
      "----------------------------------------------------\n",
      "With noise = 0.30000000000000004: tensor(0.5014)\n",
      "Without noise: tensor(0.4974)\n",
      "differece: tensor(0.0040)\n",
      "----------------------------------------------------\n",
      "With noise = 0.4: tensor(0.4973)\n",
      "Without noise: tensor(0.4974)\n",
      "differece: tensor(6.6698e-05)\n",
      "----------------------------------------------------\n",
      "With noise = 0.5: tensor(0.4866)\n",
      "Without noise: tensor(0.4974)\n",
      "differece: tensor(0.0108)\n",
      "----------------------------------------------------\n",
      "With noise = 0.6: tensor(0.4910)\n",
      "Without noise: tensor(0.4974)\n",
      "differece: tensor(0.0064)\n",
      "----------------------------------------------------\n",
      "With noise = 0.7: tensor(0.4750)\n",
      "Without noise: tensor(0.4974)\n",
      "differece: tensor(0.0224)\n",
      "----------------------------------------------------\n",
      "With noise = 0.7999999999999999: tensor(0.4650)\n",
      "Without noise: tensor(0.4974)\n",
      "differece: tensor(0.0324)\n",
      "----------------------------------------------------\n",
      "With noise = 0.8999999999999999: tensor(0.6030)\n",
      "Without noise: tensor(0.4974)\n",
      "differece: tensor(0.1056)\n",
      "----------------------------------------------------\n"
     ]
    }
   ],
   "source": [
    "array_pri_total = []\n",
    "array_true_total = []\n",
    "array_diff_total = []\n",
    "\n",
    "for i in range(10):\n",
    "    noise = 0.1\n",
    "    array_pri_result = []\n",
    "    array_true_result = []\n",
    "    array_diff = []\n",
    "    \n",
    "    for i in range(9):\n",
    "\n",
    "        private_result, true_result = query(db, noise)\n",
    "        print(\"With noise = \" +str(noise) + \": \" + str(private_result))\n",
    "        print(\"Without noise: \" + str(true_result))\n",
    "        print('differece: ' + str(abs(private_result-true_result))) \n",
    "        array_pri_result.append(private_result)    \n",
    "        array_diff.append(abs(private_result-true_result))\n",
    "        array_true_result.append(true_result)\n",
    "\n",
    "        print('----------------------------------------------------')\n",
    "        noise += 0.1\n",
    "\n",
    "    array_pri_total.append(array_pri_result)\n",
    "    array_true_total.append(array_true_result)\n",
    "    array_diff_total.append(array_diff)"
   ]
  },
  {
   "cell_type": "code",
   "execution_count": 134,
   "metadata": {
    "scrolled": true
   },
   "outputs": [
    {
     "data": {
      "image/png": "[encoded data removed]",
      "text/plain": [
       "<Figure size 1440x216 with 2 Axes>"
      ]
     },
     "metadata": {
      "needs_background": "light"
     },
     "output_type": "display_data"
    },
    {
     "data": {
      "image/png": "[encoded data removed]",
      "text/plain": [
       "<Figure size 1440x216 with 2 Axes>"
      ]
     },
     "metadata": {
      "needs_background": "light"
     },
     "output_type": "display_data"
    },
    {
     "data": {
      "image/png": "[encoded data removed]",
      "text/plain": [
       "<Figure size 1440x216 with 2 Axes>"
      ]
     },
     "metadata": {
      "needs_background": "light"
     },
     "output_type": "display_data"
    },
    {
     "data": {
      "image/png": "[encoded data removed]",
      "text/plain": [
       "<Figure size 1440x216 with 2 Axes>"
      ]
     },
     "metadata": {
      "needs_background": "light"
     },
     "output_type": "display_data"
    },
    {
     "data": {
      "image/png": "[encoded data removed]",
      "text/plain": [
       "<Figure size 1440x216 with 2 Axes>"
      ]
     },
     "metadata": {
      "needs_background": "light"
     },
     "output_type": "display_data"
    },
    {
     "data": {
      "image/png": "[encoded data removed]",
      "text/plain": [
       "<Figure size 1440x216 with 2 Axes>"
      ]
     },
     "metadata": {
      "needs_background": "light"
     },
     "output_type": "display_data"
    },
    {
     "data": {
      "image/png": "[encoded data removed]",
      "text/plain": [
       "<Figure size 1440x216 with 2 Axes>"
      ]
     },
     "metadata": {
      "needs_background": "light"
     },
     "output_type": "display_data"
    },
    {
     "data": {
      "image/png": "[encoded data removed]",
      "text/plain": [
       "<Figure size 1440x216 with 2 Axes>"
      ]
     },
     "metadata": {
      "needs_background": "light"
     },
     "output_type": "display_data"
    },
    {
     "data": {
      "image/png": "[encoded data removed]",
      "text/plain": [
       "<Figure size 1440x216 with 2 Axes>"
      ]
     },
     "metadata": {
      "needs_background": "light"
     },
     "output_type": "display_data"
    },
    {
     "data": {
      "image/png": "[encoded data removed]",
      "text/plain": [
       "<Figure size 1440x216 with 2 Axes>"
      ]
     },
     "metadata": {
      "needs_background": "light"
     },
     "output_type": "display_data"
    }
   ],
   "source": [
    "for i in range(10):\n",
    "    f, (ax1, ax2) = plt.subplots(1, 2, figsize=(20,3), sharex=True)\n",
    "    ax1.plot(x, array_diff_total[i])\n",
    "    ax1.set_title('Difference between private and true')\n",
    "    ax1.set_xlabel('Noise')\n",
    "    ax1.set_ylabel('Difference')\n",
    "    ax2.plot(x, array_pri_total[i])\n",
    "    ax2.plot(x, array_true_total[i])\n",
    "    ax2.set_title('Private_result and True_result')\n",
    "    ax2.set_xlabel('Noise')\n",
    "    ax2.set_ylabel('Values')\n",
    "    plt.savefig('./figs/tradeoff_'+str(i)+'.png')\n",
    "\n",
    "    "
   ]
  },
  {
   "cell_type": "markdown",
   "metadata": {},
   "source": [
    "# Lesson: The Formal Definition of Differential Privacy\n",
    "\n",
    "The previous method of adding noise was called \"Local Differentail Privacy\" because we added noise to each datapoint individually. This is necessary for some situations wherein the data is SO sensitive that individuals do not trust noise to be added later. However, it comes at a very high cost in terms of accuracy. \n",
    "\n",
    "However, alternatively we can add noise AFTER data has been aggregated by a function. This kind of noise can allow for similar levels of protection with a lower affect on accuracy. However, participants must be able to trust that no-one looked at their datapoints _before_ the aggregation took place. In some situations this works out well, in others (such as an individual hand-surveying a group of people), this is less realistic.\n",
    "\n",
    "Nevertheless, global differential privacy is incredibly important because it allows us to perform differential privacy on smaller groups of individuals with lower amounts of noise. Let's revisit our sum functions."
   ]
  },
  {
   "cell_type": "code",
   "execution_count": 40,
   "metadata": {},
   "outputs": [
    {
     "data": {
      "text/plain": [
       "tensor(40.)"
      ]
     },
     "execution_count": 40,
     "metadata": {},
     "output_type": "execute_result"
    }
   ],
   "source": [
    "db, pdbs = create_db_and_parallels(100)\n",
    "\n",
    "def query(db):\n",
    "    return torch.sum(db.float())\n",
    "\n",
    "def M(db):\n",
    "    query(db) + noise\n",
    "\n",
    "query(db)"
   ]
  },
  {
   "cell_type": "markdown",
   "metadata": {},
   "source": [
    "So the idea here is that we want to add noise to the output of our function. We actually have two different kinds of noise we can add - Laplacian Noise or Gaussian Noise. However, before we do so at this point we need to dive into the formal definition of Differential Privacy.\n",
    "\n",
    "![alt text](dp_formula.png \"Title\")"
   ]
  },
  {
   "cell_type": "markdown",
   "metadata": {},
   "source": [
    "_Image From: \"The Algorithmic Foundations of Differential Privacy\" - Cynthia Dwork and Aaron Roth - https://www.cis.upenn.edu/~aaroth/Papers/privacybook.pdf_"
   ]
  },
  {
   "cell_type": "markdown",
   "metadata": {},
   "source": [
    "This definition does not _create_ differential privacy, instead it is a measure of how much privacy is afforded by a query M. Specifically, it's a comparison between running the query M on a database (x) and a parallel database (y). As you remember, parallel databases are defined to be the same as a full database (x) with one entry/person removed.\n",
    "\n",
    "Thus, this definition says that FOR ALL parallel databases, the maximum distance between a query on database (x) and the same query on database (y) will be e^epsilon, but that occasionally this constraint won't hold with probability delta. Thus, this theorem is called \"epsilon delta\" differential privacy.\n",
    "\n",
    "# Epsilon\n",
    "\n",
    "Let's unpack the intuition of this for a moment. \n",
    "\n",
    "Epsilon Zero: If a query satisfied this inequality where epsilon was set to 0, then that would mean that the query for all parallel databases outputed the exact same value as the full database. As you may remember, when we calculated the \"threshold\" function, often the Sensitivity was 0. In that case, the epsilon also happened to be zero.\n",
    "\n",
    "Epsilon One: If a query satisfied this inequality with epsilon 1, then the maximum distance between all queries would be 1 - or more precisely - the maximum distance between the two random distributions M(x) and M(y) is 1 (because all these queries have some amount of randomness in them, just like we observed in the last section).\n",
    "\n",
    "# Delta\n",
    "\n",
    "Delta is basically the probability that epsilon breaks. Namely, sometimes the epsilon is different for some queries than it is for others. For example, you may remember when we were calculating the sensitivity of threshold, most of the time sensitivity was 0 but sometimes it was 1. Thus, we could calculate this as \"epsilon zero but non-zero delta\" which would say that epsilon is perfect except for some probability of the time when it's arbitrarily higher. Note that this expression doesn't represent the full tradeoff between epsilon and delta."
   ]
  },
  {
   "cell_type": "markdown",
   "metadata": {},
   "source": [
    "# Lesson: How To Add Noise for Global Differential Privacy\n",
    "\n",
    "In this lesson, we're going to learn about how to take a query and add varying amounts of noise so that it satisfies a certain degree of differential privacy. In particular, we're going to leave behind the Local Differential privacy previously discussed and instead opt to focus on Global differential privacy. \n",
    "\n",
    "So, to sum up, this lesson is about adding noise to the output of our query so that it satisfies a certain epsilon-delta differential privacy threshold.\n",
    "\n",
    "There are two kinds of noise we can add - Gaussian Noise or Laplacian Noise. Generally speaking Laplacian is better, but both are still valid. Now to the hard question...\n",
    "\n",
    "### How much noise should we add?\n",
    "\n",
    "The amount of noise necessary to add to the output of a query is a function of four things:\n",
    "\n",
    "- the type of noise (Gaussian/Laplacian)\n",
    "- the sensitivity of the query/function\n",
    "- the desired epsilon (ε)\n",
    "- the desired delta (δ)\n",
    "\n",
    "Thus, for each type of noise we're adding, we have different way of calculating how much to add as a function of sensitivity, epsilon, and delta. We're going to focus on Laplacian noise. Laplacian noise is increased/decreased according to a \"scale\" parameter b. We choose \"b\" based on the following formula.\n",
    "\n",
    "b = sensitivity(query) / epsilon\n",
    "\n",
    "In other words, if we set b to be this value, then we know that we will have a privacy leakage of <= epsilon. Furthermore, the nice thing about Laplace is that it guarantees this with delta == 0. There are some tunings where we can have very low epsilon where delta is non-zero, but we'll ignore them for now.\n",
    "\n",
    "### Querying Repeatedly\n",
    "\n",
    "- if we query the database multiple times - we can simply add the epsilons (Even if we change the amount of noise and their epsilons are not the same)."
   ]
  },
  {
   "cell_type": "code",
   "execution_count": null,
   "metadata": {},
   "outputs": [],
   "source": []
  },
  {
   "cell_type": "markdown",
   "metadata": {},
   "source": [
    "# Project: Create a Differentially Private Query\n",
    "\n",
    "In this project, I want you to take what you learned in the previous lesson and create a query function which sums over the database and adds just the right amount of noise such that it satisfies an epsilon constraint. Write a query for both \"sum\" and for \"mean\". Ensure that you use the correct sensitivity measures for both."
   ]
  },
  {
   "cell_type": "code",
   "execution_count": null,
   "metadata": {},
   "outputs": [],
   "source": [
    "# try this project here!"
   ]
  },
  {
   "cell_type": "code",
   "execution_count": null,
   "metadata": {},
   "outputs": [],
   "source": []
  },
  {
   "cell_type": "code",
   "execution_count": null,
   "metadata": {},
   "outputs": [],
   "source": []
  },
  {
   "cell_type": "code",
   "execution_count": null,
   "metadata": {},
   "outputs": [],
   "source": []
  },
  {
   "cell_type": "code",
   "execution_count": null,
   "metadata": {},
   "outputs": [],
   "source": []
  },
  {
   "cell_type": "code",
   "execution_count": null,
   "metadata": {},
   "outputs": [],
   "source": []
  },
  {
   "cell_type": "code",
   "execution_count": null,
   "metadata": {},
   "outputs": [],
   "source": []
  },
  {
   "cell_type": "code",
   "execution_count": null,
   "metadata": {},
   "outputs": [],
   "source": []
  },
  {
   "cell_type": "code",
   "execution_count": null,
   "metadata": {},
   "outputs": [],
   "source": []
  },
  {
   "cell_type": "markdown",
   "metadata": {},
   "source": [
    "# Lesson: Differential Privacy for Deep Learning\n",
    "\n",
    "So in the last lessons you may have been wondering - what does all of this have to do with Deep Learning? Well, these same techniques we were just studying form the core primitives for how Differential Privacy provides guarantees in the context of Deep Learning. \n",
    "\n",
    "Previously, we defined perfect privacy as \"a query to a database returns the same value even if we remove any person from the database\", and used this intuition in the description of epsilon/delta. In the context of deep learning we have a similar standard.\n",
    "\n",
    "Training a model on a dataset should return the same model even if we remove any person from the dataset.\n",
    "\n",
    "Thus, we've replaced \"querying a database\" with \"training a model on a dataset\". In essence, the training process is a kind of query. However, one should note that this adds two points of complexity which database queries did not have:\n",
    "\n",
    "    1. do we always know where \"people\" are referenced in the dataset?\n",
    "    2. neural models rarely never train to the same output model, even on identical data\n",
    "\n",
    "The answer to (1) is to treat each training example as a single, separate person. Strictly speaking, this is often overly zealous as some training examples have no relevance to people and others may have multiple/partial (consider an image with multiple people contained within it). Thus, localizing exactly where \"people\" are referenced, and thus how much your model would change if people were removed, is challenging.\n",
    "\n",
    "The answer to (2) is also an open problem - but several interesitng proposals have been made. We're going to focus on one of the most popular proposals, PATE.\n",
    "\n",
    "## An Example Scenario: A Health Neural Network\n",
    "\n",
    "First we're going to consider a scenario - you work for a hospital and you have a large collection of images about your patients. However, you don't know what's in them. You would like to use these images to develop a neural network which can automatically classify them, however since your images aren't labeled, they aren't sufficient to train a classifier. \n",
    "\n",
    "However, being a cunning strategist, you realize that you can reach out to 10 partner hospitals which DO have annotated data. It is your hope to train your new classifier on their datasets so that you can automatically label your own. While these hospitals are interested in helping, they have privacy concerns regarding information about their patients. Thus, you will use the following technique to train a classifier which protects the privacy of patients in the other hospitals.\n",
    "\n",
    "- 1) You'll ask each of the 10 hospitals to train a model on their own datasets (All of which have the same kinds of labels)\n",
    "- 2) You'll then use each of the 10 partner models to predict on your local dataset, generating 10 labels for each of your datapoints\n",
    "- 3) Then, for each local data point (now with 10 labels), you will perform a DP query to generate the final true label. This query is a \"max\" function, where \"max\" is the most frequent label across the 10 labels. We will need to add laplacian noise to make this Differentially Private to a certain epsilon/delta constraint.\n",
    "- 4) Finally, we will retrain a new model on our local dataset which now has labels. This will be our final \"DP\" model.\n",
    "\n",
    "So, let's walk through these steps. I will assume you're already familiar with how to train/predict a deep neural network, so we'll skip steps 1 and 2 and work with example data. We'll focus instead on step 3, namely how to perform the DP query for each example using toy data.\n",
    "\n",
    "So, let's say we have 10,000 training examples, and we've got 10 labels for each example (from our 10 \"teacher models\" which were trained directly on private data). Each label is chosen from a set of 10 possible labels (categories) for each image."
   ]
  },
  {
   "cell_type": "code",
   "execution_count": 49,
   "metadata": {},
   "outputs": [],
   "source": [
    "import numpy as np"
   ]
  },
  {
   "cell_type": "code",
   "execution_count": 54,
   "metadata": {},
   "outputs": [],
   "source": [
    "num_teachers = 10 # we're working with 10 partner hospitals\n",
    "num_examples = 10000 # the size of OUR dataset\n",
    "num_labels = 10 # number of lablels for our classifier"
   ]
  },
  {
   "cell_type": "code",
   "execution_count": 55,
   "metadata": {},
   "outputs": [],
   "source": [
    "preds = (np.random.rand(num_teachers, num_examples) * num_labels).astype(int).transpose(1,0) # fake predictions"
   ]
  },
  {
   "cell_type": "code",
   "execution_count": 56,
   "metadata": {},
   "outputs": [],
   "source": [
    "new_labels = list()\n",
    "for an_image in preds:\n",
    "\n",
    "    label_counts = np.bincount(an_image, minlength=num_labels)\n",
    "\n",
    "    epsilon = 0.1\n",
    "    beta = 1 / epsilon\n",
    "\n",
    "    for i in range(len(label_counts)):\n",
    "        label_counts[i] += np.random.laplace(0, beta, 1)\n",
    "\n",
    "    new_label = np.argmax(label_counts)\n",
    "    \n",
    "    new_labels.append(new_label)"
   ]
  },
  {
   "cell_type": "code",
   "execution_count": 57,
   "metadata": {},
   "outputs": [],
   "source": [
    "# new_labels"
   ]
  },
  {
   "cell_type": "markdown",
   "metadata": {},
   "source": [
    "# PATE Analysis"
   ]
  },
  {
   "cell_type": "code",
   "execution_count": 58,
   "metadata": {},
   "outputs": [
    {
     "data": {
      "text/plain": [
       "9"
      ]
     },
     "execution_count": 58,
     "metadata": {},
     "output_type": "execute_result"
    }
   ],
   "source": [
    "labels = np.array([9, 9, 3, 6, 9, 9, 9, 9, 8, 2])\n",
    "counts = np.bincount(labels, minlength=10)\n",
    "query_result = np.argmax(counts)\n",
    "query_result"
   ]
  },
  {
   "cell_type": "code",
   "execution_count": 59,
   "metadata": {},
   "outputs": [],
   "source": [
    "from syft.frameworks.torch.differential_privacy import pate"
   ]
  },
  {
   "cell_type": "code",
   "execution_count": 61,
   "metadata": {},
   "outputs": [
    {
     "name": "stdout",
     "output_type": "stream",
     "text": [
      "Warning: May not have used enough values of l. Increase 'moments' variable and run again.\n"
     ]
    }
   ],
   "source": [
    "num_teachers, num_examples, num_labels = (100, 100, 10)\n",
    "preds = (np.random.rand(num_teachers, num_examples) * num_labels).astype(int) #fake preds\n",
    "indices = (np.random.rand(num_examples) * num_labels).astype(int) # true answers\n",
    "\n",
    "preds[:,0:10] *= 0\n",
    "\n",
    "data_dep_eps, data_ind_eps = pate.perform_analysis(teacher_preds=preds, indices=indices, noise_eps=0.1, delta=1e-5)\n",
    "\n",
    "assert data_dep_eps < data_ind_eps\n",
    "\n"
   ]
  },
  {
   "cell_type": "code",
   "execution_count": 64,
   "metadata": {},
   "outputs": [
    {
     "name": "stdout",
     "output_type": "stream",
     "text": [
      "Warning: May not have used enough values of l. Increase 'moments' variable and run again.\n",
      "Data Independent Epsilon: 11.756462732485115\n",
      "Data Dependent Epsilon: 1.52655213289881\n"
     ]
    }
   ],
   "source": [
    "data_dep_eps, data_ind_eps = pate.perform_analysis(teacher_preds=preds, indices=indices, noise_eps=0.1, delta=1e-5)\n",
    "print(\"Data Independent Epsilon:\", data_ind_eps)\n",
    "print(\"Data Dependent Epsilon:\", data_dep_eps)"
   ]
  },
  {
   "cell_type": "code",
   "execution_count": 65,
   "metadata": {},
   "outputs": [],
   "source": [
    "preds[:,0:50] *= 0"
   ]
  },
  {
   "cell_type": "code",
   "execution_count": 66,
   "metadata": {},
   "outputs": [
    {
     "name": "stdout",
     "output_type": "stream",
     "text": [
      "Data Independent Epsilon: 11.756462732485115\n",
      "Data Dependent Epsilon: 0.9029013677789843\n"
     ]
    }
   ],
   "source": [
    "data_dep_eps, data_ind_eps = pate.perform_analysis(teacher_preds=preds, indices=indices, noise_eps=0.1, delta=1e-5, moments=20)\n",
    "print(\"Data Independent Epsilon:\", data_ind_eps)\n",
    "print(\"Data Dependent Epsilon:\", data_dep_eps)"
   ]
  },
  {
   "cell_type": "code",
   "execution_count": null,
   "metadata": {},
   "outputs": [],
   "source": []
  },
  {
   "cell_type": "markdown",
   "metadata": {},
   "source": [
    "# Where to Go From Here\n",
    "\n",
    "\n",
    "Read:\n",
    "    - Algorithmic Foundations of Differential Privacy: https://www.cis.upenn.edu/~aaroth/Papers/privacybook.pdf\n",
    "    - Deep Learning with Differential Privacy: https://arxiv.org/pdf/1607.00133.pdf\n",
    "    - The Ethical Algorithm: https://www.amazon.com/Ethical-Algorithm-Science-Socially-Design/dp/0190948205\n",
    "   \n",
    "Topics:\n",
    "    - The Exponential Mechanism\n",
    "    - The Moment's Accountant\n",
    "    - Differentially Private Stochastic Gradient Descent\n",
    "\n",
    "Advice:\n",
    "    - For deployments - stick with public frameworks!\n",
    "    - Join the Differential Privacy Community\n",
    "    - Don't get ahead of yourself - DP is still in the early days"
   ]
  },
  {
   "cell_type": "code",
   "execution_count": null,
   "metadata": {},
   "outputs": [],
   "source": []
  },
  {
   "cell_type": "code",
   "execution_count": null,
   "metadata": {},
   "outputs": [],
   "source": []
  },
  {
   "cell_type": "code",
   "execution_count": null,
   "metadata": {},
   "outputs": [],
   "source": []
  },
  {
   "cell_type": "code",
   "execution_count": null,
   "metadata": {},
   "outputs": [],
   "source": []
  },
  {
   "cell_type": "code",
   "execution_count": null,
   "metadata": {},
   "outputs": [],
   "source": []
  },
  {
   "cell_type": "code",
   "execution_count": null,
   "metadata": {},
   "outputs": [],
   "source": []
  },
  {
   "cell_type": "code",
   "execution_count": null,
   "metadata": {},
   "outputs": [],
   "source": []
  },
  {
   "cell_type": "code",
   "execution_count": null,
   "metadata": {},
   "outputs": [],
   "source": []
  },
  {
   "cell_type": "code",
   "execution_count": null,
   "metadata": {},
   "outputs": [],
   "source": []
  },
  {
   "cell_type": "code",
   "execution_count": null,
   "metadata": {},
   "outputs": [],
   "source": []
  },
  {
   "cell_type": "code",
   "execution_count": null,
   "metadata": {},
   "outputs": [],
   "source": []
  },
  {
   "cell_type": "code",
   "execution_count": null,
   "metadata": {},
   "outputs": [],
   "source": []
  },
  {
   "cell_type": "code",
   "execution_count": null,
   "metadata": {},
   "outputs": [],
   "source": []
  },
  {
   "cell_type": "code",
   "execution_count": null,
   "metadata": {},
   "outputs": [],
   "source": []
  },
  {
   "cell_type": "code",
   "execution_count": null,
   "metadata": {},
   "outputs": [],
   "source": []
  },
  {
   "cell_type": "code",
   "execution_count": null,
   "metadata": {},
   "outputs": [],
   "source": []
  },
  {
   "cell_type": "code",
   "execution_count": null,
   "metadata": {},
   "outputs": [],
   "source": []
  },
  {
   "cell_type": "markdown",
   "metadata": {},
   "source": [
    "# Section Project:\n",
    "\n",
    "For the final project for this section, you're going to be given a dataset which you need to use to train a DP model using this PATE method. "
   ]
  },
  {
   "cell_type": "code",
   "execution_count": null,
   "metadata": {},
   "outputs": [],
   "source": []
  }
 ],
 "metadata": {
  "kernelspec": {
   "display_name": "Python 3",
   "language": "python",
   "name": "python3"
  },
  "language_info": {
   "codemirror_mode": {
    "name": "ipython",
    "version": 3
   },
   "file_extension": ".py",
   "mimetype": "text/x-python",
   "name": "python",
   "nbconvert_exporter": "python",
   "pygments_lexer": "ipython3",
   "version": "3.7.3"
  }
 },
 "nbformat": 4,
 "nbformat_minor": 2
}
