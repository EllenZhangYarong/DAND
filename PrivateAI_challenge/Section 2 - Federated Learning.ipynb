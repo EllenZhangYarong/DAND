{
 "cells": [
  {
   "cell_type": "markdown",
   "metadata": {},
   "source": [
    "# Section: Federated Learning"
   ]
  },
  {
   "cell_type": "markdown",
   "metadata": {},
   "source": [
    "# Lesson: Introducing Federated Learning\n",
    "\n",
    "Federated Learning is a technique for training Deep Learning models on data to which you do not have access. Basically:\n",
    "\n",
    "Federated Learning: Instead of bringing all the data to one machine and training a model, we bring the model to the data, train it locally, and merely upload \"model updates\" to a central server.\n",
    "\n",
    "Use Cases:\n",
    "\n",
    "    - app company (Texting prediction app)\n",
    "    - predictive maintenance (automobiles / industrial engines)\n",
    "    - wearable medical devices\n",
    "    - ad blockers / autotomplete in browsers (Firefox/Brave)\n",
    "    \n",
    "Challenge Description: data is distributed amongst sources but we cannot aggregated it because of:\n",
    "\n",
    "    - privacy concerns: legal, user discomfort, competitive dynamics\n",
    "    - engineering: the bandwidth/storage requirements of aggregating the larger dataset"
   ]
  },
  {
   "cell_type": "markdown",
   "metadata": {},
   "source": [
    "# Lesson: Introducing / Installing PySyft\n",
    "\n",
    "In order to perform Federated Learning, we need to be able to use Deep Learning techniques on remote machines. This will require a new set of tools. Specifically, we will use an extensin of PyTorch called PySyft.\n",
    "\n",
    "### Install PySyft\n",
    "\n",
    "The easiest way to install the required libraries is with [Conda](https://docs.conda.io/projects/conda/en/latest/user-guide/overview.html). Create a new environment, then install the dependencies in that environment. In your terminal:\n",
    "\n",
    "```bash\n",
    "conda create -n pysyft python=3\n",
    "conda activate pysyft # some older version of conda require \"source activate pysyft\" instead.\n",
    "conda install jupyter notebook\n",
    "pip install syft\n",
    "pip install numpy\n",
    "```\n",
    "\n",
    "If you have any errors relating to zstd - run the following (if everything above installed fine then skip this step):\n",
    "\n",
    "```\n",
    "pip install --upgrade --force-reinstall zstd\n",
    "```\n",
    "\n",
    "and then retry installing syft (pip install syft).\n",
    "\n",
    "If you are using Windows, I suggest installing [Anaconda and using the Anaconda Prompt](https://docs.anaconda.com/anaconda/user-guide/getting-started/) to work from the command line. \n",
    "\n",
    "With this environment activated and in the repo directory, launch Jupyter Notebook:\n",
    "\n",
    "```bash\n",
    "jupyter notebook\n",
    "```\n",
    "\n",
    "and re-open this notebook on the new Jupyter server.\n",
    "\n",
    "If any part of this doesn't work for you (or any of the tests fail) - first check the [README](https://github.com/OpenMined/PySyft.git) for installation help and then open a Github Issue or ping the #beginner channel in our slack! [slack.openmined.org](http://slack.openmined.org/)"
   ]
  },
  {
   "cell_type": "code",
   "execution_count": 1,
   "metadata": {},
   "outputs": [],
   "source": [
    "import torch as th"
   ]
  },
  {
   "cell_type": "code",
   "execution_count": 2,
   "metadata": {},
   "outputs": [
    {
     "data": {
      "text/plain": [
       "tensor([1, 2, 3, 4, 5])"
      ]
     },
     "execution_count": 2,
     "metadata": {},
     "output_type": "execute_result"
    }
   ],
   "source": [
    "x = th.tensor([1,2,3,4,5])\n",
    "x"
   ]
  },
  {
   "cell_type": "code",
   "execution_count": 3,
   "metadata": {},
   "outputs": [],
   "source": [
    "y = x + x"
   ]
  },
  {
   "cell_type": "code",
   "execution_count": 4,
   "metadata": {},
   "outputs": [
    {
     "name": "stdout",
     "output_type": "stream",
     "text": [
      "tensor([ 2,  4,  6,  8, 10])\n"
     ]
    }
   ],
   "source": [
    "print(y)"
   ]
  },
  {
   "cell_type": "code",
   "execution_count": null,
   "metadata": {},
   "outputs": [],
   "source": []
  },
  {
   "cell_type": "code",
   "execution_count": 5,
   "metadata": {},
   "outputs": [],
   "source": [
    "import syft as sy"
   ]
  },
  {
   "cell_type": "code",
   "execution_count": 6,
   "metadata": {},
   "outputs": [],
   "source": [
    "hook = sy.TorchHook(th)"
   ]
  },
  {
   "cell_type": "code",
   "execution_count": 7,
   "metadata": {},
   "outputs": [
    {
     "data": {
      "text/plain": [
       "tensor([1, 2, 3, 4, 5])"
      ]
     },
     "execution_count": 7,
     "metadata": {},
     "output_type": "execute_result"
    }
   ],
   "source": [
    "th.tensor([1,2,3,4,5])"
   ]
  },
  {
   "cell_type": "markdown",
   "metadata": {},
   "source": [
    "# Lesson: Basic Remote Execution in PySyft"
   ]
  },
  {
   "cell_type": "markdown",
   "metadata": {},
   "source": [
    "## PySyft => Remote PyTorch\n",
    "\n",
    "The essence of Federated Learning is the ability to train models in parallel on a wide number of machines. Thus, we need the ability to tell remote machines to execute the operations required for Deep Learning.\n",
    "\n",
    "Thus, instead of using Torch tensors - we're now going to work with **pointers** to tensors. Let me show you what I mean. First, let's create a \"pretend\" machine owned by a \"pretend\" person - we'll call him Bob."
   ]
  },
  {
   "cell_type": "code",
   "execution_count": 8,
   "metadata": {},
   "outputs": [],
   "source": [
    "bob = sy.VirtualWorker(hook, id=\"bob\")"
   ]
  },
  {
   "cell_type": "code",
   "execution_count": 9,
   "metadata": {},
   "outputs": [
    {
     "data": {
      "text/plain": [
       "{}"
      ]
     },
     "execution_count": 9,
     "metadata": {},
     "output_type": "execute_result"
    }
   ],
   "source": [
    "bob._objects"
   ]
  },
  {
   "cell_type": "code",
   "execution_count": 10,
   "metadata": {},
   "outputs": [],
   "source": [
    "x = th.tensor([1,2,3,4,5])"
   ]
  },
  {
   "cell_type": "code",
   "execution_count": 11,
   "metadata": {},
   "outputs": [],
   "source": [
    "x = x.send(bob)"
   ]
  },
  {
   "cell_type": "code",
   "execution_count": 12,
   "metadata": {},
   "outputs": [
    {
     "data": {
      "text/plain": [
       "{50844634909: tensor([1, 2, 3, 4, 5])}"
      ]
     },
     "execution_count": 12,
     "metadata": {},
     "output_type": "execute_result"
    }
   ],
   "source": [
    "bob._objects"
   ]
  },
  {
   "cell_type": "code",
   "execution_count": 13,
   "metadata": {},
   "outputs": [
    {
     "data": {
      "text/plain": [
       "<VirtualWorker id:bob #tensors:1>"
      ]
     },
     "execution_count": 13,
     "metadata": {},
     "output_type": "execute_result"
    }
   ],
   "source": [
    "x.location"
   ]
  },
  {
   "cell_type": "code",
   "execution_count": 14,
   "metadata": {},
   "outputs": [
    {
     "data": {
      "text/plain": [
       "50844634909"
      ]
     },
     "execution_count": 14,
     "metadata": {},
     "output_type": "execute_result"
    }
   ],
   "source": [
    "x.id_at_location"
   ]
  },
  {
   "cell_type": "code",
   "execution_count": 15,
   "metadata": {},
   "outputs": [
    {
     "data": {
      "text/plain": [
       "85673375777"
      ]
     },
     "execution_count": 15,
     "metadata": {},
     "output_type": "execute_result"
    }
   ],
   "source": [
    "x.id"
   ]
  },
  {
   "cell_type": "code",
   "execution_count": 16,
   "metadata": {},
   "outputs": [
    {
     "data": {
      "text/plain": [
       "<VirtualWorker id:me #tensors:0>"
      ]
     },
     "execution_count": 16,
     "metadata": {},
     "output_type": "execute_result"
    }
   ],
   "source": [
    "x.owner"
   ]
  },
  {
   "cell_type": "code",
   "execution_count": 17,
   "metadata": {},
   "outputs": [
    {
     "data": {
      "text/plain": [
       "<VirtualWorker id:me #tensors:0>"
      ]
     },
     "execution_count": 17,
     "metadata": {},
     "output_type": "execute_result"
    }
   ],
   "source": [
    "hook.local_worker"
   ]
  },
  {
   "cell_type": "code",
   "execution_count": 18,
   "metadata": {},
   "outputs": [
    {
     "data": {
      "text/plain": [
       "(Wrapper)>[PointerTensor | me:85673375777 -> bob:50844634909]"
      ]
     },
     "execution_count": 18,
     "metadata": {},
     "output_type": "execute_result"
    }
   ],
   "source": [
    "x"
   ]
  },
  {
   "cell_type": "code",
   "execution_count": 19,
   "metadata": {},
   "outputs": [
    {
     "data": {
      "text/plain": [
       "tensor([1, 2, 3, 4, 5])"
      ]
     },
     "execution_count": 19,
     "metadata": {},
     "output_type": "execute_result"
    }
   ],
   "source": [
    "x = x.get()\n",
    "x"
   ]
  },
  {
   "cell_type": "code",
   "execution_count": 20,
   "metadata": {},
   "outputs": [
    {
     "data": {
      "text/plain": [
       "{}"
      ]
     },
     "execution_count": 20,
     "metadata": {},
     "output_type": "execute_result"
    }
   ],
   "source": [
    "bob._objects"
   ]
  },
  {
   "cell_type": "markdown",
   "metadata": {},
   "source": [
    "# Project: Playing with Remote Tensors\n",
    "\n",
    "In this project, I want you to .send() and .get() a tensor to TWO workers by calling .send(bob,alice). This will first require the creation of another VirtualWorker called alice."
   ]
  },
  {
   "cell_type": "code",
   "execution_count": 3,
   "metadata": {},
   "outputs": [],
   "source": [
    "import syft as sy\n",
    "import torch as th"
   ]
  },
  {
   "cell_type": "code",
   "execution_count": 4,
   "metadata": {},
   "outputs": [],
   "source": [
    "hook = sy.TorchHook(th)"
   ]
  },
  {
   "cell_type": "code",
   "execution_count": 7,
   "metadata": {},
   "outputs": [],
   "source": [
    "bob = sy.VirtualWorker(hook, id=\"bob\")"
   ]
  },
  {
   "cell_type": "code",
   "execution_count": 5,
   "metadata": {},
   "outputs": [],
   "source": [
    "alice = sy.VirtualWorker(hook, id='alice')"
   ]
  },
  {
   "cell_type": "code",
   "execution_count": 6,
   "metadata": {},
   "outputs": [],
   "source": [
    "x = th.tensor([1,2,3,4,5])"
   ]
  },
  {
   "cell_type": "code",
   "execution_count": 10,
   "metadata": {},
   "outputs": [],
   "source": [
    "x_ptr = x.send(bob, alice)"
   ]
  },
  {
   "cell_type": "code",
   "execution_count": 11,
   "metadata": {},
   "outputs": [
    {
     "data": {
      "text/plain": [
       "(Wrapper)>[MultiPointerTensor]\n",
       "\t-> (Wrapper)>[PointerTensor | me:55571497257 -> bob:62526561383]\n",
       "\t-> (Wrapper)>[PointerTensor | me:72516695972 -> alice:35777687046]"
      ]
     },
     "execution_count": 11,
     "metadata": {},
     "output_type": "execute_result"
    }
   ],
   "source": [
    "x_ptr"
   ]
  },
  {
   "cell_type": "code",
   "execution_count": 13,
   "metadata": {},
   "outputs": [
    {
     "data": {
      "text/plain": [
       "MultiPointerTensor>{'bob': (Wrapper)>[PointerTensor | me:55571497257 -> bob:62526561383], 'alice': (Wrapper)>[PointerTensor | me:72516695972 -> alice:35777687046]}"
      ]
     },
     "execution_count": 13,
     "metadata": {},
     "output_type": "execute_result"
    }
   ],
   "source": [
    "x_ptr.child"
   ]
  },
  {
   "cell_type": "code",
   "execution_count": 14,
   "metadata": {},
   "outputs": [
    {
     "data": {
      "text/plain": [
       "{'bob': (Wrapper)>[PointerTensor | me:55571497257 -> bob:62526561383],\n",
       " 'alice': (Wrapper)>[PointerTensor | me:72516695972 -> alice:35777687046]}"
      ]
     },
     "execution_count": 14,
     "metadata": {},
     "output_type": "execute_result"
    }
   ],
   "source": [
    "x_ptr.child.child"
   ]
  },
  {
   "cell_type": "code",
   "execution_count": 15,
   "metadata": {},
   "outputs": [
    {
     "data": {
      "text/plain": [
       "[tensor([1, 2, 3, 4, 5]), tensor([1, 2, 3, 4, 5])]"
      ]
     },
     "execution_count": 15,
     "metadata": {},
     "output_type": "execute_result"
    }
   ],
   "source": [
    "x_ptr.get()"
   ]
  },
  {
   "cell_type": "code",
   "execution_count": 20,
   "metadata": {},
   "outputs": [],
   "source": [
    "x = th.tensor([1,2,3,4,5]).send(bob, alice)"
   ]
  },
  {
   "cell_type": "code",
   "execution_count": 21,
   "metadata": {},
   "outputs": [
    {
     "data": {
      "text/plain": [
       "tensor([ 2,  4,  6,  8, 10])"
      ]
     },
     "execution_count": 21,
     "metadata": {},
     "output_type": "execute_result"
    }
   ],
   "source": [
    "x.get(sum_results=True)"
   ]
  },
  {
   "cell_type": "code",
   "execution_count": null,
   "metadata": {},
   "outputs": [],
   "source": []
  },
  {
   "cell_type": "markdown",
   "metadata": {},
   "source": [
    "# Lesson: Introducing Remote Arithmetic"
   ]
  },
  {
   "cell_type": "code",
   "execution_count": 22,
   "metadata": {},
   "outputs": [],
   "source": [
    "x = th.tensor([1,2,3,4,5]).send(bob)\n",
    "y = th.tensor([1,1,1,1,1]).send(bob)"
   ]
  },
  {
   "cell_type": "code",
   "execution_count": 23,
   "metadata": {},
   "outputs": [
    {
     "data": {
      "text/plain": [
       "(Wrapper)>[PointerTensor | me:4890474838 -> bob:83321263082]"
      ]
     },
     "execution_count": 23,
     "metadata": {},
     "output_type": "execute_result"
    }
   ],
   "source": [
    "x"
   ]
  },
  {
   "cell_type": "code",
   "execution_count": 24,
   "metadata": {},
   "outputs": [
    {
     "data": {
      "text/plain": [
       "(Wrapper)>[PointerTensor | me:16247076050 -> bob:4386425208]"
      ]
     },
     "execution_count": 24,
     "metadata": {},
     "output_type": "execute_result"
    }
   ],
   "source": [
    "y"
   ]
  },
  {
   "cell_type": "code",
   "execution_count": 25,
   "metadata": {},
   "outputs": [],
   "source": [
    "z = x + y"
   ]
  },
  {
   "cell_type": "code",
   "execution_count": 26,
   "metadata": {},
   "outputs": [
    {
     "data": {
      "text/plain": [
       "(Wrapper)>[PointerTensor | me:76264168488 -> bob:5073220984]"
      ]
     },
     "execution_count": 26,
     "metadata": {},
     "output_type": "execute_result"
    }
   ],
   "source": [
    "z"
   ]
  },
  {
   "cell_type": "code",
   "execution_count": 27,
   "metadata": {},
   "outputs": [
    {
     "data": {
      "text/plain": [
       "tensor([2, 3, 4, 5, 6])"
      ]
     },
     "execution_count": 27,
     "metadata": {},
     "output_type": "execute_result"
    }
   ],
   "source": [
    "z = z.get()\n",
    "z"
   ]
  },
  {
   "cell_type": "code",
   "execution_count": 28,
   "metadata": {},
   "outputs": [
    {
     "data": {
      "text/plain": [
       "(Wrapper)>[PointerTensor | me:37789301158 -> bob:8615129030]"
      ]
     },
     "execution_count": 28,
     "metadata": {},
     "output_type": "execute_result"
    }
   ],
   "source": [
    "z = th.add(x,y)\n",
    "z"
   ]
  },
  {
   "cell_type": "code",
   "execution_count": 29,
   "metadata": {},
   "outputs": [
    {
     "data": {
      "text/plain": [
       "tensor([2, 3, 4, 5, 6])"
      ]
     },
     "execution_count": 29,
     "metadata": {},
     "output_type": "execute_result"
    }
   ],
   "source": [
    "z = z.get()\n",
    "z"
   ]
  },
  {
   "cell_type": "code",
   "execution_count": 36,
   "metadata": {},
   "outputs": [],
   "source": [
    "x = th.tensor([15.,12,4,6,78], requires_grad=True).send(bob)\n",
    "y = th.tensor([1.,1,1,1,1], requires_grad=True).send(bob)"
   ]
  },
  {
   "cell_type": "code",
   "execution_count": 37,
   "metadata": {},
   "outputs": [],
   "source": [
    "z = (x + y).sum()"
   ]
  },
  {
   "cell_type": "code",
   "execution_count": 38,
   "metadata": {},
   "outputs": [
    {
     "data": {
      "text/plain": [
       "(Wrapper)>[PointerTensor | me:80927284369 -> bob:91698811163]"
      ]
     },
     "execution_count": 38,
     "metadata": {},
     "output_type": "execute_result"
    }
   ],
   "source": [
    "z.backward()\n",
    "\n",
    "# will create a gradients on x and y"
   ]
  },
  {
   "cell_type": "code",
   "execution_count": 39,
   "metadata": {},
   "outputs": [],
   "source": [
    "x = x.get()"
   ]
  },
  {
   "cell_type": "code",
   "execution_count": 40,
   "metadata": {},
   "outputs": [
    {
     "data": {
      "text/plain": [
       "tensor([15., 12.,  4.,  6., 78.], requires_grad=True)"
      ]
     },
     "execution_count": 40,
     "metadata": {},
     "output_type": "execute_result"
    }
   ],
   "source": [
    "x"
   ]
  },
  {
   "cell_type": "code",
   "execution_count": 41,
   "metadata": {},
   "outputs": [
    {
     "data": {
      "text/plain": [
       "tensor([1., 1., 1., 1., 1.])"
      ]
     },
     "execution_count": 41,
     "metadata": {},
     "output_type": "execute_result"
    }
   ],
   "source": [
    "x.grad"
   ]
  },
  {
   "cell_type": "code",
   "execution_count": null,
   "metadata": {},
   "outputs": [],
   "source": []
  },
  {
   "cell_type": "markdown",
   "metadata": {},
   "source": [
    "# Project: Learn a Simple Linear Model\n",
    "\n",
    "In this project, I'd like for you to create a simple linear model which will solve for the following dataset below. You should use only Variables and .backward() to do so (no optimizers or nn.Modules). Furthermore, you must do so with both the data and the model being located on Bob's machine."
   ]
  },
  {
   "cell_type": "code",
   "execution_count": 45,
   "metadata": {},
   "outputs": [],
   "source": [
    "input = th.tensor([[1.,1.],[0,1.],[1.,0.],[0,0]], requires_grad=True).send(bob)\n",
    "target = th.tensor([[1.],[1],[0],[0]],requires_grad=True).send(bob)"
   ]
  },
  {
   "cell_type": "code",
   "execution_count": 46,
   "metadata": {},
   "outputs": [
    {
     "data": {
      "text/plain": [
       "(Wrapper)>[PointerTensor | me:66072760891 -> bob:40609239272]"
      ]
     },
     "execution_count": 46,
     "metadata": {},
     "output_type": "execute_result"
    }
   ],
   "source": [
    "input"
   ]
  },
  {
   "cell_type": "code",
   "execution_count": 47,
   "metadata": {},
   "outputs": [
    {
     "data": {
      "text/plain": [
       "(Wrapper)>[PointerTensor | me:20474923531 -> bob:15256398416]"
      ]
     },
     "execution_count": 47,
     "metadata": {},
     "output_type": "execute_result"
    }
   ],
   "source": [
    "target"
   ]
  },
  {
   "cell_type": "code",
   "execution_count": 51,
   "metadata": {},
   "outputs": [],
   "source": [
    "weights = th.tensor([[0.],[0]],requires_grad=True).send(bob)"
   ]
  },
  {
   "cell_type": "code",
   "execution_count": 52,
   "metadata": {},
   "outputs": [
    {
     "data": {
      "text/plain": [
       "(Wrapper)>[PointerTensor | me:14479405166 -> bob:30161329549]"
      ]
     },
     "execution_count": 52,
     "metadata": {},
     "output_type": "execute_result"
    }
   ],
   "source": [
    "weights"
   ]
  },
  {
   "cell_type": "code",
   "execution_count": 53,
   "metadata": {},
   "outputs": [],
   "source": [
    "pred = input.mm(weights)"
   ]
  },
  {
   "cell_type": "code",
   "execution_count": 55,
   "metadata": {},
   "outputs": [],
   "source": [
    "loss = ((pred-target)**2).sum()"
   ]
  },
  {
   "cell_type": "code",
   "execution_count": 56,
   "metadata": {},
   "outputs": [
    {
     "data": {
      "text/plain": [
       "(Wrapper)>[PointerTensor | me:13517138294 -> bob:82759403935]"
      ]
     },
     "execution_count": 56,
     "metadata": {},
     "output_type": "execute_result"
    }
   ],
   "source": [
    "loss.backward()"
   ]
  },
  {
   "cell_type": "code",
   "execution_count": 57,
   "metadata": {},
   "outputs": [
    {
     "data": {
      "text/plain": [
       "(Wrapper)>[PointerTensor | me:14479405166 -> bob:30161329549]::data"
      ]
     },
     "execution_count": 57,
     "metadata": {},
     "output_type": "execute_result"
    }
   ],
   "source": [
    "weights.data.sub_(weights.grad*0.1)"
   ]
  },
  {
   "cell_type": "code",
   "execution_count": 58,
   "metadata": {},
   "outputs": [],
   "source": [
    "weights.grad += 0"
   ]
  },
  {
   "cell_type": "code",
   "execution_count": 59,
   "metadata": {},
   "outputs": [
    {
     "name": "stdout",
     "output_type": "stream",
     "text": [
      "tensor(2.)\n"
     ]
    }
   ],
   "source": [
    "print(loss.get().data)"
   ]
  },
  {
   "cell_type": "code",
   "execution_count": 70,
   "metadata": {},
   "outputs": [
    {
     "name": "stdout",
     "output_type": "stream",
     "text": [
      "tensor(1.7610)\n",
      "tensor(0.3246)\n",
      "tensor(0.5000)\n",
      "tensor(1.6936)\n",
      "tensor(1.4617)\n",
      "tensor(0.5022)\n",
      "tensor(1.0601)\n",
      "tensor(2.1290)\n",
      "tensor(1.4042)\n",
      "tensor(0.0785)\n"
     ]
    }
   ],
   "source": [
    "for i in range(10):\n",
    "    pred = input.mm(weights)\n",
    "    loss = ((pred-target)**2).sum()\n",
    "    loss.backward()\n",
    "    weights.data.sub_(weights.grad*0.1)\n",
    "    weights.grad += 0\n",
    "    \n",
    "    print(loss.get().data)"
   ]
  },
  {
   "cell_type": "markdown",
   "metadata": {},
   "source": [
    "# Lesson: Garbage Collection and Common Errors\n"
   ]
  },
  {
   "cell_type": "code",
   "execution_count": 46,
   "metadata": {},
   "outputs": [
    {
     "name": "stderr",
     "output_type": "stream",
     "text": [
      "W0730 12:15:25.608108 4576925120 hook.py:98] Torch was already hooked... skipping hooking process\n"
     ]
    }
   ],
   "source": [
    "import syft as sy\n",
    "import torch as th\n",
    "\n",
    "hook = sy.TorchHook(th)\n",
    "\n",
    "bob = sy.VirtualWorker(hook, id=\"bob\")"
   ]
  },
  {
   "cell_type": "code",
   "execution_count": 47,
   "metadata": {},
   "outputs": [],
   "source": [
    "# bob = bob.clear_objects() \n",
    "# 1"
   ]
  },
  {
   "cell_type": "code",
   "execution_count": 48,
   "metadata": {},
   "outputs": [
    {
     "data": {
      "text/plain": [
       "{96705801607: tensor([1, 2, 3, 4, 5]),\n",
       " 15170376243: tensor([1, 2, 3, 4, 5]),\n",
       " 47571811020: tensor([1, 2, 3, 4, 5])}"
      ]
     },
     "execution_count": 48,
     "metadata": {},
     "output_type": "execute_result"
    }
   ],
   "source": [
    "bob._objects"
   ]
  },
  {
   "cell_type": "code",
   "execution_count": 49,
   "metadata": {},
   "outputs": [],
   "source": [
    "x = th.tensor([1,2,3,4,5]).send(bob)"
   ]
  },
  {
   "cell_type": "code",
   "execution_count": 50,
   "metadata": {},
   "outputs": [
    {
     "data": {
      "text/plain": [
       "{96705801607: tensor([1, 2, 3, 4, 5]),\n",
       " 15170376243: tensor([1, 2, 3, 4, 5]),\n",
       " 70760386930: tensor([1, 2, 3, 4, 5])}"
      ]
     },
     "execution_count": 50,
     "metadata": {},
     "output_type": "execute_result"
    }
   ],
   "source": [
    "bob._objects"
   ]
  },
  {
   "cell_type": "code",
   "execution_count": 11,
   "metadata": {},
   "outputs": [
    {
     "data": {
      "text/plain": [
       "True"
      ]
     },
     "execution_count": 11,
     "metadata": {},
     "output_type": "execute_result"
    }
   ],
   "source": [
    "x.child.garbage_collect_data"
   ]
  },
  {
   "cell_type": "code",
   "execution_count": 12,
   "metadata": {},
   "outputs": [],
   "source": [
    "del x\n",
    "\n",
    "# 2"
   ]
  },
  {
   "cell_type": "code",
   "execution_count": 13,
   "metadata": {},
   "outputs": [
    {
     "data": {
      "text/plain": [
       "{}"
      ]
     },
     "execution_count": 13,
     "metadata": {},
     "output_type": "execute_result"
    }
   ],
   "source": [
    "bob._objects"
   ]
  },
  {
   "cell_type": "code",
   "execution_count": 14,
   "metadata": {},
   "outputs": [],
   "source": [
    "x = th.tensor([1,2,3,4,5]).send(bob)"
   ]
  },
  {
   "cell_type": "code",
   "execution_count": 15,
   "metadata": {},
   "outputs": [
    {
     "data": {
      "text/plain": [
       "(Wrapper)>[PointerTensor | me:83828165431 -> bob:96705801607]"
      ]
     },
     "execution_count": 15,
     "metadata": {},
     "output_type": "execute_result"
    }
   ],
   "source": [
    "x"
   ]
  },
  {
   "cell_type": "code",
   "execution_count": 16,
   "metadata": {},
   "outputs": [
    {
     "data": {
      "text/plain": [
       "{}"
      ]
     },
     "execution_count": 16,
     "metadata": {},
     "output_type": "execute_result"
    }
   ],
   "source": [
    "bob._objects"
   ]
  },
  {
   "cell_type": "code",
   "execution_count": 17,
   "metadata": {},
   "outputs": [],
   "source": [
    "x = \"asdf\"\n",
    "\n",
    "# 3"
   ]
  },
  {
   "cell_type": "code",
   "execution_count": 18,
   "metadata": {},
   "outputs": [
    {
     "data": {
      "text/plain": [
       "{}"
      ]
     },
     "execution_count": 18,
     "metadata": {},
     "output_type": "execute_result"
    }
   ],
   "source": [
    "bob._objects"
   ]
  },
  {
   "cell_type": "code",
   "execution_count": 19,
   "metadata": {},
   "outputs": [],
   "source": [
    "# bob = bob.clear_objects() \n",
    "# bob._objects"
   ]
  },
  {
   "cell_type": "code",
   "execution_count": 51,
   "metadata": {},
   "outputs": [
    {
     "data": {
      "text/plain": [
       "{4: {},\n",
       " 6: {},\n",
       " 8: {},\n",
       " 10: {},\n",
       " 11: True,\n",
       " 13: {},\n",
       " 15: (Wrapper)>[PointerTensor | me:83828165431 -> bob:96705801607],\n",
       " 16: {},\n",
       " 18: {},\n",
       " 22: (Wrapper)>[PointerTensor | me:53715007093 -> bob:15170376243],\n",
       " 23: {},\n",
       " 25: {},\n",
       " 28: {96705801607: tensor([1, 2, 3, 4, 5]),\n",
       "  15170376243: tensor([1, 2, 3, 4, 5]),\n",
       "  70760386930: tensor([1, 2, 3, 4, 5])},\n",
       " 30: {96705801607: tensor([1, 2, 3, 4, 5]),\n",
       "  15170376243: tensor([1, 2, 3, 4, 5]),\n",
       "  70760386930: tensor([1, 2, 3, 4, 5])},\n",
       " 33: {},\n",
       " 35: {},\n",
       " 38: {96705801607: tensor([1, 2, 3, 4, 5]),\n",
       "  15170376243: tensor([1, 2, 3, 4, 5]),\n",
       "  70760386930: tensor([1, 2, 3, 4, 5])},\n",
       " 40: {96705801607: tensor([1, 2, 3, 4, 5]),\n",
       "  15170376243: tensor([1, 2, 3, 4, 5]),\n",
       "  70760386930: tensor([1, 2, 3, 4, 5])},\n",
       " 43: {},\n",
       " 45: {},\n",
       " 48: {96705801607: tensor([1, 2, 3, 4, 5]),\n",
       "  15170376243: tensor([1, 2, 3, 4, 5]),\n",
       "  70760386930: tensor([1, 2, 3, 4, 5])},\n",
       " 50: {96705801607: tensor([1, 2, 3, 4, 5]),\n",
       "  15170376243: tensor([1, 2, 3, 4, 5]),\n",
       "  70760386930: tensor([1, 2, 3, 4, 5])}}"
      ]
     },
     "execution_count": 51,
     "metadata": {},
     "output_type": "execute_result"
    }
   ],
   "source": [
    "Out\n",
    "\n"
   ]
  },
  {
   "cell_type": "code",
   "execution_count": 21,
   "metadata": {},
   "outputs": [],
   "source": [
    "x = th.tensor([1,2,3,4,5]).send(bob)"
   ]
  },
  {
   "cell_type": "code",
   "execution_count": 22,
   "metadata": {},
   "outputs": [
    {
     "data": {
      "text/plain": [
       "(Wrapper)>[PointerTensor | me:53715007093 -> bob:15170376243]"
      ]
     },
     "execution_count": 22,
     "metadata": {},
     "output_type": "execute_result"
    }
   ],
   "source": [
    "x"
   ]
  },
  {
   "cell_type": "code",
   "execution_count": 23,
   "metadata": {},
   "outputs": [
    {
     "data": {
      "text/plain": [
       "{}"
      ]
     },
     "execution_count": 23,
     "metadata": {},
     "output_type": "execute_result"
    }
   ],
   "source": [
    "bob._objects"
   ]
  },
  {
   "cell_type": "code",
   "execution_count": 24,
   "metadata": {},
   "outputs": [],
   "source": [
    "x = \"asdf\""
   ]
  },
  {
   "cell_type": "code",
   "execution_count": 25,
   "metadata": {},
   "outputs": [
    {
     "data": {
      "text/plain": [
       "{}"
      ]
     },
     "execution_count": 25,
     "metadata": {},
     "output_type": "execute_result"
    }
   ],
   "source": [
    "bob._objects"
   ]
  },
  {
   "cell_type": "code",
   "execution_count": 224,
   "metadata": {},
   "outputs": [],
   "source": [
    "del x"
   ]
  },
  {
   "cell_type": "code",
   "execution_count": 225,
   "metadata": {},
   "outputs": [
    {
     "data": {
      "text/plain": [
       "{98686728660: tensor([1, 2, 3, 4, 5])}"
      ]
     },
     "execution_count": 225,
     "metadata": {},
     "output_type": "execute_result"
    }
   ],
   "source": [
    "bob._objects"
   ]
  },
  {
   "cell_type": "code",
   "execution_count": 253,
   "metadata": {},
   "outputs": [
    {
     "data": {
      "text/plain": [
       "{}"
      ]
     },
     "execution_count": 253,
     "metadata": {},
     "output_type": "execute_result"
    }
   ],
   "source": [
    "bob = bob.clear_objects()\n",
    "bob._objects"
   ]
  },
  {
   "cell_type": "code",
   "execution_count": 254,
   "metadata": {},
   "outputs": [
    {
     "name": "stdout",
     "output_type": "stream",
     "text": [
      "{90066733019: tensor([1, 2, 3, 4, 5])}\n",
      "0 : x updated myself!\n",
      "{}\n",
      "{83786967639: tensor([1, 2, 3, 4, 5])}\n",
      "{60027067107: tensor([1, 2, 3, 4, 5])}\n",
      "{76099068231: tensor([1, 2, 3, 4, 5])}\n",
      "{63373986908: tensor([1, 2, 3, 4, 5])}\n",
      "{86046428865: tensor([1, 2, 3, 4, 5])}\n",
      "{71105863156: tensor([1, 2, 3, 4, 5])}\n",
      "{35204441025: tensor([1, 2, 3, 4, 5])}\n",
      "{16392833493: tensor([1, 2, 3, 4, 5])}\n",
      "{91605909702: tensor([1, 2, 3, 4, 5])}\n",
      "{58305994811: tensor([1, 2, 3, 4, 5])}\n",
      "{74326611542: tensor([1, 2, 3, 4, 5])}\n",
      "{92543127730: tensor([1, 2, 3, 4, 5])}\n",
      "{93638655491: tensor([1, 2, 3, 4, 5])}\n",
      "{32245034984: tensor([1, 2, 3, 4, 5])}\n",
      "{38207538784: tensor([1, 2, 3, 4, 5])}\n",
      "{68297187340: tensor([1, 2, 3, 4, 5])}\n",
      "{56259294121: tensor([1, 2, 3, 4, 5])}\n",
      "{19549107446: tensor([1, 2, 3, 4, 5])}\n",
      "{24798290102: tensor([1, 2, 3, 4, 5])}\n",
      "{71277056632: tensor([1, 2, 3, 4, 5])}\n",
      "{82480297346: tensor([1, 2, 3, 4, 5])}\n",
      "{55550775285: tensor([1, 2, 3, 4, 5])}\n",
      "{91908097446: tensor([1, 2, 3, 4, 5])}\n",
      "{16721452437: tensor([1, 2, 3, 4, 5])}\n",
      "{22174862458: tensor([1, 2, 3, 4, 5])}\n",
      "{9952695616: tensor([1, 2, 3, 4, 5])}\n",
      "{91917629928: tensor([1, 2, 3, 4, 5])}\n",
      "{81961258506: tensor([1, 2, 3, 4, 5])}\n",
      "{75804644298: tensor([1, 2, 3, 4, 5])}\n",
      "{9668902711: tensor([1, 2, 3, 4, 5])}\n",
      "{59081939252: tensor([1, 2, 3, 4, 5])}\n",
      "{73346353374: tensor([1, 2, 3, 4, 5])}\n",
      "{14603143982: tensor([1, 2, 3, 4, 5])}\n",
      "{45592409099: tensor([1, 2, 3, 4, 5])}\n",
      "{6713705394: tensor([1, 2, 3, 4, 5])}\n",
      "{46265010219: tensor([1, 2, 3, 4, 5])}\n",
      "{37881702525: tensor([1, 2, 3, 4, 5])}\n",
      "{53567776666: tensor([1, 2, 3, 4, 5])}\n",
      "{17017815462: tensor([1, 2, 3, 4, 5])}\n",
      "{47125493108: tensor([1, 2, 3, 4, 5])}\n",
      "{56651502594: tensor([1, 2, 3, 4, 5])}\n",
      "{53838382329: tensor([1, 2, 3, 4, 5])}\n",
      "{50095718544: tensor([1, 2, 3, 4, 5])}\n",
      "{40090632630: tensor([1, 2, 3, 4, 5])}\n",
      "{73299735752: tensor([1, 2, 3, 4, 5])}\n",
      "{44395382269: tensor([1, 2, 3, 4, 5])}\n",
      "{63356167365: tensor([1, 2, 3, 4, 5])}\n",
      "{70320322886: tensor([1, 2, 3, 4, 5])}\n",
      "{48646111891: tensor([1, 2, 3, 4, 5])}\n",
      "{85678193130: tensor([1, 2, 3, 4, 5])}\n",
      "{14747347250: tensor([1, 2, 3, 4, 5])}\n",
      "{40608629043: tensor([1, 2, 3, 4, 5])}\n",
      "{86272416545: tensor([1, 2, 3, 4, 5])}\n",
      "{4279863295: tensor([1, 2, 3, 4, 5])}\n",
      "{4292772066: tensor([1, 2, 3, 4, 5])}\n",
      "{19610437003: tensor([1, 2, 3, 4, 5])}\n",
      "{51168506259: tensor([1, 2, 3, 4, 5])}\n",
      "{41223025041: tensor([1, 2, 3, 4, 5])}\n",
      "{45478517709: tensor([1, 2, 3, 4, 5])}\n",
      "{26117710697: tensor([1, 2, 3, 4, 5])}\n",
      "{82669915845: tensor([1, 2, 3, 4, 5])}\n",
      "{1197318069: tensor([1, 2, 3, 4, 5])}\n",
      "{45301996570: tensor([1, 2, 3, 4, 5])}\n",
      "{51079617036: tensor([1, 2, 3, 4, 5])}\n",
      "{74450643371: tensor([1, 2, 3, 4, 5])}\n",
      "{10263977407: tensor([1, 2, 3, 4, 5])}\n",
      "{97127975009: tensor([1, 2, 3, 4, 5])}\n",
      "{90505523822: tensor([1, 2, 3, 4, 5])}\n",
      "{85697115096: tensor([1, 2, 3, 4, 5])}\n",
      "{58313801433: tensor([1, 2, 3, 4, 5])}\n",
      "{50454043879: tensor([1, 2, 3, 4, 5])}\n",
      "{24552797961: tensor([1, 2, 3, 4, 5])}\n",
      "{6604731137: tensor([1, 2, 3, 4, 5])}\n",
      "{13961656802: tensor([1, 2, 3, 4, 5])}\n",
      "{92125936668: tensor([1, 2, 3, 4, 5])}\n",
      "{54104241899: tensor([1, 2, 3, 4, 5])}\n",
      "{81380763678: tensor([1, 2, 3, 4, 5])}\n",
      "{93750977687: tensor([1, 2, 3, 4, 5])}\n",
      "{28352969853: tensor([1, 2, 3, 4, 5])}\n",
      "{74458207165: tensor([1, 2, 3, 4, 5])}\n",
      "{33565825353: tensor([1, 2, 3, 4, 5])}\n",
      "{85110777406: tensor([1, 2, 3, 4, 5])}\n",
      "{54724462032: tensor([1, 2, 3, 4, 5])}\n",
      "{71956682243: tensor([1, 2, 3, 4, 5])}\n",
      "{65867605787: tensor([1, 2, 3, 4, 5])}\n",
      "{55347608150: tensor([1, 2, 3, 4, 5])}\n",
      "{3814073199: tensor([1, 2, 3, 4, 5])}\n",
      "{56554506057: tensor([1, 2, 3, 4, 5])}\n",
      "{21532834256: tensor([1, 2, 3, 4, 5])}\n",
      "{17132091007: tensor([1, 2, 3, 4, 5])}\n",
      "{77592977443: tensor([1, 2, 3, 4, 5])}\n",
      "{18268461506: tensor([1, 2, 3, 4, 5])}\n",
      "{32094613403: tensor([1, 2, 3, 4, 5])}\n",
      "{96102377156: tensor([1, 2, 3, 4, 5])}\n",
      "{19772174229: tensor([1, 2, 3, 4, 5])}\n",
      "{91413578600: tensor([1, 2, 3, 4, 5])}\n",
      "{61733718239: tensor([1, 2, 3, 4, 5])}\n",
      "{53324945723: tensor([1, 2, 3, 4, 5])}\n",
      "{83446135136: tensor([1, 2, 3, 4, 5])}\n",
      "{46186311111: tensor([1, 2, 3, 4, 5])}\n",
      "{96992984802: tensor([1, 2, 3, 4, 5])}\n",
      "{66264497287: tensor([1, 2, 3, 4, 5])}\n",
      "{65781224870: tensor([1, 2, 3, 4, 5])}\n",
      "{63043297679: tensor([1, 2, 3, 4, 5])}\n",
      "{27266933352: tensor([1, 2, 3, 4, 5])}\n",
      "{17173663635: tensor([1, 2, 3, 4, 5])}\n",
      "{42492169749: tensor([1, 2, 3, 4, 5])}\n",
      "{21647008178: tensor([1, 2, 3, 4, 5])}\n",
      "{27302131495: tensor([1, 2, 3, 4, 5])}\n",
      "{19323004540: tensor([1, 2, 3, 4, 5])}\n",
      "{58547957577: tensor([1, 2, 3, 4, 5])}\n",
      "{30669577434: tensor([1, 2, 3, 4, 5])}\n",
      "{46218509964: tensor([1, 2, 3, 4, 5])}\n",
      "{38833004766: tensor([1, 2, 3, 4, 5])}\n",
      "{3943774363: tensor([1, 2, 3, 4, 5])}\n",
      "{5429498923: tensor([1, 2, 3, 4, 5])}\n",
      "{79622965821: tensor([1, 2, 3, 4, 5])}\n",
      "{90402659373: tensor([1, 2, 3, 4, 5])}\n",
      "{27705370877: tensor([1, 2, 3, 4, 5])}\n",
      "{73941513458: tensor([1, 2, 3, 4, 5])}\n",
      "{83225445673: tensor([1, 2, 3, 4, 5])}\n",
      "{38779389873: tensor([1, 2, 3, 4, 5])}\n",
      "{89146041385: tensor([1, 2, 3, 4, 5])}\n",
      "{54202059472: tensor([1, 2, 3, 4, 5])}\n",
      "{16418680494: tensor([1, 2, 3, 4, 5])}\n",
      "{12292480049: tensor([1, 2, 3, 4, 5])}\n",
      "{67244611410: tensor([1, 2, 3, 4, 5])}\n",
      "{54689274041: tensor([1, 2, 3, 4, 5])}\n",
      "{87675764274: tensor([1, 2, 3, 4, 5])}\n",
      "{23926925240: tensor([1, 2, 3, 4, 5])}\n",
      "{60513160828: tensor([1, 2, 3, 4, 5])}\n",
      "{30826615493: tensor([1, 2, 3, 4, 5])}\n",
      "{88782115573: tensor([1, 2, 3, 4, 5])}\n",
      "{22674570842: tensor([1, 2, 3, 4, 5])}\n",
      "{59434650884: tensor([1, 2, 3, 4, 5])}\n",
      "{17977549426: tensor([1, 2, 3, 4, 5])}\n",
      "{97218445668: tensor([1, 2, 3, 4, 5])}\n",
      "{22230658504: tensor([1, 2, 3, 4, 5])}\n",
      "{12659541584: tensor([1, 2, 3, 4, 5])}\n",
      "{72936575555: tensor([1, 2, 3, 4, 5])}\n",
      "{53966665439: tensor([1, 2, 3, 4, 5])}\n",
      "{95874983869: tensor([1, 2, 3, 4, 5])}\n",
      "{31204407201: tensor([1, 2, 3, 4, 5])}\n",
      "{54271838091: tensor([1, 2, 3, 4, 5])}\n",
      "{10395951107: tensor([1, 2, 3, 4, 5])}\n",
      "{72073419586: tensor([1, 2, 3, 4, 5])}\n",
      "{84859412870: tensor([1, 2, 3, 4, 5])}\n",
      "{45210665627: tensor([1, 2, 3, 4, 5])}\n",
      "{90923322567: tensor([1, 2, 3, 4, 5])}\n",
      "{65078689093: tensor([1, 2, 3, 4, 5])}\n",
      "{55243522349: tensor([1, 2, 3, 4, 5])}\n",
      "{79488875225: tensor([1, 2, 3, 4, 5])}\n",
      "{73396967117: tensor([1, 2, 3, 4, 5])}\n",
      "{39371381027: tensor([1, 2, 3, 4, 5])}\n",
      "{83343928676: tensor([1, 2, 3, 4, 5])}\n",
      "{13992647046: tensor([1, 2, 3, 4, 5])}\n",
      "{89584728284: tensor([1, 2, 3, 4, 5])}\n",
      "{73719700095: tensor([1, 2, 3, 4, 5])}\n",
      "{27826358546: tensor([1, 2, 3, 4, 5])}\n",
      "{67588286653: tensor([1, 2, 3, 4, 5])}\n",
      "{24266918070: tensor([1, 2, 3, 4, 5])}\n",
      "{73456586932: tensor([1, 2, 3, 4, 5])}\n",
      "{3394071167: tensor([1, 2, 3, 4, 5])}\n",
      "{98477610943: tensor([1, 2, 3, 4, 5])}\n",
      "{84139283708: tensor([1, 2, 3, 4, 5])}\n",
      "{26014991529: tensor([1, 2, 3, 4, 5])}\n",
      "{35318516252: tensor([1, 2, 3, 4, 5])}\n",
      "{79549976326: tensor([1, 2, 3, 4, 5])}\n",
      "{26013794912: tensor([1, 2, 3, 4, 5])}\n",
      "{43899598682: tensor([1, 2, 3, 4, 5])}\n",
      "{88121278052: tensor([1, 2, 3, 4, 5])}\n",
      "{88108736652: tensor([1, 2, 3, 4, 5])}\n",
      "{19452358184: tensor([1, 2, 3, 4, 5])}\n",
      "{67163557569: tensor([1, 2, 3, 4, 5])}\n",
      "{94087327523: tensor([1, 2, 3, 4, 5])}\n",
      "{42777150799: tensor([1, 2, 3, 4, 5])}\n",
      "{33192140440: tensor([1, 2, 3, 4, 5])}\n",
      "{32835437295: tensor([1, 2, 3, 4, 5])}\n",
      "{2006869887: tensor([1, 2, 3, 4, 5])}\n",
      "{54281635: tensor([1, 2, 3, 4, 5])}\n",
      "{7099765034: tensor([1, 2, 3, 4, 5])}\n",
      "{59421198017: tensor([1, 2, 3, 4, 5])}\n",
      "{61926315505: tensor([1, 2, 3, 4, 5])}\n",
      "{78269750596: tensor([1, 2, 3, 4, 5])}\n",
      "{63900305318: tensor([1, 2, 3, 4, 5])}\n",
      "{14885288325: tensor([1, 2, 3, 4, 5])}\n",
      "{16734836267: tensor([1, 2, 3, 4, 5])}\n",
      "{79518951811: tensor([1, 2, 3, 4, 5])}\n",
      "{84774506139: tensor([1, 2, 3, 4, 5])}\n",
      "{97983613146: tensor([1, 2, 3, 4, 5])}\n",
      "{39988725757: tensor([1, 2, 3, 4, 5])}\n",
      "{79449795290: tensor([1, 2, 3, 4, 5])}\n",
      "{86077903717: tensor([1, 2, 3, 4, 5])}\n",
      "{59332853562: tensor([1, 2, 3, 4, 5])}\n",
      "{7413108104: tensor([1, 2, 3, 4, 5])}\n",
      "{22709225835: tensor([1, 2, 3, 4, 5])}\n",
      "{24117670949: tensor([1, 2, 3, 4, 5])}\n",
      "{70355934601: tensor([1, 2, 3, 4, 5])}\n",
      "{85481677228: tensor([1, 2, 3, 4, 5])}\n",
      "{22424756637: tensor([1, 2, 3, 4, 5])}\n",
      "200 : x updated myself!\n",
      "{}\n",
      "{21625301502: tensor([1, 2, 3, 4, 5])}\n",
      "{35047835511: tensor([1, 2, 3, 4, 5])}\n",
      "{85406378335: tensor([1, 2, 3, 4, 5])}\n",
      "{22722225992: tensor([1, 2, 3, 4, 5])}\n",
      "{12257277717: tensor([1, 2, 3, 4, 5])}\n",
      "{45258731704: tensor([1, 2, 3, 4, 5])}\n",
      "{74022739258: tensor([1, 2, 3, 4, 5])}\n",
      "{48572517512: tensor([1, 2, 3, 4, 5])}\n",
      "{24793857902: tensor([1, 2, 3, 4, 5])}\n",
      "{16470489235: tensor([1, 2, 3, 4, 5])}\n",
      "{67351262493: tensor([1, 2, 3, 4, 5])}\n",
      "{91498301922: tensor([1, 2, 3, 4, 5])}\n",
      "{34888550673: tensor([1, 2, 3, 4, 5])}\n",
      "{81024232410: tensor([1, 2, 3, 4, 5])}\n",
      "{93467395732: tensor([1, 2, 3, 4, 5])}\n",
      "{71648663727: tensor([1, 2, 3, 4, 5])}\n",
      "{29974282465: tensor([1, 2, 3, 4, 5])}\n",
      "{38615355259: tensor([1, 2, 3, 4, 5])}\n",
      "{31391093438: tensor([1, 2, 3, 4, 5])}\n",
      "{40536257616: tensor([1, 2, 3, 4, 5])}\n",
      "{25193728034: tensor([1, 2, 3, 4, 5])}\n",
      "{5287189139: tensor([1, 2, 3, 4, 5])}\n",
      "{30514459648: tensor([1, 2, 3, 4, 5])}\n",
      "{77134034527: tensor([1, 2, 3, 4, 5])}\n",
      "{48921275233: tensor([1, 2, 3, 4, 5])}\n",
      "{94579937597: tensor([1, 2, 3, 4, 5])}\n",
      "{21127221026: tensor([1, 2, 3, 4, 5])}\n",
      "{58233852942: tensor([1, 2, 3, 4, 5])}\n",
      "{89990024451: tensor([1, 2, 3, 4, 5])}\n",
      "{46523982735: tensor([1, 2, 3, 4, 5])}\n",
      "{50541142234: tensor([1, 2, 3, 4, 5])}\n",
      "{78213438063: tensor([1, 2, 3, 4, 5])}\n",
      "{87607062229: tensor([1, 2, 3, 4, 5])}\n",
      "{92135632538: tensor([1, 2, 3, 4, 5])}\n",
      "{12530185770: tensor([1, 2, 3, 4, 5])}\n",
      "{96914145977: tensor([1, 2, 3, 4, 5])}\n",
      "{61401757186: tensor([1, 2, 3, 4, 5])}\n",
      "{79772061014: tensor([1, 2, 3, 4, 5])}\n",
      "{53326821781: tensor([1, 2, 3, 4, 5])}\n",
      "{82254444790: tensor([1, 2, 3, 4, 5])}\n",
      "{8861129674: tensor([1, 2, 3, 4, 5])}\n",
      "{13832610377: tensor([1, 2, 3, 4, 5])}\n",
      "{66472830031: tensor([1, 2, 3, 4, 5])}\n",
      "{10070863177: tensor([1, 2, 3, 4, 5])}\n",
      "{66974944155: tensor([1, 2, 3, 4, 5])}\n",
      "{92809492324: tensor([1, 2, 3, 4, 5])}\n",
      "{66124694410: tensor([1, 2, 3, 4, 5])}\n",
      "{5409550684: tensor([1, 2, 3, 4, 5])}\n",
      "{58219810077: tensor([1, 2, 3, 4, 5])}\n",
      "{64245310898: tensor([1, 2, 3, 4, 5])}\n",
      "{59220681792: tensor([1, 2, 3, 4, 5])}\n",
      "{32251457183: tensor([1, 2, 3, 4, 5])}\n",
      "{88109257692: tensor([1, 2, 3, 4, 5])}\n",
      "{7473350790: tensor([1, 2, 3, 4, 5])}\n",
      "{17140111795: tensor([1, 2, 3, 4, 5])}\n",
      "{2636810313: tensor([1, 2, 3, 4, 5])}\n",
      "{8601287106: tensor([1, 2, 3, 4, 5])}\n",
      "{47673089230: tensor([1, 2, 3, 4, 5])}\n",
      "{3803421095: tensor([1, 2, 3, 4, 5])}\n",
      "{41350791178: tensor([1, 2, 3, 4, 5])}\n",
      "{37313224801: tensor([1, 2, 3, 4, 5])}\n",
      "{18933496817: tensor([1, 2, 3, 4, 5])}\n",
      "{89022984318: tensor([1, 2, 3, 4, 5])}\n",
      "{91787471069: tensor([1, 2, 3, 4, 5])}\n",
      "{19079456009: tensor([1, 2, 3, 4, 5])}\n",
      "{63719268071: tensor([1, 2, 3, 4, 5])}\n",
      "{38593737812: tensor([1, 2, 3, 4, 5])}\n",
      "{15890815860: tensor([1, 2, 3, 4, 5])}\n",
      "{27390075910: tensor([1, 2, 3, 4, 5])}\n",
      "{12440147919: tensor([1, 2, 3, 4, 5])}\n",
      "{79770483265: tensor([1, 2, 3, 4, 5])}\n",
      "{5926937574: tensor([1, 2, 3, 4, 5])}\n",
      "{33345691793: tensor([1, 2, 3, 4, 5])}\n",
      "{35905911272: tensor([1, 2, 3, 4, 5])}\n",
      "{72050756697: tensor([1, 2, 3, 4, 5])}\n",
      "{67014582805: tensor([1, 2, 3, 4, 5])}\n",
      "{60756664657: tensor([1, 2, 3, 4, 5])}\n",
      "{82250916934: tensor([1, 2, 3, 4, 5])}\n",
      "{85030354996: tensor([1, 2, 3, 4, 5])}\n",
      "{59123692500: tensor([1, 2, 3, 4, 5])}\n",
      "{3265665482: tensor([1, 2, 3, 4, 5])}\n",
      "{21877622177: tensor([1, 2, 3, 4, 5])}\n",
      "{70667189666: tensor([1, 2, 3, 4, 5])}\n",
      "{99962436687: tensor([1, 2, 3, 4, 5])}\n",
      "{12292956256: tensor([1, 2, 3, 4, 5])}\n",
      "{84536312147: tensor([1, 2, 3, 4, 5])}\n",
      "{9629084170: tensor([1, 2, 3, 4, 5])}\n",
      "{46480110664: tensor([1, 2, 3, 4, 5])}\n",
      "{73333219262: tensor([1, 2, 3, 4, 5])}\n",
      "{64256768386: tensor([1, 2, 3, 4, 5])}\n",
      "{53160105194: tensor([1, 2, 3, 4, 5])}\n",
      "{99590117358: tensor([1, 2, 3, 4, 5])}\n",
      "{32676019250: tensor([1, 2, 3, 4, 5])}\n",
      "{40324671404: tensor([1, 2, 3, 4, 5])}\n",
      "{53311024530: tensor([1, 2, 3, 4, 5])}\n",
      "{17393394968: tensor([1, 2, 3, 4, 5])}\n",
      "{5621628067: tensor([1, 2, 3, 4, 5])}\n",
      "{80763977388: tensor([1, 2, 3, 4, 5])}\n",
      "{70839932615: tensor([1, 2, 3, 4, 5])}\n",
      "{69392222261: tensor([1, 2, 3, 4, 5])}\n",
      "{70069105562: tensor([1, 2, 3, 4, 5])}\n",
      "{6692200159: tensor([1, 2, 3, 4, 5])}\n",
      "{97879337380: tensor([1, 2, 3, 4, 5])}\n",
      "{92226363329: tensor([1, 2, 3, 4, 5])}\n",
      "{22001305980: tensor([1, 2, 3, 4, 5])}\n",
      "{9075349004: tensor([1, 2, 3, 4, 5])}\n",
      "{7821974866: tensor([1, 2, 3, 4, 5])}\n",
      "{47366466750: tensor([1, 2, 3, 4, 5])}\n",
      "{12360399214: tensor([1, 2, 3, 4, 5])}\n",
      "{79976209467: tensor([1, 2, 3, 4, 5])}\n",
      "{11449296025: tensor([1, 2, 3, 4, 5])}\n",
      "{38676839394: tensor([1, 2, 3, 4, 5])}\n",
      "{85611780583: tensor([1, 2, 3, 4, 5])}\n",
      "{60586783864: tensor([1, 2, 3, 4, 5])}\n",
      "{76247236916: tensor([1, 2, 3, 4, 5])}\n",
      "{9047733830: tensor([1, 2, 3, 4, 5])}\n",
      "{827107867: tensor([1, 2, 3, 4, 5])}\n",
      "{42446568851: tensor([1, 2, 3, 4, 5])}\n",
      "{73932638587: tensor([1, 2, 3, 4, 5])}\n",
      "{30337076547: tensor([1, 2, 3, 4, 5])}\n",
      "{71554924588: tensor([1, 2, 3, 4, 5])}\n",
      "{83732579930: tensor([1, 2, 3, 4, 5])}\n",
      "{80684894194: tensor([1, 2, 3, 4, 5])}\n",
      "{16189535691: tensor([1, 2, 3, 4, 5])}\n",
      "{58260982398: tensor([1, 2, 3, 4, 5])}\n",
      "{56812777562: tensor([1, 2, 3, 4, 5])}\n",
      "{45443303558: tensor([1, 2, 3, 4, 5])}\n"
     ]
    },
    {
     "name": "stdout",
     "output_type": "stream",
     "text": [
      "{50183130294: tensor([1, 2, 3, 4, 5])}\n",
      "{15767430022: tensor([1, 2, 3, 4, 5])}\n",
      "{70965695274: tensor([1, 2, 3, 4, 5])}\n",
      "{1179172994: tensor([1, 2, 3, 4, 5])}\n",
      "{71858667143: tensor([1, 2, 3, 4, 5])}\n",
      "{6028889988: tensor([1, 2, 3, 4, 5])}\n",
      "{40829927674: tensor([1, 2, 3, 4, 5])}\n",
      "{92423231676: tensor([1, 2, 3, 4, 5])}\n",
      "{94795444043: tensor([1, 2, 3, 4, 5])}\n",
      "{9073438565: tensor([1, 2, 3, 4, 5])}\n",
      "{42323842932: tensor([1, 2, 3, 4, 5])}\n",
      "{66426543399: tensor([1, 2, 3, 4, 5])}\n",
      "{39508716131: tensor([1, 2, 3, 4, 5])}\n",
      "{15259732381: tensor([1, 2, 3, 4, 5])}\n",
      "{98754051116: tensor([1, 2, 3, 4, 5])}\n",
      "{45765043709: tensor([1, 2, 3, 4, 5])}\n",
      "{90081836262: tensor([1, 2, 3, 4, 5])}\n",
      "{66224596501: tensor([1, 2, 3, 4, 5])}\n",
      "{62785542356: tensor([1, 2, 3, 4, 5])}\n",
      "{43351984845: tensor([1, 2, 3, 4, 5])}\n",
      "{34039784642: tensor([1, 2, 3, 4, 5])}\n",
      "{79517405908: tensor([1, 2, 3, 4, 5])}\n",
      "{11161247514: tensor([1, 2, 3, 4, 5])}\n",
      "{89266712954: tensor([1, 2, 3, 4, 5])}\n",
      "{38530251066: tensor([1, 2, 3, 4, 5])}\n",
      "{71219254359: tensor([1, 2, 3, 4, 5])}\n",
      "{82360879319: tensor([1, 2, 3, 4, 5])}\n",
      "{15379614609: tensor([1, 2, 3, 4, 5])}\n",
      "{68961935984: tensor([1, 2, 3, 4, 5])}\n",
      "{98003691719: tensor([1, 2, 3, 4, 5])}\n",
      "{52459008563: tensor([1, 2, 3, 4, 5])}\n",
      "{8589957861: tensor([1, 2, 3, 4, 5])}\n",
      "{89416854111: tensor([1, 2, 3, 4, 5])}\n",
      "{35215705836: tensor([1, 2, 3, 4, 5])}\n",
      "{99508046933: tensor([1, 2, 3, 4, 5])}\n",
      "{72381114461: tensor([1, 2, 3, 4, 5])}\n",
      "{19204054628: tensor([1, 2, 3, 4, 5])}\n",
      "{19772632136: tensor([1, 2, 3, 4, 5])}\n",
      "{72119212413: tensor([1, 2, 3, 4, 5])}\n",
      "{73484977686: tensor([1, 2, 3, 4, 5])}\n",
      "{96279918959: tensor([1, 2, 3, 4, 5])}\n",
      "{22095328908: tensor([1, 2, 3, 4, 5])}\n",
      "{6897063658: tensor([1, 2, 3, 4, 5])}\n",
      "{52604792359: tensor([1, 2, 3, 4, 5])}\n",
      "{14091071485: tensor([1, 2, 3, 4, 5])}\n",
      "{81896641605: tensor([1, 2, 3, 4, 5])}\n",
      "{75704571448: tensor([1, 2, 3, 4, 5])}\n",
      "{92937051787: tensor([1, 2, 3, 4, 5])}\n",
      "{84816487258: tensor([1, 2, 3, 4, 5])}\n",
      "{45651912660: tensor([1, 2, 3, 4, 5])}\n",
      "{96861440199: tensor([1, 2, 3, 4, 5])}\n",
      "{93402204724: tensor([1, 2, 3, 4, 5])}\n",
      "{60366055158: tensor([1, 2, 3, 4, 5])}\n",
      "{23281034288: tensor([1, 2, 3, 4, 5])}\n",
      "{84780490970: tensor([1, 2, 3, 4, 5])}\n",
      "{32542181702: tensor([1, 2, 3, 4, 5])}\n",
      "{87640458057: tensor([1, 2, 3, 4, 5])}\n",
      "{44825307180: tensor([1, 2, 3, 4, 5])}\n",
      "{98554587849: tensor([1, 2, 3, 4, 5])}\n",
      "{93328915527: tensor([1, 2, 3, 4, 5])}\n",
      "{51131808527: tensor([1, 2, 3, 4, 5])}\n",
      "{77410724965: tensor([1, 2, 3, 4, 5])}\n",
      "{74092723546: tensor([1, 2, 3, 4, 5])}\n",
      "{55447533419: tensor([1, 2, 3, 4, 5])}\n",
      "{66227770000: tensor([1, 2, 3, 4, 5])}\n",
      "{90622740867: tensor([1, 2, 3, 4, 5])}\n",
      "{13249118782: tensor([1, 2, 3, 4, 5])}\n",
      "{17429547115: tensor([1, 2, 3, 4, 5])}\n",
      "{58625373279: tensor([1, 2, 3, 4, 5])}\n",
      "{56064614597: tensor([1, 2, 3, 4, 5])}\n",
      "{85420504620: tensor([1, 2, 3, 4, 5])}\n",
      "{97589888071: tensor([1, 2, 3, 4, 5])}\n",
      "{75970987895: tensor([1, 2, 3, 4, 5])}\n",
      "400 : x updated myself!\n",
      "{}\n",
      "{4580474: tensor([1, 2, 3, 4, 5])}\n",
      "{98052289762: tensor([1, 2, 3, 4, 5])}\n",
      "{15669584616: tensor([1, 2, 3, 4, 5])}\n",
      "{71979927351: tensor([1, 2, 3, 4, 5])}\n",
      "{60018627808: tensor([1, 2, 3, 4, 5])}\n",
      "{26027813554: tensor([1, 2, 3, 4, 5])}\n",
      "{89229616330: tensor([1, 2, 3, 4, 5])}\n",
      "{25020632213: tensor([1, 2, 3, 4, 5])}\n",
      "{81962578700: tensor([1, 2, 3, 4, 5])}\n",
      "{72411112068: tensor([1, 2, 3, 4, 5])}\n",
      "{18341693175: tensor([1, 2, 3, 4, 5])}\n",
      "{1914068564: tensor([1, 2, 3, 4, 5])}\n",
      "{26603838319: tensor([1, 2, 3, 4, 5])}\n",
      "{65933155559: tensor([1, 2, 3, 4, 5])}\n",
      "{5050826795: tensor([1, 2, 3, 4, 5])}\n",
      "{73442559545: tensor([1, 2, 3, 4, 5])}\n",
      "{92667189745: tensor([1, 2, 3, 4, 5])}\n",
      "{47752397729: tensor([1, 2, 3, 4, 5])}\n",
      "{23963513796: tensor([1, 2, 3, 4, 5])}\n",
      "{70722993766: tensor([1, 2, 3, 4, 5])}\n",
      "{80430208019: tensor([1, 2, 3, 4, 5])}\n",
      "{76681856937: tensor([1, 2, 3, 4, 5])}\n",
      "{6605299801: tensor([1, 2, 3, 4, 5])}\n",
      "{56427931762: tensor([1, 2, 3, 4, 5])}\n",
      "{3848396212: tensor([1, 2, 3, 4, 5])}\n",
      "{73536275062: tensor([1, 2, 3, 4, 5])}\n",
      "{39813283601: tensor([1, 2, 3, 4, 5])}\n",
      "{8624728211: tensor([1, 2, 3, 4, 5])}\n",
      "{26412332741: tensor([1, 2, 3, 4, 5])}\n",
      "{20822679988: tensor([1, 2, 3, 4, 5])}\n",
      "{13301970974: tensor([1, 2, 3, 4, 5])}\n",
      "{90144568622: tensor([1, 2, 3, 4, 5])}\n",
      "{16807936969: tensor([1, 2, 3, 4, 5])}\n",
      "{57589205487: tensor([1, 2, 3, 4, 5])}\n",
      "{72000927661: tensor([1, 2, 3, 4, 5])}\n",
      "{92544617002: tensor([1, 2, 3, 4, 5])}\n",
      "{68183171263: tensor([1, 2, 3, 4, 5])}\n",
      "{85575348616: tensor([1, 2, 3, 4, 5])}\n",
      "{18965062462: tensor([1, 2, 3, 4, 5])}\n",
      "{5110818366: tensor([1, 2, 3, 4, 5])}\n",
      "{37435043564: tensor([1, 2, 3, 4, 5])}\n",
      "{74239873803: tensor([1, 2, 3, 4, 5])}\n",
      "{62238768921: tensor([1, 2, 3, 4, 5])}\n",
      "{90507445170: tensor([1, 2, 3, 4, 5])}\n",
      "{64931040528: tensor([1, 2, 3, 4, 5])}\n",
      "{7816220895: tensor([1, 2, 3, 4, 5])}\n",
      "{86538875163: tensor([1, 2, 3, 4, 5])}\n",
      "{65861623865: tensor([1, 2, 3, 4, 5])}\n",
      "{22299288887: tensor([1, 2, 3, 4, 5])}\n",
      "{38684020828: tensor([1, 2, 3, 4, 5])}\n",
      "{73701965293: tensor([1, 2, 3, 4, 5])}\n",
      "{90916238802: tensor([1, 2, 3, 4, 5])}\n",
      "{84942572006: tensor([1, 2, 3, 4, 5])}\n",
      "{46200593229: tensor([1, 2, 3, 4, 5])}\n",
      "{1212764593: tensor([1, 2, 3, 4, 5])}\n",
      "{81559871497: tensor([1, 2, 3, 4, 5])}\n",
      "{35069273995: tensor([1, 2, 3, 4, 5])}\n",
      "{41849333681: tensor([1, 2, 3, 4, 5])}\n",
      "{709718448: tensor([1, 2, 3, 4, 5])}\n",
      "{71555922086: tensor([1, 2, 3, 4, 5])}\n",
      "{89477608192: tensor([1, 2, 3, 4, 5])}\n",
      "{12193452387: tensor([1, 2, 3, 4, 5])}\n",
      "{15938856241: tensor([1, 2, 3, 4, 5])}\n",
      "{8440717224: tensor([1, 2, 3, 4, 5])}\n",
      "{2469788176: tensor([1, 2, 3, 4, 5])}\n",
      "{25655635997: tensor([1, 2, 3, 4, 5])}\n",
      "{81424290510: tensor([1, 2, 3, 4, 5])}\n",
      "{73874493719: tensor([1, 2, 3, 4, 5])}\n",
      "{80174522436: tensor([1, 2, 3, 4, 5])}\n",
      "{2167644676: tensor([1, 2, 3, 4, 5])}\n",
      "{82162828066: tensor([1, 2, 3, 4, 5])}\n",
      "{69554813550: tensor([1, 2, 3, 4, 5])}\n",
      "{68211760980: tensor([1, 2, 3, 4, 5])}\n",
      "{80529818697: tensor([1, 2, 3, 4, 5])}\n",
      "{13764117165: tensor([1, 2, 3, 4, 5])}\n",
      "{19602160201: tensor([1, 2, 3, 4, 5])}\n",
      "{18889135345: tensor([1, 2, 3, 4, 5])}\n",
      "{80985645528: tensor([1, 2, 3, 4, 5])}\n",
      "{84256743583: tensor([1, 2, 3, 4, 5])}\n",
      "{54022861099: tensor([1, 2, 3, 4, 5])}\n",
      "{49755045270: tensor([1, 2, 3, 4, 5])}\n",
      "{46942020022: tensor([1, 2, 3, 4, 5])}\n",
      "{17987559768: tensor([1, 2, 3, 4, 5])}\n",
      "{6999038141: tensor([1, 2, 3, 4, 5])}\n",
      "{67009784143: tensor([1, 2, 3, 4, 5])}\n",
      "{16700321811: tensor([1, 2, 3, 4, 5])}\n",
      "{36489494947: tensor([1, 2, 3, 4, 5])}\n",
      "{7359146741: tensor([1, 2, 3, 4, 5])}\n",
      "{61569060365: tensor([1, 2, 3, 4, 5])}\n",
      "{90368785542: tensor([1, 2, 3, 4, 5])}\n",
      "{80616887354: tensor([1, 2, 3, 4, 5])}\n",
      "{44443011169: tensor([1, 2, 3, 4, 5])}\n",
      "{86355574347: tensor([1, 2, 3, 4, 5])}\n",
      "{14789303457: tensor([1, 2, 3, 4, 5])}\n",
      "{19568149882: tensor([1, 2, 3, 4, 5])}\n",
      "{59754103416: tensor([1, 2, 3, 4, 5])}\n",
      "{85136559201: tensor([1, 2, 3, 4, 5])}\n",
      "{3090794068: tensor([1, 2, 3, 4, 5])}\n",
      "{51456200946: tensor([1, 2, 3, 4, 5])}\n",
      "{70933339636: tensor([1, 2, 3, 4, 5])}\n",
      "{89469599218: tensor([1, 2, 3, 4, 5])}\n",
      "{96054877248: tensor([1, 2, 3, 4, 5])}\n",
      "{13504903154: tensor([1, 2, 3, 4, 5])}\n",
      "{33735742460: tensor([1, 2, 3, 4, 5])}\n",
      "{57668903410: tensor([1, 2, 3, 4, 5])}\n",
      "{59954665746: tensor([1, 2, 3, 4, 5])}\n",
      "{86500609540: tensor([1, 2, 3, 4, 5])}\n",
      "{22585999170: tensor([1, 2, 3, 4, 5])}\n",
      "{17358825029: tensor([1, 2, 3, 4, 5])}\n",
      "{82886626941: tensor([1, 2, 3, 4, 5])}\n",
      "{25748568157: tensor([1, 2, 3, 4, 5])}\n",
      "{81359006850: tensor([1, 2, 3, 4, 5])}\n",
      "{63222761739: tensor([1, 2, 3, 4, 5])}\n",
      "{62597431280: tensor([1, 2, 3, 4, 5])}\n",
      "{16584685203: tensor([1, 2, 3, 4, 5])}\n",
      "{25219680900: tensor([1, 2, 3, 4, 5])}\n",
      "{25348028340: tensor([1, 2, 3, 4, 5])}\n",
      "{69847460977: tensor([1, 2, 3, 4, 5])}\n",
      "{92201599085: tensor([1, 2, 3, 4, 5])}\n",
      "{42136436954: tensor([1, 2, 3, 4, 5])}\n",
      "{70326311682: tensor([1, 2, 3, 4, 5])}\n",
      "{84883221902: tensor([1, 2, 3, 4, 5])}\n",
      "{10507040792: tensor([1, 2, 3, 4, 5])}\n",
      "{89004336936: tensor([1, 2, 3, 4, 5])}\n",
      "{19380260892: tensor([1, 2, 3, 4, 5])}\n",
      "{64069051125: tensor([1, 2, 3, 4, 5])}\n",
      "{19945688887: tensor([1, 2, 3, 4, 5])}\n",
      "{1042515753: tensor([1, 2, 3, 4, 5])}\n",
      "{82262604849: tensor([1, 2, 3, 4, 5])}\n",
      "{59184380121: tensor([1, 2, 3, 4, 5])}\n",
      "{71135097138: tensor([1, 2, 3, 4, 5])}\n",
      "{86473176750: tensor([1, 2, 3, 4, 5])}\n",
      "{6241625380: tensor([1, 2, 3, 4, 5])}\n",
      "{49571769747: tensor([1, 2, 3, 4, 5])}\n",
      "{51285972525: tensor([1, 2, 3, 4, 5])}\n",
      "{59256652835: tensor([1, 2, 3, 4, 5])}\n",
      "{36901569608: tensor([1, 2, 3, 4, 5])}\n",
      "{30848839745: tensor([1, 2, 3, 4, 5])}\n",
      "{16439006721: tensor([1, 2, 3, 4, 5])}\n",
      "{80305653640: tensor([1, 2, 3, 4, 5])}\n",
      "{93329404798: tensor([1, 2, 3, 4, 5])}\n",
      "{15800071346: tensor([1, 2, 3, 4, 5])}\n",
      "{46782389593: tensor([1, 2, 3, 4, 5])}\n",
      "{2493806173: tensor([1, 2, 3, 4, 5])}\n",
      "{94548495351: tensor([1, 2, 3, 4, 5])}\n",
      "{37573553039: tensor([1, 2, 3, 4, 5])}\n",
      "{13209879307: tensor([1, 2, 3, 4, 5])}\n",
      "{37523989252: tensor([1, 2, 3, 4, 5])}\n",
      "{37506202940: tensor([1, 2, 3, 4, 5])}\n",
      "{66055807201: tensor([1, 2, 3, 4, 5])}\n",
      "{75697928148: tensor([1, 2, 3, 4, 5])}\n",
      "{78911150252: tensor([1, 2, 3, 4, 5])}\n",
      "{55331985620: tensor([1, 2, 3, 4, 5])}\n",
      "{68715432150: tensor([1, 2, 3, 4, 5])}\n",
      "{12693405382: tensor([1, 2, 3, 4, 5])}\n",
      "{91375401511: tensor([1, 2, 3, 4, 5])}\n",
      "{68276942425: tensor([1, 2, 3, 4, 5])}\n",
      "{39245330851: tensor([1, 2, 3, 4, 5])}\n",
      "{34999313341: tensor([1, 2, 3, 4, 5])}\n",
      "{42392287319: tensor([1, 2, 3, 4, 5])}\n",
      "{88894500171: tensor([1, 2, 3, 4, 5])}\n",
      "{9567805165: tensor([1, 2, 3, 4, 5])}\n",
      "{73704367316: tensor([1, 2, 3, 4, 5])}\n",
      "{1245436857: tensor([1, 2, 3, 4, 5])}\n",
      "{85301152047: tensor([1, 2, 3, 4, 5])}\n",
      "{50905021409: tensor([1, 2, 3, 4, 5])}\n",
      "{48915186662: tensor([1, 2, 3, 4, 5])}\n",
      "{77438020155: tensor([1, 2, 3, 4, 5])}\n",
      "{893236425: tensor([1, 2, 3, 4, 5])}\n",
      "{26608176146: tensor([1, 2, 3, 4, 5])}\n",
      "{67922768704: tensor([1, 2, 3, 4, 5])}\n",
      "{62461279427: tensor([1, 2, 3, 4, 5])}\n",
      "{57248960276: tensor([1, 2, 3, 4, 5])}\n",
      "{77712862572: tensor([1, 2, 3, 4, 5])}\n",
      "{60312864426: tensor([1, 2, 3, 4, 5])}\n",
      "{14189072264: tensor([1, 2, 3, 4, 5])}\n",
      "{3689864447: tensor([1, 2, 3, 4, 5])}\n",
      "{73546899211: tensor([1, 2, 3, 4, 5])}\n",
      "{58680468554: tensor([1, 2, 3, 4, 5])}\n",
      "{44839666183: tensor([1, 2, 3, 4, 5])}\n",
      "{23988865690: tensor([1, 2, 3, 4, 5])}\n",
      "{12123312617: tensor([1, 2, 3, 4, 5])}\n",
      "{55280381053: tensor([1, 2, 3, 4, 5])}\n",
      "{16694396073: tensor([1, 2, 3, 4, 5])}\n",
      "{30736087185: tensor([1, 2, 3, 4, 5])}\n",
      "{54183638358: tensor([1, 2, 3, 4, 5])}\n",
      "{51851439489: tensor([1, 2, 3, 4, 5])}\n",
      "{99796637014: tensor([1, 2, 3, 4, 5])}\n",
      "{55397091120: tensor([1, 2, 3, 4, 5])}\n",
      "{40150236018: tensor([1, 2, 3, 4, 5])}\n",
      "{98979810594: tensor([1, 2, 3, 4, 5])}\n",
      "{20852793748: tensor([1, 2, 3, 4, 5])}\n",
      "{61487797248: tensor([1, 2, 3, 4, 5])}\n",
      "{41614264723: tensor([1, 2, 3, 4, 5])}\n",
      "{47546798301: tensor([1, 2, 3, 4, 5])}\n",
      "{32953768933: tensor([1, 2, 3, 4, 5])}\n",
      "{66478285489: tensor([1, 2, 3, 4, 5])}\n",
      "{85766277530: tensor([1, 2, 3, 4, 5])}\n",
      "{75653083825: tensor([1, 2, 3, 4, 5])}\n",
      "{64823437440: tensor([1, 2, 3, 4, 5])}\n",
      "600 : x updated myself!\n",
      "{}\n",
      "{54281899562: tensor([1, 2, 3, 4, 5])}\n",
      "{90862881006: tensor([1, 2, 3, 4, 5])}\n",
      "{34794461763: tensor([1, 2, 3, 4, 5])}\n",
      "{30371826564: tensor([1, 2, 3, 4, 5])}\n",
      "{54703462777: tensor([1, 2, 3, 4, 5])}\n",
      "{11451274371: tensor([1, 2, 3, 4, 5])}\n",
      "{6422659451: tensor([1, 2, 3, 4, 5])}\n",
      "{93232779038: tensor([1, 2, 3, 4, 5])}\n",
      "{16851971908: tensor([1, 2, 3, 4, 5])}\n",
      "{22263385851: tensor([1, 2, 3, 4, 5])}\n",
      "{98599935422: tensor([1, 2, 3, 4, 5])}\n",
      "{77747681407: tensor([1, 2, 3, 4, 5])}\n",
      "{18296024825: tensor([1, 2, 3, 4, 5])}\n",
      "{96552969013: tensor([1, 2, 3, 4, 5])}\n",
      "{54652421443: tensor([1, 2, 3, 4, 5])}\n",
      "{83112092236: tensor([1, 2, 3, 4, 5])}\n",
      "{70383661682: tensor([1, 2, 3, 4, 5])}\n",
      "{38995745057: tensor([1, 2, 3, 4, 5])}\n",
      "{5144370249: tensor([1, 2, 3, 4, 5])}\n",
      "{88871863169: tensor([1, 2, 3, 4, 5])}\n",
      "{69433472828: tensor([1, 2, 3, 4, 5])}\n",
      "{21999319378: tensor([1, 2, 3, 4, 5])}\n",
      "{87096361012: tensor([1, 2, 3, 4, 5])}\n",
      "{45181352922: tensor([1, 2, 3, 4, 5])}\n",
      "{28971219689: tensor([1, 2, 3, 4, 5])}\n",
      "{98250805057: tensor([1, 2, 3, 4, 5])}\n",
      "{3601655156: tensor([1, 2, 3, 4, 5])}\n",
      "{60791560988: tensor([1, 2, 3, 4, 5])}\n",
      "{78418900438: tensor([1, 2, 3, 4, 5])}\n",
      "{39344483104: tensor([1, 2, 3, 4, 5])}\n",
      "{28570031352: tensor([1, 2, 3, 4, 5])}\n",
      "{92019229899: tensor([1, 2, 3, 4, 5])}\n",
      "{1996732415: tensor([1, 2, 3, 4, 5])}\n",
      "{92018484141: tensor([1, 2, 3, 4, 5])}\n",
      "{74696005486: tensor([1, 2, 3, 4, 5])}\n",
      "{82145179706: tensor([1, 2, 3, 4, 5])}\n",
      "{89106360819: tensor([1, 2, 3, 4, 5])}\n",
      "{46063882728: tensor([1, 2, 3, 4, 5])}\n",
      "{29966723904: tensor([1, 2, 3, 4, 5])}\n",
      "{86085060860: tensor([1, 2, 3, 4, 5])}\n",
      "{27714583160: tensor([1, 2, 3, 4, 5])}\n",
      "{68677880961: tensor([1, 2, 3, 4, 5])}\n",
      "{1124513408: tensor([1, 2, 3, 4, 5])}\n",
      "{648415786: tensor([1, 2, 3, 4, 5])}\n",
      "{18939697652: tensor([1, 2, 3, 4, 5])}\n",
      "{44537233924: tensor([1, 2, 3, 4, 5])}\n",
      "{48666805537: tensor([1, 2, 3, 4, 5])}\n",
      "{98787107968: tensor([1, 2, 3, 4, 5])}\n",
      "{349416456: tensor([1, 2, 3, 4, 5])}\n",
      "{29586197719: tensor([1, 2, 3, 4, 5])}\n",
      "{417581613: tensor([1, 2, 3, 4, 5])}\n",
      "{38140294600: tensor([1, 2, 3, 4, 5])}\n",
      "{78698500808: tensor([1, 2, 3, 4, 5])}\n",
      "{37466079883: tensor([1, 2, 3, 4, 5])}\n",
      "{39160870441: tensor([1, 2, 3, 4, 5])}\n",
      "{19822842428: tensor([1, 2, 3, 4, 5])}\n",
      "{53761084378: tensor([1, 2, 3, 4, 5])}\n",
      "{47141278605: tensor([1, 2, 3, 4, 5])}\n",
      "{97141977932: tensor([1, 2, 3, 4, 5])}\n",
      "{23333069266: tensor([1, 2, 3, 4, 5])}\n",
      "{30038728735: tensor([1, 2, 3, 4, 5])}\n",
      "{4288227281: tensor([1, 2, 3, 4, 5])}\n",
      "{29747789418: tensor([1, 2, 3, 4, 5])}\n",
      "{61523642491: tensor([1, 2, 3, 4, 5])}\n",
      "{28380202733: tensor([1, 2, 3, 4, 5])}\n",
      "{19048948605: tensor([1, 2, 3, 4, 5])}\n",
      "{53396174127: tensor([1, 2, 3, 4, 5])}\n",
      "{57619519226: tensor([1, 2, 3, 4, 5])}\n",
      "{64706334449: tensor([1, 2, 3, 4, 5])}\n",
      "{83332952734: tensor([1, 2, 3, 4, 5])}\n",
      "{39677365091: tensor([1, 2, 3, 4, 5])}\n",
      "{51121954036: tensor([1, 2, 3, 4, 5])}\n",
      "{30432789808: tensor([1, 2, 3, 4, 5])}\n",
      "{2765201463: tensor([1, 2, 3, 4, 5])}\n",
      "{38132560566: tensor([1, 2, 3, 4, 5])}\n",
      "{67257054932: tensor([1, 2, 3, 4, 5])}\n",
      "{42553064392: tensor([1, 2, 3, 4, 5])}\n",
      "{11645199017: tensor([1, 2, 3, 4, 5])}\n",
      "{93408046569: tensor([1, 2, 3, 4, 5])}\n"
     ]
    },
    {
     "name": "stdout",
     "output_type": "stream",
     "text": [
      "{6566140717: tensor([1, 2, 3, 4, 5])}\n",
      "{59577035617: tensor([1, 2, 3, 4, 5])}\n",
      "{24514920155: tensor([1, 2, 3, 4, 5])}\n",
      "{77671201364: tensor([1, 2, 3, 4, 5])}\n",
      "{63627874859: tensor([1, 2, 3, 4, 5])}\n",
      "{80462923487: tensor([1, 2, 3, 4, 5])}\n",
      "{3002513135: tensor([1, 2, 3, 4, 5])}\n",
      "{98648284005: tensor([1, 2, 3, 4, 5])}\n",
      "{55742027812: tensor([1, 2, 3, 4, 5])}\n",
      "{49941135318: tensor([1, 2, 3, 4, 5])}\n",
      "{65035886543: tensor([1, 2, 3, 4, 5])}\n",
      "{82988095233: tensor([1, 2, 3, 4, 5])}\n",
      "{14416420403: tensor([1, 2, 3, 4, 5])}\n",
      "{31630811795: tensor([1, 2, 3, 4, 5])}\n",
      "{65415825022: tensor([1, 2, 3, 4, 5])}\n",
      "{30428564918: tensor([1, 2, 3, 4, 5])}\n",
      "{59468503175: tensor([1, 2, 3, 4, 5])}\n",
      "{34242950208: tensor([1, 2, 3, 4, 5])}\n",
      "{48479091349: tensor([1, 2, 3, 4, 5])}\n",
      "{43897294751: tensor([1, 2, 3, 4, 5])}\n",
      "{93663803629: tensor([1, 2, 3, 4, 5])}\n",
      "{88300748317: tensor([1, 2, 3, 4, 5])}\n",
      "{65570157331: tensor([1, 2, 3, 4, 5])}\n",
      "{23341488734: tensor([1, 2, 3, 4, 5])}\n",
      "{24505608366: tensor([1, 2, 3, 4, 5])}\n",
      "{394518178: tensor([1, 2, 3, 4, 5])}\n",
      "{93227360276: tensor([1, 2, 3, 4, 5])}\n",
      "{15326984723: tensor([1, 2, 3, 4, 5])}\n",
      "{18577517147: tensor([1, 2, 3, 4, 5])}\n",
      "{29184454701: tensor([1, 2, 3, 4, 5])}\n",
      "{25943072346: tensor([1, 2, 3, 4, 5])}\n",
      "{39335841369: tensor([1, 2, 3, 4, 5])}\n",
      "{77559474695: tensor([1, 2, 3, 4, 5])}\n",
      "{37718664871: tensor([1, 2, 3, 4, 5])}\n",
      "{68642929147: tensor([1, 2, 3, 4, 5])}\n",
      "{28221725650: tensor([1, 2, 3, 4, 5])}\n",
      "{31141077075: tensor([1, 2, 3, 4, 5])}\n",
      "{58736191405: tensor([1, 2, 3, 4, 5])}\n",
      "{40777796337: tensor([1, 2, 3, 4, 5])}\n",
      "{25193749083: tensor([1, 2, 3, 4, 5])}\n",
      "{89787900696: tensor([1, 2, 3, 4, 5])}\n",
      "{27590075135: tensor([1, 2, 3, 4, 5])}\n",
      "{63721574691: tensor([1, 2, 3, 4, 5])}\n",
      "{1649596874: tensor([1, 2, 3, 4, 5])}\n",
      "{17538457900: tensor([1, 2, 3, 4, 5])}\n",
      "{23093795453: tensor([1, 2, 3, 4, 5])}\n",
      "{29657401352: tensor([1, 2, 3, 4, 5])}\n",
      "{62517407897: tensor([1, 2, 3, 4, 5])}\n",
      "{65769768946: tensor([1, 2, 3, 4, 5])}\n",
      "{62372898375: tensor([1, 2, 3, 4, 5])}\n",
      "{66051436292: tensor([1, 2, 3, 4, 5])}\n",
      "{74411448476: tensor([1, 2, 3, 4, 5])}\n",
      "{45254664618: tensor([1, 2, 3, 4, 5])}\n",
      "{69982160062: tensor([1, 2, 3, 4, 5])}\n",
      "{53345097744: tensor([1, 2, 3, 4, 5])}\n",
      "{10542599165: tensor([1, 2, 3, 4, 5])}\n",
      "{91072394546: tensor([1, 2, 3, 4, 5])}\n",
      "{43586914613: tensor([1, 2, 3, 4, 5])}\n",
      "{81221148707: tensor([1, 2, 3, 4, 5])}\n",
      "{43375146913: tensor([1, 2, 3, 4, 5])}\n",
      "{48400929080: tensor([1, 2, 3, 4, 5])}\n",
      "{76575793551: tensor([1, 2, 3, 4, 5])}\n",
      "{85054807164: tensor([1, 2, 3, 4, 5])}\n",
      "{24678927986: tensor([1, 2, 3, 4, 5])}\n",
      "{90322386924: tensor([1, 2, 3, 4, 5])}\n",
      "{30766747772: tensor([1, 2, 3, 4, 5])}\n",
      "{75661975909: tensor([1, 2, 3, 4, 5])}\n",
      "{29406674768: tensor([1, 2, 3, 4, 5])}\n",
      "{16660219619: tensor([1, 2, 3, 4, 5])}\n",
      "{98994770840: tensor([1, 2, 3, 4, 5])}\n",
      "{38793267594: tensor([1, 2, 3, 4, 5])}\n",
      "{39613741346: tensor([1, 2, 3, 4, 5])}\n",
      "{42439769650: tensor([1, 2, 3, 4, 5])}\n",
      "{58749981919: tensor([1, 2, 3, 4, 5])}\n",
      "{66545310872: tensor([1, 2, 3, 4, 5])}\n",
      "{64185942419: tensor([1, 2, 3, 4, 5])}\n",
      "{29945605413: tensor([1, 2, 3, 4, 5])}\n",
      "{64552376650: tensor([1, 2, 3, 4, 5])}\n",
      "{15172728877: tensor([1, 2, 3, 4, 5])}\n",
      "{60581955002: tensor([1, 2, 3, 4, 5])}\n",
      "{49128286410: tensor([1, 2, 3, 4, 5])}\n",
      "{98980687124: tensor([1, 2, 3, 4, 5])}\n",
      "{64596308244: tensor([1, 2, 3, 4, 5])}\n",
      "{56726731736: tensor([1, 2, 3, 4, 5])}\n",
      "{26749069653: tensor([1, 2, 3, 4, 5])}\n",
      "{17108631247: tensor([1, 2, 3, 4, 5])}\n",
      "{61627059555: tensor([1, 2, 3, 4, 5])}\n",
      "{85404275172: tensor([1, 2, 3, 4, 5])}\n",
      "{79884657549: tensor([1, 2, 3, 4, 5])}\n",
      "{10632412919: tensor([1, 2, 3, 4, 5])}\n",
      "{82486477430: tensor([1, 2, 3, 4, 5])}\n",
      "{20625443846: tensor([1, 2, 3, 4, 5])}\n",
      "{31634164053: tensor([1, 2, 3, 4, 5])}\n",
      "{78043884075: tensor([1, 2, 3, 4, 5])}\n",
      "{17742620420: tensor([1, 2, 3, 4, 5])}\n",
      "{8673569512: tensor([1, 2, 3, 4, 5])}\n",
      "{81715149409: tensor([1, 2, 3, 4, 5])}\n",
      "{94579265271: tensor([1, 2, 3, 4, 5])}\n",
      "{63944942712: tensor([1, 2, 3, 4, 5])}\n",
      "{6394871890: tensor([1, 2, 3, 4, 5])}\n",
      "{95252309658: tensor([1, 2, 3, 4, 5])}\n",
      "{16279014064: tensor([1, 2, 3, 4, 5])}\n",
      "{37044691662: tensor([1, 2, 3, 4, 5])}\n",
      "{17540434602: tensor([1, 2, 3, 4, 5])}\n",
      "{58513458176: tensor([1, 2, 3, 4, 5])}\n",
      "{84618561766: tensor([1, 2, 3, 4, 5])}\n",
      "{66014135101: tensor([1, 2, 3, 4, 5])}\n",
      "{69626153741: tensor([1, 2, 3, 4, 5])}\n",
      "{69128302948: tensor([1, 2, 3, 4, 5])}\n",
      "{4979778238: tensor([1, 2, 3, 4, 5])}\n",
      "{76996495172: tensor([1, 2, 3, 4, 5])}\n",
      "{79455273978: tensor([1, 2, 3, 4, 5])}\n",
      "{1534075576: tensor([1, 2, 3, 4, 5])}\n",
      "{59803668774: tensor([1, 2, 3, 4, 5])}\n",
      "{72887411447: tensor([1, 2, 3, 4, 5])}\n",
      "{11630550008: tensor([1, 2, 3, 4, 5])}\n",
      "{11940236055: tensor([1, 2, 3, 4, 5])}\n",
      "{51155359803: tensor([1, 2, 3, 4, 5])}\n",
      "{1313438585: tensor([1, 2, 3, 4, 5])}\n",
      "{12346038895: tensor([1, 2, 3, 4, 5])}\n",
      "{89579049131: tensor([1, 2, 3, 4, 5])}\n",
      "800 : x updated myself!\n",
      "{}\n",
      "{98055759553: tensor([1, 2, 3, 4, 5])}\n",
      "{29101709187: tensor([1, 2, 3, 4, 5])}\n",
      "{81757472551: tensor([1, 2, 3, 4, 5])}\n",
      "{25266194128: tensor([1, 2, 3, 4, 5])}\n",
      "{63425536617: tensor([1, 2, 3, 4, 5])}\n",
      "{9890451958: tensor([1, 2, 3, 4, 5])}\n",
      "{53183690293: tensor([1, 2, 3, 4, 5])}\n",
      "{65443103260: tensor([1, 2, 3, 4, 5])}\n",
      "{82341745590: tensor([1, 2, 3, 4, 5])}\n",
      "{46493915796: tensor([1, 2, 3, 4, 5])}\n",
      "{97660014292: tensor([1, 2, 3, 4, 5])}\n",
      "{96272555840: tensor([1, 2, 3, 4, 5])}\n",
      "{88285061402: tensor([1, 2, 3, 4, 5])}\n",
      "{63842203407: tensor([1, 2, 3, 4, 5])}\n",
      "{70348539512: tensor([1, 2, 3, 4, 5])}\n",
      "{44974317840: tensor([1, 2, 3, 4, 5])}\n",
      "{78467469394: tensor([1, 2, 3, 4, 5])}\n",
      "{89575020698: tensor([1, 2, 3, 4, 5])}\n",
      "{53930977179: tensor([1, 2, 3, 4, 5])}\n",
      "{23476817670: tensor([1, 2, 3, 4, 5])}\n",
      "{20880758949: tensor([1, 2, 3, 4, 5])}\n",
      "{59518232748: tensor([1, 2, 3, 4, 5])}\n",
      "{24709138999: tensor([1, 2, 3, 4, 5])}\n",
      "{55728509574: tensor([1, 2, 3, 4, 5])}\n",
      "{93417128557: tensor([1, 2, 3, 4, 5])}\n",
      "{29883571853: tensor([1, 2, 3, 4, 5])}\n",
      "{75573459778: tensor([1, 2, 3, 4, 5])}\n",
      "{25542195689: tensor([1, 2, 3, 4, 5])}\n",
      "{97087303239: tensor([1, 2, 3, 4, 5])}\n",
      "{28757434456: tensor([1, 2, 3, 4, 5])}\n",
      "{52378356722: tensor([1, 2, 3, 4, 5])}\n",
      "{54510876597: tensor([1, 2, 3, 4, 5])}\n",
      "{51794733956: tensor([1, 2, 3, 4, 5])}\n",
      "{4743840237: tensor([1, 2, 3, 4, 5])}\n",
      "{74449636134: tensor([1, 2, 3, 4, 5])}\n",
      "{14408817622: tensor([1, 2, 3, 4, 5])}\n",
      "{24743448636: tensor([1, 2, 3, 4, 5])}\n",
      "{54064793111: tensor([1, 2, 3, 4, 5])}\n",
      "{25549512161: tensor([1, 2, 3, 4, 5])}\n",
      "{54599415902: tensor([1, 2, 3, 4, 5])}\n",
      "{92481667347: tensor([1, 2, 3, 4, 5])}\n",
      "{58732068792: tensor([1, 2, 3, 4, 5])}\n",
      "{91882807116: tensor([1, 2, 3, 4, 5])}\n",
      "{97146121228: tensor([1, 2, 3, 4, 5])}\n",
      "{69007313933: tensor([1, 2, 3, 4, 5])}\n",
      "{80617056960: tensor([1, 2, 3, 4, 5])}\n",
      "{84612165090: tensor([1, 2, 3, 4, 5])}\n",
      "{61726043284: tensor([1, 2, 3, 4, 5])}\n",
      "{21651253062: tensor([1, 2, 3, 4, 5])}\n",
      "{38238079107: tensor([1, 2, 3, 4, 5])}\n",
      "{61651528418: tensor([1, 2, 3, 4, 5])}\n",
      "{26105421480: tensor([1, 2, 3, 4, 5])}\n",
      "{88293972374: tensor([1, 2, 3, 4, 5])}\n",
      "{94614599535: tensor([1, 2, 3, 4, 5])}\n",
      "{67580333830: tensor([1, 2, 3, 4, 5])}\n",
      "{51566282933: tensor([1, 2, 3, 4, 5])}\n",
      "{63845084102: tensor([1, 2, 3, 4, 5])}\n",
      "{30365301250: tensor([1, 2, 3, 4, 5])}\n",
      "{43674956983: tensor([1, 2, 3, 4, 5])}\n",
      "{63256862433: tensor([1, 2, 3, 4, 5])}\n",
      "{99316331422: tensor([1, 2, 3, 4, 5])}\n",
      "{38653791425: tensor([1, 2, 3, 4, 5])}\n",
      "{97384997139: tensor([1, 2, 3, 4, 5])}\n",
      "{14687391507: tensor([1, 2, 3, 4, 5])}\n",
      "{28678537704: tensor([1, 2, 3, 4, 5])}\n",
      "{82681187591: tensor([1, 2, 3, 4, 5])}\n",
      "{16375222184: tensor([1, 2, 3, 4, 5])}\n",
      "{1611367328: tensor([1, 2, 3, 4, 5])}\n",
      "{11643370637: tensor([1, 2, 3, 4, 5])}\n",
      "{43518806295: tensor([1, 2, 3, 4, 5])}\n",
      "{60364014017: tensor([1, 2, 3, 4, 5])}\n",
      "{67639460113: tensor([1, 2, 3, 4, 5])}\n",
      "{65938459118: tensor([1, 2, 3, 4, 5])}\n",
      "{95423561296: tensor([1, 2, 3, 4, 5])}\n",
      "{87008334197: tensor([1, 2, 3, 4, 5])}\n",
      "{22773806558: tensor([1, 2, 3, 4, 5])}\n",
      "{22161655996: tensor([1, 2, 3, 4, 5])}\n",
      "{82661316958: tensor([1, 2, 3, 4, 5])}\n",
      "{76822573551: tensor([1, 2, 3, 4, 5])}\n",
      "{87883334175: tensor([1, 2, 3, 4, 5])}\n",
      "{75375929367: tensor([1, 2, 3, 4, 5])}\n",
      "{11266558766: tensor([1, 2, 3, 4, 5])}\n",
      "{29086268763: tensor([1, 2, 3, 4, 5])}\n",
      "{3845224788: tensor([1, 2, 3, 4, 5])}\n",
      "{46883550247: tensor([1, 2, 3, 4, 5])}\n",
      "{1058583887: tensor([1, 2, 3, 4, 5])}\n",
      "{91022777776: tensor([1, 2, 3, 4, 5])}\n",
      "{80549517262: tensor([1, 2, 3, 4, 5])}\n",
      "{97548050247: tensor([1, 2, 3, 4, 5])}\n",
      "{99883156994: tensor([1, 2, 3, 4, 5])}\n",
      "{75342723458: tensor([1, 2, 3, 4, 5])}\n",
      "{32819339730: tensor([1, 2, 3, 4, 5])}\n",
      "{76444873710: tensor([1, 2, 3, 4, 5])}\n",
      "{72799591249: tensor([1, 2, 3, 4, 5])}\n",
      "{76284968452: tensor([1, 2, 3, 4, 5])}\n",
      "{90905931820: tensor([1, 2, 3, 4, 5])}\n",
      "{19911755183: tensor([1, 2, 3, 4, 5])}\n",
      "{4972319435: tensor([1, 2, 3, 4, 5])}\n",
      "{16921223640: tensor([1, 2, 3, 4, 5])}\n",
      "{57458363131: tensor([1, 2, 3, 4, 5])}\n",
      "{39835945398: tensor([1, 2, 3, 4, 5])}\n",
      "{55947306890: tensor([1, 2, 3, 4, 5])}\n",
      "{24845187179: tensor([1, 2, 3, 4, 5])}\n",
      "{99083201484: tensor([1, 2, 3, 4, 5])}\n",
      "{188865138: tensor([1, 2, 3, 4, 5])}\n",
      "{60345262299: tensor([1, 2, 3, 4, 5])}\n",
      "{54656326130: tensor([1, 2, 3, 4, 5])}\n",
      "{96709489726: tensor([1, 2, 3, 4, 5])}\n",
      "{33148529205: tensor([1, 2, 3, 4, 5])}\n",
      "{51151112554: tensor([1, 2, 3, 4, 5])}\n",
      "{93855125449: tensor([1, 2, 3, 4, 5])}\n",
      "{60179722042: tensor([1, 2, 3, 4, 5])}\n",
      "{77256230405: tensor([1, 2, 3, 4, 5])}\n",
      "{41063887074: tensor([1, 2, 3, 4, 5])}\n",
      "{76214481870: tensor([1, 2, 3, 4, 5])}\n",
      "{18061054084: tensor([1, 2, 3, 4, 5])}\n",
      "{39865324640: tensor([1, 2, 3, 4, 5])}\n",
      "{99767019215: tensor([1, 2, 3, 4, 5])}\n",
      "{82961209101: tensor([1, 2, 3, 4, 5])}\n",
      "{17268972126: tensor([1, 2, 3, 4, 5])}\n",
      "{6310137554: tensor([1, 2, 3, 4, 5])}\n",
      "{16819751003: tensor([1, 2, 3, 4, 5])}\n",
      "{61426753967: tensor([1, 2, 3, 4, 5])}\n",
      "{75069196463: tensor([1, 2, 3, 4, 5])}\n",
      "{97410316759: tensor([1, 2, 3, 4, 5])}\n",
      "{41592048043: tensor([1, 2, 3, 4, 5])}\n",
      "{71630391782: tensor([1, 2, 3, 4, 5])}\n",
      "{84619136913: tensor([1, 2, 3, 4, 5])}\n",
      "{96848956089: tensor([1, 2, 3, 4, 5])}\n",
      "{34063275575: tensor([1, 2, 3, 4, 5])}\n",
      "{61575358960: tensor([1, 2, 3, 4, 5])}\n",
      "{67044953830: tensor([1, 2, 3, 4, 5])}\n",
      "{38043951741: tensor([1, 2, 3, 4, 5])}\n",
      "{13711415194: tensor([1, 2, 3, 4, 5])}\n",
      "{97733692471: tensor([1, 2, 3, 4, 5])}\n",
      "{25500173739: tensor([1, 2, 3, 4, 5])}\n",
      "{87154312802: tensor([1, 2, 3, 4, 5])}\n",
      "{62463777645: tensor([1, 2, 3, 4, 5])}\n",
      "{86249239576: tensor([1, 2, 3, 4, 5])}\n",
      "{29763479090: tensor([1, 2, 3, 4, 5])}\n",
      "{51497226185: tensor([1, 2, 3, 4, 5])}\n",
      "{7625696356: tensor([1, 2, 3, 4, 5])}\n",
      "{37938548716: tensor([1, 2, 3, 4, 5])}\n",
      "{70735807249: tensor([1, 2, 3, 4, 5])}\n",
      "{22543911883: tensor([1, 2, 3, 4, 5])}\n",
      "{74445852325: tensor([1, 2, 3, 4, 5])}\n",
      "{27333732306: tensor([1, 2, 3, 4, 5])}\n",
      "{49445579883: tensor([1, 2, 3, 4, 5])}\n",
      "{43914813718: tensor([1, 2, 3, 4, 5])}\n",
      "{75110179927: tensor([1, 2, 3, 4, 5])}\n",
      "{60122554444: tensor([1, 2, 3, 4, 5])}\n",
      "{98784798895: tensor([1, 2, 3, 4, 5])}\n",
      "{62669885830: tensor([1, 2, 3, 4, 5])}\n",
      "{43232996279: tensor([1, 2, 3, 4, 5])}\n",
      "{59218052440: tensor([1, 2, 3, 4, 5])}\n",
      "{18889594928: tensor([1, 2, 3, 4, 5])}\n",
      "{87216587918: tensor([1, 2, 3, 4, 5])}\n",
      "{85906985160: tensor([1, 2, 3, 4, 5])}\n",
      "{38248562533: tensor([1, 2, 3, 4, 5])}\n",
      "{43367940713: tensor([1, 2, 3, 4, 5])}\n",
      "{87188712518: tensor([1, 2, 3, 4, 5])}\n",
      "{24458470642: tensor([1, 2, 3, 4, 5])}\n",
      "{67581952596: tensor([1, 2, 3, 4, 5])}\n",
      "{43654938073: tensor([1, 2, 3, 4, 5])}\n",
      "{16005078064: tensor([1, 2, 3, 4, 5])}\n",
      "{62962323866: tensor([1, 2, 3, 4, 5])}\n",
      "{93801623845: tensor([1, 2, 3, 4, 5])}\n",
      "{88499088796: tensor([1, 2, 3, 4, 5])}\n",
      "{83623777422: tensor([1, 2, 3, 4, 5])}\n",
      "{92314587549: tensor([1, 2, 3, 4, 5])}\n",
      "{14505267009: tensor([1, 2, 3, 4, 5])}\n",
      "{88751242954: tensor([1, 2, 3, 4, 5])}\n",
      "{56040307347: tensor([1, 2, 3, 4, 5])}\n",
      "{80819622639: tensor([1, 2, 3, 4, 5])}\n",
      "{61043633461: tensor([1, 2, 3, 4, 5])}\n",
      "{73993242516: tensor([1, 2, 3, 4, 5])}\n",
      "{72604699252: tensor([1, 2, 3, 4, 5])}\n",
      "{64123548237: tensor([1, 2, 3, 4, 5])}\n",
      "{25861459746: tensor([1, 2, 3, 4, 5])}\n",
      "{13263197996: tensor([1, 2, 3, 4, 5])}\n",
      "{42999333602: tensor([1, 2, 3, 4, 5])}\n",
      "{59268556421: tensor([1, 2, 3, 4, 5])}\n",
      "{1720818355: tensor([1, 2, 3, 4, 5])}\n",
      "{21972338696: tensor([1, 2, 3, 4, 5])}\n",
      "{82569474610: tensor([1, 2, 3, 4, 5])}\n",
      "{28521331071: tensor([1, 2, 3, 4, 5])}\n",
      "{66190998155: tensor([1, 2, 3, 4, 5])}\n",
      "{37667012026: tensor([1, 2, 3, 4, 5])}\n",
      "{5073196722: tensor([1, 2, 3, 4, 5])}\n",
      "{17110015342: tensor([1, 2, 3, 4, 5])}\n",
      "{82422101732: tensor([1, 2, 3, 4, 5])}\n",
      "{13570718316: tensor([1, 2, 3, 4, 5])}\n",
      "{29806015941: tensor([1, 2, 3, 4, 5])}\n",
      "{75916123942: tensor([1, 2, 3, 4, 5])}\n",
      "{41045762654: tensor([1, 2, 3, 4, 5])}\n",
      "{57377929698: tensor([1, 2, 3, 4, 5])}\n",
      "{19062344256: tensor([1, 2, 3, 4, 5])}\n",
      "{9640253077: tensor([1, 2, 3, 4, 5])}\n",
      "{18757266557: tensor([1, 2, 3, 4, 5])}\n"
     ]
    }
   ],
   "source": [
    "for i in range(1000):\n",
    "    x = th.tensor([1,2,3,4,5]).send(bob)\n",
    "    print(bob._objects)\n",
    "    if i%200==0:\n",
    "        x = \"x updated myself!\"\n",
    "        print(str(i)+ \" : \"+ x)\n",
    "        print(bob._objects)"
   ]
  },
  {
   "cell_type": "code",
   "execution_count": 255,
   "metadata": {},
   "outputs": [
    {
     "data": {
      "text/plain": [
       "{18757266557: tensor([1, 2, 3, 4, 5])}"
      ]
     },
     "execution_count": 255,
     "metadata": {},
     "output_type": "execute_result"
    }
   ],
   "source": [
    "bob._objects"
   ]
  },
  {
   "cell_type": "code",
   "execution_count": 203,
   "metadata": {},
   "outputs": [],
   "source": [
    "x = th.tensor([1,2,3,4,5]).send(bob)\n",
    "y = th.tensor([1,1,1,1,1])"
   ]
  },
  {
   "cell_type": "code",
   "execution_count": 204,
   "metadata": {},
   "outputs": [
    {
     "data": {
      "text/plain": [
       "(Wrapper)>[PointerTensor | me:54018817236 -> bob:52219483468]"
      ]
     },
     "execution_count": 204,
     "metadata": {},
     "output_type": "execute_result"
    }
   ],
   "source": [
    "x"
   ]
  },
  {
   "cell_type": "code",
   "execution_count": 205,
   "metadata": {},
   "outputs": [
    {
     "data": {
      "text/plain": [
       "tensor([1, 1, 1, 1, 1])"
      ]
     },
     "execution_count": 205,
     "metadata": {},
     "output_type": "execute_result"
    }
   ],
   "source": [
    "y"
   ]
  },
  {
   "cell_type": "code",
   "execution_count": 206,
   "metadata": {},
   "outputs": [
    {
     "ename": "TensorsNotCollocatedException",
     "evalue": "You tried to call a method involving two tensors where one tensor is actually locatedon another machine (is a PointerTensor). Call .get() on the PointerTensor or .send(bob) on the other tensor.\n\nTensor A: [PointerTensor | me:54018817236 -> bob:52219483468]\nTensor B: tensor([1, 1, 1, 1, 1])",
     "output_type": "error",
     "traceback": [
      "\u001b[0;31m---------------------------------------------------------------------------\u001b[0m",
      "\u001b[0;31mPureTorchTensorFoundError\u001b[0m                 Traceback (most recent call last)",
      "\u001b[0;32m/miniconda3/envs/pri/lib/python3.7/site-packages/syft/frameworks/torch/hook/hook.py\u001b[0m in \u001b[0;36moverloaded_native_method\u001b[0;34m(self, *args, **kwargs)\u001b[0m\n\u001b[1;32m    665\u001b[0m                     new_self, new_args, new_kwargs = syft.frameworks.torch.hook_args.hook_method_args(\n\u001b[0;32m--> 666\u001b[0;31m                         \u001b[0mmethod_name\u001b[0m\u001b[0;34m,\u001b[0m \u001b[0mself\u001b[0m\u001b[0;34m,\u001b[0m \u001b[0margs\u001b[0m\u001b[0;34m,\u001b[0m \u001b[0mkwargs\u001b[0m\u001b[0;34m\u001b[0m\u001b[0;34m\u001b[0m\u001b[0m\n\u001b[0m\u001b[1;32m    667\u001b[0m                     )\n",
      "\u001b[0;32m/miniconda3/envs/pri/lib/python3.7/site-packages/syft/frameworks/torch/hook/hook_args.py\u001b[0m in \u001b[0;36mhook_method_args\u001b[0;34m(attr, method_self, args, kwargs)\u001b[0m\n\u001b[1;32m    121\u001b[0m         \u001b[0;31m# Try running it\u001b[0m\u001b[0;34m\u001b[0m\u001b[0;34m\u001b[0m\u001b[0;34m\u001b[0m\u001b[0m\n\u001b[0;32m--> 122\u001b[0;31m         \u001b[0mnew_self\u001b[0m\u001b[0;34m,\u001b[0m \u001b[0mnew_args\u001b[0m \u001b[0;34m=\u001b[0m \u001b[0mhook_args\u001b[0m\u001b[0;34m(\u001b[0m\u001b[0;34m(\u001b[0m\u001b[0mmethod_self\u001b[0m\u001b[0;34m,\u001b[0m \u001b[0margs\u001b[0m\u001b[0;34m)\u001b[0m\u001b[0;34m)\u001b[0m\u001b[0;34m\u001b[0m\u001b[0;34m\u001b[0m\u001b[0m\n\u001b[0m\u001b[1;32m    123\u001b[0m \u001b[0;34m\u001b[0m\u001b[0m\n",
      "\u001b[0;32m/miniconda3/envs/pri/lib/python3.7/site-packages/syft/frameworks/torch/hook/hook_args.py\u001b[0m in \u001b[0;36m<lambda>\u001b[0;34m(x)\u001b[0m\n\u001b[1;32m    350\u001b[0m \u001b[0;34m\u001b[0m\u001b[0m\n\u001b[0;32m--> 351\u001b[0;31m     \u001b[0;32mreturn\u001b[0m \u001b[0;32mlambda\u001b[0m \u001b[0mx\u001b[0m\u001b[0;34m:\u001b[0m \u001b[0mf\u001b[0m\u001b[0;34m(\u001b[0m\u001b[0mlambdas\u001b[0m\u001b[0;34m,\u001b[0m \u001b[0mx\u001b[0m\u001b[0;34m)\u001b[0m\u001b[0;34m\u001b[0m\u001b[0;34m\u001b[0m\u001b[0m\n\u001b[0m\u001b[1;32m    352\u001b[0m \u001b[0;34m\u001b[0m\u001b[0m\n",
      "\u001b[0;32m/miniconda3/envs/pri/lib/python3.7/site-packages/syft/frameworks/torch/hook/hook_args.py\u001b[0m in \u001b[0;36mtwo_fold\u001b[0;34m(lambdas, args, **kwargs)\u001b[0m\n\u001b[1;32m    515\u001b[0m \u001b[0;32mdef\u001b[0m \u001b[0mtwo_fold\u001b[0m\u001b[0;34m(\u001b[0m\u001b[0mlambdas\u001b[0m\u001b[0;34m,\u001b[0m \u001b[0margs\u001b[0m\u001b[0;34m,\u001b[0m \u001b[0;34m**\u001b[0m\u001b[0mkwargs\u001b[0m\u001b[0;34m)\u001b[0m\u001b[0;34m:\u001b[0m\u001b[0;34m\u001b[0m\u001b[0;34m\u001b[0m\u001b[0m\n\u001b[0;32m--> 516\u001b[0;31m     \u001b[0;32mreturn\u001b[0m \u001b[0mlambdas\u001b[0m\u001b[0;34m[\u001b[0m\u001b[0;36m0\u001b[0m\u001b[0;34m]\u001b[0m\u001b[0;34m(\u001b[0m\u001b[0margs\u001b[0m\u001b[0;34m[\u001b[0m\u001b[0;36m0\u001b[0m\u001b[0;34m]\u001b[0m\u001b[0;34m,\u001b[0m \u001b[0;34m**\u001b[0m\u001b[0mkwargs\u001b[0m\u001b[0;34m)\u001b[0m\u001b[0;34m,\u001b[0m \u001b[0mlambdas\u001b[0m\u001b[0;34m[\u001b[0m\u001b[0;36m1\u001b[0m\u001b[0;34m]\u001b[0m\u001b[0;34m(\u001b[0m\u001b[0margs\u001b[0m\u001b[0;34m[\u001b[0m\u001b[0;36m1\u001b[0m\u001b[0;34m]\u001b[0m\u001b[0;34m,\u001b[0m \u001b[0;34m**\u001b[0m\u001b[0mkwargs\u001b[0m\u001b[0;34m)\u001b[0m\u001b[0;34m\u001b[0m\u001b[0;34m\u001b[0m\u001b[0m\n\u001b[0m\u001b[1;32m    517\u001b[0m \u001b[0;34m\u001b[0m\u001b[0m\n",
      "\u001b[0;32m/miniconda3/envs/pri/lib/python3.7/site-packages/syft/frameworks/torch/hook/hook_args.py\u001b[0m in \u001b[0;36m<lambda>\u001b[0;34m(x)\u001b[0m\n\u001b[1;32m    350\u001b[0m \u001b[0;34m\u001b[0m\u001b[0m\n\u001b[0;32m--> 351\u001b[0;31m     \u001b[0;32mreturn\u001b[0m \u001b[0;32mlambda\u001b[0m \u001b[0mx\u001b[0m\u001b[0;34m:\u001b[0m \u001b[0mf\u001b[0m\u001b[0;34m(\u001b[0m\u001b[0mlambdas\u001b[0m\u001b[0;34m,\u001b[0m \u001b[0mx\u001b[0m\u001b[0;34m)\u001b[0m\u001b[0;34m\u001b[0m\u001b[0;34m\u001b[0m\u001b[0m\n\u001b[0m\u001b[1;32m    352\u001b[0m \u001b[0;34m\u001b[0m\u001b[0m\n",
      "\u001b[0;32m/miniconda3/envs/pri/lib/python3.7/site-packages/syft/frameworks/torch/hook/hook_args.py\u001b[0m in \u001b[0;36mtuple_one_fold\u001b[0;34m(lambdas, args)\u001b[0m\n\u001b[1;32m    509\u001b[0m     \u001b[0;32mdef\u001b[0m \u001b[0mtuple_one_fold\u001b[0m\u001b[0;34m(\u001b[0m\u001b[0mlambdas\u001b[0m\u001b[0;34m,\u001b[0m \u001b[0margs\u001b[0m\u001b[0;34m)\u001b[0m\u001b[0;34m:\u001b[0m\u001b[0;34m\u001b[0m\u001b[0;34m\u001b[0m\u001b[0m\n\u001b[0;32m--> 510\u001b[0;31m         \u001b[0;32mreturn\u001b[0m \u001b[0;34m(\u001b[0m\u001b[0mlambdas\u001b[0m\u001b[0;34m[\u001b[0m\u001b[0;36m0\u001b[0m\u001b[0;34m]\u001b[0m\u001b[0;34m(\u001b[0m\u001b[0margs\u001b[0m\u001b[0;34m[\u001b[0m\u001b[0;36m0\u001b[0m\u001b[0;34m]\u001b[0m\u001b[0;34m,\u001b[0m \u001b[0;34m**\u001b[0m\u001b[0mkwargs\u001b[0m\u001b[0;34m)\u001b[0m\u001b[0;34m,\u001b[0m\u001b[0;34m)\u001b[0m\u001b[0;34m\u001b[0m\u001b[0;34m\u001b[0m\u001b[0m\n\u001b[0m\u001b[1;32m    511\u001b[0m \u001b[0;34m\u001b[0m\u001b[0m\n",
      "\u001b[0;32m/miniconda3/envs/pri/lib/python3.7/site-packages/syft/frameworks/torch/hook/hook_args.py\u001b[0m in \u001b[0;36m<lambda>\u001b[0;34m(i)\u001b[0m\n\u001b[1;32m    328\u001b[0m         \u001b[0;31m# Last if not, rule is probably == 1 so use type to return the right transformation.\u001b[0m\u001b[0;34m\u001b[0m\u001b[0;34m\u001b[0m\u001b[0;34m\u001b[0m\u001b[0m\n\u001b[0;32m--> 329\u001b[0;31m         \u001b[0;32melse\u001b[0m \u001b[0;32mlambda\u001b[0m \u001b[0mi\u001b[0m\u001b[0;34m:\u001b[0m \u001b[0mforward_func\u001b[0m\u001b[0;34m[\u001b[0m\u001b[0mtype\u001b[0m\u001b[0;34m(\u001b[0m\u001b[0mi\u001b[0m\u001b[0;34m)\u001b[0m\u001b[0;34m]\u001b[0m\u001b[0;34m(\u001b[0m\u001b[0mi\u001b[0m\u001b[0;34m)\u001b[0m\u001b[0;34m\u001b[0m\u001b[0;34m\u001b[0m\u001b[0m\n\u001b[0m\u001b[1;32m    330\u001b[0m         \u001b[0;32mfor\u001b[0m \u001b[0ma\u001b[0m\u001b[0;34m,\u001b[0m \u001b[0mr\u001b[0m \u001b[0;32min\u001b[0m \u001b[0mzip\u001b[0m\u001b[0;34m(\u001b[0m\u001b[0margs\u001b[0m\u001b[0;34m,\u001b[0m \u001b[0mrules\u001b[0m\u001b[0;34m)\u001b[0m  \u001b[0;31m# And do this for all the args / rules provided\u001b[0m\u001b[0;34m\u001b[0m\u001b[0;34m\u001b[0m\u001b[0m\n",
      "\u001b[0;32m/miniconda3/envs/pri/lib/python3.7/site-packages/syft/frameworks/torch/hook/hook_args.py\u001b[0m in \u001b[0;36m<lambda>\u001b[0;34m(i)\u001b[0m\n\u001b[1;32m     55\u001b[0m     \u001b[0;32mif\u001b[0m \u001b[0mhasattr\u001b[0m\u001b[0;34m(\u001b[0m\u001b[0mi\u001b[0m\u001b[0;34m,\u001b[0m \u001b[0;34m\"child\"\u001b[0m\u001b[0;34m)\u001b[0m\u001b[0;34m\u001b[0m\u001b[0;34m\u001b[0m\u001b[0m\n\u001b[0;32m---> 56\u001b[0;31m     \u001b[0;32melse\u001b[0m \u001b[0;34m(\u001b[0m\u001b[0m_\u001b[0m \u001b[0;32mfor\u001b[0m \u001b[0m_\u001b[0m \u001b[0;32min\u001b[0m \u001b[0;34m(\u001b[0m\u001b[0;34m)\u001b[0m\u001b[0;34m)\u001b[0m\u001b[0;34m.\u001b[0m\u001b[0mthrow\u001b[0m\u001b[0;34m(\u001b[0m\u001b[0mPureTorchTensorFoundError\u001b[0m\u001b[0;34m)\u001b[0m\u001b[0;34m,\u001b[0m\u001b[0;34m\u001b[0m\u001b[0;34m\u001b[0m\u001b[0m\n\u001b[0m\u001b[1;32m     57\u001b[0m     \u001b[0mtorch\u001b[0m\u001b[0;34m.\u001b[0m\u001b[0mnn\u001b[0m\u001b[0;34m.\u001b[0m\u001b[0mParameter\u001b[0m\u001b[0;34m:\u001b[0m \u001b[0;32mlambda\u001b[0m \u001b[0mi\u001b[0m\u001b[0;34m:\u001b[0m \u001b[0mi\u001b[0m\u001b[0;34m.\u001b[0m\u001b[0mchild\u001b[0m\u001b[0;34m\u001b[0m\u001b[0;34m\u001b[0m\u001b[0m\n",
      "\u001b[0;32m/miniconda3/envs/pri/lib/python3.7/site-packages/syft/frameworks/torch/hook/hook_args.py\u001b[0m in \u001b[0;36m<genexpr>\u001b[0;34m(.0)\u001b[0m\n\u001b[1;32m     55\u001b[0m     \u001b[0;32mif\u001b[0m \u001b[0mhasattr\u001b[0m\u001b[0;34m(\u001b[0m\u001b[0mi\u001b[0m\u001b[0;34m,\u001b[0m \u001b[0;34m\"child\"\u001b[0m\u001b[0;34m)\u001b[0m\u001b[0;34m\u001b[0m\u001b[0;34m\u001b[0m\u001b[0m\n\u001b[0;32m---> 56\u001b[0;31m     \u001b[0;32melse\u001b[0m \u001b[0;34m(\u001b[0m\u001b[0m_\u001b[0m \u001b[0;32mfor\u001b[0m \u001b[0m_\u001b[0m \u001b[0;32min\u001b[0m \u001b[0;34m(\u001b[0m\u001b[0;34m)\u001b[0m\u001b[0;34m)\u001b[0m\u001b[0;34m.\u001b[0m\u001b[0mthrow\u001b[0m\u001b[0;34m(\u001b[0m\u001b[0mPureTorchTensorFoundError\u001b[0m\u001b[0;34m)\u001b[0m\u001b[0;34m,\u001b[0m\u001b[0;34m\u001b[0m\u001b[0;34m\u001b[0m\u001b[0m\n\u001b[0m\u001b[1;32m     57\u001b[0m     \u001b[0mtorch\u001b[0m\u001b[0;34m.\u001b[0m\u001b[0mnn\u001b[0m\u001b[0;34m.\u001b[0m\u001b[0mParameter\u001b[0m\u001b[0;34m:\u001b[0m \u001b[0;32mlambda\u001b[0m \u001b[0mi\u001b[0m\u001b[0;34m:\u001b[0m \u001b[0mi\u001b[0m\u001b[0;34m.\u001b[0m\u001b[0mchild\u001b[0m\u001b[0;34m\u001b[0m\u001b[0;34m\u001b[0m\u001b[0m\n",
      "\u001b[0;31mPureTorchTensorFoundError\u001b[0m: ",
      "\nDuring handling of the above exception, another exception occurred:\n",
      "\u001b[0;31mTensorsNotCollocatedException\u001b[0m             Traceback (most recent call last)",
      "\u001b[0;32m<ipython-input-206-8c8f78e0676d>\u001b[0m in \u001b[0;36m<module>\u001b[0;34m\u001b[0m\n\u001b[0;32m----> 1\u001b[0;31m \u001b[0mz\u001b[0m \u001b[0;34m=\u001b[0m \u001b[0mx\u001b[0m \u001b[0;34m+\u001b[0m \u001b[0my\u001b[0m\u001b[0;34m\u001b[0m\u001b[0;34m\u001b[0m\u001b[0m\n\u001b[0m",
      "\u001b[0;32m/miniconda3/envs/pri/lib/python3.7/site-packages/syft/frameworks/torch/hook/hook.py\u001b[0m in \u001b[0;36moverloaded_native_method\u001b[0;34m(self, *args, **kwargs)\u001b[0m\n\u001b[1;32m    668\u001b[0m                 \u001b[0;32mexcept\u001b[0m \u001b[0mBaseException\u001b[0m \u001b[0;32mas\u001b[0m \u001b[0me\u001b[0m\u001b[0;34m:\u001b[0m\u001b[0;34m\u001b[0m\u001b[0;34m\u001b[0m\u001b[0m\n\u001b[1;32m    669\u001b[0m                     \u001b[0;31m# we can make some errors more descriptive with this method\u001b[0m\u001b[0;34m\u001b[0m\u001b[0;34m\u001b[0m\u001b[0;34m\u001b[0m\u001b[0m\n\u001b[0;32m--> 670\u001b[0;31m                     \u001b[0;32mraise\u001b[0m \u001b[0mroute_method_exception\u001b[0m\u001b[0;34m(\u001b[0m\u001b[0me\u001b[0m\u001b[0;34m,\u001b[0m \u001b[0mself\u001b[0m\u001b[0;34m,\u001b[0m \u001b[0margs\u001b[0m\u001b[0;34m,\u001b[0m \u001b[0mkwargs\u001b[0m\u001b[0;34m)\u001b[0m\u001b[0;34m\u001b[0m\u001b[0;34m\u001b[0m\u001b[0m\n\u001b[0m\u001b[1;32m    671\u001b[0m \u001b[0;34m\u001b[0m\u001b[0m\n\u001b[1;32m    672\u001b[0m                 \u001b[0;31m# Send the new command to the appropriate class and get the response\u001b[0m\u001b[0;34m\u001b[0m\u001b[0;34m\u001b[0m\u001b[0;34m\u001b[0m\u001b[0m\n",
      "\u001b[0;31mTensorsNotCollocatedException\u001b[0m: You tried to call a method involving two tensors where one tensor is actually locatedon another machine (is a PointerTensor). Call .get() on the PointerTensor or .send(bob) on the other tensor.\n\nTensor A: [PointerTensor | me:54018817236 -> bob:52219483468]\nTensor B: tensor([1, 1, 1, 1, 1])"
     ]
    }
   ],
   "source": [
    "z = x + y"
   ]
  },
  {
   "cell_type": "code",
   "execution_count": 207,
   "metadata": {},
   "outputs": [],
   "source": [
    "x = th.tensor([1,2,3,4,5]).send(bob)\n",
    "y = th.tensor([1,1,1,1,1]).send(alice)"
   ]
  },
  {
   "cell_type": "code",
   "execution_count": 208,
   "metadata": {},
   "outputs": [
    {
     "data": {
      "text/plain": [
       "(Wrapper)>[PointerTensor | me:40517550412 -> bob:33584040525]"
      ]
     },
     "execution_count": 208,
     "metadata": {},
     "output_type": "execute_result"
    }
   ],
   "source": [
    "x"
   ]
  },
  {
   "cell_type": "code",
   "execution_count": 209,
   "metadata": {},
   "outputs": [
    {
     "data": {
      "text/plain": [
       "(Wrapper)>[PointerTensor | me:52901748157 -> alice:26162460310]"
      ]
     },
     "execution_count": 209,
     "metadata": {},
     "output_type": "execute_result"
    }
   ],
   "source": [
    "y"
   ]
  },
  {
   "cell_type": "code",
   "execution_count": 199,
   "metadata": {},
   "outputs": [
    {
     "ename": "TensorsNotCollocatedException",
     "evalue": "You tried to call __add__ involving two tensors which are not on the same machine! One tensor is on <VirtualWorker id:bob #objects:2> while the other is on <VirtualWorker id:alice #objects:2>. Use a combination of .move(), .get(), and/or .send() to co-locate them to the same machine.",
     "output_type": "error",
     "traceback": [
      "\u001b[0;31m---------------------------------------------------------------------------\u001b[0m",
      "\u001b[0;31mTensorsNotCollocatedException\u001b[0m             Traceback (most recent call last)",
      "\u001b[0;32m<ipython-input-199-8c8f78e0676d>\u001b[0m in \u001b[0;36m<module>\u001b[0;34m\u001b[0m\n\u001b[0;32m----> 1\u001b[0;31m \u001b[0mz\u001b[0m \u001b[0;34m=\u001b[0m \u001b[0mx\u001b[0m \u001b[0;34m+\u001b[0m \u001b[0my\u001b[0m\u001b[0;34m\u001b[0m\u001b[0;34m\u001b[0m\u001b[0m\n\u001b[0m",
      "\u001b[0;32m/miniconda3/envs/pri/lib/python3.7/site-packages/syft/frameworks/torch/hook/hook.py\u001b[0m in \u001b[0;36moverloaded_native_method\u001b[0;34m(self, *args, **kwargs)\u001b[0m\n\u001b[1;32m    672\u001b[0m                 \u001b[0;31m# Send the new command to the appropriate class and get the response\u001b[0m\u001b[0;34m\u001b[0m\u001b[0;34m\u001b[0m\u001b[0;34m\u001b[0m\u001b[0m\n\u001b[1;32m    673\u001b[0m                 \u001b[0mmethod\u001b[0m \u001b[0;34m=\u001b[0m \u001b[0mgetattr\u001b[0m\u001b[0;34m(\u001b[0m\u001b[0mnew_self\u001b[0m\u001b[0;34m,\u001b[0m \u001b[0mmethod_name\u001b[0m\u001b[0;34m)\u001b[0m\u001b[0;34m\u001b[0m\u001b[0;34m\u001b[0m\u001b[0m\n\u001b[0;32m--> 674\u001b[0;31m                 \u001b[0mresponse\u001b[0m \u001b[0;34m=\u001b[0m \u001b[0mmethod\u001b[0m\u001b[0;34m(\u001b[0m\u001b[0;34m*\u001b[0m\u001b[0mnew_args\u001b[0m\u001b[0;34m,\u001b[0m \u001b[0;34m**\u001b[0m\u001b[0mnew_kwargs\u001b[0m\u001b[0;34m)\u001b[0m\u001b[0;34m\u001b[0m\u001b[0;34m\u001b[0m\u001b[0m\n\u001b[0m\u001b[1;32m    675\u001b[0m \u001b[0;34m\u001b[0m\u001b[0m\n\u001b[1;32m    676\u001b[0m                 \u001b[0;31m# For inplace methods, just directly return self\u001b[0m\u001b[0;34m\u001b[0m\u001b[0;34m\u001b[0m\u001b[0;34m\u001b[0m\u001b[0m\n",
      "\u001b[0;32m/miniconda3/envs/pri/lib/python3.7/site-packages/syft/frameworks/torch/hook/hook.py\u001b[0m in \u001b[0;36moverloaded_pointer_method\u001b[0;34m(self, *args, **kwargs)\u001b[0m\n\u001b[1;32m    503\u001b[0m                 \u001b[0;32mif\u001b[0m \u001b[0misinstance\u001b[0m\u001b[0;34m(\u001b[0m\u001b[0margs\u001b[0m\u001b[0;34m[\u001b[0m\u001b[0;36m0\u001b[0m\u001b[0;34m]\u001b[0m\u001b[0;34m,\u001b[0m \u001b[0mPointerTensor\u001b[0m\u001b[0;34m)\u001b[0m\u001b[0;34m:\u001b[0m\u001b[0;34m\u001b[0m\u001b[0;34m\u001b[0m\u001b[0m\n\u001b[1;32m    504\u001b[0m                     \u001b[0;32mif\u001b[0m \u001b[0margs\u001b[0m\u001b[0;34m[\u001b[0m\u001b[0;36m0\u001b[0m\u001b[0;34m]\u001b[0m\u001b[0;34m.\u001b[0m\u001b[0mlocation\u001b[0m\u001b[0;34m.\u001b[0m\u001b[0mid\u001b[0m \u001b[0;34m!=\u001b[0m \u001b[0mlocation\u001b[0m\u001b[0;34m.\u001b[0m\u001b[0mid\u001b[0m\u001b[0;34m:\u001b[0m\u001b[0;34m\u001b[0m\u001b[0;34m\u001b[0m\u001b[0m\n\u001b[0;32m--> 505\u001b[0;31m                         \u001b[0;32mraise\u001b[0m \u001b[0mTensorsNotCollocatedException\u001b[0m\u001b[0;34m(\u001b[0m\u001b[0mpointer\u001b[0m\u001b[0;34m,\u001b[0m \u001b[0margs\u001b[0m\u001b[0;34m[\u001b[0m\u001b[0;36m0\u001b[0m\u001b[0;34m]\u001b[0m\u001b[0;34m,\u001b[0m \u001b[0mattr\u001b[0m\u001b[0;34m)\u001b[0m\u001b[0;34m\u001b[0m\u001b[0;34m\u001b[0m\u001b[0m\n\u001b[0m\u001b[1;32m    506\u001b[0m \u001b[0;34m\u001b[0m\u001b[0m\n\u001b[1;32m    507\u001b[0m             \u001b[0;31m# Send the command\u001b[0m\u001b[0;34m\u001b[0m\u001b[0;34m\u001b[0m\u001b[0;34m\u001b[0m\u001b[0m\n",
      "\u001b[0;31mTensorsNotCollocatedException\u001b[0m: You tried to call __add__ involving two tensors which are not on the same machine! One tensor is on <VirtualWorker id:bob #objects:2> while the other is on <VirtualWorker id:alice #objects:2>. Use a combination of .move(), .get(), and/or .send() to co-locate them to the same machine."
     ]
    }
   ],
   "source": [
    "z = x + y"
   ]
  },
  {
   "cell_type": "code",
   "execution_count": null,
   "metadata": {},
   "outputs": [],
   "source": []
  },
  {
   "cell_type": "markdown",
   "metadata": {},
   "source": [
    "# Lesson: Toy Federated Learning\n",
    "\n",
    "Let's start by training a toy model the centralized way. This is about a simple as models get. We first need:\n",
    "\n",
    "- a toy dataset\n",
    "- a model\n",
    "- some basic training logic for training a model to fit the data."
   ]
  },
  {
   "cell_type": "code",
   "execution_count": 4,
   "metadata": {},
   "outputs": [],
   "source": [
    "from torch import nn, optim\n",
    "import torch as th\n",
    "import syft as sy"
   ]
  },
  {
   "cell_type": "code",
   "execution_count": 11,
   "metadata": {},
   "outputs": [],
   "source": [
    "hook = sy.TorchHook(th)"
   ]
  },
  {
   "cell_type": "code",
   "execution_count": 12,
   "metadata": {},
   "outputs": [],
   "source": [
    "bob = sy.VirtualWorker(hook, id=\"bob\")\n",
    "alice = sy.VirtualWorker(hook, id=\"alice\")"
   ]
  },
  {
   "cell_type": "code",
   "execution_count": 5,
   "metadata": {},
   "outputs": [],
   "source": [
    "# A Toy Dataset\n",
    "data = th.tensor([[1.,1],[0,1],[1,0],[0,0]], requires_grad=True)\n",
    "target = th.tensor([[1.],[1], [0], [0]], requires_grad=True)"
   ]
  },
  {
   "cell_type": "code",
   "execution_count": 6,
   "metadata": {},
   "outputs": [],
   "source": [
    "# A Toy Model\n",
    "model = nn.Linear(2,1)"
   ]
  },
  {
   "cell_type": "code",
   "execution_count": 7,
   "metadata": {},
   "outputs": [],
   "source": [
    "opt = optim.SGD(params=model.parameters(), lr=0.1)"
   ]
  },
  {
   "cell_type": "code",
   "execution_count": 9,
   "metadata": {},
   "outputs": [
    {
     "name": "stdout",
     "output_type": "stream",
     "text": [
      "tensor(0.0020)\n",
      "tensor(0.0015)\n",
      "tensor(0.0012)\n",
      "tensor(0.0009)\n",
      "tensor(0.0007)\n",
      "tensor(0.0005)\n",
      "tensor(0.0004)\n",
      "tensor(0.0003)\n",
      "tensor(0.0002)\n",
      "tensor(0.0002)\n",
      "tensor(0.0001)\n",
      "tensor(0.0001)\n",
      "tensor(7.8590e-05)\n",
      "tensor(6.0075e-05)\n",
      "tensor(4.5924e-05)\n",
      "tensor(3.5108e-05)\n",
      "tensor(2.6841e-05)\n",
      "tensor(2.0521e-05)\n",
      "tensor(1.5689e-05)\n",
      "tensor(1.1996e-05)\n"
     ]
    }
   ],
   "source": [
    "def train(iterations=20):\n",
    "    for iter in range(iterations):\n",
    "        opt.zero_grad()\n",
    "\n",
    "        pred = model(data)\n",
    "\n",
    "        loss = ((pred - target)**2).sum()\n",
    "\n",
    "        loss.backward()\n",
    "\n",
    "        opt.step()\n",
    "\n",
    "        print(loss.data)\n",
    "        \n",
    "train()"
   ]
  },
  {
   "cell_type": "code",
   "execution_count": 13,
   "metadata": {},
   "outputs": [
    {
     "data": {
      "text/plain": [
       "<VirtualWorker id:bob #objects:0>"
      ]
     },
     "execution_count": 13,
     "metadata": {},
     "output_type": "execute_result"
    }
   ],
   "source": [
    "bob"
   ]
  },
  {
   "cell_type": "code",
   "execution_count": 14,
   "metadata": {},
   "outputs": [
    {
     "data": {
      "text/plain": [
       "<VirtualWorker id:alice #objects:0>"
      ]
     },
     "execution_count": 14,
     "metadata": {},
     "output_type": "execute_result"
    }
   ],
   "source": [
    "alice"
   ]
  },
  {
   "cell_type": "code",
   "execution_count": 15,
   "metadata": {},
   "outputs": [],
   "source": [
    "data_bob = data[0:2].send(bob)\n",
    "target_bob = target[0:2].send(bob)"
   ]
  },
  {
   "cell_type": "code",
   "execution_count": 16,
   "metadata": {},
   "outputs": [],
   "source": [
    "data_alice = data[2:4].send(alice)\n",
    "target_alice = target[2:4].send(alice)"
   ]
  },
  {
   "cell_type": "code",
   "execution_count": 17,
   "metadata": {},
   "outputs": [],
   "source": [
    "datasets = [(data_bob, target_bob), (data_alice, target_alice)]"
   ]
  },
  {
   "cell_type": "code",
   "execution_count": 24,
   "metadata": {},
   "outputs": [],
   "source": [
    "def train(iterations=20):\n",
    "\n",
    "    model = nn.Linear(2,1)\n",
    "    opt = optim.SGD(params=model.parameters(), lr=0.1)\n",
    "    \n",
    "    for iter in range(iterations):\n",
    "\n",
    "        for _data, _target in datasets:\n",
    "\n",
    "            # send model to the data\n",
    "            model = model.send(_data.location)\n",
    "            print(iter)\n",
    "            print(_data.location)\n",
    "\n",
    "            # do normal training\n",
    "            opt.zero_grad()\n",
    "            pred = model(_data)\n",
    "            loss = ((pred - _target)**2).sum()\n",
    "            loss.backward()\n",
    "            opt.step()\n",
    "\n",
    "            # get smarter model back\n",
    "            model = model.get()\n",
    "\n",
    "            print(loss.get())"
   ]
  },
  {
   "cell_type": "code",
   "execution_count": 25,
   "metadata": {},
   "outputs": [
    {
     "name": "stdout",
     "output_type": "stream",
     "text": [
      "0\n",
      "<VirtualWorker id:bob #objects:6>\n",
      "tensor(2.0736, requires_grad=True)\n",
      "0\n",
      "<VirtualWorker id:alice #objects:4>\n",
      "tensor(0.0417, requires_grad=True)\n",
      "1\n",
      "<VirtualWorker id:bob #objects:6>\n",
      "tensor(0.0634, requires_grad=True)\n",
      "1\n",
      "<VirtualWorker id:alice #objects:4>\n",
      "tensor(0.0357, requires_grad=True)\n",
      "2\n",
      "<VirtualWorker id:bob #objects:6>\n",
      "tensor(0.0315, requires_grad=True)\n",
      "2\n",
      "<VirtualWorker id:alice #objects:4>\n",
      "tensor(0.0237, requires_grad=True)\n",
      "3\n",
      "<VirtualWorker id:bob #objects:6>\n",
      "tensor(0.0206, requires_grad=True)\n",
      "3\n",
      "<VirtualWorker id:alice #objects:4>\n",
      "tensor(0.0158, requires_grad=True)\n",
      "4\n",
      "<VirtualWorker id:bob #objects:6>\n",
      "tensor(0.0138, requires_grad=True)\n",
      "4\n",
      "<VirtualWorker id:alice #objects:4>\n",
      "tensor(0.0108, requires_grad=True)\n",
      "5\n",
      "<VirtualWorker id:bob #objects:6>\n",
      "tensor(0.0094, requires_grad=True)\n",
      "5\n",
      "<VirtualWorker id:alice #objects:4>\n",
      "tensor(0.0075, requires_grad=True)\n",
      "6\n",
      "<VirtualWorker id:bob #objects:6>\n",
      "tensor(0.0065, requires_grad=True)\n",
      "6\n",
      "<VirtualWorker id:alice #objects:4>\n",
      "tensor(0.0054, requires_grad=True)\n",
      "7\n",
      "<VirtualWorker id:bob #objects:6>\n",
      "tensor(0.0045, requires_grad=True)\n",
      "7\n",
      "<VirtualWorker id:alice #objects:4>\n",
      "tensor(0.0039, requires_grad=True)\n",
      "8\n",
      "<VirtualWorker id:bob #objects:6>\n",
      "tensor(0.0032, requires_grad=True)\n",
      "8\n",
      "<VirtualWorker id:alice #objects:4>\n",
      "tensor(0.0028, requires_grad=True)\n",
      "9\n",
      "<VirtualWorker id:bob #objects:6>\n",
      "tensor(0.0023, requires_grad=True)\n",
      "9\n",
      "<VirtualWorker id:alice #objects:4>\n",
      "tensor(0.0021, requires_grad=True)\n",
      "10\n",
      "<VirtualWorker id:bob #objects:6>\n",
      "tensor(0.0016, requires_grad=True)\n",
      "10\n",
      "<VirtualWorker id:alice #objects:4>\n",
      "tensor(0.0016, requires_grad=True)\n",
      "11\n",
      "<VirtualWorker id:bob #objects:6>\n",
      "tensor(0.0012, requires_grad=True)\n",
      "11\n",
      "<VirtualWorker id:alice #objects:4>\n",
      "tensor(0.0012, requires_grad=True)\n",
      "12\n",
      "<VirtualWorker id:bob #objects:6>\n",
      "tensor(0.0009, requires_grad=True)\n",
      "12\n",
      "<VirtualWorker id:alice #objects:4>\n",
      "tensor(0.0009, requires_grad=True)\n",
      "13\n",
      "<VirtualWorker id:bob #objects:6>\n",
      "tensor(0.0006, requires_grad=True)\n",
      "13\n",
      "<VirtualWorker id:alice #objects:4>\n",
      "tensor(0.0007, requires_grad=True)\n",
      "14\n",
      "<VirtualWorker id:bob #objects:6>\n",
      "tensor(0.0005, requires_grad=True)\n",
      "14\n",
      "<VirtualWorker id:alice #objects:4>\n",
      "tensor(0.0005, requires_grad=True)\n",
      "15\n",
      "<VirtualWorker id:bob #objects:6>\n",
      "tensor(0.0003, requires_grad=True)\n",
      "15\n",
      "<VirtualWorker id:alice #objects:4>\n",
      "tensor(0.0004, requires_grad=True)\n",
      "16\n",
      "<VirtualWorker id:bob #objects:6>\n",
      "tensor(0.0003, requires_grad=True)\n",
      "16\n",
      "<VirtualWorker id:alice #objects:4>\n",
      "tensor(0.0003, requires_grad=True)\n",
      "17\n",
      "<VirtualWorker id:bob #objects:6>\n",
      "tensor(0.0002, requires_grad=True)\n",
      "17\n",
      "<VirtualWorker id:alice #objects:4>\n",
      "tensor(0.0002, requires_grad=True)\n",
      "18\n",
      "<VirtualWorker id:bob #objects:6>\n",
      "tensor(0.0001, requires_grad=True)\n",
      "18\n",
      "<VirtualWorker id:alice #objects:4>\n",
      "tensor(0.0002, requires_grad=True)\n",
      "19\n",
      "<VirtualWorker id:bob #objects:6>\n",
      "tensor(0.0001, requires_grad=True)\n",
      "19\n",
      "<VirtualWorker id:alice #objects:4>\n",
      "tensor(0.0001, requires_grad=True)\n"
     ]
    }
   ],
   "source": [
    "train()"
   ]
  },
  {
   "cell_type": "code",
   "execution_count": null,
   "metadata": {},
   "outputs": [],
   "source": []
  },
  {
   "cell_type": "markdown",
   "metadata": {},
   "source": [
    "# Lesson: Advanced Remote Execution Tools\n",
    "\n",
    "In the last section we trained a toy model using Federated Learning. We did this by calling .send() and .get() on our model, sending it to the location of training data, updating it, and then bringing it back. However, at the end of the example we realized that we needed to go a bit further to protect people privacy. Namely, we want to average the gradients BEFORE calling .get(). That way, we won't ever see anyone's exact gradient (thus better protecting their privacy!!!)\n",
    "\n",
    "But, in order to do this, we need a few more pieces:\n",
    "\n",
    "- use a pointer to send a Tensor directly to another worker\n",
    "\n",
    "And in addition, while we're here, we're going to learn about a few more advanced tensor operations as well which will help us both with this example and a few in the future!"
   ]
  },
  {
   "cell_type": "code",
   "execution_count": 27,
   "metadata": {},
   "outputs": [
    {
     "data": {
      "text/plain": [
       "<VirtualWorker id:bob #objects:0>"
      ]
     },
     "execution_count": 27,
     "metadata": {},
     "output_type": "execute_result"
    }
   ],
   "source": [
    "bob.clear_objects()\n"
   ]
  },
  {
   "cell_type": "code",
   "execution_count": 28,
   "metadata": {},
   "outputs": [
    {
     "data": {
      "text/plain": [
       "<VirtualWorker id:alice #objects:0>"
      ]
     },
     "execution_count": 28,
     "metadata": {},
     "output_type": "execute_result"
    }
   ],
   "source": [
    "alice.clear_objects()"
   ]
  },
  {
   "cell_type": "code",
   "execution_count": 29,
   "metadata": {},
   "outputs": [],
   "source": [
    "x = th.tensor([1,2,3,4,5]).send(bob)"
   ]
  },
  {
   "cell_type": "code",
   "execution_count": 30,
   "metadata": {},
   "outputs": [],
   "source": [
    "x = x.send(alice)"
   ]
  },
  {
   "cell_type": "code",
   "execution_count": 31,
   "metadata": {},
   "outputs": [
    {
     "data": {
      "text/plain": [
       "{2494493128: tensor([1, 2, 3, 4, 5])}"
      ]
     },
     "execution_count": 31,
     "metadata": {},
     "output_type": "execute_result"
    }
   ],
   "source": [
    "bob._objects"
   ]
  },
  {
   "cell_type": "code",
   "execution_count": 32,
   "metadata": {},
   "outputs": [
    {
     "data": {
      "text/plain": [
       "{85416304050: (Wrapper)>[PointerTensor | alice:85416304050 -> bob:2494493128]}"
      ]
     },
     "execution_count": 32,
     "metadata": {},
     "output_type": "execute_result"
    }
   ],
   "source": [
    "alice._objects"
   ]
  },
  {
   "cell_type": "code",
   "execution_count": 33,
   "metadata": {},
   "outputs": [],
   "source": [
    "y = x + x"
   ]
  },
  {
   "cell_type": "code",
   "execution_count": 34,
   "metadata": {},
   "outputs": [
    {
     "data": {
      "text/plain": [
       "(Wrapper)>[PointerTensor | me:77208791303 -> alice:73175927670]"
      ]
     },
     "execution_count": 34,
     "metadata": {},
     "output_type": "execute_result"
    }
   ],
   "source": [
    "y"
   ]
  },
  {
   "cell_type": "code",
   "execution_count": 35,
   "metadata": {},
   "outputs": [
    {
     "data": {
      "text/plain": [
       "{2494493128: tensor([1, 2, 3, 4, 5]),\n",
       " 46526040717: tensor([ 2,  4,  6,  8, 10])}"
      ]
     },
     "execution_count": 35,
     "metadata": {},
     "output_type": "execute_result"
    }
   ],
   "source": [
    "bob._objects"
   ]
  },
  {
   "cell_type": "code",
   "execution_count": 36,
   "metadata": {},
   "outputs": [
    {
     "data": {
      "text/plain": [
       "{85416304050: (Wrapper)>[PointerTensor | alice:85416304050 -> bob:2494493128],\n",
       " 73175927670: (Wrapper)>[PointerTensor | alice:73175927670 -> bob:46526040717]}"
      ]
     },
     "execution_count": 36,
     "metadata": {},
     "output_type": "execute_result"
    }
   ],
   "source": [
    "alice._objects"
   ]
  },
  {
   "cell_type": "code",
   "execution_count": 37,
   "metadata": {},
   "outputs": [],
   "source": [
    "jon = sy.VirtualWorker(hook, id=\"jon\")"
   ]
  },
  {
   "cell_type": "code",
   "execution_count": 38,
   "metadata": {},
   "outputs": [],
   "source": [
    "bob.clear_objects()\n",
    "alice.clear_objects()\n",
    "\n",
    "x = th.tensor([1,2,3,4,5]).send(bob).send(alice)"
   ]
  },
  {
   "cell_type": "code",
   "execution_count": 39,
   "metadata": {},
   "outputs": [
    {
     "data": {
      "text/plain": [
       "{59490013608: tensor([1, 2, 3, 4, 5])}"
      ]
     },
     "execution_count": 39,
     "metadata": {},
     "output_type": "execute_result"
    }
   ],
   "source": [
    "bob._objects"
   ]
  },
  {
   "cell_type": "code",
   "execution_count": 40,
   "metadata": {},
   "outputs": [
    {
     "data": {
      "text/plain": [
       "{97505042588: (Wrapper)>[PointerTensor | alice:97505042588 -> bob:59490013608]}"
      ]
     },
     "execution_count": 40,
     "metadata": {},
     "output_type": "execute_result"
    }
   ],
   "source": [
    "alice._objects"
   ]
  },
  {
   "cell_type": "code",
   "execution_count": 41,
   "metadata": {},
   "outputs": [
    {
     "data": {
      "text/plain": [
       "(Wrapper)>[PointerTensor | me:97505042588 -> bob:59490013608]"
      ]
     },
     "execution_count": 41,
     "metadata": {},
     "output_type": "execute_result"
    }
   ],
   "source": [
    "x = x.get()\n",
    "x"
   ]
  },
  {
   "cell_type": "code",
   "execution_count": 42,
   "metadata": {},
   "outputs": [
    {
     "data": {
      "text/plain": [
       "{59490013608: tensor([1, 2, 3, 4, 5])}"
      ]
     },
     "execution_count": 42,
     "metadata": {},
     "output_type": "execute_result"
    }
   ],
   "source": [
    "bob._objects"
   ]
  },
  {
   "cell_type": "code",
   "execution_count": 43,
   "metadata": {},
   "outputs": [
    {
     "data": {
      "text/plain": [
       "{}"
      ]
     },
     "execution_count": 43,
     "metadata": {},
     "output_type": "execute_result"
    }
   ],
   "source": [
    "alice._objects"
   ]
  },
  {
   "cell_type": "code",
   "execution_count": 44,
   "metadata": {},
   "outputs": [
    {
     "data": {
      "text/plain": [
       "tensor([1, 2, 3, 4, 5])"
      ]
     },
     "execution_count": 44,
     "metadata": {},
     "output_type": "execute_result"
    }
   ],
   "source": [
    "x = x.get()\n",
    "x"
   ]
  },
  {
   "cell_type": "code",
   "execution_count": 45,
   "metadata": {},
   "outputs": [
    {
     "data": {
      "text/plain": [
       "{}"
      ]
     },
     "execution_count": 45,
     "metadata": {},
     "output_type": "execute_result"
    }
   ],
   "source": [
    "bob._objects"
   ]
  },
  {
   "cell_type": "code",
   "execution_count": 46,
   "metadata": {},
   "outputs": [],
   "source": [
    "bob.clear_objects()\n",
    "alice.clear_objects()\n",
    "\n",
    "x = th.tensor([1,2,3,4,5]).send(bob).send(alice)"
   ]
  },
  {
   "cell_type": "code",
   "execution_count": 47,
   "metadata": {},
   "outputs": [
    {
     "data": {
      "text/plain": [
       "{26133374431: tensor([1, 2, 3, 4, 5])}"
      ]
     },
     "execution_count": 47,
     "metadata": {},
     "output_type": "execute_result"
    }
   ],
   "source": [
    "bob._objects"
   ]
  },
  {
   "cell_type": "code",
   "execution_count": 48,
   "metadata": {},
   "outputs": [
    {
     "data": {
      "text/plain": [
       "{89374333351: (Wrapper)>[PointerTensor | alice:89374333351 -> bob:26133374431]}"
      ]
     },
     "execution_count": 48,
     "metadata": {},
     "output_type": "execute_result"
    }
   ],
   "source": [
    "alice._objects"
   ]
  },
  {
   "cell_type": "code",
   "execution_count": 49,
   "metadata": {},
   "outputs": [],
   "source": [
    "del x"
   ]
  },
  {
   "cell_type": "code",
   "execution_count": 50,
   "metadata": {},
   "outputs": [
    {
     "data": {
      "text/plain": [
       "{}"
      ]
     },
     "execution_count": 50,
     "metadata": {},
     "output_type": "execute_result"
    }
   ],
   "source": [
    "bob._objects"
   ]
  },
  {
   "cell_type": "code",
   "execution_count": 51,
   "metadata": {},
   "outputs": [
    {
     "data": {
      "text/plain": [
       "{}"
      ]
     },
     "execution_count": 51,
     "metadata": {},
     "output_type": "execute_result"
    }
   ],
   "source": [
    "alice._objects"
   ]
  },
  {
   "cell_type": "code",
   "execution_count": null,
   "metadata": {},
   "outputs": [],
   "source": []
  },
  {
   "cell_type": "code",
   "execution_count": null,
   "metadata": {},
   "outputs": [],
   "source": []
  },
  {
   "cell_type": "markdown",
   "metadata": {},
   "source": [
    "# Lesson: Pointer Chain Operations"
   ]
  },
  {
   "cell_type": "code",
   "execution_count": 52,
   "metadata": {},
   "outputs": [
    {
     "data": {
      "text/plain": [
       "<VirtualWorker id:alice #objects:0>"
      ]
     },
     "execution_count": 52,
     "metadata": {},
     "output_type": "execute_result"
    }
   ],
   "source": [
    "bob.clear_objects()\n",
    "alice.clear_objects()"
   ]
  },
  {
   "cell_type": "code",
   "execution_count": 53,
   "metadata": {},
   "outputs": [],
   "source": [
    "x = th.tensor([1,2,3,4,5]).send(bob)"
   ]
  },
  {
   "cell_type": "code",
   "execution_count": 54,
   "metadata": {},
   "outputs": [
    {
     "data": {
      "text/plain": [
       "{10960223670: tensor([1, 2, 3, 4, 5])}"
      ]
     },
     "execution_count": 54,
     "metadata": {},
     "output_type": "execute_result"
    }
   ],
   "source": [
    "bob._objects"
   ]
  },
  {
   "cell_type": "code",
   "execution_count": 55,
   "metadata": {},
   "outputs": [
    {
     "data": {
      "text/plain": [
       "{}"
      ]
     },
     "execution_count": 55,
     "metadata": {},
     "output_type": "execute_result"
    }
   ],
   "source": [
    "alice._objects"
   ]
  },
  {
   "cell_type": "code",
   "execution_count": 56,
   "metadata": {},
   "outputs": [
    {
     "data": {
      "text/plain": [
       "(Wrapper)>[PointerTensor | me:72909658614 -> alice:72909658614]"
      ]
     },
     "execution_count": 56,
     "metadata": {},
     "output_type": "execute_result"
    }
   ],
   "source": [
    "x.move(alice)"
   ]
  },
  {
   "cell_type": "code",
   "execution_count": 57,
   "metadata": {},
   "outputs": [
    {
     "data": {
      "text/plain": [
       "{}"
      ]
     },
     "execution_count": 57,
     "metadata": {},
     "output_type": "execute_result"
    }
   ],
   "source": [
    "bob._objects"
   ]
  },
  {
   "cell_type": "code",
   "execution_count": 58,
   "metadata": {},
   "outputs": [
    {
     "data": {
      "text/plain": [
       "{72909658614: tensor([1, 2, 3, 4, 5])}"
      ]
     },
     "execution_count": 58,
     "metadata": {},
     "output_type": "execute_result"
    }
   ],
   "source": [
    "alice._objects"
   ]
  },
  {
   "cell_type": "code",
   "execution_count": null,
   "metadata": {},
   "outputs": [],
   "source": []
  },
  {
   "cell_type": "code",
   "execution_count": 59,
   "metadata": {},
   "outputs": [],
   "source": [
    "x = th.tensor([1,2,3,4,5]).send(bob).send(alice)"
   ]
  },
  {
   "cell_type": "code",
   "execution_count": 60,
   "metadata": {},
   "outputs": [
    {
     "data": {
      "text/plain": [
       "{26965868044: tensor([1, 2, 3, 4, 5])}"
      ]
     },
     "execution_count": 60,
     "metadata": {},
     "output_type": "execute_result"
    }
   ],
   "source": [
    "bob._objects"
   ]
  },
  {
   "cell_type": "code",
   "execution_count": 61,
   "metadata": {},
   "outputs": [
    {
     "data": {
      "text/plain": [
       "{72909658614: tensor([1, 2, 3, 4, 5]),\n",
       " 93772937700: (Wrapper)>[PointerTensor | alice:93772937700 -> bob:26965868044]}"
      ]
     },
     "execution_count": 61,
     "metadata": {},
     "output_type": "execute_result"
    }
   ],
   "source": [
    "alice._objects"
   ]
  },
  {
   "cell_type": "code",
   "execution_count": 62,
   "metadata": {},
   "outputs": [
    {
     "data": {
      "text/plain": [
       "(Wrapper)>[PointerTensor | me:39924195124 -> alice:93772937700]"
      ]
     },
     "execution_count": 62,
     "metadata": {},
     "output_type": "execute_result"
    }
   ],
   "source": [
    "x.remote_get()"
   ]
  },
  {
   "cell_type": "code",
   "execution_count": 63,
   "metadata": {},
   "outputs": [
    {
     "data": {
      "text/plain": [
       "{}"
      ]
     },
     "execution_count": 63,
     "metadata": {},
     "output_type": "execute_result"
    }
   ],
   "source": [
    "bob._objects"
   ]
  },
  {
   "cell_type": "code",
   "execution_count": 64,
   "metadata": {},
   "outputs": [
    {
     "data": {
      "text/plain": [
       "{72909658614: tensor([1, 2, 3, 4, 5]), 93772937700: tensor([1, 2, 3, 4, 5])}"
      ]
     },
     "execution_count": 64,
     "metadata": {},
     "output_type": "execute_result"
    }
   ],
   "source": [
    "alice._objects"
   ]
  },
  {
   "cell_type": "code",
   "execution_count": 65,
   "metadata": {},
   "outputs": [
    {
     "data": {
      "text/plain": [
       "(Wrapper)>[PointerTensor | me:39924195124 -> bob:39924195124]"
      ]
     },
     "execution_count": 65,
     "metadata": {},
     "output_type": "execute_result"
    }
   ],
   "source": [
    "x.move(bob)"
   ]
  },
  {
   "cell_type": "code",
   "execution_count": 66,
   "metadata": {},
   "outputs": [
    {
     "data": {
      "text/plain": [
       "(Wrapper)>[PointerTensor | me:39924195124 -> bob:39924195124]"
      ]
     },
     "execution_count": 66,
     "metadata": {},
     "output_type": "execute_result"
    }
   ],
   "source": [
    "x"
   ]
  },
  {
   "cell_type": "code",
   "execution_count": 67,
   "metadata": {},
   "outputs": [
    {
     "data": {
      "text/plain": [
       "{39924195124: tensor([1, 2, 3, 4, 5])}"
      ]
     },
     "execution_count": 67,
     "metadata": {},
     "output_type": "execute_result"
    }
   ],
   "source": [
    "bob._objects"
   ]
  },
  {
   "cell_type": "code",
   "execution_count": 68,
   "metadata": {},
   "outputs": [
    {
     "data": {
      "text/plain": [
       "{72909658614: tensor([1, 2, 3, 4, 5])}"
      ]
     },
     "execution_count": 68,
     "metadata": {},
     "output_type": "execute_result"
    }
   ],
   "source": [
    "alice._objects\n",
    "\n",
    "# This is a garbage collection issue. \n",
    "# Alice shouldn't have this data"
   ]
  },
  {
   "cell_type": "code",
   "execution_count": null,
   "metadata": {},
   "outputs": [],
   "source": []
  }
 ],
 "metadata": {
  "kernelspec": {
   "display_name": "Python 3",
   "language": "python",
   "name": "python3"
  },
  "language_info": {
   "codemirror_mode": {
    "name": "ipython",
    "version": 3
   },
   "file_extension": ".py",
   "mimetype": "text/x-python",
   "name": "python",
   "nbconvert_exporter": "python",
   "pygments_lexer": "ipython3",
   "version": "3.7.3"
  }
 },
 "nbformat": 4,
 "nbformat_minor": 2
}
