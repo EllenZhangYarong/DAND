{
 "cells": [
  {
   "cell_type": "markdown",
   "metadata": {},
   "source": [
    "# Developing an AI application\n",
    "\n",
    "Going forward, AI algorithms will be incorporated into more and more everyday applications. For example, you might want to include an image classifier in a smart phone app. To do this, you'd use a deep learning model trained on hundreds of thousands of images as part of the overall application architecture. A large part of software development in the future will be using these types of models as common parts of applications. \n",
    "\n",
    "In this project, you'll train an image classifier to recognize different species of flowers. You can imagine using something like this in a phone app that tells you the name of the flower your camera is looking at. In practice you'd train this classifier, then export it for use in your application. We'll be using [this dataset](http://www.robots.ox.ac.uk/~vgg/data/flowers/102/index.html) of 102 flower categories, you can see a few examples below. \n",
    "\n",
    "<img src='assets/Flowers.png' width=500px>\n",
    "\n",
    "The project is broken down into multiple steps:\n",
    "\n",
    "* Load and preprocess the image dataset\n",
    "* Train the image classifier on your dataset\n",
    "* Use the trained classifier to predict image content\n",
    "\n",
    "We'll lead you through each part which you'll implement in Python.\n",
    "\n",
    "When you've completed this project, you'll have an application that can be trained on any set of labeled images. Here your network will be learning about flowers and end up as a command line application. But, what you do with your new skills depends on your imagination and effort in building a dataset. For example, imagine an app where you take a picture of a car, it tells you what the make and model is, then looks up information about it. Go build your own dataset and make something new.\n",
    "\n",
    "First up is importing the packages you'll need. It's good practice to keep all the imports at the beginning of your code. As you work through this notebook and find you need to import a package, make sure to add the import up here."
   ]
  },
  {
   "cell_type": "code",
   "execution_count": 1,
   "metadata": {},
   "outputs": [],
   "source": [
    "# Imports here\n",
    "\n",
    "%matplotlib inline\n",
    "%config InlineBackend.figure_format = 'retina'\n",
    "\n",
    "import matplotlib.pyplot as plt\n",
    "\n",
    "import torch\n",
    "from torchvision import datasets, transforms, models\n",
    "from torch.utils.data.dataset import Dataset\n",
    "from torch.utils.data.sampler import SubsetRandomSampler\n",
    "\n",
    "import numpy as np\n",
    "import pandas as pd\n",
    "from PIL import Image\n",
    "import glob\n",
    "import os\n",
    "import time"
   ]
  },
  {
   "cell_type": "code",
   "execution_count": 2,
   "metadata": {},
   "outputs": [],
   "source": [
    "data_dir = 'flower_data'\n",
    "valid_dir = data_dir + '/valid/'"
   ]
  },
  {
   "cell_type": "code",
   "execution_count": 3,
   "metadata": {},
   "outputs": [],
   "source": [
    "import json\n",
    "\n",
    "with open('cat_to_name.json', 'r') as f:\n",
    "    cat_to_name = json.load(f)"
   ]
  },
  {
   "cell_type": "code",
   "execution_count": 4,
   "metadata": {},
   "outputs": [
    {
     "name": "stdout",
     "output_type": "stream",
     "text": [
      "CUDA is available!  Training on GPU ...\n"
     ]
    }
   ],
   "source": [
    "# check if CUDA is available\n",
    "train_on_gpu = torch.cuda.is_available()\n",
    "\n",
    "if not train_on_gpu:\n",
    "    print('CUDA is not available.  Training on CPU ...')\n",
    "else:\n",
    "    print('CUDA is available!  Training on GPU ...')"
   ]
  },
  {
   "cell_type": "markdown",
   "metadata": {},
   "source": [
    "## Loading the checkpoint\n",
    "\n",
    "At this point it's good to write a function that can load a checkpoint and rebuild the model. That way you can come back to this project and keep working on it without having to retrain the network."
   ]
  },
  {
   "cell_type": "code",
   "execution_count": 5,
   "metadata": {},
   "outputs": [],
   "source": [
    "def load_checkpoint(model,filename):\n",
    "    if os.path.isfile(filename):\n",
    "        print(\"=> loading model '{}'\".format(filename))\n",
    "        model.load_state_dict(torch.load(filename))\n",
    "        print(\"=> loaded model from '{}'\".format(filename))\n",
    "    else:\n",
    "        print(\"=> no model found at '{}'\".format(filename))\n",
    "\n",
    "    return model"
   ]
  },
  {
   "cell_type": "code",
   "execution_count": null,
   "metadata": {},
   "outputs": [],
   "source": []
  },
  {
   "cell_type": "code",
   "execution_count": 6,
   "metadata": {},
   "outputs": [
    {
     "name": "stdout",
     "output_type": "stream",
     "text": [
      "102\n"
     ]
    }
   ],
   "source": [
    "model = models.vgg16(pretrained=False)\n",
    "\n",
    "# for param in model.features.parameters():\n",
    "#     param.require_grad = False\n",
    "import torch.nn as nn\n",
    "\n",
    "n_inputs = model.classifier[6].in_features\n",
    "\n",
    "# add last linear layer (n_inputs -> 5 flower classes)\n",
    "# new layers automatically have requires_grad = True\n",
    "last_layer = nn.Linear(n_inputs,len(cat_to_name))\n",
    "\n",
    "model.classifier[6] = last_layer\n",
    "\n",
    "# if GPU is available, move the model to GPU\n",
    "if train_on_gpu:\n",
    "    model.cuda()\n",
    "\n",
    "# check to see that your last layer produces the expected number of outputs\n",
    "print(model.classifier[6].out_features)\n",
    "#print(vgg16)\n"
   ]
  },
  {
   "cell_type": "code",
   "execution_count": 7,
   "metadata": {},
   "outputs": [
    {
     "name": "stdout",
     "output_type": "stream",
     "text": [
      "=> loading model 'model_flower_vgg.pt'\n",
      "=> loaded model from 'model_flower_vgg.pt'\n"
     ]
    }
   ],
   "source": [
    "model = load_checkpoint(model, 'model_flower_vgg.pt')"
   ]
  },
  {
   "cell_type": "code",
   "execution_count": 9,
   "metadata": {},
   "outputs": [],
   "source": [
    "import torch.optim as optim\n",
    "\n",
    "# specify loss function (categorical cross-entropy)\n",
    "criterion = nn.CrossEntropyLoss()\n",
    "\n",
    "# specify optimizer (stochastic gradient descent) and learning rate = 0.001\n",
    "# optimizer = optim.SGD(vgg16.classifier.parameters(), lr=0.001)\n",
    "optimizer = optim.Adam(model.parameters(), lr=0.00001, amsgrad=True, eps=1e-8, weight_decay=1e-5 )"
   ]
  },
  {
   "cell_type": "code",
   "execution_count": 10,
   "metadata": {},
   "outputs": [],
   "source": [
    "batch_size = 20\n",
    "num_workers=0\n",
    "\n",
    "data_transforms = transforms.Compose([transforms.Resize(224),\n",
    "                    transforms.CenterCrop(224),\n",
    "                    transforms.ToTensor(),\n",
    "                    transforms.Normalize((0.485, 0.456, 0.406), (0.229, 0.224, 0.225))\n",
    "                    ])\n",
    "\n",
    "test_data = datasets.ImageFolder(valid_dir, transform=data_transforms)\n",
    "test_loader = torch.utils.data.DataLoader(test_data, batch_size=batch_size, num_workers=num_workers)"
   ]
  },
  {
   "cell_type": "code",
   "execution_count": 11,
   "metadata": {},
   "outputs": [
    {
     "name": "stdout",
     "output_type": "stream",
     "text": [
      "Test Loss: 0.013268\n",
      "\n",
      "Test Accuracy of pink primrose: 100.00% ( 8/ 8)\n",
      "Test Accuracy of hard-leaved pocket orchid: 100.00% ( 4/ 4)\n",
      "Test Accuracy of canterbury bells: 100.00% ( 6/ 6)\n",
      "Test Accuracy of sweet pea: 100.00% ( 5/ 5)\n",
      "Test Accuracy of english marigold: 100.00% ( 6/ 6)\n",
      "Test Accuracy of tiger lily: 100.00% (10/10)\n",
      "Test Accuracy of moon orchid: 100.00% ( 5/ 5)\n",
      "Test Accuracy of bird of paradise: 100.00% ( 5/ 5)\n",
      "Test Accuracy of monkshood: 100.00% ( 1/ 1)\n",
      "Test Accuracy of globe thistle: 100.00% ( 7/ 7)\n",
      "Test Accuracy of snapdragon: 100.00% ( 2/ 2)\n",
      "Test Accuracy of colt's foot: 100.00% (16/16)\n",
      "Test Accuracy of king protea: 100.00% (11/11)\n",
      "Test Accuracy of spear thistle: 100.00% ( 4/ 4)\n",
      "Test Accuracy of yellow iris: 100.00% ( 6/ 6)\n",
      "Test Accuracy of globe-flower: 100.00% ( 7/ 7)\n",
      "Test Accuracy of purple coneflower: 100.00% ( 4/ 4)\n",
      "Test Accuracy of peruvian lily: 100.00% ( 8/ 8)\n",
      "Test Accuracy of balloon flower: 100.00% (12/12)\n",
      "Test Accuracy of giant white arum lily: 100.00% ( 5/ 5)\n",
      "Test Accuracy of fire lily: 100.00% ( 2/ 2)\n",
      "Test Accuracy of pincushion flower: 100.00% ( 3/ 3)\n",
      "Test Accuracy of fritillary: 100.00% ( 1/ 1)\n",
      "Test Accuracy of red ginger: 100.00% ( 5/ 5)\n",
      "Test Accuracy of grape hyacinth: 100.00% ( 7/ 7)\n",
      "Test Accuracy of corn poppy: 100.00% ( 2/ 2)\n",
      "Test Accuracy of prince of wales feathers: 100.00% (10/10)\n",
      "Test Accuracy of stemless gentian: 100.00% ( 2/ 2)\n",
      "Test Accuracy of artichoke: 100.00% ( 3/ 3)\n",
      "Test Accuracy of sweet william: 100.00% ( 7/ 7)\n",
      "Test Accuracy of carnation: 100.00% ( 7/ 7)\n",
      "Test Accuracy of garden phlox: 100.00% ( 4/ 4)\n",
      "Test Accuracy of love in the mist: 100.00% ( 6/ 6)\n",
      "Test Accuracy of mexican aster: 100.00% ( 8/ 8)\n",
      "Test Accuracy of alpine sea holly: 100.00% ( 4/ 4)\n",
      "Test Accuracy of ruby-lipped cattleya: 100.00% ( 3/ 3)\n",
      "Test Accuracy of cape flower: 100.00% ( 6/ 6)\n",
      "Test Accuracy of great masterwort: 100.00% ( 5/ 5)\n",
      "Test Accuracy of siam tulip: 100.00% (16/16)\n",
      "Test Accuracy of lenten rose: 100.00% ( 6/ 6)\n",
      "Test Accuracy of barbeton daisy: 100.00% (14/14)\n",
      "Test Accuracy of daffodil: 100.00% ( 9/ 9)\n",
      "Test Accuracy of sword lily: 100.00% ( 4/ 4)\n",
      "Test Accuracy of poinsettia: 100.00% (18/18)\n",
      "Test Accuracy of bolero deep blue: 100.00% ( 3/ 3)\n",
      "Test Accuracy of wallflower: 100.00% ( 9/ 9)\n",
      "Test Accuracy of marigold: 100.00% ( 8/ 8)\n",
      "Test Accuracy of buttercup: 100.00% ( 7/ 7)\n",
      "Test Accuracy of oxeye daisy: 100.00% (11/11)\n",
      "Test Accuracy of common dandelion: 100.00% (28/28)\n",
      "Test Accuracy of petunia: 100.00% (10/10)\n",
      "Test Accuracy of wild pansy: 100.00% ( 9/ 9)\n",
      "Test Accuracy of primula: 100.00% (10/10)\n",
      "Test Accuracy of sunflower: 100.00% ( 8/ 8)\n",
      "Test Accuracy of pelargonium: 100.00% ( 9/ 9)\n",
      "Test Accuracy of bishop of llandaff: 100.00% ( 6/ 6)\n",
      "Test Accuracy of gaura: 100.00% (14/14)\n",
      "Test Accuracy of geranium: 100.00% ( 4/ 4)\n",
      "Test Accuracy of orange dahlia: 100.00% ( 1/ 1)\n",
      "Test Accuracy of pink-yellow dahlia: 100.00% (14/14)\n",
      "Test Accuracy of cautleya spicata: 100.00% ( 6/ 6)\n",
      "Test Accuracy of japanese anemone: 100.00% ( 3/ 3)\n",
      "Test Accuracy of black-eyed susan: 100.00% ( 8/ 8)\n",
      "Test Accuracy of silverbush: 100.00% ( 5/ 5)\n",
      "Test Accuracy of californian poppy: 100.00% ( 7/ 7)\n",
      "Test Accuracy of osteospermum: 100.00% ( 6/ 6)\n",
      "Test Accuracy of spring crocus: 100.00% ( 2/ 2)\n",
      "Test Accuracy of bearded iris: 100.00% ( 8/ 8)\n",
      "Test Accuracy of windflower: 100.00% ( 5/ 5)\n",
      "Test Accuracy of tree poppy: 100.00% ( 1/ 1)\n",
      "Test Accuracy of gazania: 100.00% ( 7/ 7)\n",
      "Test Accuracy of azalea: 100.00% ( 5/ 5)\n",
      "Test Accuracy of water lily: 100.00% ( 8/ 8)\n",
      "Test Accuracy of  rose: 100.00% (19/19)\n",
      "Test Accuracy of thorn apple: 100.00% (15/15)\n",
      "Test Accuracy of morning glory: 100.00% (12/12)\n",
      "Test Accuracy of passion flower: 100.00% (20/20)\n",
      "Test Accuracy of lotus lotus: 100.00% (21/21)\n",
      "Test Accuracy of toad lily: 100.00% (11/11)\n",
      "Test Accuracy of anthurium: 100.00% ( 4/ 4)\n",
      "Test Accuracy of frangipani: 100.00% ( 5/ 5)\n",
      "Test Accuracy of clematis: 100.00% (12/12)\n",
      "Test Accuracy of hibiscus: 100.00% (18/18)\n",
      "Test Accuracy of columbine: 100.00% (13/13)\n",
      "Test Accuracy of desert-rose: 100.00% (13/13)\n",
      "Test Accuracy of tree mallow: 100.00% (10/10)\n",
      "Test Accuracy of magnolia: 100.00% ( 5/ 5)\n",
      "Test Accuracy of cyclamen: 100.00% ( 5/ 5)\n",
      "Test Accuracy of watercress: 100.00% ( 6/ 6)\n",
      "Test Accuracy of canna lily: 100.00% (25/25)\n",
      "Test Accuracy of hippeastrum: 100.00% (16/16)\n",
      "Test Accuracy of bee balm: 100.00% ( 3/ 3)\n",
      "Test Accuracy of ball moss: 100.00% ( 2/ 2)\n",
      "Test Accuracy of foxglove: 100.00% ( 9/ 9)\n",
      "Test Accuracy of bougainvillea: 100.00% ( 2/ 2)\n",
      "Test Accuracy of camellia: 83.33% ( 5/ 6)\n",
      "Test Accuracy of mallow: 100.00% (14/14)\n",
      "Test Accuracy of mexican petunia: 100.00% (13/13)\n",
      "Test Accuracy of bromelia: 100.00% (10/10)\n",
      "Test Accuracy of blanket flower: 100.00% ( 7/ 7)\n",
      "Test Accuracy of trumpet creeper: 100.00% (10/10)\n",
      "Test Accuracy of blackberry lily: 100.00% ( 6/ 6)\n",
      "\n",
      "Test Accuracy (Overall): 99.88% (817/818)\n"
     ]
    }
   ],
   "source": [
    "# track test loss \n",
    "# over 5 flower classes\n",
    "test_loss = 0.0\n",
    "class_correct = list(0. for i in range(102))\n",
    "class_total = list(0. for i in range(102))\n",
    "\n",
    "model.eval() # eval mode\n",
    "\n",
    "# iterate over test data\n",
    "for data, target in test_loader:\n",
    "    # move tensors to GPU if CUDA is available\n",
    "    if train_on_gpu:\n",
    "        data, target = data.cuda(), target.cuda()\n",
    "    # forward pass: compute predicted outputs by passing inputs to the model\n",
    "    output = model(data)\n",
    "    # calculate the batch loss\n",
    "    loss = criterion(output, target)\n",
    "    # update  test loss \n",
    "    test_loss += loss.item()*data.size(0)\n",
    "    # convert output probabilities to predicted class\n",
    "    _, pred = torch.max(output, 1)    \n",
    "    # compare predictions to true label\n",
    "    correct_tensor = pred.eq(target.data.view_as(pred))\n",
    "    correct = np.squeeze(correct_tensor.numpy()) if not train_on_gpu else np.squeeze(correct_tensor.cpu().numpy())\n",
    "    # calculate test accuracy for each object class\n",
    "    for i in range(len(target.data)):\n",
    "        label = target.data[i]\n",
    "        class_correct[label] += correct[i].item()\n",
    "        class_total[label] += 1\n",
    "\n",
    "# calculate avg test loss\n",
    "test_loss = test_loss/len(test_loader.dataset)\n",
    "print('Test Loss: {:.6f}\\n'.format(test_loss))\n",
    "\n",
    "for i in range(len(class_total)):\n",
    "    if class_total[i] > 0:\n",
    "        print('Test Accuracy of %5s: %.2f%% (%2d/%2d)' % (\n",
    "            cat_to_name[str(i+1)], 100 * class_correct[i] / class_total[i],\n",
    "            np.sum(class_correct[i]), np.sum(class_total[i])))\n",
    "    else:\n",
    "        print('Test Accuracy of %5s: N/A (no training examples)' % (classes[i]))\n",
    "\n",
    "print('\\nTest Accuracy (Overall): %.2f%% (%2d/%2d)' % (\n",
    "    100. * np.sum(class_correct) / np.sum(class_total),\n",
    "    np.sum(class_correct), np.sum(class_total)))"
   ]
  },
  {
   "cell_type": "code",
   "execution_count": null,
   "metadata": {},
   "outputs": [],
   "source": []
  },
  {
   "cell_type": "code",
   "execution_count": null,
   "metadata": {},
   "outputs": [],
   "source": []
  },
  {
   "cell_type": "markdown",
   "metadata": {},
   "source": [
    "# Inference for classification\n",
    "\n",
    "Now you'll write a function to use a trained network for inference. That is, you'll pass an image into the network and predict the class of the flower in the image. Write a function called `predict` that takes an image and a model, then returns the top $K$ most likely classes along with the probabilities. It should look like \n",
    "\n",
    "```python\n",
    "probs, classes = predict(image_path, model)\n",
    "print(probs)\n",
    "print(classes)\n",
    "> [ 0.01558163  0.01541934  0.01452626  0.01443549  0.01407339]\n",
    "> ['70', '3', '45', '62', '55']\n",
    "```\n",
    "\n",
    "First you'll need to handle processing the input image such that it can be used in your network. \n",
    "\n",
    "## Image Preprocessing\n",
    "\n",
    "You'll want to use `PIL` to load the image ([documentation](https://pillow.readthedocs.io/en/latest/reference/Image.html)). It's best to write a function that preprocesses the image so it can be used as input for the model. This function should process the images in the same manner used for training. \n",
    "\n",
    "First, resize the images where the shortest side is 256 pixels, keeping the aspect ratio. This can be done with the [`thumbnail`](http://pillow.readthedocs.io/en/3.1.x/reference/Image.html#PIL.Image.Image.thumbnail) or [`resize`](http://pillow.readthedocs.io/en/3.1.x/reference/Image.html#PIL.Image.Image.thumbnail) methods. Then you'll need to crop out the center 224x224 portion of the image.\n",
    "\n",
    "Color channels of images are typically encoded as integers 0-255, but the model expected floats 0-1. You'll need to convert the values. It's easiest with a Numpy array, which you can get from a PIL image like so `np_image = np.array(pil_image)`.\n",
    "\n",
    "As before, the network expects the images to be normalized in a specific way. For the means, it's `[0.485, 0.456, 0.406]` and for the standard deviations `[0.229, 0.224, 0.225]`. You'll want to subtract the means from each color channel, then divide by the standard deviation. \n",
    "\n",
    "And finally, PyTorch expects the color channel to be the first dimension but it's the third dimension in the PIL image and Numpy array. You can reorder dimensions using [`ndarray.transpose`](https://docs.scipy.org/doc/numpy-1.13.0/reference/generated/numpy.ndarray.transpose.html). The color channel needs to be first and retain the order of the other two dimensions."
   ]
  },
  {
   "cell_type": "code",
   "execution_count": null,
   "metadata": {},
   "outputs": [],
   "source": [
    "def process_image(image):\n",
    "    ''' Scales, crops, and normalizes a PIL image for a PyTorch model,\n",
    "        returns an Numpy array\n",
    "    '''\n",
    "    \n",
    "    # TODO: Process a PIL image for use in a PyTorch model"
   ]
  },
  {
   "cell_type": "markdown",
   "metadata": {},
   "source": [
    "To check your work, the function below converts a PyTorch tensor and displays it in the notebook. If your `process_image` function works, running the output through this function should return the original image (except for the cropped out portions)."
   ]
  },
  {
   "cell_type": "code",
   "execution_count": null,
   "metadata": {},
   "outputs": [],
   "source": [
    "def imshow(image, ax=None, title=None):\n",
    "    \"\"\"Imshow for Tensor.\"\"\"\n",
    "    if ax is None:\n",
    "        fig, ax = plt.subplots()\n",
    "    \n",
    "    # PyTorch tensors assume the color channel is the first dimension\n",
    "    # but matplotlib assumes is the third dimension\n",
    "    image = image.numpy().transpose((1, 2, 0))\n",
    "    \n",
    "    # Undo preprocessing\n",
    "    mean = np.array([0.485, 0.456, 0.406])\n",
    "    std = np.array([0.229, 0.224, 0.225])\n",
    "    image = std * image + mean\n",
    "    \n",
    "    # Image needs to be clipped between 0 and 1 or it looks like noise when displayed\n",
    "    image = np.clip(image, 0, 1)\n",
    "    \n",
    "    ax.imshow(image)\n",
    "    \n",
    "    return ax"
   ]
  },
  {
   "cell_type": "markdown",
   "metadata": {},
   "source": [
    "## Class Prediction\n",
    "\n",
    "Once you can get images in the correct format, it's time to write a function for making predictions with your model. A common practice is to predict the top 5 or so (usually called top-$K$) most probable classes. You'll want to calculate the class probabilities then find the $K$ largest values.\n",
    "\n",
    "To get the top $K$ largest values in a tensor use [`x.topk(k)`](http://pytorch.org/docs/master/torch.html#torch.topk). This method returns both the highest `k` probabilities and the indices of those probabilities corresponding to the classes. You need to convert from these indices to the actual class labels using `class_to_idx` which hopefully you added to the model or from an `ImageFolder` you used to load the data ([see here](#Save-the-checkpoint)). Make sure to invert the dictionary so you get a mapping from index to class as well.\n",
    "\n",
    "Again, this method should take a path to an image and a model checkpoint, then return the probabilities and classes.\n",
    "\n",
    "```python\n",
    "probs, classes = predict(image_path, model)\n",
    "print(probs)\n",
    "print(classes)\n",
    "> [ 0.01558163  0.01541934  0.01452626  0.01443549  0.01407339]\n",
    "> ['70', '3', '45', '62', '55']\n",
    "```"
   ]
  },
  {
   "cell_type": "code",
   "execution_count": null,
   "metadata": {},
   "outputs": [],
   "source": [
    "def predict(image_path, model, topk=5):\n",
    "    ''' Predict the class (or classes) of an image using a trained deep learning model.\n",
    "    '''\n",
    "    \n",
    "    # TODO: Implement the code to predict the class from an image file"
   ]
  },
  {
   "cell_type": "markdown",
   "metadata": {},
   "source": [
    "## Sanity Checking\n",
    "\n",
    "Now that you can use a trained model for predictions, check to make sure it makes sense. Even if the validation accuracy is high, it's always good to check that there aren't obvious bugs. Use `matplotlib` to plot the probabilities for the top 5 classes as a bar graph, along with the input image. It should look like this:\n",
    "\n",
    "<img src='assets/inference_example.png' width=300px>\n",
    "\n",
    "You can convert from the class integer encoding to actual flower names with the `cat_to_name.json` file (should have been loaded earlier in the notebook). To show a PyTorch tensor as an image, use the `imshow` function defined above."
   ]
  },
  {
   "cell_type": "code",
   "execution_count": null,
   "metadata": {},
   "outputs": [],
   "source": [
    "# TODO: Display an image along with the top 5 classes"
   ]
  }
 ],
 "metadata": {
  "kernelspec": {
   "display_name": "Python 3",
   "language": "python",
   "name": "python3"
  },
  "language_info": {
   "codemirror_mode": {
    "name": "ipython",
    "version": 3
   },
   "file_extension": ".py",
   "mimetype": "text/x-python",
   "name": "python",
   "nbconvert_exporter": "python",
   "pygments_lexer": "ipython3",
   "version": "3.6.1"
  }
 },
 "nbformat": 4,
 "nbformat_minor": 2
}
