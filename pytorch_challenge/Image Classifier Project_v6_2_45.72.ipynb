{
 "cells": [
  {
   "cell_type": "markdown",
   "metadata": {},
   "source": [
    "# Developing an AI application\n",
    "\n",
    "Going forward, AI algorithms will be incorporated into more and more everyday applications. For example, you might want to include an image classifier in a smart phone app. To do this, you'd use a deep learning model trained on hundreds of thousands of images as part of the overall application architecture. A large part of software development in the future will be using these types of models as common parts of applications. \n",
    "\n",
    "In this project, you'll train an image classifier to recognize different species of flowers. You can imagine using something like this in a phone app that tells you the name of the flower your camera is looking at. In practice you'd train this classifier, then export it for use in your application. We'll be using [this dataset](http://www.robots.ox.ac.uk/~vgg/data/flowers/102/index.html) of 102 flower categories, you can see a few examples below. \n",
    "\n",
    "<img src='assets/Flowers.png' width=500px>\n",
    "\n",
    "The project is broken down into multiple steps:\n",
    "\n",
    "* Load and preprocess the image dataset\n",
    "* Train the image classifier on your dataset\n",
    "* Use the trained classifier to predict image content\n",
    "\n",
    "We'll lead you through each part which you'll implement in Python.\n",
    "\n",
    "When you've completed this project, you'll have an application that can be trained on any set of labeled images. Here your network will be learning about flowers and end up as a command line application. But, what you do with your new skills depends on your imagination and effort in building a dataset. For example, imagine an app where you take a picture of a car, it tells you what the make and model is, then looks up information about it. Go build your own dataset and make something new.\n",
    "\n",
    "First up is importing the packages you'll need. It's good practice to keep all the imports at the beginning of your code. As you work through this notebook and find you need to import a package, make sure to add the import up here."
   ]
  },
  {
   "cell_type": "code",
   "execution_count": 1,
   "metadata": {},
   "outputs": [],
   "source": [
    "# Imports here\n",
    "\n",
    "%matplotlib inline\n",
    "%config InlineBackend.figure_format = 'retina'\n",
    "\n",
    "import matplotlib.pyplot as plt\n",
    "\n",
    "import torch\n",
    "from torchvision import datasets, transforms\n",
    "from torch.utils.data.dataset import Dataset\n",
    "from torch.utils.data.sampler import SubsetRandomSampler\n",
    "\n",
    "import numpy as np\n",
    "import pandas as pd\n",
    "from PIL import Image\n",
    "import glob\n",
    "import os\n",
    "import time"
   ]
  },
  {
   "cell_type": "markdown",
   "metadata": {},
   "source": [
    "## Load the data\n",
    "\n",
    "Here you'll use `torchvision` to load the data ([documentation](http://pytorch.org/docs/0.3.0/torchvision/index.html)). You can [download the data here](https://s3.amazonaws.com/content.udacity-data.com/courses/nd188/flower_data.zip). The dataset is split into two parts, training and validation. For the training, you'll want to apply transformations such as random scaling, cropping, and flipping. This will help the network generalize leading to better performance. If you use a pre-trained network, you'll also need to make sure the input data is resized to 224x224 pixels as required by the networks.\n",
    "\n",
    "The validation set is used to measure the model's performance on data it hasn't seen yet. For this you don't want any scaling or rotation transformations, but you'll need to resize then crop the images to the appropriate size.\n",
    "\n",
    "The pre-trained networks available from `torchvision` were trained on the ImageNet dataset where each color channel was normalized separately. For both sets you'll need to normalize the means and standard deviations of the images to what the network expects. For the means, it's `[0.485, 0.456, 0.406]` and for the standard deviations `[0.229, 0.224, 0.225]`, calculated from the ImageNet images.  These values will shift each color channel to be centered at 0 and range from -1 to 1."
   ]
  },
  {
   "cell_type": "code",
   "execution_count": 2,
   "metadata": {},
   "outputs": [],
   "source": [
    "data_dir = 'flower_data'\n",
    "train_dir = data_dir + '/train/'\n",
    "valid_dir = data_dir + '/valid/'"
   ]
  },
  {
   "cell_type": "code",
   "execution_count": 3,
   "metadata": {},
   "outputs": [
    {
     "name": "stdout",
     "output_type": "stream",
     "text": [
      "flower_data/train/\n"
     ]
    }
   ],
   "source": [
    "print(train_dir)"
   ]
  },
  {
   "cell_type": "code",
   "execution_count": 4,
   "metadata": {},
   "outputs": [
    {
     "name": "stdout",
     "output_type": "stream",
     "text": [
      "[27, 49, 36, 44, 54, 35, 33, 70, 41, 38, 68, 73, 38, 44, 38, 36, 60, 65, 38, 46, 34, 47, 72, 35, 34, 33, 36, 55, 62, 61, 48, 36, 31, 28, 33, 62, 92, 44, 33, 54, 97, 49, 100, 73, 33, 157, 61, 57, 38, 73, 206, 67, 70, 47, 56, 92, 50, 86, 56, 85, 36, 48, 42, 42, 88, 51, 36, 43, 46, 51, 64, 77, 147, 142, 95, 83, 205, 112, 34, 82, 135, 82, 104, 66, 48, 48, 51, 116, 153, 66, 59, 53, 34, 132, 101, 72, 54, 68, 50, 35, 49, 36]\n"
     ]
    }
   ],
   "source": [
    "training_set = []\n",
    "for i in range(1, 103, 1):\n",
    "    dir_train = train_dir + str(i) + '/'\n",
    "    path, dirs, files = next(os.walk(dir_train))\n",
    "    file_count = len(files)\n",
    "    training_set.append(file_count)\n",
    "print(training_set)"
   ]
  },
  {
   "cell_type": "code",
   "execution_count": 5,
   "metadata": {},
   "outputs": [
    {
     "name": "stdout",
     "output_type": "stream",
     "text": [
      "102\n"
     ]
    }
   ],
   "source": [
    "print(len(training_set))"
   ]
  },
  {
   "cell_type": "code",
   "execution_count": 6,
   "metadata": {},
   "outputs": [
    {
     "data": {
      "text/plain": [
       "array([ 27,  49,  36,  44,  54,  35,  33,  70,  41,  38,  68,  73,  38,\n",
       "        44,  38,  36,  60,  65,  38,  46,  34,  47,  72,  35,  34,  33,\n",
       "        36,  55,  62,  61,  48,  36,  31,  28,  33,  62,  92,  44,  33,\n",
       "        54,  97,  49, 100,  73,  33, 157,  61,  57,  38,  73, 206,  67,\n",
       "        70,  47,  56,  92,  50,  86,  56,  85,  36,  48,  42,  42,  88,\n",
       "        51,  36,  43,  46,  51,  64,  77, 147, 142,  95,  83, 205, 112,\n",
       "        34,  82, 135,  82, 104,  66,  48,  48,  51, 116, 153,  66,  59,\n",
       "        53,  34, 132, 101,  72,  54,  68,  50,  35,  49,  36])"
      ]
     },
     "execution_count": 6,
     "metadata": {},
     "output_type": "execute_result"
    }
   ],
   "source": [
    "np_training = np.asarray(training_set)\n",
    "np_training"
   ]
  },
  {
   "cell_type": "code",
   "execution_count": 7,
   "metadata": {},
   "outputs": [
    {
     "data": {
      "text/plain": [
       "64.23529411764706"
      ]
     },
     "execution_count": 7,
     "metadata": {},
     "output_type": "execute_result"
    }
   ],
   "source": [
    "np_training.mean()"
   ]
  },
  {
   "cell_type": "code",
   "execution_count": 8,
   "metadata": {},
   "outputs": [
    {
     "data": {
      "text/plain": [
       "35.22593086499847"
      ]
     },
     "execution_count": 8,
     "metadata": {},
     "output_type": "execute_result"
    }
   ],
   "source": [
    "np_training.std()"
   ]
  },
  {
   "cell_type": "code",
   "execution_count": 9,
   "metadata": {},
   "outputs": [
    {
     "data": {
      "text/plain": [
       "6552"
      ]
     },
     "execution_count": 9,
     "metadata": {},
     "output_type": "execute_result"
    }
   ],
   "source": [
    "np_training.sum()"
   ]
  },
  {
   "cell_type": "code",
   "execution_count": 10,
   "metadata": {},
   "outputs": [],
   "source": [
    "width_array = []\n",
    "height_array = []\n",
    "for i in range(len(training_set)):\n",
    "    dir_train = train_dir + str(i) + \"/*.jpg\"\n",
    "#     print(dir_train)\n",
    "    files = glob.glob(dir_train)\n",
    "    for file in files:\n",
    "        im = Image.open(file)\n",
    "#         print(im.size)\n",
    "        width, height = im.size\n",
    "        width_array.append(width)\n",
    "        height_array.append(height)\n",
    "        "
   ]
  },
  {
   "cell_type": "code",
   "execution_count": 11,
   "metadata": {},
   "outputs": [],
   "source": [
    "width_array = np.asarray(width_array)\n",
    "height_array = np.asarray(height_array)"
   ]
  },
  {
   "cell_type": "code",
   "execution_count": 12,
   "metadata": {},
   "outputs": [
    {
     "data": {
      "text/plain": [
       "630.5899324739104"
      ]
     },
     "execution_count": 12,
     "metadata": {},
     "output_type": "execute_result"
    }
   ],
   "source": [
    "width_array.mean()"
   ]
  },
  {
   "cell_type": "code",
   "execution_count": 13,
   "metadata": {},
   "outputs": [
    {
     "data": {
      "text/plain": [
       "500"
      ]
     },
     "execution_count": 13,
     "metadata": {},
     "output_type": "execute_result"
    }
   ],
   "source": [
    "width_array.min()"
   ]
  },
  {
   "cell_type": "code",
   "execution_count": 14,
   "metadata": {},
   "outputs": [
    {
     "data": {
      "text/plain": [
       "1024"
      ]
     },
     "execution_count": 14,
     "metadata": {},
     "output_type": "execute_result"
    }
   ],
   "source": [
    "width_array.max()"
   ]
  },
  {
   "cell_type": "code",
   "execution_count": 15,
   "metadata": {},
   "outputs": [
    {
     "data": {
      "text/plain": [
       "534.3057090239411"
      ]
     },
     "execution_count": 15,
     "metadata": {},
     "output_type": "execute_result"
    }
   ],
   "source": [
    "height_array.mean()"
   ]
  },
  {
   "cell_type": "code",
   "execution_count": 16,
   "metadata": {},
   "outputs": [
    {
     "data": {
      "text/plain": [
       "500"
      ]
     },
     "execution_count": 16,
     "metadata": {},
     "output_type": "execute_result"
    }
   ],
   "source": [
    "height_array.min()"
   ]
  },
  {
   "cell_type": "code",
   "execution_count": 17,
   "metadata": {},
   "outputs": [
    {
     "data": {
      "text/plain": [
       "1168"
      ]
     },
     "execution_count": 17,
     "metadata": {},
     "output_type": "execute_result"
    }
   ],
   "source": [
    "height_array.max()"
   ]
  },
  {
   "cell_type": "code",
   "execution_count": 18,
   "metadata": {},
   "outputs": [],
   "source": [
    "# TODO: Define your transforms for the training and validation sets\n",
    "data_transforms = transforms.Compose([transforms.Resize(64),\n",
    "                    transforms.CenterCrop(64),\n",
    "                    transforms.RandomHorizontalFlip(), # randomly flip and rotate\n",
    "                    transforms.RandomRotation(30),                   \n",
    "                    transforms.ToTensor(),\n",
    "                    transforms.Normalize((0.485, 0.456, 0.406), (0.229, 0.224, 0.225))\n",
    "                    ])\n",
    "\n",
    "# TODO: Load the datasets with ImageFolder\n",
    "train_image_datasets = datasets.ImageFolder(train_dir, transform=data_transforms)"
   ]
  },
  {
   "cell_type": "code",
   "execution_count": 19,
   "metadata": {},
   "outputs": [
    {
     "data": {
      "text/plain": [
       "Dataset ImageFolder\n",
       "    Number of datapoints: 6552\n",
       "    Root Location: flower_data/train/\n",
       "    Transforms (if any): Compose(\n",
       "                             Resize(size=64, interpolation=PIL.Image.BILINEAR)\n",
       "                             CenterCrop(size=(64, 64))\n",
       "                             RandomHorizontalFlip(p=0.5)\n",
       "                             RandomRotation(degrees=(-30, 30), resample=False, expand=False)\n",
       "                             ToTensor()\n",
       "                             Normalize(mean=(0.485, 0.456, 0.406), std=(0.229, 0.224, 0.225))\n",
       "                         )\n",
       "    Target Transforms (if any): None"
      ]
     },
     "execution_count": 19,
     "metadata": {},
     "output_type": "execute_result"
    }
   ],
   "source": [
    "train_image_datasets"
   ]
  },
  {
   "cell_type": "code",
   "execution_count": 20,
   "metadata": {},
   "outputs": [],
   "source": [
    "# train_image_datasets = torch.utils.data.ConcatDataset([train_image_datasets,random_dataset])"
   ]
  },
  {
   "cell_type": "code",
   "execution_count": 21,
   "metadata": {},
   "outputs": [],
   "source": [
    "# number of subprocesses to use for data loading\n",
    "num_workers = 0\n",
    "# how many samples per batch to load\n",
    "batch_size = 32\n",
    "# percentage of training set to use as validation\n",
    "valid_size = 0.2"
   ]
  },
  {
   "cell_type": "code",
   "execution_count": 22,
   "metadata": {},
   "outputs": [],
   "source": [
    "# obtain training indices that will be used for validation\n",
    "num_train = len(train_image_datasets)\n",
    "indices = list(range(num_train))\n",
    "np.random.shuffle(indices)\n",
    "split = int(np.floor(valid_size * num_train))\n",
    "train_idx, valid_idx = indices[split:], indices[:split]\n",
    "\n",
    "# define samplers for obtaining training and validation batches\n",
    "train_sampler = SubsetRandomSampler(train_idx)\n",
    "valid_sampler = SubsetRandomSampler(valid_idx)\n",
    "\n",
    "# prepare data loaders (combine dataset and sampler)\n",
    "train_loader = torch.utils.data.DataLoader(train_image_datasets, batch_size=batch_size,\n",
    "    sampler=train_sampler, num_workers=num_workers)\n",
    "valid_loader = torch.utils.data.DataLoader(train_image_datasets, batch_size=batch_size, \n",
    "    sampler=valid_sampler, num_workers=num_workers)\n",
    "\n",
    "\n"
   ]
  },
  {
   "cell_type": "code",
   "execution_count": 23,
   "metadata": {},
   "outputs": [
    {
     "data": {
      "text/plain": [
       "164"
      ]
     },
     "execution_count": 23,
     "metadata": {},
     "output_type": "execute_result"
    }
   ],
   "source": [
    "len(train_loader)"
   ]
  },
  {
   "cell_type": "markdown",
   "metadata": {},
   "source": [
    "### Label mapping\n",
    "\n",
    "You'll also need to load in a mapping from category label to category name. You can find this in the file `cat_to_name.json`. It's a JSON object which you can read in with the [`json` module](https://docs.python.org/2/library/json.html). This will give you a dictionary mapping the integer encoded categories to the actual names of the flowers."
   ]
  },
  {
   "cell_type": "code",
   "execution_count": 24,
   "metadata": {},
   "outputs": [],
   "source": [
    "import json\n",
    "\n",
    "with open('cat_to_name.json', 'r') as f:\n",
    "    cat_to_name = json.load(f)"
   ]
  },
  {
   "cell_type": "code",
   "execution_count": 25,
   "metadata": {},
   "outputs": [],
   "source": [
    "# cat_to_name\n",
    "cat_to_name['105'] = \"Noise\""
   ]
  },
  {
   "cell_type": "code",
   "execution_count": 26,
   "metadata": {},
   "outputs": [],
   "source": [
    "# helper function to un-normalize and display an image\n",
    "\n",
    "def imshow(img):\n",
    "    img = img / 2 + 0.5  # unnormalize\n",
    "    plt.imshow(np.transpose(img, (1, 2, 0)))  # convert from Tensor image"
   ]
  },
  {
   "cell_type": "code",
   "execution_count": 27,
   "metadata": {},
   "outputs": [
    {
     "name": "stderr",
     "output_type": "stream",
     "text": [
      "Clipping input data to the valid range for imshow with RGB data ([0..1] for floats or [0..255] for integers).\n",
      "Clipping input data to the valid range for imshow with RGB data ([0..1] for floats or [0..255] for integers).\n",
      "Clipping input data to the valid range for imshow with RGB data ([0..1] for floats or [0..255] for integers).\n",
      "Clipping input data to the valid range for imshow with RGB data ([0..1] for floats or [0..255] for integers).\n",
      "Clipping input data to the valid range for imshow with RGB data ([0..1] for floats or [0..255] for integers).\n"
     ]
    },
    {
     "data": {
      "image/png": "[encoded data removed]",
      "text/plain": [
       "<Figure size 1440x360 with 5 Axes>"
      ]
     },
     "metadata": {
      "image/png": {
       "height": 224,
       "width": 1133
      }
     },
     "output_type": "display_data"
    }
   ],
   "source": [
    "# obtain one batch of training images\n",
    "dataiter = iter(train_loader)\n",
    "images, labels = dataiter.next()\n",
    "images = images.numpy() # convert images to numpy for display\n",
    "\n",
    "# plot the images in the batch, along with the corresponding labels\n",
    "fig = plt.figure(figsize=(20, 5))\n",
    "# display 20 images\n",
    "for idx in np.arange(5):\n",
    "    \n",
    "#     change tensor type to string type\n",
    "#     print(labels[idx])\n",
    "#     scalar_lable = int(labels[idx])\n",
    "#     print(type(scalar_lable))\n",
    "#     print(scalar_lable)\n",
    "#     str_label = str(scalar_lable)\n",
    "#     print(cat_to_name[str_label])\n",
    "#     break\n",
    "\n",
    "    ax = fig.add_subplot(1, 5, idx+1, xticks=[], yticks=[])\n",
    "    imshow(images[idx])\n",
    "    ax.set_title(cat_to_name[str(int(labels[idx]))])"
   ]
  },
  {
   "cell_type": "code",
   "execution_count": 28,
   "metadata": {},
   "outputs": [],
   "source": [
    "# rgb_img = np.squeeze(images[3])\n",
    "# channels = ['red channel', 'green channel', 'blue channel']\n",
    "\n",
    "# fig = plt.figure(figsize = (36, 36)) \n",
    "# for idx in np.arange(rgb_img.shape[0]):\n",
    "#     ax = fig.add_subplot(1, 3, idx + 1)\n",
    "#     img = rgb_img[idx]\n",
    "#     ax.imshow(img, cmap='gray')\n",
    "#     ax.set_title(channels[idx])\n",
    "#     width, height = img.shape\n",
    "#     thresh = img.max()/2.5\n",
    "#     for x in range(width):\n",
    "#         for y in range(height):\n",
    "#             val = round(img[x][y],2) if img[x][y] !=0 else 0\n",
    "#             ax.annotate(str(val), xy=(y,x),\n",
    "#                     horizontalalignment='center',\n",
    "#                     verticalalignment='center', size=8,\n",
    "#                     color='white' if img[x][y]<thresh else 'black')"
   ]
  },
  {
   "cell_type": "markdown",
   "metadata": {},
   "source": [
    "# Building and training the classifier\n",
    "\n",
    "Now that the data is ready, it's time to build and train the classifier. As usual, you should use one of the pretrained models from `torchvision.models` to get the image features. Build and train a new feed-forward classifier using those features.\n",
    "\n",
    "We're going to leave this part up to you. If you want to talk through it with someone, chat with your fellow students! You can also ask questions on the forums or join the instructors in office hours.\n",
    "\n",
    "Refer to [the rubric](https://review.udacity.com/#!/rubrics/1663/view) for guidance on successfully completing this section. Things you'll need to do:\n",
    "\n",
    "* Load a [pre-trained network](http://pytorch.org/docs/master/torchvision/models.html) (If you need a starting point, the VGG networks work great and are straightforward to use)\n",
    "* Define a new, untrained feed-forward network as a classifier, using ReLU activations and dropout\n",
    "* Train the classifier layers using backpropagation using the pre-trained network to get the features\n",
    "* Track the loss and accuracy on the validation set to determine the best hyperparameters\n",
    "\n",
    "We've left a cell open for you below, but use as many as you need. Our advice is to break the problem up into smaller parts you can run separately. Check that each part is doing what you expect, then move on to the next. You'll likely find that as you work through each part, you'll need to go back and modify your previous code. This is totally normal!\n",
    "\n",
    "When training make sure you're updating only the weights of the feed-forward network. You should be able to get the validation accuracy above 70% if you build everything right. Make sure to try different hyperparameters (learning rate, units in the classifier, epochs, etc) to find the best model. Save those hyperparameters to use as default values in the next part of the project."
   ]
  },
  {
   "cell_type": "code",
   "execution_count": 29,
   "metadata": {},
   "outputs": [
    {
     "name": "stdout",
     "output_type": "stream",
     "text": [
      "CUDA is available!  Training on GPU ...\n"
     ]
    }
   ],
   "source": [
    "# check if CUDA is available\n",
    "train_on_gpu = torch.cuda.is_available()\n",
    "\n",
    "if not train_on_gpu:\n",
    "    print('CUDA is not available.  Training on CPU ...')\n",
    "else:\n",
    "    print('CUDA is available!  Training on GPU ...')"
   ]
  },
  {
   "cell_type": "code",
   "execution_count": 30,
   "metadata": {},
   "outputs": [
    {
     "name": "stdout",
     "output_type": "stream",
     "text": [
      "Net(\n",
      "  (conv1): Conv2d(3, 16, kernel_size=(3, 3), stride=(1, 1), padding=(1, 1))\n",
      "  (conv2): Conv2d(16, 16, kernel_size=(3, 3), stride=(1, 1), padding=(1, 1))\n",
      "  (conv3): Conv2d(16, 32, kernel_size=(3, 3), stride=(1, 1), padding=(1, 1))\n",
      "  (conv4): Conv2d(32, 32, kernel_size=(3, 3), stride=(1, 1), padding=(1, 1))\n",
      "  (pool): MaxPool2d(kernel_size=2, stride=2, padding=0, dilation=1, ceil_mode=False)\n",
      "  (fc1): Linear(in_features=512, out_features=512, bias=True)\n",
      "  (fc2): Linear(in_features=512, out_features=103, bias=True)\n",
      "  (dropout): Dropout(p=0.25)\n",
      ")\n"
     ]
    }
   ],
   "source": [
    "# TODO: Build and train your network\n",
    "import torch.nn as nn\n",
    "import torch.nn.functional as F\n",
    "\n",
    "# define the CNN architecture\n",
    "class Net(nn.Module):\n",
    "    def __init__(self):\n",
    "        super(Net, self).__init__()\n",
    "        # convolutional layer (sees 64x64x3 image tensor)\n",
    "        self.conv1 = nn.Conv2d(3, 16, 3, padding=1)\n",
    "        # convolutional layer (sees 16x32x32 tensor)\n",
    "        self.conv2 = nn.Conv2d(16, 16, 3, padding=1)\n",
    "        # convolutional layer (sees 32x16x16 tensor)\n",
    "        self.conv3 = nn.Conv2d(16, 32, 3, padding=1)\n",
    "        # convolutional layer (sees 64x8x8 tensor)\n",
    "        self.conv4 = nn.Conv2d(32, 32, 3, padding=1)\n",
    "        # convolutional layer (sees 64x4x4 tensor)        \n",
    "        \n",
    "        # max pooling layer\n",
    "        self.pool = nn.MaxPool2d(2, 2)\n",
    "        # linear layer (128 * 16 * 16 -> 500)\n",
    "        self.fc1 = nn.Linear(32 * 4 * 4, 512)\n",
    "        # linear layer (500 -> 10)\n",
    "        self.fc2 = nn.Linear(512, 103)\n",
    "        # dropout layer (p=0.25)\n",
    "        self.dropout = nn.Dropout(0.25)\n",
    "\n",
    "    def forward(self, x):\n",
    "        # add sequence of convolutional and max pooling layers\n",
    "        x = self.pool(F.relu(self.conv1(x)))\n",
    "        x = self.dropout(x)\n",
    "        x = self.pool(F.relu(self.conv2(x)))\n",
    "        x = self.dropout(x)        \n",
    "        x = self.pool(F.relu(self.conv3(x)))\n",
    "        x = self.dropout(x)\n",
    "        x = self.pool(F.relu(self.conv4(x)))\n",
    "       \n",
    "        # flatten image input\n",
    "        x = x.view(-1, 32 * 4 * 4)\n",
    "        # add dropout layer\n",
    "#         x = self.dropout(x)\n",
    "        # add 1st hidden layer, with relu activation function\n",
    "        x = F.relu(self.fc1(x))\n",
    "        # add dropout layer\n",
    "        x = self.dropout(x)\n",
    "        # add 2nd hidden layer, with relu activation function\n",
    "        x = self.fc2(x)\n",
    "        return x\n",
    "\n",
    "# create a complete CNN\n",
    "model = Net()\n",
    "print(model)\n",
    "\n",
    "# move tensors to GPU if CUDA is available\n",
    "if train_on_gpu:\n",
    "    torch.cuda.empty_cache()\n",
    "    model.cuda()"
   ]
  },
  {
   "cell_type": "code",
   "execution_count": 31,
   "metadata": {},
   "outputs": [],
   "source": [
    "import torch.optim as optim\n",
    "\n",
    "# specify loss function (categorical cross-entropy)\n",
    "criterion = nn.CrossEntropyLoss()\n",
    "\n",
    "# specify optimizer\n",
    "\n",
    "# optimizer = optim.Adam(model.parameters(), lr=0.0001 )\n",
    "optimizer = optim.Adam(model.parameters(), lr=0.0001, amsgrad=True, eps=1e-8, weight_decay=1e-5 )\n"
   ]
  },
  {
   "cell_type": "code",
   "execution_count": null,
   "metadata": {},
   "outputs": [],
   "source": []
  },
  {
   "cell_type": "code",
   "execution_count": 32,
   "metadata": {},
   "outputs": [
    {
     "name": "stdout",
     "output_type": "stream",
     "text": [
      "Epoch: 1 \tTraining Loss: 3.644808 \tValidation Loss: 0.904307\n",
      "Validation loss decreased (inf --> 0.904307).  Saving model ...\n",
      "1 epoc costs 56.37814688682556 seconds\n",
      "Epoch: 2 \tTraining Loss: 3.576917 \tValidation Loss: 0.884029\n",
      "Validation loss decreased (0.904307 --> 0.884029).  Saving model ...\n",
      "2 epoc costs 53.486586570739746 seconds\n",
      "Epoch: 3 \tTraining Loss: 3.370702 \tValidation Loss: 0.811863\n",
      "Validation loss decreased (0.884029 --> 0.811863).  Saving model ...\n",
      "3 epoc costs 71.45089745521545 seconds\n",
      "Epoch: 4 \tTraining Loss: 3.109682 \tValidation Loss: 0.747845\n",
      "Validation loss decreased (0.811863 --> 0.747845).  Saving model ...\n",
      "4 epoc costs 49.721320152282715 seconds\n",
      "Epoch: 5 \tTraining Loss: 2.901030 \tValidation Loss: 0.710042\n",
      "Validation loss decreased (0.747845 --> 0.710042).  Saving model ...\n",
      "5 epoc costs 49.14977478981018 seconds\n",
      "Epoch: 6 \tTraining Loss: 2.796367 \tValidation Loss: 0.689223\n",
      "Validation loss decreased (0.710042 --> 0.689223).  Saving model ...\n",
      "6 epoc costs 49.47692561149597 seconds\n",
      "Epoch: 7 \tTraining Loss: 2.719516 \tValidation Loss: 0.668187\n",
      "Validation loss decreased (0.689223 --> 0.668187).  Saving model ...\n",
      "7 epoc costs 49.34596014022827 seconds\n",
      "Epoch: 8 \tTraining Loss: 2.658031 \tValidation Loss: 0.659586\n",
      "Validation loss decreased (0.668187 --> 0.659586).  Saving model ...\n",
      "8 epoc costs 50.90306520462036 seconds\n",
      "Epoch: 9 \tTraining Loss: 2.590445 \tValidation Loss: 0.645914\n",
      "Validation loss decreased (0.659586 --> 0.645914).  Saving model ...\n",
      "9 epoc costs 49.91142916679382 seconds\n",
      "Epoch: 10 \tTraining Loss: 2.547209 \tValidation Loss: 0.635974\n",
      "Validation loss decreased (0.645914 --> 0.635974).  Saving model ...\n",
      "10 epoc costs 50.87423634529114 seconds\n",
      "Epoch: 11 \tTraining Loss: 2.499272 \tValidation Loss: 0.621963\n",
      "Validation loss decreased (0.635974 --> 0.621963).  Saving model ...\n",
      "11 epoc costs 49.85869836807251 seconds\n",
      "Epoch: 12 \tTraining Loss: 2.450492 \tValidation Loss: 0.611227\n",
      "Validation loss decreased (0.621963 --> 0.611227).  Saving model ...\n",
      "12 epoc costs 49.50995898246765 seconds\n",
      "Epoch: 13 \tTraining Loss: 2.410945 \tValidation Loss: 0.599384\n",
      "Validation loss decreased (0.611227 --> 0.599384).  Saving model ...\n",
      "13 epoc costs 49.033686876297 seconds\n",
      "Epoch: 14 \tTraining Loss: 2.375625 \tValidation Loss: 0.602384\n",
      "14 epoc costs 49.66771912574768 seconds\n",
      "Epoch: 15 \tTraining Loss: 2.332594 \tValidation Loss: 0.590990\n",
      "Validation loss decreased (0.599384 --> 0.590990).  Saving model ...\n",
      "15 epoc costs 48.80059194564819 seconds\n",
      "Epoch: 16 \tTraining Loss: 2.318754 \tValidation Loss: 0.586317\n",
      "Validation loss decreased (0.590990 --> 0.586317).  Saving model ...\n",
      "16 epoc costs 49.275832176208496 seconds\n",
      "Epoch: 17 \tTraining Loss: 2.282862 \tValidation Loss: 0.577438\n",
      "Validation loss decreased (0.586317 --> 0.577438).  Saving model ...\n",
      "17 epoc costs 49.03330636024475 seconds\n",
      "Epoch: 18 \tTraining Loss: 2.237930 \tValidation Loss: 0.573173\n",
      "Validation loss decreased (0.577438 --> 0.573173).  Saving model ...\n",
      "18 epoc costs 49.20044183731079 seconds\n",
      "Epoch: 19 \tTraining Loss: 2.216408 \tValidation Loss: 0.571225\n",
      "Validation loss decreased (0.573173 --> 0.571225).  Saving model ...\n",
      "19 epoc costs 49.80542039871216 seconds\n",
      "Epoch: 20 \tTraining Loss: 2.204414 \tValidation Loss: 0.564770\n",
      "Validation loss decreased (0.571225 --> 0.564770).  Saving model ...\n",
      "20 epoc costs 51.04232740402222 seconds\n",
      "Epoch: 21 \tTraining Loss: 2.169730 \tValidation Loss: 0.560058\n",
      "Validation loss decreased (0.564770 --> 0.560058).  Saving model ...\n",
      "21 epoc costs 49.507922887802124 seconds\n",
      "Epoch: 22 \tTraining Loss: 2.138689 \tValidation Loss: 0.553105\n",
      "Validation loss decreased (0.560058 --> 0.553105).  Saving model ...\n",
      "22 epoc costs 49.570993185043335 seconds\n",
      "Epoch: 23 \tTraining Loss: 2.128362 \tValidation Loss: 0.544421\n",
      "Validation loss decreased (0.553105 --> 0.544421).  Saving model ...\n",
      "23 epoc costs 49.63566756248474 seconds\n",
      "Epoch: 24 \tTraining Loss: 2.094412 \tValidation Loss: 0.543501\n",
      "Validation loss decreased (0.544421 --> 0.543501).  Saving model ...\n",
      "24 epoc costs 49.33108162879944 seconds\n",
      "Epoch: 25 \tTraining Loss: 2.072539 \tValidation Loss: 0.537095\n",
      "Validation loss decreased (0.543501 --> 0.537095).  Saving model ...\n",
      "25 epoc costs 49.45135045051575 seconds\n",
      "Epoch: 26 \tTraining Loss: 2.053767 \tValidation Loss: 0.534925\n",
      "Validation loss decreased (0.537095 --> 0.534925).  Saving model ...\n",
      "26 epoc costs 49.08395314216614 seconds\n",
      "Epoch: 27 \tTraining Loss: 2.028054 \tValidation Loss: 0.529175\n",
      "Validation loss decreased (0.534925 --> 0.529175).  Saving model ...\n",
      "27 epoc costs 49.368202686309814 seconds\n",
      "Epoch: 28 \tTraining Loss: 1.994548 \tValidation Loss: 0.532647\n",
      "28 epoc costs 49.36945819854736 seconds\n",
      "Epoch: 29 \tTraining Loss: 1.977359 \tValidation Loss: 0.516798\n",
      "Validation loss decreased (0.529175 --> 0.516798).  Saving model ...\n",
      "29 epoc costs 49.21217584609985 seconds\n",
      "Epoch: 30 \tTraining Loss: 1.968899 \tValidation Loss: 0.527586\n",
      "30 epoc costs 49.167515993118286 seconds\n",
      "Epoch: 31 \tTraining Loss: 1.950747 \tValidation Loss: 0.521180\n",
      "31 epoc costs 49.4297821521759 seconds\n",
      "Epoch: 32 \tTraining Loss: 1.923084 \tValidation Loss: 0.521665\n",
      "32 epoc costs 49.07203435897827 seconds\n",
      "Epoch: 33 \tTraining Loss: 1.910506 \tValidation Loss: 0.512251\n",
      "Validation loss decreased (0.516798 --> 0.512251).  Saving model ...\n",
      "33 epoc costs 49.6240291595459 seconds\n",
      "Epoch: 34 \tTraining Loss: 1.886048 \tValidation Loss: 0.508468\n",
      "Validation loss decreased (0.512251 --> 0.508468).  Saving model ...\n",
      "34 epoc costs 49.35231018066406 seconds\n",
      "Epoch: 35 \tTraining Loss: 1.869799 \tValidation Loss: 0.509303\n",
      "35 epoc costs 49.27127957344055 seconds\n",
      "Epoch: 36 \tTraining Loss: 1.845681 \tValidation Loss: 0.501518\n",
      "Validation loss decreased (0.508468 --> 0.501518).  Saving model ...\n",
      "36 epoc costs 49.34230279922485 seconds\n",
      "Epoch: 37 \tTraining Loss: 1.834444 \tValidation Loss: 0.506262\n",
      "37 epoc costs 49.70490646362305 seconds\n",
      "Epoch: 38 \tTraining Loss: 1.804506 \tValidation Loss: 0.495476\n",
      "Validation loss decreased (0.501518 --> 0.495476).  Saving model ...\n",
      "38 epoc costs 49.73359441757202 seconds\n",
      "Epoch: 39 \tTraining Loss: 1.797336 \tValidation Loss: 0.488601\n",
      "Validation loss decreased (0.495476 --> 0.488601).  Saving model ...\n",
      "39 epoc costs 50.26691937446594 seconds\n",
      "Epoch: 40 \tTraining Loss: 1.781955 \tValidation Loss: 0.492083\n",
      "40 epoc costs 50.50685501098633 seconds\n",
      "Epoch: 41 \tTraining Loss: 1.775990 \tValidation Loss: 0.485002\n",
      "Validation loss decreased (0.488601 --> 0.485002).  Saving model ...\n",
      "41 epoc costs 49.2224280834198 seconds\n",
      "Epoch: 42 \tTraining Loss: 1.742324 \tValidation Loss: 0.482618\n",
      "Validation loss decreased (0.485002 --> 0.482618).  Saving model ...\n",
      "42 epoc costs 49.178563594818115 seconds\n",
      "Epoch: 43 \tTraining Loss: 1.733985 \tValidation Loss: 0.481996\n",
      "Validation loss decreased (0.482618 --> 0.481996).  Saving model ...\n",
      "43 epoc costs 49.247745513916016 seconds\n",
      "Epoch: 44 \tTraining Loss: 1.702050 \tValidation Loss: 0.482488\n",
      "44 epoc costs 49.56736874580383 seconds\n",
      "Epoch: 45 \tTraining Loss: 1.706989 \tValidation Loss: 0.478122\n",
      "Validation loss decreased (0.481996 --> 0.478122).  Saving model ...\n",
      "45 epoc costs 49.18518567085266 seconds\n",
      "Epoch: 46 \tTraining Loss: 1.705157 \tValidation Loss: 0.474904\n",
      "Validation loss decreased (0.478122 --> 0.474904).  Saving model ...\n",
      "46 epoc costs 49.43691086769104 seconds\n",
      "Epoch: 47 \tTraining Loss: 1.687578 \tValidation Loss: 0.471287\n",
      "Validation loss decreased (0.474904 --> 0.471287).  Saving model ...\n",
      "47 epoc costs 49.35380291938782 seconds\n",
      "Epoch: 48 \tTraining Loss: 1.657140 \tValidation Loss: 0.482075\n",
      "48 epoc costs 49.47901773452759 seconds\n",
      "Epoch: 49 \tTraining Loss: 1.647469 \tValidation Loss: 0.472087\n",
      "49 epoc costs 49.12233257293701 seconds\n",
      "Epoch: 50 \tTraining Loss: 1.634404 \tValidation Loss: 0.468776\n",
      "Validation loss decreased (0.471287 --> 0.468776).  Saving model ...\n",
      "50 epoc costs 49.36410307884216 seconds\n",
      "Epoch: 51 \tTraining Loss: 1.612668 \tValidation Loss: 0.466359\n",
      "Validation loss decreased (0.468776 --> 0.466359).  Saving model ...\n",
      "51 epoc costs 48.9970440864563 seconds\n",
      "Epoch: 52 \tTraining Loss: 1.609161 \tValidation Loss: 0.465480\n",
      "Validation loss decreased (0.466359 --> 0.465480).  Saving model ...\n",
      "52 epoc costs 49.325647592544556 seconds\n",
      "Epoch: 53 \tTraining Loss: 1.596816 \tValidation Loss: 0.463618\n",
      "Validation loss decreased (0.465480 --> 0.463618).  Saving model ...\n",
      "53 epoc costs 49.41765737533569 seconds\n"
     ]
    },
    {
     "name": "stdout",
     "output_type": "stream",
     "text": [
      "Epoch: 54 \tTraining Loss: 1.562566 \tValidation Loss: 0.467094\n",
      "54 epoc costs 49.48591995239258 seconds\n",
      "Epoch: 55 \tTraining Loss: 1.575011 \tValidation Loss: 0.454463\n",
      "Validation loss decreased (0.463618 --> 0.454463).  Saving model ...\n",
      "55 epoc costs 49.37676930427551 seconds\n",
      "Epoch: 56 \tTraining Loss: 1.559339 \tValidation Loss: 0.452795\n",
      "Validation loss decreased (0.454463 --> 0.452795).  Saving model ...\n",
      "56 epoc costs 49.69843554496765 seconds\n",
      "Epoch: 57 \tTraining Loss: 1.540469 \tValidation Loss: 0.454445\n",
      "57 epoc costs 49.60300970077515 seconds\n",
      "Epoch: 58 \tTraining Loss: 1.534368 \tValidation Loss: 0.457445\n",
      "58 epoc costs 49.165464639663696 seconds\n",
      "Epoch: 59 \tTraining Loss: 1.514492 \tValidation Loss: 0.461445\n",
      "59 epoc costs 49.3442280292511 seconds\n",
      "Epoch: 60 \tTraining Loss: 1.508145 \tValidation Loss: 0.444894\n",
      "Validation loss decreased (0.452795 --> 0.444894).  Saving model ...\n",
      "60 epoc costs 49.17800426483154 seconds\n",
      "Epoch: 61 \tTraining Loss: 1.498392 \tValidation Loss: 0.443715\n",
      "Validation loss decreased (0.444894 --> 0.443715).  Saving model ...\n",
      "61 epoc costs 49.47518992424011 seconds\n",
      "Epoch: 62 \tTraining Loss: 1.481083 \tValidation Loss: 0.448087\n",
      "62 epoc costs 49.290510177612305 seconds\n",
      "Epoch: 63 \tTraining Loss: 1.471350 \tValidation Loss: 0.447388\n",
      "63 epoc costs 49.334275245666504 seconds\n",
      "Epoch: 64 \tTraining Loss: 1.452795 \tValidation Loss: 0.454184\n",
      "64 epoc costs 49.54411554336548 seconds\n",
      "Epoch: 65 \tTraining Loss: 1.434182 \tValidation Loss: 0.443726\n",
      "65 epoc costs 49.607192277908325 seconds\n",
      "Epoch: 66 \tTraining Loss: 1.437335 \tValidation Loss: 0.446039\n",
      "66 epoc costs 49.2144238948822 seconds\n",
      "Epoch: 67 \tTraining Loss: 1.425603 \tValidation Loss: 0.438737\n",
      "Validation loss decreased (0.443715 --> 0.438737).  Saving model ...\n",
      "67 epoc costs 49.35280156135559 seconds\n",
      "Epoch: 68 \tTraining Loss: 1.409861 \tValidation Loss: 0.439271\n",
      "68 epoc costs 49.40079045295715 seconds\n",
      "Epoch: 69 \tTraining Loss: 1.406199 \tValidation Loss: 0.435045\n",
      "Validation loss decreased (0.438737 --> 0.435045).  Saving model ...\n",
      "69 epoc costs 49.30424451828003 seconds\n",
      "Epoch: 70 \tTraining Loss: 1.383824 \tValidation Loss: 0.442018\n",
      "70 epoc costs 49.06087350845337 seconds\n",
      "Epoch: 71 \tTraining Loss: 1.391793 \tValidation Loss: 0.436676\n",
      "71 epoc costs 48.925517082214355 seconds\n",
      "Epoch: 72 \tTraining Loss: 1.385013 \tValidation Loss: 0.435620\n",
      "72 epoc costs 48.86382007598877 seconds\n",
      "Epoch: 73 \tTraining Loss: 1.358852 \tValidation Loss: 0.423896\n",
      "Validation loss decreased (0.435045 --> 0.423896).  Saving model ...\n",
      "73 epoc costs 49.259864807128906 seconds\n",
      "Epoch: 74 \tTraining Loss: 1.350009 \tValidation Loss: 0.453853\n",
      "74 epoc costs 49.450493574142456 seconds\n",
      "Epoch: 75 \tTraining Loss: 1.352387 \tValidation Loss: 0.432534\n",
      "75 epoc costs 49.142871141433716 seconds\n",
      "Epoch: 76 \tTraining Loss: 1.345278 \tValidation Loss: 0.435133\n",
      "76 epoc costs 49.443060636520386 seconds\n",
      "Epoch: 77 \tTraining Loss: 1.323102 \tValidation Loss: 0.425006\n",
      "77 epoc costs 50.70187735557556 seconds\n",
      "Epoch: 78 \tTraining Loss: 1.315331 \tValidation Loss: 0.417305\n",
      "Validation loss decreased (0.423896 --> 0.417305).  Saving model ...\n",
      "78 epoc costs 49.04533243179321 seconds\n",
      "Epoch: 79 \tTraining Loss: 1.300563 \tValidation Loss: 0.430921\n",
      "79 epoc costs 49.35440278053284 seconds\n",
      "Epoch: 80 \tTraining Loss: 1.292645 \tValidation Loss: 0.424543\n",
      "80 epoc costs 49.364054441452026 seconds\n",
      "Epoch: 81 \tTraining Loss: 1.274485 \tValidation Loss: 0.428556\n",
      "81 epoc costs 49.38677358627319 seconds\n",
      "Epoch: 82 \tTraining Loss: 1.272445 \tValidation Loss: 0.436377\n",
      "82 epoc costs 49.5219042301178 seconds\n",
      "Epoch: 83 \tTraining Loss: 1.262378 \tValidation Loss: 0.437681\n",
      "83 epoc costs 49.681519746780396 seconds\n",
      "Epoch: 84 \tTraining Loss: 1.251737 \tValidation Loss: 0.439338\n",
      "84 epoc costs 49.449466943740845 seconds\n",
      "Epoch: 85 \tTraining Loss: 1.246127 \tValidation Loss: 0.425541\n",
      "85 epoc costs 49.48640298843384 seconds\n",
      "Epoch: 86 \tTraining Loss: 1.244106 \tValidation Loss: 0.432444\n",
      "86 epoc costs 49.41530966758728 seconds\n",
      "Epoch: 87 \tTraining Loss: 1.246931 \tValidation Loss: 0.431514\n",
      "87 epoc costs 49.28858518600464 seconds\n",
      "Epoch: 88 \tTraining Loss: 1.222922 \tValidation Loss: 0.430131\n",
      "88 epoc costs 49.6632182598114 seconds\n",
      "Epoch: 89 \tTraining Loss: 1.217388 \tValidation Loss: 0.429489\n",
      "89 epoc costs 49.622915744781494 seconds\n",
      "Epoch: 90 \tTraining Loss: 1.226791 \tValidation Loss: 0.425997\n",
      "90 epoc costs 49.99529051780701 seconds\n",
      "Epoch: 91 \tTraining Loss: 1.211570 \tValidation Loss: 0.436022\n",
      "91 epoc costs 49.46979331970215 seconds\n",
      "Epoch: 92 \tTraining Loss: 1.182800 \tValidation Loss: 0.424027\n",
      "92 epoc costs 50.088549852371216 seconds\n",
      "Epoch: 93 \tTraining Loss: 1.184412 \tValidation Loss: 0.423313\n",
      "93 epoc costs 49.21742558479309 seconds\n",
      "Epoch: 94 \tTraining Loss: 1.166128 \tValidation Loss: 0.427203\n",
      "94 epoc costs 49.872824907302856 seconds\n",
      "Epoch: 95 \tTraining Loss: 1.150945 \tValidation Loss: 0.423216\n",
      "95 epoc costs 50.148581981658936 seconds\n",
      "Epoch: 96 \tTraining Loss: 1.144311 \tValidation Loss: 0.428969\n",
      "96 epoc costs 49.36587381362915 seconds\n",
      "Epoch: 97 \tTraining Loss: 1.152219 \tValidation Loss: 0.434007\n",
      "97 epoc costs 49.464123010635376 seconds\n",
      "Epoch: 98 \tTraining Loss: 1.148697 \tValidation Loss: 0.429210\n",
      "98 epoc costs 49.031861543655396 seconds\n",
      "Epoch: 99 \tTraining Loss: 1.118758 \tValidation Loss: 0.433114\n",
      "99 epoc costs 49.258322954177856 seconds\n",
      "Epoch: 100 \tTraining Loss: 1.127626 \tValidation Loss: 0.415399\n",
      "Validation loss decreased (0.417305 --> 0.415399).  Saving model ...\n",
      "100 epoc costs 49.32553267478943 seconds\n"
     ]
    }
   ],
   "source": [
    "# number of epochs to train the model\n",
    "n_epochs = 100\n",
    "\n",
    "valid_loss_min = np.Inf # track change in validation loss\n",
    "\n",
    "for epoch in range(1, n_epochs+1):\n",
    "\n",
    "    # keep track of training and validation loss\n",
    "    train_loss = 0.0\n",
    "    valid_loss = 0.0\n",
    "    \n",
    "    ###################\n",
    "    # train the model #\n",
    "    ###################\n",
    "    model.train()\n",
    "    start = time.time()\n",
    "    \n",
    "    for batch_index, (data, target) in enumerate(train_loader):\n",
    "#         print(\"-------------------train---------------------\")\n",
    "#         print(data.size())\n",
    "#         print(target)\n",
    "        \n",
    "#         start_batch = time.time()\n",
    "\n",
    "        # move tensors to GPU if CUDA is available\n",
    "        if train_on_gpu:\n",
    "            data, target = data.cuda(), target.cuda().type(torch.cuda.LongTensor)\n",
    "        # clear the gradients of all optimized variables\n",
    "        optimizer.zero_grad()        # (train)forward pass: compute predicted outputs by passing inputs to the model\n",
    "        \n",
    "        output = model(data)\n",
    "        \n",
    "#         print(output)\n",
    "        \n",
    "        # calculate the batch loss\n",
    "        loss = criterion(output, target)\n",
    "        # backward pass: compute gradient of the loss with respect to model parameters\n",
    "        loss.backward()\n",
    "        # perform a single optimization step (parameter update)\n",
    "        optimizer.step()\n",
    "        # update training loss\n",
    "        train_loss += loss.item()*data.size(0)\n",
    "        \n",
    "#         print('{} batch: train loss {} '.format( batch_index+1,loss.item()*data.size(0)/batch_size))\n",
    "\n",
    "    ######################    \n",
    "    # validate the model #\n",
    "    ######################\n",
    "    model.eval()\n",
    "    for data, target in valid_loader:\n",
    "#         print(\"-------------------validate----------------------\")\n",
    "#         print(len(data))\n",
    "#         print(target)\n",
    "        # move tensors to GPU if CUDA is available\n",
    "        if train_on_gpu:\n",
    "            data, target = data.cuda(), target.cuda().type(torch.cuda.LongTensor)\n",
    "        # (validation)forward pass: compute predicted outputs by passing inputs to the model\n",
    "        output = model(data)\n",
    "        # calculate the batch loss\n",
    "        loss = criterion(output, target)\n",
    "        # update average validation loss \n",
    "        valid_loss += loss.item()*data.size(0)\n",
    "#         print('{} batch: valid loss {} '.format( batch_index+1,loss.item()*data.size(0)/batch_size))\n",
    "        \n",
    "    # calculate average losses\n",
    "    train_loss = train_loss/len(train_loader.dataset)\n",
    "    valid_loss = valid_loss/len(valid_loader.dataset)\n",
    "        \n",
    "    # print training/validation statistics \n",
    "    print('Epoch: {} \\tTraining Loss: {:.6f} \\tValidation Loss: {:.6f}'.format(\n",
    "        epoch, train_loss, valid_loss))\n",
    "    \n",
    "    # save model if validation loss has decreased\n",
    "    if valid_loss <= valid_loss_min:\n",
    "        print('Validation loss decreased ({:.6f} --> {:.6f}).  Saving model ...'.format(\n",
    "        valid_loss_min,\n",
    "        valid_loss))\n",
    "        torch.save(model.state_dict(), 'model_flower_v6_2e'+ str(epoch) + '.pt')\n",
    "        valid_loss_min = valid_loss\n",
    "\n",
    "    print('{} epoc costs {} seconds'.format( epoch,time.time() - start))"
   ]
  },
  {
   "cell_type": "markdown",
   "metadata": {},
   "source": [
    "## Save the checkpoint\n",
    "\n",
    "Now that your network is trained, save the model so you can load it later for making predictions. You probably want to save other things such as the mapping of classes to indices which you get from one of the image datasets: `image_datasets['train'].class_to_idx`. You can attach this to the model as an attribute which makes inference easier later on.\n",
    "\n",
    "```model.class_to_idx = image_datasets['train'].class_to_idx```\n",
    "\n",
    "Remember that you'll want to completely rebuild the model later so you can use it for inference. Make sure to include any information you need in the checkpoint. If you want to load the model and keep training, you'll want to save the number of epochs as well as the optimizer state, `optimizer.state_dict`. You'll likely want to use this trained model in the next part of the project, so best to save it now."
   ]
  },
  {
   "cell_type": "code",
   "execution_count": 33,
   "metadata": {},
   "outputs": [],
   "source": [
    "# TODO: Save the checkpoint \n",
    "\n",
    "state = {'state_dict': model.state_dict(),\n",
    "             'optimizer': optimizer.state_dict()}\n",
    "torch.save(state, 'model_flower_v6_2.pt')"
   ]
  },
  {
   "cell_type": "markdown",
   "metadata": {},
   "source": [
    "## Loading the checkpoint\n",
    "\n",
    "At this point it's good to write a function that can load a checkpoint and rebuild the model. That way you can come back to this project and keep working on it without having to retrain the network."
   ]
  },
  {
   "cell_type": "code",
   "execution_count": 40,
   "metadata": {},
   "outputs": [
    {
     "name": "stdout",
     "output_type": "stream",
     "text": [
      "Net(\n",
      "  (conv1): Conv2d(3, 16, kernel_size=(3, 3), stride=(1, 1), padding=(1, 1))\n",
      "  (conv2): Conv2d(16, 16, kernel_size=(3, 3), stride=(1, 1), padding=(1, 1))\n",
      "  (conv3): Conv2d(16, 32, kernel_size=(3, 3), stride=(1, 1), padding=(1, 1))\n",
      "  (conv4): Conv2d(32, 32, kernel_size=(3, 3), stride=(1, 1), padding=(1, 1))\n",
      "  (pool): MaxPool2d(kernel_size=2, stride=2, padding=0, dilation=1, ceil_mode=False)\n",
      "  (fc1): Linear(in_features=512, out_features=512, bias=True)\n",
      "  (fc2): Linear(in_features=512, out_features=103, bias=True)\n",
      "  (dropout): Dropout(p=0.25)\n",
      ")\n"
     ]
    }
   ],
   "source": [
    "class Net(nn.Module):\n",
    "    def __init__(self):\n",
    "        super(Net, self).__init__()\n",
    "        # convolutional layer (sees 64x64x3 image tensor)\n",
    "        self.conv1 = nn.Conv2d(3, 16, 3, padding=1)\n",
    "        # convolutional layer (sees 16x32x32 tensor)\n",
    "        self.conv2 = nn.Conv2d(16, 16, 3, padding=1)\n",
    "        # convolutional layer (sees 32x16x16 tensor)\n",
    "        self.conv3 = nn.Conv2d(16, 32, 3, padding=1)\n",
    "        # convolutional layer (sees 64x8x8 tensor)\n",
    "        self.conv4 = nn.Conv2d(32, 32, 3, padding=1)\n",
    "        # convolutional layer (sees 64x4x4 tensor)        \n",
    "        \n",
    "        # max pooling layer\n",
    "        self.pool = nn.MaxPool2d(2, 2)\n",
    "        # linear layer (128 * 16 * 16 -> 500)\n",
    "        self.fc1 = nn.Linear(32 * 4 * 4, 512)\n",
    "        # linear layer (500 -> 10)\n",
    "        self.fc2 = nn.Linear(512, 103)\n",
    "        # dropout layer (p=0.25)\n",
    "        self.dropout = nn.Dropout(0.25)\n",
    "\n",
    "    def forward(self, x):\n",
    "        # add sequence of convolutional and max pooling layers\n",
    "        x = self.pool(F.relu(self.conv1(x)))\n",
    "        x = self.dropout(x)\n",
    "        x = self.pool(F.relu(self.conv2(x)))\n",
    "        x = self.dropout(x)        \n",
    "        x = self.pool(F.relu(self.conv3(x)))\n",
    "        x = self.dropout(x)\n",
    "        x = self.pool(F.relu(self.conv4(x)))\n",
    "       \n",
    "        # flatten image input\n",
    "        x = x.view(-1, 32 * 4 * 4)\n",
    "        # add dropout layer\n",
    "#         x = self.dropout(x)\n",
    "        # add 1st hidden layer, with relu activation function\n",
    "        x = F.relu(self.fc1(x))\n",
    "        # add dropout layer\n",
    "        x = self.dropout(x)\n",
    "        # add 2nd hidden layer, with relu activation function\n",
    "        x = self.fc2(x)\n",
    "        return x\n",
    "\n",
    "# create a complete CNN\n",
    "model = Net()\n",
    "print(model)\n",
    "    \n",
    "# TODO: Write a function that loads a checkpoint and rebuilds the model\n",
    "def load_checkpoint(model, filename='model_flower_v6_2.pt'):\n",
    "    # Note: Input model & optimizer should be pre-defined.  This routine only updates their states.\n",
    "    if os.path.isfile(filename):\n",
    "        print(\"=> loading checkpoint '{}'\".format(filename))\n",
    "        checkpoint = torch.load(filename)\n",
    "        model.load_state_dict(checkpoint['state_dict'])\n",
    "        optimizer.load_state_dict(checkpoint['optimizer'])\n",
    "\n",
    "    else:\n",
    "        print(\"=> no checkpoint found at '{}'\".format(filename))\n",
    "\n",
    "    return model\n",
    "\n"
   ]
  },
  {
   "cell_type": "code",
   "execution_count": 42,
   "metadata": {},
   "outputs": [
    {
     "name": "stdout",
     "output_type": "stream",
     "text": [
      "=> loading checkpoint 'model_flower_v6_2.pt'\n"
     ]
    }
   ],
   "source": [
    "model = load_checkpoint(model, 'model_flower_v6_2.pt')\n",
    "\n",
    "# move tensors to GPU if CUDA is available\n",
    "if train_on_gpu:\n",
    "    torch.cuda.empty_cache()\n",
    "    model.cuda()"
   ]
  },
  {
   "cell_type": "code",
   "execution_count": 43,
   "metadata": {},
   "outputs": [],
   "source": [
    "\n",
    "# TODO: Define your transforms for the training and validation sets\n",
    "data_transforms = transforms.Compose([transforms.Resize(64),\n",
    "                    transforms.CenterCrop(64),\n",
    "                    transforms.ToTensor(),\n",
    "                    transforms.Normalize((0.485, 0.456, 0.406), (0.229, 0.224, 0.225))\n",
    "                    ])\n",
    "\n",
    "test_image_datasets = datasets.ImageFolder(valid_dir, transform=data_transforms)\n",
    "\n",
    "num_workers = 0\n",
    "batch_size = 32\n",
    "\n",
    "test_loader = torch.utils.data.DataLoader(test_image_datasets, batch_size=batch_size, \n",
    "    num_workers=num_workers)"
   ]
  },
  {
   "cell_type": "code",
   "execution_count": 44,
   "metadata": {},
   "outputs": [
    {
     "name": "stdout",
     "output_type": "stream",
     "text": [
      "-------------------Test result----------------------\n",
      "0 -->  [0 1 1 0 0 0 0 1 1 0 1 1 0 1 1 1 1 1 0 0 0 1 0 0 0 0 0 0 0 0 0 0]\n",
      "-------------------Test result----------------------\n",
      "1 -->  [0 0 0 0 0 0 1 1 1 0 0 0 1 0 0 1 0 1 0 1 1 0 1 0 1 0 0 0 1 1 1 1]\n",
      "-------------------Test result----------------------\n",
      "2 -->  [0 1 1 1 1 1 1 1 1 1 1 0 1 0 1 0 0 0 0 1 0 0 1 0 1 1 1 1 1 1 1 1]\n",
      "-------------------Test result----------------------\n",
      "3 -->  [1 0 0 1 0 0 0 1 1 1 0 0 0 0 1 0 0 1 0 1 0 0 0 0 0 1 0 0 0 0 0 1]\n",
      "-------------------Test result----------------------\n",
      "4 -->  [1 1 0 1 1 1 0 0 0 0 1 0 1 0 1 1 1 0 1 0 1 0 0 0 0 0 0 0 0 0 0 0]\n",
      "-------------------Test result----------------------\n",
      "5 -->  [0 0 0 0 0 0 0 0 0 0 0 0 0 0 0 0 0 0 0 0 0 0 0 0 1 0 1 1 0 0 1 1]\n",
      "-------------------Test result----------------------\n",
      "6 -->  [0 1 1 1 1 0 1 1 0 0 0 0 0 1 1 0 0 0 0 0 0 0 0 0 0 0 0 0 0 0 0 0]\n",
      "-------------------Test result----------------------\n",
      "7 -->  [1 1 0 1 0 0 0 0 0 0 0 0 1 0 0 1 1 0 1 0 0 0 0 0 0 0 0 0 0 0 0 1]\n",
      "-------------------Test result----------------------\n",
      "8 -->  [0 1 0 1 1 1 0 0 1 0 0 1 1 1 1 0 0 1 1 1 1 0 0 0 1 1 0 0 1 1 1 0]\n",
      "-------------------Test result----------------------\n",
      "9 -->  [0 0 0 1 1 0 1 0 1 1 0 1 1 1 0 0 0 1 1 1 0 1 1 1 0 1 0 0 1 1 0 1]\n",
      "-------------------Test result----------------------\n",
      "10 -->  [0 1 1 1 0 1 1 0 1 1 1 1 1 1 1 0 1 1 0 0 0 0 0 0 0 0 0 0 0 0 0 1]\n",
      "-------------------Test result----------------------\n",
      "11 -->  [1 1 0 0 0 1 1 0 0 0 0 0 0 0 0 0 0 1 1 1 0 1 1 0 0 1 1 0 1 0 1 1]\n",
      "-------------------Test result----------------------\n",
      "12 -->  [0 1 1 1 1 1 1 1 1 1 1 1 1 0 1 0 1 0 1 1 1 0 1 1 1 1 1 1 1 1 1 1]\n",
      "-------------------Test result----------------------\n",
      "13 -->  [0 1 1 0 0 1 1 1 0 1 0 1 1 1 1 1 1 0 0 0 1 0 1 1 1 0 0 0 1 1 1 1]\n",
      "-------------------Test result----------------------\n",
      "14 -->  [0 1 1 1 1 1 1 0 1 1 1 0 1 1 0 1 1 1 1 1 1 1 0 0 0 1 1 1 0 1 1 0]\n",
      "-------------------Test result----------------------\n",
      "15 -->  [0 1 0 0 0 0 1 1 0 0 1 1 1 1 0 1 0 1 0 0 0 1 0 1 1 1 0 1 0 0 0 1]\n",
      "-------------------Test result----------------------\n",
      "16 -->  [0 0 1 1 1 1 0 0 0 0 0 0 0 1 1 0 0 0 1 0 1 1 0 0 0 1 0 0 1 1 1 1]\n",
      "-------------------Test result----------------------\n",
      "17 -->  [1 0 1 1 1 1 1 0 0 0 0 0 1 0 1 1 0 1 1 0 1 0 1 1 1 0 1 0 1 0 1 1]\n",
      "-------------------Test result----------------------\n",
      "18 -->  [1 1 1 1 0 1 1 1 1 1 1 0 0 1 1 0 1 1 1 1 1 1 0 1 1 1 1 0 0 1 0 0]\n",
      "-------------------Test result----------------------\n",
      "19 -->  [1 1 1 0 1 1 0 0 0 0 0 1 0 0 0 0 0 1 1 1 0 1 1 1 1 1 1 1 0 0 0 0]\n",
      "-------------------Test result----------------------\n",
      "20 -->  [0 1 0 0 0 0 0 0 0 0 0 0 0 0 1 0 1 0 0 0 1 0 0 1 0 0 0 0 1 0 0 0]\n",
      "-------------------Test result----------------------\n",
      "21 -->  [0 0 1 0 0 0 1 0 0 0 0 0 0 0 0 1 0 1 0 1 1 1 1 0 1 0 0 1 1 0 1 1]\n",
      "-------------------Test result----------------------\n",
      "22 -->  [0 0 0 0 1 0 1 1 0 0 0 0 1 1 1 0 1 1 1 0 1 1 1 1 0 1 0 1 1 0 1 0]\n",
      "-------------------Test result----------------------\n",
      "23 -->  [1 1 0 0 0 0 0 0 0 0 0 1 0 0 0 1 0 0 0 0 0 0 0 0 1 1 0 0 1 0 0 0]\n",
      "-------------------Test result----------------------\n",
      "24 -->  [1 1 1 1 0 0 0 0 0 0 0 1 0 1 1 0 1 0 0 0 0 0 0 0 1 0 0 0 0 0 0 0]\n",
      "-------------------Test result----------------------\n",
      "25 -->  [1 0 0 1 0 1 1 0 1 1 0 1 0 1 0 0 1 0]\n",
      "Test Loss: 2.152425\n",
      "\n"
     ]
    }
   ],
   "source": [
    "# track test loss\n",
    "test_loss = 0.0\n",
    "class_correct = list(0. for i in range(102))\n",
    "class_total = list(0. for i in range(102))\n",
    "\n",
    "model.eval()\n",
    "\n",
    "# iterate over test data\n",
    "for batch_idx, (data, target) in enumerate(test_loader):\n",
    "    # move tensors to GPU if CUDA is available\n",
    "    if train_on_gpu:\n",
    "        data, target = data.cuda(), target.cuda()\n",
    "    # forward pass: compute predicted outputs by passing inputs to the model\n",
    "    output = model(data)\n",
    "    # calculate the batch loss\n",
    "    loss = criterion(output, target)\n",
    "    # update test loss \n",
    "    test_loss += loss.item()*data.size(0)\n",
    "    # convert output probabilities to predicted class\n",
    "    _, pred = torch.max(output, 1)    \n",
    "    # compare predictions to true label\n",
    "    correct_tensor = pred.eq(target.data.view_as(pred))\n",
    "    correct = np.squeeze(correct_tensor.numpy()) if not train_on_gpu else np.squeeze(correct_tensor.cpu().numpy())\n",
    "    \n",
    "    print(\"-------------------Test result----------------------\")\n",
    "    print(batch_idx,\"--> \", correct)\n",
    "        \n",
    "    # calculate test accuracy for each object class\n",
    "    for i in range(len(target.data)):\n",
    "        label = target.data[i]\n",
    "        class_correct[label] += correct[i].item()\n",
    "        class_total[label] += 1\n",
    "        \n",
    "# average test loss\n",
    "test_loss = test_loss/len(test_loader.dataset)\n",
    "print('Test Loss: {:.6f}\\n'.format(test_loss))"
   ]
  },
  {
   "cell_type": "code",
   "execution_count": 45,
   "metadata": {},
   "outputs": [
    {
     "name": "stdout",
     "output_type": "stream",
     "text": [
      "Test Accuracy of pink primrose: 37.50% ( 3/ 8)\n",
      "Test Accuracy of hard-leaved pocket orchid: 75.00% ( 3/ 4)\n",
      "Test Accuracy of canterbury bells: 83.33% ( 5/ 6)\n",
      "Test Accuracy of sweet pea: 20.00% ( 1/ 5)\n",
      "Test Accuracy of english marigold: 0.00% ( 0/ 6)\n",
      "Test Accuracy of tiger lily: 10.00% ( 1/10)\n",
      "Test Accuracy of moon orchid: 40.00% ( 2/ 5)\n",
      "Test Accuracy of bird of paradise: 40.00% ( 2/ 5)\n",
      "Test Accuracy of monkshood: 100.00% ( 1/ 1)\n",
      "Test Accuracy of globe thistle: 57.14% ( 4/ 7)\n",
      "Test Accuracy of snapdragon: 0.00% ( 0/ 2)\n",
      "Test Accuracy of colt's foot: 87.50% (14/16)\n",
      "Test Accuracy of king protea: 27.27% ( 3/11)\n",
      "Test Accuracy of spear thistle: 75.00% ( 3/ 4)\n",
      "Test Accuracy of yellow iris: 100.00% ( 6/ 6)\n",
      "Test Accuracy of globe-flower: 28.57% ( 2/ 7)\n",
      "Test Accuracy of purple coneflower: 75.00% ( 3/ 4)\n",
      "Test Accuracy of peruvian lily: 25.00% ( 2/ 8)\n",
      "Test Accuracy of balloon flower: 16.67% ( 2/12)\n",
      "Test Accuracy of giant white arum lily: 80.00% ( 4/ 5)\n",
      "Test Accuracy of fire lily: 100.00% ( 2/ 2)\n",
      "Test Accuracy of pincushion flower: 0.00% ( 0/ 3)\n",
      "Test Accuracy of fritillary: 0.00% ( 0/ 1)\n",
      "Test Accuracy of red ginger: 60.00% ( 3/ 5)\n",
      "Test Accuracy of grape hyacinth: 57.14% ( 4/ 7)\n",
      "Test Accuracy of corn poppy: 0.00% ( 0/ 2)\n",
      "Test Accuracy of prince of wales feathers: 0.00% ( 0/10)\n",
      "Test Accuracy of stemless gentian: 0.00% ( 0/ 2)\n",
      "Test Accuracy of artichoke: 0.00% ( 0/ 3)\n",
      "Test Accuracy of sweet william: 0.00% ( 0/ 7)\n",
      "Test Accuracy of carnation: 0.00% ( 0/ 7)\n",
      "Test Accuracy of garden phlox: 25.00% ( 1/ 4)\n",
      "Test Accuracy of love in the mist: 50.00% ( 3/ 6)\n",
      "Test Accuracy of mexican aster: 75.00% ( 6/ 8)\n",
      "Test Accuracy of alpine sea holly: 25.00% ( 1/ 4)\n",
      "Test Accuracy of ruby-lipped cattleya: 33.33% ( 1/ 3)\n",
      "Test Accuracy of cape flower: 16.67% ( 1/ 6)\n",
      "Test Accuracy of great masterwort: 0.00% ( 0/ 5)\n",
      "Test Accuracy of siam tulip: 18.75% ( 3/16)\n",
      "Test Accuracy of lenten rose: 16.67% ( 1/ 6)\n",
      "Test Accuracy of barbeton daisy: 21.43% ( 3/14)\n",
      "Test Accuracy of daffodil: 55.56% ( 5/ 9)\n",
      "Test Accuracy of sword lily: 25.00% ( 1/ 4)\n",
      "Test Accuracy of poinsettia: 55.56% (10/18)\n",
      "Test Accuracy of bolero deep blue: 100.00% ( 3/ 3)\n",
      "Test Accuracy of wallflower: 33.33% ( 3/ 9)\n",
      "Test Accuracy of marigold: 62.50% ( 5/ 8)\n",
      "Test Accuracy of buttercup: 71.43% ( 5/ 7)\n",
      "Test Accuracy of oxeye daisy: 54.55% ( 6/11)\n",
      "Test Accuracy of common dandelion: 46.43% (13/28)\n",
      "Test Accuracy of petunia: 50.00% ( 5/10)\n",
      "Test Accuracy of wild pansy: 0.00% ( 0/ 9)\n",
      "Test Accuracy of primula: 70.00% ( 7/10)\n",
      "Test Accuracy of sunflower: 62.50% ( 5/ 8)\n",
      "Test Accuracy of pelargonium: 100.00% ( 9/ 9)\n",
      "Test Accuracy of bishop of llandaff: 50.00% ( 3/ 6)\n",
      "Test Accuracy of gaura: 92.86% (13/14)\n",
      "Test Accuracy of geranium: 50.00% ( 2/ 4)\n",
      "Test Accuracy of orange dahlia: 0.00% ( 0/ 1)\n",
      "Test Accuracy of pink-yellow dahlia: 71.43% (10/14)\n",
      "Test Accuracy of cautleya spicata: 66.67% ( 4/ 6)\n",
      "Test Accuracy of japanese anemone: 0.00% ( 0/ 3)\n",
      "Test Accuracy of black-eyed susan: 87.50% ( 7/ 8)\n",
      "Test Accuracy of silverbush: 80.00% ( 4/ 5)\n",
      "Test Accuracy of californian poppy: 71.43% ( 5/ 7)\n",
      "Test Accuracy of osteospermum: 100.00% ( 6/ 6)\n",
      "Test Accuracy of spring crocus: 0.00% ( 0/ 2)\n",
      "Test Accuracy of bearded iris: 62.50% ( 5/ 8)\n",
      "Test Accuracy of windflower: 20.00% ( 1/ 5)\n",
      "Test Accuracy of tree poppy: 0.00% ( 0/ 1)\n",
      "Test Accuracy of gazania: 71.43% ( 5/ 7)\n",
      "Test Accuracy of azalea: 60.00% ( 3/ 5)\n",
      "Test Accuracy of water lily: 50.00% ( 4/ 8)\n",
      "Test Accuracy of  rose: 31.58% ( 6/19)\n",
      "Test Accuracy of thorn apple: 40.00% ( 6/15)\n",
      "Test Accuracy of morning glory: 83.33% (10/12)\n",
      "Test Accuracy of passion flower: 50.00% (10/20)\n",
      "Test Accuracy of lotus lotus: 76.19% (16/21)\n",
      "Test Accuracy of toad lily: 81.82% ( 9/11)\n",
      "Test Accuracy of anthurium: 25.00% ( 1/ 4)\n",
      "Test Accuracy of frangipani: 80.00% ( 4/ 5)\n",
      "Test Accuracy of clematis: 16.67% ( 2/12)\n",
      "Test Accuracy of hibiscus: 61.11% (11/18)\n",
      "Test Accuracy of columbine: 7.69% ( 1/13)\n",
      "Test Accuracy of desert-rose: 30.77% ( 4/13)\n",
      "Test Accuracy of tree mallow: 20.00% ( 2/10)\n",
      "Test Accuracy of magnolia: 0.00% ( 0/ 5)\n",
      "Test Accuracy of cyclamen: 20.00% ( 1/ 5)\n",
      "Test Accuracy of watercress: 83.33% ( 5/ 6)\n",
      "Test Accuracy of canna lily: 44.00% (11/25)\n",
      "Test Accuracy of hippeastrum: 68.75% (11/16)\n",
      "Test Accuracy of bee balm: 66.67% ( 2/ 3)\n",
      "Test Accuracy of ball moss: 0.00% ( 0/ 2)\n",
      "Test Accuracy of foxglove: 11.11% ( 1/ 9)\n",
      "Test Accuracy of bougainvillea: 50.00% ( 1/ 2)\n",
      "Test Accuracy of camellia: 0.00% ( 0/ 6)\n",
      "Test Accuracy of mallow: 50.00% ( 7/14)\n",
      "Test Accuracy of mexican petunia: 30.77% ( 4/13)\n",
      "Test Accuracy of bromelia: 10.00% ( 1/10)\n",
      "Test Accuracy of blanket flower: 14.29% ( 1/ 7)\n",
      "Test Accuracy of trumpet creeper: 60.00% ( 6/10)\n",
      "Test Accuracy of blackberry lily: 33.33% ( 2/ 6)\n",
      "\n",
      "Test Accuracy (Overall): 45.72% (374/818)\n"
     ]
    }
   ],
   "source": [
    "for i in range(len(class_total)):\n",
    "    if class_total[i] > 0:\n",
    "        print('Test Accuracy of %5s: %.2f%% (%2d/%2d)' % (\n",
    "            cat_to_name[str(i+1)], 100 * class_correct[i] / class_total[i],\n",
    "            np.sum(class_correct[i]), np.sum(class_total[i])))\n",
    "    else:\n",
    "        print('Test Accuracy of %5s: N/A (no training examples)' % (class_total[i]))\n",
    "\n",
    "print('\\nTest Accuracy (Overall): %.2f%% (%2d/%2d)' % (\n",
    "    100. * np.sum(class_correct) / np.sum(class_total),\n",
    "    np.sum(class_correct), np.sum(class_total)))"
   ]
  },
  {
   "cell_type": "code",
   "execution_count": null,
   "metadata": {},
   "outputs": [],
   "source": []
  },
  {
   "cell_type": "code",
   "execution_count": null,
   "metadata": {},
   "outputs": [],
   "source": []
  },
  {
   "cell_type": "markdown",
   "metadata": {},
   "source": [
    "# Inference for classification\n",
    "\n",
    "Now you'll write a function to use a trained network for inference. That is, you'll pass an image into the network and predict the class of the flower in the image. Write a function called `predict` that takes an image and a model, then returns the top $K$ most likely classes along with the probabilities. It should look like \n",
    "\n",
    "```python\n",
    "probs, classes = predict(image_path, model)\n",
    "print(probs)\n",
    "print(classes)\n",
    "> [ 0.01558163  0.01541934  0.01452626  0.01443549  0.01407339]\n",
    "> ['70', '3', '45', '62', '55']\n",
    "```\n",
    "\n",
    "First you'll need to handle processing the input image such that it can be used in your network. \n",
    "\n",
    "## Image Preprocessing\n",
    "\n",
    "You'll want to use `PIL` to load the image ([documentation](https://pillow.readthedocs.io/en/latest/reference/Image.html)). It's best to write a function that preprocesses the image so it can be used as input for the model. This function should process the images in the same manner used for training. \n",
    "\n",
    "First, resize the images where the shortest side is 256 pixels, keeping the aspect ratio. This can be done with the [`thumbnail`](http://pillow.readthedocs.io/en/3.1.x/reference/Image.html#PIL.Image.Image.thumbnail) or [`resize`](http://pillow.readthedocs.io/en/3.1.x/reference/Image.html#PIL.Image.Image.thumbnail) methods. Then you'll need to crop out the center 224x224 portion of the image.\n",
    "\n",
    "Color channels of images are typically encoded as integers 0-255, but the model expected floats 0-1. You'll need to convert the values. It's easiest with a Numpy array, which you can get from a PIL image like so `np_image = np.array(pil_image)`.\n",
    "\n",
    "As before, the network expects the images to be normalized in a specific way. For the means, it's `[0.485, 0.456, 0.406]` and for the standard deviations `[0.229, 0.224, 0.225]`. You'll want to subtract the means from each color channel, then divide by the standard deviation. \n",
    "\n",
    "And finally, PyTorch expects the color channel to be the first dimension but it's the third dimension in the PIL image and Numpy array. You can reorder dimensions using [`ndarray.transpose`](https://docs.scipy.org/doc/numpy-1.13.0/reference/generated/numpy.ndarray.transpose.html). The color channel needs to be first and retain the order of the other two dimensions."
   ]
  },
  {
   "cell_type": "code",
   "execution_count": null,
   "metadata": {},
   "outputs": [],
   "source": [
    "def process_image(image):\n",
    "    ''' Scales, crops, and normalizes a PIL image for a PyTorch model,\n",
    "        returns an Numpy array\n",
    "    '''\n",
    "   \n",
    "    # TODO: Process a PIL image for use in a PyTorch model"
   ]
  },
  {
   "cell_type": "markdown",
   "metadata": {},
   "source": [
    "To check your work, the function below converts a PyTorch tensor and displays it in the notebook. If your `process_image` function works, running the output through this function should return the original image (except for the cropped out portions)."
   ]
  },
  {
   "cell_type": "code",
   "execution_count": null,
   "metadata": {},
   "outputs": [],
   "source": [
    "def imshow(image, ax=None, title=None):\n",
    "    \"\"\"Imshow for Tensor.\"\"\"\n",
    "    if ax is None:\n",
    "        fig, ax = plt.subplots()\n",
    "    \n",
    "    # PyTorch tensors assume the color channel is the first dimension\n",
    "    # but matplotlib assumes is the third dimension\n",
    "    image = image.numpy().transpose((1, 2, 0))\n",
    "    \n",
    "    # Undo preprocessing\n",
    "    mean = np.array([0.485, 0.456, 0.406])\n",
    "    std = np.array([0.229, 0.224, 0.225])\n",
    "    image = std * image + mean\n",
    "    \n",
    "    # Image needs to be clipped between 0 and 1 or it looks like noise when displayed\n",
    "    image = np.clip(image, 0, 1)\n",
    "    \n",
    "    ax.imshow(image)\n",
    "    \n",
    "    return ax"
   ]
  },
  {
   "cell_type": "markdown",
   "metadata": {},
   "source": [
    "## Class Prediction\n",
    "\n",
    "Once you can get images in the correct format, it's time to write a function for making predictions with your model. A common practice is to predict the top 5 or so (usually called top-$K$) most probable classes. You'll want to calculate the class probabilities then find the $K$ largest values.\n",
    "\n",
    "To get the top $K$ largest values in a tensor use [`x.topk(k)`](http://pytorch.org/docs/master/torch.html#torch.topk). This method returns both the highest `k` probabilities and the indices of those probabilities corresponding to the classes. You need to convert from these indices to the actual class labels using `class_to_idx` which hopefully you added to the model or from an `ImageFolder` you used to load the data ([see here](#Save-the-checkpoint)). Make sure to invert the dictionary so you get a mapping from index to class as well.\n",
    "\n",
    "Again, this method should take a path to an image and a model checkpoint, then return the probabilities and classes.\n",
    "\n",
    "```python\n",
    "probs, classes = predict(image_path, model)\n",
    "print(probs)\n",
    "print(classes)\n",
    "> [ 0.01558163  0.01541934  0.01452626  0.01443549  0.01407339]\n",
    "> ['70', '3', '45', '62', '55']\n",
    "```"
   ]
  },
  {
   "cell_type": "code",
   "execution_count": null,
   "metadata": {},
   "outputs": [],
   "source": [
    "def predict(image_path, model, topk=5):\n",
    "    ''' Predict the class (or classes) of an image using a trained deep learning model.\n",
    "    '''\n",
    "    files = glob.glob(image_path)\n",
    "    for file in files:\n",
    "        im = Image.open(file)\n",
    "#         print(im.size)\n",
    "        width, height = im.size\n",
    "        width_array.append(width)\n",
    "        height_array.append(height)\n",
    "    image = \n",
    "    # TODO: Implement the code to predict the class from an image file"
   ]
  },
  {
   "cell_type": "markdown",
   "metadata": {},
   "source": [
    "## Sanity Checking\n",
    "\n",
    "Now that you can use a trained model for predictions, check to make sure it makes sense. Even if the validation accuracy is high, it's always good to check that there aren't obvious bugs. Use `matplotlib` to plot the probabilities for the top 5 classes as a bar graph, along with the input image. It should look like this:\n",
    "\n",
    "<img src='assets/inference_example.png' width=300px>\n",
    "\n",
    "You can convert from the class integer encoding to actual flower names with the `cat_to_name.json` file (should have been loaded earlier in the notebook). To show a PyTorch tensor as an image, use the `imshow` function defined above."
   ]
  },
  {
   "cell_type": "code",
   "execution_count": null,
   "metadata": {},
   "outputs": [],
   "source": [
    "# TODO: Display an image along with the top 5 classes"
   ]
  },
  {
   "cell_type": "code",
   "execution_count": null,
   "metadata": {},
   "outputs": [],
   "source": [
    "torch.cuda.empty_cache()\n"
   ]
  }
 ],
 "metadata": {
  "kernelspec": {
   "display_name": "Python 3",
   "language": "python",
   "name": "python3"
  },
  "language_info": {
   "codemirror_mode": {
    "name": "ipython",
    "version": 3
   },
   "file_extension": ".py",
   "mimetype": "text/x-python",
   "name": "python",
   "nbconvert_exporter": "python",
   "pygments_lexer": "ipython3",
   "version": "3.6.1"
  }
 },
 "nbformat": 4,
 "nbformat_minor": 2
}
