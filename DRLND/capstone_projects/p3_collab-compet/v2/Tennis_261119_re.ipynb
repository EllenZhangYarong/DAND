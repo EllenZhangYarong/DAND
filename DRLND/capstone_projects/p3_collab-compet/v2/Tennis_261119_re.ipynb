{
 "cells": [
  {
   "cell_type": "markdown",
   "metadata": {},
   "source": [
    "# Collaboration and Competition\n",
    "\n",
    "---\n",
    "\n",
    "In this notebook, you will learn how to use the Unity ML-Agents environment for the third project of the [Deep Reinforcement Learning Nanodegree](https://www.udacity.com/course/deep-reinforcement-learning-nanodegree--nd893) program.\n",
    "\n",
    "### 1. Start the Environment\n",
    "\n",
    "We begin by importing the necessary packages.  If the code cell below returns an error, please revisit the project instructions to double-check that you have installed [Unity ML-Agents](https://github.com/Unity-Technologies/ml-agents/blob/master/docs/Installation.md) and [NumPy](http://www.numpy.org/)."
   ]
  },
  {
   "cell_type": "code",
   "execution_count": 1,
   "metadata": {},
   "outputs": [],
   "source": [
    "from unityagents import UnityEnvironment\n",
    "\n",
    "import numpy as np\n",
    "import random\n",
    "import time\n",
    "import torch\n",
    "from collections import deque\n",
    "\n",
    "import matplotlib.pyplot as plt\n",
    "%matplotlib inline"
   ]
  },
  {
   "cell_type": "markdown",
   "metadata": {},
   "source": [
    "Next, we will start the environment!  **_Before running the code cell below_**, change the `file_name` parameter to match the location of the Unity environment that you downloaded.\n",
    "\n",
    "- **Mac**: `\"path/to/Tennis.app\"`\n",
    "- **Windows** (x86): `\"path/to/Tennis_Windows_x86/Tennis.exe\"`\n",
    "- **Windows** (x86_64): `\"path/to/Tennis_Windows_x86_64/Tennis.exe\"`\n",
    "- **Linux** (x86): `\"path/to/Tennis_Linux/Tennis.x86\"`\n",
    "- **Linux** (x86_64): `\"path/to/Tennis_Linux/Tennis.x86_64\"`\n",
    "- **Linux** (x86, headless): `\"path/to/Tennis_Linux_NoVis/Tennis.x86\"`\n",
    "- **Linux** (x86_64, headless): `\"path/to/Tennis_Linux_NoVis/Tennis.x86_64\"`\n",
    "\n",
    "For instance, if you are using a Mac, then you downloaded `Tennis.app`.  If this file is in the same folder as the notebook, then the line below should appear as follows:\n",
    "```\n",
    "env = UnityEnvironment(file_name=\"Tennis.app\")\n",
    "```"
   ]
  },
  {
   "cell_type": "code",
   "execution_count": 2,
   "metadata": {},
   "outputs": [
    {
     "name": "stderr",
     "output_type": "stream",
     "text": [
      "INFO:unityagents:\n",
      "'Academy' started successfully!\n",
      "Unity Academy name: Academy\n",
      "        Number of Brains: 1\n",
      "        Number of External Brains : 1\n",
      "        Lesson number : 0\n",
      "        Reset Parameters :\n",
      "\t\t\n",
      "Unity brain name: TennisBrain\n",
      "        Number of Visual Observations (per agent): 0\n",
      "        Vector Observation space type: continuous\n",
      "        Vector Observation space size (per agent): 8\n",
      "        Number of stacked Vector Observation: 3\n",
      "        Vector Action space type: continuous\n",
      "        Vector Action space size (per agent): 2\n",
      "        Vector Action descriptions: , \n"
     ]
    }
   ],
   "source": [
    "env = UnityEnvironment(file_name=\"Tennis_Windows_x86_64/Tennis.exe\")"
   ]
  },
  {
   "cell_type": "markdown",
   "metadata": {},
   "source": [
    "Environments contain **_brains_** which are responsible for deciding the actions of their associated agents. Here we check for the first brain available, and set it as the default brain we will be controlling from Python."
   ]
  },
  {
   "cell_type": "code",
   "execution_count": 3,
   "metadata": {},
   "outputs": [],
   "source": [
    "# get the default brain\n",
    "brain_name = env.brain_names[0]\n",
    "brain = env.brains[brain_name]"
   ]
  },
  {
   "cell_type": "markdown",
   "metadata": {},
   "source": [
    "### 2. Examine the State and Action Spaces\n",
    "\n",
    "In this environment, two agents control rackets to bounce a ball over a net. If an agent hits the ball over the net, it receives a reward of +0.1.  If an agent lets a ball hit the ground or hits the ball out of bounds, it receives a reward of -0.01.  Thus, the goal of each agent is to keep the ball in play.\n",
    "\n",
    "The observation space consists of 8 variables corresponding to the position and velocity of the ball and racket. Two continuous actions are available, corresponding to movement toward (or away from) the net, and jumping. \n",
    "\n",
    "Run the code cell below to print some information about the environment."
   ]
  },
  {
   "cell_type": "code",
   "execution_count": 4,
   "metadata": {},
   "outputs": [
    {
     "name": "stdout",
     "output_type": "stream",
     "text": [
      "Number of agents: 2\n",
      "Size of each action: 2\n",
      "There are 2 agents. Each observes a state with length: 24\n",
      "The state for the first agent looks like: [ 0.          0.          0.          0.          0.          0.\n",
      "  0.          0.          0.          0.          0.          0.\n",
      "  0.          0.          0.          0.         -6.65278625 -1.5\n",
      " -0.          0.          6.83172083  6.         -0.          0.        ]\n"
     ]
    }
   ],
   "source": [
    "# reset the environment\n",
    "env_info = env.reset(train_mode=True)[brain_name]\n",
    "\n",
    "# number of agents \n",
    "num_agents = len(env_info.agents)\n",
    "print('Number of agents:', num_agents)\n",
    "\n",
    "# size of each action\n",
    "action_size = brain.vector_action_space_size\n",
    "print('Size of each action:', action_size)\n",
    "\n",
    "# examine the state space \n",
    "states = env_info.vector_observations\n",
    "state_size = states.shape[1]\n",
    "print('There are {} agents. Each observes a state with length: {}'.format(states.shape[0], state_size))\n",
    "print('The state for the first agent looks like:', states[0])"
   ]
  },
  {
   "cell_type": "markdown",
   "metadata": {},
   "source": [
    "### 3. Take Random Actions in the Environment\n",
    "\n",
    "In the next code cell, you will learn how to use the Python API to control the agents and receive feedback from the environment.\n",
    "\n",
    "Once this cell is executed, you will watch the agents' performance, if they select actions at random with each time step.  A window should pop up that allows you to observe the agents.\n",
    "\n",
    "Of course, as part of the project, you'll have to change the code so that the agents are able to use their experiences to gradually choose better actions when interacting with the environment!"
   ]
  },
  {
   "cell_type": "code",
   "execution_count": 5,
   "metadata": {},
   "outputs": [
    {
     "name": "stdout",
     "output_type": "stream",
     "text": [
      "Score (max over agents) from episode 1: 0.0\n",
      "Score (max over agents) from episode 2: 0.0\n",
      "Score (max over agents) from episode 3: 0.0\n",
      "Score (max over agents) from episode 4: 0.0\n",
      "Score (max over agents) from episode 5: 0.10000000149011612\n"
     ]
    }
   ],
   "source": [
    "for i in range(1, 6):                                      # play game for 5 episodes\n",
    "    env_info = env.reset(train_mode=False)[brain_name]     # reset the environment    \n",
    "    states = env_info.vector_observations                  # get the current state (for each agent)\n",
    "    scores = np.zeros(num_agents)                          # initialize the score (for each agent)\n",
    "    while True:\n",
    "        actions = np.random.randn(num_agents, action_size) # select an action (for each agent)\n",
    "        actions = np.clip(actions, -1, 1)                  # all actions between -1 and 1\n",
    "        env_info = env.step(actions)[brain_name]           # send all actions to tne environment\n",
    "        next_states = env_info.vector_observations         # get next state (for each agent)\n",
    "        rewards = env_info.rewards                         # get reward (for each agent)\n",
    "        dones = env_info.local_done                        # see if episode finished\n",
    "        scores += env_info.rewards                         # update the score (for each agent)\n",
    "        states = next_states                               # roll over states to next time step\n",
    "        if np.any(dones):                                  # exit loop if episode finished\n",
    "            break\n",
    "    print('Score (max over agents) from episode {}: {}'.format(i, np.max(scores)))"
   ]
  },
  {
   "cell_type": "markdown",
   "metadata": {},
   "source": [
    "### 4. It's Your Turn!\n",
    "\n",
    "Now it's your turn to train your own agent to solve the environment!  When training the environment, set `train_mode=True`, so that the line for resetting the environment looks like the following:\n",
    "```python\n",
    "env_info = env.reset(train_mode=True)[brain_name]\n",
    "```"
   ]
  },
  {
   "cell_type": "markdown",
   "metadata": {},
   "source": [
    "### 4.1 Training"
   ]
  },
  {
   "cell_type": "code",
   "execution_count": 6,
   "metadata": {},
   "outputs": [],
   "source": [
    "from maddpg_agent import MAgent"
   ]
  },
  {
   "cell_type": "code",
   "execution_count": 7,
   "metadata": {},
   "outputs": [],
   "source": [
    "# DDPG\n",
    "\n",
    "def maddpg(n_episodes=4000, print_every=10):\n",
    "    \"\"\"Deep Deterministic Policy Gradient (DDPG)\n",
    "    \n",
    "    Params\n",
    "    ======\n",
    "        n_episodes  (int)   : maximum number of training episodes\n",
    "        max_t       (int)   : maximum number of timesteps per episode\n",
    "        print_every (int)   : interval to display results\n",
    "\n",
    "    \"\"\"\n",
    "    means_scores = []                              # list of means of moving\n",
    "    scores_window = deque(maxlen=100)              # mean scores from most recent 100 episodes\n",
    "    total_scores = []\n",
    "    \n",
    "    for i_episode in range(1, n_episodes+1):\n",
    "        env_info = env.reset(train_mode=True)[brain_name]       # reset environment\n",
    "        states = env_info.vector_observations                   # get the current state (for each agent)      \n",
    "        scores = np.zeros(num_agents)                           # initialize the score (for each agent)\n",
    "        \n",
    "        magent.reset()\n",
    "        \n",
    "        start = time.time()\n",
    "        \n",
    "        while True:\n",
    "            actions = magent.act(states)         # select an action (for each agent)\n",
    "            env_info = env.step(actions)[brain_name]            # send all actions to tne environment\n",
    "            next_states = env_info.vector_observations          # get next state (for each agent)\n",
    "            rewards = env_info.rewards                          # get reward (for each agent)\n",
    "            dones = env_info.local_done                         # see if episode finished\n",
    "            \n",
    "            # save experience to replay buffer, perform learning step at defined interval\n",
    "            magent.step(states, actions, rewards, next_states, dones)  \n",
    "            \n",
    "            states = next_states                                # roll over states to next time step\n",
    "            scores += rewards                                   # update the score (for each agent)\n",
    "            \n",
    "            if np.any(dones):                                   # exit loop if episode finished\n",
    "                break\n",
    "                \n",
    "        end = time.time()\n",
    "        duration = end - start\n",
    "        \n",
    "        max_score= np.max(scores)          # save mean score for the episode\n",
    "        total_scores.append(max_score)\n",
    "        scores_window.append(max_score)             # save mean score to window\n",
    "        means_scores.append(np.mean(scores_window))    # save moving average\n",
    "                \n",
    "        if i_episode % print_every == 0:\n",
    "            print('\\rEpisode {} ({}s)\\tMax: {:.4f}\\tMean of scores: {:.4f}'.format(\\\n",
    "                  i_episode, round(duration), max_score, means_scores[-1]))\n",
    "                  \n",
    "        if means_scores[-1] >= 0.5:\n",
    "            print('\\nEnvironment solved in {:d} episodes!\\tAverage Score: {:.2f}'.format(i_episode, means_scores[-1]))            \n",
    "            torch.save(magent.ddpg_agents[0].actor_local.state_dict(), 'checkpoint_actor_26.pth')\n",
    "            torch.save(magent.ddpg_agents[0].critic_local.state_dict(), 'checkpoint_critic_26.pth')\n",
    "            break\n",
    "            \n",
    "    return total_scores, means_scores"
   ]
  },
  {
   "cell_type": "code",
   "execution_count": 8,
   "metadata": {
    "scrolled": false
   },
   "outputs": [
    {
     "name": "stdout",
     "output_type": "stream",
     "text": [
      "ma shared_memory ->  <ddpg_agent.ReplayBuffer object at 0x000001BE8B7DCAC8>\n",
      "ddpg Agent ->  <ddpg_agent.ReplayBuffer object at 0x000001BE8B7DCAC8>\n",
      "ddpg Agent ->  <ddpg_agent.ReplayBuffer object at 0x000001BE8B7DCAC8>\n",
      "Episode 10 (0s)\tMax: 0.0000\tMean of scores: 0.0000\n",
      "Episode 20 (0s)\tMax: 0.0000\tMean of scores: 0.0000\n",
      "Episode 30 (0s)\tMax: 0.0000\tMean of scores: 0.0000\n",
      "Episode 40 (0s)\tMax: 0.0000\tMean of scores: 0.0000\n",
      "Episode 50 (0s)\tMax: 0.0000\tMean of scores: 0.0000\n",
      "Episode 60 (0s)\tMax: 0.0000\tMean of scores: 0.0017\n",
      "Episode 70 (0s)\tMax: 0.0000\tMean of scores: 0.0014\n",
      "Episode 80 (1s)\tMax: 0.0000\tMean of scores: 0.0024\n",
      "Episode 90 (0s)\tMax: 0.0000\tMean of scores: 0.0021\n",
      "Episode 100 (0s)\tMax: 0.0000\tMean of scores: 0.0039\n",
      "Episode 110 (0s)\tMax: 0.0000\tMean of scores: 0.0039\n",
      "Episode 120 (0s)\tMax: 0.0000\tMean of scores: 0.0058\n",
      "Episode 130 (0s)\tMax: 0.0000\tMean of scores: 0.0058\n",
      "Episode 140 (1s)\tMax: 0.1000\tMean of scores: 0.0068\n",
      "Episode 150 (0s)\tMax: 0.0000\tMean of scores: 0.0108\n",
      "Episode 160 (1s)\tMax: 0.1000\tMean of scores: 0.0145\n",
      "Episode 170 (0s)\tMax: 0.0000\tMean of scores: 0.0194\n",
      "Episode 180 (1s)\tMax: 0.1000\tMean of scores: 0.0265\n",
      "Episode 190 (1s)\tMax: 0.0900\tMean of scores: 0.0363\n",
      "Episode 200 (0s)\tMax: 0.0000\tMean of scores: 0.0392\n",
      "Episode 210 (0s)\tMax: 0.0000\tMean of scores: 0.0470\n",
      "Episode 220 (1s)\tMax: 0.1000\tMean of scores: 0.0519\n",
      "Episode 230 (1s)\tMax: 0.1000\tMean of scores: 0.0608\n",
      "Episode 240 (1s)\tMax: 0.0900\tMean of scores: 0.0707\n",
      "Episode 250 (1s)\tMax: 0.1000\tMean of scores: 0.0966\n",
      "Episode 260 (1s)\tMax: 0.1000\tMean of scores: 0.1239\n",
      "Episode 270 (5s)\tMax: 0.5000\tMean of scores: 0.1729\n",
      "Episode 280 (2s)\tMax: 0.1900\tMean of scores: 0.2718\n",
      "Episode 290 (18s)\tMax: 1.9000\tMean of scores: 0.4699\n",
      "\n",
      "Environment solved in 293 episodes!\tAverage Score: 0.51\n"
     ]
    }
   ],
   "source": [
    "# training loop\n",
    "start = time.time()\n",
    "magent = MAgent(state_size=state_size, action_size=action_size, num_agents=num_agents, random_seed=2, shared_replay_buffer=True)\n",
    "total_scores, means_scores = maddpg()\n",
    "end = time.time()"
   ]
  },
  {
   "cell_type": "code",
   "execution_count": 9,
   "metadata": {},
   "outputs": [
    {
     "name": "stdout",
     "output_type": "stream",
     "text": [
      "\n",
      "Elapsed Time: 9.86 mins.\n"
     ]
    }
   ],
   "source": [
    "elapsed = (end - start) / 60.0 # in minutes\n",
    "print(\"\\nElapsed Time: {0:3.2f} mins.\".format(elapsed))"
   ]
  },
  {
   "cell_type": "code",
   "execution_count": 10,
   "metadata": {},
   "outputs": [
    {
     "data": {
      "image/png": "[encoded data removed]",
      "text/plain": [
       "<Figure size 432x288 with 1 Axes>"
      ]
     },
     "metadata": {
      "needs_background": "light"
     },
     "output_type": "display_data"
    }
   ],
   "source": [
    "import matplotlib.pyplot as plt\n",
    "%matplotlib inline\n",
    "\n",
    "fig = plt.figure()\n",
    "ax = fig.add_subplot(111)\n",
    "plt.plot(np.arange(1, len(total_scores)+1), total_scores)\n",
    "plt.plot(np.arange(1, len(total_scores)+1), means_scores)\n",
    "\n",
    "plt.ylabel('Score')\n",
    "plt.xlabel('Episode #')\n",
    "plt.savefig('./images/training.png')\n",
    "plt.show()"
   ]
  },
  {
   "cell_type": "markdown",
   "metadata": {},
   "source": [
    "### 4.2 Test"
   ]
  },
  {
   "cell_type": "code",
   "execution_count": 11,
   "metadata": {},
   "outputs": [
    {
     "name": "stdout",
     "output_type": "stream",
     "text": [
      "ma shared_memory ->  <ddpg_agent.ReplayBuffer object at 0x000001BF04146DD8>\n",
      "ddpg Agent ->  <ddpg_agent.ReplayBuffer object at 0x000001BF04146DD8>\n",
      "ddpg Agent ->  <ddpg_agent.ReplayBuffer object at 0x000001BF04146DD8>\n",
      "Test -> Episode 1 : Max Score :0.10\n",
      "Test -> Episode 2 : Max Score :0.00\n",
      "Test -> Episode 3 : Max Score :0.10\n",
      "Test -> Episode 4 : Max Score :0.09\n",
      "Test -> Episode 5 : Max Score :0.09\n",
      "Test -> Episode 6 : Max Score :0.10\n",
      "Test -> Episode 7 : Max Score :0.10\n",
      "Test -> Episode 8 : Max Score :0.00\n",
      "Test -> Episode 9 : Max Score :0.09\n",
      "Test -> Episode 10 : Max Score :0.10\n"
     ]
    }
   ],
   "source": [
    "from model import Actor\n",
    "\n",
    "array_scores = []\n",
    "\n",
    "agent = MAgent(state_size=state_size, action_size=action_size, num_agents=num_agents, random_seed=0, shared_replay_buffer=True)\n",
    "\n",
    "agent.ddpg_agents[0].actor_local = Actor(state_size, action_size, 0).to('cuda')\n",
    "agent.ddpg_agents[0].actor_local.load_state_dict(torch.load('checkpoint_actor_26.pth'))\n",
    "agent.ddpg_agents[1].actor_local = Actor(state_size, action_size, 0).to('cuda')\n",
    "agent.ddpg_agents[1].actor_local.load_state_dict(torch.load('checkpoint_actor_26.pth'))\n",
    "\n",
    "\n",
    "for i in range(1, 11):\n",
    "    env_info = env.reset(train_mode=False)[brain_name]     # reset the environment    \n",
    "    states = env_info.vector_observations                  # get the current state (for each agent)\n",
    "    scores = np.zeros(num_agents)                          # initialize the score (for each agent)\n",
    "    while True:\n",
    "        actions = agent.act(states) \n",
    "        env_info = env.step(actions)[brain_name]           # send all actions to tne environment\n",
    "        next_states = env_info.vector_observations         # get next state (for each agent)\n",
    "        rewards = env_info.rewards                         # get reward (for each agent)\n",
    "        dones = env_info.local_done                        # see if episode finished\n",
    "        scores += env_info.rewards                         # update the score (for each agent)\n",
    "        states = next_states                               # roll over states to next time step\n",
    "        \n",
    "        if np.any(dones):                                  # exit loop if episode finished\n",
    "            break\n",
    "            \n",
    "    array_scores.append(scores)  \n",
    "    \n",
    "    print('\\rTest -> Episode {} : Max Score :{:.2f}'.format(i , np.max(scores)))"
   ]
  },
  {
   "cell_type": "code",
   "execution_count": null,
   "metadata": {},
   "outputs": [],
   "source": []
  },
  {
   "cell_type": "code",
   "execution_count": 12,
   "metadata": {},
   "outputs": [
    {
     "data": {
      "image/png": "[encoded data removed]",
      "text/plain": [
       "<Figure size 432x288 with 1 Axes>"
      ]
     },
     "metadata": {
      "needs_background": "light"
     },
     "output_type": "display_data"
    }
   ],
   "source": [
    "# plot the scores\n",
    "fig = plt.figure()\n",
    "ax = fig.add_subplot(111)\n",
    "plt.plot(np.arange(len(array_scores)), array_scores)\n",
    "plt.ylabel('Score')\n",
    "plt.xlabel('Episode #')\n",
    "plt.savefig('./images/testing_score.png')\n",
    "\n",
    "plt.show()"
   ]
  },
  {
   "cell_type": "markdown",
   "metadata": {},
   "source": [
    "When finished, you can close the environment."
   ]
  },
  {
   "cell_type": "code",
   "execution_count": 13,
   "metadata": {},
   "outputs": [],
   "source": [
    "env.close()"
   ]
  },
  {
   "cell_type": "code",
   "execution_count": null,
   "metadata": {},
   "outputs": [],
   "source": []
  },
  {
   "cell_type": "markdown",
   "metadata": {},
   "source": [
    "```\n",
    "UPDATE_EVERY = 2        \n",
    "BUFFER_SIZE = int(2e5)  # replay buffer size\n",
    "BATCH_SIZE = 512        # minibatch size\n",
    "GAMMA = 0.99            # discount factor\n",
    "TAU = 0.3              # for soft update of target parameters\n",
    "LR_ACTOR = 5e-4         # learning rate of the actor \n",
    "LR_CRITIC = 5e-4        # learning rate of the critic\n",
    "WEIGHT_DECAY = 0        # L2 weight decay\n",
    "LEARN_EVERY = 20        # learning timestep interval\n",
    "LEARN_NUM = 10          # number of learning passes\n",
    "OU_SIGMA = 0.2          # Ornstein-Uhlenbeck noise parameter\n",
    "OU_THETA = 0.15         # Ornstein-Uhlenbeck noise parameter\n",
    "EPSILON = 1.0           # explore->exploit noise process added to act step\n",
    "EPSILON_DECAY = 1e-6    # decay rate for noise process\n",
    "GRAD_CLIPPING = 1.0     # Gradient Clipping\n",
    "\n",
    "```"
   ]
  },
  {
   "cell_type": "code",
   "execution_count": null,
   "metadata": {},
   "outputs": [],
   "source": []
  }
 ],
 "metadata": {
  "kernelspec": {
   "display_name": "Python 3",
   "language": "python",
   "name": "python3"
  },
  "language_info": {
   "codemirror_mode": {
    "name": "ipython",
    "version": 3
   },
   "file_extension": ".py",
   "mimetype": "text/x-python",
   "name": "python",
   "nbconvert_exporter": "python",
   "pygments_lexer": "ipython3",
   "version": "3.6.9"
  }
 },
 "nbformat": 4,
 "nbformat_minor": 2
}
